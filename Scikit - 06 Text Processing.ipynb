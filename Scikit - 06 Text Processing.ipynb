{
 "cells": [
  {
   "cell_type": "code",
   "execution_count": 1,
   "metadata": {},
   "outputs": [],
   "source": [
    "import pandas as pd # Used for dataframe functions\n",
    "import json # parse json string\n",
    "import nltk # Natural language toolkit for TDIDF etc.\n",
    "from bs4 import BeautifulSoup # Parse html string .. to extract text\n",
    "import re # Regex parser \n",
    "import numpy as np # Linear algebbra \n",
    "from sklearn import * # machine learning\n",
    "import matplotlib.pyplot as plt # Visualization\n",
    "from wordcloud import WordCloud # Word cloud visualization\n",
    "import scipy #Sparse matrix \n",
    "\n",
    "np.set_printoptions(precision=4)\n",
    "pd.options.display.max_columns = 1000\n",
    "pd.options.display.max_rows = 10\n",
    "pd.options.display.float_format = lambda f: \"%.4f\" % f\n",
    "\n",
    "%matplotlib inline "
   ]
  },
  {
   "cell_type": "markdown",
   "metadata": {},
   "source": [
    "Run the following line when you run this notebook first time."
   ]
  },
  {
   "cell_type": "code",
   "execution_count": 2,
   "metadata": {},
   "outputs": [],
   "source": [
    "# nltk.download(\"punkt\")\n",
    "# nltk.download(\"stopwords\")\n",
    "# nltk.download(\"wordnet\")\n",
    "# nltk.download('averaged_perceptron_tagger')"
   ]
  },
  {
   "cell_type": "code",
   "execution_count": 3,
   "metadata": {},
   "outputs": [
    {
     "name": "stdout",
     "output_type": "stream",
     "text": [
      "3.4\n"
     ]
    }
   ],
   "source": [
    "print(nltk.__version__)"
   ]
  },
  {
   "cell_type": "code",
   "execution_count": 4,
   "metadata": {},
   "outputs": [],
   "source": [
    "sentence = \"\"\"European authorities fined Google a record $5.1 billion on Wednesday for \n",
    "abusing its power in the mobile phone market and ordered the company to alter its practices\"\"\""
   ]
  },
  {
   "cell_type": "code",
   "execution_count": 5,
   "metadata": {},
   "outputs": [
    {
     "data": {
      "text/plain": [
       "['European',\n",
       " 'authorities',\n",
       " 'fined',\n",
       " 'Google',\n",
       " 'a',\n",
       " 'record',\n",
       " '$',\n",
       " '5.1',\n",
       " 'billion',\n",
       " 'on',\n",
       " 'Wednesday',\n",
       " 'for',\n",
       " 'abusing',\n",
       " 'its',\n",
       " 'power',\n",
       " 'in',\n",
       " 'the',\n",
       " 'mobile',\n",
       " 'phone',\n",
       " 'market',\n",
       " 'and',\n",
       " 'ordered',\n",
       " 'the',\n",
       " 'company',\n",
       " 'to',\n",
       " 'alter',\n",
       " 'its',\n",
       " 'practices']"
      ]
     },
     "execution_count": 5,
     "metadata": {},
     "output_type": "execute_result"
    }
   ],
   "source": [
    "nltk.word_tokenize(sentence)"
   ]
  },
  {
   "cell_type": "code",
   "execution_count": 6,
   "metadata": {},
   "outputs": [
    {
     "data": {
      "text/plain": [
       "[('European', 'JJ'),\n",
       " ('authorities', 'NNS'),\n",
       " ('fined', 'VBD'),\n",
       " ('Google', 'NNP'),\n",
       " ('a', 'DT'),\n",
       " ('record', 'NN'),\n",
       " ('$', '$'),\n",
       " ('5.1', 'CD'),\n",
       " ('billion', 'CD'),\n",
       " ('on', 'IN'),\n",
       " ('Wednesday', 'NNP'),\n",
       " ('for', 'IN'),\n",
       " ('abusing', 'VBG'),\n",
       " ('its', 'PRP$'),\n",
       " ('power', 'NN'),\n",
       " ('in', 'IN'),\n",
       " ('the', 'DT'),\n",
       " ('mobile', 'JJ'),\n",
       " ('phone', 'NN'),\n",
       " ('market', 'NN'),\n",
       " ('and', 'CC'),\n",
       " ('ordered', 'VBD'),\n",
       " ('the', 'DT'),\n",
       " ('company', 'NN'),\n",
       " ('to', 'TO'),\n",
       " ('alter', 'VB'),\n",
       " ('its', 'PRP$'),\n",
       " ('practices', 'NNS')]"
      ]
     },
     "execution_count": 6,
     "metadata": {},
     "output_type": "execute_result"
    }
   ],
   "source": [
    "nltk.pos_tag(nltk.word_tokenize(sentence))"
   ]
  },
  {
   "cell_type": "markdown",
   "metadata": {},
   "source": [
    "### POS Tag description\n",
    "```\n",
    "CC coordinating conjunction\n",
    "CD cardinal digit\n",
    "DT determiner (the)\n",
    "EX existential there (like: “there is” … think of it like “there exists”)\n",
    "FW foreign word\n",
    "IN preposition/subordinating conjunction\n",
    "JJ adjective ‘big’\n",
    "JJR adjective, comparative ‘bigger’\n",
    "JJS adjective, superlative ‘biggest’\n",
    "LS list marker 1)\n",
    "MD modal could, will\n",
    "NN noun, singular ‘desk’\n",
    "NNS noun plural ‘desks’\n",
    "NNP proper noun, singular ‘Harrison’\n",
    "NNPS proper noun, plural ‘Americans’\n",
    "PDT predeterminer ‘all the kids’\n",
    "POS possessive ending parent’s\n",
    "PRP personal pronoun I, he, she\n",
    "PRP$ possessive pronoun my, his, hers\n",
    "RB adverb very, silently,\n",
    "RBR adverb, comparative better\n",
    "RBS adverb, superlative best\n",
    "RP particle give up\n",
    "TO, to go ‘to’ the store.\n",
    "UH interjection, errrrrrrrm\n",
    "VB verb, base form take\n",
    "VBD verb, past tense took\n",
    "VBG verb, gerund/present participle taking\n",
    "VBN verb, past participle taken\n",
    "VBP verb, sing. present, non-3d take\n",
    "VBZ verb, 3rd person sing. present takes\n",
    "WDT wh-determiner which\n",
    "WP wh-pronoun who, what\n",
    "WP$ possessive wh-pronoun whose\n",
    "WRB wh-abverb where, when\n",
    "```"
   ]
  },
  {
   "cell_type": "markdown",
   "metadata": {},
   "source": [
    "# Spacy\n",
    "\n",
    "spaCy is an open-source software library for advanced Natural Language Processing, written in the programming languages Python and Cython. It is slightly more ready enterprise use cases. Its out of box POS tagger, NER analyzers are very popular. \n",
    "\n"
   ]
  },
  {
   "cell_type": "code",
   "execution_count": 7,
   "metadata": {},
   "outputs": [
    {
     "data": {
      "text/plain": [
       "[('European', 'NORP'),\n",
       " ('Google', 'ORG'),\n",
       " ('$5.1 billion', 'MONEY'),\n",
       " ('Wednesday', 'DATE')]"
      ]
     },
     "execution_count": 7,
     "metadata": {},
     "output_type": "execute_result"
    }
   ],
   "source": [
    "\"\"\"\n",
    "Install spacy\n",
    "$ pip install spacy\n",
    "\n",
    "Download en_core_web_sm module\n",
    "$ python -m spacy download en_core_web_sm\n",
    "\n",
    "\"\"\"\n",
    "\n",
    "import spacy\n",
    "from spacy import displacy\n",
    "from collections import Counter\n",
    "import en_core_web_sm\n",
    "nlp = en_core_web_sm.load()\n",
    "\n",
    "doc = nlp(sentence)\n",
    "[(X.text, X.label_) for X in doc.ents]"
   ]
  },
  {
   "cell_type": "markdown",
   "metadata": {},
   "source": [
    "Display dependency graph"
   ]
  },
  {
   "cell_type": "code",
   "execution_count": 8,
   "metadata": {},
   "outputs": [
    {
     "data": {
      "text/html": [
       "<svg xmlns=\"http://www.w3.org/2000/svg\" xmlns:xlink=\"http://www.w3.org/1999/xlink\" xml:lang=\"en\" id=\"b29d8182164f4fada03e198e2d4482c5-0\" class=\"displacy\" width=\"3530\" height=\"617.0\" direction=\"ltr\" style=\"max-width: none; height: 617.0px; color: #000000; background: #ffffff; font-family: Arial; direction: ltr\">\n",
       "<text class=\"displacy-token\" fill=\"currentColor\" text-anchor=\"middle\" y=\"527.0\">\n",
       "    <tspan class=\"displacy-word\" fill=\"currentColor\" x=\"50\">European</tspan>\n",
       "    <tspan class=\"displacy-tag\" dy=\"2em\" fill=\"currentColor\" x=\"50\">ADJ</tspan>\n",
       "</text>\n",
       "\n",
       "<text class=\"displacy-token\" fill=\"currentColor\" text-anchor=\"middle\" y=\"527.0\">\n",
       "    <tspan class=\"displacy-word\" fill=\"currentColor\" x=\"170\">authorities</tspan>\n",
       "    <tspan class=\"displacy-tag\" dy=\"2em\" fill=\"currentColor\" x=\"170\">NOUN</tspan>\n",
       "</text>\n",
       "\n",
       "<text class=\"displacy-token\" fill=\"currentColor\" text-anchor=\"middle\" y=\"527.0\">\n",
       "    <tspan class=\"displacy-word\" fill=\"currentColor\" x=\"290\">fined</tspan>\n",
       "    <tspan class=\"displacy-tag\" dy=\"2em\" fill=\"currentColor\" x=\"290\">VERB</tspan>\n",
       "</text>\n",
       "\n",
       "<text class=\"displacy-token\" fill=\"currentColor\" text-anchor=\"middle\" y=\"527.0\">\n",
       "    <tspan class=\"displacy-word\" fill=\"currentColor\" x=\"410\">Google</tspan>\n",
       "    <tspan class=\"displacy-tag\" dy=\"2em\" fill=\"currentColor\" x=\"410\">PROPN</tspan>\n",
       "</text>\n",
       "\n",
       "<text class=\"displacy-token\" fill=\"currentColor\" text-anchor=\"middle\" y=\"527.0\">\n",
       "    <tspan class=\"displacy-word\" fill=\"currentColor\" x=\"530\">a</tspan>\n",
       "    <tspan class=\"displacy-tag\" dy=\"2em\" fill=\"currentColor\" x=\"530\">DET</tspan>\n",
       "</text>\n",
       "\n",
       "<text class=\"displacy-token\" fill=\"currentColor\" text-anchor=\"middle\" y=\"527.0\">\n",
       "    <tspan class=\"displacy-word\" fill=\"currentColor\" x=\"650\">record</tspan>\n",
       "    <tspan class=\"displacy-tag\" dy=\"2em\" fill=\"currentColor\" x=\"650\">NOUN</tspan>\n",
       "</text>\n",
       "\n",
       "<text class=\"displacy-token\" fill=\"currentColor\" text-anchor=\"middle\" y=\"527.0\">\n",
       "    <tspan class=\"displacy-word\" fill=\"currentColor\" x=\"770\">$</tspan>\n",
       "    <tspan class=\"displacy-tag\" dy=\"2em\" fill=\"currentColor\" x=\"770\">SYM</tspan>\n",
       "</text>\n",
       "\n",
       "<text class=\"displacy-token\" fill=\"currentColor\" text-anchor=\"middle\" y=\"527.0\">\n",
       "    <tspan class=\"displacy-word\" fill=\"currentColor\" x=\"890\">5.1</tspan>\n",
       "    <tspan class=\"displacy-tag\" dy=\"2em\" fill=\"currentColor\" x=\"890\">NUM</tspan>\n",
       "</text>\n",
       "\n",
       "<text class=\"displacy-token\" fill=\"currentColor\" text-anchor=\"middle\" y=\"527.0\">\n",
       "    <tspan class=\"displacy-word\" fill=\"currentColor\" x=\"1010\">billion</tspan>\n",
       "    <tspan class=\"displacy-tag\" dy=\"2em\" fill=\"currentColor\" x=\"1010\">NUM</tspan>\n",
       "</text>\n",
       "\n",
       "<text class=\"displacy-token\" fill=\"currentColor\" text-anchor=\"middle\" y=\"527.0\">\n",
       "    <tspan class=\"displacy-word\" fill=\"currentColor\" x=\"1130\">on</tspan>\n",
       "    <tspan class=\"displacy-tag\" dy=\"2em\" fill=\"currentColor\" x=\"1130\">ADP</tspan>\n",
       "</text>\n",
       "\n",
       "<text class=\"displacy-token\" fill=\"currentColor\" text-anchor=\"middle\" y=\"527.0\">\n",
       "    <tspan class=\"displacy-word\" fill=\"currentColor\" x=\"1250\">Wednesday</tspan>\n",
       "    <tspan class=\"displacy-tag\" dy=\"2em\" fill=\"currentColor\" x=\"1250\">PROPN</tspan>\n",
       "</text>\n",
       "\n",
       "<text class=\"displacy-token\" fill=\"currentColor\" text-anchor=\"middle\" y=\"527.0\">\n",
       "    <tspan class=\"displacy-word\" fill=\"currentColor\" x=\"1370\">for</tspan>\n",
       "    <tspan class=\"displacy-tag\" dy=\"2em\" fill=\"currentColor\" x=\"1370\">ADP</tspan>\n",
       "</text>\n",
       "\n",
       "<text class=\"displacy-token\" fill=\"currentColor\" text-anchor=\"middle\" y=\"527.0\">\n",
       "    <tspan class=\"displacy-word\" fill=\"currentColor\" x=\"1490\">\n",
       "</tspan>\n",
       "    <tspan class=\"displacy-tag\" dy=\"2em\" fill=\"currentColor\" x=\"1490\">SPACE</tspan>\n",
       "</text>\n",
       "\n",
       "<text class=\"displacy-token\" fill=\"currentColor\" text-anchor=\"middle\" y=\"527.0\">\n",
       "    <tspan class=\"displacy-word\" fill=\"currentColor\" x=\"1610\">abusing</tspan>\n",
       "    <tspan class=\"displacy-tag\" dy=\"2em\" fill=\"currentColor\" x=\"1610\">VERB</tspan>\n",
       "</text>\n",
       "\n",
       "<text class=\"displacy-token\" fill=\"currentColor\" text-anchor=\"middle\" y=\"527.0\">\n",
       "    <tspan class=\"displacy-word\" fill=\"currentColor\" x=\"1730\">its</tspan>\n",
       "    <tspan class=\"displacy-tag\" dy=\"2em\" fill=\"currentColor\" x=\"1730\">DET</tspan>\n",
       "</text>\n",
       "\n",
       "<text class=\"displacy-token\" fill=\"currentColor\" text-anchor=\"middle\" y=\"527.0\">\n",
       "    <tspan class=\"displacy-word\" fill=\"currentColor\" x=\"1850\">power</tspan>\n",
       "    <tspan class=\"displacy-tag\" dy=\"2em\" fill=\"currentColor\" x=\"1850\">NOUN</tspan>\n",
       "</text>\n",
       "\n",
       "<text class=\"displacy-token\" fill=\"currentColor\" text-anchor=\"middle\" y=\"527.0\">\n",
       "    <tspan class=\"displacy-word\" fill=\"currentColor\" x=\"1970\">in</tspan>\n",
       "    <tspan class=\"displacy-tag\" dy=\"2em\" fill=\"currentColor\" x=\"1970\">ADP</tspan>\n",
       "</text>\n",
       "\n",
       "<text class=\"displacy-token\" fill=\"currentColor\" text-anchor=\"middle\" y=\"527.0\">\n",
       "    <tspan class=\"displacy-word\" fill=\"currentColor\" x=\"2090\">the</tspan>\n",
       "    <tspan class=\"displacy-tag\" dy=\"2em\" fill=\"currentColor\" x=\"2090\">DET</tspan>\n",
       "</text>\n",
       "\n",
       "<text class=\"displacy-token\" fill=\"currentColor\" text-anchor=\"middle\" y=\"527.0\">\n",
       "    <tspan class=\"displacy-word\" fill=\"currentColor\" x=\"2210\">mobile</tspan>\n",
       "    <tspan class=\"displacy-tag\" dy=\"2em\" fill=\"currentColor\" x=\"2210\">ADJ</tspan>\n",
       "</text>\n",
       "\n",
       "<text class=\"displacy-token\" fill=\"currentColor\" text-anchor=\"middle\" y=\"527.0\">\n",
       "    <tspan class=\"displacy-word\" fill=\"currentColor\" x=\"2330\">phone</tspan>\n",
       "    <tspan class=\"displacy-tag\" dy=\"2em\" fill=\"currentColor\" x=\"2330\">NOUN</tspan>\n",
       "</text>\n",
       "\n",
       "<text class=\"displacy-token\" fill=\"currentColor\" text-anchor=\"middle\" y=\"527.0\">\n",
       "    <tspan class=\"displacy-word\" fill=\"currentColor\" x=\"2450\">market</tspan>\n",
       "    <tspan class=\"displacy-tag\" dy=\"2em\" fill=\"currentColor\" x=\"2450\">NOUN</tspan>\n",
       "</text>\n",
       "\n",
       "<text class=\"displacy-token\" fill=\"currentColor\" text-anchor=\"middle\" y=\"527.0\">\n",
       "    <tspan class=\"displacy-word\" fill=\"currentColor\" x=\"2570\">and</tspan>\n",
       "    <tspan class=\"displacy-tag\" dy=\"2em\" fill=\"currentColor\" x=\"2570\">CCONJ</tspan>\n",
       "</text>\n",
       "\n",
       "<text class=\"displacy-token\" fill=\"currentColor\" text-anchor=\"middle\" y=\"527.0\">\n",
       "    <tspan class=\"displacy-word\" fill=\"currentColor\" x=\"2690\">ordered</tspan>\n",
       "    <tspan class=\"displacy-tag\" dy=\"2em\" fill=\"currentColor\" x=\"2690\">VERB</tspan>\n",
       "</text>\n",
       "\n",
       "<text class=\"displacy-token\" fill=\"currentColor\" text-anchor=\"middle\" y=\"527.0\">\n",
       "    <tspan class=\"displacy-word\" fill=\"currentColor\" x=\"2810\">the</tspan>\n",
       "    <tspan class=\"displacy-tag\" dy=\"2em\" fill=\"currentColor\" x=\"2810\">DET</tspan>\n",
       "</text>\n",
       "\n",
       "<text class=\"displacy-token\" fill=\"currentColor\" text-anchor=\"middle\" y=\"527.0\">\n",
       "    <tspan class=\"displacy-word\" fill=\"currentColor\" x=\"2930\">company</tspan>\n",
       "    <tspan class=\"displacy-tag\" dy=\"2em\" fill=\"currentColor\" x=\"2930\">NOUN</tspan>\n",
       "</text>\n",
       "\n",
       "<text class=\"displacy-token\" fill=\"currentColor\" text-anchor=\"middle\" y=\"527.0\">\n",
       "    <tspan class=\"displacy-word\" fill=\"currentColor\" x=\"3050\">to</tspan>\n",
       "    <tspan class=\"displacy-tag\" dy=\"2em\" fill=\"currentColor\" x=\"3050\">PART</tspan>\n",
       "</text>\n",
       "\n",
       "<text class=\"displacy-token\" fill=\"currentColor\" text-anchor=\"middle\" y=\"527.0\">\n",
       "    <tspan class=\"displacy-word\" fill=\"currentColor\" x=\"3170\">alter</tspan>\n",
       "    <tspan class=\"displacy-tag\" dy=\"2em\" fill=\"currentColor\" x=\"3170\">VERB</tspan>\n",
       "</text>\n",
       "\n",
       "<text class=\"displacy-token\" fill=\"currentColor\" text-anchor=\"middle\" y=\"527.0\">\n",
       "    <tspan class=\"displacy-word\" fill=\"currentColor\" x=\"3290\">its</tspan>\n",
       "    <tspan class=\"displacy-tag\" dy=\"2em\" fill=\"currentColor\" x=\"3290\">DET</tspan>\n",
       "</text>\n",
       "\n",
       "<text class=\"displacy-token\" fill=\"currentColor\" text-anchor=\"middle\" y=\"527.0\">\n",
       "    <tspan class=\"displacy-word\" fill=\"currentColor\" x=\"3410\">practices</tspan>\n",
       "    <tspan class=\"displacy-tag\" dy=\"2em\" fill=\"currentColor\" x=\"3410\">NOUN</tspan>\n",
       "</text>\n",
       "\n",
       "<g class=\"displacy-arrow\">\n",
       "    <path class=\"displacy-arc\" id=\"arrow-b29d8182164f4fada03e198e2d4482c5-0-0\" stroke-width=\"2px\" d=\"M70,482.0 C70,422.0 135.0,422.0 135.0,482.0\" fill=\"none\" stroke=\"currentColor\"/>\n",
       "    <text dy=\"1.25em\" style=\"font-size: 0.8em; letter-spacing: 1px\">\n",
       "        <textPath xlink:href=\"#arrow-b29d8182164f4fada03e198e2d4482c5-0-0\" class=\"displacy-label\" startOffset=\"50%\" side=\"left\" fill=\"currentColor\" text-anchor=\"middle\">amod</textPath>\n",
       "    </text>\n",
       "    <path class=\"displacy-arrowhead\" d=\"M70,484.0 L62,472.0 78,472.0\" fill=\"currentColor\"/>\n",
       "</g>\n",
       "\n",
       "<g class=\"displacy-arrow\">\n",
       "    <path class=\"displacy-arc\" id=\"arrow-b29d8182164f4fada03e198e2d4482c5-0-1\" stroke-width=\"2px\" d=\"M190,482.0 C190,422.0 255.0,422.0 255.0,482.0\" fill=\"none\" stroke=\"currentColor\"/>\n",
       "    <text dy=\"1.25em\" style=\"font-size: 0.8em; letter-spacing: 1px\">\n",
       "        <textPath xlink:href=\"#arrow-b29d8182164f4fada03e198e2d4482c5-0-1\" class=\"displacy-label\" startOffset=\"50%\" side=\"left\" fill=\"currentColor\" text-anchor=\"middle\">nsubj</textPath>\n",
       "    </text>\n",
       "    <path class=\"displacy-arrowhead\" d=\"M190,484.0 L182,472.0 198,472.0\" fill=\"currentColor\"/>\n",
       "</g>\n",
       "\n",
       "<g class=\"displacy-arrow\">\n",
       "    <path class=\"displacy-arc\" id=\"arrow-b29d8182164f4fada03e198e2d4482c5-0-2\" stroke-width=\"2px\" d=\"M310,482.0 C310,422.0 375.0,422.0 375.0,482.0\" fill=\"none\" stroke=\"currentColor\"/>\n",
       "    <text dy=\"1.25em\" style=\"font-size: 0.8em; letter-spacing: 1px\">\n",
       "        <textPath xlink:href=\"#arrow-b29d8182164f4fada03e198e2d4482c5-0-2\" class=\"displacy-label\" startOffset=\"50%\" side=\"left\" fill=\"currentColor\" text-anchor=\"middle\">dobj</textPath>\n",
       "    </text>\n",
       "    <path class=\"displacy-arrowhead\" d=\"M375.0,484.0 L383.0,472.0 367.0,472.0\" fill=\"currentColor\"/>\n",
       "</g>\n",
       "\n",
       "<g class=\"displacy-arrow\">\n",
       "    <path class=\"displacy-arc\" id=\"arrow-b29d8182164f4fada03e198e2d4482c5-0-3\" stroke-width=\"2px\" d=\"M550,482.0 C550,422.0 615.0,422.0 615.0,482.0\" fill=\"none\" stroke=\"currentColor\"/>\n",
       "    <text dy=\"1.25em\" style=\"font-size: 0.8em; letter-spacing: 1px\">\n",
       "        <textPath xlink:href=\"#arrow-b29d8182164f4fada03e198e2d4482c5-0-3\" class=\"displacy-label\" startOffset=\"50%\" side=\"left\" fill=\"currentColor\" text-anchor=\"middle\">det</textPath>\n",
       "    </text>\n",
       "    <path class=\"displacy-arrowhead\" d=\"M550,484.0 L542,472.0 558,472.0\" fill=\"currentColor\"/>\n",
       "</g>\n",
       "\n",
       "<g class=\"displacy-arrow\">\n",
       "    <path class=\"displacy-arc\" id=\"arrow-b29d8182164f4fada03e198e2d4482c5-0-4\" stroke-width=\"2px\" d=\"M310,482.0 C310,302.0 625.0,302.0 625.0,482.0\" fill=\"none\" stroke=\"currentColor\"/>\n",
       "    <text dy=\"1.25em\" style=\"font-size: 0.8em; letter-spacing: 1px\">\n",
       "        <textPath xlink:href=\"#arrow-b29d8182164f4fada03e198e2d4482c5-0-4\" class=\"displacy-label\" startOffset=\"50%\" side=\"left\" fill=\"currentColor\" text-anchor=\"middle\">npadvmod</textPath>\n",
       "    </text>\n",
       "    <path class=\"displacy-arrowhead\" d=\"M625.0,484.0 L633.0,472.0 617.0,472.0\" fill=\"currentColor\"/>\n",
       "</g>\n",
       "\n",
       "<g class=\"displacy-arrow\">\n",
       "    <path class=\"displacy-arc\" id=\"arrow-b29d8182164f4fada03e198e2d4482c5-0-5\" stroke-width=\"2px\" d=\"M790,482.0 C790,362.0 980.0,362.0 980.0,482.0\" fill=\"none\" stroke=\"currentColor\"/>\n",
       "    <text dy=\"1.25em\" style=\"font-size: 0.8em; letter-spacing: 1px\">\n",
       "        <textPath xlink:href=\"#arrow-b29d8182164f4fada03e198e2d4482c5-0-5\" class=\"displacy-label\" startOffset=\"50%\" side=\"left\" fill=\"currentColor\" text-anchor=\"middle\">quantmod</textPath>\n",
       "    </text>\n",
       "    <path class=\"displacy-arrowhead\" d=\"M790,484.0 L782,472.0 798,472.0\" fill=\"currentColor\"/>\n",
       "</g>\n",
       "\n",
       "<g class=\"displacy-arrow\">\n",
       "    <path class=\"displacy-arc\" id=\"arrow-b29d8182164f4fada03e198e2d4482c5-0-6\" stroke-width=\"2px\" d=\"M910,482.0 C910,422.0 975.0,422.0 975.0,482.0\" fill=\"none\" stroke=\"currentColor\"/>\n",
       "    <text dy=\"1.25em\" style=\"font-size: 0.8em; letter-spacing: 1px\">\n",
       "        <textPath xlink:href=\"#arrow-b29d8182164f4fada03e198e2d4482c5-0-6\" class=\"displacy-label\" startOffset=\"50%\" side=\"left\" fill=\"currentColor\" text-anchor=\"middle\">compound</textPath>\n",
       "    </text>\n",
       "    <path class=\"displacy-arrowhead\" d=\"M910,484.0 L902,472.0 918,472.0\" fill=\"currentColor\"/>\n",
       "</g>\n",
       "\n",
       "<g class=\"displacy-arrow\">\n",
       "    <path class=\"displacy-arc\" id=\"arrow-b29d8182164f4fada03e198e2d4482c5-0-7\" stroke-width=\"2px\" d=\"M670,482.0 C670,302.0 985.0,302.0 985.0,482.0\" fill=\"none\" stroke=\"currentColor\"/>\n",
       "    <text dy=\"1.25em\" style=\"font-size: 0.8em; letter-spacing: 1px\">\n",
       "        <textPath xlink:href=\"#arrow-b29d8182164f4fada03e198e2d4482c5-0-7\" class=\"displacy-label\" startOffset=\"50%\" side=\"left\" fill=\"currentColor\" text-anchor=\"middle\">nummod</textPath>\n",
       "    </text>\n",
       "    <path class=\"displacy-arrowhead\" d=\"M985.0,484.0 L993.0,472.0 977.0,472.0\" fill=\"currentColor\"/>\n",
       "</g>\n",
       "\n",
       "<g class=\"displacy-arrow\">\n",
       "    <path class=\"displacy-arc\" id=\"arrow-b29d8182164f4fada03e198e2d4482c5-0-8\" stroke-width=\"2px\" d=\"M310,482.0 C310,182.0 1115.0,182.0 1115.0,482.0\" fill=\"none\" stroke=\"currentColor\"/>\n",
       "    <text dy=\"1.25em\" style=\"font-size: 0.8em; letter-spacing: 1px\">\n",
       "        <textPath xlink:href=\"#arrow-b29d8182164f4fada03e198e2d4482c5-0-8\" class=\"displacy-label\" startOffset=\"50%\" side=\"left\" fill=\"currentColor\" text-anchor=\"middle\">prep</textPath>\n",
       "    </text>\n",
       "    <path class=\"displacy-arrowhead\" d=\"M1115.0,484.0 L1123.0,472.0 1107.0,472.0\" fill=\"currentColor\"/>\n",
       "</g>\n",
       "\n",
       "<g class=\"displacy-arrow\">\n",
       "    <path class=\"displacy-arc\" id=\"arrow-b29d8182164f4fada03e198e2d4482c5-0-9\" stroke-width=\"2px\" d=\"M1150,482.0 C1150,422.0 1215.0,422.0 1215.0,482.0\" fill=\"none\" stroke=\"currentColor\"/>\n",
       "    <text dy=\"1.25em\" style=\"font-size: 0.8em; letter-spacing: 1px\">\n",
       "        <textPath xlink:href=\"#arrow-b29d8182164f4fada03e198e2d4482c5-0-9\" class=\"displacy-label\" startOffset=\"50%\" side=\"left\" fill=\"currentColor\" text-anchor=\"middle\">pobj</textPath>\n",
       "    </text>\n",
       "    <path class=\"displacy-arrowhead\" d=\"M1215.0,484.0 L1223.0,472.0 1207.0,472.0\" fill=\"currentColor\"/>\n",
       "</g>\n",
       "\n",
       "<g class=\"displacy-arrow\">\n",
       "    <path class=\"displacy-arc\" id=\"arrow-b29d8182164f4fada03e198e2d4482c5-0-10\" stroke-width=\"2px\" d=\"M310,482.0 C310,62.0 1365.0,62.0 1365.0,482.0\" fill=\"none\" stroke=\"currentColor\"/>\n",
       "    <text dy=\"1.25em\" style=\"font-size: 0.8em; letter-spacing: 1px\">\n",
       "        <textPath xlink:href=\"#arrow-b29d8182164f4fada03e198e2d4482c5-0-10\" class=\"displacy-label\" startOffset=\"50%\" side=\"left\" fill=\"currentColor\" text-anchor=\"middle\">prep</textPath>\n",
       "    </text>\n",
       "    <path class=\"displacy-arrowhead\" d=\"M1365.0,484.0 L1373.0,472.0 1357.0,472.0\" fill=\"currentColor\"/>\n",
       "</g>\n",
       "\n",
       "<g class=\"displacy-arrow\">\n",
       "    <path class=\"displacy-arc\" id=\"arrow-b29d8182164f4fada03e198e2d4482c5-0-11\" stroke-width=\"2px\" d=\"M1390,482.0 C1390,422.0 1455.0,422.0 1455.0,482.0\" fill=\"none\" stroke=\"currentColor\"/>\n",
       "    <text dy=\"1.25em\" style=\"font-size: 0.8em; letter-spacing: 1px\">\n",
       "        <textPath xlink:href=\"#arrow-b29d8182164f4fada03e198e2d4482c5-0-11\" class=\"displacy-label\" startOffset=\"50%\" side=\"left\" fill=\"currentColor\" text-anchor=\"middle\"></textPath>\n",
       "    </text>\n",
       "    <path class=\"displacy-arrowhead\" d=\"M1455.0,484.0 L1463.0,472.0 1447.0,472.0\" fill=\"currentColor\"/>\n",
       "</g>\n",
       "\n",
       "<g class=\"displacy-arrow\">\n",
       "    <path class=\"displacy-arc\" id=\"arrow-b29d8182164f4fada03e198e2d4482c5-0-12\" stroke-width=\"2px\" d=\"M310,482.0 C310,2.0 1610.0,2.0 1610.0,482.0\" fill=\"none\" stroke=\"currentColor\"/>\n",
       "    <text dy=\"1.25em\" style=\"font-size: 0.8em; letter-spacing: 1px\">\n",
       "        <textPath xlink:href=\"#arrow-b29d8182164f4fada03e198e2d4482c5-0-12\" class=\"displacy-label\" startOffset=\"50%\" side=\"left\" fill=\"currentColor\" text-anchor=\"middle\">advcl</textPath>\n",
       "    </text>\n",
       "    <path class=\"displacy-arrowhead\" d=\"M1610.0,484.0 L1618.0,472.0 1602.0,472.0\" fill=\"currentColor\"/>\n",
       "</g>\n",
       "\n",
       "<g class=\"displacy-arrow\">\n",
       "    <path class=\"displacy-arc\" id=\"arrow-b29d8182164f4fada03e198e2d4482c5-0-13\" stroke-width=\"2px\" d=\"M1750,482.0 C1750,422.0 1815.0,422.0 1815.0,482.0\" fill=\"none\" stroke=\"currentColor\"/>\n",
       "    <text dy=\"1.25em\" style=\"font-size: 0.8em; letter-spacing: 1px\">\n",
       "        <textPath xlink:href=\"#arrow-b29d8182164f4fada03e198e2d4482c5-0-13\" class=\"displacy-label\" startOffset=\"50%\" side=\"left\" fill=\"currentColor\" text-anchor=\"middle\">poss</textPath>\n",
       "    </text>\n",
       "    <path class=\"displacy-arrowhead\" d=\"M1750,484.0 L1742,472.0 1758,472.0\" fill=\"currentColor\"/>\n",
       "</g>\n",
       "\n",
       "<g class=\"displacy-arrow\">\n",
       "    <path class=\"displacy-arc\" id=\"arrow-b29d8182164f4fada03e198e2d4482c5-0-14\" stroke-width=\"2px\" d=\"M1630,482.0 C1630,362.0 1820.0,362.0 1820.0,482.0\" fill=\"none\" stroke=\"currentColor\"/>\n",
       "    <text dy=\"1.25em\" style=\"font-size: 0.8em; letter-spacing: 1px\">\n",
       "        <textPath xlink:href=\"#arrow-b29d8182164f4fada03e198e2d4482c5-0-14\" class=\"displacy-label\" startOffset=\"50%\" side=\"left\" fill=\"currentColor\" text-anchor=\"middle\">dobj</textPath>\n",
       "    </text>\n",
       "    <path class=\"displacy-arrowhead\" d=\"M1820.0,484.0 L1828.0,472.0 1812.0,472.0\" fill=\"currentColor\"/>\n",
       "</g>\n",
       "\n",
       "<g class=\"displacy-arrow\">\n",
       "    <path class=\"displacy-arc\" id=\"arrow-b29d8182164f4fada03e198e2d4482c5-0-15\" stroke-width=\"2px\" d=\"M1870,482.0 C1870,422.0 1935.0,422.0 1935.0,482.0\" fill=\"none\" stroke=\"currentColor\"/>\n",
       "    <text dy=\"1.25em\" style=\"font-size: 0.8em; letter-spacing: 1px\">\n",
       "        <textPath xlink:href=\"#arrow-b29d8182164f4fada03e198e2d4482c5-0-15\" class=\"displacy-label\" startOffset=\"50%\" side=\"left\" fill=\"currentColor\" text-anchor=\"middle\">prep</textPath>\n",
       "    </text>\n",
       "    <path class=\"displacy-arrowhead\" d=\"M1935.0,484.0 L1943.0,472.0 1927.0,472.0\" fill=\"currentColor\"/>\n",
       "</g>\n",
       "\n",
       "<g class=\"displacy-arrow\">\n",
       "    <path class=\"displacy-arc\" id=\"arrow-b29d8182164f4fada03e198e2d4482c5-0-16\" stroke-width=\"2px\" d=\"M2110,482.0 C2110,302.0 2425.0,302.0 2425.0,482.0\" fill=\"none\" stroke=\"currentColor\"/>\n",
       "    <text dy=\"1.25em\" style=\"font-size: 0.8em; letter-spacing: 1px\">\n",
       "        <textPath xlink:href=\"#arrow-b29d8182164f4fada03e198e2d4482c5-0-16\" class=\"displacy-label\" startOffset=\"50%\" side=\"left\" fill=\"currentColor\" text-anchor=\"middle\">det</textPath>\n",
       "    </text>\n",
       "    <path class=\"displacy-arrowhead\" d=\"M2110,484.0 L2102,472.0 2118,472.0\" fill=\"currentColor\"/>\n",
       "</g>\n",
       "\n",
       "<g class=\"displacy-arrow\">\n",
       "    <path class=\"displacy-arc\" id=\"arrow-b29d8182164f4fada03e198e2d4482c5-0-17\" stroke-width=\"2px\" d=\"M2230,482.0 C2230,362.0 2420.0,362.0 2420.0,482.0\" fill=\"none\" stroke=\"currentColor\"/>\n",
       "    <text dy=\"1.25em\" style=\"font-size: 0.8em; letter-spacing: 1px\">\n",
       "        <textPath xlink:href=\"#arrow-b29d8182164f4fada03e198e2d4482c5-0-17\" class=\"displacy-label\" startOffset=\"50%\" side=\"left\" fill=\"currentColor\" text-anchor=\"middle\">amod</textPath>\n",
       "    </text>\n",
       "    <path class=\"displacy-arrowhead\" d=\"M2230,484.0 L2222,472.0 2238,472.0\" fill=\"currentColor\"/>\n",
       "</g>\n",
       "\n",
       "<g class=\"displacy-arrow\">\n",
       "    <path class=\"displacy-arc\" id=\"arrow-b29d8182164f4fada03e198e2d4482c5-0-18\" stroke-width=\"2px\" d=\"M2350,482.0 C2350,422.0 2415.0,422.0 2415.0,482.0\" fill=\"none\" stroke=\"currentColor\"/>\n",
       "    <text dy=\"1.25em\" style=\"font-size: 0.8em; letter-spacing: 1px\">\n",
       "        <textPath xlink:href=\"#arrow-b29d8182164f4fada03e198e2d4482c5-0-18\" class=\"displacy-label\" startOffset=\"50%\" side=\"left\" fill=\"currentColor\" text-anchor=\"middle\">compound</textPath>\n",
       "    </text>\n",
       "    <path class=\"displacy-arrowhead\" d=\"M2350,484.0 L2342,472.0 2358,472.0\" fill=\"currentColor\"/>\n",
       "</g>\n",
       "\n",
       "<g class=\"displacy-arrow\">\n",
       "    <path class=\"displacy-arc\" id=\"arrow-b29d8182164f4fada03e198e2d4482c5-0-19\" stroke-width=\"2px\" d=\"M1990,482.0 C1990,242.0 2430.0,242.0 2430.0,482.0\" fill=\"none\" stroke=\"currentColor\"/>\n",
       "    <text dy=\"1.25em\" style=\"font-size: 0.8em; letter-spacing: 1px\">\n",
       "        <textPath xlink:href=\"#arrow-b29d8182164f4fada03e198e2d4482c5-0-19\" class=\"displacy-label\" startOffset=\"50%\" side=\"left\" fill=\"currentColor\" text-anchor=\"middle\">pobj</textPath>\n",
       "    </text>\n",
       "    <path class=\"displacy-arrowhead\" d=\"M2430.0,484.0 L2438.0,472.0 2422.0,472.0\" fill=\"currentColor\"/>\n",
       "</g>\n",
       "\n",
       "<g class=\"displacy-arrow\">\n",
       "    <path class=\"displacy-arc\" id=\"arrow-b29d8182164f4fada03e198e2d4482c5-0-20\" stroke-width=\"2px\" d=\"M1630,482.0 C1630,122.0 2560.0,122.0 2560.0,482.0\" fill=\"none\" stroke=\"currentColor\"/>\n",
       "    <text dy=\"1.25em\" style=\"font-size: 0.8em; letter-spacing: 1px\">\n",
       "        <textPath xlink:href=\"#arrow-b29d8182164f4fada03e198e2d4482c5-0-20\" class=\"displacy-label\" startOffset=\"50%\" side=\"left\" fill=\"currentColor\" text-anchor=\"middle\">cc</textPath>\n",
       "    </text>\n",
       "    <path class=\"displacy-arrowhead\" d=\"M2560.0,484.0 L2568.0,472.0 2552.0,472.0\" fill=\"currentColor\"/>\n",
       "</g>\n",
       "\n",
       "<g class=\"displacy-arrow\">\n",
       "    <path class=\"displacy-arc\" id=\"arrow-b29d8182164f4fada03e198e2d4482c5-0-21\" stroke-width=\"2px\" d=\"M1630,482.0 C1630,62.0 2685.0,62.0 2685.0,482.0\" fill=\"none\" stroke=\"currentColor\"/>\n",
       "    <text dy=\"1.25em\" style=\"font-size: 0.8em; letter-spacing: 1px\">\n",
       "        <textPath xlink:href=\"#arrow-b29d8182164f4fada03e198e2d4482c5-0-21\" class=\"displacy-label\" startOffset=\"50%\" side=\"left\" fill=\"currentColor\" text-anchor=\"middle\">conj</textPath>\n",
       "    </text>\n",
       "    <path class=\"displacy-arrowhead\" d=\"M2685.0,484.0 L2693.0,472.0 2677.0,472.0\" fill=\"currentColor\"/>\n",
       "</g>\n",
       "\n",
       "<g class=\"displacy-arrow\">\n",
       "    <path class=\"displacy-arc\" id=\"arrow-b29d8182164f4fada03e198e2d4482c5-0-22\" stroke-width=\"2px\" d=\"M2830,482.0 C2830,422.0 2895.0,422.0 2895.0,482.0\" fill=\"none\" stroke=\"currentColor\"/>\n",
       "    <text dy=\"1.25em\" style=\"font-size: 0.8em; letter-spacing: 1px\">\n",
       "        <textPath xlink:href=\"#arrow-b29d8182164f4fada03e198e2d4482c5-0-22\" class=\"displacy-label\" startOffset=\"50%\" side=\"left\" fill=\"currentColor\" text-anchor=\"middle\">det</textPath>\n",
       "    </text>\n",
       "    <path class=\"displacy-arrowhead\" d=\"M2830,484.0 L2822,472.0 2838,472.0\" fill=\"currentColor\"/>\n",
       "</g>\n",
       "\n",
       "<g class=\"displacy-arrow\">\n",
       "    <path class=\"displacy-arc\" id=\"arrow-b29d8182164f4fada03e198e2d4482c5-0-23\" stroke-width=\"2px\" d=\"M2710,482.0 C2710,362.0 2900.0,362.0 2900.0,482.0\" fill=\"none\" stroke=\"currentColor\"/>\n",
       "    <text dy=\"1.25em\" style=\"font-size: 0.8em; letter-spacing: 1px\">\n",
       "        <textPath xlink:href=\"#arrow-b29d8182164f4fada03e198e2d4482c5-0-23\" class=\"displacy-label\" startOffset=\"50%\" side=\"left\" fill=\"currentColor\" text-anchor=\"middle\">dobj</textPath>\n",
       "    </text>\n",
       "    <path class=\"displacy-arrowhead\" d=\"M2900.0,484.0 L2908.0,472.0 2892.0,472.0\" fill=\"currentColor\"/>\n",
       "</g>\n",
       "\n",
       "<g class=\"displacy-arrow\">\n",
       "    <path class=\"displacy-arc\" id=\"arrow-b29d8182164f4fada03e198e2d4482c5-0-24\" stroke-width=\"2px\" d=\"M3070,482.0 C3070,422.0 3135.0,422.0 3135.0,482.0\" fill=\"none\" stroke=\"currentColor\"/>\n",
       "    <text dy=\"1.25em\" style=\"font-size: 0.8em; letter-spacing: 1px\">\n",
       "        <textPath xlink:href=\"#arrow-b29d8182164f4fada03e198e2d4482c5-0-24\" class=\"displacy-label\" startOffset=\"50%\" side=\"left\" fill=\"currentColor\" text-anchor=\"middle\">aux</textPath>\n",
       "    </text>\n",
       "    <path class=\"displacy-arrowhead\" d=\"M3070,484.0 L3062,472.0 3078,472.0\" fill=\"currentColor\"/>\n",
       "</g>\n",
       "\n",
       "<g class=\"displacy-arrow\">\n",
       "    <path class=\"displacy-arc\" id=\"arrow-b29d8182164f4fada03e198e2d4482c5-0-25\" stroke-width=\"2px\" d=\"M2710,482.0 C2710,242.0 3150.0,242.0 3150.0,482.0\" fill=\"none\" stroke=\"currentColor\"/>\n",
       "    <text dy=\"1.25em\" style=\"font-size: 0.8em; letter-spacing: 1px\">\n",
       "        <textPath xlink:href=\"#arrow-b29d8182164f4fada03e198e2d4482c5-0-25\" class=\"displacy-label\" startOffset=\"50%\" side=\"left\" fill=\"currentColor\" text-anchor=\"middle\">xcomp</textPath>\n",
       "    </text>\n",
       "    <path class=\"displacy-arrowhead\" d=\"M3150.0,484.0 L3158.0,472.0 3142.0,472.0\" fill=\"currentColor\"/>\n",
       "</g>\n",
       "\n",
       "<g class=\"displacy-arrow\">\n",
       "    <path class=\"displacy-arc\" id=\"arrow-b29d8182164f4fada03e198e2d4482c5-0-26\" stroke-width=\"2px\" d=\"M3310,482.0 C3310,422.0 3375.0,422.0 3375.0,482.0\" fill=\"none\" stroke=\"currentColor\"/>\n",
       "    <text dy=\"1.25em\" style=\"font-size: 0.8em; letter-spacing: 1px\">\n",
       "        <textPath xlink:href=\"#arrow-b29d8182164f4fada03e198e2d4482c5-0-26\" class=\"displacy-label\" startOffset=\"50%\" side=\"left\" fill=\"currentColor\" text-anchor=\"middle\">poss</textPath>\n",
       "    </text>\n",
       "    <path class=\"displacy-arrowhead\" d=\"M3310,484.0 L3302,472.0 3318,472.0\" fill=\"currentColor\"/>\n",
       "</g>\n",
       "\n",
       "<g class=\"displacy-arrow\">\n",
       "    <path class=\"displacy-arc\" id=\"arrow-b29d8182164f4fada03e198e2d4482c5-0-27\" stroke-width=\"2px\" d=\"M3190,482.0 C3190,362.0 3380.0,362.0 3380.0,482.0\" fill=\"none\" stroke=\"currentColor\"/>\n",
       "    <text dy=\"1.25em\" style=\"font-size: 0.8em; letter-spacing: 1px\">\n",
       "        <textPath xlink:href=\"#arrow-b29d8182164f4fada03e198e2d4482c5-0-27\" class=\"displacy-label\" startOffset=\"50%\" side=\"left\" fill=\"currentColor\" text-anchor=\"middle\">dobj</textPath>\n",
       "    </text>\n",
       "    <path class=\"displacy-arrowhead\" d=\"M3380.0,484.0 L3388.0,472.0 3372.0,472.0\" fill=\"currentColor\"/>\n",
       "</g>\n",
       "</svg>"
      ],
      "text/plain": [
       "<IPython.core.display.HTML object>"
      ]
     },
     "metadata": {},
     "output_type": "display_data"
    }
   ],
   "source": [
    "displacy.render(nlp(str(sentence)), style='dep', jupyter = True, options = {'distance': 120})"
   ]
  },
  {
   "cell_type": "code",
   "execution_count": 9,
   "metadata": {},
   "outputs": [
    {
     "data": {
      "text/plain": [
       "[('European', 'ADJ', 'european'),\n",
       " ('authorities', 'NOUN', 'authority'),\n",
       " ('fined', 'VERB', 'fine'),\n",
       " ('Google', 'PROPN', 'Google'),\n",
       " ('record', 'NOUN', 'record'),\n",
       " ('$', 'SYM', '$'),\n",
       " ('5.1', 'NUM', '5.1'),\n",
       " ('billion', 'NUM', 'billion'),\n",
       " ('Wednesday', 'PROPN', 'Wednesday'),\n",
       " ('\\n', 'SPACE', '\\n'),\n",
       " ('abusing', 'VERB', 'abuse'),\n",
       " ('power', 'NOUN', 'power'),\n",
       " ('mobile', 'ADJ', 'mobile'),\n",
       " ('phone', 'NOUN', 'phone'),\n",
       " ('market', 'NOUN', 'market'),\n",
       " ('ordered', 'VERB', 'order'),\n",
       " ('company', 'NOUN', 'company'),\n",
       " ('alter', 'VERB', 'alter'),\n",
       " ('practices', 'NOUN', 'practice')]"
      ]
     },
     "execution_count": 9,
     "metadata": {},
     "output_type": "execute_result"
    }
   ],
   "source": [
    "[(x.orth_,x.pos_, x.lemma_) for x in [y for y in nlp(sentence) if not y.is_stop and y.pos_ != 'PUNCT']]"
   ]
  },
  {
   "cell_type": "markdown",
   "metadata": {},
   "source": [
    "Now let's see how to create text classifier using nltk and scikit learn."
   ]
  },
  {
   "cell_type": "code",
   "execution_count": 10,
   "metadata": {
    "scrolled": true
   },
   "outputs": [
    {
     "name": "stdout",
     "output_type": "stream",
     "text": [
      "{\"label\":\"test\",\"sentiment\":\"pos\",\"name\":\"0_10.txt\",\"content\":\"I went and saw this movie last night after being coaxed to by a few friends of mine. I'll admit that I was reluctant to see it because from what I knew of Ashton Kutcher he was only able to do comedy. I was wrong. Kutcher played the character of Jake Fischer very well, and Kevin Costner played Ben Randall with such professionalism. The sign of a good movie is that it can toy with our emotions. This one did exactly that. The entire theater (which was sold out) was overcome by laughter during the first half of the movie, and were moved to tears during the second half. While exiting the theater I not only saw many women in tears, but many full grown men as well, trying desperately not to let anyone see them crying. This movie was great, and I suggest that you go see it before you judge.\"}\r\n"
     ]
    }
   ],
   "source": [
    "# The following line does not work on Windows system\n",
    "!head -n 1 /data/imdb-comments.json"
   ]
  },
  {
   "cell_type": "code",
   "execution_count": 11,
   "metadata": {},
   "outputs": [],
   "source": [
    "data = []\n",
    "with open(\"/data/imdb-comments.json\", \"r\", encoding=\"utf8\") as f:\n",
    "    for l in f.readlines():\n",
    "        data.append(json.loads(l))    "
   ]
  },
  {
   "cell_type": "code",
   "execution_count": 12,
   "metadata": {
    "scrolled": true
   },
   "outputs": [
    {
     "data": {
      "text/html": [
       "<div>\n",
       "<style scoped>\n",
       "    .dataframe tbody tr th:only-of-type {\n",
       "        vertical-align: middle;\n",
       "    }\n",
       "\n",
       "    .dataframe tbody tr th {\n",
       "        vertical-align: top;\n",
       "    }\n",
       "\n",
       "    .dataframe thead th {\n",
       "        text-align: right;\n",
       "    }\n",
       "</style>\n",
       "<table border=\"1\" class=\"dataframe\">\n",
       "  <thead>\n",
       "    <tr style=\"text-align: right;\">\n",
       "      <th></th>\n",
       "      <th>content</th>\n",
       "      <th>label</th>\n",
       "      <th>name</th>\n",
       "      <th>sentiment</th>\n",
       "    </tr>\n",
       "  </thead>\n",
       "  <tbody>\n",
       "    <tr>\n",
       "      <th>48917</th>\n",
       "      <td>This has to be some of the worst direction I'v...</td>\n",
       "      <td>train</td>\n",
       "      <td>9026_1.txt</td>\n",
       "      <td>neg</td>\n",
       "    </tr>\n",
       "    <tr>\n",
       "      <th>22545</th>\n",
       "      <td>The title is from a passage in the Bible (Deut...</td>\n",
       "      <td>test</td>\n",
       "      <td>7792_3.txt</td>\n",
       "      <td>neg</td>\n",
       "    </tr>\n",
       "    <tr>\n",
       "      <th>2374</th>\n",
       "      <td>Not a bad MOW. I was expecting another film ba...</td>\n",
       "      <td>test</td>\n",
       "      <td>12137_8.txt</td>\n",
       "      <td>pos</td>\n",
       "    </tr>\n",
       "    <tr>\n",
       "      <th>33257</th>\n",
       "      <td>This murder mystery with musical numbers is lo...</td>\n",
       "      <td>train</td>\n",
       "      <td>6182_7.txt</td>\n",
       "      <td>pos</td>\n",
       "    </tr>\n",
       "    <tr>\n",
       "      <th>9377</th>\n",
       "      <td>I don't know about the English version of this...</td>\n",
       "      <td>test</td>\n",
       "      <td>7190_8.txt</td>\n",
       "      <td>pos</td>\n",
       "    </tr>\n",
       "    <tr>\n",
       "      <th>46853</th>\n",
       "      <td>This is one of the worst movies I have ever se...</td>\n",
       "      <td>train</td>\n",
       "      <td>7169_3.txt</td>\n",
       "      <td>neg</td>\n",
       "    </tr>\n",
       "    <tr>\n",
       "      <th>10558</th>\n",
       "      <td>Delightful! It never pretends to be a masterpi...</td>\n",
       "      <td>test</td>\n",
       "      <td>8253_8.txt</td>\n",
       "      <td>pos</td>\n",
       "    </tr>\n",
       "    <tr>\n",
       "      <th>44698</th>\n",
       "      <td>boring stuff we got here. His 5 minute shorts ...</td>\n",
       "      <td>train</td>\n",
       "      <td>5229_1.txt</td>\n",
       "      <td>neg</td>\n",
       "    </tr>\n",
       "    <tr>\n",
       "      <th>40083</th>\n",
       "      <td>I remember that show. I still remember that ki...</td>\n",
       "      <td>train</td>\n",
       "      <td>12325_3.txt</td>\n",
       "      <td>neg</td>\n",
       "    </tr>\n",
       "    <tr>\n",
       "      <th>6660</th>\n",
       "      <td>a compact crime drama with a good amount of ac...</td>\n",
       "      <td>test</td>\n",
       "      <td>4745_8.txt</td>\n",
       "      <td>pos</td>\n",
       "    </tr>\n",
       "  </tbody>\n",
       "</table>\n",
       "</div>"
      ],
      "text/plain": [
       "                                                 content  label         name  \\\n",
       "48917  This has to be some of the worst direction I'v...  train   9026_1.txt   \n",
       "22545  The title is from a passage in the Bible (Deut...   test   7792_3.txt   \n",
       "2374   Not a bad MOW. I was expecting another film ba...   test  12137_8.txt   \n",
       "33257  This murder mystery with musical numbers is lo...  train   6182_7.txt   \n",
       "9377   I don't know about the English version of this...   test   7190_8.txt   \n",
       "46853  This is one of the worst movies I have ever se...  train   7169_3.txt   \n",
       "10558  Delightful! It never pretends to be a masterpi...   test   8253_8.txt   \n",
       "44698  boring stuff we got here. His 5 minute shorts ...  train   5229_1.txt   \n",
       "40083  I remember that show. I still remember that ki...  train  12325_3.txt   \n",
       "6660   a compact crime drama with a good amount of ac...   test   4745_8.txt   \n",
       "\n",
       "      sentiment  \n",
       "48917       neg  \n",
       "22545       neg  \n",
       "2374        pos  \n",
       "33257       pos  \n",
       "9377        pos  \n",
       "46853       neg  \n",
       "10558       pos  \n",
       "44698       neg  \n",
       "40083       neg  \n",
       "6660        pos  "
      ]
     },
     "execution_count": 12,
     "metadata": {},
     "output_type": "execute_result"
    }
   ],
   "source": [
    "comments = pd.DataFrame.from_dict(data)\n",
    "comments.sample(10)"
   ]
  },
  {
   "cell_type": "code",
   "execution_count": 13,
   "metadata": {},
   "outputs": [
    {
     "name": "stdout",
     "output_type": "stream",
     "text": [
      "<class 'pandas.core.frame.DataFrame'>\n",
      "RangeIndex: 50000 entries, 0 to 49999\n",
      "Data columns (total 4 columns):\n",
      "content      50000 non-null object\n",
      "label        50000 non-null object\n",
      "name         50000 non-null object\n",
      "sentiment    50000 non-null object\n",
      "dtypes: object(4)\n",
      "memory usage: 1.5+ MB\n"
     ]
    }
   ],
   "source": [
    "comments.info()"
   ]
  },
  {
   "cell_type": "code",
   "execution_count": 14,
   "metadata": {},
   "outputs": [
    {
     "data": {
      "text/plain": [
       "train    25000\n",
       "test     25000\n",
       "Name: label, dtype: int64"
      ]
     },
     "execution_count": 14,
     "metadata": {},
     "output_type": "execute_result"
    }
   ],
   "source": [
    "comments.label.value_counts()"
   ]
  },
  {
   "cell_type": "code",
   "execution_count": 15,
   "metadata": {},
   "outputs": [
    {
     "data": {
      "text/html": [
       "<div>\n",
       "<style scoped>\n",
       "    .dataframe tbody tr th:only-of-type {\n",
       "        vertical-align: middle;\n",
       "    }\n",
       "\n",
       "    .dataframe tbody tr th {\n",
       "        vertical-align: top;\n",
       "    }\n",
       "\n",
       "    .dataframe thead th {\n",
       "        text-align: right;\n",
       "    }\n",
       "</style>\n",
       "<table border=\"1\" class=\"dataframe\">\n",
       "  <thead>\n",
       "    <tr style=\"text-align: right;\">\n",
       "      <th>sentiment</th>\n",
       "      <th>neg</th>\n",
       "      <th>pos</th>\n",
       "    </tr>\n",
       "    <tr>\n",
       "      <th>label</th>\n",
       "      <th></th>\n",
       "      <th></th>\n",
       "    </tr>\n",
       "  </thead>\n",
       "  <tbody>\n",
       "    <tr>\n",
       "      <th>test</th>\n",
       "      <td>12500</td>\n",
       "      <td>12500</td>\n",
       "    </tr>\n",
       "    <tr>\n",
       "      <th>train</th>\n",
       "      <td>12500</td>\n",
       "      <td>12500</td>\n",
       "    </tr>\n",
       "  </tbody>\n",
       "</table>\n",
       "</div>"
      ],
      "text/plain": [
       "sentiment    neg    pos\n",
       "label                  \n",
       "test       12500  12500\n",
       "train      12500  12500"
      ]
     },
     "execution_count": 15,
     "metadata": {},
     "output_type": "execute_result"
    }
   ],
   "source": [
    "comments.groupby([\"label\", \"sentiment\"]).content.count().unstack()"
   ]
  },
  {
   "cell_type": "code",
   "execution_count": 16,
   "metadata": {},
   "outputs": [
    {
     "data": {
      "text/plain": [
       "'When we started watching this series on cable, I had no idea how addictive it would be. Even when you hate a character, you hold back because they are so beautifully developed, you can almost understand why they react to frustration, fear, greed or temptation the way they do. It\\'s almost as if the viewer is experiencing one of Christopher\\'s learning curves.<br /><br />I can\\'t understand why Adriana would put up with Christopher\\'s abuse of her, verbally, physically and emotionally, but I just have to read the newspaper to see how many women can and do tolerate such behavior. Carmella has a dream house, endless supply of expensive things, but I\\'m sure she would give it up for a loving and faithful husband - or maybe not. That\\'s why I watch.<br /><br />It doesn\\'t matter how many times you watch an episode, you can find something you missed the first five times. We even watch episodes out of sequence (watch season 1 on late night with commercials but all the language, A&E with language censored, reruns on the Movie Network) - whenever they\\'re on, we\\'re there. We\\'ve been totally spoiled now.<br /><br />I also love the Malaprop\\'s. \"An albacore around my neck\" is my favorite of Johnny Boy. When these jewels have entered our family vocabulary, it is a sign that I should get a life. I will when the series ends, and I have collected all the DVD\\'s, and put the collection in my will.'"
      ]
     },
     "execution_count": 16,
     "metadata": {},
     "output_type": "execute_result"
    }
   ],
   "source": [
    "np.random.seed(1)\n",
    "v = list(comments[\"content\"].sample(1))[0]\n",
    "v"
   ]
  },
  {
   "cell_type": "code",
   "execution_count": 17,
   "metadata": {
    "scrolled": true
   },
   "outputs": [
    {
     "data": {
      "text/plain": [
       "'when we started watching this series on cable i had no idea how addictive it would be even when you hate a character you hold back because they are so beautifully developed you can almost understand why they react to frustration fear greed or temptation the way they do it s almost as if the viewer is experiencing one of christopher s learning curves i can t understand why adriana would put up with christopher s abuse of her verbally physically and emotionally but i just have to read the newspaper to see how many women can and do tolerate such behavior carmella has a dream house endless supply of expensive things but i m sure she would give it up for a loving and faithful husband or maybe not that s why i watch it doesn t matter how many times you watch an episode you can find something you missed the first five times we even watch episodes out of sequence watch season 1 on late night with commercials but all the language a e with language censored reruns on the movie network whenever they re on we re there we ve been totally spoiled now i also love the malaprop s an albacore around my neck is my favorite of johnny boy when these jewels have entered our family vocabulary it is a sign that i should get a life i will when the series ends and i have collected all the dvd s and put the collection in my will '"
      ]
     },
     "execution_count": 17,
     "metadata": {},
     "output_type": "execute_result"
    }
   ],
   "source": [
    "def preprocess(text):\n",
    "    \n",
    "    # Remove html tags\n",
    "    text = BeautifulSoup(text.lower(), \"html5lib\").text \n",
    "    \n",
    "    # Replace the occurrences of multiple consecutive whilespaces \n",
    "    # with a single space (\" \")\n",
    "    text = re.sub(r\"[\\W]+\", \" \", text)\n",
    "    return text\n",
    "\n",
    "preprocess(v)"
   ]
  },
  {
   "cell_type": "code",
   "execution_count": 18,
   "metadata": {},
   "outputs": [
    {
     "name": "stdout",
     "output_type": "stream",
     "text": [
      "CPU times: user 30.3 s, sys: 53.6 ms, total: 30.3 s\n",
      "Wall time: 30.3 s\n"
     ]
    }
   ],
   "source": [
    "%%time\n",
    "# Apply the preprocessing logic to all comments\n",
    "comments[\"content\"] = comments[\"content\"].apply(preprocess)"
   ]
  },
  {
   "cell_type": "code",
   "execution_count": 19,
   "metadata": {},
   "outputs": [
    {
     "data": {
      "text/html": [
       "<div>\n",
       "<style scoped>\n",
       "    .dataframe tbody tr th:only-of-type {\n",
       "        vertical-align: middle;\n",
       "    }\n",
       "\n",
       "    .dataframe tbody tr th {\n",
       "        vertical-align: top;\n",
       "    }\n",
       "\n",
       "    .dataframe thead th {\n",
       "        text-align: right;\n",
       "    }\n",
       "</style>\n",
       "<table border=\"1\" class=\"dataframe\">\n",
       "  <thead>\n",
       "    <tr style=\"text-align: right;\">\n",
       "      <th></th>\n",
       "      <th>content</th>\n",
       "      <th>label</th>\n",
       "      <th>name</th>\n",
       "      <th>sentiment</th>\n",
       "    </tr>\n",
       "  </thead>\n",
       "  <tbody>\n",
       "    <tr>\n",
       "      <th>25496</th>\n",
       "      <td>there are many people in our lives that we mee...</td>\n",
       "      <td>train</td>\n",
       "      <td>10447_10.txt</td>\n",
       "      <td>pos</td>\n",
       "    </tr>\n",
       "    <tr>\n",
       "      <th>41520</th>\n",
       "      <td>sixth escapade for freddy krueger in which he ...</td>\n",
       "      <td>train</td>\n",
       "      <td>2369_4.txt</td>\n",
       "      <td>neg</td>\n",
       "    </tr>\n",
       "    <tr>\n",
       "      <th>48525</th>\n",
       "      <td>the first few minutes of the bodyguard do have...</td>\n",
       "      <td>train</td>\n",
       "      <td>8674_2.txt</td>\n",
       "      <td>neg</td>\n",
       "    </tr>\n",
       "    <tr>\n",
       "      <th>26037</th>\n",
       "      <td>after reviewing this intense martial arts movi...</td>\n",
       "      <td>train</td>\n",
       "      <td>10934_10.txt</td>\n",
       "      <td>pos</td>\n",
       "    </tr>\n",
       "    <tr>\n",
       "      <th>43823</th>\n",
       "      <td>triumph of love is proof that not every coméd...</td>\n",
       "      <td>train</td>\n",
       "      <td>4441_3.txt</td>\n",
       "      <td>neg</td>\n",
       "    </tr>\n",
       "    <tr>\n",
       "      <th>39666</th>\n",
       "      <td>this is without a doubt the worst movie i have...</td>\n",
       "      <td>train</td>\n",
       "      <td>11950_2.txt</td>\n",
       "      <td>neg</td>\n",
       "    </tr>\n",
       "    <tr>\n",
       "      <th>40882</th>\n",
       "      <td>i had the opportunity to preview this film as ...</td>\n",
       "      <td>train</td>\n",
       "      <td>1795_2.txt</td>\n",
       "      <td>neg</td>\n",
       "    </tr>\n",
       "    <tr>\n",
       "      <th>43156</th>\n",
       "      <td>roeg has done some great movies but this a tur...</td>\n",
       "      <td>train</td>\n",
       "      <td>3841_1.txt</td>\n",
       "      <td>neg</td>\n",
       "    </tr>\n",
       "    <tr>\n",
       "      <th>37185</th>\n",
       "      <td>possible spoiler in some way how to alienate f...</td>\n",
       "      <td>train</td>\n",
       "      <td>9718_7.txt</td>\n",
       "      <td>pos</td>\n",
       "    </tr>\n",
       "    <tr>\n",
       "      <th>40330</th>\n",
       "      <td>sogo ishii can be a skilled filmmaker under th...</td>\n",
       "      <td>train</td>\n",
       "      <td>1298_3.txt</td>\n",
       "      <td>neg</td>\n",
       "    </tr>\n",
       "  </tbody>\n",
       "</table>\n",
       "</div>"
      ],
      "text/plain": [
       "                                                 content  label          name  \\\n",
       "25496  there are many people in our lives that we mee...  train  10447_10.txt   \n",
       "41520  sixth escapade for freddy krueger in which he ...  train    2369_4.txt   \n",
       "48525  the first few minutes of the bodyguard do have...  train    8674_2.txt   \n",
       "26037  after reviewing this intense martial arts movi...  train  10934_10.txt   \n",
       "43823   triumph of love is proof that not every coméd...  train    4441_3.txt   \n",
       "39666  this is without a doubt the worst movie i have...  train   11950_2.txt   \n",
       "40882  i had the opportunity to preview this film as ...  train    1795_2.txt   \n",
       "43156  roeg has done some great movies but this a tur...  train    3841_1.txt   \n",
       "37185  possible spoiler in some way how to alienate f...  train    9718_7.txt   \n",
       "40330  sogo ishii can be a skilled filmmaker under th...  train    1298_3.txt   \n",
       "\n",
       "      sentiment  \n",
       "25496       pos  \n",
       "41520       neg  \n",
       "48525       neg  \n",
       "26037       pos  \n",
       "43823       neg  \n",
       "39666       neg  \n",
       "40882       neg  \n",
       "43156       neg  \n",
       "37185       pos  \n",
       "40330       neg  "
      ]
     },
     "execution_count": 19,
     "metadata": {},
     "output_type": "execute_result"
    }
   ],
   "source": [
    "comments_train = comments[comments[\"label\"] == \"train\"]\n",
    "comments_train.sample(10)"
   ]
  },
  {
   "cell_type": "code",
   "execution_count": 20,
   "metadata": {
    "scrolled": true
   },
   "outputs": [
    {
     "data": {
      "text/html": [
       "<div>\n",
       "<style scoped>\n",
       "    .dataframe tbody tr th:only-of-type {\n",
       "        vertical-align: middle;\n",
       "    }\n",
       "\n",
       "    .dataframe tbody tr th {\n",
       "        vertical-align: top;\n",
       "    }\n",
       "\n",
       "    .dataframe thead th {\n",
       "        text-align: right;\n",
       "    }\n",
       "</style>\n",
       "<table border=\"1\" class=\"dataframe\">\n",
       "  <thead>\n",
       "    <tr style=\"text-align: right;\">\n",
       "      <th></th>\n",
       "      <th>content</th>\n",
       "      <th>label</th>\n",
       "      <th>name</th>\n",
       "      <th>sentiment</th>\n",
       "    </tr>\n",
       "  </thead>\n",
       "  <tbody>\n",
       "    <tr>\n",
       "      <th>21277</th>\n",
       "      <td>this is one of those movies where i was rootin...</td>\n",
       "      <td>test</td>\n",
       "      <td>6650_1.txt</td>\n",
       "      <td>neg</td>\n",
       "    </tr>\n",
       "    <tr>\n",
       "      <th>12620</th>\n",
       "      <td>spoilersi m going to be as kind as i can about...</td>\n",
       "      <td>test</td>\n",
       "      <td>10108_1.txt</td>\n",
       "      <td>neg</td>\n",
       "    </tr>\n",
       "    <tr>\n",
       "      <th>4485</th>\n",
       "      <td>as a former erasmus student i enjoyed this fil...</td>\n",
       "      <td>test</td>\n",
       "      <td>2788_9.txt</td>\n",
       "      <td>pos</td>\n",
       "    </tr>\n",
       "    <tr>\n",
       "      <th>4744</th>\n",
       "      <td>francis ford coppola s masterpiece was a great...</td>\n",
       "      <td>test</td>\n",
       "      <td>301_10.txt</td>\n",
       "      <td>pos</td>\n",
       "    </tr>\n",
       "    <tr>\n",
       "      <th>10329</th>\n",
       "      <td>some of the reviewers here have foolishly judg...</td>\n",
       "      <td>test</td>\n",
       "      <td>8047_10.txt</td>\n",
       "      <td>pos</td>\n",
       "    </tr>\n",
       "    <tr>\n",
       "      <th>14366</th>\n",
       "      <td>this is by far one of the most pretentious fil...</td>\n",
       "      <td>test</td>\n",
       "      <td>11680_1.txt</td>\n",
       "      <td>neg</td>\n",
       "    </tr>\n",
       "    <tr>\n",
       "      <th>1007</th>\n",
       "      <td>this is truly a funny movie his dance scene do...</td>\n",
       "      <td>test</td>\n",
       "      <td>10907_8.txt</td>\n",
       "      <td>pos</td>\n",
       "    </tr>\n",
       "    <tr>\n",
       "      <th>4539</th>\n",
       "      <td>this film released in 1951 has the usual eleme...</td>\n",
       "      <td>test</td>\n",
       "      <td>2836_8.txt</td>\n",
       "      <td>pos</td>\n",
       "    </tr>\n",
       "    <tr>\n",
       "      <th>7864</th>\n",
       "      <td>one of the best tv shows out there if not the ...</td>\n",
       "      <td>test</td>\n",
       "      <td>5829_10.txt</td>\n",
       "      <td>pos</td>\n",
       "    </tr>\n",
       "    <tr>\n",
       "      <th>19582</th>\n",
       "      <td>this movie was jerry bruckheimer s idea to sel...</td>\n",
       "      <td>test</td>\n",
       "      <td>5124_4.txt</td>\n",
       "      <td>neg</td>\n",
       "    </tr>\n",
       "  </tbody>\n",
       "</table>\n",
       "</div>"
      ],
      "text/plain": [
       "                                                 content label         name  \\\n",
       "21277  this is one of those movies where i was rootin...  test   6650_1.txt   \n",
       "12620  spoilersi m going to be as kind as i can about...  test  10108_1.txt   \n",
       "4485   as a former erasmus student i enjoyed this fil...  test   2788_9.txt   \n",
       "4744   francis ford coppola s masterpiece was a great...  test   301_10.txt   \n",
       "10329  some of the reviewers here have foolishly judg...  test  8047_10.txt   \n",
       "14366  this is by far one of the most pretentious fil...  test  11680_1.txt   \n",
       "1007   this is truly a funny movie his dance scene do...  test  10907_8.txt   \n",
       "4539   this film released in 1951 has the usual eleme...  test   2836_8.txt   \n",
       "7864   one of the best tv shows out there if not the ...  test  5829_10.txt   \n",
       "19582  this movie was jerry bruckheimer s idea to sel...  test   5124_4.txt   \n",
       "\n",
       "      sentiment  \n",
       "21277       neg  \n",
       "12620       neg  \n",
       "4485        pos  \n",
       "4744        pos  \n",
       "10329       pos  \n",
       "14366       neg  \n",
       "1007        pos  \n",
       "4539        pos  \n",
       "7864        pos  \n",
       "19582       neg  "
      ]
     },
     "execution_count": 20,
     "metadata": {},
     "output_type": "execute_result"
    }
   ],
   "source": [
    "comments_test = comments[comments[\"label\"] == \"test\"]\n",
    "comments_test.sample(10)"
   ]
  },
  {
   "cell_type": "code",
   "execution_count": 21,
   "metadata": {},
   "outputs": [],
   "source": [
    "X_train = comments_train[\"content\"].values\n",
    "y_train = np.where(comments_train.sentiment == \"pos\", 1, 0)"
   ]
  },
  {
   "cell_type": "code",
   "execution_count": 22,
   "metadata": {},
   "outputs": [],
   "source": [
    "X_test = comments_test[\"content\"].values\n",
    "y_test = np.where(comments_test.sentiment == \"pos\", 1, 0)"
   ]
  },
  {
   "cell_type": "code",
   "execution_count": 23,
   "metadata": {},
   "outputs": [
    {
     "name": "stdout",
     "output_type": "stream",
     "text": [
      "('arabic', 'danish', 'dutch', 'english', 'finnish', 'french', 'german', 'hungarian', 'italian', 'norwegian', 'porter', 'portuguese', 'romanian', 'russian', 'spanish', 'swedish')\n"
     ]
    }
   ],
   "source": [
    "# http://snowball.tartarus.org/algorithms/porter/stemmer.html\n",
    "# http://www.nltk.org/howto/stem.html\n",
    "\n",
    "from nltk.stem.snowball import SnowballStemmer\n",
    "from nltk.stem.porter import PorterStemmer\n",
    "print(SnowballStemmer.languages)"
   ]
  },
  {
   "cell_type": "code",
   "execution_count": 24,
   "metadata": {},
   "outputs": [
    {
     "data": {
      "text/html": [
       "<div>\n",
       "<style scoped>\n",
       "    .dataframe tbody tr th:only-of-type {\n",
       "        vertical-align: middle;\n",
       "    }\n",
       "\n",
       "    .dataframe tbody tr th {\n",
       "        vertical-align: top;\n",
       "    }\n",
       "\n",
       "    .dataframe thead th {\n",
       "        text-align: right;\n",
       "    }\n",
       "</style>\n",
       "<table border=\"1\" class=\"dataframe\">\n",
       "  <thead>\n",
       "    <tr style=\"text-align: right;\">\n",
       "      <th></th>\n",
       "      <th>oroginal</th>\n",
       "      <th>porter</th>\n",
       "      <th>snowball</th>\n",
       "      <th>lemmatizer</th>\n",
       "    </tr>\n",
       "  </thead>\n",
       "  <tbody>\n",
       "    <tr>\n",
       "      <th>0</th>\n",
       "      <td>revival</td>\n",
       "      <td>reviv</td>\n",
       "      <td>reviv</td>\n",
       "      <td>revival</td>\n",
       "    </tr>\n",
       "    <tr>\n",
       "      <th>1</th>\n",
       "      <td>allowance</td>\n",
       "      <td>allow</td>\n",
       "      <td>allow</td>\n",
       "      <td>allowance</td>\n",
       "    </tr>\n",
       "    <tr>\n",
       "      <th>2</th>\n",
       "      <td>inference</td>\n",
       "      <td>infer</td>\n",
       "      <td>infer</td>\n",
       "      <td>inference</td>\n",
       "    </tr>\n",
       "    <tr>\n",
       "      <th>3</th>\n",
       "      <td>relational</td>\n",
       "      <td>relat</td>\n",
       "      <td>relat</td>\n",
       "      <td>relational</td>\n",
       "    </tr>\n",
       "    <tr>\n",
       "      <th>4</th>\n",
       "      <td>runner</td>\n",
       "      <td>runner</td>\n",
       "      <td>runner</td>\n",
       "      <td>runner</td>\n",
       "    </tr>\n",
       "    <tr>\n",
       "      <th>...</th>\n",
       "      <td>...</td>\n",
       "      <td>...</td>\n",
       "      <td>...</td>\n",
       "      <td>...</td>\n",
       "    </tr>\n",
       "    <tr>\n",
       "      <th>10</th>\n",
       "      <td>wasn't</td>\n",
       "      <td>wasn't</td>\n",
       "      <td>wasn't</td>\n",
       "      <td>wasn't</td>\n",
       "    </tr>\n",
       "    <tr>\n",
       "      <th>11</th>\n",
       "      <td>leaves</td>\n",
       "      <td>leav</td>\n",
       "      <td>leav</td>\n",
       "      <td>leave</td>\n",
       "    </tr>\n",
       "    <tr>\n",
       "      <th>12</th>\n",
       "      <td>swimming</td>\n",
       "      <td>swim</td>\n",
       "      <td>swim</td>\n",
       "      <td>swim</td>\n",
       "    </tr>\n",
       "    <tr>\n",
       "      <th>13</th>\n",
       "      <td>relative</td>\n",
       "      <td>rel</td>\n",
       "      <td>relat</td>\n",
       "      <td>relative</td>\n",
       "    </tr>\n",
       "    <tr>\n",
       "      <th>14</th>\n",
       "      <td>relating</td>\n",
       "      <td>relat</td>\n",
       "      <td>relat</td>\n",
       "      <td>relate</td>\n",
       "    </tr>\n",
       "  </tbody>\n",
       "</table>\n",
       "<p>15 rows × 4 columns</p>\n",
       "</div>"
      ],
      "text/plain": [
       "      oroginal  porter snowball  lemmatizer\n",
       "0      revival   reviv    reviv     revival\n",
       "1    allowance   allow    allow   allowance\n",
       "2    inference   infer    infer   inference\n",
       "3   relational   relat    relat  relational\n",
       "4       runner  runner   runner      runner\n",
       "..         ...     ...      ...         ...\n",
       "10      wasn't  wasn't   wasn't      wasn't\n",
       "11      leaves    leav     leav       leave\n",
       "12    swimming    swim     swim        swim\n",
       "13    relative     rel    relat    relative\n",
       "14    relating   relat    relat      relate\n",
       "\n",
       "[15 rows x 4 columns]"
      ]
     },
     "execution_count": 24,
     "metadata": {},
     "output_type": "execute_result"
    }
   ],
   "source": [
    "porter = PorterStemmer()\n",
    "snowball = SnowballStemmer(\"english\")\n",
    "lemmatizer = nltk.wordnet.WordNetLemmatizer()\n",
    "\n",
    "values = []\n",
    "\n",
    "for s in nltk.word_tokenize(\"\"\"\n",
    "            revival\n",
    "            allowance \n",
    "            inference \n",
    "            relational\n",
    "            runner\n",
    "            runs\n",
    "            ran\n",
    "            has\n",
    "            having\n",
    "            generously\n",
    "            wasn't\n",
    "            leaves\n",
    "            swimming\n",
    "            relative\n",
    "            relating\n",
    "            \"\"\"):\n",
    "    values.append((s, porter.stem(s)\n",
    "          , snowball.stem(s), lemmatizer.lemmatize(s, \"v\")))\n",
    "    \n",
    "pd.DataFrame(values, columns = [\"oroginal\", \"porter\", \"snowball\", \"lemmatizer\"])"
   ]
  },
  {
   "cell_type": "code",
   "execution_count": 25,
   "metadata": {},
   "outputs": [
    {
     "name": "stdout",
     "output_type": "stream",
     "text": [
      "179 ['i', 'me', 'my', 'myself', 'we', 'our', 'ours', 'ourselves', 'you', \"you're\", \"you've\", \"you'll\", \"you'd\", 'your', 'yours', 'yourself', 'yourselves', 'he', 'him', 'his', 'himself', 'she', \"she's\", 'her', 'hers', 'herself', 'it', \"it's\", 'its', 'itself', 'they', 'them', 'their', 'theirs', 'themselves', 'what', 'which', 'who', 'whom', 'this', 'that', \"that'll\", 'these', 'those', 'am', 'is', 'are', 'was', 'were', 'be', 'been', 'being', 'have', 'has', 'had', 'having', 'do', 'does', 'did', 'doing', 'a', 'an', 'the', 'and', 'but', 'if', 'or', 'because', 'as', 'until', 'while', 'of', 'at', 'by', 'for', 'with', 'about', 'against', 'between', 'into', 'through', 'during', 'before', 'after', 'above', 'below', 'to', 'from', 'up', 'down', 'in', 'out', 'on', 'off', 'over', 'under', 'again', 'further', 'then', 'once', 'here', 'there', 'when', 'where', 'why', 'how', 'all', 'any', 'both', 'each', 'few', 'more', 'most', 'other', 'some', 'such', 'no', 'nor', 'not', 'only', 'own', 'same', 'so', 'than', 'too', 'very', 's', 't', 'can', 'will', 'just', 'don', \"don't\", 'should', \"should've\", 'now', 'd', 'll', 'm', 'o', 're', 've', 'y', 'ain', 'aren', \"aren't\", 'couldn', \"couldn't\", 'didn', \"didn't\", 'doesn', \"doesn't\", 'hadn', \"hadn't\", 'hasn', \"hasn't\", 'haven', \"haven't\", 'isn', \"isn't\", 'ma', 'mightn', \"mightn't\", 'mustn', \"mustn't\", 'needn', \"needn't\", 'shan', \"shan't\", 'shouldn', \"shouldn't\", 'wasn', \"wasn't\", 'weren', \"weren't\", 'won', \"won't\", 'wouldn', \"wouldn't\"]\n"
     ]
    }
   ],
   "source": [
    "stopwords = nltk.corpus.stopwords.words(\"english\")\n",
    "print(len(stopwords), stopwords)"
   ]
  },
  {
   "cell_type": "markdown",
   "metadata": {},
   "source": [
    "Lets drop the following words from stopwords since they are likely good indicator of sentiment."
   ]
  },
  {
   "cell_type": "code",
   "execution_count": 26,
   "metadata": {},
   "outputs": [],
   "source": [
    "stopwords.remove(\"no\")\n",
    "stopwords.remove(\"nor\")\n",
    "stopwords.remove(\"not\")"
   ]
  },
  {
   "cell_type": "code",
   "execution_count": 27,
   "metadata": {
    "scrolled": true
   },
   "outputs": [
    {
     "data": {
      "text/plain": [
       "['european',\n",
       " 'author',\n",
       " 'fine',\n",
       " 'googl',\n",
       " 'record',\n",
       " '$51',\n",
       " 'billion',\n",
       " 'wednesday',\n",
       " 'abus',\n",
       " 'power',\n",
       " 'mobil',\n",
       " 'phone',\n",
       " 'market',\n",
       " 'order',\n",
       " 'compani',\n",
       " 'alter',\n",
       " 'practic']"
      ]
     },
     "execution_count": 27,
     "metadata": {},
     "output_type": "execute_result"
    }
   ],
   "source": [
    "#stemmer = SnowballStemmer(\"english\")\n",
    "stemmer = PorterStemmer()\n",
    "def my_tokenizer(s):\n",
    "    #terms = nltk.word_tokenize(s.lower())\n",
    "    terms = re.split(\"\\s\", s.lower())\n",
    "    terms = [re.sub(r\"[\\.!]\", \"\", v) for v in terms if len(v)>2]\n",
    "    terms = [v for v in terms if len(v)>2]\n",
    "    terms = [v for v in terms if v not in stopwords]\n",
    "    terms = [stemmer.stem(w) for w in terms]\n",
    "    terms = [term for term in terms if len(term) > 2]\n",
    "    return terms \n",
    "my_tokenizer(sentence)"
   ]
  },
  {
   "cell_type": "code",
   "execution_count": 28,
   "metadata": {},
   "outputs": [
    {
     "name": "stdout",
     "output_type": "stream",
     "text": [
      "Vocabulary:  {'today': 12, 'wednesday': 16, 'today wednesday': 13, 'delhi': 2, 'weather': 14, 'hot': 5, 'delhi weather': 4, 'weather hot': 15, 'hot today': 6, 'road': 10, 'not': 8, 'busi': 0, 'morn': 7, 'delhi road': 3, 'road not': 11, 'not busi': 9, 'busi morn': 1}\n"
     ]
    }
   ],
   "source": [
    "tfidf = feature_extraction.text.TfidfVectorizer(tokenizer=my_tokenizer\n",
    "                                                , ngram_range=(1, 2))\n",
    "\n",
    "corpus = [\"Today is Wednesday\"\n",
    "          , \"Delhi weather is hot today.\"\n",
    "          , \"Delhi roads are not busy in the morning\"]\n",
    "\n",
    "doc_term_matrix = tfidf.fit_transform(corpus)\n",
    "\n",
    "# returns term and index in the feature matrix\n",
    "print(\"Vocabulary: \", tfidf.vocabulary_) "
   ]
  },
  {
   "cell_type": "code",
   "execution_count": 29,
   "metadata": {},
   "outputs": [
    {
     "data": {
      "text/html": [
       "<div>\n",
       "<style scoped>\n",
       "    .dataframe tbody tr th:only-of-type {\n",
       "        vertical-align: middle;\n",
       "    }\n",
       "\n",
       "    .dataframe tbody tr th {\n",
       "        vertical-align: top;\n",
       "    }\n",
       "\n",
       "    .dataframe thead th {\n",
       "        text-align: right;\n",
       "    }\n",
       "</style>\n",
       "<table border=\"1\" class=\"dataframe\">\n",
       "  <thead>\n",
       "    <tr style=\"text-align: right;\">\n",
       "      <th></th>\n",
       "      <th>busi</th>\n",
       "      <th>busi morn</th>\n",
       "      <th>delhi</th>\n",
       "      <th>delhi road</th>\n",
       "      <th>delhi weather</th>\n",
       "      <th>hot</th>\n",
       "      <th>hot today</th>\n",
       "      <th>morn</th>\n",
       "      <th>not</th>\n",
       "      <th>not busi</th>\n",
       "      <th>road</th>\n",
       "      <th>road not</th>\n",
       "      <th>today</th>\n",
       "      <th>today wednesday</th>\n",
       "      <th>weather</th>\n",
       "      <th>weather hot</th>\n",
       "      <th>wednesday</th>\n",
       "    </tr>\n",
       "  </thead>\n",
       "  <tbody>\n",
       "    <tr>\n",
       "      <th>0</th>\n",
       "      <td>0.0000</td>\n",
       "      <td>0.0000</td>\n",
       "      <td>0.0000</td>\n",
       "      <td>0.0000</td>\n",
       "      <td>0.0000</td>\n",
       "      <td>0.0000</td>\n",
       "      <td>0.0000</td>\n",
       "      <td>0.0000</td>\n",
       "      <td>0.0000</td>\n",
       "      <td>0.0000</td>\n",
       "      <td>0.0000</td>\n",
       "      <td>0.0000</td>\n",
       "      <td>0.4736</td>\n",
       "      <td>0.6228</td>\n",
       "      <td>0.0000</td>\n",
       "      <td>0.0000</td>\n",
       "      <td>0.6228</td>\n",
       "    </tr>\n",
       "    <tr>\n",
       "      <th>1</th>\n",
       "      <td>0.0000</td>\n",
       "      <td>0.0000</td>\n",
       "      <td>0.3065</td>\n",
       "      <td>0.0000</td>\n",
       "      <td>0.4030</td>\n",
       "      <td>0.4030</td>\n",
       "      <td>0.4030</td>\n",
       "      <td>0.0000</td>\n",
       "      <td>0.0000</td>\n",
       "      <td>0.0000</td>\n",
       "      <td>0.0000</td>\n",
       "      <td>0.0000</td>\n",
       "      <td>0.3065</td>\n",
       "      <td>0.0000</td>\n",
       "      <td>0.4030</td>\n",
       "      <td>0.4030</td>\n",
       "      <td>0.0000</td>\n",
       "    </tr>\n",
       "    <tr>\n",
       "      <th>2</th>\n",
       "      <td>0.3414</td>\n",
       "      <td>0.3414</td>\n",
       "      <td>0.2597</td>\n",
       "      <td>0.3414</td>\n",
       "      <td>0.0000</td>\n",
       "      <td>0.0000</td>\n",
       "      <td>0.0000</td>\n",
       "      <td>0.3414</td>\n",
       "      <td>0.3414</td>\n",
       "      <td>0.3414</td>\n",
       "      <td>0.3414</td>\n",
       "      <td>0.3414</td>\n",
       "      <td>0.0000</td>\n",
       "      <td>0.0000</td>\n",
       "      <td>0.0000</td>\n",
       "      <td>0.0000</td>\n",
       "      <td>0.0000</td>\n",
       "    </tr>\n",
       "  </tbody>\n",
       "</table>\n",
       "</div>"
      ],
      "text/plain": [
       "    busi  busi morn  delhi  delhi road  delhi weather    hot  hot today  \\\n",
       "0 0.0000     0.0000 0.0000      0.0000         0.0000 0.0000     0.0000   \n",
       "1 0.0000     0.0000 0.3065      0.0000         0.4030 0.4030     0.4030   \n",
       "2 0.3414     0.3414 0.2597      0.3414         0.0000 0.0000     0.0000   \n",
       "\n",
       "    morn    not  not busi   road  road not  today  today wednesday  weather  \\\n",
       "0 0.0000 0.0000    0.0000 0.0000    0.0000 0.4736           0.6228   0.0000   \n",
       "1 0.0000 0.0000    0.0000 0.0000    0.0000 0.3065           0.0000   0.4030   \n",
       "2 0.3414 0.3414    0.3414 0.3414    0.3414 0.0000           0.0000   0.0000   \n",
       "\n",
       "   weather hot  wednesday  \n",
       "0       0.0000     0.6228  \n",
       "1       0.4030     0.0000  \n",
       "2       0.0000     0.0000  "
      ]
     },
     "execution_count": 29,
     "metadata": {},
     "output_type": "execute_result"
    }
   ],
   "source": [
    "columns = [None] * len(tfidf.vocabulary_)\n",
    "for term in tfidf.vocabulary_:\n",
    "    columns[tfidf.vocabulary_[term]] = term\n",
    "columns\n",
    "scores = pd.DataFrame(doc_term_matrix.toarray()\n",
    "                      , columns= columns)\n",
    "scores"
   ]
  },
  {
   "cell_type": "code",
   "execution_count": 30,
   "metadata": {},
   "outputs": [],
   "source": [
    "X_train_tfidf = tfidf.fit_transform(X_train)\n",
    "X_test_tfidf = tfidf.transform(X_test)"
   ]
  },
  {
   "cell_type": "code",
   "execution_count": 31,
   "metadata": {},
   "outputs": [
    {
     "data": {
      "text/plain": [
       "((25000, 1563344), (25000,), (25000, 1563344), (25000,))"
      ]
     },
     "execution_count": 31,
     "metadata": {},
     "output_type": "execute_result"
    }
   ],
   "source": [
    "X_test_tfidf.shape, y_test.shape, X_train_tfidf.shape, y_train.shape"
   ]
  },
  {
   "cell_type": "markdown",
   "metadata": {},
   "source": [
    "Let's estimate the memory requirment if the data is presented in dense matrix format"
   ]
  },
  {
   "cell_type": "code",
   "execution_count": 32,
   "metadata": {},
   "outputs": [
    {
     "data": {
      "text/plain": [
       "145.59775590896606"
      ]
     },
     "execution_count": 32,
     "metadata": {},
     "output_type": "execute_result"
    }
   ],
   "source": [
    "cell_count = np.product(X_train_tfidf.shape)\n",
    "bytes = cell_count * 4 \n",
    "GBs = bytes / (1024 ** 3) \n",
    "GBs"
   ]
  },
  {
   "cell_type": "code",
   "execution_count": 33,
   "metadata": {},
   "outputs": [
    {
     "data": {
      "text/plain": [
       "0.9998659233796272"
      ]
     },
     "execution_count": 33,
     "metadata": {},
     "output_type": "execute_result"
    }
   ],
   "source": [
    "sparsity = 1 - X_train_tfidf.count_nonzero() / cell_count\n",
    "sparsity"
   ]
  },
  {
   "cell_type": "code",
   "execution_count": 34,
   "metadata": {},
   "outputs": [
    {
     "data": {
      "text/plain": [
       "0.9998659233796272"
      ]
     },
     "execution_count": 34,
     "metadata": {},
     "output_type": "execute_result"
    }
   ],
   "source": [
    "1 - X_train_tfidf.nnz / cell_count"
   ]
  },
  {
   "cell_type": "code",
   "execution_count": 35,
   "metadata": {},
   "outputs": [
    {
     "name": "stdout",
     "output_type": "stream",
     "text": [
      "Type of doc_term_matrix <class 'scipy.sparse.csr.csr_matrix'>\n"
     ]
    }
   ],
   "source": [
    "print(\"Type of doc_term_matrix\", type(X_train_tfidf))"
   ]
  },
  {
   "cell_type": "markdown",
   "metadata": {},
   "source": [
    "Byte size of the training doc sparse doc"
   ]
  },
  {
   "cell_type": "code",
   "execution_count": 36,
   "metadata": {},
   "outputs": [
    {
     "name": "stdout",
     "output_type": "stream",
     "text": [
      "0.03904251009225845 GB\n"
     ]
    }
   ],
   "source": [
    "print(X_train_tfidf.data.nbytes / (1024.0 ** 3), \"GB\")"
   ]
  },
  {
   "cell_type": "markdown",
   "metadata": {},
   "source": [
    "# Classification Model"
   ]
  },
  {
   "cell_type": "code",
   "execution_count": 37,
   "metadata": {},
   "outputs": [
    {
     "name": "stdout",
     "output_type": "stream",
     "text": [
      "Training accuracy:  0.9394\n",
      "Test accuracy:  0.874\n",
      "CPU times: user 4.91 s, sys: 18.2 ms, total: 4.92 s\n",
      "Wall time: 4.21 s\n"
     ]
    }
   ],
   "source": [
    "%%time\n",
    "lr = linear_model.LogisticRegression(C = 0.6, random_state = 1\n",
    "                            , n_jobs = 8, solver=\"saga\")\n",
    "lr.fit(X_train_tfidf, y_train)\n",
    "y_train_pred = lr.predict(X_train_tfidf)\n",
    "y_test_pred = lr.predict(X_test_tfidf)\n",
    "print(\"Training accuracy: \", metrics.accuracy_score(y_train, y_train_pred))\n",
    "print(\"Test accuracy: \", metrics.accuracy_score(y_test, y_test_pred))"
   ]
  },
  {
   "cell_type": "code",
   "execution_count": 38,
   "metadata": {},
   "outputs": [
    {
     "data": {
      "image/png": "[encoded data removed]",
      "text/plain": [
       "<Figure size 432x288 with 1 Axes>"
      ]
     },
     "metadata": {
      "needs_background": "light"
     },
     "output_type": "display_data"
    }
   ],
   "source": [
    "fpr, tpr, thresholds = metrics.roc_curve(y_test,\n",
    "                        lr.predict_proba(X_test_tfidf)[:, [1]])\n",
    "auc = metrics.auc(fpr, tpr)\n",
    "\n",
    "plt.plot(fpr, tpr)\n",
    "plt.ylim(0, 1)\n",
    "plt.xlim(0, 1)\n",
    "plt.plot([0,1], [0,1], ls = \"--\", color = \"k\")\n",
    "plt.xlabel(\"False Postive Rate\")\n",
    "plt.ylabel(\"True Positive Rate\")\n",
    "plt.title(\"ROC Curve, auc: %.4f\" % auc);"
   ]
  },
  {
   "cell_type": "code",
   "execution_count": 39,
   "metadata": {},
   "outputs": [
    {
     "name": "stdout",
     "output_type": "stream",
     "text": [
      "accuracy:  0.86116\n",
      "CPU times: user 586 ms, sys: 85.9 ms, total: 672 ms\n",
      "Wall time: 179 ms\n"
     ]
    }
   ],
   "source": [
    "%%time\n",
    "from sklearn import naive_bayes, ensemble\n",
    "bayes = naive_bayes.MultinomialNB(alpha=1)\n",
    "bayes.fit(X_train_tfidf, y_train)\n",
    "print(\"accuracy: \", bayes.score(X_test_tfidf, y_test))"
   ]
  },
  {
   "cell_type": "code",
   "execution_count": 40,
   "metadata": {},
   "outputs": [
    {
     "name": "stdout",
     "output_type": "stream",
     "text": [
      "accuracy:  0.70016\n",
      "CPU times: user 2min 49s, sys: 168 ms, total: 2min 50s\n",
      "Wall time: 2min 47s\n"
     ]
    }
   ],
   "source": [
    "%%time\n",
    "est = tree.DecisionTreeClassifier()\n",
    "est.fit(X_train_tfidf, y_train)\n",
    "print(\"accuracy: \", est.score(X_test_tfidf, y_test))"
   ]
  },
  {
   "cell_type": "code",
   "execution_count": 41,
   "metadata": {},
   "outputs": [
    {
     "name": "stdout",
     "output_type": "stream",
     "text": [
      "Top 50 terms:  ['bad', 'worst', 'wast', 'great', 'bore', 'terribl', 'love', 'noth', 'stupid', 'excel', 'poor', 'best', 'enjoy', 'movi', 'disappoint', 'beauti', 'wors', 'poorli', 'perfect', 'not', 'fail', 'dull', 'film', 'see', 'like', 'pointless', 'tri', 'also', 'one', 'minut', 'unfortun', 'well', 'ridicul', 'one best', 'suppos', 'look', 'perform', 'act', 'instead', 'good', 'mess', 'anyth', 'lame', 'money', 'better', 'save', 'dream', 'still', 'seem', 'world']\n"
     ]
    }
   ],
   "source": [
    "columns = [None] * len(tfidf.vocabulary_)\n",
    "for term in tfidf.vocabulary_:\n",
    "    columns[tfidf.vocabulary_[term]] = term\n",
    "result = pd.DataFrame({\"feature\": columns\n",
    "                    , \"importance\": est.feature_importances_})\n",
    "result = result.sort_values(\"importance\", ascending = False)\n",
    "result = result[result.importance > 0.0]\n",
    "print(\"Top 50 terms: \", list(result.feature[:50]))"
   ]
  },
  {
   "cell_type": "markdown",
   "metadata": {},
   "source": [
    "# Important terms for a document "
   ]
  },
  {
   "cell_type": "code",
   "execution_count": 42,
   "metadata": {},
   "outputs": [],
   "source": [
    "vocab_by_term = tfidf.vocabulary_\n",
    "vocab_by_idx = dict({(vocab_by_term[term], term) \n",
    "                                 for term in vocab_by_term})"
   ]
  },
  {
   "cell_type": "code",
   "execution_count": 43,
   "metadata": {},
   "outputs": [
    {
     "data": {
      "text/plain": [
       "\"{'bromwel': 179261, 'high': 641518, 'cartoon': 208227, 'comedi': 265770, 'ran': 1100494, 'time': 140\""
      ]
     },
     "execution_count": 43,
     "metadata": {},
     "output_type": "execute_result"
    }
   ],
   "source": [
    "str(vocab_by_term)[:100]"
   ]
  },
  {
   "cell_type": "code",
   "execution_count": 44,
   "metadata": {
    "scrolled": false
   },
   "outputs": [
    {
     "data": {
      "text/plain": [
       "\"{43920: 'aliv consequ', 526473: 'flick two', 198373: 'camper back', 126058: 'beauti laundrett', 1455\""
      ]
     },
     "execution_count": 44,
     "metadata": {},
     "output_type": "execute_result"
    }
   ],
   "source": [
    "str(vocab_by_idx)[:100]"
   ]
  },
  {
   "cell_type": "code",
   "execution_count": 45,
   "metadata": {},
   "outputs": [
    {
     "name": "stdout",
     "output_type": "stream",
     "text": [
      "Content:\n",
      " this isn t the comedic robin williams nor is it the quirky insane robin williams of recent thriller fame this is a hybrid of the classic drama without over dramatization mixed with robin s new love of the thriller but this isn t a thriller per se this is more a mystery suspense vehicle through which williams attempts to locate a sick boy and his keeper also starring sandra oh and rory culkin this suspense drama plays pretty much like a news report until william s character gets close to achieving his goal i must say that i was highly entertained though this movie fails to teach guide inspect or amuse it felt more like i was watching a guy williams as he was actually performing the actions from a third person perspective in other words it felt real and i was able to subscribe to the premise of the story all in all it s worth a watch though it s definitely not friday saturday night fare it rates a 7 7 10 from the fiend \n"
     ]
    },
    {
     "data": {
      "text/plain": [
       "william         0.2206\n",
       "robin           0.1737\n",
       "robin william   0.1333\n",
       "thriller        0.1286\n",
       "boy keeper      0.1013\n",
       "                 ...  \n",
       "stori           0.0208\n",
       "charact         0.0204\n",
       "get             0.0196\n",
       "not             0.0147\n",
       "movi            0.0139\n",
       "Length: 166, dtype: float64"
      ]
     },
     "execution_count": 45,
     "metadata": {},
     "output_type": "execute_result"
    }
   ],
   "source": [
    "idx = 5\n",
    "print(\"Content:\\n\", X_train[idx])\n",
    "row = X_train_tfidf[idx]\n",
    "terms = [(vocab_by_idx[row.indices[i]], row.data[i])\n",
    "             for i, term in enumerate(row.indices)]\n",
    "pd.Series(dict(terms)).sort_values(ascending = False)"
   ]
  },
  {
   "cell_type": "code",
   "execution_count": 46,
   "metadata": {},
   "outputs": [
    {
     "data": {
      "image/png": "[encoded data removed]",
      "text/plain": [
       "<Figure size 720x720 with 1 Axes>"
      ]
     },
     "metadata": {
      "needs_background": "light"
     },
     "output_type": "display_data"
    }
   ],
   "source": [
    "idx = 50\n",
    "row = X_train_tfidf[idx]\n",
    "terms = [(vocab_by_idx[row.indices[i]], row.data[i]) \n",
    "                 for i, term in enumerate(row.indices)]\n",
    "top_terms= list(pd.Series(dict(terms))\\\n",
    "                .sort_values(ascending = False)[:50].index)\n",
    "wc = WordCloud(background_color=\"white\", \n",
    "    width=500, height=500, max_words=50).generate(\"+\".join(top_terms))\n",
    "plt.figure(figsize=(10, 10))\n",
    "plt.imshow(wc)\n",
    "plt.axis(\"off\");"
   ]
  },
  {
   "cell_type": "markdown",
   "metadata": {},
   "source": [
    "# Build Pipeline for classificaiton Model"
   ]
  },
  {
   "cell_type": "code",
   "execution_count": 47,
   "metadata": {},
   "outputs": [
    {
     "name": "stdout",
     "output_type": "stream",
     "text": [
      "CPU times: user 1min 20s, sys: 418 ms, total: 1min 20s\n",
      "Wall time: 1min 17s\n"
     ]
    }
   ],
   "source": [
    "%%time\n",
    "tfidf =feature_extraction.text.TfidfVectorizer(\n",
    "              tokenizer=my_tokenizer\n",
    "            , stop_words = stopwords\n",
    "            , ngram_range=(1, 2)\n",
    "        )\n",
    "\n",
    "pipe = pipeline.Pipeline([\n",
    "    (\"tfidf\", tfidf),\n",
    "    (\"est\", linear_model.LogisticRegression(C = 1.0, random_state = 1\n",
    "                            , n_jobs = 8, solver=\"saga\"))\n",
    "])\n",
    "pipe.fit(X_train, y_train)"
   ]
  },
  {
   "cell_type": "code",
   "execution_count": 48,
   "metadata": {},
   "outputs": [],
   "source": [
    "import pickle"
   ]
  },
  {
   "cell_type": "code",
   "execution_count": 49,
   "metadata": {},
   "outputs": [],
   "source": [
    "with open(\"/tmp/model.pkl\", \"wb\") as f:\n",
    "    pickle.dump(pipe, f)"
   ]
  },
  {
   "cell_type": "code",
   "execution_count": 50,
   "metadata": {},
   "outputs": [
    {
     "name": "stdout",
     "output_type": "stream",
     "text": [
      "-rw-r--r--  1 abasar  wheel   123M May 17 12:02 /tmp/model.pkl\r\n"
     ]
    }
   ],
   "source": [
    "!ls -lh /tmp/model.pkl"
   ]
  },
  {
   "cell_type": "code",
   "execution_count": 51,
   "metadata": {},
   "outputs": [],
   "source": [
    "with open(\"/tmp/model.pkl\", \"rb\") as f:\n",
    "    model = pickle.load(f)"
   ]
  },
  {
   "cell_type": "code",
   "execution_count": 52,
   "metadata": {},
   "outputs": [],
   "source": [
    "doc1 = \"\"\"when we started watching this series on \n",
    "cable i had no idea how addictive it would be \n",
    "even when you hate a character you hold back because \n",
    "they are so beautifully developed you can almost\n",
    "understand why they react to frustration fear greed \n",
    "or temptation the way they do it s almost as if the\n",
    "viewer is experiencing one of christopher s learning \n",
    "curves i can t understand why adriana would put up with \n",
    "christopher s abuse of her verbally physically and \n",
    "emotionally but i just have to read the newspaper to \n",
    "see how many women can and do tolerate such behavior \n",
    "carmella has a dream house endless supply of expensive \n",
    "things but i m sure she would give it up for a loving \n",
    "and faithful husband or maybe not that s why i watch \n",
    "it doesn t matter how many times you watch an episode\n",
    "you can find something you missed the first five times \n",
    "we even watch episodes out of sequence watch season 1 \n",
    "on late night with commercials but all the language a e \n",
    "with language censored reruns on the movie network whenever \n",
    "they re on we re there we ve been totally spoiled now i also \n",
    "love the malaprop s an albacore around my neck is my favorite of\n",
    "johnny boy when these jewels have entered our family vocabulary \n",
    "it is a sign that i should get a life i will when the series\n",
    "ends and i have collected all the dvd s and put the collection \n",
    "in my will\"\"\"\n",
    "doc1 = preprocess(doc1)"
   ]
  },
  {
   "cell_type": "code",
   "execution_count": 53,
   "metadata": {},
   "outputs": [
    {
     "data": {
      "text/plain": [
       "array([0.8004])"
      ]
     },
     "execution_count": 53,
     "metadata": {},
     "output_type": "execute_result"
    }
   ],
   "source": [
    "model.predict_proba(np.array([doc1]))[:, 1]"
   ]
  },
  {
   "cell_type": "markdown",
   "metadata": {},
   "source": [
    "# Hashing Vectorizer\n",
    "\n",
    "\n",
    "\n",
    "Convert a collection of text documents to a matrix of deterministic hash token (murmur3) occurrences\n",
    "\n",
    "It turns a collection of text documents into a scipy.sparse matrix holding token occurrence counts (or binary occurrence information), possibly normalized as token frequencies if norm=’l1’ or projected on the euclidean unit sphere if norm=’l2’.\n",
    "\n",
    "Advantages \n",
    "- it is very low memory scalable to large datasets as there is no need to store a vocabulary dictionary in memory\n",
    "- it is fast to pickle and un-pickle as it holds no state besides the constructor parameters\n",
    "- it can be used in a streaming (partial fit) or parallel pipeline as there is no state computed during fit.\n",
    "\n",
    "Disadvantages\n",
    "- there is no way to compute the inverse transform (from feature indices to string feature names) which can be a problem when trying to introspect which features are most important to a model.\n",
    "- there can be collisions: distinct tokens can be mapped to the same feature index. However in practice this is rarely an issue if n_features is large enough (e.g. 2 ** 18 for text classification problems).\n",
    "- no IDF weighting as this would render the transformer stateful."
   ]
  },
  {
   "cell_type": "code",
   "execution_count": 54,
   "metadata": {},
   "outputs": [
    {
     "data": {
      "text/html": [
       "<div>\n",
       "<style scoped>\n",
       "    .dataframe tbody tr th:only-of-type {\n",
       "        vertical-align: middle;\n",
       "    }\n",
       "\n",
       "    .dataframe tbody tr th {\n",
       "        vertical-align: top;\n",
       "    }\n",
       "\n",
       "    .dataframe thead th {\n",
       "        text-align: right;\n",
       "    }\n",
       "</style>\n",
       "<table border=\"1\" class=\"dataframe\">\n",
       "  <thead>\n",
       "    <tr style=\"text-align: right;\">\n",
       "      <th></th>\n",
       "      <th>0</th>\n",
       "      <th>1</th>\n",
       "      <th>2</th>\n",
       "      <th>3</th>\n",
       "      <th>4</th>\n",
       "      <th>5</th>\n",
       "      <th>6</th>\n",
       "      <th>7</th>\n",
       "    </tr>\n",
       "  </thead>\n",
       "  <tbody>\n",
       "    <tr>\n",
       "      <th>0</th>\n",
       "      <td>0.0000</td>\n",
       "      <td>0.5774</td>\n",
       "      <td>0.0000</td>\n",
       "      <td>0.5774</td>\n",
       "      <td>0.0000</td>\n",
       "      <td>0.0000</td>\n",
       "      <td>-0.5774</td>\n",
       "      <td>0.0000</td>\n",
       "    </tr>\n",
       "    <tr>\n",
       "      <th>1</th>\n",
       "      <td>0.0000</td>\n",
       "      <td>0.3780</td>\n",
       "      <td>0.7559</td>\n",
       "      <td>0.0000</td>\n",
       "      <td>0.0000</td>\n",
       "      <td>-0.3780</td>\n",
       "      <td>-0.3780</td>\n",
       "      <td>0.0000</td>\n",
       "    </tr>\n",
       "    <tr>\n",
       "      <th>2</th>\n",
       "      <td>0.0000</td>\n",
       "      <td>-0.4472</td>\n",
       "      <td>0.0000</td>\n",
       "      <td>0.0000</td>\n",
       "      <td>0.4472</td>\n",
       "      <td>-0.4472</td>\n",
       "      <td>-0.4472</td>\n",
       "      <td>0.4472</td>\n",
       "    </tr>\n",
       "  </tbody>\n",
       "</table>\n",
       "</div>"
      ],
      "text/plain": [
       "       0       1      2      3      4       5       6      7\n",
       "0 0.0000  0.5774 0.0000 0.5774 0.0000  0.0000 -0.5774 0.0000\n",
       "1 0.0000  0.3780 0.7559 0.0000 0.0000 -0.3780 -0.3780 0.0000\n",
       "2 0.0000 -0.4472 0.0000 0.0000 0.4472 -0.4472 -0.4472 0.4472"
      ]
     },
     "execution_count": 54,
     "metadata": {},
     "output_type": "execute_result"
    }
   ],
   "source": [
    "hashing_vectorizer = feature_extraction.text.HashingVectorizer(n_features=2 ** 3\n",
    "                                            , tokenizer=my_tokenizer, ngram_range=(1, 2))\n",
    "\n",
    "corpus = [\"Today is Wednesday\"\n",
    "          , \"Delhi weather is hot today.\"\n",
    "          , \"Delhi roads are not busy in the morning\"]\n",
    "\n",
    "doc_term_matrix = hashing_vectorizer.fit_transform(corpus)\n",
    "\n",
    "pd.DataFrame(doc_term_matrix.toarray()) # Each cell is normalized (l2) row-wise\n"
   ]
  },
  {
   "cell_type": "code",
   "execution_count": 55,
   "metadata": {},
   "outputs": [
    {
     "name": "stdout",
     "output_type": "stream",
     "text": [
      "CPU times: user 2min 14s, sys: 317 ms, total: 2min 14s\n",
      "Wall time: 2min 4s\n"
     ]
    }
   ],
   "source": [
    "%%time\n",
    "\n",
    "n_features = 2 ** 20\n",
    "\n",
    "hashing_vectorizer = feature_extraction.text.HashingVectorizer(n_features=n_features\n",
    "                                         , tokenizer=my_tokenizer, ngram_range=(1, 2))\n",
    "X_train_hash = hashing_vectorizer.fit_transform(X_train)\n",
    "X_test_hash = hashing_vectorizer.transform(X_test)"
   ]
  },
  {
   "cell_type": "code",
   "execution_count": 56,
   "metadata": {},
   "outputs": [
    {
     "data": {
      "text/plain": [
       "<25000x1048576 sparse matrix of type '<class 'numpy.float64'>'\n",
       "\twith 5239460 stored elements in Compressed Sparse Row format>"
      ]
     },
     "execution_count": 56,
     "metadata": {},
     "output_type": "execute_result"
    }
   ],
   "source": [
    "X_train_hash"
   ]
  },
  {
   "cell_type": "code",
   "execution_count": 57,
   "metadata": {},
   "outputs": [
    {
     "data": {
      "text/plain": [
       "((25000, 1048576), (25000, 1048576))"
      ]
     },
     "execution_count": 57,
     "metadata": {},
     "output_type": "execute_result"
    }
   ],
   "source": [
    "X_train_hash.shape, X_test_hash.shape"
   ]
  },
  {
   "cell_type": "code",
   "execution_count": 58,
   "metadata": {},
   "outputs": [
    {
     "name": "stdout",
     "output_type": "stream",
     "text": [
      "0.03903701901435852 GB\n"
     ]
    }
   ],
   "source": [
    "print(X_train_hash.data.nbytes / (1024.0 ** 3), \"GB\")"
   ]
  },
  {
   "cell_type": "code",
   "execution_count": 59,
   "metadata": {},
   "outputs": [
    {
     "name": "stdout",
     "output_type": "stream",
     "text": [
      "Training accuracy:  0.91888\n",
      "Test accuracy:  0.87364\n",
      "CPU times: user 18.1 s, sys: 161 ms, total: 18.3 s\n",
      "Wall time: 3.14 s\n"
     ]
    }
   ],
   "source": [
    "%%time\n",
    "lr = linear_model.LogisticRegression(C = 1.0, random_state = 1,\n",
    "                            solver = \"liblinear\")\n",
    "lr.fit(X_train_hash, y_train)\n",
    "y_train_pred = lr.predict(X_train_hash)\n",
    "y_test_pred = lr.predict(X_test_hash)\n",
    "print(\"Training accuracy: \", metrics.accuracy_score(y_train, y_train_pred))\n",
    "print(\"Test accuracy: \", metrics.accuracy_score(y_test, y_test_pred))"
   ]
  }
 ],
 "metadata": {
  "kernelspec": {
   "display_name": "Python 3",
   "language": "python",
   "name": "python3"
  },
  "language_info": {
   "codemirror_mode": {
    "name": "ipython",
    "version": 3
   },
   "file_extension": ".py",
   "mimetype": "text/x-python",
   "name": "python",
   "nbconvert_exporter": "python",
   "pygments_lexer": "ipython3",
   "version": "3.7.3"
  }
 },
 "nbformat": 4,
 "nbformat_minor": 2
}
