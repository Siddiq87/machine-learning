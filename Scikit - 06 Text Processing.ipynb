{
 "cells": [
  {
   "cell_type": "markdown",
   "metadata": {},
   "source": [
    "# Dataset\n",
    "\n",
    "Download the dataset and save it to a directory at per your convience. [IMDB comments](https://github.com/abulbasar/data/blob/master/imdb-comments.json.zip?raw=true)"
   ]
  },
  {
   "cell_type": "code",
   "execution_count": 1,
   "metadata": {},
   "outputs": [],
   "source": [
    "import pandas as pd # Used for dataframe functions\n",
    "import json # parse json string\n",
    "import nltk # Natural language toolkit for TDIDF etc.\n",
    "from bs4 import BeautifulSoup # Parse html string .. to extract text\n",
    "import re # Regex parser \n",
    "import numpy as np # Linear algebbra \n",
    "from sklearn import * # machine learning\n",
    "import matplotlib.pyplot as plt # Visualization\n",
    "\n",
    "\n",
    "# Wordcloud does not work on Windows. \n",
    "# Comment the below if you want to skip\n",
    "from wordcloud import WordCloud # Word cloud visualization\n",
    "import scipy #Sparse matrix \n",
    "\n",
    "np.set_printoptions(precision=4)\n",
    "pd.options.display.max_columns = 1000\n",
    "pd.options.display.max_rows = 10\n",
    "pd.options.display.float_format = lambda f: \"%.4f\" % f\n",
    "\n",
    "%matplotlib inline "
   ]
  },
  {
   "cell_type": "markdown",
   "metadata": {},
   "source": [
    "Run the following lines when you run this notebook first time on your system."
   ]
  },
  {
   "cell_type": "code",
   "execution_count": 2,
   "metadata": {},
   "outputs": [
    {
     "name": "stderr",
     "output_type": "stream",
     "text": [
      "[nltk_data] Downloading package punkt to /Users/abasar/nltk_data...\n",
      "[nltk_data]   Unzipping tokenizers/punkt.zip.\n",
      "[nltk_data] Downloading package stopwords to\n",
      "[nltk_data]     /Users/abasar/nltk_data...\n",
      "[nltk_data]   Package stopwords is already up-to-date!\n",
      "[nltk_data] Downloading package wordnet to /Users/abasar/nltk_data...\n",
      "[nltk_data]   Package wordnet is already up-to-date!\n",
      "[nltk_data] Downloading package averaged_perceptron_tagger to\n",
      "[nltk_data]     /Users/abasar/nltk_data...\n",
      "[nltk_data]   Package averaged_perceptron_tagger is already up-to-\n",
      "[nltk_data]       date!\n",
      "[nltk_data] Downloading package vader_lexicon to\n",
      "[nltk_data]     /Users/abasar/nltk_data...\n",
      "[nltk_data]   Package vader_lexicon is already up-to-date!\n"
     ]
    },
    {
     "data": {
      "text/plain": [
       "True"
      ]
     },
     "execution_count": 2,
     "metadata": {},
     "output_type": "execute_result"
    }
   ],
   "source": [
    "import nltk\n",
    "nltk.download(\"punkt\")\n",
    "nltk.download(\"stopwords\")\n",
    "nltk.download(\"wordnet\")\n",
    "nltk.download('averaged_perceptron_tagger')\n",
    "nltk.download(\"vader_lexicon\") "
   ]
  },
  {
   "cell_type": "code",
   "execution_count": 3,
   "metadata": {},
   "outputs": [
    {
     "name": "stdout",
     "output_type": "stream",
     "text": [
      "3.4.5\n"
     ]
    }
   ],
   "source": [
    "print(nltk.__version__)"
   ]
  },
  {
   "cell_type": "markdown",
   "metadata": {},
   "source": [
    "Now let's see how to create text classifier using nltk and scikit learn."
   ]
  },
  {
   "cell_type": "code",
   "execution_count": 4,
   "metadata": {
    "scrolled": true
   },
   "outputs": [
    {
     "name": "stdout",
     "output_type": "stream",
     "text": [
      "{\"label\":\"test\",\"sentiment\":\"pos\",\"name\":\"0_10.txt\",\"content\":\"I went and saw this movie last night after being coaxed to by a few friends of mine. I'll admit that I was reluctant to see it because from what I knew of Ashton Kutcher he was only able to do comedy. I was wrong. Kutcher played the character of Jake Fischer very well, and Kevin Costner played Ben Randall with such professionalism. The sign of a good movie is that it can toy with our emotions. This one did exactly that. The entire theater (which was sold out) was overcome by laughter during the first half of the movie, and were moved to tears during the second half. While exiting the theater I not only saw many women in tears, but many full grown men as well, trying desperately not to let anyone see them crying. This movie was great, and I suggest that you go see it before you judge.\"}\r\n"
     ]
    }
   ],
   "source": [
    "# The following line does not work on Windows system\n",
    "!head -n 1 /data/imdb-comments.json"
   ]
  },
  {
   "cell_type": "code",
   "execution_count": 5,
   "metadata": {},
   "outputs": [],
   "source": [
    "data = []\n",
    "with open(\"/data/imdb-comments.json\", \"r\", encoding=\"utf8\") as f:\n",
    "    for l in f.readlines():\n",
    "        data.append(json.loads(l))    "
   ]
  },
  {
   "cell_type": "code",
   "execution_count": 6,
   "metadata": {
    "scrolled": true
   },
   "outputs": [
    {
     "data": {
      "text/html": [
       "<div>\n",
       "<style scoped>\n",
       "    .dataframe tbody tr th:only-of-type {\n",
       "        vertical-align: middle;\n",
       "    }\n",
       "\n",
       "    .dataframe tbody tr th {\n",
       "        vertical-align: top;\n",
       "    }\n",
       "\n",
       "    .dataframe thead th {\n",
       "        text-align: right;\n",
       "    }\n",
       "</style>\n",
       "<table border=\"1\" class=\"dataframe\">\n",
       "  <thead>\n",
       "    <tr style=\"text-align: right;\">\n",
       "      <th></th>\n",
       "      <th>label</th>\n",
       "      <th>sentiment</th>\n",
       "      <th>name</th>\n",
       "      <th>content</th>\n",
       "    </tr>\n",
       "  </thead>\n",
       "  <tbody>\n",
       "    <tr>\n",
       "      <td>11965</td>\n",
       "      <td>test</td>\n",
       "      <td>pos</td>\n",
       "      <td>951_10.txt</td>\n",
       "      <td>if u haven't seen Vijay in \"Ghillli\", \"Gilly\" ...</td>\n",
       "    </tr>\n",
       "    <tr>\n",
       "      <td>9445</td>\n",
       "      <td>test</td>\n",
       "      <td>pos</td>\n",
       "      <td>7251_9.txt</td>\n",
       "      <td>Robert Carlyle excels again. The period was ca...</td>\n",
       "    </tr>\n",
       "    <tr>\n",
       "      <td>39395</td>\n",
       "      <td>train</td>\n",
       "      <td>neg</td>\n",
       "      <td>11706_3.txt</td>\n",
       "      <td>A novel by Remarque. A cast that looks great o...</td>\n",
       "    </tr>\n",
       "    <tr>\n",
       "      <td>1160</td>\n",
       "      <td>test</td>\n",
       "      <td>pos</td>\n",
       "      <td>11044_7.txt</td>\n",
       "      <td>'Anne Christie' was Garbo's 14th film and the ...</td>\n",
       "    </tr>\n",
       "    <tr>\n",
       "      <td>21277</td>\n",
       "      <td>test</td>\n",
       "      <td>neg</td>\n",
       "      <td>6650_1.txt</td>\n",
       "      <td>This is one of those movies where I was rootin...</td>\n",
       "    </tr>\n",
       "    <tr>\n",
       "      <td>6957</td>\n",
       "      <td>test</td>\n",
       "      <td>pos</td>\n",
       "      <td>5011_10.txt</td>\n",
       "      <td>I saw the movie at the Nashville film festival...</td>\n",
       "    </tr>\n",
       "    <tr>\n",
       "      <td>49884</td>\n",
       "      <td>train</td>\n",
       "      <td>neg</td>\n",
       "      <td>9898_1.txt</td>\n",
       "      <td>This version of \"Moby Dick\" insults the audien...</td>\n",
       "    </tr>\n",
       "    <tr>\n",
       "      <td>26891</td>\n",
       "      <td>train</td>\n",
       "      <td>pos</td>\n",
       "      <td>11702_10.txt</td>\n",
       "      <td>A Thief in the Night has got to be the best ou...</td>\n",
       "    </tr>\n",
       "    <tr>\n",
       "      <td>24352</td>\n",
       "      <td>test</td>\n",
       "      <td>neg</td>\n",
       "      <td>9418_2.txt</td>\n",
       "      <td>When you see Barry Corbin in the cast of a mov...</td>\n",
       "    </tr>\n",
       "    <tr>\n",
       "      <td>38956</td>\n",
       "      <td>train</td>\n",
       "      <td>neg</td>\n",
       "      <td>11310_1.txt</td>\n",
       "      <td>First of all, yes, animals have emotions. If y...</td>\n",
       "    </tr>\n",
       "  </tbody>\n",
       "</table>\n",
       "</div>"
      ],
      "text/plain": [
       "       label sentiment          name  \\\n",
       "11965   test       pos    951_10.txt   \n",
       "9445    test       pos    7251_9.txt   \n",
       "39395  train       neg   11706_3.txt   \n",
       "1160    test       pos   11044_7.txt   \n",
       "21277   test       neg    6650_1.txt   \n",
       "6957    test       pos   5011_10.txt   \n",
       "49884  train       neg    9898_1.txt   \n",
       "26891  train       pos  11702_10.txt   \n",
       "24352   test       neg    9418_2.txt   \n",
       "38956  train       neg   11310_1.txt   \n",
       "\n",
       "                                                 content  \n",
       "11965  if u haven't seen Vijay in \"Ghillli\", \"Gilly\" ...  \n",
       "9445   Robert Carlyle excels again. The period was ca...  \n",
       "39395  A novel by Remarque. A cast that looks great o...  \n",
       "1160   'Anne Christie' was Garbo's 14th film and the ...  \n",
       "21277  This is one of those movies where I was rootin...  \n",
       "6957   I saw the movie at the Nashville film festival...  \n",
       "49884  This version of \"Moby Dick\" insults the audien...  \n",
       "26891  A Thief in the Night has got to be the best ou...  \n",
       "24352  When you see Barry Corbin in the cast of a mov...  \n",
       "38956  First of all, yes, animals have emotions. If y...  "
      ]
     },
     "execution_count": 6,
     "metadata": {},
     "output_type": "execute_result"
    }
   ],
   "source": [
    "comments = pd.DataFrame.from_dict(data)\n",
    "comments.sample(10)"
   ]
  },
  {
   "cell_type": "code",
   "execution_count": 7,
   "metadata": {},
   "outputs": [
    {
     "name": "stdout",
     "output_type": "stream",
     "text": [
      "<class 'pandas.core.frame.DataFrame'>\n",
      "RangeIndex: 50000 entries, 0 to 49999\n",
      "Data columns (total 4 columns):\n",
      "label        50000 non-null object\n",
      "sentiment    50000 non-null object\n",
      "name         50000 non-null object\n",
      "content      50000 non-null object\n",
      "dtypes: object(4)\n",
      "memory usage: 1.5+ MB\n"
     ]
    }
   ],
   "source": [
    "comments.info()"
   ]
  },
  {
   "cell_type": "code",
   "execution_count": 8,
   "metadata": {},
   "outputs": [
    {
     "data": {
      "text/plain": [
       "train    25000\n",
       "test     25000\n",
       "Name: label, dtype: int64"
      ]
     },
     "execution_count": 8,
     "metadata": {},
     "output_type": "execute_result"
    }
   ],
   "source": [
    "comments.label.value_counts()"
   ]
  },
  {
   "cell_type": "code",
   "execution_count": 9,
   "metadata": {},
   "outputs": [
    {
     "data": {
      "text/html": [
       "<div>\n",
       "<style scoped>\n",
       "    .dataframe tbody tr th:only-of-type {\n",
       "        vertical-align: middle;\n",
       "    }\n",
       "\n",
       "    .dataframe tbody tr th {\n",
       "        vertical-align: top;\n",
       "    }\n",
       "\n",
       "    .dataframe thead th {\n",
       "        text-align: right;\n",
       "    }\n",
       "</style>\n",
       "<table border=\"1\" class=\"dataframe\">\n",
       "  <thead>\n",
       "    <tr style=\"text-align: right;\">\n",
       "      <th>sentiment</th>\n",
       "      <th>neg</th>\n",
       "      <th>pos</th>\n",
       "    </tr>\n",
       "    <tr>\n",
       "      <th>label</th>\n",
       "      <th></th>\n",
       "      <th></th>\n",
       "    </tr>\n",
       "  </thead>\n",
       "  <tbody>\n",
       "    <tr>\n",
       "      <td>test</td>\n",
       "      <td>12500</td>\n",
       "      <td>12500</td>\n",
       "    </tr>\n",
       "    <tr>\n",
       "      <td>train</td>\n",
       "      <td>12500</td>\n",
       "      <td>12500</td>\n",
       "    </tr>\n",
       "  </tbody>\n",
       "</table>\n",
       "</div>"
      ],
      "text/plain": [
       "sentiment    neg    pos\n",
       "label                  \n",
       "test       12500  12500\n",
       "train      12500  12500"
      ]
     },
     "execution_count": 9,
     "metadata": {},
     "output_type": "execute_result"
    }
   ],
   "source": [
    "comments.groupby([\"label\", \"sentiment\"]).content.count().unstack()"
   ]
  },
  {
   "cell_type": "code",
   "execution_count": 10,
   "metadata": {},
   "outputs": [
    {
     "data": {
      "text/plain": [
       "'When we started watching this series on cable, I had no idea how addictive it would be. Even when you hate a character, you hold back because they are so beautifully developed, you can almost understand why they react to frustration, fear, greed or temptation the way they do. It\\'s almost as if the viewer is experiencing one of Christopher\\'s learning curves.<br /><br />I can\\'t understand why Adriana would put up with Christopher\\'s abuse of her, verbally, physically and emotionally, but I just have to read the newspaper to see how many women can and do tolerate such behavior. Carmella has a dream house, endless supply of expensive things, but I\\'m sure she would give it up for a loving and faithful husband - or maybe not. That\\'s why I watch.<br /><br />It doesn\\'t matter how many times you watch an episode, you can find something you missed the first five times. We even watch episodes out of sequence (watch season 1 on late night with commercials but all the language, A&E with language censored, reruns on the Movie Network) - whenever they\\'re on, we\\'re there. We\\'ve been totally spoiled now.<br /><br />I also love the Malaprop\\'s. \"An albacore around my neck\" is my favorite of Johnny Boy. When these jewels have entered our family vocabulary, it is a sign that I should get a life. I will when the series ends, and I have collected all the DVD\\'s, and put the collection in my will.'"
      ]
     },
     "execution_count": 10,
     "metadata": {},
     "output_type": "execute_result"
    }
   ],
   "source": [
    "np.random.seed(1)\n",
    "v = list(comments[\"content\"].sample(1))[0]\n",
    "v"
   ]
  },
  {
   "cell_type": "code",
   "execution_count": 11,
   "metadata": {},
   "outputs": [
    {
     "data": {
      "text/html": [
       "<div>\n",
       "<style scoped>\n",
       "    .dataframe tbody tr th:only-of-type {\n",
       "        vertical-align: middle;\n",
       "    }\n",
       "\n",
       "    .dataframe tbody tr th {\n",
       "        vertical-align: top;\n",
       "    }\n",
       "\n",
       "    .dataframe thead th {\n",
       "        text-align: right;\n",
       "    }\n",
       "</style>\n",
       "<table border=\"1\" class=\"dataframe\">\n",
       "  <thead>\n",
       "    <tr style=\"text-align: right;\">\n",
       "      <th></th>\n",
       "      <th>label</th>\n",
       "      <th>sentiment</th>\n",
       "      <th>name</th>\n",
       "      <th>content</th>\n",
       "    </tr>\n",
       "  </thead>\n",
       "  <tbody>\n",
       "    <tr>\n",
       "      <td>0</td>\n",
       "      <td>test</td>\n",
       "      <td>pos</td>\n",
       "      <td>0_10.txt</td>\n",
       "      <td>I went and saw this movie last night after bei...</td>\n",
       "    </tr>\n",
       "    <tr>\n",
       "      <td>1</td>\n",
       "      <td>test</td>\n",
       "      <td>pos</td>\n",
       "      <td>10000_7.txt</td>\n",
       "      <td>Actor turned director Bill Paxton follows up h...</td>\n",
       "    </tr>\n",
       "    <tr>\n",
       "      <td>2</td>\n",
       "      <td>test</td>\n",
       "      <td>pos</td>\n",
       "      <td>10001_9.txt</td>\n",
       "      <td>As a recreational golfer with some knowledge o...</td>\n",
       "    </tr>\n",
       "    <tr>\n",
       "      <td>3</td>\n",
       "      <td>test</td>\n",
       "      <td>pos</td>\n",
       "      <td>10002_8.txt</td>\n",
       "      <td>I saw this film in a sneak preview, and it is ...</td>\n",
       "    </tr>\n",
       "    <tr>\n",
       "      <td>4</td>\n",
       "      <td>test</td>\n",
       "      <td>pos</td>\n",
       "      <td>10003_8.txt</td>\n",
       "      <td>Bill Paxton has taken the true story of the 19...</td>\n",
       "    </tr>\n",
       "  </tbody>\n",
       "</table>\n",
       "</div>"
      ],
      "text/plain": [
       "  label sentiment         name  \\\n",
       "0  test       pos     0_10.txt   \n",
       "1  test       pos  10000_7.txt   \n",
       "2  test       pos  10001_9.txt   \n",
       "3  test       pos  10002_8.txt   \n",
       "4  test       pos  10003_8.txt   \n",
       "\n",
       "                                             content  \n",
       "0  I went and saw this movie last night after bei...  \n",
       "1  Actor turned director Bill Paxton follows up h...  \n",
       "2  As a recreational golfer with some knowledge o...  \n",
       "3  I saw this film in a sneak preview, and it is ...  \n",
       "4  Bill Paxton has taken the true story of the 19...  "
      ]
     },
     "execution_count": 11,
     "metadata": {},
     "output_type": "execute_result"
    }
   ],
   "source": [
    "comments.head()"
   ]
  },
  {
   "cell_type": "code",
   "execution_count": 12,
   "metadata": {},
   "outputs": [
    {
     "data": {
      "text/plain": [
       "\"I went and saw this movie last night after being coaxed to by a few friends of mine. I'll admit that I was reluctant to see it because from what I knew of Ashton Kutcher he was only able to do comedy. I was wrong. Kutcher played the character of Jake Fischer very well, and Kevin Costner played Ben Randall with such professionalism. The sign of a good movie is that it can toy with our emotions. This one did exactly that. The entire theater (which was sold out) was overcome by laughter during the first half of the movie, and were moved to tears during the second half. While exiting the theater I not only saw many women in tears, but many full grown men as well, trying desperately not to let anyone see them crying. This movie was great, and I suggest that you go see it before you judge.\""
      ]
     },
     "execution_count": 12,
     "metadata": {},
     "output_type": "execute_result"
    }
   ],
   "source": [
    "comments[\"content\"].values[0]"
   ]
  },
  {
   "cell_type": "markdown",
   "metadata": {},
   "source": [
    "# Vader Sentiment Analysis"
   ]
  },
  {
   "cell_type": "code",
   "execution_count": 13,
   "metadata": {},
   "outputs": [],
   "source": [
    "from nltk.sentiment.vader import SentimentIntensityAnalyzer\n",
    "sia = SentimentIntensityAnalyzer()"
   ]
  },
  {
   "cell_type": "code",
   "execution_count": 14,
   "metadata": {},
   "outputs": [
    {
     "data": {
      "text/plain": [
       "{'neg': 0.085, 'neu': 0.775, 'pos': 0.14, 'compound': 0.7956}"
      ]
     },
     "execution_count": 14,
     "metadata": {},
     "output_type": "execute_result"
    }
   ],
   "source": [
    "sia.polarity_scores(comments[\"content\"].values[0])"
   ]
  },
  {
   "cell_type": "code",
   "execution_count": 15,
   "metadata": {},
   "outputs": [
    {
     "data": {
      "text/plain": [
       "0.7956"
      ]
     },
     "execution_count": 15,
     "metadata": {},
     "output_type": "execute_result"
    }
   ],
   "source": [
    "def sentiment_score(text):\n",
    "    return sia.polarity_scores(text)[\"compound\"]\n",
    "\n",
    "sentiment_score(comments[\"content\"].values[0])"
   ]
  },
  {
   "cell_type": "code",
   "execution_count": 16,
   "metadata": {},
   "outputs": [
    {
     "name": "stdout",
     "output_type": "stream",
     "text": [
      "CPU times: user 1min 39s, sys: 192 ms, total: 1min 39s\n",
      "Wall time: 1min 39s\n"
     ]
    }
   ],
   "source": [
    "%%time \n",
    "comments[\"vader_score\"] = comments[\"content\"].apply(lambda text: sentiment_score(text))"
   ]
  },
  {
   "cell_type": "code",
   "execution_count": 17,
   "metadata": {},
   "outputs": [],
   "source": [
    "comments[\"vader_sentiment\"] = np.where(comments[\"vader_score\"]>0, \"pos\", \"neg\")"
   ]
  },
  {
   "cell_type": "code",
   "execution_count": 18,
   "metadata": {},
   "outputs": [
    {
     "data": {
      "text/html": [
       "<div>\n",
       "<style scoped>\n",
       "    .dataframe tbody tr th:only-of-type {\n",
       "        vertical-align: middle;\n",
       "    }\n",
       "\n",
       "    .dataframe tbody tr th {\n",
       "        vertical-align: top;\n",
       "    }\n",
       "\n",
       "    .dataframe thead th {\n",
       "        text-align: right;\n",
       "    }\n",
       "</style>\n",
       "<table border=\"1\" class=\"dataframe\">\n",
       "  <thead>\n",
       "    <tr style=\"text-align: right;\">\n",
       "      <th></th>\n",
       "      <th>label</th>\n",
       "      <th>sentiment</th>\n",
       "      <th>name</th>\n",
       "      <th>content</th>\n",
       "      <th>vader_score</th>\n",
       "      <th>vader_sentiment</th>\n",
       "    </tr>\n",
       "  </thead>\n",
       "  <tbody>\n",
       "    <tr>\n",
       "      <td>0</td>\n",
       "      <td>test</td>\n",
       "      <td>pos</td>\n",
       "      <td>0_10.txt</td>\n",
       "      <td>I went and saw this movie last night after bei...</td>\n",
       "      <td>0.7956</td>\n",
       "      <td>pos</td>\n",
       "    </tr>\n",
       "    <tr>\n",
       "      <td>1</td>\n",
       "      <td>test</td>\n",
       "      <td>pos</td>\n",
       "      <td>10000_7.txt</td>\n",
       "      <td>Actor turned director Bill Paxton follows up h...</td>\n",
       "      <td>0.9948</td>\n",
       "      <td>pos</td>\n",
       "    </tr>\n",
       "    <tr>\n",
       "      <td>2</td>\n",
       "      <td>test</td>\n",
       "      <td>pos</td>\n",
       "      <td>10001_9.txt</td>\n",
       "      <td>As a recreational golfer with some knowledge o...</td>\n",
       "      <td>0.9726</td>\n",
       "      <td>pos</td>\n",
       "    </tr>\n",
       "    <tr>\n",
       "      <td>3</td>\n",
       "      <td>test</td>\n",
       "      <td>pos</td>\n",
       "      <td>10002_8.txt</td>\n",
       "      <td>I saw this film in a sneak preview, and it is ...</td>\n",
       "      <td>0.9266</td>\n",
       "      <td>pos</td>\n",
       "    </tr>\n",
       "    <tr>\n",
       "      <td>4</td>\n",
       "      <td>test</td>\n",
       "      <td>pos</td>\n",
       "      <td>10003_8.txt</td>\n",
       "      <td>Bill Paxton has taken the true story of the 19...</td>\n",
       "      <td>0.9906</td>\n",
       "      <td>pos</td>\n",
       "    </tr>\n",
       "  </tbody>\n",
       "</table>\n",
       "</div>"
      ],
      "text/plain": [
       "  label sentiment         name  \\\n",
       "0  test       pos     0_10.txt   \n",
       "1  test       pos  10000_7.txt   \n",
       "2  test       pos  10001_9.txt   \n",
       "3  test       pos  10002_8.txt   \n",
       "4  test       pos  10003_8.txt   \n",
       "\n",
       "                                             content  vader_score  \\\n",
       "0  I went and saw this movie last night after bei...       0.7956   \n",
       "1  Actor turned director Bill Paxton follows up h...       0.9948   \n",
       "2  As a recreational golfer with some knowledge o...       0.9726   \n",
       "3  I saw this film in a sneak preview, and it is ...       0.9266   \n",
       "4  Bill Paxton has taken the true story of the 19...       0.9906   \n",
       "\n",
       "  vader_sentiment  \n",
       "0             pos  \n",
       "1             pos  \n",
       "2             pos  \n",
       "3             pos  \n",
       "4             pos  "
      ]
     },
     "execution_count": 18,
     "metadata": {},
     "output_type": "execute_result"
    }
   ],
   "source": [
    "comments.head()"
   ]
  },
  {
   "cell_type": "code",
   "execution_count": 19,
   "metadata": {},
   "outputs": [
    {
     "data": {
      "text/plain": [
       "pos    33008\n",
       "neg    16992\n",
       "Name: vader_sentiment, dtype: int64"
      ]
     },
     "execution_count": 19,
     "metadata": {},
     "output_type": "execute_result"
    }
   ],
   "source": [
    "comments.vader_sentiment.value_counts()"
   ]
  },
  {
   "cell_type": "code",
   "execution_count": 20,
   "metadata": {},
   "outputs": [
    {
     "name": "stdout",
     "output_type": "stream",
     "text": [
      "              precision    recall  f1-score   support\n",
      "\n",
      "         neg       0.79      0.54      0.64     25000\n",
      "         pos       0.65      0.86      0.74     25000\n",
      "\n",
      "    accuracy                           0.70     50000\n",
      "   macro avg       0.72      0.70      0.69     50000\n",
      "weighted avg       0.72      0.70      0.69     50000\n",
      "\n"
     ]
    }
   ],
   "source": [
    "print(metrics.classification_report(comments[\"sentiment\"], comments[\"vader_sentiment\"]))"
   ]
  },
  {
   "cell_type": "markdown",
   "metadata": {},
   "source": [
    "As we see above the accuracy is the range of 0.70. Vader model performed better for the positive sentiment compared to negative sentiment. Let's now use statistical model using TFIDF which generally perform better. "
   ]
  },
  {
   "cell_type": "markdown",
   "metadata": {},
   "source": [
    "# Sentiment Analysis using statistical model using TFIDF"
   ]
  },
  {
   "cell_type": "code",
   "execution_count": 21,
   "metadata": {
    "scrolled": true
   },
   "outputs": [
    {
     "data": {
      "text/plain": [
       "'when we started watching this series on cable i had no idea how addictive it would be even when you hate a character you hold back because they are so beautifully developed you can almost understand why they react to frustration fear greed or temptation the way they do it s almost as if the viewer is experiencing one of christopher s learning curves i can t understand why adriana would put up with christopher s abuse of her verbally physically and emotionally but i just have to read the newspaper to see how many women can and do tolerate such behavior carmella has a dream house endless supply of expensive things but i m sure she would give it up for a loving and faithful husband or maybe not that s why i watch it doesn t matter how many times you watch an episode you can find something you missed the first five times we even watch episodes out of sequence watch season 1 on late night with commercials but all the language a e with language censored reruns on the movie network whenever they re on we re there we ve been totally spoiled now i also love the malaprop s an albacore around my neck is my favorite of johnny boy when these jewels have entered our family vocabulary it is a sign that i should get a life i will when the series ends and i have collected all the dvd s and put the collection in my will '"
      ]
     },
     "execution_count": 21,
     "metadata": {},
     "output_type": "execute_result"
    }
   ],
   "source": [
    "def preprocess(text):\n",
    "    \n",
    "    # Remove html tags\n",
    "    text = BeautifulSoup(text.lower(), \"html5lib\").text \n",
    "    \n",
    "    # Replace the occurrences of multiple consecutive non-word ccharacters \n",
    "    # with a single space (\" \")\n",
    "    text = re.sub(r\"[\\W]+\", \" \", text)\n",
    "    return text\n",
    "\n",
    "preprocess(v)"
   ]
  },
  {
   "cell_type": "code",
   "execution_count": 22,
   "metadata": {},
   "outputs": [
    {
     "name": "stdout",
     "output_type": "stream",
     "text": [
      "CPU times: user 30.9 s, sys: 57.6 ms, total: 30.9 s\n",
      "Wall time: 30.9 s\n"
     ]
    }
   ],
   "source": [
    "%%time\n",
    "# Apply the preprocessing logic to all comments\n",
    "comments[\"content\"] = comments[\"content\"].apply(preprocess)"
   ]
  },
  {
   "cell_type": "code",
   "execution_count": 23,
   "metadata": {},
   "outputs": [
    {
     "data": {
      "text/html": [
       "<div>\n",
       "<style scoped>\n",
       "    .dataframe tbody tr th:only-of-type {\n",
       "        vertical-align: middle;\n",
       "    }\n",
       "\n",
       "    .dataframe tbody tr th {\n",
       "        vertical-align: top;\n",
       "    }\n",
       "\n",
       "    .dataframe thead th {\n",
       "        text-align: right;\n",
       "    }\n",
       "</style>\n",
       "<table border=\"1\" class=\"dataframe\">\n",
       "  <thead>\n",
       "    <tr style=\"text-align: right;\">\n",
       "      <th></th>\n",
       "      <th>label</th>\n",
       "      <th>sentiment</th>\n",
       "      <th>name</th>\n",
       "      <th>content</th>\n",
       "      <th>vader_score</th>\n",
       "      <th>vader_sentiment</th>\n",
       "    </tr>\n",
       "  </thead>\n",
       "  <tbody>\n",
       "    <tr>\n",
       "      <td>25496</td>\n",
       "      <td>train</td>\n",
       "      <td>pos</td>\n",
       "      <td>10447_10.txt</td>\n",
       "      <td>there are many people in our lives that we mee...</td>\n",
       "      <td>0.9814</td>\n",
       "      <td>pos</td>\n",
       "    </tr>\n",
       "    <tr>\n",
       "      <td>41520</td>\n",
       "      <td>train</td>\n",
       "      <td>neg</td>\n",
       "      <td>2369_4.txt</td>\n",
       "      <td>sixth escapade for freddy krueger in which he ...</td>\n",
       "      <td>0.9802</td>\n",
       "      <td>pos</td>\n",
       "    </tr>\n",
       "    <tr>\n",
       "      <td>48525</td>\n",
       "      <td>train</td>\n",
       "      <td>neg</td>\n",
       "      <td>8674_2.txt</td>\n",
       "      <td>the first few minutes of the bodyguard do have...</td>\n",
       "      <td>0.4435</td>\n",
       "      <td>pos</td>\n",
       "    </tr>\n",
       "    <tr>\n",
       "      <td>26037</td>\n",
       "      <td>train</td>\n",
       "      <td>pos</td>\n",
       "      <td>10934_10.txt</td>\n",
       "      <td>after reviewing this intense martial arts movi...</td>\n",
       "      <td>0.6862</td>\n",
       "      <td>pos</td>\n",
       "    </tr>\n",
       "    <tr>\n",
       "      <td>43823</td>\n",
       "      <td>train</td>\n",
       "      <td>neg</td>\n",
       "      <td>4441_3.txt</td>\n",
       "      <td>triumph of love is proof that not every coméd...</td>\n",
       "      <td>0.9217</td>\n",
       "      <td>pos</td>\n",
       "    </tr>\n",
       "    <tr>\n",
       "      <td>39666</td>\n",
       "      <td>train</td>\n",
       "      <td>neg</td>\n",
       "      <td>11950_2.txt</td>\n",
       "      <td>this is without a doubt the worst movie i have...</td>\n",
       "      <td>0.1877</td>\n",
       "      <td>pos</td>\n",
       "    </tr>\n",
       "    <tr>\n",
       "      <td>40882</td>\n",
       "      <td>train</td>\n",
       "      <td>neg</td>\n",
       "      <td>1795_2.txt</td>\n",
       "      <td>i had the opportunity to preview this film as ...</td>\n",
       "      <td>0.6735</td>\n",
       "      <td>pos</td>\n",
       "    </tr>\n",
       "    <tr>\n",
       "      <td>43156</td>\n",
       "      <td>train</td>\n",
       "      <td>neg</td>\n",
       "      <td>3841_1.txt</td>\n",
       "      <td>roeg has done some great movies but this a tur...</td>\n",
       "      <td>0.6858</td>\n",
       "      <td>pos</td>\n",
       "    </tr>\n",
       "    <tr>\n",
       "      <td>37185</td>\n",
       "      <td>train</td>\n",
       "      <td>pos</td>\n",
       "      <td>9718_7.txt</td>\n",
       "      <td>possible spoiler in some way how to alienate f...</td>\n",
       "      <td>0.9909</td>\n",
       "      <td>pos</td>\n",
       "    </tr>\n",
       "    <tr>\n",
       "      <td>40330</td>\n",
       "      <td>train</td>\n",
       "      <td>neg</td>\n",
       "      <td>1298_3.txt</td>\n",
       "      <td>sogo ishii can be a skilled filmmaker under th...</td>\n",
       "      <td>-0.9517</td>\n",
       "      <td>neg</td>\n",
       "    </tr>\n",
       "  </tbody>\n",
       "</table>\n",
       "</div>"
      ],
      "text/plain": [
       "       label sentiment          name  \\\n",
       "25496  train       pos  10447_10.txt   \n",
       "41520  train       neg    2369_4.txt   \n",
       "48525  train       neg    8674_2.txt   \n",
       "26037  train       pos  10934_10.txt   \n",
       "43823  train       neg    4441_3.txt   \n",
       "39666  train       neg   11950_2.txt   \n",
       "40882  train       neg    1795_2.txt   \n",
       "43156  train       neg    3841_1.txt   \n",
       "37185  train       pos    9718_7.txt   \n",
       "40330  train       neg    1298_3.txt   \n",
       "\n",
       "                                                 content  vader_score  \\\n",
       "25496  there are many people in our lives that we mee...       0.9814   \n",
       "41520  sixth escapade for freddy krueger in which he ...       0.9802   \n",
       "48525  the first few minutes of the bodyguard do have...       0.4435   \n",
       "26037  after reviewing this intense martial arts movi...       0.6862   \n",
       "43823   triumph of love is proof that not every coméd...       0.9217   \n",
       "39666  this is without a doubt the worst movie i have...       0.1877   \n",
       "40882  i had the opportunity to preview this film as ...       0.6735   \n",
       "43156  roeg has done some great movies but this a tur...       0.6858   \n",
       "37185  possible spoiler in some way how to alienate f...       0.9909   \n",
       "40330  sogo ishii can be a skilled filmmaker under th...      -0.9517   \n",
       "\n",
       "      vader_sentiment  \n",
       "25496             pos  \n",
       "41520             pos  \n",
       "48525             pos  \n",
       "26037             pos  \n",
       "43823             pos  \n",
       "39666             pos  \n",
       "40882             pos  \n",
       "43156             pos  \n",
       "37185             pos  \n",
       "40330             neg  "
      ]
     },
     "execution_count": 23,
     "metadata": {},
     "output_type": "execute_result"
    }
   ],
   "source": [
    "comments_train = comments[comments[\"label\"] == \"train\"]\n",
    "comments_train.sample(10)"
   ]
  },
  {
   "cell_type": "code",
   "execution_count": 24,
   "metadata": {
    "scrolled": true
   },
   "outputs": [
    {
     "data": {
      "text/html": [
       "<div>\n",
       "<style scoped>\n",
       "    .dataframe tbody tr th:only-of-type {\n",
       "        vertical-align: middle;\n",
       "    }\n",
       "\n",
       "    .dataframe tbody tr th {\n",
       "        vertical-align: top;\n",
       "    }\n",
       "\n",
       "    .dataframe thead th {\n",
       "        text-align: right;\n",
       "    }\n",
       "</style>\n",
       "<table border=\"1\" class=\"dataframe\">\n",
       "  <thead>\n",
       "    <tr style=\"text-align: right;\">\n",
       "      <th></th>\n",
       "      <th>label</th>\n",
       "      <th>sentiment</th>\n",
       "      <th>name</th>\n",
       "      <th>content</th>\n",
       "      <th>vader_score</th>\n",
       "      <th>vader_sentiment</th>\n",
       "    </tr>\n",
       "  </thead>\n",
       "  <tbody>\n",
       "    <tr>\n",
       "      <td>21277</td>\n",
       "      <td>test</td>\n",
       "      <td>neg</td>\n",
       "      <td>6650_1.txt</td>\n",
       "      <td>this is one of those movies where i was rootin...</td>\n",
       "      <td>-0.9583</td>\n",
       "      <td>neg</td>\n",
       "    </tr>\n",
       "    <tr>\n",
       "      <td>12620</td>\n",
       "      <td>test</td>\n",
       "      <td>neg</td>\n",
       "      <td>10108_1.txt</td>\n",
       "      <td>spoilersi m going to be as kind as i can about...</td>\n",
       "      <td>-0.1144</td>\n",
       "      <td>neg</td>\n",
       "    </tr>\n",
       "    <tr>\n",
       "      <td>4485</td>\n",
       "      <td>test</td>\n",
       "      <td>pos</td>\n",
       "      <td>2788_9.txt</td>\n",
       "      <td>as a former erasmus student i enjoyed this fil...</td>\n",
       "      <td>0.9514</td>\n",
       "      <td>pos</td>\n",
       "    </tr>\n",
       "    <tr>\n",
       "      <td>4744</td>\n",
       "      <td>test</td>\n",
       "      <td>pos</td>\n",
       "      <td>301_10.txt</td>\n",
       "      <td>francis ford coppola s masterpiece was a great...</td>\n",
       "      <td>-0.8899</td>\n",
       "      <td>neg</td>\n",
       "    </tr>\n",
       "    <tr>\n",
       "      <td>10329</td>\n",
       "      <td>test</td>\n",
       "      <td>pos</td>\n",
       "      <td>8047_10.txt</td>\n",
       "      <td>some of the reviewers here have foolishly judg...</td>\n",
       "      <td>0.9353</td>\n",
       "      <td>pos</td>\n",
       "    </tr>\n",
       "    <tr>\n",
       "      <td>14366</td>\n",
       "      <td>test</td>\n",
       "      <td>neg</td>\n",
       "      <td>11680_1.txt</td>\n",
       "      <td>this is by far one of the most pretentious fil...</td>\n",
       "      <td>-0.0498</td>\n",
       "      <td>neg</td>\n",
       "    </tr>\n",
       "    <tr>\n",
       "      <td>1007</td>\n",
       "      <td>test</td>\n",
       "      <td>pos</td>\n",
       "      <td>10907_8.txt</td>\n",
       "      <td>this is truly a funny movie his dance scene do...</td>\n",
       "      <td>0.9489</td>\n",
       "      <td>pos</td>\n",
       "    </tr>\n",
       "    <tr>\n",
       "      <td>4539</td>\n",
       "      <td>test</td>\n",
       "      <td>pos</td>\n",
       "      <td>2836_8.txt</td>\n",
       "      <td>this film released in 1951 has the usual eleme...</td>\n",
       "      <td>0.1714</td>\n",
       "      <td>pos</td>\n",
       "    </tr>\n",
       "    <tr>\n",
       "      <td>7864</td>\n",
       "      <td>test</td>\n",
       "      <td>pos</td>\n",
       "      <td>5829_10.txt</td>\n",
       "      <td>one of the best tv shows out there if not the ...</td>\n",
       "      <td>0.9692</td>\n",
       "      <td>pos</td>\n",
       "    </tr>\n",
       "    <tr>\n",
       "      <td>19582</td>\n",
       "      <td>test</td>\n",
       "      <td>neg</td>\n",
       "      <td>5124_4.txt</td>\n",
       "      <td>this movie was jerry bruckheimer s idea to sel...</td>\n",
       "      <td>0.9559</td>\n",
       "      <td>pos</td>\n",
       "    </tr>\n",
       "  </tbody>\n",
       "</table>\n",
       "</div>"
      ],
      "text/plain": [
       "      label sentiment         name  \\\n",
       "21277  test       neg   6650_1.txt   \n",
       "12620  test       neg  10108_1.txt   \n",
       "4485   test       pos   2788_9.txt   \n",
       "4744   test       pos   301_10.txt   \n",
       "10329  test       pos  8047_10.txt   \n",
       "14366  test       neg  11680_1.txt   \n",
       "1007   test       pos  10907_8.txt   \n",
       "4539   test       pos   2836_8.txt   \n",
       "7864   test       pos  5829_10.txt   \n",
       "19582  test       neg   5124_4.txt   \n",
       "\n",
       "                                                 content  vader_score  \\\n",
       "21277  this is one of those movies where i was rootin...      -0.9583   \n",
       "12620  spoilersi m going to be as kind as i can about...      -0.1144   \n",
       "4485   as a former erasmus student i enjoyed this fil...       0.9514   \n",
       "4744   francis ford coppola s masterpiece was a great...      -0.8899   \n",
       "10329  some of the reviewers here have foolishly judg...       0.9353   \n",
       "14366  this is by far one of the most pretentious fil...      -0.0498   \n",
       "1007   this is truly a funny movie his dance scene do...       0.9489   \n",
       "4539   this film released in 1951 has the usual eleme...       0.1714   \n",
       "7864   one of the best tv shows out there if not the ...       0.9692   \n",
       "19582  this movie was jerry bruckheimer s idea to sel...       0.9559   \n",
       "\n",
       "      vader_sentiment  \n",
       "21277             neg  \n",
       "12620             neg  \n",
       "4485              pos  \n",
       "4744              neg  \n",
       "10329             pos  \n",
       "14366             neg  \n",
       "1007              pos  \n",
       "4539              pos  \n",
       "7864              pos  \n",
       "19582             pos  "
      ]
     },
     "execution_count": 24,
     "metadata": {},
     "output_type": "execute_result"
    }
   ],
   "source": [
    "comments_test = comments[comments[\"label\"] == \"test\"]\n",
    "comments_test.sample(10)"
   ]
  },
  {
   "cell_type": "code",
   "execution_count": 25,
   "metadata": {},
   "outputs": [],
   "source": [
    "X_train = comments_train[\"content\"].values\n",
    "y_train = np.where(comments_train.sentiment == \"pos\", 1, 0)"
   ]
  },
  {
   "cell_type": "code",
   "execution_count": 26,
   "metadata": {},
   "outputs": [],
   "source": [
    "X_test = comments_test[\"content\"].values\n",
    "y_test = np.where(comments_test.sentiment == \"pos\", 1, 0)"
   ]
  },
  {
   "cell_type": "code",
   "execution_count": 27,
   "metadata": {},
   "outputs": [
    {
     "name": "stdout",
     "output_type": "stream",
     "text": [
      "('arabic', 'danish', 'dutch', 'english', 'finnish', 'french', 'german', 'hungarian', 'italian', 'norwegian', 'porter', 'portuguese', 'romanian', 'russian', 'spanish', 'swedish')\n"
     ]
    }
   ],
   "source": [
    "# http://snowball.tartarus.org/algorithms/porter/stemmer.html\n",
    "# http://www.nltk.org/howto/stem.html\n",
    "\n",
    "from nltk.stem.snowball import SnowballStemmer\n",
    "from nltk.stem.porter import PorterStemmer\n",
    "print(SnowballStemmer.languages)"
   ]
  },
  {
   "cell_type": "code",
   "execution_count": 28,
   "metadata": {},
   "outputs": [
    {
     "data": {
      "text/html": [
       "<div>\n",
       "<style scoped>\n",
       "    .dataframe tbody tr th:only-of-type {\n",
       "        vertical-align: middle;\n",
       "    }\n",
       "\n",
       "    .dataframe tbody tr th {\n",
       "        vertical-align: top;\n",
       "    }\n",
       "\n",
       "    .dataframe thead th {\n",
       "        text-align: right;\n",
       "    }\n",
       "</style>\n",
       "<table border=\"1\" class=\"dataframe\">\n",
       "  <thead>\n",
       "    <tr style=\"text-align: right;\">\n",
       "      <th></th>\n",
       "      <th>original</th>\n",
       "      <th>porter</th>\n",
       "      <th>snowball</th>\n",
       "      <th>lemmatizer</th>\n",
       "    </tr>\n",
       "  </thead>\n",
       "  <tbody>\n",
       "    <tr>\n",
       "      <td>0</td>\n",
       "      <td>revival</td>\n",
       "      <td>reviv</td>\n",
       "      <td>reviv</td>\n",
       "      <td>revival</td>\n",
       "    </tr>\n",
       "    <tr>\n",
       "      <td>1</td>\n",
       "      <td>allowance</td>\n",
       "      <td>allow</td>\n",
       "      <td>allow</td>\n",
       "      <td>allowance</td>\n",
       "    </tr>\n",
       "    <tr>\n",
       "      <td>2</td>\n",
       "      <td>inference</td>\n",
       "      <td>infer</td>\n",
       "      <td>infer</td>\n",
       "      <td>inference</td>\n",
       "    </tr>\n",
       "    <tr>\n",
       "      <td>3</td>\n",
       "      <td>relational</td>\n",
       "      <td>relat</td>\n",
       "      <td>relat</td>\n",
       "      <td>relational</td>\n",
       "    </tr>\n",
       "    <tr>\n",
       "      <td>4</td>\n",
       "      <td>runner</td>\n",
       "      <td>runner</td>\n",
       "      <td>runner</td>\n",
       "      <td>runner</td>\n",
       "    </tr>\n",
       "    <tr>\n",
       "      <td>...</td>\n",
       "      <td>...</td>\n",
       "      <td>...</td>\n",
       "      <td>...</td>\n",
       "      <td>...</td>\n",
       "    </tr>\n",
       "    <tr>\n",
       "      <td>10</td>\n",
       "      <td>wasn't</td>\n",
       "      <td>wasn't</td>\n",
       "      <td>wasn't</td>\n",
       "      <td>wasn't</td>\n",
       "    </tr>\n",
       "    <tr>\n",
       "      <td>11</td>\n",
       "      <td>leaves</td>\n",
       "      <td>leav</td>\n",
       "      <td>leav</td>\n",
       "      <td>leave</td>\n",
       "    </tr>\n",
       "    <tr>\n",
       "      <td>12</td>\n",
       "      <td>swimming</td>\n",
       "      <td>swim</td>\n",
       "      <td>swim</td>\n",
       "      <td>swim</td>\n",
       "    </tr>\n",
       "    <tr>\n",
       "      <td>13</td>\n",
       "      <td>relative</td>\n",
       "      <td>rel</td>\n",
       "      <td>relat</td>\n",
       "      <td>relative</td>\n",
       "    </tr>\n",
       "    <tr>\n",
       "      <td>14</td>\n",
       "      <td>relating</td>\n",
       "      <td>relat</td>\n",
       "      <td>relat</td>\n",
       "      <td>relate</td>\n",
       "    </tr>\n",
       "  </tbody>\n",
       "</table>\n",
       "<p>15 rows × 4 columns</p>\n",
       "</div>"
      ],
      "text/plain": [
       "      original  porter snowball  lemmatizer\n",
       "0      revival   reviv    reviv     revival\n",
       "1    allowance   allow    allow   allowance\n",
       "2    inference   infer    infer   inference\n",
       "3   relational   relat    relat  relational\n",
       "4       runner  runner   runner      runner\n",
       "..         ...     ...      ...         ...\n",
       "10      wasn't  wasn't   wasn't      wasn't\n",
       "11      leaves    leav     leav       leave\n",
       "12    swimming    swim     swim        swim\n",
       "13    relative     rel    relat    relative\n",
       "14    relating   relat    relat      relate\n",
       "\n",
       "[15 rows x 4 columns]"
      ]
     },
     "execution_count": 28,
     "metadata": {},
     "output_type": "execute_result"
    }
   ],
   "source": [
    "porter = PorterStemmer()\n",
    "snowball = SnowballStemmer(\"english\")\n",
    "lemmatizer = nltk.wordnet.WordNetLemmatizer()\n",
    "\n",
    "values = []\n",
    "\n",
    "for s in nltk.word_tokenize(\"\"\"\n",
    "            revival\n",
    "            allowance \n",
    "            inference \n",
    "            relational\n",
    "            runner\n",
    "            runs\n",
    "            ran\n",
    "            has\n",
    "            having\n",
    "            generously\n",
    "            wasn't\n",
    "            leaves\n",
    "            swimming\n",
    "            relative\n",
    "            relating\n",
    "            \"\"\"):\n",
    "    values.append((s, porter.stem(s)\n",
    "          , snowball.stem(s), lemmatizer.lemmatize(s, \"v\")))\n",
    "    \n",
    "pd.DataFrame(values, columns = [\"original\", \"porter\", \"snowball\", \"lemmatizer\"])"
   ]
  },
  {
   "cell_type": "code",
   "execution_count": 29,
   "metadata": {},
   "outputs": [
    {
     "name": "stdout",
     "output_type": "stream",
     "text": [
      "179 ['i', 'me', 'my', 'myself', 'we', 'our', 'ours', 'ourselves', 'you', \"you're\", \"you've\", \"you'll\", \"you'd\", 'your', 'yours', 'yourself', 'yourselves', 'he', 'him', 'his', 'himself', 'she', \"she's\", 'her', 'hers', 'herself', 'it', \"it's\", 'its', 'itself', 'they', 'them', 'their', 'theirs', 'themselves', 'what', 'which', 'who', 'whom', 'this', 'that', \"that'll\", 'these', 'those', 'am', 'is', 'are', 'was', 'were', 'be', 'been', 'being', 'have', 'has', 'had', 'having', 'do', 'does', 'did', 'doing', 'a', 'an', 'the', 'and', 'but', 'if', 'or', 'because', 'as', 'until', 'while', 'of', 'at', 'by', 'for', 'with', 'about', 'against', 'between', 'into', 'through', 'during', 'before', 'after', 'above', 'below', 'to', 'from', 'up', 'down', 'in', 'out', 'on', 'off', 'over', 'under', 'again', 'further', 'then', 'once', 'here', 'there', 'when', 'where', 'why', 'how', 'all', 'any', 'both', 'each', 'few', 'more', 'most', 'other', 'some', 'such', 'no', 'nor', 'not', 'only', 'own', 'same', 'so', 'than', 'too', 'very', 's', 't', 'can', 'will', 'just', 'don', \"don't\", 'should', \"should've\", 'now', 'd', 'll', 'm', 'o', 're', 've', 'y', 'ain', 'aren', \"aren't\", 'couldn', \"couldn't\", 'didn', \"didn't\", 'doesn', \"doesn't\", 'hadn', \"hadn't\", 'hasn', \"hasn't\", 'haven', \"haven't\", 'isn', \"isn't\", 'ma', 'mightn', \"mightn't\", 'mustn', \"mustn't\", 'needn', \"needn't\", 'shan', \"shan't\", 'shouldn', \"shouldn't\", 'wasn', \"wasn't\", 'weren', \"weren't\", 'won', \"won't\", 'wouldn', \"wouldn't\"]\n"
     ]
    }
   ],
   "source": [
    "stopwords = nltk.corpus.stopwords.words(\"english\")\n",
    "print(len(stopwords), stopwords)"
   ]
  },
  {
   "cell_type": "markdown",
   "metadata": {},
   "source": [
    "Lets drop the following words from stopwords since they are likely good indicator of sentiment."
   ]
  },
  {
   "cell_type": "code",
   "execution_count": 30,
   "metadata": {},
   "outputs": [],
   "source": [
    "stopwords.remove(\"no\")\n",
    "stopwords.remove(\"nor\")\n",
    "stopwords.remove(\"not\")"
   ]
  },
  {
   "cell_type": "code",
   "execution_count": 31,
   "metadata": {
    "scrolled": true
   },
   "outputs": [
    {
     "name": "stdout",
     "output_type": "stream",
     "text": [
      "['financi', 'servic', 'revenu', 'increas', '$', '0.5', 'billion', ',', '5', '%', ',', 'primarili', 'due', 'lower', 'impair', 'volum', 'growth', ',', 'partial', 'offset', 'lower', 'gain', '.']\n"
     ]
    }
   ],
   "source": [
    "sentence = \"\"\"Financial Services revenues increased $0.5 billion, or 5%, primarily due to\n",
    "lower impairments and volume growth, partially offset by lower gains.\"\"\"\n",
    "\n",
    "stemmer = SnowballStemmer(\"english\")\n",
    "#stemmer = PorterStemmer()\n",
    "def my_tokenizer(s):\n",
    "    terms = nltk.word_tokenize(s.lower())\n",
    "    #terms = re.split(\"\\s\", s.lower())\n",
    "    #terms = [re.sub(r\"[\\.!]\", \"\", v) for v in terms if len(v)>2]\n",
    "    #terms = [v for v in terms if len(v)>2]\n",
    "    terms = [v for v in terms if v not in stopwords]\n",
    "    terms = [stemmer.stem(w) for w in terms]\n",
    "    #terms = [term for term in terms if len(term) > 2]\n",
    "    return terms \n",
    "print(my_tokenizer(sentence))"
   ]
  },
  {
   "cell_type": "code",
   "execution_count": 32,
   "metadata": {},
   "outputs": [
    {
     "name": "stdout",
     "output_type": "stream",
     "text": [
      "Vocabulary:  {'today': 13, 'wednesday': 18, 'today wednesday': 15, 'delhi': 3, 'weather': 16, 'hot': 6, '.': 0, 'delhi weather': 5, 'weather hot': 17, 'hot today': 7, 'today .': 14, 'road': 11, 'not': 9, 'busi': 1, 'morn': 8, 'delhi road': 4, 'road not': 12, 'not busi': 10, 'busi morn': 2}\n"
     ]
    }
   ],
   "source": [
    "tfidf = feature_extraction.text.TfidfVectorizer(tokenizer=my_tokenizer, max_df = 0.95, min_df=0.0001 \n",
    "                                                , ngram_range=(1, 2))\n",
    "\n",
    "corpus = [\"Today is Wednesday\"\n",
    "          , \"Delhi weather is hot today.\"\n",
    "          , \"Delhi roads are not busy in the morning\"]\n",
    "\n",
    "doc_term_matrix = tfidf.fit_transform(corpus)\n",
    "\n",
    "# returns term and index in the feature matrix\n",
    "print(\"Vocabulary: \", tfidf.vocabulary_) "
   ]
  },
  {
   "cell_type": "code",
   "execution_count": 33,
   "metadata": {},
   "outputs": [
    {
     "data": {
      "text/html": [
       "<div>\n",
       "<style scoped>\n",
       "    .dataframe tbody tr th:only-of-type {\n",
       "        vertical-align: middle;\n",
       "    }\n",
       "\n",
       "    .dataframe tbody tr th {\n",
       "        vertical-align: top;\n",
       "    }\n",
       "\n",
       "    .dataframe thead th {\n",
       "        text-align: right;\n",
       "    }\n",
       "</style>\n",
       "<table border=\"1\" class=\"dataframe\">\n",
       "  <thead>\n",
       "    <tr style=\"text-align: right;\">\n",
       "      <th></th>\n",
       "      <th>.</th>\n",
       "      <th>busi</th>\n",
       "      <th>busi morn</th>\n",
       "      <th>delhi</th>\n",
       "      <th>delhi road</th>\n",
       "      <th>delhi weather</th>\n",
       "      <th>hot</th>\n",
       "      <th>hot today</th>\n",
       "      <th>morn</th>\n",
       "      <th>not</th>\n",
       "      <th>not busi</th>\n",
       "      <th>road</th>\n",
       "      <th>road not</th>\n",
       "      <th>today</th>\n",
       "      <th>today .</th>\n",
       "      <th>today wednesday</th>\n",
       "      <th>weather</th>\n",
       "      <th>weather hot</th>\n",
       "      <th>wednesday</th>\n",
       "    </tr>\n",
       "  </thead>\n",
       "  <tbody>\n",
       "    <tr>\n",
       "      <td>0</td>\n",
       "      <td>0.0000</td>\n",
       "      <td>0.0000</td>\n",
       "      <td>0.0000</td>\n",
       "      <td>0.0000</td>\n",
       "      <td>0.0000</td>\n",
       "      <td>0.0000</td>\n",
       "      <td>0.0000</td>\n",
       "      <td>0.0000</td>\n",
       "      <td>0.0000</td>\n",
       "      <td>0.0000</td>\n",
       "      <td>0.0000</td>\n",
       "      <td>0.0000</td>\n",
       "      <td>0.0000</td>\n",
       "      <td>0.4736</td>\n",
       "      <td>0.0000</td>\n",
       "      <td>0.6228</td>\n",
       "      <td>0.0000</td>\n",
       "      <td>0.0000</td>\n",
       "      <td>0.6228</td>\n",
       "    </tr>\n",
       "    <tr>\n",
       "      <td>1</td>\n",
       "      <td>0.3501</td>\n",
       "      <td>0.0000</td>\n",
       "      <td>0.0000</td>\n",
       "      <td>0.2663</td>\n",
       "      <td>0.0000</td>\n",
       "      <td>0.3501</td>\n",
       "      <td>0.3501</td>\n",
       "      <td>0.3501</td>\n",
       "      <td>0.0000</td>\n",
       "      <td>0.0000</td>\n",
       "      <td>0.0000</td>\n",
       "      <td>0.0000</td>\n",
       "      <td>0.0000</td>\n",
       "      <td>0.2663</td>\n",
       "      <td>0.3501</td>\n",
       "      <td>0.0000</td>\n",
       "      <td>0.3501</td>\n",
       "      <td>0.3501</td>\n",
       "      <td>0.0000</td>\n",
       "    </tr>\n",
       "    <tr>\n",
       "      <td>2</td>\n",
       "      <td>0.0000</td>\n",
       "      <td>0.3414</td>\n",
       "      <td>0.3414</td>\n",
       "      <td>0.2597</td>\n",
       "      <td>0.3414</td>\n",
       "      <td>0.0000</td>\n",
       "      <td>0.0000</td>\n",
       "      <td>0.0000</td>\n",
       "      <td>0.3414</td>\n",
       "      <td>0.3414</td>\n",
       "      <td>0.3414</td>\n",
       "      <td>0.3414</td>\n",
       "      <td>0.3414</td>\n",
       "      <td>0.0000</td>\n",
       "      <td>0.0000</td>\n",
       "      <td>0.0000</td>\n",
       "      <td>0.0000</td>\n",
       "      <td>0.0000</td>\n",
       "      <td>0.0000</td>\n",
       "    </tr>\n",
       "  </tbody>\n",
       "</table>\n",
       "</div>"
      ],
      "text/plain": [
       "       .   busi  busi morn  delhi  delhi road  delhi weather    hot  \\\n",
       "0 0.0000 0.0000     0.0000 0.0000      0.0000         0.0000 0.0000   \n",
       "1 0.3501 0.0000     0.0000 0.2663      0.0000         0.3501 0.3501   \n",
       "2 0.0000 0.3414     0.3414 0.2597      0.3414         0.0000 0.0000   \n",
       "\n",
       "   hot today   morn    not  not busi   road  road not  today  today .  \\\n",
       "0     0.0000 0.0000 0.0000    0.0000 0.0000    0.0000 0.4736   0.0000   \n",
       "1     0.3501 0.0000 0.0000    0.0000 0.0000    0.0000 0.2663   0.3501   \n",
       "2     0.0000 0.3414 0.3414    0.3414 0.3414    0.3414 0.0000   0.0000   \n",
       "\n",
       "   today wednesday  weather  weather hot  wednesday  \n",
       "0           0.6228   0.0000       0.0000     0.6228  \n",
       "1           0.0000   0.3501       0.3501     0.0000  \n",
       "2           0.0000   0.0000       0.0000     0.0000  "
      ]
     },
     "execution_count": 33,
     "metadata": {},
     "output_type": "execute_result"
    }
   ],
   "source": [
    "columns = [None] * len(tfidf.vocabulary_)\n",
    "for term in tfidf.vocabulary_:\n",
    "    columns[tfidf.vocabulary_[term]] = term\n",
    "columns\n",
    "scores = pd.DataFrame(doc_term_matrix.toarray()\n",
    "                      , columns= columns)\n",
    "scores"
   ]
  },
  {
   "cell_type": "code",
   "execution_count": 34,
   "metadata": {},
   "outputs": [],
   "source": [
    "X_train_tfidf = tfidf.fit_transform(X_train)\n",
    "X_test_tfidf = tfidf.transform(X_test)"
   ]
  },
  {
   "cell_type": "code",
   "execution_count": 35,
   "metadata": {},
   "outputs": [
    {
     "data": {
      "text/plain": [
       "((25000, 193057), (25000,), (25000, 193057), (25000,))"
      ]
     },
     "execution_count": 35,
     "metadata": {},
     "output_type": "execute_result"
    }
   ],
   "source": [
    "X_test_tfidf.shape, y_test.shape, X_train_tfidf.shape, y_train.shape"
   ]
  },
  {
   "cell_type": "markdown",
   "metadata": {},
   "source": [
    "Let's estimate the memory requirment if the data is presented in dense matrix format"
   ]
  },
  {
   "cell_type": "code",
   "execution_count": 36,
   "metadata": {},
   "outputs": [
    {
     "data": {
      "text/plain": [
       "17.979834228754044"
      ]
     },
     "execution_count": 36,
     "metadata": {},
     "output_type": "execute_result"
    }
   ],
   "source": [
    "cell_count = np.product(X_train_tfidf.shape)\n",
    "bytes = cell_count * 4 \n",
    "GBs = bytes / (1024 ** 3) \n",
    "GBs"
   ]
  },
  {
   "cell_type": "code",
   "execution_count": 37,
   "metadata": {},
   "outputs": [
    {
     "data": {
      "text/plain": [
       "0.9992081565547999"
      ]
     },
     "execution_count": 37,
     "metadata": {},
     "output_type": "execute_result"
    }
   ],
   "source": [
    "sparsity = 1 - X_train_tfidf.count_nonzero() / cell_count\n",
    "sparsity"
   ]
  },
  {
   "cell_type": "code",
   "execution_count": 38,
   "metadata": {},
   "outputs": [
    {
     "data": {
      "text/plain": [
       "0.9992081565547999"
      ]
     },
     "execution_count": 38,
     "metadata": {},
     "output_type": "execute_result"
    }
   ],
   "source": [
    "1 - X_train_tfidf.nnz / cell_count"
   ]
  },
  {
   "cell_type": "code",
   "execution_count": 39,
   "metadata": {},
   "outputs": [
    {
     "name": "stdout",
     "output_type": "stream",
     "text": [
      "Type of doc_term_matrix <class 'scipy.sparse.csr.csr_matrix'>\n"
     ]
    }
   ],
   "source": [
    "print(\"Type of doc_term_matrix\", type(X_train_tfidf))"
   ]
  },
  {
   "cell_type": "markdown",
   "metadata": {},
   "source": [
    "Byte size of the training doc sparse doc"
   ]
  },
  {
   "cell_type": "code",
   "execution_count": 40,
   "metadata": {},
   "outputs": [
    {
     "name": "stdout",
     "output_type": "stream",
     "text": [
      "0.02847442775964737 GB\n"
     ]
    }
   ],
   "source": [
    "print(X_train_tfidf.data.nbytes / (1024.0 ** 3), \"GB\")"
   ]
  },
  {
   "cell_type": "markdown",
   "metadata": {},
   "source": [
    "# Classification Model"
   ]
  },
  {
   "cell_type": "code",
   "execution_count": 41,
   "metadata": {},
   "outputs": [
    {
     "name": "stdout",
     "output_type": "stream",
     "text": [
      "Training accuracy:  0.93476\n",
      "Test accuracy:  0.88596\n",
      "CPU times: user 1.01 s, sys: 5.75 ms, total: 1.02 s\n",
      "Wall time: 1.07 s\n"
     ]
    }
   ],
   "source": [
    "%%time\n",
    "lr = linear_model.LogisticRegression(C = 0.6, random_state = 1\n",
    "                            , n_jobs = 8, solver=\"saga\")\n",
    "lr.fit(X_train_tfidf, y_train)\n",
    "y_train_pred = lr.predict(X_train_tfidf)\n",
    "y_test_pred = lr.predict(X_test_tfidf)\n",
    "print(\"Training accuracy: \", metrics.accuracy_score(y_train, y_train_pred))\n",
    "print(\"Test accuracy: \", metrics.accuracy_score(y_test, y_test_pred))"
   ]
  },
  {
   "cell_type": "code",
   "execution_count": null,
   "metadata": {},
   "outputs": [],
   "source": []
  },
  {
   "cell_type": "code",
   "execution_count": 42,
   "metadata": {},
   "outputs": [
    {
     "data": {
      "image/png": "[encoded data removed]",
      "text/plain": [
       "<Figure size 432x288 with 1 Axes>"
      ]
     },
     "metadata": {
      "needs_background": "light"
     },
     "output_type": "display_data"
    }
   ],
   "source": [
    "fpr, tpr, thresholds = metrics.roc_curve(y_test,\n",
    "                        lr.predict_proba(X_test_tfidf)[:, [1]])\n",
    "auc = metrics.auc(fpr, tpr)\n",
    "\n",
    "plt.plot(fpr, tpr)\n",
    "plt.ylim(0, 1)\n",
    "plt.xlim(0, 1)\n",
    "plt.plot([0,1], [0,1], ls = \"--\", color = \"k\")\n",
    "plt.xlabel(\"False Postive Rate\")\n",
    "plt.ylabel(\"True Positive Rate\")\n",
    "plt.title(\"ROC Curve, auc: %.4f\" % auc);"
   ]
  },
  {
   "cell_type": "code",
   "execution_count": 43,
   "metadata": {},
   "outputs": [
    {
     "name": "stdout",
     "output_type": "stream",
     "text": [
      "accuracy:  0.86456\n",
      "CPU times: user 144 ms, sys: 8.79 ms, total: 152 ms\n",
      "Wall time: 45.1 ms\n"
     ]
    }
   ],
   "source": [
    "%%time\n",
    "from sklearn import naive_bayes, ensemble\n",
    "bayes = naive_bayes.MultinomialNB(alpha=1)\n",
    "bayes.fit(X_train_tfidf, y_train)\n",
    "print(\"accuracy: \", bayes.score(X_test_tfidf, y_test))"
   ]
  },
  {
   "cell_type": "code",
   "execution_count": 44,
   "metadata": {},
   "outputs": [
    {
     "name": "stdout",
     "output_type": "stream",
     "text": [
      "accuracy:  0.72388\n",
      "CPU times: user 42.6 s, sys: 80.9 ms, total: 42.6 s\n",
      "Wall time: 41.2 s\n"
     ]
    }
   ],
   "source": [
    "%%time\n",
    "est = tree.DecisionTreeClassifier()\n",
    "est.fit(X_train_tfidf, y_train)\n",
    "print(\"accuracy: \", est.score(X_test_tfidf, y_test))"
   ]
  },
  {
   "cell_type": "code",
   "execution_count": 45,
   "metadata": {},
   "outputs": [
    {
     "name": "stdout",
     "output_type": "stream",
     "text": [
      "Top 50 terms:  ['bad', 'worst', 'wast', 'great', 'poor', 'bore', 'aw', 'no', 'love', 'excel', 'noth', 'stupid', 'perfect', 'best', 'terribl', 'disappoint', 'suppos', 'beauti', 'enjoy', 'tri', 'wors', 'world', 'fail', 'stori', 'one', 'film', 'favorit', 'amaz', 'good', 'plot', 'act', 'annoy', 'like', 'brilliant', 'script', 'time', 'alway', '1', 'reason', '4 10', 'even', 'see', 'save', 'also', 'today', 'mani', 'dull', 'movi', 'show', 'ridicul']\n"
     ]
    }
   ],
   "source": [
    "columns = [None] * len(tfidf.vocabulary_)\n",
    "for term in tfidf.vocabulary_:\n",
    "    columns[tfidf.vocabulary_[term]] = term\n",
    "result = pd.DataFrame({\"feature\": columns\n",
    "                    , \"importance\": est.feature_importances_})\n",
    "result = result.sort_values(\"importance\", ascending = False)\n",
    "result = result[result.importance > 0.0]\n",
    "print(\"Top 50 terms: \", list(result.feature[:50]))"
   ]
  },
  {
   "cell_type": "markdown",
   "metadata": {},
   "source": [
    "# Important terms for a document "
   ]
  },
  {
   "cell_type": "code",
   "execution_count": 46,
   "metadata": {},
   "outputs": [],
   "source": [
    "vocab_by_term = tfidf.vocabulary_\n",
    "vocab_by_idx = dict({(vocab_by_term[term], term) \n",
    "                                 for term in vocab_by_term})"
   ]
  },
  {
   "cell_type": "code",
   "execution_count": 47,
   "metadata": {},
   "outputs": [
    {
     "data": {
      "text/plain": [
       "\"{'bromwel': 22087, 'high': 77073, 'cartoon': 24828, 'comedi': 31274, 'ran': 135967, 'time': 171635, \""
      ]
     },
     "execution_count": 47,
     "metadata": {},
     "output_type": "execute_result"
    }
   ],
   "source": [
    "str(vocab_by_term)[:100]"
   ]
  },
  {
   "cell_type": "code",
   "execution_count": 48,
   "metadata": {
    "scrolled": false
   },
   "outputs": [
    {
     "data": {
      "text/plain": [
       "\"{40948: 'dialogu wooden', 155508: 'situat two', 92122: 'less make', 110635: 'movi theatr', 3549: 'ac\""
      ]
     },
     "execution_count": 48,
     "metadata": {},
     "output_type": "execute_result"
    }
   ],
   "source": [
    "str(vocab_by_idx)[:100]"
   ]
  },
  {
   "cell_type": "code",
   "execution_count": 49,
   "metadata": {},
   "outputs": [
    {
     "name": "stdout",
     "output_type": "stream",
     "text": [
      "Content:\n",
      " this isn t the comedic robin williams nor is it the quirky insane robin williams of recent thriller fame this is a hybrid of the classic drama without over dramatization mixed with robin s new love of the thriller but this isn t a thriller per se this is more a mystery suspense vehicle through which williams attempts to locate a sick boy and his keeper also starring sandra oh and rory culkin this suspense drama plays pretty much like a news report until william s character gets close to achieving his goal i must say that i was highly entertained though this movie fails to teach guide inspect or amuse it felt more like i was watching a guy williams as he was actually performing the actions from a third person perspective in other words it felt real and i was able to subscribe to the premise of the story all in all it s worth a watch though it s definitely not friday saturday night fare it rates a 7 7 10 from the fiend \n"
     ]
    },
    {
     "data": {
      "text/plain": [
       "william         0.2851\n",
       "robin           0.2244\n",
       "robin william   0.1723\n",
       "thriller        0.1661\n",
       "7 7             0.1222\n",
       "                 ...  \n",
       "stori           0.0269\n",
       "charact         0.0264\n",
       "get             0.0254\n",
       "not             0.0188\n",
       "movi            0.0180\n",
       "Length: 131, dtype: float64"
      ]
     },
     "execution_count": 49,
     "metadata": {},
     "output_type": "execute_result"
    }
   ],
   "source": [
    "idx = 5\n",
    "print(\"Content:\\n\", X_train[idx])\n",
    "row = X_train_tfidf[idx]\n",
    "terms = [(vocab_by_idx[row.indices[i]], row.data[i])\n",
    "             for i, term in enumerate(row.indices)]\n",
    "pd.Series(dict(terms)).sort_values(ascending = False)"
   ]
  },
  {
   "cell_type": "code",
   "execution_count": 50,
   "metadata": {},
   "outputs": [
    {
     "data": {
      "image/png": "[encoded data removed]",
      "text/plain": [
       "<Figure size 720x720 with 1 Axes>"
      ]
     },
     "metadata": {
      "needs_background": "light"
     },
     "output_type": "display_data"
    }
   ],
   "source": [
    "idx = 50\n",
    "row = X_train_tfidf[idx]\n",
    "terms = [(vocab_by_idx[row.indices[i]], row.data[i]) \n",
    "                 for i, term in enumerate(row.indices)]\n",
    "top_terms= list(pd.Series(dict(terms))\\\n",
    "                .sort_values(ascending = False)[:50].index)\n",
    "wc = WordCloud(background_color=\"white\", \n",
    "    width=500, height=500, max_words=50).generate(\"+\".join(top_terms))\n",
    "plt.figure(figsize=(10, 10))\n",
    "plt.imshow(wc)\n",
    "plt.axis(\"off\");"
   ]
  },
  {
   "cell_type": "markdown",
   "metadata": {},
   "source": [
    "# Build Pipeline for classificaiton Model"
   ]
  },
  {
   "cell_type": "code",
   "execution_count": 51,
   "metadata": {},
   "outputs": [
    {
     "name": "stderr",
     "output_type": "stream",
     "text": [
      "/anaconda3/lib/python3.7/site-packages/sklearn/feature_extraction/text.py:300: UserWarning: Your stop_words may be inconsistent with your preprocessing. Tokenizing the stop words generated tokens [\"'d\", \"'s\", 'could', 'might', 'must', \"n't\", 'need', 'sha', 'wo', 'would'] not in stop_words.\n",
      "  'stop_words.' % sorted(inconsistent))\n"
     ]
    },
    {
     "name": "stdout",
     "output_type": "stream",
     "text": [
      "CPU times: user 1min 15s, sys: 454 ms, total: 1min 15s\n",
      "Wall time: 1min 13s\n"
     ]
    },
    {
     "data": {
      "text/plain": [
       "Pipeline(memory=None,\n",
       "         steps=[('tfidf',\n",
       "                 TfidfVectorizer(analyzer='word', binary=False,\n",
       "                                 decode_error='strict',\n",
       "                                 dtype=<class 'numpy.float64'>,\n",
       "                                 encoding='utf-8', input='content',\n",
       "                                 lowercase=True, max_df=1.0, max_features=None,\n",
       "                                 min_df=1, ngram_range=(1, 2), norm='l2',\n",
       "                                 preprocessor=None, smooth_idf=True,\n",
       "                                 stop_words=['i', 'me', 'my', 'myself', 'we',\n",
       "                                             'our', 'ours', 'ourselves', 'you...\n",
       "                                 token_pattern='(?u)\\\\b\\\\w\\\\w+\\\\b',\n",
       "                                 tokenizer=<function my_tokenizer at 0x1a25b347a0>,\n",
       "                                 use_idf=True, vocabulary=None)),\n",
       "                ('est',\n",
       "                 LogisticRegression(C=1.0, class_weight=None, dual=False,\n",
       "                                    fit_intercept=True, intercept_scaling=1,\n",
       "                                    l1_ratio=None, max_iter=100,\n",
       "                                    multi_class='warn', n_jobs=8, penalty='l2',\n",
       "                                    random_state=1, solver='saga', tol=0.0001,\n",
       "                                    verbose=0, warm_start=False))],\n",
       "         verbose=False)"
      ]
     },
     "execution_count": 51,
     "metadata": {},
     "output_type": "execute_result"
    }
   ],
   "source": [
    "%%time\n",
    "tfidf =feature_extraction.text.TfidfVectorizer(\n",
    "              tokenizer=my_tokenizer\n",
    "            , stop_words = stopwords\n",
    "            , ngram_range=(1, 2)\n",
    "        )\n",
    "\n",
    "pipe = pipeline.Pipeline([\n",
    "    (\"tfidf\", tfidf),\n",
    "    (\"est\", linear_model.LogisticRegression(C = 1.0, random_state = 1\n",
    "                            , n_jobs = 8, solver=\"saga\"))\n",
    "])\n",
    "pipe.fit(X_train, y_train)"
   ]
  },
  {
   "cell_type": "code",
   "execution_count": 52,
   "metadata": {},
   "outputs": [],
   "source": [
    "import pickle"
   ]
  },
  {
   "cell_type": "code",
   "execution_count": 53,
   "metadata": {},
   "outputs": [],
   "source": [
    "with open(\"/tmp/model.pkl\", \"wb\") as f:\n",
    "    pickle.dump(pipe, f)"
   ]
  },
  {
   "cell_type": "code",
   "execution_count": 54,
   "metadata": {},
   "outputs": [
    {
     "name": "stdout",
     "output_type": "stream",
     "text": [
      "-rw-r--r--  1 abasar  wheel   125M Oct 25 12:05 /tmp/model.pkl\r\n"
     ]
    }
   ],
   "source": [
    "!ls -lh /tmp/model.pkl"
   ]
  },
  {
   "cell_type": "code",
   "execution_count": 55,
   "metadata": {},
   "outputs": [],
   "source": [
    "with open(\"/tmp/model.pkl\", \"rb\") as f:\n",
    "    model = pickle.load(f)"
   ]
  },
  {
   "cell_type": "code",
   "execution_count": 56,
   "metadata": {},
   "outputs": [],
   "source": [
    "doc1 = \"\"\"when we started watching this series on \n",
    "cable i had no idea how addictive it would be \n",
    "even when you hate a character you hold back because \n",
    "they are so beautifully developed you can almost\n",
    "understand why they react to frustration fear greed \n",
    "or temptation the way they do it s almost as if the\n",
    "viewer is experiencing one of christopher s learning \n",
    "curves i can t understand why adriana would put up with \n",
    "christopher s abuse of her verbally physically and \n",
    "emotionally but i just have to read the newspaper to \n",
    "see how many women can and do tolerate such behavior \n",
    "carmella has a dream house endless supply of expensive \n",
    "things but i m sure she would give it up for a loving \n",
    "and faithful husband or maybe not that s why i watch \n",
    "it doesn t matter how many times you watch an episode\n",
    "you can find something you missed the first five times \n",
    "we even watch episodes out of sequence watch season 1 \n",
    "on late night with commercials but all the language a e \n",
    "with language censored reruns on the movie network whenever \n",
    "they re on we re there we ve been totally spoiled now i also \n",
    "love the malaprop s an albacore around my neck is my favorite of\n",
    "johnny boy when these jewels have entered our family vocabulary \n",
    "it is a sign that i should get a life i will when the series\n",
    "ends and i have collected all the dvd s and put the collection \n",
    "in my will\"\"\"\n",
    "doc1 = preprocess(doc1)"
   ]
  },
  {
   "cell_type": "code",
   "execution_count": 57,
   "metadata": {},
   "outputs": [
    {
     "name": "stderr",
     "output_type": "stream",
     "text": [
      "/anaconda3/lib/python3.7/site-packages/sklearn/feature_extraction/text.py:300: UserWarning: Your stop_words may be inconsistent with your preprocessing. Tokenizing the stop words generated tokens [\"'d\", \"'s\", 'could', 'might', 'must', \"n't\", 'need', 'sha', 'wo', 'would'] not in stop_words.\n",
      "  'stop_words.' % sorted(inconsistent))\n"
     ]
    },
    {
     "data": {
      "text/plain": [
       "array([0.7886])"
      ]
     },
     "execution_count": 57,
     "metadata": {},
     "output_type": "execute_result"
    }
   ],
   "source": [
    "model.predict_proba(np.array([doc1]))[:, 1]"
   ]
  },
  {
   "cell_type": "markdown",
   "metadata": {},
   "source": [
    "# Hashing Vectorizer\n",
    "\n",
    "\n",
    "\n",
    "Convert a collection of text documents to a matrix of deterministic hash token (murmur3) occurrences\n",
    "\n",
    "It turns a collection of text documents into a scipy.sparse matrix holding token occurrence counts (or binary occurrence information), possibly normalized as token frequencies if norm=’l1’ or projected on the euclidean unit sphere if norm=’l2’.\n",
    "\n",
    "Advantages \n",
    "- it is very low memory scalable to large datasets as there is no need to store a vocabulary dictionary in memory\n",
    "- it is fast to pickle and un-pickle as it holds no state besides the constructor parameters\n",
    "- it can be used in a streaming (partial fit) or parallel pipeline as there is no state computed during fit.\n",
    "\n",
    "Disadvantages\n",
    "- there is no way to compute the inverse transform (from feature indices to string feature names) which can be a problem when trying to introspect which features are most important to a model.\n",
    "- there can be collisions: distinct tokens can be mapped to the same feature index. However in practice this is rarely an issue if n_features is large enough (e.g. 2 ** 18 for text classification problems).\n",
    "- no IDF weighting as this would render the transformer stateful."
   ]
  },
  {
   "cell_type": "code",
   "execution_count": 58,
   "metadata": {},
   "outputs": [
    {
     "data": {
      "text/html": [
       "<div>\n",
       "<style scoped>\n",
       "    .dataframe tbody tr th:only-of-type {\n",
       "        vertical-align: middle;\n",
       "    }\n",
       "\n",
       "    .dataframe tbody tr th {\n",
       "        vertical-align: top;\n",
       "    }\n",
       "\n",
       "    .dataframe thead th {\n",
       "        text-align: right;\n",
       "    }\n",
       "</style>\n",
       "<table border=\"1\" class=\"dataframe\">\n",
       "  <thead>\n",
       "    <tr style=\"text-align: right;\">\n",
       "      <th></th>\n",
       "      <th>0</th>\n",
       "      <th>1</th>\n",
       "      <th>2</th>\n",
       "      <th>3</th>\n",
       "      <th>4</th>\n",
       "      <th>5</th>\n",
       "      <th>6</th>\n",
       "      <th>7</th>\n",
       "    </tr>\n",
       "  </thead>\n",
       "  <tbody>\n",
       "    <tr>\n",
       "      <td>0</td>\n",
       "      <td>0.0000</td>\n",
       "      <td>0.5774</td>\n",
       "      <td>0.0000</td>\n",
       "      <td>0.5774</td>\n",
       "      <td>0.0000</td>\n",
       "      <td>0.0000</td>\n",
       "      <td>-0.5774</td>\n",
       "      <td>0.0000</td>\n",
       "    </tr>\n",
       "    <tr>\n",
       "      <td>1</td>\n",
       "      <td>0.0000</td>\n",
       "      <td>0.3015</td>\n",
       "      <td>0.6030</td>\n",
       "      <td>0.3015</td>\n",
       "      <td>0.0000</td>\n",
       "      <td>-0.6030</td>\n",
       "      <td>-0.3015</td>\n",
       "      <td>0.0000</td>\n",
       "    </tr>\n",
       "    <tr>\n",
       "      <td>2</td>\n",
       "      <td>0.0000</td>\n",
       "      <td>-0.4472</td>\n",
       "      <td>0.0000</td>\n",
       "      <td>0.0000</td>\n",
       "      <td>0.4472</td>\n",
       "      <td>-0.4472</td>\n",
       "      <td>-0.4472</td>\n",
       "      <td>0.4472</td>\n",
       "    </tr>\n",
       "  </tbody>\n",
       "</table>\n",
       "</div>"
      ],
      "text/plain": [
       "       0       1      2      3      4       5       6      7\n",
       "0 0.0000  0.5774 0.0000 0.5774 0.0000  0.0000 -0.5774 0.0000\n",
       "1 0.0000  0.3015 0.6030 0.3015 0.0000 -0.6030 -0.3015 0.0000\n",
       "2 0.0000 -0.4472 0.0000 0.0000 0.4472 -0.4472 -0.4472 0.4472"
      ]
     },
     "execution_count": 58,
     "metadata": {},
     "output_type": "execute_result"
    }
   ],
   "source": [
    "hashing_vectorizer = feature_extraction.text.HashingVectorizer(n_features=2 ** 3\n",
    "                                            , tokenizer=my_tokenizer, ngram_range=(1, 2))\n",
    "\n",
    "corpus = [\"Today is Wednesday\"\n",
    "          , \"Delhi weather is hot today.\"\n",
    "          , \"Delhi roads are not busy in the morning\"]\n",
    "\n",
    "doc_term_matrix = hashing_vectorizer.fit_transform(corpus)\n",
    "\n",
    "pd.DataFrame(doc_term_matrix.toarray()) # Each cell is normalized (l2) row-wise\n"
   ]
  },
  {
   "cell_type": "code",
   "execution_count": 59,
   "metadata": {},
   "outputs": [
    {
     "name": "stdout",
     "output_type": "stream",
     "text": [
      "CPU times: user 2min 6s, sys: 389 ms, total: 2min 6s\n",
      "Wall time: 1min 57s\n"
     ]
    }
   ],
   "source": [
    "%%time\n",
    "\n",
    "n_features = int(X_train_tfidf.shape[1] * 0.8)\n",
    "\n",
    "hashing_vectorizer = feature_extraction.text.HashingVectorizer(n_features=n_features\n",
    "                                         , tokenizer=my_tokenizer, ngram_range=(1, 2))\n",
    "X_train_hash = hashing_vectorizer.fit_transform(X_train)\n",
    "X_test_hash = hashing_vectorizer.transform(X_test)"
   ]
  },
  {
   "cell_type": "code",
   "execution_count": 60,
   "metadata": {},
   "outputs": [
    {
     "data": {
      "text/plain": [
       "<25000x193057 sparse matrix of type '<class 'numpy.float64'>'\n",
       "\twith 5383300 stored elements in Compressed Sparse Row format>"
      ]
     },
     "execution_count": 60,
     "metadata": {},
     "output_type": "execute_result"
    }
   ],
   "source": [
    "X_train_hash"
   ]
  },
  {
   "cell_type": "code",
   "execution_count": 61,
   "metadata": {},
   "outputs": [
    {
     "data": {
      "text/plain": [
       "((25000, 193057), (25000, 193057))"
      ]
     },
     "execution_count": 61,
     "metadata": {},
     "output_type": "execute_result"
    }
   ],
   "source": [
    "X_train_hash.shape, X_test_hash.shape"
   ]
  },
  {
   "cell_type": "code",
   "execution_count": 62,
   "metadata": {},
   "outputs": [
    {
     "name": "stdout",
     "output_type": "stream",
     "text": [
      "0.040108710527420044 GB\n"
     ]
    }
   ],
   "source": [
    "print(X_train_hash.data.nbytes / (1024.0 ** 3), \"GB\")"
   ]
  },
  {
   "cell_type": "code",
   "execution_count": 63,
   "metadata": {},
   "outputs": [
    {
     "name": "stdout",
     "output_type": "stream",
     "text": [
      "Training accuracy:  0.92204\n",
      "Test accuracy:  0.87676\n",
      "CPU times: user 8.62 s, sys: 65.9 ms, total: 8.69 s\n",
      "Wall time: 1.51 s\n"
     ]
    }
   ],
   "source": [
    "%%time\n",
    "lr = linear_model.LogisticRegression(C = 1.0, random_state = 1,\n",
    "                            solver = \"liblinear\")\n",
    "lr.fit(X_train_hash, y_train)\n",
    "y_train_pred = lr.predict(X_train_hash)\n",
    "y_test_pred = lr.predict(X_test_hash)\n",
    "print(\"Training accuracy: \", metrics.accuracy_score(y_train, y_train_pred))\n",
    "print(\"Test accuracy: \", metrics.accuracy_score(y_test, y_test_pred))"
   ]
  },
  {
   "cell_type": "code",
   "execution_count": 64,
   "metadata": {},
   "outputs": [
    {
     "name": "stdout",
     "output_type": "stream",
     "text": [
      "              precision    recall  f1-score   support\n",
      "\n",
      "           0       0.88      0.87      0.88     12500\n",
      "           1       0.87      0.88      0.88     12500\n",
      "\n",
      "    accuracy                           0.88     25000\n",
      "   macro avg       0.88      0.88      0.88     25000\n",
      "weighted avg       0.88      0.88      0.88     25000\n",
      "\n"
     ]
    }
   ],
   "source": [
    "print(metrics.classification_report(y_test, y_test_pred))"
   ]
  },
  {
   "cell_type": "code",
   "execution_count": null,
   "metadata": {},
   "outputs": [],
   "source": []
  }
 ],
 "metadata": {
  "kernelspec": {
   "display_name": "Python 3",
   "language": "python",
   "name": "python3"
  },
  "language_info": {
   "codemirror_mode": {
    "name": "ipython",
    "version": 3
   },
   "file_extension": ".py",
   "mimetype": "text/x-python",
   "name": "python",
   "nbconvert_exporter": "python",
   "pygments_lexer": "ipython3",
   "version": "3.7.6"
  }
 },
 "nbformat": 4,
 "nbformat_minor": 2
}
