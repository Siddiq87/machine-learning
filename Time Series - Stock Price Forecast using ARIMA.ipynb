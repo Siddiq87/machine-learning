{
 "cells": [
  {
   "cell_type": "code",
   "execution_count": 1,
   "metadata": {},
   "outputs": [],
   "source": [
    "import pandas as pd\n",
    "import numpy as np\n",
    "import matplotlib.pyplot as plt\n",
    "\n",
    "plt.style.use(\"ggplot\")\n",
    "\n",
    "%matplotlib inline"
   ]
  },
  {
   "cell_type": "code",
   "execution_count": 2,
   "metadata": {},
   "outputs": [],
   "source": [
    "plt.rcParams[\"figure.figsize\"] = (12, 6)"
   ]
  },
  {
   "cell_type": "markdown",
   "metadata": {},
   "source": [
    "Download stock price data from NSE [website](https://www.nseindia.com/products/content/equities/equities/eq_security.htm). Here I download stock price data for TCS stock.\n"
   ]
  },
  {
   "cell_type": "code",
   "execution_count": 3,
   "metadata": {},
   "outputs": [
    {
     "data": {
      "text/html": [
       "<div>\n",
       "<style scoped>\n",
       "    .dataframe tbody tr th:only-of-type {\n",
       "        vertical-align: middle;\n",
       "    }\n",
       "\n",
       "    .dataframe tbody tr th {\n",
       "        vertical-align: top;\n",
       "    }\n",
       "\n",
       "    .dataframe thead th {\n",
       "        text-align: right;\n",
       "    }\n",
       "</style>\n",
       "<table border=\"1\" class=\"dataframe\">\n",
       "  <thead>\n",
       "    <tr style=\"text-align: right;\">\n",
       "      <th></th>\n",
       "      <th>Symbol</th>\n",
       "      <th>Series</th>\n",
       "      <th>Date</th>\n",
       "      <th>Prev Close</th>\n",
       "      <th>Open Price</th>\n",
       "      <th>High Price</th>\n",
       "      <th>Low Price</th>\n",
       "      <th>Last Price</th>\n",
       "      <th>Close Price</th>\n",
       "      <th>Average Price</th>\n",
       "      <th>Total Traded Quantity</th>\n",
       "      <th>Turnover</th>\n",
       "      <th>No. of Trades</th>\n",
       "      <th>Deliverable Qty</th>\n",
       "      <th>% Dly Qt to Traded Qty</th>\n",
       "    </tr>\n",
       "  </thead>\n",
       "  <tbody>\n",
       "    <tr>\n",
       "      <th>0</th>\n",
       "      <td>TCS</td>\n",
       "      <td>EQ</td>\n",
       "      <td>07-May-2018</td>\n",
       "      <td>3480.75</td>\n",
       "      <td>3490.00</td>\n",
       "      <td>3490.00</td>\n",
       "      <td>3410.9</td>\n",
       "      <td>3428.0</td>\n",
       "      <td>3420.95</td>\n",
       "      <td>3438.41</td>\n",
       "      <td>1742213</td>\n",
       "      <td>5.990435e+09</td>\n",
       "      <td>95521</td>\n",
       "      <td>1155927</td>\n",
       "      <td>66.35</td>\n",
       "    </tr>\n",
       "    <tr>\n",
       "      <th>1</th>\n",
       "      <td>TCS</td>\n",
       "      <td>EQ</td>\n",
       "      <td>08-May-2018</td>\n",
       "      <td>3420.95</td>\n",
       "      <td>3434.70</td>\n",
       "      <td>3486.50</td>\n",
       "      <td>3396.7</td>\n",
       "      <td>3440.2</td>\n",
       "      <td>3441.20</td>\n",
       "      <td>3447.80</td>\n",
       "      <td>1496410</td>\n",
       "      <td>5.159322e+09</td>\n",
       "      <td>75803</td>\n",
       "      <td>710340</td>\n",
       "      <td>47.47</td>\n",
       "    </tr>\n",
       "    <tr>\n",
       "      <th>2</th>\n",
       "      <td>TCS</td>\n",
       "      <td>EQ</td>\n",
       "      <td>09-May-2018</td>\n",
       "      <td>3441.20</td>\n",
       "      <td>3440.20</td>\n",
       "      <td>3494.75</td>\n",
       "      <td>3440.2</td>\n",
       "      <td>3488.5</td>\n",
       "      <td>3489.30</td>\n",
       "      <td>3480.95</td>\n",
       "      <td>1307525</td>\n",
       "      <td>4.551423e+09</td>\n",
       "      <td>74986</td>\n",
       "      <td>754487</td>\n",
       "      <td>57.70</td>\n",
       "    </tr>\n",
       "    <tr>\n",
       "      <th>3</th>\n",
       "      <td>TCS</td>\n",
       "      <td>EQ</td>\n",
       "      <td>10-May-2018</td>\n",
       "      <td>3489.30</td>\n",
       "      <td>3502.95</td>\n",
       "      <td>3511.15</td>\n",
       "      <td>3440.2</td>\n",
       "      <td>3446.3</td>\n",
       "      <td>3451.25</td>\n",
       "      <td>3478.59</td>\n",
       "      <td>1929339</td>\n",
       "      <td>6.711381e+09</td>\n",
       "      <td>78782</td>\n",
       "      <td>1044165</td>\n",
       "      <td>54.12</td>\n",
       "    </tr>\n",
       "    <tr>\n",
       "      <th>4</th>\n",
       "      <td>TCS</td>\n",
       "      <td>EQ</td>\n",
       "      <td>11-May-2018</td>\n",
       "      <td>3451.25</td>\n",
       "      <td>3454.20</td>\n",
       "      <td>3485.00</td>\n",
       "      <td>3442.5</td>\n",
       "      <td>3461.0</td>\n",
       "      <td>3456.95</td>\n",
       "      <td>3461.07</td>\n",
       "      <td>1313938</td>\n",
       "      <td>4.547637e+09</td>\n",
       "      <td>44332</td>\n",
       "      <td>734225</td>\n",
       "      <td>55.88</td>\n",
       "    </tr>\n",
       "  </tbody>\n",
       "</table>\n",
       "</div>"
      ],
      "text/plain": [
       "  Symbol Series         Date  Prev Close  Open Price  High Price  Low Price  \\\n",
       "0    TCS     EQ  07-May-2018     3480.75     3490.00     3490.00     3410.9   \n",
       "1    TCS     EQ  08-May-2018     3420.95     3434.70     3486.50     3396.7   \n",
       "2    TCS     EQ  09-May-2018     3441.20     3440.20     3494.75     3440.2   \n",
       "3    TCS     EQ  10-May-2018     3489.30     3502.95     3511.15     3440.2   \n",
       "4    TCS     EQ  11-May-2018     3451.25     3454.20     3485.00     3442.5   \n",
       "\n",
       "   Last Price  Close Price  Average Price  Total Traded Quantity  \\\n",
       "0      3428.0      3420.95        3438.41                1742213   \n",
       "1      3440.2      3441.20        3447.80                1496410   \n",
       "2      3488.5      3489.30        3480.95                1307525   \n",
       "3      3446.3      3451.25        3478.59                1929339   \n",
       "4      3461.0      3456.95        3461.07                1313938   \n",
       "\n",
       "       Turnover  No. of Trades  Deliverable Qty  % Dly Qt to Traded Qty  \n",
       "0  5.990435e+09          95521          1155927                   66.35  \n",
       "1  5.159322e+09          75803           710340                   47.47  \n",
       "2  4.551423e+09          74986           754487                   57.70  \n",
       "3  6.711381e+09          78782          1044165                   54.12  \n",
       "4  4.547637e+09          44332           734225                   55.88  "
      ]
     },
     "execution_count": 3,
     "metadata": {},
     "output_type": "execute_result"
    }
   ],
   "source": [
    "df = pd.read_csv(\"~/Downloads/tcs.csv\")\n",
    "df.head()"
   ]
  },
  {
   "cell_type": "markdown",
   "metadata": {},
   "source": [
    "Check whether you have duplicate data on by date. It looks like 11/2/2019, 18/2/2019, 25/2/2019 etc. have duplicate data. Not sure why there are duplicates by date. It could be ammendment to the data."
   ]
  },
  {
   "cell_type": "code",
   "execution_count": 4,
   "metadata": {},
   "outputs": [
    {
     "data": {
      "text/html": [
       "<div>\n",
       "<style scoped>\n",
       "    .dataframe tbody tr th:only-of-type {\n",
       "        vertical-align: middle;\n",
       "    }\n",
       "\n",
       "    .dataframe tbody tr th {\n",
       "        vertical-align: top;\n",
       "    }\n",
       "\n",
       "    .dataframe thead th {\n",
       "        text-align: right;\n",
       "    }\n",
       "</style>\n",
       "<table border=\"1\" class=\"dataframe\">\n",
       "  <thead>\n",
       "    <tr style=\"text-align: right;\">\n",
       "      <th></th>\n",
       "      <th>Symbol</th>\n",
       "      <th>Series</th>\n",
       "      <th>Date</th>\n",
       "      <th>Prev Close</th>\n",
       "      <th>Open Price</th>\n",
       "      <th>High Price</th>\n",
       "      <th>Low Price</th>\n",
       "      <th>Last Price</th>\n",
       "      <th>Close Price</th>\n",
       "      <th>Average Price</th>\n",
       "      <th>Total Traded Quantity</th>\n",
       "      <th>Turnover</th>\n",
       "      <th>No. of Trades</th>\n",
       "      <th>Deliverable Qty</th>\n",
       "      <th>% Dly Qt to Traded Qty</th>\n",
       "    </tr>\n",
       "  </thead>\n",
       "  <tbody>\n",
       "    <tr>\n",
       "      <th>191</th>\n",
       "      <td>TCS</td>\n",
       "      <td>BL</td>\n",
       "      <td>11-Feb-2019</td>\n",
       "      <td>2604.20</td>\n",
       "      <td>2061.40</td>\n",
       "      <td>2061.40</td>\n",
       "      <td>2061.40</td>\n",
       "      <td>2061.40</td>\n",
       "      <td>2061.40</td>\n",
       "      <td>2061.40</td>\n",
       "      <td>376308</td>\n",
       "      <td>7.757213e+08</td>\n",
       "      <td>1</td>\n",
       "      <td>0</td>\n",
       "      <td>0.00</td>\n",
       "    </tr>\n",
       "    <tr>\n",
       "      <th>192</th>\n",
       "      <td>TCS</td>\n",
       "      <td>EQ</td>\n",
       "      <td>11-Feb-2019</td>\n",
       "      <td>2061.40</td>\n",
       "      <td>2060.00</td>\n",
       "      <td>2096.00</td>\n",
       "      <td>2048.90</td>\n",
       "      <td>2065.60</td>\n",
       "      <td>2065.90</td>\n",
       "      <td>2077.11</td>\n",
       "      <td>1778730</td>\n",
       "      <td>3.694622e+09</td>\n",
       "      <td>83603</td>\n",
       "      <td>901516</td>\n",
       "      <td>50.68</td>\n",
       "    </tr>\n",
       "    <tr>\n",
       "      <th>197</th>\n",
       "      <td>TCS</td>\n",
       "      <td>BL</td>\n",
       "      <td>18-Feb-2019</td>\n",
       "      <td>2061.40</td>\n",
       "      <td>2029.70</td>\n",
       "      <td>2029.70</td>\n",
       "      <td>2029.70</td>\n",
       "      <td>2029.70</td>\n",
       "      <td>2029.70</td>\n",
       "      <td>2029.70</td>\n",
       "      <td>2474600</td>\n",
       "      <td>5.022696e+09</td>\n",
       "      <td>1</td>\n",
       "      <td>0</td>\n",
       "      <td>0.00</td>\n",
       "    </tr>\n",
       "    <tr>\n",
       "      <th>198</th>\n",
       "      <td>TCS</td>\n",
       "      <td>EQ</td>\n",
       "      <td>18-Feb-2019</td>\n",
       "      <td>2029.70</td>\n",
       "      <td>2037.60</td>\n",
       "      <td>2041.95</td>\n",
       "      <td>1962.65</td>\n",
       "      <td>1969.60</td>\n",
       "      <td>1970.30</td>\n",
       "      <td>1988.87</td>\n",
       "      <td>2942184</td>\n",
       "      <td>5.851634e+09</td>\n",
       "      <td>100585</td>\n",
       "      <td>1668905</td>\n",
       "      <td>56.72</td>\n",
       "    </tr>\n",
       "    <tr>\n",
       "      <th>203</th>\n",
       "      <td>TCS</td>\n",
       "      <td>BL</td>\n",
       "      <td>25-Feb-2019</td>\n",
       "      <td>2029.70</td>\n",
       "      <td>1925.65</td>\n",
       "      <td>1925.65</td>\n",
       "      <td>1925.65</td>\n",
       "      <td>1925.65</td>\n",
       "      <td>1925.65</td>\n",
       "      <td>1925.65</td>\n",
       "      <td>1057509</td>\n",
       "      <td>2.036392e+09</td>\n",
       "      <td>2</td>\n",
       "      <td>0</td>\n",
       "      <td>0.00</td>\n",
       "    </tr>\n",
       "    <tr>\n",
       "      <th>204</th>\n",
       "      <td>TCS</td>\n",
       "      <td>EQ</td>\n",
       "      <td>25-Feb-2019</td>\n",
       "      <td>1925.65</td>\n",
       "      <td>1932.50</td>\n",
       "      <td>1990.00</td>\n",
       "      <td>1930.50</td>\n",
       "      <td>1987.00</td>\n",
       "      <td>1985.15</td>\n",
       "      <td>1961.61</td>\n",
       "      <td>2934880</td>\n",
       "      <td>5.757095e+09</td>\n",
       "      <td>140541</td>\n",
       "      <td>1341508</td>\n",
       "      <td>45.71</td>\n",
       "    </tr>\n",
       "    <tr>\n",
       "      <th>221</th>\n",
       "      <td>TCS</td>\n",
       "      <td>BL</td>\n",
       "      <td>22-Mar-2019</td>\n",
       "      <td>1925.65</td>\n",
       "      <td>2015.05</td>\n",
       "      <td>2015.05</td>\n",
       "      <td>2015.05</td>\n",
       "      <td>2015.05</td>\n",
       "      <td>2015.05</td>\n",
       "      <td>2015.05</td>\n",
       "      <td>264913</td>\n",
       "      <td>5.338129e+08</td>\n",
       "      <td>1</td>\n",
       "      <td>264913</td>\n",
       "      <td>100.00</td>\n",
       "    </tr>\n",
       "    <tr>\n",
       "      <th>222</th>\n",
       "      <td>TCS</td>\n",
       "      <td>EQ</td>\n",
       "      <td>22-Mar-2019</td>\n",
       "      <td>2015.05</td>\n",
       "      <td>2015.00</td>\n",
       "      <td>2016.00</td>\n",
       "      <td>1983.30</td>\n",
       "      <td>2010.00</td>\n",
       "      <td>2005.65</td>\n",
       "      <td>1998.96</td>\n",
       "      <td>3148149</td>\n",
       "      <td>6.293032e+09</td>\n",
       "      <td>155770</td>\n",
       "      <td>1787595</td>\n",
       "      <td>56.78</td>\n",
       "    </tr>\n",
       "  </tbody>\n",
       "</table>\n",
       "</div>"
      ],
      "text/plain": [
       "    Symbol Series         Date  Prev Close  Open Price  High Price  Low Price  \\\n",
       "191    TCS     BL  11-Feb-2019     2604.20     2061.40     2061.40    2061.40   \n",
       "192    TCS     EQ  11-Feb-2019     2061.40     2060.00     2096.00    2048.90   \n",
       "197    TCS     BL  18-Feb-2019     2061.40     2029.70     2029.70    2029.70   \n",
       "198    TCS     EQ  18-Feb-2019     2029.70     2037.60     2041.95    1962.65   \n",
       "203    TCS     BL  25-Feb-2019     2029.70     1925.65     1925.65    1925.65   \n",
       "204    TCS     EQ  25-Feb-2019     1925.65     1932.50     1990.00    1930.50   \n",
       "221    TCS     BL  22-Mar-2019     1925.65     2015.05     2015.05    2015.05   \n",
       "222    TCS     EQ  22-Mar-2019     2015.05     2015.00     2016.00    1983.30   \n",
       "\n",
       "     Last Price  Close Price  Average Price  Total Traded Quantity  \\\n",
       "191     2061.40      2061.40        2061.40                 376308   \n",
       "192     2065.60      2065.90        2077.11                1778730   \n",
       "197     2029.70      2029.70        2029.70                2474600   \n",
       "198     1969.60      1970.30        1988.87                2942184   \n",
       "203     1925.65      1925.65        1925.65                1057509   \n",
       "204     1987.00      1985.15        1961.61                2934880   \n",
       "221     2015.05      2015.05        2015.05                 264913   \n",
       "222     2010.00      2005.65        1998.96                3148149   \n",
       "\n",
       "         Turnover  No. of Trades  Deliverable Qty  % Dly Qt to Traded Qty  \n",
       "191  7.757213e+08              1                0                    0.00  \n",
       "192  3.694622e+09          83603           901516                   50.68  \n",
       "197  5.022696e+09              1                0                    0.00  \n",
       "198  5.851634e+09         100585          1668905                   56.72  \n",
       "203  2.036392e+09              2                0                    0.00  \n",
       "204  5.757095e+09         140541          1341508                   45.71  \n",
       "221  5.338129e+08              1           264913                  100.00  \n",
       "222  6.293032e+09         155770          1787595                   56.78  "
      ]
     },
     "execution_count": 4,
     "metadata": {},
     "output_type": "execute_result"
    }
   ],
   "source": [
    "df[df[\"Date\"].duplicated(keep = False)]"
   ]
  },
  {
   "cell_type": "markdown",
   "metadata": {},
   "source": [
    "Drop the duplicate from the dataset."
   ]
  },
  {
   "cell_type": "code",
   "execution_count": 5,
   "metadata": {},
   "outputs": [],
   "source": [
    "df = df[~df[\"Date\"].duplicated()]"
   ]
  },
  {
   "cell_type": "markdown",
   "metadata": {},
   "source": [
    "Convert the dataset into time series data by undating the index to time series index. "
   ]
  },
  {
   "cell_type": "code",
   "execution_count": 6,
   "metadata": {},
   "outputs": [
    {
     "data": {
      "text/html": [
       "<div>\n",
       "<style scoped>\n",
       "    .dataframe tbody tr th:only-of-type {\n",
       "        vertical-align: middle;\n",
       "    }\n",
       "\n",
       "    .dataframe tbody tr th {\n",
       "        vertical-align: top;\n",
       "    }\n",
       "\n",
       "    .dataframe thead th {\n",
       "        text-align: right;\n",
       "    }\n",
       "</style>\n",
       "<table border=\"1\" class=\"dataframe\">\n",
       "  <thead>\n",
       "    <tr style=\"text-align: right;\">\n",
       "      <th></th>\n",
       "      <th>Symbol</th>\n",
       "      <th>Series</th>\n",
       "      <th>Date</th>\n",
       "      <th>Prev Close</th>\n",
       "      <th>Open Price</th>\n",
       "      <th>High Price</th>\n",
       "      <th>Low Price</th>\n",
       "      <th>Last Price</th>\n",
       "      <th>Close Price</th>\n",
       "      <th>Average Price</th>\n",
       "      <th>Total Traded Quantity</th>\n",
       "      <th>Turnover</th>\n",
       "      <th>No. of Trades</th>\n",
       "      <th>Deliverable Qty</th>\n",
       "      <th>% Dly Qt to Traded Qty</th>\n",
       "    </tr>\n",
       "    <tr>\n",
       "      <th>Date</th>\n",
       "      <th></th>\n",
       "      <th></th>\n",
       "      <th></th>\n",
       "      <th></th>\n",
       "      <th></th>\n",
       "      <th></th>\n",
       "      <th></th>\n",
       "      <th></th>\n",
       "      <th></th>\n",
       "      <th></th>\n",
       "      <th></th>\n",
       "      <th></th>\n",
       "      <th></th>\n",
       "      <th></th>\n",
       "      <th></th>\n",
       "    </tr>\n",
       "  </thead>\n",
       "  <tbody>\n",
       "    <tr>\n",
       "      <th>2018-05-07</th>\n",
       "      <td>TCS</td>\n",
       "      <td>EQ</td>\n",
       "      <td>07-May-2018</td>\n",
       "      <td>3480.75</td>\n",
       "      <td>3490.00</td>\n",
       "      <td>3490.00</td>\n",
       "      <td>3410.9</td>\n",
       "      <td>3428.0</td>\n",
       "      <td>3420.95</td>\n",
       "      <td>3438.41</td>\n",
       "      <td>1742213</td>\n",
       "      <td>5.990435e+09</td>\n",
       "      <td>95521</td>\n",
       "      <td>1155927</td>\n",
       "      <td>66.35</td>\n",
       "    </tr>\n",
       "    <tr>\n",
       "      <th>2018-05-08</th>\n",
       "      <td>TCS</td>\n",
       "      <td>EQ</td>\n",
       "      <td>08-May-2018</td>\n",
       "      <td>3420.95</td>\n",
       "      <td>3434.70</td>\n",
       "      <td>3486.50</td>\n",
       "      <td>3396.7</td>\n",
       "      <td>3440.2</td>\n",
       "      <td>3441.20</td>\n",
       "      <td>3447.80</td>\n",
       "      <td>1496410</td>\n",
       "      <td>5.159322e+09</td>\n",
       "      <td>75803</td>\n",
       "      <td>710340</td>\n",
       "      <td>47.47</td>\n",
       "    </tr>\n",
       "    <tr>\n",
       "      <th>2018-05-09</th>\n",
       "      <td>TCS</td>\n",
       "      <td>EQ</td>\n",
       "      <td>09-May-2018</td>\n",
       "      <td>3441.20</td>\n",
       "      <td>3440.20</td>\n",
       "      <td>3494.75</td>\n",
       "      <td>3440.2</td>\n",
       "      <td>3488.5</td>\n",
       "      <td>3489.30</td>\n",
       "      <td>3480.95</td>\n",
       "      <td>1307525</td>\n",
       "      <td>4.551423e+09</td>\n",
       "      <td>74986</td>\n",
       "      <td>754487</td>\n",
       "      <td>57.70</td>\n",
       "    </tr>\n",
       "    <tr>\n",
       "      <th>2018-05-10</th>\n",
       "      <td>TCS</td>\n",
       "      <td>EQ</td>\n",
       "      <td>10-May-2018</td>\n",
       "      <td>3489.30</td>\n",
       "      <td>3502.95</td>\n",
       "      <td>3511.15</td>\n",
       "      <td>3440.2</td>\n",
       "      <td>3446.3</td>\n",
       "      <td>3451.25</td>\n",
       "      <td>3478.59</td>\n",
       "      <td>1929339</td>\n",
       "      <td>6.711381e+09</td>\n",
       "      <td>78782</td>\n",
       "      <td>1044165</td>\n",
       "      <td>54.12</td>\n",
       "    </tr>\n",
       "    <tr>\n",
       "      <th>2018-05-11</th>\n",
       "      <td>TCS</td>\n",
       "      <td>EQ</td>\n",
       "      <td>11-May-2018</td>\n",
       "      <td>3451.25</td>\n",
       "      <td>3454.20</td>\n",
       "      <td>3485.00</td>\n",
       "      <td>3442.5</td>\n",
       "      <td>3461.0</td>\n",
       "      <td>3456.95</td>\n",
       "      <td>3461.07</td>\n",
       "      <td>1313938</td>\n",
       "      <td>4.547637e+09</td>\n",
       "      <td>44332</td>\n",
       "      <td>734225</td>\n",
       "      <td>55.88</td>\n",
       "    </tr>\n",
       "  </tbody>\n",
       "</table>\n",
       "</div>"
      ],
      "text/plain": [
       "           Symbol Series         Date  Prev Close  Open Price  High Price  \\\n",
       "Date                                                                        \n",
       "2018-05-07    TCS     EQ  07-May-2018     3480.75     3490.00     3490.00   \n",
       "2018-05-08    TCS     EQ  08-May-2018     3420.95     3434.70     3486.50   \n",
       "2018-05-09    TCS     EQ  09-May-2018     3441.20     3440.20     3494.75   \n",
       "2018-05-10    TCS     EQ  10-May-2018     3489.30     3502.95     3511.15   \n",
       "2018-05-11    TCS     EQ  11-May-2018     3451.25     3454.20     3485.00   \n",
       "\n",
       "            Low Price  Last Price  Close Price  Average Price  \\\n",
       "Date                                                            \n",
       "2018-05-07     3410.9      3428.0      3420.95        3438.41   \n",
       "2018-05-08     3396.7      3440.2      3441.20        3447.80   \n",
       "2018-05-09     3440.2      3488.5      3489.30        3480.95   \n",
       "2018-05-10     3440.2      3446.3      3451.25        3478.59   \n",
       "2018-05-11     3442.5      3461.0      3456.95        3461.07   \n",
       "\n",
       "            Total Traded Quantity      Turnover  No. of Trades  \\\n",
       "Date                                                             \n",
       "2018-05-07                1742213  5.990435e+09          95521   \n",
       "2018-05-08                1496410  5.159322e+09          75803   \n",
       "2018-05-09                1307525  4.551423e+09          74986   \n",
       "2018-05-10                1929339  6.711381e+09          78782   \n",
       "2018-05-11                1313938  4.547637e+09          44332   \n",
       "\n",
       "            Deliverable Qty  % Dly Qt to Traded Qty  \n",
       "Date                                                 \n",
       "2018-05-07          1155927                   66.35  \n",
       "2018-05-08           710340                   47.47  \n",
       "2018-05-09           754487                   57.70  \n",
       "2018-05-10          1044165                   54.12  \n",
       "2018-05-11           734225                   55.88  "
      ]
     },
     "execution_count": 6,
     "metadata": {},
     "output_type": "execute_result"
    }
   ],
   "source": [
    "df.index = pd.to_datetime(df[\"Date\"])\n",
    "df.head()"
   ]
  },
  {
   "cell_type": "code",
   "execution_count": 7,
   "metadata": {},
   "outputs": [
    {
     "data": {
      "text/plain": [
       "DatetimeIndex(['2018-05-07', '2018-05-08', '2018-05-09', '2018-05-10',\n",
       "               '2018-05-11', '2018-05-14', '2018-05-15', '2018-05-16',\n",
       "               '2018-05-17', '2018-05-18',\n",
       "               ...\n",
       "               '2019-04-18', '2019-04-22', '2019-04-23', '2019-04-24',\n",
       "               '2019-04-25', '2019-04-26', '2019-04-30', '2019-05-02',\n",
       "               '2019-05-03', '2019-05-06'],\n",
       "              dtype='datetime64[ns]', name='Date', length=246, freq=None)"
      ]
     },
     "execution_count": 7,
     "metadata": {},
     "output_type": "execute_result"
    }
   ],
   "source": [
    "df.index"
   ]
  },
  {
   "cell_type": "markdown",
   "metadata": {},
   "source": [
    "Look at trend of close price. We see there is a price adjust has been done on 31/05/2018. Let's shift the origin of dataset to 1/Jun to avoid price adjustment."
   ]
  },
  {
   "cell_type": "code",
   "execution_count": 8,
   "metadata": {},
   "outputs": [
    {
     "data": {
      "text/plain": [
       "<matplotlib.axes._subplots.AxesSubplot at 0x11ea61cc0>"
      ]
     },
     "execution_count": 8,
     "metadata": {},
     "output_type": "execute_result"
    },
    {
     "data": {
      "image/png": "[encoded data removed]",
      "text/plain": [
       "<Figure size 864x432 with 1 Axes>"
      ]
     },
     "metadata": {
      "needs_background": "light"
     },
     "output_type": "display_data"
    }
   ],
   "source": [
    "y = np.log(df[\"Close Price\"])\n",
    "y.plot()"
   ]
  },
  {
   "cell_type": "code",
   "execution_count": 9,
   "metadata": {},
   "outputs": [
    {
     "data": {
      "text/plain": [
       "DatetimeIndex(['2018-05-07', '2018-05-08', '2018-05-09', '2018-05-10',\n",
       "               '2018-05-11', '2018-05-14', '2018-05-15', '2018-05-16',\n",
       "               '2018-05-17', '2018-05-18',\n",
       "               ...\n",
       "               '2019-04-18', '2019-04-22', '2019-04-23', '2019-04-24',\n",
       "               '2019-04-25', '2019-04-26', '2019-04-30', '2019-05-02',\n",
       "               '2019-05-03', '2019-05-06'],\n",
       "              dtype='datetime64[ns]', name='Date', length=246, freq=None)"
      ]
     },
     "execution_count": 9,
     "metadata": {},
     "output_type": "execute_result"
    }
   ],
   "source": [
    "y.index"
   ]
  },
  {
   "cell_type": "code",
   "execution_count": 10,
   "metadata": {},
   "outputs": [
    {
     "data": {
      "text/plain": [
       "<matplotlib.axes._subplots.AxesSubplot at 0x11f990e48>"
      ]
     },
     "execution_count": 10,
     "metadata": {},
     "output_type": "execute_result"
    },
    {
     "data": {
      "image/png": "[encoded data removed]",
      "text/plain": [
       "<Figure size 864x432 with 1 Axes>"
      ]
     },
     "metadata": {
      "needs_background": "light"
     },
     "output_type": "display_data"
    }
   ],
   "source": [
    "y = y[y.index>\"2018-05-31\"]\n",
    "y.plot()"
   ]
  },
  {
   "cell_type": "markdown",
   "metadata": {},
   "source": [
    "Let's see if there are gaps in the data in terms of date range. Trading does not happen on weekends or national holidays. So there is no data on those days. "
   ]
  },
  {
   "cell_type": "code",
   "execution_count": 11,
   "metadata": {},
   "outputs": [
    {
     "data": {
      "text/plain": [
       "[Timestamp('2018-06-01 00:00:00'),\n",
       " Timestamp('2018-06-04 00:00:00'),\n",
       " Timestamp('2018-06-05 00:00:00'),\n",
       " Timestamp('2018-06-06 00:00:00'),\n",
       " Timestamp('2018-06-07 00:00:00'),\n",
       " Timestamp('2018-06-08 00:00:00'),\n",
       " Timestamp('2018-06-11 00:00:00'),\n",
       " Timestamp('2018-06-12 00:00:00'),\n",
       " Timestamp('2018-06-13 00:00:00'),\n",
       " Timestamp('2018-06-14 00:00:00')]"
      ]
     },
     "execution_count": 11,
     "metadata": {},
     "output_type": "execute_result"
    }
   ],
   "source": [
    "list(y.index[:10])"
   ]
  },
  {
   "cell_type": "code",
   "execution_count": 12,
   "metadata": {},
   "outputs": [
    {
     "data": {
      "text/plain": [
       "Date\n",
       "2018-06-01    7.457292\n",
       "2018-06-02         NaN\n",
       "2018-06-03         NaN\n",
       "2018-06-04    7.464080\n",
       "2018-06-05    7.451009\n",
       "2018-06-06    7.453417\n",
       "2018-06-07    7.459080\n",
       "2018-06-08    7.465713\n",
       "2018-06-09         NaN\n",
       "2018-06-10         NaN\n",
       "2018-06-11    7.467200\n",
       "2018-06-12    7.484930\n",
       "2018-06-13    7.508842\n",
       "2018-06-14    7.488601\n",
       "2018-06-15    7.517548\n",
       "Freq: D, Name: Close Price, dtype: float64"
      ]
     },
     "execution_count": 12,
     "metadata": {},
     "output_type": "execute_result"
    }
   ],
   "source": [
    "y.asfreq(\"D\")[:15]"
   ]
  },
  {
   "cell_type": "markdown",
   "metadata": {},
   "source": [
    "Let's impute the missing data by forward fill."
   ]
  },
  {
   "cell_type": "code",
   "execution_count": 13,
   "metadata": {
    "scrolled": false
   },
   "outputs": [
    {
     "data": {
      "text/plain": [
       "Date\n",
       "2018-06-01    7.457292\n",
       "2018-06-02    7.457292\n",
       "2018-06-03    7.457292\n",
       "2018-06-04    7.464080\n",
       "2018-06-05    7.451009\n",
       "2018-06-06    7.453417\n",
       "2018-06-07    7.459080\n",
       "2018-06-08    7.465713\n",
       "2018-06-09    7.465713\n",
       "2018-06-10    7.465713\n",
       "2018-06-11    7.467200\n",
       "2018-06-12    7.484930\n",
       "2018-06-13    7.508842\n",
       "2018-06-14    7.488601\n",
       "2018-06-15    7.517548\n",
       "Freq: D, Name: Close Price, dtype: float64"
      ]
     },
     "execution_count": 13,
     "metadata": {},
     "output_type": "execute_result"
    }
   ],
   "source": [
    "y = y.asfreq(\"D\", method=\"ffill\" )\n",
    "y[:15]"
   ]
  },
  {
   "cell_type": "markdown",
   "metadata": {},
   "source": [
    "Calculate quarterly high, low prices."
   ]
  },
  {
   "cell_type": "code",
   "execution_count": 14,
   "metadata": {},
   "outputs": [
    {
     "data": {
      "text/html": [
       "<div>\n",
       "<style scoped>\n",
       "    .dataframe tbody tr th:only-of-type {\n",
       "        vertical-align: middle;\n",
       "    }\n",
       "\n",
       "    .dataframe tbody tr th {\n",
       "        vertical-align: top;\n",
       "    }\n",
       "\n",
       "    .dataframe thead th {\n",
       "        text-align: right;\n",
       "    }\n",
       "</style>\n",
       "<table border=\"1\" class=\"dataframe\">\n",
       "  <thead>\n",
       "    <tr style=\"text-align: right;\">\n",
       "      <th></th>\n",
       "      <th>low</th>\n",
       "      <th>high</th>\n",
       "      <th>first</th>\n",
       "      <th>last</th>\n",
       "      <th>median</th>\n",
       "      <th>mean</th>\n",
       "    </tr>\n",
       "    <tr>\n",
       "      <th>Date</th>\n",
       "      <th></th>\n",
       "      <th></th>\n",
       "      <th></th>\n",
       "      <th></th>\n",
       "      <th></th>\n",
       "      <th></th>\n",
       "    </tr>\n",
       "  </thead>\n",
       "  <tbody>\n",
       "    <tr>\n",
       "      <th>2018-06-30</th>\n",
       "      <td>7.451009</td>\n",
       "      <td>7.527256</td>\n",
       "      <td>7.457292</td>\n",
       "      <td>7.521724</td>\n",
       "      <td>7.500972</td>\n",
       "      <td>7.491879</td>\n",
       "    </tr>\n",
       "    <tr>\n",
       "      <th>2018-09-30</th>\n",
       "      <td>7.521724</td>\n",
       "      <td>7.695508</td>\n",
       "      <td>7.521724</td>\n",
       "      <td>7.688776</td>\n",
       "      <td>7.604433</td>\n",
       "      <td>7.609261</td>\n",
       "    </tr>\n",
       "    <tr>\n",
       "      <th>2018-12-31</th>\n",
       "      <td>7.495042</td>\n",
       "      <td>7.721149</td>\n",
       "      <td>7.721149</td>\n",
       "      <td>7.545945</td>\n",
       "      <td>7.559247</td>\n",
       "      <td>7.570085</td>\n",
       "    </tr>\n",
       "    <tr>\n",
       "      <th>2019-03-31</th>\n",
       "      <td>7.502876</td>\n",
       "      <td>7.641516</td>\n",
       "      <td>7.551082</td>\n",
       "      <td>7.601727</td>\n",
       "      <td>7.598600</td>\n",
       "      <td>7.586405</td>\n",
       "    </tr>\n",
       "    <tr>\n",
       "      <th>2019-06-30</th>\n",
       "      <td>7.608126</td>\n",
       "      <td>7.723275</td>\n",
       "      <td>7.616604</td>\n",
       "      <td>7.676868</td>\n",
       "      <td>7.664816</td>\n",
       "      <td>7.661284</td>\n",
       "    </tr>\n",
       "  </tbody>\n",
       "</table>\n",
       "</div>"
      ],
      "text/plain": [
       "                 low      high     first      last    median      mean\n",
       "Date                                                                  \n",
       "2018-06-30  7.451009  7.527256  7.457292  7.521724  7.500972  7.491879\n",
       "2018-09-30  7.521724  7.695508  7.521724  7.688776  7.604433  7.609261\n",
       "2018-12-31  7.495042  7.721149  7.721149  7.545945  7.559247  7.570085\n",
       "2019-03-31  7.502876  7.641516  7.551082  7.601727  7.598600  7.586405\n",
       "2019-06-30  7.608126  7.723275  7.616604  7.676868  7.664816  7.661284"
      ]
     },
     "execution_count": 14,
     "metadata": {},
     "output_type": "execute_result"
    }
   ],
   "source": [
    "pd.DataFrame(dict(low=y.resample(\"Q\").min(), \n",
    "                  high=y.resample(\"Q\").max(), \n",
    "                  first = y.resample(\"Q\").first(), \n",
    "                  last = y.resample(\"Q\").last(),\n",
    "                  median = y.resample(\"Q\").median(),\n",
    "                  mean = y.resample(\"Q\").mean()\n",
    "                 ))"
   ]
  },
  {
   "cell_type": "markdown",
   "metadata": {},
   "source": [
    "Calculate rolling mean, exponentially weighted mean"
   ]
  },
  {
   "cell_type": "code",
   "execution_count": 15,
   "metadata": {},
   "outputs": [
    {
     "data": {
      "text/html": [
       "<div>\n",
       "<style scoped>\n",
       "    .dataframe tbody tr th:only-of-type {\n",
       "        vertical-align: middle;\n",
       "    }\n",
       "\n",
       "    .dataframe tbody tr th {\n",
       "        vertical-align: top;\n",
       "    }\n",
       "\n",
       "    .dataframe thead th {\n",
       "        text-align: right;\n",
       "    }\n",
       "</style>\n",
       "<table border=\"1\" class=\"dataframe\">\n",
       "  <thead>\n",
       "    <tr style=\"text-align: right;\">\n",
       "      <th></th>\n",
       "      <th>actual</th>\n",
       "      <th>rolling_mean</th>\n",
       "      <th>ewm</th>\n",
       "    </tr>\n",
       "    <tr>\n",
       "      <th>Date</th>\n",
       "      <th></th>\n",
       "      <th></th>\n",
       "      <th></th>\n",
       "    </tr>\n",
       "  </thead>\n",
       "  <tbody>\n",
       "    <tr>\n",
       "      <th>2018-06-01</th>\n",
       "      <td>7.457292</td>\n",
       "      <td>NaN</td>\n",
       "      <td>7.457292</td>\n",
       "    </tr>\n",
       "    <tr>\n",
       "      <th>2018-06-02</th>\n",
       "      <td>7.457292</td>\n",
       "      <td>NaN</td>\n",
       "      <td>7.457292</td>\n",
       "    </tr>\n",
       "    <tr>\n",
       "      <th>2018-06-03</th>\n",
       "      <td>7.457292</td>\n",
       "      <td>7.457292</td>\n",
       "      <td>7.457292</td>\n",
       "    </tr>\n",
       "    <tr>\n",
       "      <th>2018-06-04</th>\n",
       "      <td>7.464080</td>\n",
       "      <td>7.459555</td>\n",
       "      <td>7.460912</td>\n",
       "    </tr>\n",
       "    <tr>\n",
       "      <th>2018-06-05</th>\n",
       "      <td>7.451009</td>\n",
       "      <td>7.457460</td>\n",
       "      <td>7.455801</td>\n",
       "    </tr>\n",
       "    <tr>\n",
       "      <th>2018-06-06</th>\n",
       "      <td>7.453417</td>\n",
       "      <td>7.456169</td>\n",
       "      <td>7.454590</td>\n",
       "    </tr>\n",
       "    <tr>\n",
       "      <th>2018-06-07</th>\n",
       "      <td>7.459080</td>\n",
       "      <td>7.454502</td>\n",
       "      <td>7.456853</td>\n",
       "    </tr>\n",
       "    <tr>\n",
       "      <th>2018-06-08</th>\n",
       "      <td>7.465713</td>\n",
       "      <td>7.459403</td>\n",
       "      <td>7.461300</td>\n",
       "    </tr>\n",
       "    <tr>\n",
       "      <th>2018-06-09</th>\n",
       "      <td>7.465713</td>\n",
       "      <td>7.463502</td>\n",
       "      <td>7.463511</td>\n",
       "    </tr>\n",
       "    <tr>\n",
       "      <th>2018-06-10</th>\n",
       "      <td>7.465713</td>\n",
       "      <td>7.465713</td>\n",
       "      <td>7.464613</td>\n",
       "    </tr>\n",
       "  </tbody>\n",
       "</table>\n",
       "</div>"
      ],
      "text/plain": [
       "              actual  rolling_mean       ewm\n",
       "Date                                        \n",
       "2018-06-01  7.457292           NaN  7.457292\n",
       "2018-06-02  7.457292           NaN  7.457292\n",
       "2018-06-03  7.457292      7.457292  7.457292\n",
       "2018-06-04  7.464080      7.459555  7.460912\n",
       "2018-06-05  7.451009      7.457460  7.455801\n",
       "2018-06-06  7.453417      7.456169  7.454590\n",
       "2018-06-07  7.459080      7.454502  7.456853\n",
       "2018-06-08  7.465713      7.459403  7.461300\n",
       "2018-06-09  7.465713      7.463502  7.463511\n",
       "2018-06-10  7.465713      7.465713  7.464613"
      ]
     },
     "execution_count": 15,
     "metadata": {},
     "output_type": "execute_result"
    }
   ],
   "source": [
    "period = 3\n",
    "y_rolling = pd.DataFrame(dict(actual = y, \n",
    "                              rolling_mean = y.rolling(period).mean(), \n",
    "                              ewm = y.ewm(span = period).mean()\n",
    "                             ))\n",
    "y_rolling.head(10)"
   ]
  },
  {
   "cell_type": "markdown",
   "metadata": {},
   "source": [
    "By visual inspection, we see the time series is not stationary. Let we will see a more formal way of testing using Dickey Fullter Test. "
   ]
  },
  {
   "cell_type": "code",
   "execution_count": 16,
   "metadata": {},
   "outputs": [
    {
     "data": {
      "text/plain": [
       "<matplotlib.axes._subplots.AxesSubplot at 0x11ff0e7f0>"
      ]
     },
     "execution_count": 16,
     "metadata": {},
     "output_type": "execute_result"
    },
    {
     "data": {
      "image/png": "[encoded data removed]",
      "text/plain": [
       "<Figure size 864x432 with 1 Axes>"
      ]
     },
     "metadata": {
      "needs_background": "light"
     },
     "output_type": "display_data"
    }
   ],
   "source": [
    "y_rolling.plot()"
   ]
  },
  {
   "cell_type": "markdown",
   "metadata": {},
   "source": [
    "Formal of way of test for stationarity. Since the p-value of Augmented Dickey Fullter test is > 0.05, we can say that there is not sufficient proof that the time series is stationary. Loosely speaking, it is non-stationary. We need further transformation to make data stationary. Populary method for making data stationary will be to take \"difference\". Taking difference by lag one, we see the p-val for Dickey Fuller test is < 0.05. So we conclude, diff 1 has made the data stationary. "
   ]
  },
  {
   "cell_type": "code",
   "execution_count": 17,
   "metadata": {},
   "outputs": [
    {
     "name": "stdout",
     "output_type": "stream",
     "text": [
      "ADF Statistic: -2.560543\n",
      "p-value: 0.101430\n"
     ]
    }
   ],
   "source": [
    "from statsmodels.tsa.stattools import adfuller\n",
    "from numpy import log\n",
    "result = adfuller(y)\n",
    "print('ADF Statistic: %f' % result[0])\n",
    "print('p-value: %f' % result[1])"
   ]
  },
  {
   "cell_type": "code",
   "execution_count": 18,
   "metadata": {},
   "outputs": [
    {
     "data": {
      "text/html": [
       "<div>\n",
       "<style scoped>\n",
       "    .dataframe tbody tr th:only-of-type {\n",
       "        vertical-align: middle;\n",
       "    }\n",
       "\n",
       "    .dataframe tbody tr th {\n",
       "        vertical-align: top;\n",
       "    }\n",
       "\n",
       "    .dataframe thead th {\n",
       "        text-align: right;\n",
       "    }\n",
       "</style>\n",
       "<table border=\"1\" class=\"dataframe\">\n",
       "  <thead>\n",
       "    <tr style=\"text-align: right;\">\n",
       "      <th></th>\n",
       "      <th>actual</th>\n",
       "      <th>diff1</th>\n",
       "      <th>diff2</th>\n",
       "    </tr>\n",
       "    <tr>\n",
       "      <th>Date</th>\n",
       "      <th></th>\n",
       "      <th></th>\n",
       "      <th></th>\n",
       "    </tr>\n",
       "  </thead>\n",
       "  <tbody>\n",
       "    <tr>\n",
       "      <th>2018-06-01</th>\n",
       "      <td>7.457292</td>\n",
       "      <td>NaN</td>\n",
       "      <td>NaN</td>\n",
       "    </tr>\n",
       "    <tr>\n",
       "      <th>2018-06-02</th>\n",
       "      <td>7.457292</td>\n",
       "      <td>NaN</td>\n",
       "      <td>NaN</td>\n",
       "    </tr>\n",
       "    <tr>\n",
       "      <th>2018-06-03</th>\n",
       "      <td>7.457292</td>\n",
       "      <td>NaN</td>\n",
       "      <td>NaN</td>\n",
       "    </tr>\n",
       "    <tr>\n",
       "      <th>2018-06-04</th>\n",
       "      <td>7.464080</td>\n",
       "      <td>0.006788</td>\n",
       "      <td>NaN</td>\n",
       "    </tr>\n",
       "    <tr>\n",
       "      <th>2018-06-05</th>\n",
       "      <td>7.451009</td>\n",
       "      <td>-0.006283</td>\n",
       "      <td>-0.013071</td>\n",
       "    </tr>\n",
       "    <tr>\n",
       "      <th>2018-06-06</th>\n",
       "      <td>7.453417</td>\n",
       "      <td>-0.003875</td>\n",
       "      <td>0.002408</td>\n",
       "    </tr>\n",
       "    <tr>\n",
       "      <th>2018-06-07</th>\n",
       "      <td>7.459080</td>\n",
       "      <td>-0.005000</td>\n",
       "      <td>-0.001125</td>\n",
       "    </tr>\n",
       "    <tr>\n",
       "      <th>2018-06-08</th>\n",
       "      <td>7.465713</td>\n",
       "      <td>0.014703</td>\n",
       "      <td>0.019703</td>\n",
       "    </tr>\n",
       "    <tr>\n",
       "      <th>2018-06-09</th>\n",
       "      <td>7.465713</td>\n",
       "      <td>0.012296</td>\n",
       "      <td>-0.002408</td>\n",
       "    </tr>\n",
       "    <tr>\n",
       "      <th>2018-06-10</th>\n",
       "      <td>7.465713</td>\n",
       "      <td>0.006633</td>\n",
       "      <td>-0.005663</td>\n",
       "    </tr>\n",
       "  </tbody>\n",
       "</table>\n",
       "</div>"
      ],
      "text/plain": [
       "              actual     diff1     diff2\n",
       "Date                                    \n",
       "2018-06-01  7.457292       NaN       NaN\n",
       "2018-06-02  7.457292       NaN       NaN\n",
       "2018-06-03  7.457292       NaN       NaN\n",
       "2018-06-04  7.464080  0.006788       NaN\n",
       "2018-06-05  7.451009 -0.006283 -0.013071\n",
       "2018-06-06  7.453417 -0.003875  0.002408\n",
       "2018-06-07  7.459080 -0.005000 -0.001125\n",
       "2018-06-08  7.465713  0.014703  0.019703\n",
       "2018-06-09  7.465713  0.012296 -0.002408\n",
       "2018-06-10  7.465713  0.006633 -0.005663"
      ]
     },
     "execution_count": 18,
     "metadata": {},
     "output_type": "execute_result"
    }
   ],
   "source": [
    "diff = pd.DataFrame({\"actual\": y, \"diff1\": y.diff(3)}).head(10)\n",
    "diff[\"diff2\"] = diff.diff1.diff(1)\n",
    "diff"
   ]
  },
  {
   "cell_type": "code",
   "execution_count": 19,
   "metadata": {},
   "outputs": [
    {
     "name": "stdout",
     "output_type": "stream",
     "text": [
      "ADF Statistic: -13.737425\n",
      "p-value: 0.000000\n"
     ]
    }
   ],
   "source": [
    "result = adfuller(y.diff(periods=1).dropna())\n",
    "print('ADF Statistic: %f' % result[0])\n",
    "print('p-value: %f' % result[1])"
   ]
  },
  {
   "cell_type": "code",
   "execution_count": 20,
   "metadata": {},
   "outputs": [
    {
     "data": {
      "text/plain": [
       "<matplotlib.axes._subplots.AxesSubplot at 0x1c22d29198>"
      ]
     },
     "execution_count": 20,
     "metadata": {},
     "output_type": "execute_result"
    },
    {
     "data": {
      "image/png": "[encoded data removed]",
      "text/plain": [
       "<Figure size 864x432 with 1 Axes>"
      ]
     },
     "metadata": {
      "needs_background": "light"
     },
     "output_type": "display_data"
    }
   ],
   "source": [
    "y.diff(periods=1).plot()"
   ]
  },
  {
   "cell_type": "markdown",
   "metadata": {},
   "source": [
    "Use pandas's auto correlation plot. Here is a nice explanation of the [autocorrelation plot](https://stats.stackexchange.com/questions/357300/what-does-pandas-autocorrelation-graph-show) "
   ]
  },
  {
   "cell_type": "code",
   "execution_count": 21,
   "metadata": {},
   "outputs": [
    {
     "data": {
      "text/plain": [
       "<matplotlib.axes._subplots.AxesSubplot at 0x11fd2ec18>"
      ]
     },
     "execution_count": 21,
     "metadata": {},
     "output_type": "execute_result"
    },
    {
     "data": {
      "image/png": "[encoded data removed]",
      "text/plain": [
       "<Figure size 864x432 with 1 Axes>"
      ]
     },
     "metadata": {
      "needs_background": "light"
     },
     "output_type": "display_data"
    }
   ],
   "source": [
    "from pandas.plotting import autocorrelation_plot\n",
    "autocorrelation_plot(y)"
   ]
  },
  {
   "cell_type": "code",
   "execution_count": 22,
   "metadata": {},
   "outputs": [
    {
     "name": "stdout",
     "output_type": "stream",
     "text": [
      "                  0\n",
      "count  3.390000e+02\n",
      "mean  -6.232597e-07\n",
      "std    1.301486e-02\n",
      "min   -6.453965e-02\n",
      "25%   -3.584534e-03\n",
      "50%   -4.457160e-04\n",
      "75%    4.079619e-03\n",
      "max    5.633234e-02\n"
     ]
    },
    {
     "data": {
      "image/png": "[encoded data removed]",
      "text/plain": [
       "<Figure size 864x432 with 1 Axes>"
      ]
     },
     "metadata": {
      "needs_background": "light"
     },
     "output_type": "display_data"
    },
    {
     "data": {
      "image/png": "[encoded data removed]",
      "text/plain": [
       "<Figure size 864x432 with 1 Axes>"
      ]
     },
     "metadata": {
      "needs_background": "light"
     },
     "output_type": "display_data"
    }
   ],
   "source": [
    "from statsmodels.tsa.arima_model import ARIMA\n",
    "\n",
    "# fit model\n",
    "model = ARIMA(y, order=(5,1,0)) # p, d, q\n",
    "model_fit = model.fit(disp=0)\n",
    "#print(model_fit.summary())\n",
    "\n",
    "# plot residual erros\n",
    "residuals = pd.DataFrame(model_fit.resid)\n",
    "residuals.plot()\n",
    "residuals.plot(kind='kde')\n",
    "print(residuals.describe())"
   ]
  },
  {
   "cell_type": "code",
   "execution_count": 23,
   "metadata": {},
   "outputs": [
    {
     "data": {
      "text/plain": [
       "<matplotlib.collections.PolyCollection at 0x1c22d4b668>"
      ]
     },
     "execution_count": 23,
     "metadata": {},
     "output_type": "execute_result"
    },
    {
     "data": {
      "image/png": "[encoded data removed]",
      "text/plain": [
       "<Figure size 864x432 with 1 Axes>"
      ]
     },
     "metadata": {
      "needs_background": "light"
     },
     "output_type": "display_data"
    }
   ],
   "source": [
    "model = ARIMA(y.values, order=(5,1,0))\n",
    "model_fit = model.fit(disp=0)\n",
    "predictions, error, conf_interval = model_fit.forecast(150)\n",
    "plt.plot(predictions)\n",
    "plt.fill_between(range(len(predictions)), conf_interval[:,0], conf_interval[:,1], alpha = 0.3)"
   ]
  },
  {
   "cell_type": "code",
   "execution_count": 24,
   "metadata": {},
   "outputs": [
    {
     "data": {
      "text/plain": [
       "array([7.6787589 , 7.67975708, 7.6801224 , 7.6807255 , 7.68103294,\n",
       "       7.68163888, 7.68230646, 7.6829775 , 7.68363045, 7.68429034])"
      ]
     },
     "execution_count": 24,
     "metadata": {},
     "output_type": "execute_result"
    }
   ],
   "source": [
    "predictions[:10]"
   ]
  },
  {
   "cell_type": "code",
   "execution_count": 25,
   "metadata": {},
   "outputs": [
    {
     "data": {
      "text/plain": [
       "array([0.01299563, 0.01879628, 0.02258796, 0.02566319, 0.02843215,\n",
       "       0.03081504, 0.03301484, 0.03509737, 0.03707048, 0.0389422 ])"
      ]
     },
     "execution_count": 25,
     "metadata": {},
     "output_type": "execute_result"
    }
   ],
   "source": [
    "error[:10]"
   ]
  },
  {
   "cell_type": "code",
   "execution_count": 26,
   "metadata": {
    "scrolled": false
   },
   "outputs": [
    {
     "data": {
      "text/plain": [
       "array([[7.65328795, 7.70422986],\n",
       "       [7.64291705, 7.71659711],\n",
       "       [7.63585081, 7.72439399],\n",
       "       [7.63042658, 7.73102442],\n",
       "       [7.62530695, 7.73675893],\n",
       "       [7.62124252, 7.74203525],\n",
       "       [7.61759855, 7.74701436],\n",
       "       [7.61418793, 7.75176708],\n",
       "       [7.61097365, 7.75628726],\n",
       "       [7.60796503, 7.76061565]])"
      ]
     },
     "execution_count": 26,
     "metadata": {},
     "output_type": "execute_result"
    }
   ],
   "source": [
    "conf_interval[:10]"
   ]
  },
  {
   "cell_type": "code",
   "execution_count": 27,
   "metadata": {},
   "outputs": [
    {
     "data": {
      "text/plain": [
       "array([ 0.        ,  0.        ,  0.00678807, -0.01307057,  0.00240765,\n",
       "        0.00566263,  0.0066329 ,  0.        ,  0.        ,  0.00148707,\n",
       "        0.01773066,  0.02391171, -0.02024075,  0.02894678,  0.        ,\n",
       "        0.        , -0.00602338, -0.00246339, -0.00112423, -0.00170246,\n",
       "       -0.00526295,  0.        ,  0.        ,  0.00520799,  0.01784181,\n",
       "        0.0032345 , -0.00826875,  0.0027368 ,  0.        ,  0.        ,\n",
       "        0.00194642,  0.01218676, -0.00422438,  0.00755385,  0.01721521,\n",
       "        0.        ,  0.        , -0.0157803 , -0.00420426,  0.05438435,\n",
       "       -0.00432775,  0.00493366,  0.        ,  0.        ,  0.0040803 ,\n",
       "        0.00648906, -0.00094943, -0.00946851,  0.00764207,  0.        ,\n",
       "        0.        ,  0.00452246, -0.00332114, -0.00879292, -0.00851457,\n",
       "       -0.01072046,  0.        ,  0.        ,  0.0004372 , -0.00226524,\n",
       "        0.01853654, -0.01431908,  0.01581051,  0.        ,  0.        ,\n",
       "       -0.00197219, -0.00415938,  0.00337448,  0.00017729,  0.00945199,\n",
       "        0.        ,  0.        ,  0.00353096,  0.00169843,  0.        ,\n",
       "        0.00246757,  0.00211377,  0.        ,  0.        , -0.0013921 ,\n",
       "        0.00382362,  0.        ,  0.00861149,  0.00387436,  0.        ,\n",
       "        0.        ,  0.00385941,  0.00888334,  0.00135227,  0.00500675,\n",
       "       -0.00192271,  0.        ,  0.        , -0.01234494,  0.02215997,\n",
       "       -0.00940615, -0.00190153,  0.00219005,  0.        ,  0.        ,\n",
       "        0.00043263, -0.01671956, -0.00112464,  0.        ,  0.0104397 ,\n",
       "        0.        ,  0.        ,  0.00422752, -0.00164057,  0.00344691,\n",
       "        0.        ,  0.01207845,  0.        ,  0.        ,  0.04431635,\n",
       "       -0.00696088, -0.01898169,  0.02156629, -0.00235561,  0.        ,\n",
       "        0.        ,  0.03237316,  0.        , -0.04196705, -0.04639343,\n",
       "        0.01816508,  0.        ,  0.        , -0.01200914,  0.00683562,\n",
       "       -0.02331198, -0.03164137, -0.03163221,  0.        ,  0.        ,\n",
       "        0.01613355,  0.00654433, -0.01690818,  0.        , -0.00843184,\n",
       "        0.        ,  0.        , -0.00534564, -0.03168429,  0.0026272 ,\n",
       "        0.00243145, -0.02951941,  0.        ,  0.        ,  0.03918651,\n",
       "        0.01264024,  0.02262062, -0.00123906, -0.01158695,  0.        ,\n",
       "        0.        , -0.01188143,  0.02189153,  0.00487762,  0.        ,\n",
       "       -0.0171113 ,  0.        ,  0.        ,  0.00295498,  0.0104422 ,\n",
       "       -0.02846402, -0.00415613,  0.00731493,  0.        ,  0.        ,\n",
       "        0.00836626, -0.01280204, -0.03590928,  0.00030349,  0.        ,\n",
       "        0.        ,  0.        ,  0.01834061,  0.02363379,  0.04835551,\n",
       "       -0.01183956,  0.00391978,  0.        ,  0.        ,  0.00716341,\n",
       "        0.01424929, -0.00204102, -0.00702599,  0.00125379,  0.        ,\n",
       "        0.        , -0.00977092,  0.0121738 ,  0.00836492, -0.01710298,\n",
       "        0.00359989,  0.        ,  0.        ,  0.00228411, -0.00323946,\n",
       "       -0.00980722, -0.00734229, -0.03026323,  0.        ,  0.        ,\n",
       "        0.01190272,  0.        , -0.01539017,  0.01039989, -0.00678058,\n",
       "        0.        ,  0.        , -0.00158349,  0.0051372 ,  0.01071598,\n",
       "       -0.01221489, -0.01223273,  0.        ,  0.        ,  0.01115317,\n",
       "       -0.00229464, -0.00349161,  0.00084757, -0.02465886,  0.        ,\n",
       "        0.        , -0.01602967,  0.02964045,  0.00125737,  0.01283074,\n",
       "        0.00334656,  0.        ,  0.        ,  0.00422645, -0.003569  ,\n",
       "       -0.01392478,  0.01374073,  0.01007242,  0.        ,  0.        ,\n",
       "        0.01764843,  0.01409458, -0.0006811 ,  0.01636878,  0.00783872,\n",
       "        0.        ,  0.        ,  0.00995057, -0.00278402,  0.01468705,\n",
       "        0.00389639, -0.01037579,  0.        ,  0.        ,  0.        ,\n",
       "       -0.00476539,  0.00670394, -0.01012174, -0.00731417,  0.        ,\n",
       "        0.        ,  0.        , -0.06351098,  0.00521005, -0.00028729,\n",
       "        0.00596379,  0.        ,  0.        ,  0.        ,  0.05704878,\n",
       "        0.00947088, -0.03694547,  0.00600678,  0.        ,  0.        ,\n",
       "        0.        , -0.00366512,  0.00576775,  0.00682801,  0.00465809,\n",
       "        0.        ,  0.        , -0.00391332, -0.00116705, -0.00595574,\n",
       "       -0.0065699 ,  0.02609805,  0.        ,  0.        , -0.00844261,\n",
       "        0.        , -0.00383868,  0.        ,  0.        ,  0.        ,\n",
       "        0.        , -0.015403  , -0.00080668, -0.00746735,  0.01633018,\n",
       "        0.00067467,  0.        ,  0.        ,  0.01487643,  0.02318303,\n",
       "        0.        , -0.03166027,  0.01663916,  0.        ,  0.        ,\n",
       "        0.01090068,  0.00997065, -0.02480916, -0.01022239, -0.00247893,\n",
       "        0.        ,  0.        ,  0.04787968,  0.00871599,  0.        ,\n",
       "        0.0085244 ,  0.        ,  0.        ,  0.        ,  0.0052882 ,\n",
       "       -0.00296537,  0.01309227,  0.00527585,  0.01964629,  0.        ,\n",
       "        0.        ,  0.        ,  0.00969133,  0.        , -0.02008669,\n",
       "       -0.03837247,  0.        ,  0.        ,  0.01205185])"
      ]
     },
     "execution_count": 27,
     "metadata": {},
     "output_type": "execute_result"
    }
   ],
   "source": [
    "model.endog"
   ]
  },
  {
   "cell_type": "code",
   "execution_count": 28,
   "metadata": {},
   "outputs": [
    {
     "data": {
      "text/plain": [
       "array([7.70423033, 7.71659778, 7.7243948 , 7.73102535, 7.73675995,\n",
       "       7.74203636, 7.74701555, 7.75176834, 7.7562886 , 7.76061705])"
      ]
     },
     "execution_count": 28,
     "metadata": {},
     "output_type": "execute_result"
    }
   ],
   "source": [
    "(predictions + 1.96 * error)[:10]"
   ]
  },
  {
   "cell_type": "code",
   "execution_count": 29,
   "metadata": {},
   "outputs": [
    {
     "data": {
      "text/plain": [
       "array([7.65328748, 7.64291637, 7.63585   , 7.63042566, 7.62530593,\n",
       "       7.62124141, 7.61759736, 7.61418666, 7.61097231, 7.60796363])"
      ]
     },
     "execution_count": 29,
     "metadata": {},
     "output_type": "execute_result"
    }
   ],
   "source": [
    "(predictions - 1.96 * error)[:10]"
   ]
  },
  {
   "cell_type": "code",
   "execution_count": 30,
   "metadata": {
    "scrolled": false
   },
   "outputs": [
    {
     "name": "stdout",
     "output_type": "stream",
     "text": [
      "predicted=7.536537, actual=7.550425\n",
      "predicted=7.552046, actual=7.560497\n",
      "predicted=7.560923, actual=7.560497\n",
      "predicted=7.560501, actual=7.560497\n",
      "predicted=7.560612, actual=7.578145\n",
      "predicted=7.578992, actual=7.592240\n",
      "predicted=7.592386, actual=7.591559\n",
      "predicted=7.591067, actual=7.607928\n",
      "predicted=7.609021, actual=7.615766\n",
      "predicted=7.615626, actual=7.615766\n",
      "predicted=7.615776, actual=7.615766\n",
      "predicted=7.616227, actual=7.625717\n",
      "predicted=7.626630, actual=7.622933\n",
      "predicted=7.622868, actual=7.637620\n",
      "predicted=7.639138, actual=7.641516\n",
      "predicted=7.641705, actual=7.631141\n",
      "predicted=7.631042, actual=7.631141\n",
      "predicted=7.632246, actual=7.631141\n",
      "predicted=7.631652, actual=7.631141\n",
      "predicted=7.631906, actual=7.626375\n",
      "predicted=7.626959, actual=7.633079\n",
      "predicted=7.634334, actual=7.622957\n",
      "predicted=7.622854, actual=7.615643\n",
      "predicted=7.616467, actual=7.615643\n",
      "predicted=7.616651, actual=7.615643\n",
      "predicted=7.616271, actual=7.615643\n",
      "predicted=7.616467, actual=7.552132\n",
      "predicted=7.549410, actual=7.557342\n",
      "predicted=7.560903, actual=7.557055\n",
      "predicted=7.557239, actual=7.563019\n",
      "predicted=7.563328, actual=7.563019\n",
      "predicted=7.563131, actual=7.563019\n",
      "predicted=7.563368, actual=7.563019\n",
      "predicted=7.563442, actual=7.620068\n",
      "predicted=7.622661, actual=7.629539\n",
      "predicted=7.628244, actual=7.592593\n",
      "predicted=7.590453, actual=7.598600\n",
      "predicted=7.602951, actual=7.598600\n",
      "predicted=7.598771, actual=7.598600\n",
      "predicted=7.598971, actual=7.598600\n",
      "predicted=7.599119, actual=7.594935\n",
      "predicted=7.595360, actual=7.600702\n",
      "predicted=7.601710, actual=7.607530\n",
      "predicted=7.607844, actual=7.612189\n",
      "predicted=7.612358, actual=7.612189\n",
      "predicted=7.612401, actual=7.612189\n",
      "predicted=7.612819, actual=7.608275\n",
      "predicted=7.608750, actual=7.607108\n",
      "predicted=7.607949, actual=7.601152\n",
      "predicted=7.601572, actual=7.594583\n",
      "predicted=7.595309, actual=7.620681\n",
      "predicted=7.622593, actual=7.620681\n",
      "predicted=7.619126, actual=7.620681\n",
      "predicted=7.621236, actual=7.612238\n",
      "predicted=7.612597, actual=7.612238\n",
      "predicted=7.613595, actual=7.608399\n",
      "predicted=7.608875, actual=7.608399\n",
      "predicted=7.609224, actual=7.608399\n",
      "predicted=7.608943, actual=7.608399\n",
      "predicted=7.608926, actual=7.608399\n",
      "predicted=7.608928, actual=7.592996\n",
      "predicted=7.593024, actual=7.592190\n",
      "predicted=7.593864, actual=7.584722\n",
      "predicted=7.585077, actual=7.601052\n",
      "predicted=7.602523, actual=7.601727\n",
      "predicted=7.601026, actual=7.601727\n",
      "predicted=7.601985, actual=7.601727\n",
      "predicted=7.602264, actual=7.616604\n",
      "predicted=7.617558, actual=7.639787\n",
      "predicted=7.640036, actual=7.639787\n",
      "predicted=7.638489, actual=7.608126\n",
      "predicted=7.607311, actual=7.624765\n",
      "predicted=7.628944, actual=7.624765\n",
      "predicted=7.624388, actual=7.624765\n",
      "predicted=7.624806, actual=7.635666\n",
      "predicted=7.636364, actual=7.645637\n",
      "predicted=7.645567, actual=7.620828\n",
      "predicted=7.619901, actual=7.610605\n",
      "predicted=7.613206, actual=7.608126\n",
      "predicted=7.609793, actual=7.608126\n",
      "predicted=7.608761, actual=7.608126\n",
      "predicted=7.608788, actual=7.656006\n",
      "predicted=7.658150, actual=7.664722\n",
      "predicted=7.661305, actual=7.664722\n",
      "predicted=7.663938, actual=7.673246\n",
      "predicted=7.674033, actual=7.673246\n",
      "predicted=7.671707, actual=7.673246\n",
      "predicted=7.673665, actual=7.673246\n",
      "predicted=7.673949, actual=7.678535\n",
      "predicted=7.679189, actual=7.675569\n",
      "predicted=7.675747, actual=7.688661\n",
      "predicted=7.690041, actual=7.693937\n",
      "predicted=7.693736, actual=7.713584\n",
      "predicted=7.714337, actual=7.713584\n",
      "predicted=7.712823, actual=7.713584\n",
      "predicted=7.713854, actual=7.713584\n",
      "predicted=7.714250, actual=7.723275\n",
      "predicted=7.723846, actual=7.723275\n",
      "predicted=7.723336, actual=7.703188\n",
      "predicted=7.703284, actual=7.664816\n",
      "predicted=7.665521, actual=7.664816\n",
      "predicted=7.668753, actual=7.664816\n",
      "predicted=7.665870, actual=7.676868\n",
      "Test RMSE: 0.014\n"
     ]
    },
    {
     "data": {
      "text/plain": [
       "[<matplotlib.lines.Line2D at 0x1c27e2bc88>]"
      ]
     },
     "execution_count": 30,
     "metadata": {},
     "output_type": "execute_result"
    },
    {
     "data": {
      "image/png": "[encoded data removed]",
      "text/plain": [
       "<Figure size 864x432 with 1 Axes>"
      ]
     },
     "metadata": {
      "needs_background": "light"
     },
     "output_type": "display_data"
    }
   ],
   "source": [
    "from sklearn.metrics import mean_squared_error\n",
    "\n",
    "x = y.values\n",
    "train_size = int(len(x) * 0.7)\n",
    "train, test = x[0:train_size], x[train_size:]\n",
    "history = [x for x in train]\n",
    "predictions = []\n",
    "for t in range(len(test)):\n",
    "    model = ARIMA(history, order=(5,1,0))\n",
    "    model_fit = model.fit(disp=0)\n",
    "    output = model_fit.forecast()\n",
    "    yhat = output[0][0]\n",
    "    predictions.append(yhat)\n",
    "    obs = test[t]\n",
    "    history.append(obs)\n",
    "    print('predicted=%f, actual=%f' % (yhat, obs))\n",
    "error = mean_squared_error(test, predictions)\n",
    "print('Test RMSE: %.3f' % np.sqrt(error))\n",
    "\n",
    "plt.plot(test)\n",
    "plt.plot(predictions, color='red')\n"
   ]
  },
  {
   "cell_type": "code",
   "execution_count": 31,
   "metadata": {},
   "outputs": [
    {
     "data": {
      "text/html": [
       "<div>\n",
       "<style scoped>\n",
       "    .dataframe tbody tr th:only-of-type {\n",
       "        vertical-align: middle;\n",
       "    }\n",
       "\n",
       "    .dataframe tbody tr th {\n",
       "        vertical-align: top;\n",
       "    }\n",
       "\n",
       "    .dataframe thead th {\n",
       "        text-align: right;\n",
       "    }\n",
       "</style>\n",
       "<table border=\"1\" class=\"dataframe\">\n",
       "  <thead>\n",
       "    <tr style=\"text-align: right;\">\n",
       "      <th></th>\n",
       "      <th>actual</th>\n",
       "      <th>prediction</th>\n",
       "    </tr>\n",
       "    <tr>\n",
       "      <th>Date</th>\n",
       "      <th></th>\n",
       "      <th></th>\n",
       "    </tr>\n",
       "  </thead>\n",
       "  <tbody>\n",
       "    <tr>\n",
       "      <th>2019-01-24</th>\n",
       "      <td>7.550425</td>\n",
       "      <td>7.536537</td>\n",
       "    </tr>\n",
       "    <tr>\n",
       "      <th>2019-01-25</th>\n",
       "      <td>7.560497</td>\n",
       "      <td>7.552046</td>\n",
       "    </tr>\n",
       "    <tr>\n",
       "      <th>2019-01-26</th>\n",
       "      <td>7.560497</td>\n",
       "      <td>7.560923</td>\n",
       "    </tr>\n",
       "    <tr>\n",
       "      <th>2019-01-27</th>\n",
       "      <td>7.560497</td>\n",
       "      <td>7.560501</td>\n",
       "    </tr>\n",
       "    <tr>\n",
       "      <th>2019-01-28</th>\n",
       "      <td>7.578145</td>\n",
       "      <td>7.560612</td>\n",
       "    </tr>\n",
       "    <tr>\n",
       "      <th>2019-01-29</th>\n",
       "      <td>7.592240</td>\n",
       "      <td>7.578992</td>\n",
       "    </tr>\n",
       "    <tr>\n",
       "      <th>2019-01-30</th>\n",
       "      <td>7.591559</td>\n",
       "      <td>7.592386</td>\n",
       "    </tr>\n",
       "    <tr>\n",
       "      <th>2019-01-31</th>\n",
       "      <td>7.607928</td>\n",
       "      <td>7.591067</td>\n",
       "    </tr>\n",
       "    <tr>\n",
       "      <th>2019-02-01</th>\n",
       "      <td>7.615766</td>\n",
       "      <td>7.609021</td>\n",
       "    </tr>\n",
       "    <tr>\n",
       "      <th>2019-02-02</th>\n",
       "      <td>7.615766</td>\n",
       "      <td>7.615626</td>\n",
       "    </tr>\n",
       "    <tr>\n",
       "      <th>2019-02-03</th>\n",
       "      <td>7.615766</td>\n",
       "      <td>7.615776</td>\n",
       "    </tr>\n",
       "    <tr>\n",
       "      <th>2019-02-04</th>\n",
       "      <td>7.625717</td>\n",
       "      <td>7.616227</td>\n",
       "    </tr>\n",
       "    <tr>\n",
       "      <th>2019-02-05</th>\n",
       "      <td>7.622933</td>\n",
       "      <td>7.626630</td>\n",
       "    </tr>\n",
       "    <tr>\n",
       "      <th>2019-02-06</th>\n",
       "      <td>7.637620</td>\n",
       "      <td>7.622868</td>\n",
       "    </tr>\n",
       "    <tr>\n",
       "      <th>2019-02-07</th>\n",
       "      <td>7.641516</td>\n",
       "      <td>7.639138</td>\n",
       "    </tr>\n",
       "    <tr>\n",
       "      <th>2019-02-08</th>\n",
       "      <td>7.631141</td>\n",
       "      <td>7.641705</td>\n",
       "    </tr>\n",
       "    <tr>\n",
       "      <th>2019-02-09</th>\n",
       "      <td>7.631141</td>\n",
       "      <td>7.631042</td>\n",
       "    </tr>\n",
       "    <tr>\n",
       "      <th>2019-02-10</th>\n",
       "      <td>7.631141</td>\n",
       "      <td>7.632246</td>\n",
       "    </tr>\n",
       "    <tr>\n",
       "      <th>2019-02-11</th>\n",
       "      <td>7.631141</td>\n",
       "      <td>7.631652</td>\n",
       "    </tr>\n",
       "    <tr>\n",
       "      <th>2019-02-12</th>\n",
       "      <td>7.626375</td>\n",
       "      <td>7.631906</td>\n",
       "    </tr>\n",
       "    <tr>\n",
       "      <th>2019-02-13</th>\n",
       "      <td>7.633079</td>\n",
       "      <td>7.626959</td>\n",
       "    </tr>\n",
       "    <tr>\n",
       "      <th>2019-02-14</th>\n",
       "      <td>7.622957</td>\n",
       "      <td>7.634334</td>\n",
       "    </tr>\n",
       "    <tr>\n",
       "      <th>2019-02-15</th>\n",
       "      <td>7.615643</td>\n",
       "      <td>7.622854</td>\n",
       "    </tr>\n",
       "    <tr>\n",
       "      <th>2019-02-16</th>\n",
       "      <td>7.615643</td>\n",
       "      <td>7.616467</td>\n",
       "    </tr>\n",
       "    <tr>\n",
       "      <th>2019-02-17</th>\n",
       "      <td>7.615643</td>\n",
       "      <td>7.616651</td>\n",
       "    </tr>\n",
       "    <tr>\n",
       "      <th>2019-02-18</th>\n",
       "      <td>7.615643</td>\n",
       "      <td>7.616271</td>\n",
       "    </tr>\n",
       "    <tr>\n",
       "      <th>2019-02-19</th>\n",
       "      <td>7.552132</td>\n",
       "      <td>7.616467</td>\n",
       "    </tr>\n",
       "    <tr>\n",
       "      <th>2019-02-20</th>\n",
       "      <td>7.557342</td>\n",
       "      <td>7.549410</td>\n",
       "    </tr>\n",
       "    <tr>\n",
       "      <th>2019-02-21</th>\n",
       "      <td>7.557055</td>\n",
       "      <td>7.560903</td>\n",
       "    </tr>\n",
       "    <tr>\n",
       "      <th>2019-02-22</th>\n",
       "      <td>7.563019</td>\n",
       "      <td>7.557239</td>\n",
       "    </tr>\n",
       "    <tr>\n",
       "      <th>...</th>\n",
       "      <td>...</td>\n",
       "      <td>...</td>\n",
       "    </tr>\n",
       "    <tr>\n",
       "      <th>2019-04-07</th>\n",
       "      <td>7.624765</td>\n",
       "      <td>7.624388</td>\n",
       "    </tr>\n",
       "    <tr>\n",
       "      <th>2019-04-08</th>\n",
       "      <td>7.635666</td>\n",
       "      <td>7.624806</td>\n",
       "    </tr>\n",
       "    <tr>\n",
       "      <th>2019-04-09</th>\n",
       "      <td>7.645637</td>\n",
       "      <td>7.636364</td>\n",
       "    </tr>\n",
       "    <tr>\n",
       "      <th>2019-04-10</th>\n",
       "      <td>7.620828</td>\n",
       "      <td>7.645567</td>\n",
       "    </tr>\n",
       "    <tr>\n",
       "      <th>2019-04-11</th>\n",
       "      <td>7.610605</td>\n",
       "      <td>7.619901</td>\n",
       "    </tr>\n",
       "    <tr>\n",
       "      <th>2019-04-12</th>\n",
       "      <td>7.608126</td>\n",
       "      <td>7.613206</td>\n",
       "    </tr>\n",
       "    <tr>\n",
       "      <th>2019-04-13</th>\n",
       "      <td>7.608126</td>\n",
       "      <td>7.609793</td>\n",
       "    </tr>\n",
       "    <tr>\n",
       "      <th>2019-04-14</th>\n",
       "      <td>7.608126</td>\n",
       "      <td>7.608761</td>\n",
       "    </tr>\n",
       "    <tr>\n",
       "      <th>2019-04-15</th>\n",
       "      <td>7.656006</td>\n",
       "      <td>7.608788</td>\n",
       "    </tr>\n",
       "    <tr>\n",
       "      <th>2019-04-16</th>\n",
       "      <td>7.664722</td>\n",
       "      <td>7.658150</td>\n",
       "    </tr>\n",
       "    <tr>\n",
       "      <th>2019-04-17</th>\n",
       "      <td>7.664722</td>\n",
       "      <td>7.661305</td>\n",
       "    </tr>\n",
       "    <tr>\n",
       "      <th>2019-04-18</th>\n",
       "      <td>7.673246</td>\n",
       "      <td>7.663938</td>\n",
       "    </tr>\n",
       "    <tr>\n",
       "      <th>2019-04-19</th>\n",
       "      <td>7.673246</td>\n",
       "      <td>7.674033</td>\n",
       "    </tr>\n",
       "    <tr>\n",
       "      <th>2019-04-20</th>\n",
       "      <td>7.673246</td>\n",
       "      <td>7.671707</td>\n",
       "    </tr>\n",
       "    <tr>\n",
       "      <th>2019-04-21</th>\n",
       "      <td>7.673246</td>\n",
       "      <td>7.673665</td>\n",
       "    </tr>\n",
       "    <tr>\n",
       "      <th>2019-04-22</th>\n",
       "      <td>7.678535</td>\n",
       "      <td>7.673949</td>\n",
       "    </tr>\n",
       "    <tr>\n",
       "      <th>2019-04-23</th>\n",
       "      <td>7.675569</td>\n",
       "      <td>7.679189</td>\n",
       "    </tr>\n",
       "    <tr>\n",
       "      <th>2019-04-24</th>\n",
       "      <td>7.688661</td>\n",
       "      <td>7.675747</td>\n",
       "    </tr>\n",
       "    <tr>\n",
       "      <th>2019-04-25</th>\n",
       "      <td>7.693937</td>\n",
       "      <td>7.690041</td>\n",
       "    </tr>\n",
       "    <tr>\n",
       "      <th>2019-04-26</th>\n",
       "      <td>7.713584</td>\n",
       "      <td>7.693736</td>\n",
       "    </tr>\n",
       "    <tr>\n",
       "      <th>2019-04-27</th>\n",
       "      <td>7.713584</td>\n",
       "      <td>7.714337</td>\n",
       "    </tr>\n",
       "    <tr>\n",
       "      <th>2019-04-28</th>\n",
       "      <td>7.713584</td>\n",
       "      <td>7.712823</td>\n",
       "    </tr>\n",
       "    <tr>\n",
       "      <th>2019-04-29</th>\n",
       "      <td>7.713584</td>\n",
       "      <td>7.713854</td>\n",
       "    </tr>\n",
       "    <tr>\n",
       "      <th>2019-04-30</th>\n",
       "      <td>7.723275</td>\n",
       "      <td>7.714250</td>\n",
       "    </tr>\n",
       "    <tr>\n",
       "      <th>2019-05-01</th>\n",
       "      <td>7.723275</td>\n",
       "      <td>7.723846</td>\n",
       "    </tr>\n",
       "    <tr>\n",
       "      <th>2019-05-02</th>\n",
       "      <td>7.703188</td>\n",
       "      <td>7.723336</td>\n",
       "    </tr>\n",
       "    <tr>\n",
       "      <th>2019-05-03</th>\n",
       "      <td>7.664816</td>\n",
       "      <td>7.703284</td>\n",
       "    </tr>\n",
       "    <tr>\n",
       "      <th>2019-05-04</th>\n",
       "      <td>7.664816</td>\n",
       "      <td>7.665521</td>\n",
       "    </tr>\n",
       "    <tr>\n",
       "      <th>2019-05-05</th>\n",
       "      <td>7.664816</td>\n",
       "      <td>7.668753</td>\n",
       "    </tr>\n",
       "    <tr>\n",
       "      <th>2019-05-06</th>\n",
       "      <td>7.676868</td>\n",
       "      <td>7.665870</td>\n",
       "    </tr>\n",
       "  </tbody>\n",
       "</table>\n",
       "<p>103 rows × 2 columns</p>\n",
       "</div>"
      ],
      "text/plain": [
       "              actual  prediction\n",
       "Date                            \n",
       "2019-01-24  7.550425    7.536537\n",
       "2019-01-25  7.560497    7.552046\n",
       "2019-01-26  7.560497    7.560923\n",
       "2019-01-27  7.560497    7.560501\n",
       "2019-01-28  7.578145    7.560612\n",
       "2019-01-29  7.592240    7.578992\n",
       "2019-01-30  7.591559    7.592386\n",
       "2019-01-31  7.607928    7.591067\n",
       "2019-02-01  7.615766    7.609021\n",
       "2019-02-02  7.615766    7.615626\n",
       "2019-02-03  7.615766    7.615776\n",
       "2019-02-04  7.625717    7.616227\n",
       "2019-02-05  7.622933    7.626630\n",
       "2019-02-06  7.637620    7.622868\n",
       "2019-02-07  7.641516    7.639138\n",
       "2019-02-08  7.631141    7.641705\n",
       "2019-02-09  7.631141    7.631042\n",
       "2019-02-10  7.631141    7.632246\n",
       "2019-02-11  7.631141    7.631652\n",
       "2019-02-12  7.626375    7.631906\n",
       "2019-02-13  7.633079    7.626959\n",
       "2019-02-14  7.622957    7.634334\n",
       "2019-02-15  7.615643    7.622854\n",
       "2019-02-16  7.615643    7.616467\n",
       "2019-02-17  7.615643    7.616651\n",
       "2019-02-18  7.615643    7.616271\n",
       "2019-02-19  7.552132    7.616467\n",
       "2019-02-20  7.557342    7.549410\n",
       "2019-02-21  7.557055    7.560903\n",
       "2019-02-22  7.563019    7.557239\n",
       "...              ...         ...\n",
       "2019-04-07  7.624765    7.624388\n",
       "2019-04-08  7.635666    7.624806\n",
       "2019-04-09  7.645637    7.636364\n",
       "2019-04-10  7.620828    7.645567\n",
       "2019-04-11  7.610605    7.619901\n",
       "2019-04-12  7.608126    7.613206\n",
       "2019-04-13  7.608126    7.609793\n",
       "2019-04-14  7.608126    7.608761\n",
       "2019-04-15  7.656006    7.608788\n",
       "2019-04-16  7.664722    7.658150\n",
       "2019-04-17  7.664722    7.661305\n",
       "2019-04-18  7.673246    7.663938\n",
       "2019-04-19  7.673246    7.674033\n",
       "2019-04-20  7.673246    7.671707\n",
       "2019-04-21  7.673246    7.673665\n",
       "2019-04-22  7.678535    7.673949\n",
       "2019-04-23  7.675569    7.679189\n",
       "2019-04-24  7.688661    7.675747\n",
       "2019-04-25  7.693937    7.690041\n",
       "2019-04-26  7.713584    7.693736\n",
       "2019-04-27  7.713584    7.714337\n",
       "2019-04-28  7.713584    7.712823\n",
       "2019-04-29  7.713584    7.713854\n",
       "2019-04-30  7.723275    7.714250\n",
       "2019-05-01  7.723275    7.723846\n",
       "2019-05-02  7.703188    7.723336\n",
       "2019-05-03  7.664816    7.703284\n",
       "2019-05-04  7.664816    7.665521\n",
       "2019-05-05  7.664816    7.668753\n",
       "2019-05-06  7.676868    7.665870\n",
       "\n",
       "[103 rows x 2 columns]"
      ]
     },
     "execution_count": 31,
     "metadata": {},
     "output_type": "execute_result"
    }
   ],
   "source": [
    "result = pd.DataFrame(y)[train_size:]\n",
    "result.columns = [\"actual\"]\n",
    "result[\"prediction\"] = predictions\n",
    "result"
   ]
  },
  {
   "cell_type": "code",
   "execution_count": null,
   "metadata": {},
   "outputs": [],
   "source": []
  }
 ],
 "metadata": {
  "kernelspec": {
   "display_name": "Python 3",
   "language": "python",
   "name": "python3"
  },
  "language_info": {
   "codemirror_mode": {
    "name": "ipython",
    "version": 3
   },
   "file_extension": ".py",
   "mimetype": "text/x-python",
   "name": "python",
   "nbconvert_exporter": "python",
   "pygments_lexer": "ipython3",
   "version": "3.7.3"
  }
 },
 "nbformat": 4,
 "nbformat_minor": 2
}
