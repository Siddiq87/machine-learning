{
 "cells": [
  {
   "cell_type": "code",
   "execution_count": 1,
   "metadata": {},
   "outputs": [],
   "source": [
    "with open(r\"/data/stocks.small.csv\", mode=\"r\", encoding=\"utf-8\") as f:\n",
    "    content = f.read()\n",
    "    \n",
    "lines = content.split(\"\\n\") "
   ]
  },
  {
   "cell_type": "code",
   "execution_count": 2,
   "metadata": {},
   "outputs": [
    {
     "data": {
      "text/plain": [
       "1848"
      ]
     },
     "execution_count": 2,
     "metadata": {},
     "output_type": "execute_result"
    }
   ],
   "source": [
    "len(lines)"
   ]
  },
  {
   "cell_type": "code",
   "execution_count": 4,
   "metadata": {},
   "outputs": [
    {
     "data": {
      "text/plain": [
       "[1847]"
      ]
     },
     "execution_count": 4,
     "metadata": {},
     "output_type": "execute_result"
    }
   ],
   "source": [
    "[i for i, line in enumerate(lines) if len(line) == 0]"
   ]
  },
  {
   "cell_type": "code",
   "execution_count": 5,
   "metadata": {},
   "outputs": [
    {
     "data": {
      "text/plain": [
       "['date,open,high,low,close,volume,adjclose,symbol',\n",
       " '2000-07-18,144.8125,144.828125,141.4375,143.0,5.06836E7,50.155473,INTC',\n",
       " '2000-07-20,32.93751,34.25001,32.8125,33.75,3288300.0,8.789734,BEN',\n",
       " '2000-07-24,64.25,67.312477,64.187523,64.75,948800.0,7.689567,APH',\n",
       " '2000-07-26,21.875,22.125,20.9375,20.9375,1464300.0,15.61832,SHW']"
      ]
     },
     "execution_count": 5,
     "metadata": {},
     "output_type": "execute_result"
    }
   ],
   "source": [
    "lines[:5]"
   ]
  },
  {
   "cell_type": "code",
   "execution_count": 6,
   "metadata": {},
   "outputs": [],
   "source": [
    "data = [line for line in lines[1:] if len(line)>0]"
   ]
  },
  {
   "cell_type": "code",
   "execution_count": 7,
   "metadata": {},
   "outputs": [
    {
     "data": {
      "text/plain": [
       "1846"
      ]
     },
     "execution_count": 7,
     "metadata": {},
     "output_type": "execute_result"
    }
   ],
   "source": [
    "len(data)"
   ]
  },
  {
   "cell_type": "code",
   "execution_count": 8,
   "metadata": {},
   "outputs": [
    {
     "data": {
      "text/plain": [
       "['2000-07-18,144.8125,144.828125,141.4375,143.0,5.06836E7,50.155473,INTC',\n",
       " '2000-07-20,32.93751,34.25001,32.8125,33.75,3288300.0,8.789734,BEN',\n",
       " '2000-07-24,64.25,67.312477,64.187523,64.75,948800.0,7.689567,APH',\n",
       " '2000-07-26,21.875,22.125,20.9375,20.9375,1464300.0,15.61832,SHW',\n",
       " '2000-07-26,42.0,42.312481,41.625,41.875,1397600.0,9.402721,STJ']"
      ]
     },
     "execution_count": 8,
     "metadata": {},
     "output_type": "execute_result"
    }
   ],
   "source": [
    "data[:5]"
   ]
  },
  {
   "cell_type": "code",
   "execution_count": 10,
   "metadata": {},
   "outputs": [],
   "source": [
    "unique_symbols = set([line.split(\",\")[-1] for line in data])"
   ]
  },
  {
   "cell_type": "code",
   "execution_count": 12,
   "metadata": {},
   "outputs": [
    {
     "data": {
      "text/plain": [
       "471"
      ]
     },
     "execution_count": 12,
     "metadata": {},
     "output_type": "execute_result"
    }
   ],
   "source": [
    "len(unique_symbols)"
   ]
  },
  {
   "cell_type": "code",
   "execution_count": 13,
   "metadata": {},
   "outputs": [],
   "source": [
    "frequencies = {}\n",
    "for line in data:\n",
    "    splits = line.split(\",\")\n",
    "    symbol = splits[-1]\n",
    "    f = frequencies.get(symbol, 0)\n",
    "    frequencies[symbol] = f + 1"
   ]
  },
  {
   "cell_type": "code",
   "execution_count": 20,
   "metadata": {},
   "outputs": [
    {
     "data": {
      "text/plain": [
       "[('INTC', 4), ('BEN', 6), ('APH', 3)]"
      ]
     },
     "execution_count": 20,
     "metadata": {},
     "output_type": "execute_result"
    }
   ],
   "source": [
    "list(frequencies.items())[:3]"
   ]
  },
  {
   "cell_type": "code",
   "execution_count": 17,
   "metadata": {},
   "outputs": [
    {
     "data": {
      "text/plain": [
       "[('UPS', 11), ('ZBH', 11), ('K', 10), ('FLIR', 9), ('KR', 9)]"
      ]
     },
     "execution_count": 17,
     "metadata": {},
     "output_type": "execute_result"
    }
   ],
   "source": [
    "sorted(frequencies.items(), key = lambda p: p[1], reverse=True)[:5]"
   ]
  },
  {
   "cell_type": "code",
   "execution_count": 23,
   "metadata": {},
   "outputs": [],
   "source": [
    "volumes_by_symbol = {} # key: symbol: value: list of volumes\n",
    "for line in data:\n",
    "    splits = line.split(\",\")\n",
    "    symbol = splits[-1]\n",
    "    volume = float(splits[5])\n",
    "    vols = volumes_by_symbol.get(symbol, [])\n",
    "    vols.append(volume)\n",
    "    volumes_by_symbol[symbol] = vols"
   ]
  },
  {
   "cell_type": "code",
   "execution_count": 24,
   "metadata": {},
   "outputs": [],
   "source": [
    "avg_volume_by_symbol = {}\n",
    "for symbol in volumes_by_symbol:\n",
    "    vols = volumes_by_symbol[symbol]\n",
    "    avg = sum(vols)/len(vols)\n",
    "    avg_volume_by_symbol[symbol] = avg"
   ]
  },
  {
   "cell_type": "code",
   "execution_count": 27,
   "metadata": {},
   "outputs": [
    {
     "name": "stdout",
     "output_type": "stream",
     "text": [
      "{'INTC': 74368550.0, 'BEN': 3317050.0, 'APH': 1573366.6666666667, 'SHW': 1028760.0, 'STJ': 1341333.3333333333, 'GGP': 961020.0, 'SBUX': 21040233.333333332, 'EQT': 988628.5714285715, 'BCR': 1557300.0, 'NKE': 13730375.0, 'IPG': 3774960.0, 'EXC': 4272625.0, 'BXP': 561860.0, 'BIIB': 2678871.4285714286, 'DD': 6005600.0, 'NUE': 2655587.5, 'ALK': 2896700.0, 'COG': 4203033.333333333, 'ETN': 2120087.5, 'DO': 1929440.0, 'BSX': 4953450.0, 'UPS': 3431600.0, 'ENDP': 1364540.0, 'WBA': 4418425.0, 'PXD': 1205650.0, 'STI': 4397600.0, 'FDX': 2076366.6666666667, 'LLTC': 4596966.666666667, 'RHT': 2198866.6666666665, 'O': 923700.0, 'RAI': 9824660.0, 'BWA': 1606150.0, 'FLIR': 1176022.2222222222, 'MET': 5447520.0, 'XLNX': 6288650.0, 'FCX': 9204975.0, 'FOX': 2188475.0, 'EMC': 15612966.666666666, 'RHI': 1558700.0, 'FISV': 2424133.3333333335, 'CINF': 511871.4285714286, 'AGN': 1079380.0, 'IP': 3418514.285714286, 'KSS': 3495000.0, 'EBAY': 37022033.333333336, 'CMS': 1328642.857142857, 'TROW': 1943600.0, 'KR': 7185777.777777778, 'R': 577216.6666666666, 'PNC': 1240160.0, 'ED': 1465328.5714285714, 'KEY': 678700.0, 'USB': 20442200.0, 'MCO': 2209460.0, 'HES': 3321400.0, 'RCL': 288900.0, 'HON': 5339766.666666667, 'REGN': 443940.0, 'FLR': 1141266.6666666667, 'MSI': 2858900.0, 'ISRG': 313800.0, 'MYL': 3810540.0, 'LEG': 947050.0, 'MOS': 4765900.0, 'WMT': 12165262.5, 'HD': 5665166.666666667, 'COF': 2539388.888888889, 'MLM': 446933.3333333333, 'ADBE': 4725700.0, 'OKE': 721880.0, 'SRE': 977100.0, 'CTAS': 894150.0, 'MMC': 3433633.3333333335, 'FMC': 1508087.5, 'LLL': 969275.0, 'VMC': 305925.0, 'SLB': 8118533.333333333, 'LRCX': 1732480.0, 'SCG': 509640.0, 'SYK': 1123375.0, 'BLL': 1395600.0, 'CERN': 3339600.0, 'ECL': 727400.0, 'HST': 3896200.0, 'GILD': 17849725.0, 'XL': 706733.3333333334, 'CTXS': 3383825.0, 'AIV': 861200.0, 'GLW': 16825400.0, 'GE': 19689071.42857143, 'SJM': 241580.0, 'LLY': 7320228.571428572, 'DE': 2677016.6666666665, 'HUM': 1194328.5714285714, 'EMN': 1940450.0, 'F': 45860100.0, 'COH': 3772225.0, 'MRK': 12649328.57142857, 'PGR': 4806280.0, 'AMZN': 4936485.714285715, 'OXY': 2683850.0, 'DTE': 717400.0, 'ATVI': 13833733.333333334, 'YUM': 1796916.6666666667, 'YHOO': 23084140.0, 'NTRS': 957440.0, 'SLG': 568800.0, 'MTB': 558000.0, 'COL': 987500.0, 'GS': 3028100.0, 'CNP': 2052466.6666666667, 'IFF': 793962.5, 'ETFC': 3250800.0, 'MU': 15643985.714285715, 'MKC': 697616.6666666666, 'EA': 4029900.0, 'CCL': 4375633.333333333, 'LMT': 2461850.0, 'AIG': 3441720.0, 'SWK': 307360.0, 'HCP': 1020300.0, 'DGX': 2458240.0, 'M': 7819616.666666667, 'NEM': 5721928.571428572, 'HOLX': 1601900.0, 'LNC': 1297542.857142857, 'CA': 4638866.666666667, 'CCI': 2052700.0, 'NFX': 4696585.714285715, 'PHM': 6032566.666666667, 'BBBY': 3099514.285714286, 'EXPD': 1720783.3333333333, 'PEG': 2246566.6666666665, 'KMB': 2134387.5, 'CTSH': 4570400.0, 'CAT': 5437440.0, 'XRAY': 1117300.0, 'PBI': 1205125.0, 'BMY': 10851785.714285715, 'WAT': 1269814.2857142857, 'CNC': 686500.0, 'UNH': 5839525.0, 'SWN': 3471840.0, 'DVN': 2998025.0, 'VZ': 13361771.42857143, 'DOV': 1831675.0, 'SRCL': 2415200.0, 'HRS': 807550.0, 'EQR': 2271100.0, 'CELG': 6731666.666666667, 'STT': 2446100.0, 'JNJ': 7240887.5, 'AEE': 935075.0, 'D': 3944966.6666666665, 'HSIC': 423950.0, 'CL': 5279600.0, 'SCHW': 10880000.0, 'AZO': 1324266.6666666667, 'MDT': 8162916.666666667, 'ALB': 517520.0, 'PCAR': 4456366.666666667, 'ESS': 256350.0, 'PPL': 3513350.0, 'PPG': 1646537.5, 'RRC': 1164175.0, 'PDCO': 2020525.0, 'ROST': 11695200.0, 'LH': 6923700.0, 'PVH': 485500.0, 'PFG': 1820766.6666666667, 'HBAN': 3287250.0, 'AMGN': 8087750.0, 'APC': 5562571.428571428, 'TSN': 2545950.0, 'XRX': 3019200.0, 'TYC': 4874950.0, 'VRSN': 3255733.3333333335, 'HPQ': 36499666.666666664, 'ADM': 4904966.666666667, 'GPN': 1404440.0, 'K': 1819700.0, 'ADI': 2909116.6666666665, 'CHRW': 923433.3333333334, 'WHR': 993280.0, 'JPM': 28355466.666666668, 'TXT': 6431025.0, 'PNW': 776750.0, 'MAR': 2316200.0, 'SIG': 522512.5, 'AME': 1078566.6666666667, 'WY': 1098333.3333333333, 'HP': 1234400.0, 'WMB': 7113100.0, 'ABT': 13140216.666666666, 'AYI': 469540.0, 'AXP': 7597666.666666667, 'AON': 1938700.0, 'DOW': 7248850.0, 'ORCL': 33763500.0, 'CVX': 12557460.0, 'PRU': 2156300.0, 'WM': 2534883.3333333335, 'PCLN': 337700.0, 'HRB': 2871100.0, 'GRMN': 1430320.0, 'AES': 4188585.714285714, 'ACN': 3198850.0, 'MCD': 4023650.0, 'AEP': 1866266.6666666667, 'LNT': 777266.6666666666, 'CHK': 11088000.0, 'MHK': 488166.6666666667, 'STX': 10067050.0, 'CLX': 1308400.0, 'NBL': 2301400.0, 'ROP': 437740.0, 'KSU': 748280.0, 'DRI': 1837225.0, 'EOG': 5887300.0, 'CSX': 12397625.0, 'DHI': 5309640.0, 'CTL': 2446566.6666666665, 'RSG': 1852533.3333333333, 'EL': 1617300.0, 'URI': 242300.0, 'MNST': 1535725.0, 'MON': 4839450.0, 'TIF': 2388533.3333333335, 'BBY': 6257575.0, 'BK': 5108660.0, 'HAR': 384728.5714285714, 'VLO': 7212950.0, 'FTR': 1515016.6666666667, 'WDC': 3105371.4285714286, 'ROK': 965450.0, 'QCOM': 18619800.0, 'BAX': 4606925.0, 'MCK': 1622833.3333333333, 'FFIV': 3853475.0, 'EFX': 960666.6666666666, 'HIG': 1976600.0, 'AMAT': 24336933.333333332, 'MSFT': 41910000.0, 'AMT': 1705000.0, 'ILMN': 600180.0, 'BLK': 428300.0, 'AKAM': 3719875.0, 'TSO': 2181900.0, 'XOM': 27768266.666666668, 'EW': 1601100.0, 'MDLZ': 4347733.333333333, 'LUV': 5567400.0, 'IVZ': 1678425.0, 'GT': 5868025.0, 'LKQ': 1739425.0, 'SWKS': 3889460.0, 'FE': 1210600.0, 'UNP': 4734840.0, 'WEC': 650600.0, 'VTR': 1545000.0, 'MMM': 1826750.0, 'ES': 833175.0, 'CI': 2258075.0, 'JWN': 4782600.0, 'TSS': 820150.0, 'ESRX': 6818900.0, 'ZBH': 1616663.6363636365, 'MAS': 3825620.0, 'LUK': 850760.0, 'WYNN': 3704533.3333333335, 'AA': 21779920.0, 'SYY': 2600685.714285714, 'JBHT': 1140533.3333333333, 'BBT': 3995333.3333333335, 'AET': 5830220.0, 'MO': 12236150.0, 'PLD': 865625.0, 'EMR': 2216700.0, 'CHD': 1024566.6666666666, 'AIZ': 1017925.0, 'ALL': 2904833.3333333335, 'C': 30418400.0, 'TRV': 1547433.3333333333, 'DLTR': 3600733.3333333335, 'GWW': 617975.0, 'APA': 3231675.0, 'DLR': 970933.3333333334, 'TAP': 1464633.3333333333, 'PG': 7123520.0, 'EQIX': 657000.0, 'IR': 2430333.3333333335, 'PCG': 2195725.0, 'PSA': 1536233.3333333333, 'SYMC': 12164733.333333334, 'NTAP': 5664400.0, 'WFM': 4218266.666666667, 'ADSK': 3393800.0, 'MRO': 7989433.333333333, 'CRM': 3919400.0, 'RL': 965371.4285714285, 'DVA': 1617957.142857143, 'KLAC': 6398500.0, 'NRG': 1849950.0, 'ETR': 1577280.0, 'LOW': 12245260.0, 'URBN': 2584266.6666666665, 'SO': 4457060.0, 'CB': 1464700.0, 'DUK': 1975900.0, 'EXR': 766675.0, 'TMO': 1875040.0, 'DNB': 336266.6666666667, 'VRTX': 1641950.0, 'NFLX': 11445350.0, 'AVB': 950200.0, 'AFL': 1896633.3333333333, 'OI': 3161100.0, 'CMCSA': 14453500.0, 'CAH': 1818380.0, 'UHS': 1216600.0, 'GOOGL': 30898200.0, 'VIAB': 5036050.0, 'APD': 1177850.0, 'HOT': 2395933.3333333335, 'HOG': 3821700.0, 'CMI': 3091300.0, 'HAL': 13008866.666666666, 'BA': 4745475.0, 'GD': 1153600.0, 'PX': 1509771.4285714286, 'CBS': 5528166.666666667, 'FLS': 3702975.0, 'ANTM': 3568150.0, 'GPS': 6559233.333333333, 'UTX': 3248425.0, 'PFE': 25643266.666666668, 'FOXA': 9871314.285714285, 'NSC': 2028425.0, 'KMX': 1134533.3333333333, 'XEL': 1071800.0, 'ITW': 2187175.0, 'AAP': 1274240.0, 'EIX': 2322216.6666666665, 'AAL': 2598900.0, 'TXN': 19349200.0, 'INTU': 1918800.0, 'MS': 15517940.0, 'JNPR': 8632750.0, 'AAPL': 166366233.33333334, 'VFC': 2186600.0, 'HBI': 889200.0, 'WYN': 1353540.0, 'MAT': 4054450.0, 'A': 4817800.0, 'DHR': 7628600.0, 'RF': 10235750.0, 'TGNA': 5026883.333333333, 'IBM': 6646900.0, 'WFC': 21810371.42857143, 'JCI': 4317550.0, 'STZ': 2411750.0, 'SPLS': 9147125.0, 'MAC': 1391550.0, 'TDG': 278066.6666666667, 'UDR': 1451866.6666666667, 'WU': 4839500.0, 'NI': 3975425.0, 'COP': 9714225.0, 'SNA': 309300.0, 'TGT': 8144020.0, 'XEC': 1375533.3333333333, 'GPC': 1335533.3333333333, 'DIS': 11843800.0, 'HRL': 1676933.3333333333, 'VNO': 1131200.0, 'IRM': 1202800.0, 'PBCT': 3017960.0, 'PRGO': 1555160.0, 'NOV': 7148625.0, 'FAST': 2375800.0, 'FL': 1979875.0, 'FTI': 4667600.0, 'VAR': 1460900.0, 'NVDA': 20536700.0, 'PEP': 16809966.666666668, 'NWL': 2480075.0, 'OMC': 3241900.0, 'FRT': 1055850.0, 'SE': 3644400.0, 'FSLR': 3052760.0, 'DFS': 7089633.333333333, 'LM': 2529400.0, 'BDX': 1230550.0, 'CVS': 8769950.0, 'COST': 3293000.0, 'HCN': 1490500.0, 'AWK': 1057775.0, 'GOOG': 3965933.3333333335, 'HAS': 1097366.6666666667, 'NOC': 1001200.0, 'CF': 6879500.0, 'TDC': 1737600.0, 'MJN': 1530000.0, 'AVGO': 1899500.0, 'ICE': 757400.0, 'LB': 3098360.0, 'FIS': 2564700.0, 'TJX': 6441666.666666667, 'RTN': 2358850.0, 'CAG': 3291700.0, 'ULTA': 299400.0, 'DAL': 23105000.0, 'ALXN': 1463200.0, 'LYB': 5160866.666666667, 'ABC': 1828200.0, 'BAC': 185000000.0, 'TEL': 4100100.0, 'EXPE': 3929400.0, 'ZION': 3220250.0, 'UNM': 1367550.0, 'ORLY': 1272700.0, 'DG': 1723900.0, 'CMG': 880100.0, 'MA': 7753150.0, 'UAL': 5146450.0, 'GIS': 5997066.666666667, 'DISCK': 1641800.0, 'CPB': 2938166.6666666665, 'L': 1721900.0, 'V': 12193200.0, 'HSY': 1194800.0, 'CXO': 1011933.3333333334, 'XYL': 720950.0, 'CSCO': 34010800.0, 'AMP': 1965750.0, 'UA': 9841600.0, 'PNR': 1110100.0, 'TWX': 7694600.0, 'ADS': 764200.0, 'MUR': 1420900.0, 'T': 38323500.0, 'PSX': 3495000.0, 'KORS': 7858600.0, 'SNI': 569900.0, 'GM': 13861050.0, 'FBHS': 870366.6666666666, 'KIM': 3991400.0, 'PM': 3035900.0, 'PKI': 1071766.6666666667, 'HCA': 3425900.0, 'TSCO': 640400.0, 'SEE': 1540100.0, 'FB': 59999900.0, 'CME': 1689600.0, 'ADP': 1074600.0, 'LEN': 4413150.0, 'TRIP': 4832300.0, 'MPC': 7134400.0, 'VRSK': 656400.0, 'LVLT': 1506300.0, 'NWS': 799700.0, 'JEC': 867166.6666666666, 'CBG': 1904500.0, 'RIG': 4777400.0, 'SPGI': 1899100.0, 'CMA': 2502700.0, 'AMG': 500500.0, 'PWR': 5706700.0, 'WRK': 2397300.0, 'ALLE': 471100.0, 'MNK': 1596400.0}\n"
     ]
    }
   ],
   "source": [
    "print(avg_volume_by_symbol)"
   ]
  },
  {
   "cell_type": "code",
   "execution_count": 26,
   "metadata": {
    "scrolled": false
   },
   "outputs": [
    {
     "data": {
      "text/plain": [
       "74368550.0"
      ]
     },
     "execution_count": 26,
     "metadata": {},
     "output_type": "execute_result"
    }
   ],
   "source": [
    "avg_volume_by_symbol[\"INTC\"]"
   ]
  },
  {
   "cell_type": "code",
   "execution_count": 31,
   "metadata": {
    "scrolled": false
   },
   "outputs": [
    {
     "data": {
      "text/plain": [
       "['2000-07-18', '2000-07-20', '2000-07-24', '2000-07-26', '2000-07-26']"
      ]
     },
     "execution_count": 31,
     "metadata": {},
     "output_type": "execute_result"
    }
   ],
   "source": [
    "dates = [line.split(\",\")[0] for line in data]\n",
    "dates[:5]"
   ]
  },
  {
   "cell_type": "code",
   "execution_count": 32,
   "metadata": {},
   "outputs": [],
   "source": [
    "from datetime import datetime"
   ]
  },
  {
   "cell_type": "code",
   "execution_count": 34,
   "metadata": {},
   "outputs": [],
   "source": [
    "d = datetime.strptime(\"2019-09-23\", \"%Y-%m-%d\")"
   ]
  },
  {
   "cell_type": "code",
   "execution_count": 35,
   "metadata": {},
   "outputs": [
    {
     "data": {
      "text/plain": [
       "datetime.datetime"
      ]
     },
     "execution_count": 35,
     "metadata": {},
     "output_type": "execute_result"
    }
   ],
   "source": [
    "type(d)"
   ]
  },
  {
   "cell_type": "code",
   "execution_count": 36,
   "metadata": {},
   "outputs": [
    {
     "data": {
      "text/plain": [
       "0"
      ]
     },
     "execution_count": 36,
     "metadata": {},
     "output_type": "execute_result"
    }
   ],
   "source": [
    "d.weekday()"
   ]
  },
  {
   "cell_type": "code",
   "execution_count": 37,
   "metadata": {},
   "outputs": [
    {
     "data": {
      "text/plain": [
       "[1, 3, 0, 2, 2]"
      ]
     },
     "execution_count": 37,
     "metadata": {},
     "output_type": "execute_result"
    }
   ],
   "source": [
    "dates = [line.split(\",\")[0] for line in data]\n",
    "dates = [datetime.strptime(date, \"%Y-%m-%d\").weekday() for date in dates]\n",
    "dates[:5]"
   ]
  },
  {
   "cell_type": "code",
   "execution_count": 38,
   "metadata": {},
   "outputs": [],
   "source": [
    "from collections import Counter"
   ]
  },
  {
   "cell_type": "code",
   "execution_count": 39,
   "metadata": {},
   "outputs": [
    {
     "data": {
      "text/plain": [
       "Counter({1: 348, 3: 374, 0: 361, 2: 393, 4: 370})"
      ]
     },
     "execution_count": 39,
     "metadata": {},
     "output_type": "execute_result"
    }
   ],
   "source": [
    "Counter(dates)"
   ]
  },
  {
   "cell_type": "code",
   "execution_count": 42,
   "metadata": {},
   "outputs": [
    {
     "data": {
      "text/plain": [
       "'date,open,high,low,close,volume,adjclose,symbol'"
      ]
     },
     "execution_count": 42,
     "metadata": {},
     "output_type": "execute_result"
    }
   ],
   "source": [
    "lines[0]"
   ]
  },
  {
   "cell_type": "code",
   "execution_count": 43,
   "metadata": {},
   "outputs": [],
   "source": [
    "pct_changes = []\n",
    "for line in data:\n",
    "    if line.startswith(\"2016\"):\n",
    "        parts = line.split(\",\")\n",
    "        symbol = parts[-1]\n",
    "        open_price = float(parts[1])\n",
    "        close_price = float(parts[4])\n",
    "        pct = (close_price-open_price)/open_price\n",
    "        pct_changes.append((symbol, pct))\n",
    "    "
   ]
  },
  {
   "cell_type": "code",
   "execution_count": 46,
   "metadata": {},
   "outputs": [
    {
     "data": {
      "text/plain": [
       "[('WYNN', 0.05208330121966219),\n",
       " ('ALK', 0.03867928727813826),\n",
       " ('CAT', 0.03235981077745779),\n",
       " ('COP', 0.031759743852349545),\n",
       " ('LYB', 0.029605263157894735)]"
      ]
     },
     "execution_count": 46,
     "metadata": {},
     "output_type": "execute_result"
    }
   ],
   "source": [
    "sorted(pct_changes, key = lambda p: -p[1])[:5]"
   ]
  },
  {
   "cell_type": "code",
   "execution_count": null,
   "metadata": {},
   "outputs": [],
   "source": [
    "\n",
    "\n",
    "\n"
   ]
  },
  {
   "cell_type": "code",
   "execution_count": null,
   "metadata": {},
   "outputs": [],
   "source": []
  },
  {
   "cell_type": "code",
   "execution_count": null,
   "metadata": {},
   "outputs": [],
   "source": []
  },
  {
   "cell_type": "code",
   "execution_count": null,
   "metadata": {},
   "outputs": [],
   "source": []
  },
  {
   "cell_type": "code",
   "execution_count": null,
   "metadata": {},
   "outputs": [],
   "source": []
  },
  {
   "cell_type": "code",
   "execution_count": null,
   "metadata": {},
   "outputs": [],
   "source": []
  },
  {
   "cell_type": "code",
   "execution_count": null,
   "metadata": {},
   "outputs": [],
   "source": []
  },
  {
   "cell_type": "code",
   "execution_count": null,
   "metadata": {},
   "outputs": [],
   "source": []
  },
  {
   "cell_type": "code",
   "execution_count": null,
   "metadata": {},
   "outputs": [],
   "source": []
  },
  {
   "cell_type": "code",
   "execution_count": null,
   "metadata": {},
   "outputs": [],
   "source": []
  },
  {
   "cell_type": "code",
   "execution_count": null,
   "metadata": {},
   "outputs": [],
   "source": []
  },
  {
   "cell_type": "code",
   "execution_count": null,
   "metadata": {},
   "outputs": [],
   "source": []
  },
  {
   "cell_type": "code",
   "execution_count": null,
   "metadata": {},
   "outputs": [],
   "source": []
  },
  {
   "cell_type": "code",
   "execution_count": null,
   "metadata": {},
   "outputs": [],
   "source": []
  },
  {
   "cell_type": "code",
   "execution_count": null,
   "metadata": {},
   "outputs": [],
   "source": []
  },
  {
   "cell_type": "code",
   "execution_count": null,
   "metadata": {},
   "outputs": [],
   "source": []
  },
  {
   "cell_type": "code",
   "execution_count": null,
   "metadata": {},
   "outputs": [],
   "source": []
  },
  {
   "cell_type": "code",
   "execution_count": null,
   "metadata": {},
   "outputs": [],
   "source": []
  },
  {
   "cell_type": "code",
   "execution_count": null,
   "metadata": {},
   "outputs": [],
   "source": []
  },
  {
   "cell_type": "code",
   "execution_count": null,
   "metadata": {},
   "outputs": [],
   "source": []
  }
 ],
 "metadata": {
  "kernelspec": {
   "display_name": "Python 3",
   "language": "python",
   "name": "python3"
  },
  "language_info": {
   "codemirror_mode": {
    "name": "ipython",
    "version": 3
   },
   "file_extension": ".py",
   "mimetype": "text/x-python",
   "name": "python",
   "nbconvert_exporter": "python",
   "pygments_lexer": "ipython3",
   "version": "3.7.4"
  }
 },
 "nbformat": 4,
 "nbformat_minor": 2
}
