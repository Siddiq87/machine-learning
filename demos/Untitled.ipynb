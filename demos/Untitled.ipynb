{
 "cells": [
  {
   "cell_type": "code",
   "execution_count": 1,
   "metadata": {},
   "outputs": [],
   "source": [
    "import pandas as pd\n",
    "import matplotlib.pyplot as plt\n",
    "\n",
    "%matplotlib inline"
   ]
  },
  {
   "cell_type": "code",
   "execution_count": null,
   "metadata": {},
   "outputs": [],
   "source": []
  },
  {
   "cell_type": "code",
   "execution_count": 2,
   "metadata": {},
   "outputs": [
    {
     "data": {
      "text/html": [
       "<div>\n",
       "<style scoped>\n",
       "    .dataframe tbody tr th:only-of-type {\n",
       "        vertical-align: middle;\n",
       "    }\n",
       "\n",
       "    .dataframe tbody tr th {\n",
       "        vertical-align: top;\n",
       "    }\n",
       "\n",
       "    .dataframe thead th {\n",
       "        text-align: right;\n",
       "    }\n",
       "</style>\n",
       "<table border=\"1\" class=\"dataframe\">\n",
       "  <thead>\n",
       "    <tr style=\"text-align: right;\">\n",
       "      <th></th>\n",
       "      <th>Symbol</th>\n",
       "      <th>Series</th>\n",
       "      <th>Date</th>\n",
       "      <th>Prev Close</th>\n",
       "      <th>Open Price</th>\n",
       "      <th>High Price</th>\n",
       "      <th>Low Price</th>\n",
       "      <th>Last Price</th>\n",
       "      <th>Close Price</th>\n",
       "      <th>Average Price</th>\n",
       "      <th>Total Traded Quantity</th>\n",
       "      <th>Turnover</th>\n",
       "      <th>No. of Trades</th>\n",
       "      <th>Deliverable Qty</th>\n",
       "      <th>% Dly Qt to Traded Qty</th>\n",
       "    </tr>\n",
       "  </thead>\n",
       "  <tbody>\n",
       "    <tr>\n",
       "      <td>0</td>\n",
       "      <td>INFY</td>\n",
       "      <td>EQ</td>\n",
       "      <td>24-Oct-2017</td>\n",
       "      <td>939.50</td>\n",
       "      <td>946.00</td>\n",
       "      <td>946.65</td>\n",
       "      <td>921.60</td>\n",
       "      <td>924.35</td>\n",
       "      <td>926.50</td>\n",
       "      <td>933.61</td>\n",
       "      <td>7264664</td>\n",
       "      <td>6.782341e+09</td>\n",
       "      <td>117978</td>\n",
       "      <td>5282209</td>\n",
       "      <td>72.71</td>\n",
       "    </tr>\n",
       "    <tr>\n",
       "      <td>1</td>\n",
       "      <td>INFY</td>\n",
       "      <td>EQ</td>\n",
       "      <td>25-Oct-2017</td>\n",
       "      <td>926.50</td>\n",
       "      <td>919.00</td>\n",
       "      <td>944.70</td>\n",
       "      <td>915.25</td>\n",
       "      <td>934.25</td>\n",
       "      <td>935.30</td>\n",
       "      <td>934.05</td>\n",
       "      <td>6992067</td>\n",
       "      <td>6.530973e+09</td>\n",
       "      <td>176833</td>\n",
       "      <td>4211146</td>\n",
       "      <td>60.23</td>\n",
       "    </tr>\n",
       "    <tr>\n",
       "      <td>2</td>\n",
       "      <td>INFY</td>\n",
       "      <td>EQ</td>\n",
       "      <td>26-Oct-2017</td>\n",
       "      <td>935.30</td>\n",
       "      <td>942.00</td>\n",
       "      <td>951.80</td>\n",
       "      <td>940.10</td>\n",
       "      <td>948.55</td>\n",
       "      <td>947.35</td>\n",
       "      <td>946.46</td>\n",
       "      <td>16829629</td>\n",
       "      <td>1.592860e+10</td>\n",
       "      <td>144857</td>\n",
       "      <td>13667670</td>\n",
       "      <td>81.21</td>\n",
       "    </tr>\n",
       "    <tr>\n",
       "      <td>3</td>\n",
       "      <td>INFY</td>\n",
       "      <td>EQ</td>\n",
       "      <td>27-Oct-2017</td>\n",
       "      <td>947.35</td>\n",
       "      <td>955.00</td>\n",
       "      <td>957.70</td>\n",
       "      <td>944.00</td>\n",
       "      <td>947.00</td>\n",
       "      <td>946.35</td>\n",
       "      <td>948.86</td>\n",
       "      <td>4262478</td>\n",
       "      <td>4.044495e+09</td>\n",
       "      <td>108092</td>\n",
       "      <td>3305472</td>\n",
       "      <td>77.55</td>\n",
       "    </tr>\n",
       "    <tr>\n",
       "      <td>4</td>\n",
       "      <td>INFY</td>\n",
       "      <td>EQ</td>\n",
       "      <td>30-Oct-2017</td>\n",
       "      <td>946.35</td>\n",
       "      <td>954.65</td>\n",
       "      <td>954.65</td>\n",
       "      <td>941.05</td>\n",
       "      <td>943.90</td>\n",
       "      <td>944.10</td>\n",
       "      <td>946.96</td>\n",
       "      <td>6484163</td>\n",
       "      <td>6.140239e+09</td>\n",
       "      <td>120848</td>\n",
       "      <td>5395557</td>\n",
       "      <td>83.21</td>\n",
       "    </tr>\n",
       "  </tbody>\n",
       "</table>\n",
       "</div>"
      ],
      "text/plain": [
       "  Symbol Series         Date  Prev Close  Open Price  High Price  Low Price  \\\n",
       "0   INFY     EQ  24-Oct-2017      939.50      946.00      946.65     921.60   \n",
       "1   INFY     EQ  25-Oct-2017      926.50      919.00      944.70     915.25   \n",
       "2   INFY     EQ  26-Oct-2017      935.30      942.00      951.80     940.10   \n",
       "3   INFY     EQ  27-Oct-2017      947.35      955.00      957.70     944.00   \n",
       "4   INFY     EQ  30-Oct-2017      946.35      954.65      954.65     941.05   \n",
       "\n",
       "   Last Price  Close Price  Average Price  Total Traded Quantity  \\\n",
       "0      924.35       926.50         933.61                7264664   \n",
       "1      934.25       935.30         934.05                6992067   \n",
       "2      948.55       947.35         946.46               16829629   \n",
       "3      947.00       946.35         948.86                4262478   \n",
       "4      943.90       944.10         946.96                6484163   \n",
       "\n",
       "       Turnover  No. of Trades  Deliverable Qty  % Dly Qt to Traded Qty  \n",
       "0  6.782341e+09         117978          5282209                   72.71  \n",
       "1  6.530973e+09         176833          4211146                   60.23  \n",
       "2  1.592860e+10         144857         13667670                   81.21  \n",
       "3  4.044495e+09         108092          3305472                   77.55  \n",
       "4  6.140239e+09         120848          5395557                   83.21  "
      ]
     },
     "execution_count": 2,
     "metadata": {},
     "output_type": "execute_result"
    }
   ],
   "source": [
    "df = pd.read_csv(\"/Users/abasar/Downloads/infy.csv\")\n",
    "df = df.query(\"Series == 'EQ'\")\n",
    "df.head()"
   ]
  },
  {
   "cell_type": "code",
   "execution_count": 3,
   "metadata": {},
   "outputs": [
    {
     "data": {
      "text/plain": [
       "dtype('O')"
      ]
     },
     "execution_count": 3,
     "metadata": {},
     "output_type": "execute_result"
    }
   ],
   "source": [
    "df.Date.dtype"
   ]
  },
  {
   "cell_type": "code",
   "execution_count": 4,
   "metadata": {},
   "outputs": [
    {
     "name": "stdout",
     "output_type": "stream",
     "text": [
      "<class 'pandas.core.frame.DataFrame'>\n",
      "Int64Index: 492 entries, 0 to 493\n",
      "Data columns (total 15 columns):\n",
      "Symbol                    492 non-null object\n",
      "Series                    492 non-null object\n",
      "Date                      492 non-null object\n",
      "Prev Close                492 non-null float64\n",
      "Open Price                492 non-null float64\n",
      "High Price                492 non-null float64\n",
      "Low Price                 492 non-null float64\n",
      "Last Price                492 non-null float64\n",
      "Close Price               492 non-null float64\n",
      "Average Price             492 non-null float64\n",
      "Total Traded Quantity     492 non-null int64\n",
      "Turnover                  492 non-null float64\n",
      "No. of Trades             492 non-null int64\n",
      "Deliverable Qty           492 non-null int64\n",
      "% Dly Qt to Traded Qty    492 non-null float64\n",
      "dtypes: float64(9), int64(3), object(3)\n",
      "memory usage: 61.5+ KB\n"
     ]
    }
   ],
   "source": [
    "df.info()"
   ]
  },
  {
   "cell_type": "code",
   "execution_count": 5,
   "metadata": {},
   "outputs": [
    {
     "data": {
      "text/plain": [
       "dtype('<M8[ns]')"
      ]
     },
     "execution_count": 5,
     "metadata": {},
     "output_type": "execute_result"
    }
   ],
   "source": [
    "pd.to_datetime(df.Date).dtype"
   ]
  },
  {
   "cell_type": "code",
   "execution_count": 6,
   "metadata": {},
   "outputs": [],
   "source": [
    "df.index = pd.to_datetime(df.Date)"
   ]
  },
  {
   "cell_type": "code",
   "execution_count": 7,
   "metadata": {},
   "outputs": [
    {
     "data": {
      "text/plain": [
       "Date\n",
       "2017-10-24    926.50\n",
       "2017-10-25    935.30\n",
       "2017-10-26    947.35\n",
       "2017-10-27    946.35\n",
       "2017-10-30    944.10\n",
       "               ...  \n",
       "2019-10-16    771.45\n",
       "2019-10-17    769.50\n",
       "2019-10-18    767.85\n",
       "2019-10-22    643.55\n",
       "2019-10-23    650.60\n",
       "Name: Close Price, Length: 492, dtype: float64"
      ]
     },
     "execution_count": 7,
     "metadata": {},
     "output_type": "execute_result"
    }
   ],
   "source": [
    "y = df[\"Close Price\"]\n",
    "y"
   ]
  },
  {
   "cell_type": "code",
   "execution_count": 8,
   "metadata": {},
   "outputs": [
    {
     "data": {
      "text/plain": [
       "Date\n",
       "2017-10-24    926.50\n",
       "2017-10-25    935.30\n",
       "2017-10-26    947.35\n",
       "2017-10-27    946.35\n",
       "2017-10-30    944.10\n",
       "2017-10-31    921.85\n",
       "2017-11-01    927.05\n",
       "2017-11-02    922.90\n",
       "2017-11-03    926.65\n",
       "2017-11-06    928.70\n",
       "2017-11-07    955.50\n",
       "2017-11-08    952.30\n",
       "2017-11-09    954.50\n",
       "2017-11-10    962.05\n",
       "2017-11-13    951.95\n",
       "2017-11-14    949.10\n",
       "2017-11-15    951.80\n",
       "2017-11-16    988.40\n",
       "2017-11-17    970.95\n",
       "2017-11-20    960.55\n",
       "Name: Close Price, dtype: float64"
      ]
     },
     "execution_count": 8,
     "metadata": {},
     "output_type": "execute_result"
    }
   ],
   "source": [
    "y.head(20)"
   ]
  },
  {
   "cell_type": "code",
   "execution_count": 9,
   "metadata": {},
   "outputs": [
    {
     "data": {
      "text/plain": [
       "DatetimeIndex(['2017-10-24', '2017-10-25', '2017-10-26', '2017-10-27',\n",
       "               '2017-10-30', '2017-10-31', '2017-11-01', '2017-11-02',\n",
       "               '2017-11-03', '2017-11-06',\n",
       "               ...\n",
       "               '2019-10-09', '2019-10-10', '2019-10-11', '2019-10-14',\n",
       "               '2019-10-15', '2019-10-16', '2019-10-17', '2019-10-18',\n",
       "               '2019-10-22', '2019-10-23'],\n",
       "              dtype='datetime64[ns]', name='Date', length=492, freq=None)"
      ]
     },
     "execution_count": 9,
     "metadata": {},
     "output_type": "execute_result"
    }
   ],
   "source": [
    "y.index"
   ]
  },
  {
   "cell_type": "code",
   "execution_count": 10,
   "metadata": {},
   "outputs": [],
   "source": [
    "y = y.asfreq(\"B\")"
   ]
  },
  {
   "cell_type": "code",
   "execution_count": 11,
   "metadata": {},
   "outputs": [
    {
     "data": {
      "text/plain": [
       "Series([], Freq: B, Name: Close Price, dtype: float64)"
      ]
     },
     "execution_count": 11,
     "metadata": {},
     "output_type": "execute_result"
    }
   ],
   "source": [
    "y[y.index.duplicated()]"
   ]
  },
  {
   "cell_type": "code",
   "execution_count": 12,
   "metadata": {},
   "outputs": [
    {
     "data": {
      "text/plain": [
       "<matplotlib.axes._subplots.AxesSubplot at 0x11cdb9650>"
      ]
     },
     "execution_count": 12,
     "metadata": {},
     "output_type": "execute_result"
    },
    {
     "data": {
      "image/png": "[encoded data removed]",
      "text/plain": [
       "<Figure size 720x360 with 1 Axes>"
      ]
     },
     "metadata": {
      "needs_background": "light"
     },
     "output_type": "display_data"
    }
   ],
   "source": [
    "plt.figure(figsize = (10, 5))\n",
    "y.plot()"
   ]
  },
  {
   "cell_type": "code",
   "execution_count": 13,
   "metadata": {},
   "outputs": [
    {
     "data": {
      "text/plain": [
       "Date\n",
       "2018-09-03    1434.25\n",
       "2018-09-04     737.15\n",
       "2018-09-05     729.90\n",
       "2018-09-06     727.15\n",
       "2018-09-07     732.80\n",
       "2018-09-10     730.85\n",
       "2018-09-11     734.30\n",
       "2018-09-12     742.90\n",
       "2018-09-13        NaN\n",
       "2018-09-14     733.70\n",
       "2018-09-17     725.95\n",
       "2018-09-18     719.10\n",
       "2018-09-19     719.75\n",
       "2018-09-20        NaN\n",
       "2018-09-21     705.30\n",
       "2018-09-24     718.25\n",
       "2018-09-25     726.20\n",
       "2018-09-26     717.85\n",
       "2018-09-27     724.80\n",
       "2018-09-28     730.05\n",
       "Freq: B, Name: Close Price, dtype: float64"
      ]
     },
     "execution_count": 13,
     "metadata": {},
     "output_type": "execute_result"
    }
   ],
   "source": [
    "y[y.index > \"2018-09\"].head(20)"
   ]
  },
  {
   "cell_type": "code",
   "execution_count": 14,
   "metadata": {},
   "outputs": [],
   "source": [
    "y[y.index <\"2018-09-04\"] = y[y.index <\"2018-09-04\"]/2"
   ]
  },
  {
   "cell_type": "code",
   "execution_count": 15,
   "metadata": {},
   "outputs": [
    {
     "data": {
      "text/plain": [
       "<matplotlib.axes._subplots.AxesSubplot at 0x11d476d90>"
      ]
     },
     "execution_count": 15,
     "metadata": {},
     "output_type": "execute_result"
    },
    {
     "data": {
      "image/png": "[encoded data removed]",
      "text/plain": [
       "<Figure size 432x288 with 1 Axes>"
      ]
     },
     "metadata": {
      "needs_background": "light"
     },
     "output_type": "display_data"
    }
   ],
   "source": [
    "y.plot()"
   ]
  },
  {
   "cell_type": "code",
   "execution_count": 16,
   "metadata": {},
   "outputs": [
    {
     "data": {
      "text/plain": [
       "<matplotlib.axes._subplots.AxesSubplot at 0x11d96d850>"
      ]
     },
     "execution_count": 16,
     "metadata": {},
     "output_type": "execute_result"
    },
    {
     "data": {
      "image/png": "[encoded data removed]",
      "text/plain": [
       "<Figure size 432x288 with 1 Axes>"
      ]
     },
     "metadata": {
      "needs_background": "light"
     },
     "output_type": "display_data"
    }
   ],
   "source": [
    "y.diff(1).plot()"
   ]
  },
  {
   "cell_type": "code",
   "execution_count": 17,
   "metadata": {},
   "outputs": [
    {
     "data": {
      "text/plain": [
       "Date\n",
       "2017-10-24      NaN\n",
       "2017-10-25    4.400\n",
       "2017-10-26    6.025\n",
       "2017-10-27   -0.500\n",
       "2017-10-30   -1.125\n",
       "              ...  \n",
       "2019-10-17   -1.950\n",
       "2019-10-18   -1.650\n",
       "2019-10-21      NaN\n",
       "2019-10-22      NaN\n",
       "2019-10-23    7.050\n",
       "Freq: B, Name: Close Price, Length: 522, dtype: float64"
      ]
     },
     "execution_count": 17,
     "metadata": {},
     "output_type": "execute_result"
    }
   ],
   "source": [
    "y.diff()"
   ]
  },
  {
   "cell_type": "code",
   "execution_count": 20,
   "metadata": {},
   "outputs": [],
   "source": [
    "df1 = pd.DataFrame(y)"
   ]
  },
  {
   "cell_type": "code",
   "execution_count": 22,
   "metadata": {},
   "outputs": [],
   "source": [
    "df1[\"d1\"] = y.diff(1)"
   ]
  },
  {
   "cell_type": "code",
   "execution_count": 25,
   "metadata": {},
   "outputs": [
    {
     "data": {
      "text/html": [
       "<div>\n",
       "<style scoped>\n",
       "    .dataframe tbody tr th:only-of-type {\n",
       "        vertical-align: middle;\n",
       "    }\n",
       "\n",
       "    .dataframe tbody tr th {\n",
       "        vertical-align: top;\n",
       "    }\n",
       "\n",
       "    .dataframe thead th {\n",
       "        text-align: right;\n",
       "    }\n",
       "</style>\n",
       "<table border=\"1\" class=\"dataframe\">\n",
       "  <thead>\n",
       "    <tr style=\"text-align: right;\">\n",
       "      <th></th>\n",
       "      <th>Close Price</th>\n",
       "      <th>d1</th>\n",
       "    </tr>\n",
       "    <tr>\n",
       "      <th>Date</th>\n",
       "      <th></th>\n",
       "      <th></th>\n",
       "    </tr>\n",
       "  </thead>\n",
       "  <tbody>\n",
       "    <tr>\n",
       "      <td>2017-10-24</td>\n",
       "      <td>463.250</td>\n",
       "      <td>NaN</td>\n",
       "    </tr>\n",
       "    <tr>\n",
       "      <td>2017-10-25</td>\n",
       "      <td>467.650</td>\n",
       "      <td>4.400</td>\n",
       "    </tr>\n",
       "    <tr>\n",
       "      <td>2017-10-26</td>\n",
       "      <td>473.675</td>\n",
       "      <td>6.025</td>\n",
       "    </tr>\n",
       "    <tr>\n",
       "      <td>2017-10-27</td>\n",
       "      <td>473.175</td>\n",
       "      <td>-0.500</td>\n",
       "    </tr>\n",
       "    <tr>\n",
       "      <td>2017-10-30</td>\n",
       "      <td>472.050</td>\n",
       "      <td>-1.125</td>\n",
       "    </tr>\n",
       "    <tr>\n",
       "      <td>2017-10-31</td>\n",
       "      <td>460.925</td>\n",
       "      <td>-11.125</td>\n",
       "    </tr>\n",
       "    <tr>\n",
       "      <td>2017-11-01</td>\n",
       "      <td>463.525</td>\n",
       "      <td>2.600</td>\n",
       "    </tr>\n",
       "    <tr>\n",
       "      <td>2017-11-02</td>\n",
       "      <td>461.450</td>\n",
       "      <td>-2.075</td>\n",
       "    </tr>\n",
       "    <tr>\n",
       "      <td>2017-11-03</td>\n",
       "      <td>463.325</td>\n",
       "      <td>1.875</td>\n",
       "    </tr>\n",
       "    <tr>\n",
       "      <td>2017-11-06</td>\n",
       "      <td>464.350</td>\n",
       "      <td>1.025</td>\n",
       "    </tr>\n",
       "    <tr>\n",
       "      <td>2017-11-07</td>\n",
       "      <td>477.750</td>\n",
       "      <td>13.400</td>\n",
       "    </tr>\n",
       "    <tr>\n",
       "      <td>2017-11-08</td>\n",
       "      <td>476.150</td>\n",
       "      <td>-1.600</td>\n",
       "    </tr>\n",
       "    <tr>\n",
       "      <td>2017-11-09</td>\n",
       "      <td>477.250</td>\n",
       "      <td>1.100</td>\n",
       "    </tr>\n",
       "    <tr>\n",
       "      <td>2017-11-10</td>\n",
       "      <td>481.025</td>\n",
       "      <td>3.775</td>\n",
       "    </tr>\n",
       "    <tr>\n",
       "      <td>2017-11-13</td>\n",
       "      <td>475.975</td>\n",
       "      <td>-5.050</td>\n",
       "    </tr>\n",
       "    <tr>\n",
       "      <td>2017-11-14</td>\n",
       "      <td>474.550</td>\n",
       "      <td>-1.425</td>\n",
       "    </tr>\n",
       "    <tr>\n",
       "      <td>2017-11-15</td>\n",
       "      <td>475.900</td>\n",
       "      <td>1.350</td>\n",
       "    </tr>\n",
       "    <tr>\n",
       "      <td>2017-11-16</td>\n",
       "      <td>494.200</td>\n",
       "      <td>18.300</td>\n",
       "    </tr>\n",
       "    <tr>\n",
       "      <td>2017-11-17</td>\n",
       "      <td>485.475</td>\n",
       "      <td>-8.725</td>\n",
       "    </tr>\n",
       "    <tr>\n",
       "      <td>2017-11-20</td>\n",
       "      <td>480.275</td>\n",
       "      <td>-5.200</td>\n",
       "    </tr>\n",
       "  </tbody>\n",
       "</table>\n",
       "</div>"
      ],
      "text/plain": [
       "            Close Price      d1\n",
       "Date                           \n",
       "2017-10-24      463.250     NaN\n",
       "2017-10-25      467.650   4.400\n",
       "2017-10-26      473.675   6.025\n",
       "2017-10-27      473.175  -0.500\n",
       "2017-10-30      472.050  -1.125\n",
       "2017-10-31      460.925 -11.125\n",
       "2017-11-01      463.525   2.600\n",
       "2017-11-02      461.450  -2.075\n",
       "2017-11-03      463.325   1.875\n",
       "2017-11-06      464.350   1.025\n",
       "2017-11-07      477.750  13.400\n",
       "2017-11-08      476.150  -1.600\n",
       "2017-11-09      477.250   1.100\n",
       "2017-11-10      481.025   3.775\n",
       "2017-11-13      475.975  -5.050\n",
       "2017-11-14      474.550  -1.425\n",
       "2017-11-15      475.900   1.350\n",
       "2017-11-16      494.200  18.300\n",
       "2017-11-17      485.475  -8.725\n",
       "2017-11-20      480.275  -5.200"
      ]
     },
     "execution_count": 25,
     "metadata": {},
     "output_type": "execute_result"
    }
   ],
   "source": [
    "df1.head(20)"
   ]
  },
  {
   "cell_type": "code",
   "execution_count": 29,
   "metadata": {},
   "outputs": [],
   "source": [
    "df1[\"c1\"] = (463.250 + df1.d1.cumsum()).head(20)"
   ]
  },
  {
   "cell_type": "code",
   "execution_count": 30,
   "metadata": {},
   "outputs": [
    {
     "data": {
      "text/html": [
       "<div>\n",
       "<style scoped>\n",
       "    .dataframe tbody tr th:only-of-type {\n",
       "        vertical-align: middle;\n",
       "    }\n",
       "\n",
       "    .dataframe tbody tr th {\n",
       "        vertical-align: top;\n",
       "    }\n",
       "\n",
       "    .dataframe thead th {\n",
       "        text-align: right;\n",
       "    }\n",
       "</style>\n",
       "<table border=\"1\" class=\"dataframe\">\n",
       "  <thead>\n",
       "    <tr style=\"text-align: right;\">\n",
       "      <th></th>\n",
       "      <th>Close Price</th>\n",
       "      <th>d1</th>\n",
       "      <th>c1</th>\n",
       "    </tr>\n",
       "    <tr>\n",
       "      <th>Date</th>\n",
       "      <th></th>\n",
       "      <th></th>\n",
       "      <th></th>\n",
       "    </tr>\n",
       "  </thead>\n",
       "  <tbody>\n",
       "    <tr>\n",
       "      <td>2017-10-24</td>\n",
       "      <td>463.250</td>\n",
       "      <td>NaN</td>\n",
       "      <td>NaN</td>\n",
       "    </tr>\n",
       "    <tr>\n",
       "      <td>2017-10-25</td>\n",
       "      <td>467.650</td>\n",
       "      <td>4.400</td>\n",
       "      <td>467.650</td>\n",
       "    </tr>\n",
       "    <tr>\n",
       "      <td>2017-10-26</td>\n",
       "      <td>473.675</td>\n",
       "      <td>6.025</td>\n",
       "      <td>473.675</td>\n",
       "    </tr>\n",
       "    <tr>\n",
       "      <td>2017-10-27</td>\n",
       "      <td>473.175</td>\n",
       "      <td>-0.500</td>\n",
       "      <td>473.175</td>\n",
       "    </tr>\n",
       "    <tr>\n",
       "      <td>2017-10-30</td>\n",
       "      <td>472.050</td>\n",
       "      <td>-1.125</td>\n",
       "      <td>472.050</td>\n",
       "    </tr>\n",
       "    <tr>\n",
       "      <td>2017-10-31</td>\n",
       "      <td>460.925</td>\n",
       "      <td>-11.125</td>\n",
       "      <td>460.925</td>\n",
       "    </tr>\n",
       "    <tr>\n",
       "      <td>2017-11-01</td>\n",
       "      <td>463.525</td>\n",
       "      <td>2.600</td>\n",
       "      <td>463.525</td>\n",
       "    </tr>\n",
       "    <tr>\n",
       "      <td>2017-11-02</td>\n",
       "      <td>461.450</td>\n",
       "      <td>-2.075</td>\n",
       "      <td>461.450</td>\n",
       "    </tr>\n",
       "    <tr>\n",
       "      <td>2017-11-03</td>\n",
       "      <td>463.325</td>\n",
       "      <td>1.875</td>\n",
       "      <td>463.325</td>\n",
       "    </tr>\n",
       "    <tr>\n",
       "      <td>2017-11-06</td>\n",
       "      <td>464.350</td>\n",
       "      <td>1.025</td>\n",
       "      <td>464.350</td>\n",
       "    </tr>\n",
       "    <tr>\n",
       "      <td>2017-11-07</td>\n",
       "      <td>477.750</td>\n",
       "      <td>13.400</td>\n",
       "      <td>477.750</td>\n",
       "    </tr>\n",
       "    <tr>\n",
       "      <td>2017-11-08</td>\n",
       "      <td>476.150</td>\n",
       "      <td>-1.600</td>\n",
       "      <td>476.150</td>\n",
       "    </tr>\n",
       "    <tr>\n",
       "      <td>2017-11-09</td>\n",
       "      <td>477.250</td>\n",
       "      <td>1.100</td>\n",
       "      <td>477.250</td>\n",
       "    </tr>\n",
       "    <tr>\n",
       "      <td>2017-11-10</td>\n",
       "      <td>481.025</td>\n",
       "      <td>3.775</td>\n",
       "      <td>481.025</td>\n",
       "    </tr>\n",
       "    <tr>\n",
       "      <td>2017-11-13</td>\n",
       "      <td>475.975</td>\n",
       "      <td>-5.050</td>\n",
       "      <td>475.975</td>\n",
       "    </tr>\n",
       "    <tr>\n",
       "      <td>2017-11-14</td>\n",
       "      <td>474.550</td>\n",
       "      <td>-1.425</td>\n",
       "      <td>474.550</td>\n",
       "    </tr>\n",
       "    <tr>\n",
       "      <td>2017-11-15</td>\n",
       "      <td>475.900</td>\n",
       "      <td>1.350</td>\n",
       "      <td>475.900</td>\n",
       "    </tr>\n",
       "    <tr>\n",
       "      <td>2017-11-16</td>\n",
       "      <td>494.200</td>\n",
       "      <td>18.300</td>\n",
       "      <td>494.200</td>\n",
       "    </tr>\n",
       "    <tr>\n",
       "      <td>2017-11-17</td>\n",
       "      <td>485.475</td>\n",
       "      <td>-8.725</td>\n",
       "      <td>485.475</td>\n",
       "    </tr>\n",
       "    <tr>\n",
       "      <td>2017-11-20</td>\n",
       "      <td>480.275</td>\n",
       "      <td>-5.200</td>\n",
       "      <td>480.275</td>\n",
       "    </tr>\n",
       "  </tbody>\n",
       "</table>\n",
       "</div>"
      ],
      "text/plain": [
       "            Close Price      d1       c1\n",
       "Date                                    \n",
       "2017-10-24      463.250     NaN      NaN\n",
       "2017-10-25      467.650   4.400  467.650\n",
       "2017-10-26      473.675   6.025  473.675\n",
       "2017-10-27      473.175  -0.500  473.175\n",
       "2017-10-30      472.050  -1.125  472.050\n",
       "2017-10-31      460.925 -11.125  460.925\n",
       "2017-11-01      463.525   2.600  463.525\n",
       "2017-11-02      461.450  -2.075  461.450\n",
       "2017-11-03      463.325   1.875  463.325\n",
       "2017-11-06      464.350   1.025  464.350\n",
       "2017-11-07      477.750  13.400  477.750\n",
       "2017-11-08      476.150  -1.600  476.150\n",
       "2017-11-09      477.250   1.100  477.250\n",
       "2017-11-10      481.025   3.775  481.025\n",
       "2017-11-13      475.975  -5.050  475.975\n",
       "2017-11-14      474.550  -1.425  474.550\n",
       "2017-11-15      475.900   1.350  475.900\n",
       "2017-11-16      494.200  18.300  494.200\n",
       "2017-11-17      485.475  -8.725  485.475\n",
       "2017-11-20      480.275  -5.200  480.275"
      ]
     },
     "execution_count": 30,
     "metadata": {},
     "output_type": "execute_result"
    }
   ],
   "source": [
    "df1.head(20)"
   ]
  },
  {
   "cell_type": "code",
   "execution_count": 36,
   "metadata": {},
   "outputs": [],
   "source": [
    "df1[\"e1\"] = df1[\"Close Price\"].rolling(3).mean().shift(1)"
   ]
  },
  {
   "cell_type": "code",
   "execution_count": 37,
   "metadata": {},
   "outputs": [],
   "source": [
    "import numpy as np"
   ]
  },
  {
   "cell_type": "code",
   "execution_count": 38,
   "metadata": {},
   "outputs": [
    {
     "data": {
      "text/plain": [
       "468.19166666666666"
      ]
     },
     "execution_count": 38,
     "metadata": {},
     "output_type": "execute_result"
    }
   ],
   "source": [
    "np.mean([463.250, 467.650, 473.675])"
   ]
  },
  {
   "cell_type": "code",
   "execution_count": 39,
   "metadata": {},
   "outputs": [
    {
     "data": {
      "text/html": [
       "<div>\n",
       "<style scoped>\n",
       "    .dataframe tbody tr th:only-of-type {\n",
       "        vertical-align: middle;\n",
       "    }\n",
       "\n",
       "    .dataframe tbody tr th {\n",
       "        vertical-align: top;\n",
       "    }\n",
       "\n",
       "    .dataframe thead th {\n",
       "        text-align: right;\n",
       "    }\n",
       "</style>\n",
       "<table border=\"1\" class=\"dataframe\">\n",
       "  <thead>\n",
       "    <tr style=\"text-align: right;\">\n",
       "      <th></th>\n",
       "      <th>Close Price</th>\n",
       "      <th>d1</th>\n",
       "      <th>c1</th>\n",
       "      <th>e1</th>\n",
       "    </tr>\n",
       "    <tr>\n",
       "      <th>Date</th>\n",
       "      <th></th>\n",
       "      <th></th>\n",
       "      <th></th>\n",
       "      <th></th>\n",
       "    </tr>\n",
       "  </thead>\n",
       "  <tbody>\n",
       "    <tr>\n",
       "      <td>2017-10-24</td>\n",
       "      <td>463.250</td>\n",
       "      <td>NaN</td>\n",
       "      <td>NaN</td>\n",
       "      <td>NaN</td>\n",
       "    </tr>\n",
       "    <tr>\n",
       "      <td>2017-10-25</td>\n",
       "      <td>467.650</td>\n",
       "      <td>4.400</td>\n",
       "      <td>467.650</td>\n",
       "      <td>NaN</td>\n",
       "    </tr>\n",
       "    <tr>\n",
       "      <td>2017-10-26</td>\n",
       "      <td>473.675</td>\n",
       "      <td>6.025</td>\n",
       "      <td>473.675</td>\n",
       "      <td>NaN</td>\n",
       "    </tr>\n",
       "    <tr>\n",
       "      <td>2017-10-27</td>\n",
       "      <td>473.175</td>\n",
       "      <td>-0.500</td>\n",
       "      <td>473.175</td>\n",
       "      <td>468.191667</td>\n",
       "    </tr>\n",
       "    <tr>\n",
       "      <td>2017-10-30</td>\n",
       "      <td>472.050</td>\n",
       "      <td>-1.125</td>\n",
       "      <td>472.050</td>\n",
       "      <td>471.500000</td>\n",
       "    </tr>\n",
       "    <tr>\n",
       "      <td>2017-10-31</td>\n",
       "      <td>460.925</td>\n",
       "      <td>-11.125</td>\n",
       "      <td>460.925</td>\n",
       "      <td>472.966667</td>\n",
       "    </tr>\n",
       "    <tr>\n",
       "      <td>2017-11-01</td>\n",
       "      <td>463.525</td>\n",
       "      <td>2.600</td>\n",
       "      <td>463.525</td>\n",
       "      <td>468.716667</td>\n",
       "    </tr>\n",
       "    <tr>\n",
       "      <td>2017-11-02</td>\n",
       "      <td>461.450</td>\n",
       "      <td>-2.075</td>\n",
       "      <td>461.450</td>\n",
       "      <td>465.500000</td>\n",
       "    </tr>\n",
       "    <tr>\n",
       "      <td>2017-11-03</td>\n",
       "      <td>463.325</td>\n",
       "      <td>1.875</td>\n",
       "      <td>463.325</td>\n",
       "      <td>461.966667</td>\n",
       "    </tr>\n",
       "    <tr>\n",
       "      <td>2017-11-06</td>\n",
       "      <td>464.350</td>\n",
       "      <td>1.025</td>\n",
       "      <td>464.350</td>\n",
       "      <td>462.766667</td>\n",
       "    </tr>\n",
       "    <tr>\n",
       "      <td>2017-11-07</td>\n",
       "      <td>477.750</td>\n",
       "      <td>13.400</td>\n",
       "      <td>477.750</td>\n",
       "      <td>463.041667</td>\n",
       "    </tr>\n",
       "    <tr>\n",
       "      <td>2017-11-08</td>\n",
       "      <td>476.150</td>\n",
       "      <td>-1.600</td>\n",
       "      <td>476.150</td>\n",
       "      <td>468.475000</td>\n",
       "    </tr>\n",
       "    <tr>\n",
       "      <td>2017-11-09</td>\n",
       "      <td>477.250</td>\n",
       "      <td>1.100</td>\n",
       "      <td>477.250</td>\n",
       "      <td>472.750000</td>\n",
       "    </tr>\n",
       "    <tr>\n",
       "      <td>2017-11-10</td>\n",
       "      <td>481.025</td>\n",
       "      <td>3.775</td>\n",
       "      <td>481.025</td>\n",
       "      <td>477.050000</td>\n",
       "    </tr>\n",
       "    <tr>\n",
       "      <td>2017-11-13</td>\n",
       "      <td>475.975</td>\n",
       "      <td>-5.050</td>\n",
       "      <td>475.975</td>\n",
       "      <td>478.141667</td>\n",
       "    </tr>\n",
       "    <tr>\n",
       "      <td>2017-11-14</td>\n",
       "      <td>474.550</td>\n",
       "      <td>-1.425</td>\n",
       "      <td>474.550</td>\n",
       "      <td>478.083333</td>\n",
       "    </tr>\n",
       "    <tr>\n",
       "      <td>2017-11-15</td>\n",
       "      <td>475.900</td>\n",
       "      <td>1.350</td>\n",
       "      <td>475.900</td>\n",
       "      <td>477.183333</td>\n",
       "    </tr>\n",
       "    <tr>\n",
       "      <td>2017-11-16</td>\n",
       "      <td>494.200</td>\n",
       "      <td>18.300</td>\n",
       "      <td>494.200</td>\n",
       "      <td>475.475000</td>\n",
       "    </tr>\n",
       "    <tr>\n",
       "      <td>2017-11-17</td>\n",
       "      <td>485.475</td>\n",
       "      <td>-8.725</td>\n",
       "      <td>485.475</td>\n",
       "      <td>481.550000</td>\n",
       "    </tr>\n",
       "    <tr>\n",
       "      <td>2017-11-20</td>\n",
       "      <td>480.275</td>\n",
       "      <td>-5.200</td>\n",
       "      <td>480.275</td>\n",
       "      <td>485.191667</td>\n",
       "    </tr>\n",
       "  </tbody>\n",
       "</table>\n",
       "</div>"
      ],
      "text/plain": [
       "            Close Price      d1       c1          e1\n",
       "Date                                                \n",
       "2017-10-24      463.250     NaN      NaN         NaN\n",
       "2017-10-25      467.650   4.400  467.650         NaN\n",
       "2017-10-26      473.675   6.025  473.675         NaN\n",
       "2017-10-27      473.175  -0.500  473.175  468.191667\n",
       "2017-10-30      472.050  -1.125  472.050  471.500000\n",
       "2017-10-31      460.925 -11.125  460.925  472.966667\n",
       "2017-11-01      463.525   2.600  463.525  468.716667\n",
       "2017-11-02      461.450  -2.075  461.450  465.500000\n",
       "2017-11-03      463.325   1.875  463.325  461.966667\n",
       "2017-11-06      464.350   1.025  464.350  462.766667\n",
       "2017-11-07      477.750  13.400  477.750  463.041667\n",
       "2017-11-08      476.150  -1.600  476.150  468.475000\n",
       "2017-11-09      477.250   1.100  477.250  472.750000\n",
       "2017-11-10      481.025   3.775  481.025  477.050000\n",
       "2017-11-13      475.975  -5.050  475.975  478.141667\n",
       "2017-11-14      474.550  -1.425  474.550  478.083333\n",
       "2017-11-15      475.900   1.350  475.900  477.183333\n",
       "2017-11-16      494.200  18.300  494.200  475.475000\n",
       "2017-11-17      485.475  -8.725  485.475  481.550000\n",
       "2017-11-20      480.275  -5.200  480.275  485.191667"
      ]
     },
     "execution_count": 39,
     "metadata": {},
     "output_type": "execute_result"
    }
   ],
   "source": [
    "df1.head(20)"
   ]
  },
  {
   "cell_type": "code",
   "execution_count": 45,
   "metadata": {},
   "outputs": [
    {
     "data": {
      "text/html": [
       "<div>\n",
       "<style scoped>\n",
       "    .dataframe tbody tr th:only-of-type {\n",
       "        vertical-align: middle;\n",
       "    }\n",
       "\n",
       "    .dataframe tbody tr th {\n",
       "        vertical-align: top;\n",
       "    }\n",
       "\n",
       "    .dataframe thead th {\n",
       "        text-align: right;\n",
       "    }\n",
       "</style>\n",
       "<table border=\"1\" class=\"dataframe\">\n",
       "  <thead>\n",
       "    <tr style=\"text-align: right;\">\n",
       "      <th></th>\n",
       "      <th>Close Price</th>\n",
       "      <th>e1</th>\n",
       "    </tr>\n",
       "    <tr>\n",
       "      <th>Date</th>\n",
       "      <th></th>\n",
       "      <th></th>\n",
       "    </tr>\n",
       "  </thead>\n",
       "  <tbody>\n",
       "    <tr>\n",
       "      <td>2017-10-27</td>\n",
       "      <td>473.175</td>\n",
       "      <td>468.191667</td>\n",
       "    </tr>\n",
       "    <tr>\n",
       "      <td>2017-10-30</td>\n",
       "      <td>472.050</td>\n",
       "      <td>471.500000</td>\n",
       "    </tr>\n",
       "    <tr>\n",
       "      <td>2017-10-31</td>\n",
       "      <td>460.925</td>\n",
       "      <td>472.966667</td>\n",
       "    </tr>\n",
       "    <tr>\n",
       "      <td>2017-11-01</td>\n",
       "      <td>463.525</td>\n",
       "      <td>468.716667</td>\n",
       "    </tr>\n",
       "    <tr>\n",
       "      <td>2017-11-02</td>\n",
       "      <td>461.450</td>\n",
       "      <td>465.500000</td>\n",
       "    </tr>\n",
       "    <tr>\n",
       "      <td>2017-11-03</td>\n",
       "      <td>463.325</td>\n",
       "      <td>461.966667</td>\n",
       "    </tr>\n",
       "    <tr>\n",
       "      <td>2017-11-06</td>\n",
       "      <td>464.350</td>\n",
       "      <td>462.766667</td>\n",
       "    </tr>\n",
       "    <tr>\n",
       "      <td>2017-11-07</td>\n",
       "      <td>477.750</td>\n",
       "      <td>463.041667</td>\n",
       "    </tr>\n",
       "    <tr>\n",
       "      <td>2017-11-08</td>\n",
       "      <td>476.150</td>\n",
       "      <td>468.475000</td>\n",
       "    </tr>\n",
       "    <tr>\n",
       "      <td>2017-11-09</td>\n",
       "      <td>477.250</td>\n",
       "      <td>472.750000</td>\n",
       "    </tr>\n",
       "    <tr>\n",
       "      <td>2017-11-10</td>\n",
       "      <td>481.025</td>\n",
       "      <td>477.050000</td>\n",
       "    </tr>\n",
       "    <tr>\n",
       "      <td>2017-11-13</td>\n",
       "      <td>475.975</td>\n",
       "      <td>478.141667</td>\n",
       "    </tr>\n",
       "    <tr>\n",
       "      <td>2017-11-14</td>\n",
       "      <td>474.550</td>\n",
       "      <td>478.083333</td>\n",
       "    </tr>\n",
       "    <tr>\n",
       "      <td>2017-11-15</td>\n",
       "      <td>475.900</td>\n",
       "      <td>477.183333</td>\n",
       "    </tr>\n",
       "    <tr>\n",
       "      <td>2017-11-16</td>\n",
       "      <td>494.200</td>\n",
       "      <td>475.475000</td>\n",
       "    </tr>\n",
       "    <tr>\n",
       "      <td>2017-11-17</td>\n",
       "      <td>485.475</td>\n",
       "      <td>481.550000</td>\n",
       "    </tr>\n",
       "    <tr>\n",
       "      <td>2017-11-20</td>\n",
       "      <td>480.275</td>\n",
       "      <td>485.191667</td>\n",
       "    </tr>\n",
       "    <tr>\n",
       "      <td>2017-11-21</td>\n",
       "      <td>483.125</td>\n",
       "      <td>486.650000</td>\n",
       "    </tr>\n",
       "    <tr>\n",
       "      <td>2017-11-22</td>\n",
       "      <td>483.150</td>\n",
       "      <td>482.958333</td>\n",
       "    </tr>\n",
       "    <tr>\n",
       "      <td>2017-11-23</td>\n",
       "      <td>495.625</td>\n",
       "      <td>482.183333</td>\n",
       "    </tr>\n",
       "  </tbody>\n",
       "</table>\n",
       "</div>"
      ],
      "text/plain": [
       "            Close Price          e1\n",
       "Date                               \n",
       "2017-10-27      473.175  468.191667\n",
       "2017-10-30      472.050  471.500000\n",
       "2017-10-31      460.925  472.966667\n",
       "2017-11-01      463.525  468.716667\n",
       "2017-11-02      461.450  465.500000\n",
       "2017-11-03      463.325  461.966667\n",
       "2017-11-06      464.350  462.766667\n",
       "2017-11-07      477.750  463.041667\n",
       "2017-11-08      476.150  468.475000\n",
       "2017-11-09      477.250  472.750000\n",
       "2017-11-10      481.025  477.050000\n",
       "2017-11-13      475.975  478.141667\n",
       "2017-11-14      474.550  478.083333\n",
       "2017-11-15      475.900  477.183333\n",
       "2017-11-16      494.200  475.475000\n",
       "2017-11-17      485.475  481.550000\n",
       "2017-11-20      480.275  485.191667\n",
       "2017-11-21      483.125  486.650000\n",
       "2017-11-22      483.150  482.958333\n",
       "2017-11-23      495.625  482.183333"
      ]
     },
     "execution_count": 45,
     "metadata": {},
     "output_type": "execute_result"
    }
   ],
   "source": [
    "df2 = df1[[\"Close Price\", \"e1\"]].dropna()\n",
    "df2.head(20)"
   ]
  },
  {
   "cell_type": "code",
   "execution_count": 46,
   "metadata": {},
   "outputs": [],
   "source": [
    "from sklearn import metrics"
   ]
  },
  {
   "cell_type": "code",
   "execution_count": 47,
   "metadata": {},
   "outputs": [
    {
     "data": {
      "text/plain": [
       "0.9836936118796309"
      ]
     },
     "execution_count": 47,
     "metadata": {},
     "output_type": "execute_result"
    }
   ],
   "source": [
    "metrics.r2_score(df2[\"Close Price\"], df2[\"e1\"])"
   ]
  },
  {
   "cell_type": "code",
   "execution_count": 48,
   "metadata": {},
   "outputs": [
    {
     "data": {
      "text/plain": [
       "<matplotlib.axes._subplots.AxesSubplot at 0x1a22decf50>"
      ]
     },
     "execution_count": 48,
     "metadata": {},
     "output_type": "execute_result"
    },
    {
     "data": {
      "image/png": "[encoded data removed]",
      "text/plain": [
       "<Figure size 432x288 with 1 Axes>"
      ]
     },
     "metadata": {
      "needs_background": "light"
     },
     "output_type": "display_data"
    }
   ],
   "source": [
    "df2[[\"Close Price\", \"e1\"]].plot()"
   ]
  },
  {
   "cell_type": "code",
   "execution_count": 49,
   "metadata": {},
   "outputs": [
    {
     "data": {
      "text/plain": [
       "(522, 4)"
      ]
     },
     "execution_count": 49,
     "metadata": {},
     "output_type": "execute_result"
    }
   ],
   "source": [
    "df1.shape"
   ]
  },
  {
   "cell_type": "code",
   "execution_count": 50,
   "metadata": {},
   "outputs": [
    {
     "data": {
      "text/plain": [
       "(408, 2)"
      ]
     },
     "execution_count": 50,
     "metadata": {},
     "output_type": "execute_result"
    }
   ],
   "source": [
    "df2.shape"
   ]
  },
  {
   "cell_type": "code",
   "execution_count": null,
   "metadata": {},
   "outputs": [],
   "source": []
  }
 ],
 "metadata": {
  "kernelspec": {
   "display_name": "Python 3",
   "language": "python",
   "name": "python3"
  },
  "language_info": {
   "codemirror_mode": {
    "name": "ipython",
    "version": 3
   },
   "file_extension": ".py",
   "mimetype": "text/x-python",
   "name": "python",
   "nbconvert_exporter": "python",
   "pygments_lexer": "ipython3",
   "version": "3.7.4"
  }
 },
 "nbformat": 4,
 "nbformat_minor": 2
}
