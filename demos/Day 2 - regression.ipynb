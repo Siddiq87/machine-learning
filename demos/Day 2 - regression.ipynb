{
 "cells": [
  {
   "cell_type": "code",
   "execution_count": 1,
   "metadata": {},
   "outputs": [],
   "source": [
    "import pandas as pd"
   ]
  },
  {
   "cell_type": "code",
   "execution_count": 2,
   "metadata": {},
   "outputs": [
    {
     "data": {
      "text/html": [
       "<div>\n",
       "<style scoped>\n",
       "    .dataframe tbody tr th:only-of-type {\n",
       "        vertical-align: middle;\n",
       "    }\n",
       "\n",
       "    .dataframe tbody tr th {\n",
       "        vertical-align: top;\n",
       "    }\n",
       "\n",
       "    .dataframe thead th {\n",
       "        text-align: right;\n",
       "    }\n",
       "</style>\n",
       "<table border=\"1\" class=\"dataframe\">\n",
       "  <thead>\n",
       "    <tr style=\"text-align: right;\">\n",
       "      <th></th>\n",
       "      <th>age</th>\n",
       "      <th>gender</th>\n",
       "      <th>bmi</th>\n",
       "      <th>children</th>\n",
       "      <th>smoker</th>\n",
       "      <th>region</th>\n",
       "      <th>charges</th>\n",
       "    </tr>\n",
       "  </thead>\n",
       "  <tbody>\n",
       "    <tr>\n",
       "      <td>0</td>\n",
       "      <td>19</td>\n",
       "      <td>female</td>\n",
       "      <td>27.900</td>\n",
       "      <td>0</td>\n",
       "      <td>yes</td>\n",
       "      <td>southwest</td>\n",
       "      <td>16884.92400</td>\n",
       "    </tr>\n",
       "    <tr>\n",
       "      <td>1</td>\n",
       "      <td>18</td>\n",
       "      <td>male</td>\n",
       "      <td>33.770</td>\n",
       "      <td>1</td>\n",
       "      <td>no</td>\n",
       "      <td>southeast</td>\n",
       "      <td>1725.55230</td>\n",
       "    </tr>\n",
       "    <tr>\n",
       "      <td>2</td>\n",
       "      <td>28</td>\n",
       "      <td>male</td>\n",
       "      <td>33.000</td>\n",
       "      <td>3</td>\n",
       "      <td>no</td>\n",
       "      <td>southeast</td>\n",
       "      <td>4449.46200</td>\n",
       "    </tr>\n",
       "    <tr>\n",
       "      <td>3</td>\n",
       "      <td>33</td>\n",
       "      <td>male</td>\n",
       "      <td>22.705</td>\n",
       "      <td>0</td>\n",
       "      <td>no</td>\n",
       "      <td>northwest</td>\n",
       "      <td>21984.47061</td>\n",
       "    </tr>\n",
       "    <tr>\n",
       "      <td>4</td>\n",
       "      <td>32</td>\n",
       "      <td>male</td>\n",
       "      <td>28.880</td>\n",
       "      <td>0</td>\n",
       "      <td>no</td>\n",
       "      <td>northwest</td>\n",
       "      <td>3866.85520</td>\n",
       "    </tr>\n",
       "  </tbody>\n",
       "</table>\n",
       "</div>"
      ],
      "text/plain": [
       "   age  gender     bmi  children smoker     region      charges\n",
       "0   19  female  27.900         0    yes  southwest  16884.92400\n",
       "1   18    male  33.770         1     no  southeast   1725.55230\n",
       "2   28    male  33.000         3     no  southeast   4449.46200\n",
       "3   33    male  22.705         0     no  northwest  21984.47061\n",
       "4   32    male  28.880         0     no  northwest   3866.85520"
      ]
     },
     "execution_count": 2,
     "metadata": {},
     "output_type": "execute_result"
    }
   ],
   "source": [
    "df = pd.read_csv(\"/data/insurance.csv\")\n",
    "df.head()"
   ]
  },
  {
   "cell_type": "code",
   "execution_count": 3,
   "metadata": {},
   "outputs": [],
   "source": [
    "target = \"charges\""
   ]
  },
  {
   "cell_type": "code",
   "execution_count": 4,
   "metadata": {},
   "outputs": [],
   "source": [
    "X = df.drop(columns=target)"
   ]
  },
  {
   "cell_type": "code",
   "execution_count": 5,
   "metadata": {},
   "outputs": [
    {
     "data": {
      "text/html": [
       "<div>\n",
       "<style scoped>\n",
       "    .dataframe tbody tr th:only-of-type {\n",
       "        vertical-align: middle;\n",
       "    }\n",
       "\n",
       "    .dataframe tbody tr th {\n",
       "        vertical-align: top;\n",
       "    }\n",
       "\n",
       "    .dataframe thead th {\n",
       "        text-align: right;\n",
       "    }\n",
       "</style>\n",
       "<table border=\"1\" class=\"dataframe\">\n",
       "  <thead>\n",
       "    <tr style=\"text-align: right;\">\n",
       "      <th></th>\n",
       "      <th>age</th>\n",
       "      <th>gender</th>\n",
       "      <th>bmi</th>\n",
       "      <th>children</th>\n",
       "      <th>smoker</th>\n",
       "      <th>region</th>\n",
       "    </tr>\n",
       "  </thead>\n",
       "  <tbody>\n",
       "    <tr>\n",
       "      <td>0</td>\n",
       "      <td>19</td>\n",
       "      <td>female</td>\n",
       "      <td>27.900</td>\n",
       "      <td>0</td>\n",
       "      <td>yes</td>\n",
       "      <td>southwest</td>\n",
       "    </tr>\n",
       "    <tr>\n",
       "      <td>1</td>\n",
       "      <td>18</td>\n",
       "      <td>male</td>\n",
       "      <td>33.770</td>\n",
       "      <td>1</td>\n",
       "      <td>no</td>\n",
       "      <td>southeast</td>\n",
       "    </tr>\n",
       "    <tr>\n",
       "      <td>2</td>\n",
       "      <td>28</td>\n",
       "      <td>male</td>\n",
       "      <td>33.000</td>\n",
       "      <td>3</td>\n",
       "      <td>no</td>\n",
       "      <td>southeast</td>\n",
       "    </tr>\n",
       "    <tr>\n",
       "      <td>3</td>\n",
       "      <td>33</td>\n",
       "      <td>male</td>\n",
       "      <td>22.705</td>\n",
       "      <td>0</td>\n",
       "      <td>no</td>\n",
       "      <td>northwest</td>\n",
       "    </tr>\n",
       "    <tr>\n",
       "      <td>4</td>\n",
       "      <td>32</td>\n",
       "      <td>male</td>\n",
       "      <td>28.880</td>\n",
       "      <td>0</td>\n",
       "      <td>no</td>\n",
       "      <td>northwest</td>\n",
       "    </tr>\n",
       "  </tbody>\n",
       "</table>\n",
       "</div>"
      ],
      "text/plain": [
       "   age  gender     bmi  children smoker     region\n",
       "0   19  female  27.900         0    yes  southwest\n",
       "1   18    male  33.770         1     no  southeast\n",
       "2   28    male  33.000         3     no  southeast\n",
       "3   33    male  22.705         0     no  northwest\n",
       "4   32    male  28.880         0     no  northwest"
      ]
     },
     "execution_count": 5,
     "metadata": {},
     "output_type": "execute_result"
    }
   ],
   "source": [
    "X.head()"
   ]
  },
  {
   "cell_type": "code",
   "execution_count": 6,
   "metadata": {},
   "outputs": [
    {
     "data": {
      "text/plain": [
       "['northeast', 'northwest', 'southeast', 'southwest']"
      ]
     },
     "execution_count": 6,
     "metadata": {},
     "output_type": "execute_result"
    }
   ],
   "source": [
    "sorted(X.region.unique())"
   ]
  },
  {
   "cell_type": "code",
   "execution_count": 7,
   "metadata": {},
   "outputs": [
    {
     "data": {
      "text/html": [
       "<div>\n",
       "<style scoped>\n",
       "    .dataframe tbody tr th:only-of-type {\n",
       "        vertical-align: middle;\n",
       "    }\n",
       "\n",
       "    .dataframe tbody tr th {\n",
       "        vertical-align: top;\n",
       "    }\n",
       "\n",
       "    .dataframe thead th {\n",
       "        text-align: right;\n",
       "    }\n",
       "</style>\n",
       "<table border=\"1\" class=\"dataframe\">\n",
       "  <thead>\n",
       "    <tr style=\"text-align: right;\">\n",
       "      <th></th>\n",
       "      <th>age</th>\n",
       "      <th>bmi</th>\n",
       "      <th>children</th>\n",
       "      <th>gender_male</th>\n",
       "      <th>smoker_yes</th>\n",
       "      <th>region_northwest</th>\n",
       "      <th>region_southeast</th>\n",
       "      <th>region_southwest</th>\n",
       "    </tr>\n",
       "  </thead>\n",
       "  <tbody>\n",
       "    <tr>\n",
       "      <td>0</td>\n",
       "      <td>19</td>\n",
       "      <td>27.900</td>\n",
       "      <td>0</td>\n",
       "      <td>0</td>\n",
       "      <td>1</td>\n",
       "      <td>0</td>\n",
       "      <td>0</td>\n",
       "      <td>1</td>\n",
       "    </tr>\n",
       "    <tr>\n",
       "      <td>1</td>\n",
       "      <td>18</td>\n",
       "      <td>33.770</td>\n",
       "      <td>1</td>\n",
       "      <td>1</td>\n",
       "      <td>0</td>\n",
       "      <td>0</td>\n",
       "      <td>1</td>\n",
       "      <td>0</td>\n",
       "    </tr>\n",
       "    <tr>\n",
       "      <td>2</td>\n",
       "      <td>28</td>\n",
       "      <td>33.000</td>\n",
       "      <td>3</td>\n",
       "      <td>1</td>\n",
       "      <td>0</td>\n",
       "      <td>0</td>\n",
       "      <td>1</td>\n",
       "      <td>0</td>\n",
       "    </tr>\n",
       "    <tr>\n",
       "      <td>3</td>\n",
       "      <td>33</td>\n",
       "      <td>22.705</td>\n",
       "      <td>0</td>\n",
       "      <td>1</td>\n",
       "      <td>0</td>\n",
       "      <td>1</td>\n",
       "      <td>0</td>\n",
       "      <td>0</td>\n",
       "    </tr>\n",
       "    <tr>\n",
       "      <td>4</td>\n",
       "      <td>32</td>\n",
       "      <td>28.880</td>\n",
       "      <td>0</td>\n",
       "      <td>1</td>\n",
       "      <td>0</td>\n",
       "      <td>1</td>\n",
       "      <td>0</td>\n",
       "      <td>0</td>\n",
       "    </tr>\n",
       "    <tr>\n",
       "      <td>...</td>\n",
       "      <td>...</td>\n",
       "      <td>...</td>\n",
       "      <td>...</td>\n",
       "      <td>...</td>\n",
       "      <td>...</td>\n",
       "      <td>...</td>\n",
       "      <td>...</td>\n",
       "      <td>...</td>\n",
       "    </tr>\n",
       "    <tr>\n",
       "      <td>1333</td>\n",
       "      <td>50</td>\n",
       "      <td>30.970</td>\n",
       "      <td>3</td>\n",
       "      <td>1</td>\n",
       "      <td>0</td>\n",
       "      <td>1</td>\n",
       "      <td>0</td>\n",
       "      <td>0</td>\n",
       "    </tr>\n",
       "    <tr>\n",
       "      <td>1334</td>\n",
       "      <td>18</td>\n",
       "      <td>31.920</td>\n",
       "      <td>0</td>\n",
       "      <td>0</td>\n",
       "      <td>0</td>\n",
       "      <td>0</td>\n",
       "      <td>0</td>\n",
       "      <td>0</td>\n",
       "    </tr>\n",
       "    <tr>\n",
       "      <td>1335</td>\n",
       "      <td>18</td>\n",
       "      <td>36.850</td>\n",
       "      <td>0</td>\n",
       "      <td>0</td>\n",
       "      <td>0</td>\n",
       "      <td>0</td>\n",
       "      <td>1</td>\n",
       "      <td>0</td>\n",
       "    </tr>\n",
       "    <tr>\n",
       "      <td>1336</td>\n",
       "      <td>21</td>\n",
       "      <td>25.800</td>\n",
       "      <td>0</td>\n",
       "      <td>0</td>\n",
       "      <td>0</td>\n",
       "      <td>0</td>\n",
       "      <td>0</td>\n",
       "      <td>1</td>\n",
       "    </tr>\n",
       "    <tr>\n",
       "      <td>1337</td>\n",
       "      <td>61</td>\n",
       "      <td>29.070</td>\n",
       "      <td>0</td>\n",
       "      <td>0</td>\n",
       "      <td>1</td>\n",
       "      <td>1</td>\n",
       "      <td>0</td>\n",
       "      <td>0</td>\n",
       "    </tr>\n",
       "  </tbody>\n",
       "</table>\n",
       "<p>1338 rows × 8 columns</p>\n",
       "</div>"
      ],
      "text/plain": [
       "      age     bmi  children  gender_male  smoker_yes  region_northwest  \\\n",
       "0      19  27.900         0            0           1                 0   \n",
       "1      18  33.770         1            1           0                 0   \n",
       "2      28  33.000         3            1           0                 0   \n",
       "3      33  22.705         0            1           0                 1   \n",
       "4      32  28.880         0            1           0                 1   \n",
       "...   ...     ...       ...          ...         ...               ...   \n",
       "1333   50  30.970         3            1           0                 1   \n",
       "1334   18  31.920         0            0           0                 0   \n",
       "1335   18  36.850         0            0           0                 0   \n",
       "1336   21  25.800         0            0           0                 0   \n",
       "1337   61  29.070         0            0           1                 1   \n",
       "\n",
       "      region_southeast  region_southwest  \n",
       "0                    0                 1  \n",
       "1                    1                 0  \n",
       "2                    1                 0  \n",
       "3                    0                 0  \n",
       "4                    0                 0  \n",
       "...                ...               ...  \n",
       "1333                 0                 0  \n",
       "1334                 0                 0  \n",
       "1335                 1                 0  \n",
       "1336                 0                 1  \n",
       "1337                 0                 0  \n",
       "\n",
       "[1338 rows x 8 columns]"
      ]
     },
     "execution_count": 7,
     "metadata": {},
     "output_type": "execute_result"
    }
   ],
   "source": [
    "X_dummy = pd.get_dummies(X, drop_first=True)\n",
    "X_dummy"
   ]
  },
  {
   "cell_type": "code",
   "execution_count": 8,
   "metadata": {},
   "outputs": [
    {
     "name": "stdout",
     "output_type": "stream",
     "text": [
      "<class 'pandas.core.frame.DataFrame'>\n",
      "RangeIndex: 1338 entries, 0 to 1337\n",
      "Data columns (total 6 columns):\n",
      "age         1338 non-null int64\n",
      "gender      1338 non-null object\n",
      "bmi         1338 non-null float64\n",
      "children    1338 non-null int64\n",
      "smoker      1338 non-null object\n",
      "region      1338 non-null object\n",
      "dtypes: float64(1), int64(2), object(3)\n",
      "memory usage: 62.8+ KB\n"
     ]
    }
   ],
   "source": [
    "X.info()"
   ]
  },
  {
   "cell_type": "code",
   "execution_count": 9,
   "metadata": {},
   "outputs": [],
   "source": [
    "y = df[target]"
   ]
  },
  {
   "cell_type": "code",
   "execution_count": 10,
   "metadata": {},
   "outputs": [
    {
     "data": {
      "text/plain": [
       "0       16884.92400\n",
       "1        1725.55230\n",
       "2        4449.46200\n",
       "3       21984.47061\n",
       "4        3866.85520\n",
       "           ...     \n",
       "1333    10600.54830\n",
       "1334     2205.98080\n",
       "1335     1629.83350\n",
       "1336     2007.94500\n",
       "1337    29141.36030\n",
       "Name: charges, Length: 1338, dtype: float64"
      ]
     },
     "execution_count": 10,
     "metadata": {},
     "output_type": "execute_result"
    }
   ],
   "source": [
    "y"
   ]
  },
  {
   "cell_type": "code",
   "execution_count": 11,
   "metadata": {},
   "outputs": [],
   "source": [
    "from sklearn import preprocessing, model_selection"
   ]
  },
  {
   "cell_type": "code",
   "execution_count": 12,
   "metadata": {},
   "outputs": [],
   "source": [
    "X_train, X_test, y_train, y_test = model_selection.train_test_split(\n",
    "    X_dummy, y , test_size = 0.3, random_state = 1)"
   ]
  },
  {
   "cell_type": "code",
   "execution_count": 13,
   "metadata": {},
   "outputs": [],
   "source": [
    "import numpy as np"
   ]
  },
  {
   "cell_type": "code",
   "execution_count": 14,
   "metadata": {},
   "outputs": [
    {
     "data": {
      "text/plain": [
       "array([4, 4, 4, 6, 3])"
      ]
     },
     "execution_count": 14,
     "metadata": {},
     "output_type": "execute_result"
    }
   ],
   "source": [
    "np.random.seed(111)\n",
    "np.random.randint(0, 10, 5)"
   ]
  },
  {
   "cell_type": "code",
   "execution_count": 15,
   "metadata": {},
   "outputs": [],
   "source": [
    "from sklearn import linear_model"
   ]
  },
  {
   "cell_type": "code",
   "execution_count": 16,
   "metadata": {},
   "outputs": [
    {
     "data": {
      "text/plain": [
       "LinearRegression(copy_X=True, fit_intercept=True, n_jobs=None, normalize=False)"
      ]
     },
     "execution_count": 16,
     "metadata": {},
     "output_type": "execute_result"
    }
   ],
   "source": [
    "est = linear_model.LinearRegression()\n",
    "est.fit(X_train, y_train)"
   ]
  },
  {
   "cell_type": "code",
   "execution_count": 17,
   "metadata": {},
   "outputs": [
    {
     "data": {
      "text/plain": [
       "-11039.23841856155"
      ]
     },
     "execution_count": 17,
     "metadata": {},
     "output_type": "execute_result"
    }
   ],
   "source": [
    "est.intercept_"
   ]
  },
  {
   "cell_type": "code",
   "execution_count": 18,
   "metadata": {},
   "outputs": [],
   "source": [
    "y_test_pred = est.predict(X_test)\n",
    "y_train_pred = est.predict(X_train)"
   ]
  },
  {
   "cell_type": "code",
   "execution_count": 19,
   "metadata": {},
   "outputs": [],
   "source": [
    "summary = pd.DataFrame({\"actual\": y_test, \"prediction\": y_test_pred})"
   ]
  },
  {
   "cell_type": "code",
   "execution_count": 20,
   "metadata": {},
   "outputs": [],
   "source": [
    "summary[\"error\"] = summary.prediction - summary.actual"
   ]
  },
  {
   "cell_type": "code",
   "execution_count": 21,
   "metadata": {},
   "outputs": [
    {
     "data": {
      "text/html": [
       "<div>\n",
       "<style scoped>\n",
       "    .dataframe tbody tr th:only-of-type {\n",
       "        vertical-align: middle;\n",
       "    }\n",
       "\n",
       "    .dataframe tbody tr th {\n",
       "        vertical-align: top;\n",
       "    }\n",
       "\n",
       "    .dataframe thead th {\n",
       "        text-align: right;\n",
       "    }\n",
       "</style>\n",
       "<table border=\"1\" class=\"dataframe\">\n",
       "  <thead>\n",
       "    <tr style=\"text-align: right;\">\n",
       "      <th></th>\n",
       "      <th>actual</th>\n",
       "      <th>prediction</th>\n",
       "      <th>error</th>\n",
       "    </tr>\n",
       "  </thead>\n",
       "  <tbody>\n",
       "    <tr>\n",
       "      <td>559</td>\n",
       "      <td>1646.4297</td>\n",
       "      <td>4610.315541</td>\n",
       "      <td>2963.885841</td>\n",
       "    </tr>\n",
       "    <tr>\n",
       "      <td>1087</td>\n",
       "      <td>11353.2276</td>\n",
       "      <td>12887.893880</td>\n",
       "      <td>1534.666280</td>\n",
       "    </tr>\n",
       "    <tr>\n",
       "      <td>1020</td>\n",
       "      <td>8798.5930</td>\n",
       "      <td>12573.948752</td>\n",
       "      <td>3775.355752</td>\n",
       "    </tr>\n",
       "    <tr>\n",
       "      <td>460</td>\n",
       "      <td>10381.4787</td>\n",
       "      <td>13197.836626</td>\n",
       "      <td>2816.357926</td>\n",
       "    </tr>\n",
       "    <tr>\n",
       "      <td>802</td>\n",
       "      <td>2103.0800</td>\n",
       "      <td>629.337182</td>\n",
       "      <td>-1473.742818</td>\n",
       "    </tr>\n",
       "  </tbody>\n",
       "</table>\n",
       "</div>"
      ],
      "text/plain": [
       "          actual    prediction        error\n",
       "559    1646.4297   4610.315541  2963.885841\n",
       "1087  11353.2276  12887.893880  1534.666280\n",
       "1020   8798.5930  12573.948752  3775.355752\n",
       "460   10381.4787  13197.836626  2816.357926\n",
       "802    2103.0800    629.337182 -1473.742818"
      ]
     },
     "execution_count": 21,
     "metadata": {},
     "output_type": "execute_result"
    }
   ],
   "source": [
    "summary.head()"
   ]
  },
  {
   "cell_type": "code",
   "execution_count": 22,
   "metadata": {},
   "outputs": [],
   "source": [
    "mse = (summary.error ** 2).mean()"
   ]
  },
  {
   "cell_type": "code",
   "execution_count": 23,
   "metadata": {},
   "outputs": [
    {
     "data": {
      "text/plain": [
       "36761456.352013245"
      ]
     },
     "execution_count": 23,
     "metadata": {},
     "output_type": "execute_result"
    }
   ],
   "source": [
    "mse"
   ]
  },
  {
   "cell_type": "code",
   "execution_count": 24,
   "metadata": {},
   "outputs": [
    {
     "ename": "NameError",
     "evalue": "name 'rmse' is not defined",
     "output_type": "error",
     "traceback": [
      "\u001b[0;31m---------------------------------------------------------------------\u001b[0m",
      "\u001b[0;31mNameError\u001b[0m                           Traceback (most recent call last)",
      "\u001b[0;32m<ipython-input-24-31b3c02e10e9>\u001b[0m in \u001b[0;36m<module>\u001b[0;34m()\u001b[0m\n\u001b[0;32m----> 1\u001b[0;31m \u001b[0mrmse\u001b[0m\u001b[0;34m\u001b[0m\u001b[0;34m\u001b[0m\u001b[0m\n\u001b[0m",
      "\u001b[0;31mNameError\u001b[0m: name 'rmse' is not defined"
     ]
    }
   ],
   "source": [
    "rmse"
   ]
  },
  {
   "cell_type": "code",
   "execution_count": 25,
   "metadata": {},
   "outputs": [],
   "source": [
    "sse = (summary.error ** 2).sum()"
   ]
  },
  {
   "cell_type": "code",
   "execution_count": 26,
   "metadata": {},
   "outputs": [],
   "source": [
    "sst = ((y_train.mean() - y_test) ** 2).sum()"
   ]
  },
  {
   "cell_type": "code",
   "execution_count": 27,
   "metadata": {},
   "outputs": [
    {
     "data": {
      "text/plain": [
       "0.7405997304511027"
      ]
     },
     "execution_count": 27,
     "metadata": {},
     "output_type": "execute_result"
    }
   ],
   "source": [
    "r2 = 1 - sse/sst\n",
    "r2"
   ]
  },
  {
   "cell_type": "code",
   "execution_count": 28,
   "metadata": {},
   "outputs": [],
   "source": [
    "from sklearn import metrics"
   ]
  },
  {
   "cell_type": "code",
   "execution_count": 29,
   "metadata": {},
   "outputs": [
    {
     "data": {
      "text/plain": [
       "0.7405989316927212"
      ]
     },
     "execution_count": 29,
     "metadata": {},
     "output_type": "execute_result"
    }
   ],
   "source": [
    "metrics.r2_score(y_test, y_test_pred)"
   ]
  },
  {
   "cell_type": "code",
   "execution_count": 30,
   "metadata": {},
   "outputs": [],
   "source": [
    "sst = ((y_test.mean() - y_test) ** 2).sum()"
   ]
  },
  {
   "cell_type": "code",
   "execution_count": 31,
   "metadata": {},
   "outputs": [
    {
     "data": {
      "text/plain": [
       "0.7405989316927213"
      ]
     },
     "execution_count": 31,
     "metadata": {},
     "output_type": "execute_result"
    }
   ],
   "source": [
    "r2 = 1 - sse/sst\n",
    "r2"
   ]
  },
  {
   "cell_type": "code",
   "execution_count": 32,
   "metadata": {},
   "outputs": [],
   "source": [
    "import matplotlib.pyplot as plt"
   ]
  },
  {
   "cell_type": "code",
   "execution_count": 33,
   "metadata": {},
   "outputs": [
    {
     "data": {
      "text/plain": [
       "<matplotlib.collections.LineCollection at 0x1a2285ed90>"
      ]
     },
     "execution_count": 33,
     "metadata": {},
     "output_type": "execute_result"
    },
    {
     "data": {
      "image/png": "[encoded data removed]",
      "text/plain": [
       "<Figure size 432x288 with 1 Axes>"
      ]
     },
     "metadata": {
      "needs_background": "light"
     },
     "output_type": "display_data"
    }
   ],
   "source": [
    "plt.scatter(summary.actual, summary.error)\n",
    "plt.hlines([0], 0, 60000, linestyles=\"--\", lw = 0.5)"
   ]
  },
  {
   "cell_type": "code",
   "execution_count": 34,
   "metadata": {},
   "outputs": [
    {
     "data": {
      "text/plain": [
       "<matplotlib.axes._subplots.AxesSubplot at 0x1a22f9e290>"
      ]
     },
     "execution_count": 34,
     "metadata": {},
     "output_type": "execute_result"
    },
    {
     "data": {
      "image/png": "[encoded data removed]",
      "text/plain": [
       "<Figure size 432x288 with 1 Axes>"
      ]
     },
     "metadata": {
      "needs_background": "light"
     },
     "output_type": "display_data"
    }
   ],
   "source": [
    "summary.error.plot.hist(bins = 50)"
   ]
  },
  {
   "cell_type": "code",
   "execution_count": 35,
   "metadata": {},
   "outputs": [
    {
     "name": "stdout",
     "output_type": "stream",
     "text": [
      "r2 training:  0.7545557492633161\n",
      "r2 test:  0.7405989316927212\n",
      "rmse train:  6039.6018713245385\n",
      "rmse test:  6063.12265685045\n"
     ]
    }
   ],
   "source": [
    "print(\"r2 training: \", metrics.r2_score(y_train, y_train_pred))\n",
    "print(\"r2 test: \", metrics.r2_score(y_test, y_test_pred))\n",
    "\n",
    "print(\"rmse train: \", metrics.mean_squared_error(y_train, y_train_pred) ** 0.5)\n",
    "print(\"rmse test: \", metrics.mean_squared_error(y_test, y_test_pred)** 0.5)"
   ]
  },
  {
   "cell_type": "code",
   "execution_count": 36,
   "metadata": {},
   "outputs": [
    {
     "name": "stdout",
     "output_type": "stream",
     "text": [
      "r2 training:  0.7545557492633161\n",
      "r2 test:  0.7405989316927211\n",
      "rmse train:  6039.6018713245385\n",
      "rmse test:  6063.122656850451\n"
     ]
    }
   ],
   "source": [
    "target = \"charges\"\n",
    "\n",
    "X = df.drop(columns=target)\n",
    "X_dummy = pd.get_dummies(X, drop_first=True)\n",
    "\n",
    "y = df[target]\n",
    "\n",
    "X_train, X_test, y_train, y_test = model_selection.train_test_split(\n",
    "    X_dummy, y , test_size = 0.3, random_state =1)\n",
    "\n",
    "scaler = preprocessing.StandardScaler()\n",
    "scaler.fit(X_train)\n",
    "X_train = scaler.transform(X_train)\n",
    "X_test = scaler.transform(X_test)\n",
    "\n",
    "est = linear_model.LinearRegression()\n",
    "est.fit(X_train, y_train)\n",
    "\n",
    "y_test_pred = est.predict(X_test)\n",
    "y_train_pred = est.predict(X_train)\n",
    "\n",
    "print(\"r2 training: \", metrics.r2_score(y_train, y_train_pred))\n",
    "print(\"r2 test: \", metrics.r2_score(y_test, y_test_pred))\n",
    "\n",
    "print(\"rmse train: \", metrics.mean_squared_error(y_train, y_train_pred) ** 0.5)\n",
    "print(\"rmse test: \", metrics.mean_squared_error(y_test, y_test_pred)** 0.5)\n",
    "\n",
    "\n"
   ]
  },
  {
   "cell_type": "code",
   "execution_count": 37,
   "metadata": {},
   "outputs": [
    {
     "data": {
      "text/html": [
       "<div>\n",
       "<style scoped>\n",
       "    .dataframe tbody tr th:only-of-type {\n",
       "        vertical-align: middle;\n",
       "    }\n",
       "\n",
       "    .dataframe tbody tr th {\n",
       "        vertical-align: top;\n",
       "    }\n",
       "\n",
       "    .dataframe thead th {\n",
       "        text-align: right;\n",
       "    }\n",
       "</style>\n",
       "<table border=\"1\" class=\"dataframe\">\n",
       "  <thead>\n",
       "    <tr style=\"text-align: right;\">\n",
       "      <th></th>\n",
       "      <th>feature</th>\n",
       "      <th>coeff</th>\n",
       "    </tr>\n",
       "  </thead>\n",
       "  <tbody>\n",
       "    <tr>\n",
       "      <td>0</td>\n",
       "      <td>age</td>\n",
       "      <td>3528.982731</td>\n",
       "    </tr>\n",
       "    <tr>\n",
       "      <td>1</td>\n",
       "      <td>bmi</td>\n",
       "      <td>1961.655208</td>\n",
       "    </tr>\n",
       "    <tr>\n",
       "      <td>2</td>\n",
       "      <td>children</td>\n",
       "      <td>421.550164</td>\n",
       "    </tr>\n",
       "    <tr>\n",
       "      <td>3</td>\n",
       "      <td>gender_male</td>\n",
       "      <td>-141.359110</td>\n",
       "    </tr>\n",
       "    <tr>\n",
       "      <td>4</td>\n",
       "      <td>smoker_yes</td>\n",
       "      <td>9733.786883</td>\n",
       "    </tr>\n",
       "    <tr>\n",
       "      <td>5</td>\n",
       "      <td>region_northwest</td>\n",
       "      <td>-129.545886</td>\n",
       "    </tr>\n",
       "    <tr>\n",
       "      <td>6</td>\n",
       "      <td>region_southeast</td>\n",
       "      <td>-414.541483</td>\n",
       "    </tr>\n",
       "    <tr>\n",
       "      <td>7</td>\n",
       "      <td>region_southwest</td>\n",
       "      <td>-379.095344</td>\n",
       "    </tr>\n",
       "  </tbody>\n",
       "</table>\n",
       "</div>"
      ],
      "text/plain": [
       "            feature       coeff \n",
       "0               age  3528.982731\n",
       "1               bmi  1961.655208\n",
       "2          children   421.550164\n",
       "3       gender_male  -141.359110\n",
       "4        smoker_yes  9733.786883\n",
       "5  region_northwest  -129.545886\n",
       "6  region_southeast  -414.541483\n",
       "7  region_southwest  -379.095344"
      ]
     },
     "execution_count": 37,
     "metadata": {},
     "output_type": "execute_result"
    }
   ],
   "source": [
    "pd.DataFrame({\"feature\": X_dummy.columns, \"coeff \":  est.coef_})"
   ]
  },
  {
   "cell_type": "code",
   "execution_count": 38,
   "metadata": {},
   "outputs": [
    {
     "data": {
      "text/html": [
       "<div>\n",
       "<style scoped>\n",
       "    .dataframe tbody tr th:only-of-type {\n",
       "        vertical-align: middle;\n",
       "    }\n",
       "\n",
       "    .dataframe tbody tr th {\n",
       "        vertical-align: top;\n",
       "    }\n",
       "\n",
       "    .dataframe thead th {\n",
       "        text-align: right;\n",
       "    }\n",
       "</style>\n",
       "<table border=\"1\" class=\"dataframe\">\n",
       "  <thead>\n",
       "    <tr style=\"text-align: right;\">\n",
       "      <th></th>\n",
       "      <th>age</th>\n",
       "      <th>bmi</th>\n",
       "      <th>children</th>\n",
       "      <th>gender_male</th>\n",
       "      <th>smoker_yes</th>\n",
       "      <th>region_northwest</th>\n",
       "      <th>region_southeast</th>\n",
       "      <th>region_southwest</th>\n",
       "    </tr>\n",
       "  </thead>\n",
       "  <tbody>\n",
       "    <tr>\n",
       "      <td>0</td>\n",
       "      <td>19</td>\n",
       "      <td>27.900</td>\n",
       "      <td>0</td>\n",
       "      <td>0</td>\n",
       "      <td>1</td>\n",
       "      <td>0</td>\n",
       "      <td>0</td>\n",
       "      <td>1</td>\n",
       "    </tr>\n",
       "    <tr>\n",
       "      <td>1</td>\n",
       "      <td>18</td>\n",
       "      <td>33.770</td>\n",
       "      <td>1</td>\n",
       "      <td>1</td>\n",
       "      <td>0</td>\n",
       "      <td>0</td>\n",
       "      <td>1</td>\n",
       "      <td>0</td>\n",
       "    </tr>\n",
       "    <tr>\n",
       "      <td>2</td>\n",
       "      <td>28</td>\n",
       "      <td>33.000</td>\n",
       "      <td>3</td>\n",
       "      <td>1</td>\n",
       "      <td>0</td>\n",
       "      <td>0</td>\n",
       "      <td>1</td>\n",
       "      <td>0</td>\n",
       "    </tr>\n",
       "    <tr>\n",
       "      <td>3</td>\n",
       "      <td>33</td>\n",
       "      <td>22.705</td>\n",
       "      <td>0</td>\n",
       "      <td>1</td>\n",
       "      <td>0</td>\n",
       "      <td>1</td>\n",
       "      <td>0</td>\n",
       "      <td>0</td>\n",
       "    </tr>\n",
       "    <tr>\n",
       "      <td>4</td>\n",
       "      <td>32</td>\n",
       "      <td>28.880</td>\n",
       "      <td>0</td>\n",
       "      <td>1</td>\n",
       "      <td>0</td>\n",
       "      <td>1</td>\n",
       "      <td>0</td>\n",
       "      <td>0</td>\n",
       "    </tr>\n",
       "    <tr>\n",
       "      <td>...</td>\n",
       "      <td>...</td>\n",
       "      <td>...</td>\n",
       "      <td>...</td>\n",
       "      <td>...</td>\n",
       "      <td>...</td>\n",
       "      <td>...</td>\n",
       "      <td>...</td>\n",
       "      <td>...</td>\n",
       "    </tr>\n",
       "    <tr>\n",
       "      <td>1333</td>\n",
       "      <td>50</td>\n",
       "      <td>30.970</td>\n",
       "      <td>3</td>\n",
       "      <td>1</td>\n",
       "      <td>0</td>\n",
       "      <td>1</td>\n",
       "      <td>0</td>\n",
       "      <td>0</td>\n",
       "    </tr>\n",
       "    <tr>\n",
       "      <td>1334</td>\n",
       "      <td>18</td>\n",
       "      <td>31.920</td>\n",
       "      <td>0</td>\n",
       "      <td>0</td>\n",
       "      <td>0</td>\n",
       "      <td>0</td>\n",
       "      <td>0</td>\n",
       "      <td>0</td>\n",
       "    </tr>\n",
       "    <tr>\n",
       "      <td>1335</td>\n",
       "      <td>18</td>\n",
       "      <td>36.850</td>\n",
       "      <td>0</td>\n",
       "      <td>0</td>\n",
       "      <td>0</td>\n",
       "      <td>0</td>\n",
       "      <td>1</td>\n",
       "      <td>0</td>\n",
       "    </tr>\n",
       "    <tr>\n",
       "      <td>1336</td>\n",
       "      <td>21</td>\n",
       "      <td>25.800</td>\n",
       "      <td>0</td>\n",
       "      <td>0</td>\n",
       "      <td>0</td>\n",
       "      <td>0</td>\n",
       "      <td>0</td>\n",
       "      <td>1</td>\n",
       "    </tr>\n",
       "    <tr>\n",
       "      <td>1337</td>\n",
       "      <td>61</td>\n",
       "      <td>29.070</td>\n",
       "      <td>0</td>\n",
       "      <td>0</td>\n",
       "      <td>1</td>\n",
       "      <td>1</td>\n",
       "      <td>0</td>\n",
       "      <td>0</td>\n",
       "    </tr>\n",
       "  </tbody>\n",
       "</table>\n",
       "<p>1338 rows × 8 columns</p>\n",
       "</div>"
      ],
      "text/plain": [
       "      age     bmi  children  gender_male  smoker_yes  region_northwest  \\\n",
       "0      19  27.900         0            0           1                 0   \n",
       "1      18  33.770         1            1           0                 0   \n",
       "2      28  33.000         3            1           0                 0   \n",
       "3      33  22.705         0            1           0                 1   \n",
       "4      32  28.880         0            1           0                 1   \n",
       "...   ...     ...       ...          ...         ...               ...   \n",
       "1333   50  30.970         3            1           0                 1   \n",
       "1334   18  31.920         0            0           0                 0   \n",
       "1335   18  36.850         0            0           0                 0   \n",
       "1336   21  25.800         0            0           0                 0   \n",
       "1337   61  29.070         0            0           1                 1   \n",
       "\n",
       "      region_southeast  region_southwest  \n",
       "0                    0                 1  \n",
       "1                    1                 0  \n",
       "2                    1                 0  \n",
       "3                    0                 0  \n",
       "4                    0                 0  \n",
       "...                ...               ...  \n",
       "1333                 0                 0  \n",
       "1334                 0                 0  \n",
       "1335                 1                 0  \n",
       "1336                 0                 1  \n",
       "1337                 0                 0  \n",
       "\n",
       "[1338 rows x 8 columns]"
      ]
     },
     "execution_count": 38,
     "metadata": {},
     "output_type": "execute_result"
    }
   ],
   "source": [
    "X_dummy"
   ]
  },
  {
   "cell_type": "code",
   "execution_count": 39,
   "metadata": {},
   "outputs": [
    {
     "name": "stdout",
     "output_type": "stream",
     "text": [
      "r2 training:  0.8318619149405777\n",
      "r2 test:  0.8673224620900684\n",
      "rmse train:  0.37725515061860054\n",
      "rmse test:  0.3340755865525741\n"
     ]
    }
   ],
   "source": [
    "target = \"charges\"\n",
    "\n",
    "X = df.drop(columns=target)\n",
    "X[\"high_bmi\"] = np.where(X.bmi>33, 1, 0)\n",
    "X[\"high_bmi\"] = np.where(X.age>60, 1, 0)\n",
    "X_dummy = pd.get_dummies(X, drop_first=True)\n",
    "\n",
    "y = np.log(df[target])\n",
    "\n",
    "X_train, X_test, y_train, y_test = model_selection.train_test_split(\n",
    "    X_dummy, y , test_size = 0.3, random_state =1)\n",
    "\n",
    "poly = preprocessing.PolynomialFeatures(degree=2, include_bias=False)\n",
    "X_train = poly.fit_transform(X_train)\n",
    "X_test = poly.transform(X_test)\n",
    "\n",
    "\n",
    "scaler = preprocessing.StandardScaler()\n",
    "scaler.fit(X_train)\n",
    "X_train = scaler.transform(X_train)\n",
    "X_test = scaler.transform(X_test)\n",
    "\n",
    "est = linear_model.LinearRegression()\n",
    "est.fit(X_train, y_train)\n",
    "\n",
    "y_test_pred = est.predict(X_test)\n",
    "y_train_pred = est.predict(X_train)\n",
    "\n",
    "print(\"r2 training: \", metrics.r2_score(y_train, y_train_pred))\n",
    "print(\"r2 test: \", metrics.r2_score(y_test, y_test_pred))\n",
    "\n",
    "print(\"rmse train: \", metrics.mean_squared_error(y_train, y_train_pred) ** 0.5)\n",
    "print(\"rmse test: \", metrics.mean_squared_error(y_test, y_test_pred)** 0.5)\n",
    "\n",
    "\n"
   ]
  },
  {
   "cell_type": "code",
   "execution_count": 40,
   "metadata": {},
   "outputs": [
    {
     "data": {
      "text/plain": [
       "<matplotlib.collections.LineCollection at 0x1a230e81d0>"
      ]
     },
     "execution_count": 40,
     "metadata": {},
     "output_type": "execute_result"
    },
    {
     "data": {
      "image/png": "[encoded data removed]",
      "text/plain": [
       "<Figure size 432x288 with 1 Axes>"
      ]
     },
     "metadata": {
      "needs_background": "light"
     },
     "output_type": "display_data"
    }
   ],
   "source": [
    "plt.scatter(y_test, y_test_pred - y_test)\n",
    "plt.hlines([0], y_test.min(), y_test.max(), linestyles=\"--\", lw = 0.5)"
   ]
  },
  {
   "cell_type": "code",
   "execution_count": 41,
   "metadata": {},
   "outputs": [
    {
     "data": {
      "image/png": "[encoded data removed]",
      "text/plain": [
       "<Figure size 432x288 with 1 Axes>"
      ]
     },
     "metadata": {
      "needs_background": "light"
     },
     "output_type": "display_data"
    }
   ],
   "source": [
    "plt.hist(y_test_pred - y_test, bins = 50);"
   ]
  },
  {
   "cell_type": "code",
   "execution_count": 42,
   "metadata": {},
   "outputs": [
    {
     "data": {
      "text/plain": [
       "array([[ 5.,  8.,  9., 25., 40., 45., 64., 72., 81.],\n",
       "       [ 5.,  0.,  0., 25.,  0.,  0.,  0.,  0.,  0.],\n",
       "       [ 1.,  7.,  6.,  1.,  7.,  6., 49., 42., 36.],\n",
       "       [ 9.,  2.,  4., 81., 18., 36.,  4.,  8., 16.]])"
      ]
     },
     "execution_count": 42,
     "metadata": {},
     "output_type": "execute_result"
    }
   ],
   "source": [
    "np.random.seed(1)\n",
    "poly = preprocessing.PolynomialFeatures(degree=2, include_bias=False)\n",
    "a = np.random.randint(0, 10, (4, 3))\n",
    "poly.fit_transform(a)"
   ]
  },
  {
   "cell_type": "code",
   "execution_count": 43,
   "metadata": {},
   "outputs": [
    {
     "data": {
      "text/plain": [
       "array([[5, 8, 9],\n",
       "       [5, 0, 0],\n",
       "       [1, 7, 6],\n",
       "       [9, 2, 4]])"
      ]
     },
     "execution_count": 43,
     "metadata": {},
     "output_type": "execute_result"
    }
   ],
   "source": [
    "a"
   ]
  },
  {
   "cell_type": "code",
   "execution_count": 44,
   "metadata": {},
   "outputs": [],
   "source": [
    "from sklearn import pipeline"
   ]
  },
  {
   "cell_type": "code",
   "execution_count": 46,
   "metadata": {},
   "outputs": [
    {
     "name": "stdout",
     "output_type": "stream",
     "text": [
      "r2 training:  0.848055304840746\n",
      "r2 test:  0.829374102275404\n",
      "rmse train:  0.35681738775713495\n",
      "rmse test:  0.38317424502744196\n"
     ]
    }
   ],
   "source": [
    "target = \"charges\"\n",
    "\n",
    "X = df.drop(columns=target)\n",
    "X[\"high_bmi\"] = np.where(X.bmi>33, 1, 0)\n",
    "X[\"high_bmi\"] = np.where(X.age>60, 1, 0)\n",
    "X_dummy = pd.get_dummies(X, drop_first=True)\n",
    "\n",
    "y = np.log(df[target])\n",
    "\n",
    "X_train, X_test, y_train, y_test = model_selection.train_test_split(\n",
    "    X_dummy, y , test_size = 0.3, random_state =1235674)\n",
    "\n",
    "pipe = pipeline.Pipeline([\n",
    "    (\"poly\", preprocessing.PolynomialFeatures(degree=2, include_bias=False)),\n",
    "    (\"scaler\", preprocessing.StandardScaler()),\n",
    "    (\"est\", linear_model.LinearRegression())\n",
    "])\n",
    "\n",
    "\n",
    "pipe.fit(X_train, y_train)\n",
    "\n",
    "y_test_pred = pipe.predict(X_test)\n",
    "y_train_pred = pipe.predict(X_train)\n",
    "\n",
    "print(\"r2 training: \", metrics.r2_score(y_train, y_train_pred))\n",
    "print(\"r2 test: \", metrics.r2_score(y_test, y_test_pred))\n",
    "\n",
    "print(\"rmse train: \", metrics.mean_squared_error(y_train, y_train_pred) ** 0.5)\n",
    "print(\"rmse test: \", metrics.mean_squared_error(y_test, y_test_pred)** 0.5)\n"
   ]
  },
  {
   "cell_type": "code",
   "execution_count": 49,
   "metadata": {},
   "outputs": [],
   "source": [
    "scores = model_selection.cross_val_score(pipe, X_train\n",
    "                        , y_train, cv=5, scoring = \"r2\")"
   ]
  },
  {
   "cell_type": "code",
   "execution_count": 50,
   "metadata": {},
   "outputs": [
    {
     "data": {
      "text/plain": [
       "array([0.87536682, 0.90795288, 0.76910075, 0.77609087, 0.85544986])"
      ]
     },
     "execution_count": 50,
     "metadata": {},
     "output_type": "execute_result"
    }
   ],
   "source": [
    "scores"
   ]
  },
  {
   "cell_type": "code",
   "execution_count": 52,
   "metadata": {},
   "outputs": [
    {
     "data": {
      "text/plain": [
       "(0.8367922331737786, 0.055075831642602595)"
      ]
     },
     "execution_count": 52,
     "metadata": {},
     "output_type": "execute_result"
    }
   ],
   "source": [
    "np.mean(scores), np.std(scores)"
   ]
  },
  {
   "cell_type": "code",
   "execution_count": 53,
   "metadata": {},
   "outputs": [
    {
     "data": {
      "text/plain": [
       "(0.8333448500481737, 0.06880203078527254)"
      ]
     },
     "execution_count": 53,
     "metadata": {},
     "output_type": "execute_result"
    }
   ],
   "source": [
    "scores = model_selection.cross_val_score(pipe, X_train\n",
    "                        , y_train, cv=10, scoring = \"r2\")\n",
    "np.mean(scores), np.std(scores)"
   ]
  },
  {
   "cell_type": "code",
   "execution_count": 55,
   "metadata": {},
   "outputs": [
    {
     "data": {
      "text/plain": [
       "array([0.001     , 0.00215443, 0.00464159, 0.01      , 0.02154435,\n",
       "       0.04641589, 0.1       , 0.21544347, 0.46415888, 1.        ])"
      ]
     },
     "execution_count": 55,
     "metadata": {},
     "output_type": "execute_result"
    }
   ],
   "source": [
    "10 ** np.linspace(-3, 0, 10)"
   ]
  },
  {
   "cell_type": "code",
   "execution_count": 57,
   "metadata": {},
   "outputs": [
    {
     "name": "stdout",
     "output_type": "stream",
     "text": [
      "Fitting 5 folds for each of 100 candidates, totalling 500 fits\n"
     ]
    },
    {
     "name": "stderr",
     "output_type": "stream",
     "text": [
      "[Parallel(n_jobs=8)]: Using backend LokyBackend with 8 concurrent workers.\n",
      "[Parallel(n_jobs=8)]: Done  34 tasks      | elapsed:    1.5s\n",
      "[Parallel(n_jobs=8)]: Done 500 out of 500 | elapsed:    2.5s finished\n",
      "/anaconda3/lib/python3.7/site-packages/sklearn/linear_model/coordinate_descent.py:475: ConvergenceWarning: Objective did not converge. You might want to increase the number of iterations. Duality gap: 1.0875199618934488, tolerance: 0.07843001994623755\n",
      "  positive)\n"
     ]
    },
    {
     "data": {
      "text/plain": [
       "GridSearchCV(cv=5, error_score='raise-deprecating',\n",
       "             estimator=Pipeline(memory=None,\n",
       "                                steps=[('poly',\n",
       "                                        PolynomialFeatures(degree=2,\n",
       "                                                           include_bias=False,\n",
       "                                                           interaction_only=False,\n",
       "                                                           order='C')),\n",
       "                                       ('scaler',\n",
       "                                        StandardScaler(copy=True,\n",
       "                                                       with_mean=True,\n",
       "                                                       with_std=True)),\n",
       "                                       ('est',\n",
       "                                        ElasticNet(alpha=1.0, copy_X=True,\n",
       "                                                   fit_intercept=True,\n",
       "                                                   l1_ratio=0.5, max_iter=1000,\n",
       "                                                   normalize=False,\n",
       "                                                   posi...\n",
       "                                verbose=False),\n",
       "             iid='warn', n_jobs=8,\n",
       "             param_grid={'est__alpha': array([0.001     , 0.00215443, 0.00464159, 0.01      , 0.02154435,\n",
       "       0.04641589, 0.1       , 0.21544347, 0.46415888, 1.        ]),\n",
       "                         'est__l1_ratio': array([0.        , 0.11111111, 0.22222222, 0.33333333, 0.44444444,\n",
       "       0.55555556, 0.66666667, 0.77777778, 0.88888889, 1.        ])},\n",
       "             pre_dispatch='2*n_jobs', refit=True, return_train_score=False,\n",
       "             scoring=None, verbose=True)"
      ]
     },
     "execution_count": 57,
     "metadata": {},
     "output_type": "execute_result"
    }
   ],
   "source": [
    "pipe = pipeline.Pipeline([\n",
    "    (\"poly\", preprocessing.PolynomialFeatures(degree=2, include_bias=False)),\n",
    "    (\"scaler\", preprocessing.StandardScaler()),\n",
    "    (\"est\", linear_model.ElasticNet())\n",
    "])\n",
    "\n",
    "\n",
    "param_grid = {\n",
    "    \"est__l1_ratio\": np.linspace(0, 1, 10),\n",
    "    \"est__alpha\": 10 ** np.linspace(-3, 0, 10)\n",
    "}\n",
    "\n",
    "gsearch = model_selection.GridSearchCV(pipe, param_grid\n",
    "            , cv = 5, verbose = True, n_jobs= 8 )\n",
    "\n",
    "gsearch.fit(X_train, y_train)"
   ]
  },
  {
   "cell_type": "code",
   "execution_count": 58,
   "metadata": {},
   "outputs": [
    {
     "data": {
      "text/plain": [
       "{'est__alpha': 0.001, 'est__l1_ratio': 0.6666666666666666}"
      ]
     },
     "execution_count": 58,
     "metadata": {},
     "output_type": "execute_result"
    }
   ],
   "source": [
    "gsearch.best_params_"
   ]
  },
  {
   "cell_type": "code",
   "execution_count": 60,
   "metadata": {},
   "outputs": [
    {
     "data": {
      "text/plain": [
       "0.8297512237321147"
      ]
     },
     "execution_count": 60,
     "metadata": {},
     "output_type": "execute_result"
    }
   ],
   "source": [
    "gsearch.best_estimator_.score(X_test, y_test)"
   ]
  },
  {
   "cell_type": "code",
   "execution_count": 61,
   "metadata": {},
   "outputs": [
    {
     "data": {
      "text/plain": [
       "0.8297512237321147"
      ]
     },
     "execution_count": 61,
     "metadata": {},
     "output_type": "execute_result"
    }
   ],
   "source": [
    "gsearch.score(X_test, y_test)"
   ]
  },
  {
   "cell_type": "code",
   "execution_count": 62,
   "metadata": {},
   "outputs": [],
   "source": [
    "import pickle"
   ]
  },
  {
   "cell_type": "code",
   "execution_count": 63,
   "metadata": {},
   "outputs": [],
   "source": [
    "with open(\"/tmp/model.pickle\", \"wb\") as f:\n",
    "    pickle.dump(gsearch, f)"
   ]
  },
  {
   "cell_type": "code",
   "execution_count": 66,
   "metadata": {},
   "outputs": [
    {
     "name": "stdout",
     "output_type": "stream",
     "text": [
      "-rw-r--r--  1 abasar  wheel    17K Sep 25 10:30 /tmp/model.pickle\r\n"
     ]
    }
   ],
   "source": [
    "!ls -lh /tmp/model.pickle"
   ]
  },
  {
   "cell_type": "code",
   "execution_count": 67,
   "metadata": {},
   "outputs": [],
   "source": [
    "with open(\"/tmp/model.pickle\", \"rb\") as f:\n",
    "    model = pickle.load(f)"
   ]
  },
  {
   "cell_type": "code",
   "execution_count": 68,
   "metadata": {},
   "outputs": [
    {
     "data": {
      "text/plain": [
       "0.8297512237321147"
      ]
     },
     "execution_count": 68,
     "metadata": {},
     "output_type": "execute_result"
    }
   ],
   "source": [
    "model.score(X_test, y_test)"
   ]
  },
  {
   "cell_type": "code",
   "execution_count": 70,
   "metadata": {},
   "outputs": [
    {
     "data": {
      "text/plain": [
       "array([12310.21489756, 17221.31507228,  1790.98638129, 14986.32728243,\n",
       "       10008.67182877,  8009.168756  , 22026.15840593,  8547.48560879,\n",
       "        3495.87461319, 13787.60831247, 11852.55150884, 12447.49014766,\n",
       "       26596.09749699, 15146.96672846,  8092.87313326,  4785.81606615,\n",
       "        6749.94721436, 11023.60350996,  5758.47771458,  8445.40432614,\n",
       "        7471.72458762, 12478.45289853,  6049.9169321 ,  3470.99250329,\n",
       "       32639.00154624,  3496.32025379,  2507.94753374, 10513.876596  ,\n",
       "       22239.47561225,  2929.50994652,  3415.04807403,  5242.90201782,\n",
       "        2144.4574002 ,  4508.78719468, 20002.0483428 , 13634.32033893,\n",
       "        9902.75460681, 38863.1150282 , 14947.58498442,  3928.07236126,\n",
       "        9164.37664895,  3643.05328048,  6173.22225952,  9692.33195024,\n",
       "        8000.69308468, 22163.1018122 , 41771.46339537,  5428.75545207,\n",
       "       31770.08388864,  3022.59503346, 30402.64263487, 39546.3632527 ,\n",
       "       13818.16968745,  4323.51790191,  4443.32206041,  5489.64419863,\n",
       "        5865.39201364,  4561.05025657,  1762.14342197, 27195.90390382,\n",
       "        7670.28683238,  2427.78016859, 11299.43964237,  2813.71713824,\n",
       "        5092.41866692,  8039.93709523, 46714.61053806, 13365.377322  ,\n",
       "        1710.56922993,  5849.30547854,  3389.66949775, 19508.11156093,\n",
       "       14743.60586188, 22165.76925274,  4080.83146247,  8620.45025905,\n",
       "        5490.53089242,  7111.23096956, 27662.17060573, 14654.78582527,\n",
       "        7084.97745385,  5267.85486514, 13637.6924576 ,  4689.83707209,\n",
       "        1915.79913838,  4681.90522548, 15166.96406516,  2396.38605785,\n",
       "        2198.21405851, 13330.10760551,  9168.39894236,  9427.57648551,\n",
       "        3148.77416801, 36395.31488249,  5789.5129888 ,  2604.17913917,\n",
       "       13137.65791031, 13750.76200974,  3864.40388675,  2486.38796639,\n",
       "        2038.09512592, 12675.20218316, 25573.78016384, 10113.31282464,\n",
       "        3238.84020877, 18255.69328832, 25241.4997448 ,  2768.48057018,\n",
       "        2688.52901155, 31891.20565409, 16079.77350762,  8661.90020046,\n",
       "        5095.43810395,  2771.1494174 , 13571.27711924,  2058.22615753,\n",
       "       14854.92690486,  4664.88896555,  7275.49010728,  4817.33163414,\n",
       "        4306.00864553, 40964.01331128, 19278.12795828,  7535.14747585,\n",
       "       14435.24362642, 17418.6948202 ,  2251.6034535 , 49721.14810063,\n",
       "        3334.32978074,  7195.61850558, 12678.12561301, 11837.13923995,\n",
       "        2894.93048159, 24548.36692787, 17607.33844027,  9903.76599217,\n",
       "       19701.98395445,  3196.94677542,  8991.54528918, 17684.29266398,\n",
       "       12760.77679282, 10289.87210104,  5122.57818464,  2781.38766359,\n",
       "       10728.92882814,  9349.08234307, 11940.73456221, 15788.11159355,\n",
       "       24231.83257235,  3275.70119675, 12912.28174366,  5360.55365011,\n",
       "        5863.6031764 , 14615.70727365, 19292.98428677, 15010.05358071,\n",
       "        4930.44231432, 12361.78349128,  5154.43799858,  8310.21081515,\n",
       "        8497.88195987,  5609.25905307, 11445.02159195,  4111.0464474 ,\n",
       "       14576.15312457,  8021.15189321, 19404.3794319 ,  1788.61042664,\n",
       "        2543.03261735,  5829.48969021,  7612.75516913,  8507.78628656,\n",
       "        2768.96760506,  5871.51129205,  4426.13291988, 14041.50657588,\n",
       "        9917.3569752 , 14665.98981771,  3946.1283513 ,  4707.48583031,\n",
       "        8169.98392429, 10732.9798644 , 24582.41953566,  7665.52992309,\n",
       "       12508.12665497, 11850.06750346,  3593.76302716,  8312.96060701,\n",
       "        5070.6839183 ,  2325.48764914,  1874.12935633,  2154.85433369,\n",
       "        4461.99096341,  5403.53522052, 12397.3782111 ,  2095.63478165,\n",
       "        4470.30281129, 15034.96010691,  6744.83167832, 12035.26757723,\n",
       "        3251.80964414, 23461.62511727,  6519.47900999, 21536.85967448,\n",
       "       12644.6680104 ,  8819.77268877, 19412.2885942 ,  7426.78828547,\n",
       "       19235.96293955, 44972.54865159,  2519.35226069, 13781.9783514 ,\n",
       "        1864.27968743, 14284.57747238,  8273.61099994,  3177.52183754,\n",
       "        8586.749996  , 11893.83779469,  2884.05961473, 10508.79444665,\n",
       "        6080.99528514,  8883.51344734, 28692.65141055, 11740.06695667,\n",
       "        1761.45962793,  9026.25938963, 39130.90301687,  9008.58218194,\n",
       "       13444.30726714, 23798.56485692, 59414.50337966,  9561.3189952 ,\n",
       "       20641.29861749, 12543.40384119,  4109.46976448,  7116.41237615,\n",
       "        1915.33402475,  5498.47485742,  5139.4851047 ,  5578.15149619,\n",
       "        6400.89641865, 30037.170035  , 10664.03573038, 12036.62492321,\n",
       "       39648.43999659, 25294.02786379,  2917.60109959, 20020.22835969,\n",
       "        2799.21171988, 10146.06888375,  7368.41032917, 24651.95935918,\n",
       "       13880.49277055, 10834.98731247,  9044.6515673 ,  1885.21200292,\n",
       "        4167.48838128, 27058.37315255, 13778.12040766,  2313.3565682 ,\n",
       "       22131.54258045,  9800.80219417,  1769.27461716, 28495.2594689 ,\n",
       "        5005.09895006, 13473.86437002, 10669.67243557,  6789.47983948,\n",
       "        2655.16777419, 11008.93267935,  5304.2352142 , 10726.50763729,\n",
       "        9922.35278919, 32982.65197305,  2700.20633806, 36021.71113098,\n",
       "        3799.02430197, 13781.98028114, 10280.98918418, 29523.80430513,\n",
       "        3898.45412247, 12530.93834281, 30220.39118131,  2247.37961084,\n",
       "       27338.15873051, 33738.42405077,  3265.94774808,  6559.92895698,\n",
       "        2304.37062653, 12542.96804808, 21681.16053258,  3778.46632483,\n",
       "       13066.02133336, 11929.96269443, 11950.3008213 ,  7026.61439484,\n",
       "       12804.66039686,  4982.57191557,  6668.57744111,  7846.22587128,\n",
       "        6583.51552339,  1998.94696739, 36168.23082376,  3788.39372149,\n",
       "       44405.40266664,  3963.60456452,  5764.5749257 ,  2155.17984269,\n",
       "       10761.65691961, 34222.88176551, 11828.79628339, 60388.40636129,\n",
       "       14226.896     ,  4101.30860161, 11482.58941709,  3098.81912063,\n",
       "        6845.744414  , 15321.37851393,  3969.35506823, 10023.33505897,\n",
       "        7773.71695716, 14251.17867919, 44958.33068685,  7712.14526627,\n",
       "       15542.61496571, 12298.94981384, 13904.3670792 ,  2680.12646333,\n",
       "       13315.13450426,  6746.26840031, 67219.52280172, 13707.3065457 ,\n",
       "        3035.35725879, 15044.70673159, 10651.84538538, 18082.07993279,\n",
       "       10769.88506412,  6089.36083148,  3712.30080552, 14836.65567712,\n",
       "        8399.6221043 , 26772.58816021,  8991.74498559, 45238.56011634,\n",
       "        6667.52803114, 13593.82048794, 34635.72920603, 30710.22864292,\n",
       "       14897.17445682,  6567.40190678,  3179.82090083,  8257.59962391,\n",
       "       29612.14744984, 12322.18068147, 24545.98137342, 11318.70816863,\n",
       "       19509.68857517, 14850.41767129, 11275.89336654,  2510.14737914,\n",
       "       11292.03694461,  6184.13474274, 33558.28109742, 28667.96792948,\n",
       "       40612.70311444,  8827.37440079, 13671.78722601, 13840.15569472,\n",
       "       11165.20076169,  3530.14431473,  2617.59592015,  6743.08726578,\n",
       "       25204.54463945, 11788.94917374,  4521.23440022,  4717.78975135,\n",
       "        6025.58585142,  7999.2373931 ,  6383.39063238,  4744.26068588,\n",
       "        6390.10787885,  6194.74631581,  5535.41718582, 10280.09291346,\n",
       "        7246.91516433, 27299.0844896 ,  2329.25439191, 14828.05436235,\n",
       "        9713.78939021,  3848.45576346,  2983.76182225, 12482.92466362,\n",
       "       41013.40326942, 13346.11599018,  2218.93577438, 15673.33658497,\n",
       "        1795.97504914,  5755.87287319, 27618.55815616, 28122.93942952,\n",
       "        4660.64166437,  3005.65208253])"
      ]
     },
     "execution_count": 70,
     "metadata": {},
     "output_type": "execute_result"
    }
   ],
   "source": [
    "np.power(np.e, model.predict(X_test))"
   ]
  },
  {
   "cell_type": "code",
   "execution_count": 77,
   "metadata": {},
   "outputs": [
    {
     "data": {
      "text/plain": [
       "[('age', 'int64'),\n",
       " ('gender', 'object'),\n",
       " ('bmi', 'float64'),\n",
       " ('children', 'int64'),\n",
       " ('smoker', 'object'),\n",
       " ('region', 'object'),\n",
       " ('charges', 'float64')]"
      ]
     },
     "execution_count": 77,
     "metadata": {},
     "output_type": "execute_result"
    }
   ],
   "source": [
    "[(c, str(df.dtypes[c]))  for c in df.dtypes.index]"
   ]
  },
  {
   "cell_type": "code",
   "execution_count": 80,
   "metadata": {},
   "outputs": [
    {
     "data": {
      "text/plain": [
       "['gender', 'smoker', 'region']"
      ]
     },
     "execution_count": 80,
     "metadata": {},
     "output_type": "execute_result"
    }
   ],
   "source": [
    "cat_features = [c  for c in df.dtypes.index if str(df.dtypes[c]) == \"object\"]"
   ]
  },
  {
   "cell_type": "code",
   "execution_count": 81,
   "metadata": {},
   "outputs": [],
   "source": [
    "num_features = [c  for c in df.dtypes.index if str(df.dtypes[c]) != \"object\"]"
   ]
  },
  {
   "cell_type": "code",
   "execution_count": 82,
   "metadata": {},
   "outputs": [
    {
     "data": {
      "text/plain": [
       "['age', 'bmi', 'children', 'charges']"
      ]
     },
     "execution_count": 82,
     "metadata": {},
     "output_type": "execute_result"
    }
   ],
   "source": [
    "num_features"
   ]
  },
  {
   "cell_type": "code",
   "execution_count": null,
   "metadata": {},
   "outputs": [],
   "source": []
  }
 ],
 "metadata": {
  "kernelspec": {
   "display_name": "Python 3",
   "language": "python",
   "name": "python3"
  },
  "language_info": {
   "codemirror_mode": {
    "name": "ipython",
    "version": 3
   },
   "file_extension": ".py",
   "mimetype": "text/x-python",
   "name": "python",
   "nbconvert_exporter": "python",
   "pygments_lexer": "ipython3",
   "version": "3.7.4"
  }
 },
 "nbformat": 4,
 "nbformat_minor": 2
}
