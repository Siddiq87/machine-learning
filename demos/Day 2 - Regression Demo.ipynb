{
 "cells": [
  {
   "cell_type": "code",
   "execution_count": 1,
   "metadata": {},
   "outputs": [],
   "source": [
    "import pandas as pd"
   ]
  },
  {
   "cell_type": "code",
   "execution_count": 3,
   "metadata": {},
   "outputs": [],
   "source": [
    "df = pd.read_csv(\"~/data/diamonds.csv\")"
   ]
  },
  {
   "cell_type": "code",
   "execution_count": 4,
   "metadata": {},
   "outputs": [
    {
     "data": {
      "text/html": [
       "<div>\n",
       "<style scoped>\n",
       "    .dataframe tbody tr th:only-of-type {\n",
       "        vertical-align: middle;\n",
       "    }\n",
       "\n",
       "    .dataframe tbody tr th {\n",
       "        vertical-align: top;\n",
       "    }\n",
       "\n",
       "    .dataframe thead th {\n",
       "        text-align: right;\n",
       "    }\n",
       "</style>\n",
       "<table border=\"1\" class=\"dataframe\">\n",
       "  <thead>\n",
       "    <tr style=\"text-align: right;\">\n",
       "      <th></th>\n",
       "      <th>carat</th>\n",
       "      <th>cut</th>\n",
       "      <th>color</th>\n",
       "      <th>clarity</th>\n",
       "      <th>depth</th>\n",
       "      <th>table</th>\n",
       "      <th>price</th>\n",
       "      <th>x</th>\n",
       "      <th>y</th>\n",
       "      <th>z</th>\n",
       "    </tr>\n",
       "  </thead>\n",
       "  <tbody>\n",
       "    <tr>\n",
       "      <th>0</th>\n",
       "      <td>0.23</td>\n",
       "      <td>Ideal</td>\n",
       "      <td>E</td>\n",
       "      <td>SI2</td>\n",
       "      <td>61.5</td>\n",
       "      <td>55.0</td>\n",
       "      <td>326</td>\n",
       "      <td>3.95</td>\n",
       "      <td>3.98</td>\n",
       "      <td>2.43</td>\n",
       "    </tr>\n",
       "    <tr>\n",
       "      <th>1</th>\n",
       "      <td>0.21</td>\n",
       "      <td>Premium</td>\n",
       "      <td>E</td>\n",
       "      <td>SI1</td>\n",
       "      <td>59.8</td>\n",
       "      <td>61.0</td>\n",
       "      <td>326</td>\n",
       "      <td>3.89</td>\n",
       "      <td>3.84</td>\n",
       "      <td>2.31</td>\n",
       "    </tr>\n",
       "    <tr>\n",
       "      <th>2</th>\n",
       "      <td>0.23</td>\n",
       "      <td>Good</td>\n",
       "      <td>E</td>\n",
       "      <td>VS1</td>\n",
       "      <td>56.9</td>\n",
       "      <td>65.0</td>\n",
       "      <td>327</td>\n",
       "      <td>4.05</td>\n",
       "      <td>4.07</td>\n",
       "      <td>2.31</td>\n",
       "    </tr>\n",
       "    <tr>\n",
       "      <th>3</th>\n",
       "      <td>0.29</td>\n",
       "      <td>Premium</td>\n",
       "      <td>I</td>\n",
       "      <td>VS2</td>\n",
       "      <td>62.4</td>\n",
       "      <td>58.0</td>\n",
       "      <td>334</td>\n",
       "      <td>4.20</td>\n",
       "      <td>4.23</td>\n",
       "      <td>2.63</td>\n",
       "    </tr>\n",
       "    <tr>\n",
       "      <th>4</th>\n",
       "      <td>0.31</td>\n",
       "      <td>Good</td>\n",
       "      <td>J</td>\n",
       "      <td>SI2</td>\n",
       "      <td>63.3</td>\n",
       "      <td>58.0</td>\n",
       "      <td>335</td>\n",
       "      <td>4.34</td>\n",
       "      <td>4.35</td>\n",
       "      <td>2.75</td>\n",
       "    </tr>\n",
       "  </tbody>\n",
       "</table>\n",
       "</div>"
      ],
      "text/plain": [
       "   carat      cut color clarity  depth  table  price     x     y     z\n",
       "0   0.23    Ideal     E     SI2   61.5   55.0    326  3.95  3.98  2.43\n",
       "1   0.21  Premium     E     SI1   59.8   61.0    326  3.89  3.84  2.31\n",
       "2   0.23     Good     E     VS1   56.9   65.0    327  4.05  4.07  2.31\n",
       "3   0.29  Premium     I     VS2   62.4   58.0    334  4.20  4.23  2.63\n",
       "4   0.31     Good     J     SI2   63.3   58.0    335  4.34  4.35  2.75"
      ]
     },
     "execution_count": 4,
     "metadata": {},
     "output_type": "execute_result"
    }
   ],
   "source": [
    "df.head()"
   ]
  },
  {
   "cell_type": "code",
   "execution_count": 5,
   "metadata": {},
   "outputs": [],
   "source": [
    "target = \"price\""
   ]
  },
  {
   "cell_type": "code",
   "execution_count": 6,
   "metadata": {},
   "outputs": [],
   "source": [
    "y = df[target]\n",
    "X = df.drop(columns = target)"
   ]
  },
  {
   "cell_type": "code",
   "execution_count": 7,
   "metadata": {},
   "outputs": [
    {
     "data": {
      "text/plain": [
       "0         326\n",
       "1         326\n",
       "2         327\n",
       "3         334\n",
       "4         335\n",
       "         ... \n",
       "53935    2757\n",
       "53936    2757\n",
       "53937    2757\n",
       "53938    2757\n",
       "53939    2757\n",
       "Name: price, Length: 53940, dtype: int64"
      ]
     },
     "execution_count": 7,
     "metadata": {},
     "output_type": "execute_result"
    }
   ],
   "source": [
    "y"
   ]
  },
  {
   "cell_type": "code",
   "execution_count": 9,
   "metadata": {},
   "outputs": [
    {
     "data": {
      "text/html": [
       "<div>\n",
       "<style scoped>\n",
       "    .dataframe tbody tr th:only-of-type {\n",
       "        vertical-align: middle;\n",
       "    }\n",
       "\n",
       "    .dataframe tbody tr th {\n",
       "        vertical-align: top;\n",
       "    }\n",
       "\n",
       "    .dataframe thead th {\n",
       "        text-align: right;\n",
       "    }\n",
       "</style>\n",
       "<table border=\"1\" class=\"dataframe\">\n",
       "  <thead>\n",
       "    <tr style=\"text-align: right;\">\n",
       "      <th></th>\n",
       "      <th>carat</th>\n",
       "      <th>cut</th>\n",
       "      <th>color</th>\n",
       "      <th>clarity</th>\n",
       "      <th>depth</th>\n",
       "      <th>table</th>\n",
       "      <th>x</th>\n",
       "      <th>y</th>\n",
       "      <th>z</th>\n",
       "    </tr>\n",
       "  </thead>\n",
       "  <tbody>\n",
       "    <tr>\n",
       "      <th>0</th>\n",
       "      <td>0.23</td>\n",
       "      <td>Ideal</td>\n",
       "      <td>E</td>\n",
       "      <td>SI2</td>\n",
       "      <td>61.5</td>\n",
       "      <td>55.0</td>\n",
       "      <td>3.95</td>\n",
       "      <td>3.98</td>\n",
       "      <td>2.43</td>\n",
       "    </tr>\n",
       "    <tr>\n",
       "      <th>1</th>\n",
       "      <td>0.21</td>\n",
       "      <td>Premium</td>\n",
       "      <td>E</td>\n",
       "      <td>SI1</td>\n",
       "      <td>59.8</td>\n",
       "      <td>61.0</td>\n",
       "      <td>3.89</td>\n",
       "      <td>3.84</td>\n",
       "      <td>2.31</td>\n",
       "    </tr>\n",
       "    <tr>\n",
       "      <th>2</th>\n",
       "      <td>0.23</td>\n",
       "      <td>Good</td>\n",
       "      <td>E</td>\n",
       "      <td>VS1</td>\n",
       "      <td>56.9</td>\n",
       "      <td>65.0</td>\n",
       "      <td>4.05</td>\n",
       "      <td>4.07</td>\n",
       "      <td>2.31</td>\n",
       "    </tr>\n",
       "    <tr>\n",
       "      <th>3</th>\n",
       "      <td>0.29</td>\n",
       "      <td>Premium</td>\n",
       "      <td>I</td>\n",
       "      <td>VS2</td>\n",
       "      <td>62.4</td>\n",
       "      <td>58.0</td>\n",
       "      <td>4.20</td>\n",
       "      <td>4.23</td>\n",
       "      <td>2.63</td>\n",
       "    </tr>\n",
       "    <tr>\n",
       "      <th>4</th>\n",
       "      <td>0.31</td>\n",
       "      <td>Good</td>\n",
       "      <td>J</td>\n",
       "      <td>SI2</td>\n",
       "      <td>63.3</td>\n",
       "      <td>58.0</td>\n",
       "      <td>4.34</td>\n",
       "      <td>4.35</td>\n",
       "      <td>2.75</td>\n",
       "    </tr>\n",
       "    <tr>\n",
       "      <th>...</th>\n",
       "      <td>...</td>\n",
       "      <td>...</td>\n",
       "      <td>...</td>\n",
       "      <td>...</td>\n",
       "      <td>...</td>\n",
       "      <td>...</td>\n",
       "      <td>...</td>\n",
       "      <td>...</td>\n",
       "      <td>...</td>\n",
       "    </tr>\n",
       "    <tr>\n",
       "      <th>53935</th>\n",
       "      <td>0.72</td>\n",
       "      <td>Ideal</td>\n",
       "      <td>D</td>\n",
       "      <td>SI1</td>\n",
       "      <td>60.8</td>\n",
       "      <td>57.0</td>\n",
       "      <td>5.75</td>\n",
       "      <td>5.76</td>\n",
       "      <td>3.50</td>\n",
       "    </tr>\n",
       "    <tr>\n",
       "      <th>53936</th>\n",
       "      <td>0.72</td>\n",
       "      <td>Good</td>\n",
       "      <td>D</td>\n",
       "      <td>SI1</td>\n",
       "      <td>63.1</td>\n",
       "      <td>55.0</td>\n",
       "      <td>5.69</td>\n",
       "      <td>5.75</td>\n",
       "      <td>3.61</td>\n",
       "    </tr>\n",
       "    <tr>\n",
       "      <th>53937</th>\n",
       "      <td>0.70</td>\n",
       "      <td>Very Good</td>\n",
       "      <td>D</td>\n",
       "      <td>SI1</td>\n",
       "      <td>62.8</td>\n",
       "      <td>60.0</td>\n",
       "      <td>5.66</td>\n",
       "      <td>5.68</td>\n",
       "      <td>3.56</td>\n",
       "    </tr>\n",
       "    <tr>\n",
       "      <th>53938</th>\n",
       "      <td>0.86</td>\n",
       "      <td>Premium</td>\n",
       "      <td>H</td>\n",
       "      <td>SI2</td>\n",
       "      <td>61.0</td>\n",
       "      <td>58.0</td>\n",
       "      <td>6.15</td>\n",
       "      <td>6.12</td>\n",
       "      <td>3.74</td>\n",
       "    </tr>\n",
       "    <tr>\n",
       "      <th>53939</th>\n",
       "      <td>0.75</td>\n",
       "      <td>Ideal</td>\n",
       "      <td>D</td>\n",
       "      <td>SI2</td>\n",
       "      <td>62.2</td>\n",
       "      <td>55.0</td>\n",
       "      <td>5.83</td>\n",
       "      <td>5.87</td>\n",
       "      <td>3.64</td>\n",
       "    </tr>\n",
       "  </tbody>\n",
       "</table>\n",
       "<p>53940 rows × 9 columns</p>\n",
       "</div>"
      ],
      "text/plain": [
       "       carat        cut color clarity  depth  table     x     y     z\n",
       "0       0.23      Ideal     E     SI2   61.5   55.0  3.95  3.98  2.43\n",
       "1       0.21    Premium     E     SI1   59.8   61.0  3.89  3.84  2.31\n",
       "2       0.23       Good     E     VS1   56.9   65.0  4.05  4.07  2.31\n",
       "3       0.29    Premium     I     VS2   62.4   58.0  4.20  4.23  2.63\n",
       "4       0.31       Good     J     SI2   63.3   58.0  4.34  4.35  2.75\n",
       "...      ...        ...   ...     ...    ...    ...   ...   ...   ...\n",
       "53935   0.72      Ideal     D     SI1   60.8   57.0  5.75  5.76  3.50\n",
       "53936   0.72       Good     D     SI1   63.1   55.0  5.69  5.75  3.61\n",
       "53937   0.70  Very Good     D     SI1   62.8   60.0  5.66  5.68  3.56\n",
       "53938   0.86    Premium     H     SI2   61.0   58.0  6.15  6.12  3.74\n",
       "53939   0.75      Ideal     D     SI2   62.2   55.0  5.83  5.87  3.64\n",
       "\n",
       "[53940 rows x 9 columns]"
      ]
     },
     "execution_count": 9,
     "metadata": {},
     "output_type": "execute_result"
    }
   ],
   "source": [
    "X"
   ]
  },
  {
   "cell_type": "code",
   "execution_count": 14,
   "metadata": {},
   "outputs": [
    {
     "data": {
      "text/html": [
       "<div>\n",
       "<style scoped>\n",
       "    .dataframe tbody tr th:only-of-type {\n",
       "        vertical-align: middle;\n",
       "    }\n",
       "\n",
       "    .dataframe tbody tr th {\n",
       "        vertical-align: top;\n",
       "    }\n",
       "\n",
       "    .dataframe thead th {\n",
       "        text-align: right;\n",
       "    }\n",
       "</style>\n",
       "<table border=\"1\" class=\"dataframe\">\n",
       "  <thead>\n",
       "    <tr style=\"text-align: right;\">\n",
       "      <th></th>\n",
       "      <th>carat</th>\n",
       "      <th>depth</th>\n",
       "      <th>table</th>\n",
       "      <th>x</th>\n",
       "      <th>y</th>\n",
       "      <th>z</th>\n",
       "      <th>cut_Good</th>\n",
       "      <th>cut_Ideal</th>\n",
       "      <th>cut_Premium</th>\n",
       "      <th>cut_Very Good</th>\n",
       "      <th>...</th>\n",
       "      <th>color_H</th>\n",
       "      <th>color_I</th>\n",
       "      <th>color_J</th>\n",
       "      <th>clarity_IF</th>\n",
       "      <th>clarity_SI1</th>\n",
       "      <th>clarity_SI2</th>\n",
       "      <th>clarity_VS1</th>\n",
       "      <th>clarity_VS2</th>\n",
       "      <th>clarity_VVS1</th>\n",
       "      <th>clarity_VVS2</th>\n",
       "    </tr>\n",
       "  </thead>\n",
       "  <tbody>\n",
       "    <tr>\n",
       "      <th>0</th>\n",
       "      <td>0.23</td>\n",
       "      <td>61.5</td>\n",
       "      <td>55.0</td>\n",
       "      <td>3.95</td>\n",
       "      <td>3.98</td>\n",
       "      <td>2.43</td>\n",
       "      <td>0</td>\n",
       "      <td>1</td>\n",
       "      <td>0</td>\n",
       "      <td>0</td>\n",
       "      <td>...</td>\n",
       "      <td>0</td>\n",
       "      <td>0</td>\n",
       "      <td>0</td>\n",
       "      <td>0</td>\n",
       "      <td>0</td>\n",
       "      <td>1</td>\n",
       "      <td>0</td>\n",
       "      <td>0</td>\n",
       "      <td>0</td>\n",
       "      <td>0</td>\n",
       "    </tr>\n",
       "    <tr>\n",
       "      <th>1</th>\n",
       "      <td>0.21</td>\n",
       "      <td>59.8</td>\n",
       "      <td>61.0</td>\n",
       "      <td>3.89</td>\n",
       "      <td>3.84</td>\n",
       "      <td>2.31</td>\n",
       "      <td>0</td>\n",
       "      <td>0</td>\n",
       "      <td>1</td>\n",
       "      <td>0</td>\n",
       "      <td>...</td>\n",
       "      <td>0</td>\n",
       "      <td>0</td>\n",
       "      <td>0</td>\n",
       "      <td>0</td>\n",
       "      <td>1</td>\n",
       "      <td>0</td>\n",
       "      <td>0</td>\n",
       "      <td>0</td>\n",
       "      <td>0</td>\n",
       "      <td>0</td>\n",
       "    </tr>\n",
       "    <tr>\n",
       "      <th>2</th>\n",
       "      <td>0.23</td>\n",
       "      <td>56.9</td>\n",
       "      <td>65.0</td>\n",
       "      <td>4.05</td>\n",
       "      <td>4.07</td>\n",
       "      <td>2.31</td>\n",
       "      <td>1</td>\n",
       "      <td>0</td>\n",
       "      <td>0</td>\n",
       "      <td>0</td>\n",
       "      <td>...</td>\n",
       "      <td>0</td>\n",
       "      <td>0</td>\n",
       "      <td>0</td>\n",
       "      <td>0</td>\n",
       "      <td>0</td>\n",
       "      <td>0</td>\n",
       "      <td>1</td>\n",
       "      <td>0</td>\n",
       "      <td>0</td>\n",
       "      <td>0</td>\n",
       "    </tr>\n",
       "    <tr>\n",
       "      <th>3</th>\n",
       "      <td>0.29</td>\n",
       "      <td>62.4</td>\n",
       "      <td>58.0</td>\n",
       "      <td>4.20</td>\n",
       "      <td>4.23</td>\n",
       "      <td>2.63</td>\n",
       "      <td>0</td>\n",
       "      <td>0</td>\n",
       "      <td>1</td>\n",
       "      <td>0</td>\n",
       "      <td>...</td>\n",
       "      <td>0</td>\n",
       "      <td>1</td>\n",
       "      <td>0</td>\n",
       "      <td>0</td>\n",
       "      <td>0</td>\n",
       "      <td>0</td>\n",
       "      <td>0</td>\n",
       "      <td>1</td>\n",
       "      <td>0</td>\n",
       "      <td>0</td>\n",
       "    </tr>\n",
       "    <tr>\n",
       "      <th>4</th>\n",
       "      <td>0.31</td>\n",
       "      <td>63.3</td>\n",
       "      <td>58.0</td>\n",
       "      <td>4.34</td>\n",
       "      <td>4.35</td>\n",
       "      <td>2.75</td>\n",
       "      <td>1</td>\n",
       "      <td>0</td>\n",
       "      <td>0</td>\n",
       "      <td>0</td>\n",
       "      <td>...</td>\n",
       "      <td>0</td>\n",
       "      <td>0</td>\n",
       "      <td>1</td>\n",
       "      <td>0</td>\n",
       "      <td>0</td>\n",
       "      <td>1</td>\n",
       "      <td>0</td>\n",
       "      <td>0</td>\n",
       "      <td>0</td>\n",
       "      <td>0</td>\n",
       "    </tr>\n",
       "    <tr>\n",
       "      <th>...</th>\n",
       "      <td>...</td>\n",
       "      <td>...</td>\n",
       "      <td>...</td>\n",
       "      <td>...</td>\n",
       "      <td>...</td>\n",
       "      <td>...</td>\n",
       "      <td>...</td>\n",
       "      <td>...</td>\n",
       "      <td>...</td>\n",
       "      <td>...</td>\n",
       "      <td>...</td>\n",
       "      <td>...</td>\n",
       "      <td>...</td>\n",
       "      <td>...</td>\n",
       "      <td>...</td>\n",
       "      <td>...</td>\n",
       "      <td>...</td>\n",
       "      <td>...</td>\n",
       "      <td>...</td>\n",
       "      <td>...</td>\n",
       "      <td>...</td>\n",
       "    </tr>\n",
       "    <tr>\n",
       "      <th>53935</th>\n",
       "      <td>0.72</td>\n",
       "      <td>60.8</td>\n",
       "      <td>57.0</td>\n",
       "      <td>5.75</td>\n",
       "      <td>5.76</td>\n",
       "      <td>3.50</td>\n",
       "      <td>0</td>\n",
       "      <td>1</td>\n",
       "      <td>0</td>\n",
       "      <td>0</td>\n",
       "      <td>...</td>\n",
       "      <td>0</td>\n",
       "      <td>0</td>\n",
       "      <td>0</td>\n",
       "      <td>0</td>\n",
       "      <td>1</td>\n",
       "      <td>0</td>\n",
       "      <td>0</td>\n",
       "      <td>0</td>\n",
       "      <td>0</td>\n",
       "      <td>0</td>\n",
       "    </tr>\n",
       "    <tr>\n",
       "      <th>53936</th>\n",
       "      <td>0.72</td>\n",
       "      <td>63.1</td>\n",
       "      <td>55.0</td>\n",
       "      <td>5.69</td>\n",
       "      <td>5.75</td>\n",
       "      <td>3.61</td>\n",
       "      <td>1</td>\n",
       "      <td>0</td>\n",
       "      <td>0</td>\n",
       "      <td>0</td>\n",
       "      <td>...</td>\n",
       "      <td>0</td>\n",
       "      <td>0</td>\n",
       "      <td>0</td>\n",
       "      <td>0</td>\n",
       "      <td>1</td>\n",
       "      <td>0</td>\n",
       "      <td>0</td>\n",
       "      <td>0</td>\n",
       "      <td>0</td>\n",
       "      <td>0</td>\n",
       "    </tr>\n",
       "    <tr>\n",
       "      <th>53937</th>\n",
       "      <td>0.70</td>\n",
       "      <td>62.8</td>\n",
       "      <td>60.0</td>\n",
       "      <td>5.66</td>\n",
       "      <td>5.68</td>\n",
       "      <td>3.56</td>\n",
       "      <td>0</td>\n",
       "      <td>0</td>\n",
       "      <td>0</td>\n",
       "      <td>1</td>\n",
       "      <td>...</td>\n",
       "      <td>0</td>\n",
       "      <td>0</td>\n",
       "      <td>0</td>\n",
       "      <td>0</td>\n",
       "      <td>1</td>\n",
       "      <td>0</td>\n",
       "      <td>0</td>\n",
       "      <td>0</td>\n",
       "      <td>0</td>\n",
       "      <td>0</td>\n",
       "    </tr>\n",
       "    <tr>\n",
       "      <th>53938</th>\n",
       "      <td>0.86</td>\n",
       "      <td>61.0</td>\n",
       "      <td>58.0</td>\n",
       "      <td>6.15</td>\n",
       "      <td>6.12</td>\n",
       "      <td>3.74</td>\n",
       "      <td>0</td>\n",
       "      <td>0</td>\n",
       "      <td>1</td>\n",
       "      <td>0</td>\n",
       "      <td>...</td>\n",
       "      <td>1</td>\n",
       "      <td>0</td>\n",
       "      <td>0</td>\n",
       "      <td>0</td>\n",
       "      <td>0</td>\n",
       "      <td>1</td>\n",
       "      <td>0</td>\n",
       "      <td>0</td>\n",
       "      <td>0</td>\n",
       "      <td>0</td>\n",
       "    </tr>\n",
       "    <tr>\n",
       "      <th>53939</th>\n",
       "      <td>0.75</td>\n",
       "      <td>62.2</td>\n",
       "      <td>55.0</td>\n",
       "      <td>5.83</td>\n",
       "      <td>5.87</td>\n",
       "      <td>3.64</td>\n",
       "      <td>0</td>\n",
       "      <td>1</td>\n",
       "      <td>0</td>\n",
       "      <td>0</td>\n",
       "      <td>...</td>\n",
       "      <td>0</td>\n",
       "      <td>0</td>\n",
       "      <td>0</td>\n",
       "      <td>0</td>\n",
       "      <td>0</td>\n",
       "      <td>1</td>\n",
       "      <td>0</td>\n",
       "      <td>0</td>\n",
       "      <td>0</td>\n",
       "      <td>0</td>\n",
       "    </tr>\n",
       "  </tbody>\n",
       "</table>\n",
       "<p>53940 rows × 23 columns</p>\n",
       "</div>"
      ],
      "text/plain": [
       "       carat  depth  table     x     y     z  cut_Good  cut_Ideal  \\\n",
       "0       0.23   61.5   55.0  3.95  3.98  2.43         0          1   \n",
       "1       0.21   59.8   61.0  3.89  3.84  2.31         0          0   \n",
       "2       0.23   56.9   65.0  4.05  4.07  2.31         1          0   \n",
       "3       0.29   62.4   58.0  4.20  4.23  2.63         0          0   \n",
       "4       0.31   63.3   58.0  4.34  4.35  2.75         1          0   \n",
       "...      ...    ...    ...   ...   ...   ...       ...        ...   \n",
       "53935   0.72   60.8   57.0  5.75  5.76  3.50         0          1   \n",
       "53936   0.72   63.1   55.0  5.69  5.75  3.61         1          0   \n",
       "53937   0.70   62.8   60.0  5.66  5.68  3.56         0          0   \n",
       "53938   0.86   61.0   58.0  6.15  6.12  3.74         0          0   \n",
       "53939   0.75   62.2   55.0  5.83  5.87  3.64         0          1   \n",
       "\n",
       "       cut_Premium  cut_Very Good  ...  color_H  color_I  color_J  clarity_IF  \\\n",
       "0                0              0  ...        0        0        0           0   \n",
       "1                1              0  ...        0        0        0           0   \n",
       "2                0              0  ...        0        0        0           0   \n",
       "3                1              0  ...        0        1        0           0   \n",
       "4                0              0  ...        0        0        1           0   \n",
       "...            ...            ...  ...      ...      ...      ...         ...   \n",
       "53935            0              0  ...        0        0        0           0   \n",
       "53936            0              0  ...        0        0        0           0   \n",
       "53937            0              1  ...        0        0        0           0   \n",
       "53938            1              0  ...        1        0        0           0   \n",
       "53939            0              0  ...        0        0        0           0   \n",
       "\n",
       "       clarity_SI1  clarity_SI2  clarity_VS1  clarity_VS2  clarity_VVS1  \\\n",
       "0                0            1            0            0             0   \n",
       "1                1            0            0            0             0   \n",
       "2                0            0            1            0             0   \n",
       "3                0            0            0            1             0   \n",
       "4                0            1            0            0             0   \n",
       "...            ...          ...          ...          ...           ...   \n",
       "53935            1            0            0            0             0   \n",
       "53936            1            0            0            0             0   \n",
       "53937            1            0            0            0             0   \n",
       "53938            0            1            0            0             0   \n",
       "53939            0            1            0            0             0   \n",
       "\n",
       "       clarity_VVS2  \n",
       "0                 0  \n",
       "1                 0  \n",
       "2                 0  \n",
       "3                 0  \n",
       "4                 0  \n",
       "...             ...  \n",
       "53935             0  \n",
       "53936             0  \n",
       "53937             0  \n",
       "53938             0  \n",
       "53939             0  \n",
       "\n",
       "[53940 rows x 23 columns]"
      ]
     },
     "execution_count": 14,
     "metadata": {},
     "output_type": "execute_result"
    }
   ],
   "source": [
    "X_dummy = pd.get_dummies(X, drop_first = True)\n",
    "X_dummy"
   ]
  },
  {
   "cell_type": "code",
   "execution_count": 12,
   "metadata": {},
   "outputs": [
    {
     "data": {
      "text/plain": [
       "(53940, 26)"
      ]
     },
     "execution_count": 12,
     "metadata": {},
     "output_type": "execute_result"
    }
   ],
   "source": [
    "X_dummy.shape"
   ]
  },
  {
   "cell_type": "code",
   "execution_count": 13,
   "metadata": {},
   "outputs": [
    {
     "data": {
      "text/plain": [
       "(53940, 9)"
      ]
     },
     "execution_count": 13,
     "metadata": {},
     "output_type": "execute_result"
    }
   ],
   "source": [
    "X.shape"
   ]
  },
  {
   "cell_type": "code",
   "execution_count": 15,
   "metadata": {},
   "outputs": [],
   "source": [
    "from sklearn import model_selection"
   ]
  },
  {
   "cell_type": "code",
   "execution_count": 75,
   "metadata": {},
   "outputs": [],
   "source": [
    "X_train, X_test, y_train, y_test = model_selection.train_test_split(X_dummy, y\n",
    "                                                , test_size = 0.3, random_state = 123)\n",
    "\n",
    "# random_state will control (it will reproduce the same combinations) the randomness of the records when the full \n",
    "# set is split between training and test sets"
   ]
  },
  {
   "cell_type": "code",
   "execution_count": 64,
   "metadata": {},
   "outputs": [
    {
     "data": {
      "text/plain": [
       "(16182, 23)"
      ]
     },
     "execution_count": 64,
     "metadata": {},
     "output_type": "execute_result"
    }
   ],
   "source": [
    "X_test.shape"
   ]
  },
  {
   "cell_type": "code",
   "execution_count": 65,
   "metadata": {},
   "outputs": [
    {
     "data": {
      "text/plain": [
       "0.3"
      ]
     },
     "execution_count": 65,
     "metadata": {},
     "output_type": "execute_result"
    }
   ],
   "source": [
    "16182/ len(X_dummy)"
   ]
  },
  {
   "cell_type": "code",
   "execution_count": 66,
   "metadata": {},
   "outputs": [
    {
     "data": {
      "text/plain": [
       "(37758, 23)"
      ]
     },
     "execution_count": 66,
     "metadata": {},
     "output_type": "execute_result"
    }
   ],
   "source": [
    "X_train.shape"
   ]
  },
  {
   "cell_type": "code",
   "execution_count": 67,
   "metadata": {},
   "outputs": [
    {
     "data": {
      "text/plain": [
       "0.7"
      ]
     },
     "execution_count": 67,
     "metadata": {},
     "output_type": "execute_result"
    }
   ],
   "source": [
    "37758 / len(X_dummy)"
   ]
  },
  {
   "cell_type": "code",
   "execution_count": 68,
   "metadata": {},
   "outputs": [],
   "source": [
    "from sklearn import linear_model\n",
    "from sklearn import preprocessing"
   ]
  },
  {
   "cell_type": "code",
   "execution_count": 69,
   "metadata": {},
   "outputs": [],
   "source": [
    "scaler = preprocessing.StandardScaler()\n",
    "\n",
    "scaler.fit(X_test)\n",
    "X_train_std = scaler.transform(X_train)\n",
    "X_test_std = scaler.transform(X_test)\n"
   ]
  },
  {
   "cell_type": "code",
   "execution_count": 70,
   "metadata": {},
   "outputs": [
    {
     "data": {
      "text/plain": [
       "LinearRegression(copy_X=True, fit_intercept=True, n_jobs=None, normalize=False)"
      ]
     },
     "execution_count": 70,
     "metadata": {},
     "output_type": "execute_result"
    }
   ],
   "source": [
    "lr = linear_model.LinearRegression()\n",
    "lr.fit(X_train_std, y_train)"
   ]
  },
  {
   "cell_type": "code",
   "execution_count": 71,
   "metadata": {},
   "outputs": [],
   "source": [
    "y_train_pred = lr.predict(X_train_std)\n",
    "y_test_pred = lr.predict(X_test_std)"
   ]
  },
  {
   "cell_type": "code",
   "execution_count": 72,
   "metadata": {},
   "outputs": [
    {
     "data": {
      "text/plain": [
       "(1270791.8536412276, 1291193.8989862807)"
      ]
     },
     "execution_count": 72,
     "metadata": {},
     "output_type": "execute_result"
    }
   ],
   "source": [
    "mse_train = ((y_train_pred - y_train) **2).mean()\n",
    "mse_test = ((y_test_pred - y_test) **2).mean()\n",
    "\n",
    "mse_train, mse_test"
   ]
  },
  {
   "cell_type": "code",
   "execution_count": 73,
   "metadata": {},
   "outputs": [
    {
     "data": {
      "text/plain": [
       "(1127.2940404531676, 1136.3071323309912)"
      ]
     },
     "execution_count": 73,
     "metadata": {},
     "output_type": "execute_result"
    }
   ],
   "source": [
    "rmse_train = ((y_train_pred - y_train) **2).mean() ** 0.5\n",
    "rmse_test = ((y_test_pred - y_test) **2).mean() ** 0.5\n",
    "\n",
    "rmse_train, rmse_test"
   ]
  },
  {
   "cell_type": "code",
   "execution_count": 74,
   "metadata": {},
   "outputs": [
    {
     "data": {
      "text/plain": [
       "(1121, 1119)"
      ]
     },
     "execution_count": 74,
     "metadata": {},
     "output_type": "execute_result"
    }
   ],
   "source": [
    "1121, 1119"
   ]
  },
  {
   "cell_type": "code",
   "execution_count": 77,
   "metadata": {},
   "outputs": [],
   "source": [
    "import numpy as np"
   ]
  },
  {
   "cell_type": "code",
   "execution_count": 78,
   "metadata": {},
   "outputs": [],
   "source": [
    "baseline_prediction = np.mean(y_train)"
   ]
  },
  {
   "cell_type": "code",
   "execution_count": 80,
   "metadata": {},
   "outputs": [
    {
     "data": {
      "text/plain": [
       "0.08081990379757471"
      ]
     },
     "execution_count": 80,
     "metadata": {},
     "output_type": "execute_result"
    }
   ],
   "source": [
    "mse_test / ((baseline_prediction - y_test) ** 2).mean()"
   ]
  },
  {
   "cell_type": "code",
   "execution_count": 81,
   "metadata": {},
   "outputs": [
    {
     "data": {
      "text/plain": [
       "0.9191800962024252"
      ]
     },
     "execution_count": 81,
     "metadata": {},
     "output_type": "execute_result"
    }
   ],
   "source": [
    "r2 = 1 - mse_test / ((baseline_prediction - y_test) ** 2).mean()\n",
    "r2"
   ]
  },
  {
   "cell_type": "code",
   "execution_count": 82,
   "metadata": {},
   "outputs": [],
   "source": [
    "from sklearn import metrics"
   ]
  },
  {
   "cell_type": "code",
   "execution_count": 83,
   "metadata": {},
   "outputs": [
    {
     "data": {
      "text/plain": [
       "0.9191767921578132"
      ]
     },
     "execution_count": 83,
     "metadata": {},
     "output_type": "execute_result"
    }
   ],
   "source": [
    "metrics.r2_score(y_test, y_test_pred)"
   ]
  },
  {
   "cell_type": "code",
   "execution_count": 84,
   "metadata": {},
   "outputs": [
    {
     "data": {
      "text/plain": [
       "0.9191767921578138"
      ]
     },
     "execution_count": 84,
     "metadata": {},
     "output_type": "execute_result"
    }
   ],
   "source": [
    "r2 = 1 - mse_test / ((y_test.mean() - y_test) ** 2).mean()\n",
    "r2"
   ]
  },
  {
   "cell_type": "code",
   "execution_count": 85,
   "metadata": {},
   "outputs": [
    {
     "data": {
      "text/plain": [
       "LinearRegression(copy_X=True, fit_intercept=True, n_jobs=None, normalize=False)"
      ]
     },
     "execution_count": 85,
     "metadata": {},
     "output_type": "execute_result"
    }
   ],
   "source": [
    "lr"
   ]
  },
  {
   "cell_type": "code",
   "execution_count": 86,
   "metadata": {},
   "outputs": [
    {
     "data": {
      "text/plain": [
       "array([ 5.33403267e+03, -9.26599883e+01, -6.30648066e+01, -1.09145042e+03,\n",
       "        3.34987089e-01, -3.93679219e+01,  1.78566692e+02,  4.20275528e+02,\n",
       "        3.42560017e+02,  3.14744905e+02, -8.69731786e+01, -1.07496790e+02,\n",
       "       -2.05656449e+02, -3.51321939e+02, -4.44612840e+02, -5.33179255e+02,\n",
       "        9.67850802e+02,  1.59262395e+03,  1.03251455e+03,  1.66519931e+03,\n",
       "        1.80290187e+03,  1.28212996e+03,  1.48387657e+03])"
      ]
     },
     "execution_count": 86,
     "metadata": {},
     "output_type": "execute_result"
    }
   ],
   "source": [
    "lr.coef_"
   ]
  },
  {
   "cell_type": "code",
   "execution_count": 87,
   "metadata": {},
   "outputs": [
    {
     "data": {
      "text/plain": [
       "3913.4619594299647"
      ]
     },
     "execution_count": 87,
     "metadata": {},
     "output_type": "execute_result"
    }
   ],
   "source": [
    "lr.intercept_"
   ]
  },
  {
   "cell_type": "code",
   "execution_count": 88,
   "metadata": {},
   "outputs": [
    {
     "data": {
      "text/plain": [
       "Index(['carat', 'depth', 'table', 'x', 'y', 'z', 'cut_Good', 'cut_Ideal',\n",
       "       'cut_Premium', 'cut_Very Good', 'color_E', 'color_F', 'color_G',\n",
       "       'color_H', 'color_I', 'color_J', 'clarity_IF', 'clarity_SI1',\n",
       "       'clarity_SI2', 'clarity_VS1', 'clarity_VS2', 'clarity_VVS1',\n",
       "       'clarity_VVS2'],\n",
       "      dtype='object')"
      ]
     },
     "execution_count": 88,
     "metadata": {},
     "output_type": "execute_result"
    }
   ],
   "source": [
    "X_dummy.columns"
   ]
  },
  {
   "cell_type": "code",
   "execution_count": 90,
   "metadata": {},
   "outputs": [
    {
     "data": {
      "text/html": [
       "<div>\n",
       "<style scoped>\n",
       "    .dataframe tbody tr th:only-of-type {\n",
       "        vertical-align: middle;\n",
       "    }\n",
       "\n",
       "    .dataframe tbody tr th {\n",
       "        vertical-align: top;\n",
       "    }\n",
       "\n",
       "    .dataframe thead th {\n",
       "        text-align: right;\n",
       "    }\n",
       "</style>\n",
       "<table border=\"1\" class=\"dataframe\">\n",
       "  <thead>\n",
       "    <tr style=\"text-align: right;\">\n",
       "      <th></th>\n",
       "      <th>coeff</th>\n",
       "      <th>feature</th>\n",
       "    </tr>\n",
       "  </thead>\n",
       "  <tbody>\n",
       "    <tr>\n",
       "      <th>0</th>\n",
       "      <td>5334.032665</td>\n",
       "      <td>carat</td>\n",
       "    </tr>\n",
       "    <tr>\n",
       "      <th>1</th>\n",
       "      <td>-92.659988</td>\n",
       "      <td>depth</td>\n",
       "    </tr>\n",
       "    <tr>\n",
       "      <th>2</th>\n",
       "      <td>-63.064807</td>\n",
       "      <td>table</td>\n",
       "    </tr>\n",
       "    <tr>\n",
       "      <th>3</th>\n",
       "      <td>-1091.450423</td>\n",
       "      <td>x</td>\n",
       "    </tr>\n",
       "    <tr>\n",
       "      <th>4</th>\n",
       "      <td>0.334987</td>\n",
       "      <td>y</td>\n",
       "    </tr>\n",
       "    <tr>\n",
       "      <th>5</th>\n",
       "      <td>-39.367922</td>\n",
       "      <td>z</td>\n",
       "    </tr>\n",
       "    <tr>\n",
       "      <th>6</th>\n",
       "      <td>178.566692</td>\n",
       "      <td>cut_Good</td>\n",
       "    </tr>\n",
       "    <tr>\n",
       "      <th>7</th>\n",
       "      <td>420.275528</td>\n",
       "      <td>cut_Ideal</td>\n",
       "    </tr>\n",
       "    <tr>\n",
       "      <th>8</th>\n",
       "      <td>342.560017</td>\n",
       "      <td>cut_Premium</td>\n",
       "    </tr>\n",
       "    <tr>\n",
       "      <th>9</th>\n",
       "      <td>314.744905</td>\n",
       "      <td>cut_Very Good</td>\n",
       "    </tr>\n",
       "    <tr>\n",
       "      <th>10</th>\n",
       "      <td>-86.973179</td>\n",
       "      <td>color_E</td>\n",
       "    </tr>\n",
       "    <tr>\n",
       "      <th>11</th>\n",
       "      <td>-107.496790</td>\n",
       "      <td>color_F</td>\n",
       "    </tr>\n",
       "    <tr>\n",
       "      <th>12</th>\n",
       "      <td>-205.656449</td>\n",
       "      <td>color_G</td>\n",
       "    </tr>\n",
       "    <tr>\n",
       "      <th>13</th>\n",
       "      <td>-351.321939</td>\n",
       "      <td>color_H</td>\n",
       "    </tr>\n",
       "    <tr>\n",
       "      <th>14</th>\n",
       "      <td>-444.612840</td>\n",
       "      <td>color_I</td>\n",
       "    </tr>\n",
       "    <tr>\n",
       "      <th>15</th>\n",
       "      <td>-533.179255</td>\n",
       "      <td>color_J</td>\n",
       "    </tr>\n",
       "    <tr>\n",
       "      <th>16</th>\n",
       "      <td>967.850802</td>\n",
       "      <td>clarity_IF</td>\n",
       "    </tr>\n",
       "    <tr>\n",
       "      <th>17</th>\n",
       "      <td>1592.623952</td>\n",
       "      <td>clarity_SI1</td>\n",
       "    </tr>\n",
       "    <tr>\n",
       "      <th>18</th>\n",
       "      <td>1032.514554</td>\n",
       "      <td>clarity_SI2</td>\n",
       "    </tr>\n",
       "    <tr>\n",
       "      <th>19</th>\n",
       "      <td>1665.199310</td>\n",
       "      <td>clarity_VS1</td>\n",
       "    </tr>\n",
       "    <tr>\n",
       "      <th>20</th>\n",
       "      <td>1802.901870</td>\n",
       "      <td>clarity_VS2</td>\n",
       "    </tr>\n",
       "    <tr>\n",
       "      <th>21</th>\n",
       "      <td>1282.129963</td>\n",
       "      <td>clarity_VVS1</td>\n",
       "    </tr>\n",
       "    <tr>\n",
       "      <th>22</th>\n",
       "      <td>1483.876566</td>\n",
       "      <td>clarity_VVS2</td>\n",
       "    </tr>\n",
       "  </tbody>\n",
       "</table>\n",
       "</div>"
      ],
      "text/plain": [
       "          coeff        feature\n",
       "0   5334.032665          carat\n",
       "1    -92.659988          depth\n",
       "2    -63.064807          table\n",
       "3  -1091.450423              x\n",
       "4      0.334987              y\n",
       "5    -39.367922              z\n",
       "6    178.566692       cut_Good\n",
       "7    420.275528      cut_Ideal\n",
       "8    342.560017    cut_Premium\n",
       "9    314.744905  cut_Very Good\n",
       "10   -86.973179        color_E\n",
       "11  -107.496790        color_F\n",
       "12  -205.656449        color_G\n",
       "13  -351.321939        color_H\n",
       "14  -444.612840        color_I\n",
       "15  -533.179255        color_J\n",
       "16   967.850802     clarity_IF\n",
       "17  1592.623952    clarity_SI1\n",
       "18  1032.514554    clarity_SI2\n",
       "19  1665.199310    clarity_VS1\n",
       "20  1802.901870    clarity_VS2\n",
       "21  1282.129963   clarity_VVS1\n",
       "22  1483.876566   clarity_VVS2"
      ]
     },
     "execution_count": 90,
     "metadata": {},
     "output_type": "execute_result"
    }
   ],
   "source": [
    "pd.DataFrame({\"coeff\":lr.coef_, \"feature\": X_dummy.columns})"
   ]
  },
  {
   "cell_type": "code",
   "execution_count": 91,
   "metadata": {},
   "outputs": [
    {
     "data": {
      "text/plain": [
       "array(['E', 'I', 'J', 'H', 'F', 'G', 'D'], dtype=object)"
      ]
     },
     "execution_count": 91,
     "metadata": {},
     "output_type": "execute_result"
    }
   ],
   "source": [
    "df.color.unique()"
   ]
  },
  {
   "cell_type": "code",
   "execution_count": 92,
   "metadata": {},
   "outputs": [],
   "source": [
    "poly = preprocessing.PolynomialFeatures(degree = 2)"
   ]
  },
  {
   "cell_type": "code",
   "execution_count": 96,
   "metadata": {},
   "outputs": [
    {
     "name": "stdout",
     "output_type": "stream",
     "text": [
      "Train r2: 0.9717305364365785\n",
      "Test r2: 0.9698115833527625\n"
     ]
    }
   ],
   "source": [
    "X_train_poly = poly.fit_transform(X_train)\n",
    "X_test_poly = poly.transform(X_test)\n",
    "\n",
    "X_train_std = scaler.fit_transform(X_train_poly)\n",
    "X_test_std = scaler.transform(X_test_poly)\n",
    "\n",
    "\n",
    "lr = linear_model.LinearRegression()\n",
    "lr.fit(X_train_std, y_train)\n",
    "\n",
    "y_train_pred = lr.predict(X_train_std)\n",
    "y_test_pred = lr.predict(X_test_std)\n",
    "\n",
    "print(\"Train r2:\", metrics.r2_score(y_train, y_train_pred))\n",
    "print(\"Test r2:\", metrics.r2_score(y_test, y_test_pred))"
   ]
  },
  {
   "cell_type": "code",
   "execution_count": 97,
   "metadata": {},
   "outputs": [
    {
     "data": {
      "text/plain": [
       "300"
      ]
     },
     "execution_count": 97,
     "metadata": {},
     "output_type": "execute_result"
    }
   ],
   "source": [
    "len(lr.coef_)"
   ]
  },
  {
   "cell_type": "code",
   "execution_count": 99,
   "metadata": {},
   "outputs": [
    {
     "data": {
      "text/plain": [
       "<AxesSubplot:>"
      ]
     },
     "execution_count": 99,
     "metadata": {},
     "output_type": "execute_result"
    },
    {
     "data": {
      "image/png": "[encoded data removed]",
      "text/plain": [
       "<Figure size 432x288 with 1 Axes>"
      ]
     },
     "metadata": {
      "needs_background": "light"
     },
     "output_type": "display_data"
    }
   ],
   "source": [
    "pd.Series(lr.coef_).plot.bar()"
   ]
  },
  {
   "cell_type": "code",
   "execution_count": 100,
   "metadata": {},
   "outputs": [
    {
     "name": "stdout",
     "output_type": "stream",
     "text": [
      "Train r2: 0.9820433775133419\n",
      "Test r2: -1.3344099390672488e+19\n"
     ]
    }
   ],
   "source": [
    "poly = preprocessing.PolynomialFeatures(degree = 3)\n",
    "X_train_poly = poly.fit_transform(X_train)\n",
    "X_test_poly = poly.transform(X_test)\n",
    "\n",
    "X_train_std = scaler.fit_transform(X_train_poly)\n",
    "X_test_std = scaler.transform(X_test_poly)\n",
    "\n",
    "\n",
    "lr = linear_model.LinearRegression()\n",
    "lr.fit(X_train_std, y_train)\n",
    "\n",
    "y_train_pred = lr.predict(X_train_std)\n",
    "y_test_pred = lr.predict(X_test_std)\n",
    "\n",
    "print(\"Train r2:\", metrics.r2_score(y_train, y_train_pred))\n",
    "print(\"Test r2:\", metrics.r2_score(y_test, y_test_pred))"
   ]
  },
  {
   "cell_type": "code",
   "execution_count": 102,
   "metadata": {},
   "outputs": [
    {
     "name": "stdout",
     "output_type": "stream",
     "text": [
      "Test  baseline r2: 0.0\n"
     ]
    }
   ],
   "source": [
    "print(\"Test  baseline r2:\", metrics.r2_score(y_test, [np.mean(y_test)] * len(y_test)))"
   ]
  },
  {
   "cell_type": "code",
   "execution_count": 105,
   "metadata": {
    "scrolled": true
   },
   "outputs": [
    {
     "name": "stdout",
     "output_type": "stream",
     "text": [
      "[10072793609.754692, -438948.2795895911, -206803.0354363213, -98715.52748131745, -1417636.3698054156, -836115.3716971038, 1546303.169633454, -48056809480967.58, 37170692162960.836, -13846663309459.967, 26452849429889.582, 28775770851477.117, 4622550851717.675, -35818339332247.805, 7388361698406.307, 7063136466505.694, 5396416389345.117, 52688425086761.31, 3008675348243.4272, 21025488145082.883, -10555800556449.85, 9151615594220.08, -5185710875548.088, -3495331366368.98, -10195.016357421875, 849688.8454589844, 231574.99438476562, -1019784.4396972656, -107554.6396484375, 652397.1953125, -2772610945432.312, -3773665857168.588, 2080055885574.3083, 14227491877446.365, 5066279661372.02, 8107024805606.125, -12728546767231.465, 8019349248972.291, 10939552343464.201, -8047699714369.623, -12711668431665.137, -9136720542760.637, 9644941088777.86, -2423607719070.1436, 3228561862722.8237, -5481723861389.898, -786161883939.5431, 227636.7887878418, 119969.7033996582, -98663.18603515625, 1914805.1611328125, -1013137.2104492188, 3005688775698.5693, -1672479877855.9653, -4935553552762.419, -3666141143096.954, -2956663749731.1562, -2046542559638.6514, 853410179880.1084, 8768345232806.933, 4436617987926.172, 3120902862373.932, -22612866566839.32, -4983140089002.809, 3240350968068.596, -4779665866820.747, -1823678600896.8718, 1648564199807.1511, -785241366204.2587, 80791.0531616211, 1882997.1958007812, -1237960.6887207031, -727776.3918457031, -1447809179482.6138, 256595426272.88416, -1188901180366.6934, 1023946378973.1805, -1951552373629.2358, 2997257685395.703, -3291514937114.8027, -3418565036231.6445, 1436574568067.1743, -2298393692684.94, -8135250464863.192, 1558829577764.3818, -3057478936032.853, 2259631234523.467, 3540467597976.86, -6137830725197.936, -463112124878.97186, 2560148.6513671875, -695229.2360839844, -630996.2563476562, 5378408247528.569, 2805540467476.4404, -787694064173.492, 1086126465601.5394, -453331779006.4155, 590740911213.0508, -1816390947127.6357, 981794667846.6853, -4716069280408.808, -2057749613740.4614, -3577960841805.7256, -5874225873531.235, -273184114289.49658, 3052201686855.3584, -300021044529.3469, -1619225796405.6396, 1167377418586.748, 2591349.908203125, -1261200.6904296875, -2262902886675.6836, 1077858184564.8745, -6069320411653.734, -278759287636.8849, -7092344685733.567, -3387157913142.5063, 5294227596691.469, 3068930495347.834, 5394770051051.144, 1315113888503.9648, 14529457376875.44, 1987179576253.983, 10764697263707.65, -1662226698946.9658, -2054214689771.9268, -353744401110.0698, -5099670406785.172, -918569.4543457031, -3889983460463.89, -1508708083858.2517, 4857241775033.193, -2641985237440.912, -100178756469.20996, -2052520623590.6165, 79139339440.40869, -8781550217773.069, -581210696925.0869, 328112556795.12476, 13820376379513.592, 1538105054738.2378, -826742429844.0088, 4121524996695.7236, -265282921345.8767, 3455018718791.5273, 1806071027966.9268, 22455681436884.375, 2903421585095.769, 2103057071507.0955, 758844761577.4414, -1258765850701.678, 192274386438.74478, -1979536210498.7532, -6260741117038.672, -2451630717731.4946, 801551733706.6327, -1255533395121.173, 2906538741212.9434, -2924995048742.968, 2944302126912.0073, 671988229916.9097, -805957909533.4012, -84490177096.11462, -15765589078773.822, -1211677768956.1707, 1456170047267.622, -1258581422607.8284, 139848639743.94427, 3653224776605.523, 12880104420205.225, 2686012459456.9033, 3063741561528.6016, -1323958282042.076, 4933376548307.156, -3135491135173.2363, -179621200685.3169, 4985017066910.27, 3636048742796.8047, -265893719499.47363, 6384143578233.242, -364433132462.90063, -1914855967374.7976, 852465532321.4678, 1956073282869.8135, -2128052076297.4053, 2176422783158.6294, 1232014434744.9868, -3687523680005.0986, -165538550692.7024, 2495729409616.3496, 10074689991.078491, -4708648221240.515, 385182109088.6986, 1285546732727.4885, -12702050781321.096, 6098492670124.171, -1194859575912.4365, 1337157121158.7156, -169279484813.97253, 1816550895438.3635, -2676367087859.5293, -1091850209237.8405, 3527624478412.6055, -179417989298.43628, -2876394850928.2715, 6171838306660.815, -4168230560591.7314, -846737517986.962, -14340757525849.32, 1549812335819.5918, -1139833322397.369, -125817209913.11504, -46732589331.08912, -60721073869.568886, -9472849476089.85, -352662380103.4404, -1942793145050.774, 1979238804366.8818, -2417091273884.884, 2405223791147.2207, -1014569327364.1409, -4015390058455.9995, -56799706862.90622, -358632080950.8352, -35338488361.9983, -28489908405.31472, 1475490942219.9907, -1338903168705.6973, -648270286720.8722, 17542204875.37494, 1620287557953.3464, 4417116050737.913, 1824173476968.6694, 18064785275977.38, 383183529674.94055, 841018206723.841, -843241991105.6074, 1699133663427.1045, -11447715397.84961, -270497988839.03784, 3390136263667.0605, 4769922479706.691, -5002014357764.843, -1464330779684.9014, -4255202441862.938, -586663031026.013, 223895648363.71326, -6053634754940.697, 744112226109.7957, -930880522392.7383, 3234238307505.3667, 8757110419460.093, 6783257230614.637, -2068245105406.8582, -3870346030856.1553, -20703214008.163704, 892181343555.9276, -631638996867.1647, -4740160516903.495, -245909384100.90356, 1402236689835.4463, -2864781303627.907, -1810635704711.6062, -2358759277222.5527, 7574328870856.668, 236892606208.6544, 1841803117155.5977, -1348772965340.601, -825780139478.9155, -18945755007226.945, 1213382599104.5264, -18805083318932.44, -785614208986.3262, 84316329903.43744, -245640191667.32935, 195475449591.83722, 494710208005.6257, 32307899.38719609, -1477754133150.39, -445411619695.2428, -253296776717.11682, 166816254447.63867, 545518016658.22876, 831437796992.041, -10900485343857.523, 67702622643.59564, 141018253095.0308, 288418314736.662, -194102967757.4706, 6457137253051.828, 11625210125.829357, 157021548529.95105, -329549795054.80035, -6478821138507.508, -264461772859.09308, 567367228607.2697, 268517686869.64404, 796432897300.3809, 5529309496869.106, -17462.676513671875, 60239.18310546875, -130.17138671875, -205754.29736328125, -48500.2509765625, 281733.0361328125, 1508.556396484375, 2750.8927001953125, 115.6326904296875, 1586.7070388793945, -1200.80322265625, -583.89599609375, -1157.984375, 1001.49951171875, 3782.5321044921875, 8313.654052734375, -7334.611572265625, -28770.1533203125, -33474.92822265625, -24213.815856933594, -28327.4248046875, -9038.54736328125, -13066.114959716797, -295496.9052734375, -254064.265625, 266336.0515136719, 191625.13500976562, -237000.24926757812, -4785.1552734375, -23637.183227539062, -18303.90185546875, -40328.73988723755, 50728.6064453125, 4237.601318359375, 3890.828125, 11910.916259765625, 18067.943725585938, 31417.718383789062, -9204.277587890625, -112857.48388671875, -118135.4287109375, -41656.80224609375, -83076.25415039062, -20496.522705078125, -58398.03593444824, 8725.2236328125, 230803.53540039062, -347266.2609863281, 139597.53002929688, -1028.124267578125, 279.1383056640625, -4662.58984375, -2677.205503463745, 2291.5634765625, -2425.420166015625, -2565.80615234375, -724.983642578125, 2193.0257568359375, -5255.6842041015625, 1634.229736328125, 3064.626953125, -1377.1103515625, 3030.853759765625, 4798.943359375, 3000.163818359375, 5285.867141723633, 428977.5712890625, 704199.2922363281, -590782.7060546875, -42658.883544921875, -53767.46789550781, -50401.96630859375, -59351.05946350098, 46576.98486328125, 12205.68017578125, 9895.9921875, 13048.4033203125, 40268.46130371094, 60898.60107421875, 5990.135009765625, -33055.661865234375, -43242.61572265625, -82.9205322265625, -25947.3828125, 12925.091064453125, 47.26605987548828, 264495.1397705078, -519098.7841796875, 52690.38635253906, 31643.795654296875, 42989.46484375, 55706.97875213623, 15644.55810546875, 2657.15576171875, 4544.3896484375, 14735.298583984375, -9335.839721679688, -19838.008178710938, 10991.913330078125, 5086.8173828125, 28398.85595703125, 17668.098754882812, 7063.189697265625, 6228.20703125, -6646.74108505249, -191588.28515625, -16606.03564453125, 7180.1837158203125, 4690.48876953125, -4135.387893676758, -55298.2021484375, -10157.08447265625, -8779.6806640625, -29551.0712890625, -40989.83166503906, -67964.4775390625, 23403.861572265625, 169272.69897460938, 170093.3369140625, 104635.88366699219, 159327.71997070312, 32664.166015625, 78602.48280334473, 2772610953509.8203, 59146811183.4959, -28049455904.119804, -170272110644.15317, -202.665771484375, 26.10601806640625, -107.8582763671875, -169.69091796875, -580.6052856445312, -269.3052978515625, 3151354312039.1025, 828.0048828125, 913.7978515625, 704.7216796875, 423.09814453125, -17.738555908203125, 131.51576232910156, 3773665890511.574, 68826961967.07942, 21248020543.9417, -175.978515625, 307.9344482421875, 155.550537109375, 217.33236694335938, -357.74853515625, 16.6165771484375, 8887578651657.03, 161.2099609375, -33.38421630859375, 345.55419921875, -337.9610595703125, -715.004638671875, -184.8397216796875, -2080055859485.969, -27887283153.548817, -407.954833984375, -159.348388671875, -125.3709716796875, -369.1395263671875, -644.7254638671875, -153.3236083984375, 5296381921589.304, 266.98681640625, 279.25244140625, 400.56092834472656, -71.8837890625, -366.41357421875, -86.6748046875, -14227491829901.838, -184.19970703125, 46.267333984375, -53.512939453125, 11.083740234375, -448.1009521484375, -189.563720703125, 5230454590476.346, 636.89306640625, 324.71435546875, 637.7808227539062, 215.00537109375, -215.9404296875, 77.47393798828125, -5066279718267.8125, -58723572646.79168, -8921689351.462694, 13737965710.44235, 39600316087.60433, 34534485179.83214, -387.0570068359375, -599.693359375, -472.77099609375, -217.01934814453125, -542.18798828125, -188.451904296875, -357.67352294921875, -8107024809576.974, 39970254878.99144, 61761115574.32764, 16081126492.455643, -50468115056.11181, -1126.43798828125, -758.409912109375, -645.7688598632812, -773.2018737792969, -828.552734375, -677.85595703125, -700.5702819824219, 12728546763966.361, -41849717605.87675, -6218736891.114406, 21519017490.924088, -2164.10791015625, -714.22412109375, -547.469482421875, -1374.495361328125, -1320.9995422363281, -1258.8097229003906, -1347.231689453125, -8019349258758.088, -28426346083.03876, 47326961757.48956, -1672.10546875, -671.9361572265625, -765.2626953125, -1486.0344848632812, -1776.7397766113281, -1022.0986328125, -1075.4881591796875, -10939552359343.281, 10017910886.817413, -1053.2083435058594, -17.2872314453125, -271.0589599609375, -974.4598999023438, -892.216796875, -769.5555419921875, -670.3115844726562, 8047699696390.182, -460.77880859375, 1893.00830078125, 1788.7626342773438, 892.9528732299805, 1228.2412109375, 116.0877685546875, 457.542236328125, 761357626613.3756, -4881411460.043523, -10884982868.839144, 10287577416.15927, -34457512636.45969, -17886441112.427464, 44239671766.637825, 9136720569085.844, 11512761069.96437, 46505888575.64249, -5142703589.925587, -18997261422.765446, 13000457999.83746, -9644941057864.086, 4839344186.570262, -30050868288.65112, -21170110852.400692, -16011072395.15479, 2423607686294.4346, 20747975945.689327, 55482172422.31571, 37809018271.65089, -3228561865269.0557, -13982562395.496984, -17272930642.837734, 5481723847667.751, 1244813289.9903445, 786161893398.3275, -57148.30126953125, -30818.100830078125, 1132915.8515625, -1392005.2895507812, -32688.562744140625, 57989.98840332031, 59879.044860839844, 33060.91638183594, -93085.86544799805, -116739.57763671875, -79208.54638671875, -23982.37646484375, -41313.54345703125, -116751.2405090332, -864.5119934082031, -58342.44970703125, 7773.907470703125, 10405.35546875, -20113.177001953125, -10515.141357421875, -115008.31103515625, -23925.826904296875, -79390.77996826172, -1511843.6032714844, 1438858.5849609375, 229720.20947265625, -28948.021728515625, 86576.72375488281, 38816.40905761719, -99776.88578796387, -42080.5146484375, 39977.1875, -48086.52880859375, -51882.441162109375, -9943.369934082031, -24850.452239990234, -7997.353515625, 11669.291748046875, 74173.0498046875, 21533.862548828125, 39520.223876953125, 34777.171142578125, 72733.48193359375, 514631.5256347656, -234595.53369140625, -3372176.8364257812, 189241.77221679688, -237749.07496261597, 262697.1379394531, 607014.1539459229, -48985.19775390625, 129094.7197265625, 334288.22314453125, 366625.5305175781, 340352.23498535156, 47899.51123046875, 240803.42431640625, 474273.93359375, 682130.13671875, 557898.9313964844, 538213.1049804688, 73688.52783203125, 29083.74737548828, -2793820.989379883, 3448933.943359375, -215031.14782714844, 279639.7339286804, -279564.3771972656, -847648.7224349976, -217899.00732421875, -293459.484375, -407377.15478515625, -451632.0451660156, -563337.9865722656, -120906.48748779297, -318578.78173828125, -139260.30249023438, -365362.85009765625, -405509.8347167969, -265934.076171875, -218131.05493164062, 110206.06762695312, 1173908.9865722656, -4490.86962890625, -46431.94330596924, 18230.371337890625, 229715.98574066162, 133549.9443359375, 160145.81005859375, 56836.17822265625, 34655.830078125, 172702.81329345703, -23450.343872070312, 139578.96557617188, -48809.94384765625, -63638.30859375, 3491.08447265625, -10423.68310546875, 213682.90551757812, 23747.19940185547, -3005688839796.9067, -16789569740.813011, -11617937528.007978, 7161441026.460995, -2569.10595703125, 1379.6094665527344, 1102.07470703125, -867.222412109375, 2375.932861328125, 3428.108642578125, 5198256697475.569, 7454.991149902344, 6296.208984375, 9735.179931640625, 7712.7889404296875, 10244.46304321289, 6164.7579345703125, 1672479705201.1296, 1303226060.4261374, -1313261749.4645312, -8937.939697265625, 1790.0014038085938, 4510.357421875, -4771.353332519531, 521.6608276367188, 5685.2020263671875, 21188489388612.223, -13592.550048828125, -5607.2366943359375, 267.178955078125, -4738.8590087890625, 19371.429321289062, -1699.3447265625, 4935553461198.239, 15790443831.84249, -4381.510009765625, 2183.8837890625, 2230.22900390625, -5987.145263671875, 2640.1386108398438, 3887.0640258789062, 9387437471316.389, -2857.2286376953125, -428.00830078125, 2580.4833984375, -851.23388671875, 13040.002685546875, 3630.8361206054688, 3666141463546.2124, -4840.60595703125, 4622.9130859375, 4220.628662109375, 1215.54443359375, 2929.2447509765625, 4394.083251953125, 9749917012921.262, -2104.5972213745117, -1042.80126953125, 4109.670654296875, 293.92333984375, 10923.16943359375, 3303.2818145751953, 2956664112743.8613, -9955768357.046484, 4064693187.5921392, -2613442477.751425, 1205758579.7924616, -661264379.1365613, 1448.7232666015625, 189.19775390625, 2677.530029296875, 2010.34716796875, 2926.7548828125, 1547.0638427734375, 1535.9486694335938, 2046542673327.0286, -466838677.3478644, -6402508481.675481, 1868590824.4492579, 614759370.3260342, -276.9037170410156, -5571.192138671875, -1029.3387756347656, -889.4191284179688, -220.745361328125, 315.21392822265625, 265.2542419433594, -853410082597.5293, -1797742832.1008532, -655641319.9113624, -726768074.515338, -1545.442138671875, -3920.8243408203125, 47.3212890625, 2231.8095703125, -131.553955078125, -2189.9839477539062, -332.33203125, -8768345067169.771, -4420107942.532926, -85667720.99370518, 1352.87109375, -1039.9755859375, -43.65869140625, 1397.4744873046875, -623.008056640625, -681.1669921875, 687.0921630859375, -4436617720272.42, -7216925418.532192, -115.09092712402344, -861.3226928710938, 1085.2193603515625, -314.41680908203125, 430.2559814453125, 188.20526123046875, 3011.871047973633, -3120902768226.5093, -213.7958984375, -9745.717376708984, -7974.361328125, -5792.390319824219, -7590.765380859375, -3603.023193359375, -4649.129638671875, -2896827802016.3853, 2460184702.2401466, -2388543021.843726, 6980953667.569771, 1395386134.1294124, -3510194477.7705607, 5151317942.671037, 4983139889290.81, -25777684.326248627, 39698799.53965187, 2112654088.679204, 278793463.35216516, 4465812042.358481, -3240351218102.2275, -1338906440.406256, -4709727902.922955, -2475325075.0002556, -5162812295.200731, 4779665754543.948, 6800806603.278123, 167096186.7120979, 1199664102.1807244, 1823678389519.8235, 1087810024.7701092, -2590839956.485239, -1648564083743.4944, 3277957309.4478655, 785241217200.1342, 1655.3077392578125, -78194.53100585938, -187560.41088867188, 246782.62841796875, -905.048095703125, 8564.350891113281, 1651.0361328125, 2867.8822326660156, 406.2490234375, 10875.901611328125, 4895.58642578125, 2662.71728515625, 1819.9827270507812, -2961.589813232422, 1851.34716796875, 12509.6923828125, 9774.24560546875, 10940.97412109375, 9571.33056640625, 2725.9072265625, 8623.797973632812, -2536688.096923828, 1618673.1025390625, 3015000.4555664062, -7671.6085205078125, 102838.23822021484, 37317.578857421875, -60926.06345367432, -33747.72998046875, 5162.66796875, -57817.7666015625, -50896.953125, -39380.04461669922, -45419.57019042969, -20220.38671875, -100089.93774414062, -80577.11962890625, -106647.03979492188, -77939.40014648438, -41494.072998046875, -26045.3916015625, 1534191.9270019531, -3232385.862060547, -29019.294799804688, -23415.675537109375, -421.747314453125, -65019.36769866943, -12552.033203125, 23553.136474609375, -1011.64453125, -13157.582763671875, 22024.305786132812, 27432.62384033203, 2002.098876953125, 79136.56713867188, 145997.6650390625, 97206.68627929688, 89351.50146484375, 63039.22314453125, 72549.59576416016, 64249.16357421875, 35072.665771484375, -86830.54275512695, -32646.630859375, 124667.2935475111, 40779.5927734375, -23213.702392578125, 65798.87158203125, 66357.24096679688, 13501.755126953125, 28671.372802734375, 16254.38818359375, 18818.54638671875, -56843.3837890625, 5398.7744140625, -18727.467529296875, -28833.93994140625, -56890.67547607422, 1447809212222.0159, -1825149386.8976395, 540733963.4453008, 484047968.4133234, 213.230712890625, 388.849609375, 515.37548828125, 153.5166015625, 229.43145751953125, 379.559814453125, 3994159363524.4697, -367.2444763183594, -148.095947265625, -96.6236572265625, 79.28433227539062, 118.58172607421875, -409.9393310546875, -256595525728.35168, -2722548989.2362194, 1712749945.5186582, 199.1279296875, 944.3671264648438, 1077.037109375, 123.35653686523438, 839.1160888671875, 73.865478515625, 15407238247160.086, 863.85888671875, 798.787109375, 836.805908203125, 1175.1055908203125, 678.672119140625, -119.1287841796875, 1188901137864.0571, 1866957388.2593958, 254.90673828125, 588.773681640625, 1315.53857421875, 102.20574951171875, 1008.4306640625, 721.6824951171875, 7261213157698.809, -850.237060546875, -547.67236328125, -449.8369140625, -356.5078125, -322.7562255859375, -946.13720703125, -1023946279962.918, 461.6064453125, 924.6575927734375, 937.39892578125, 422.9931640625, 659.297119140625, 278.345458984375, 7346207086151.465, -1514.237548828125, -1421.428955078125, -1155.69140625, -1024.1673583984375, -799.882568359375, -1659.0191650390625, 1951552419493.955, -553758647.7625751, 93891646.05573264, -1671774658.0382357, 1525633469.0207257, -748008952.9275692, -599.3636474609375, -893.74462890625, -509.2412109375, -386.95458984375, -498.39697265625, -308.4703369140625, -577.5198974609375, -2997257752376.6523, 753256620.1084003, -1204563770.7547162, 293380028.796681, 472873403.7641658, -266.35406494140625, 102.658447265625, 264.8379707336426, 378.96832275390625, 429.318359375, 382.67388916015625, 162.31326293945312, 3291514968760.5176, 504483572.04479474, -188092302.97409067, -242178634.28265744, -350.4998779296875, 10.9407958984375, 57.2529296875, 350.69970703125, 237.8211669921875, 526.7559204101562, 320.20751953125, 3418565081280.2295, -439855869.4192905, 293527965.39412844, -471.9423828125, -472.94775390625, -303.2119140625, -45.7728271484375, 262.9085693359375, 262.32958984375, 83.654541015625, -1436574559824.2886, -790932834.4383515, -414.86512756347656, -769.05712890625, -558.8516845703125, -401.77850341796875, -188.528564453125, 27.8505859375, -160.35086059570312, 2298393719553.973, -424.85595703125, -1543.7425842285156, -1022.927734375, -1287.8165893554688, -1355.986572265625, -370.8150634765625, -553.1146545410156, -10718251283789.797, 243181832.26514336, -167352043.9053461, 558429456.9800212, 38570096.9719652, 155264991.04677066, 204469636.8498208, -1558829613340.9934, -93713214.03864264, 556112077.7739362, 719301916.5429853, 173728677.38495946, 689266336.6869508, 3057478837432.7295, 300133811.89960825, 298648564.1834503, 191430087.67768466, -306209508.6250947, -2259631275956.7183, 49029713.35616488, 114068721.27320316, 747213293.9256444, -3540467653702.752, 103014710.38196267, -153404541.14218515, 6137830689037.725, 239751025.30974975, 463112042330.7777, 601722.3288574219, -2280466.3134765625, -1364418.2932128906, -7235.058837890625, -581483.0254516602, -49962.865478515625, 193608.9047384262, 41583.8798828125, 116410.7373046875, 210734.763671875, 323822.19775390625, 356689.42443847656, 105740.294921875, 103696.63330078125, 240813.0576171875, 472421.40185546875, 309702.2009277344, 249738.50463867188, 60896.455810546875, -164173.81127929688, -628685.3354492188, 3789068.156982422, 157919.98657226562, 734803.1213378906, 379844.2346191406, 335193.13427352905, -177545.14453125, -98212.81518554688, -62033.798828125, -194242.46459960938, -331949.18981933594, -215383.38458251953, 32301.8876953125, 106740.84399414062, -76574.2236328125, 46623.812744140625, 173114.73217773438, -105370.77514648438, 360412.05743408203, 1456162.4951171875, -60400.033447265625, 497250.6369628906, -188273.45336914062, -627609.933517456, -15152.9033203125, -164131.52758789062, -382318.45849609375, -492826.4689941406, -459536.12060546875, -124762.79211425781, -240254.90063476562, -509921.1501464844, -789968.3828125, -642660.2106933594, -582403.3767089844, -42558.590087890625, -28471.5029296875, -5378408477724.181, 79281031.88055454, -40919406.22332666, 147838911.24890208, -212.994140625, 1772.1252746582031, 370.42431640625, 1430.269775390625, 247.77679443359375, 3034.5528564453125, 1757913416388.0615, 1054.8454895019531, 3072.385498046875, 4167.6839599609375, 498.1139831542969, 5489.023376464844, 1883.5898132324219, -2805540331859.395, -320954554.062078, -154119618.67676952, -5598.460693359375, -283.462890625, -1055.62353515625, -2640.5633239746094, -3533.6446533203125, 3958.260986328125, 6359816908907.837, -21613.033447265625, -12347.613159179688, -12291.427001953125, -19199.310668945312, 6374.1510009765625, -9470.9052734375, 787693711676.4712, 68103428.75598548, -2266.400146484375, 1559.882080078125, 964.97216796875, -1802.5848388671875, -677.75341796875, 4308.5146484375, 3059172224510.404, -186.0479736328125, 4313.5712890625, 3566.7788696289062, -879.671875, 10423.481201171875, 2786.4639282226562, -1086127069184.9283, -1493.422119140625, 3649.869384765625, 2699.81103515625, 2863.858642578125, 727.6055297851562, 3684.0010986328125, 3191480392385.492, -313.83172607421875, 2850.135498046875, 3973.8111572265625, 564.94189453125, 8768.004638671875, 3105.415740966797, 453331918266.37354, -9038229.990620552, -27688960.081971444, -10498779.24440048, -7747581.785317561, -117228815.40375365, 2804.529541015625, 5266.7060546875, 6645.75244140625, 5303.9752197265625, 7162.7109375, 4040.75830078125, 4696.1175537109375, -590741036866.7542, -106284730.40502717, -21933100.346922755, 56305585.41765713, -65896929.532216065, 2300.6100463867188, 205.36962890625, 2629.439010620117, 2366.5169067382812, 3202.2607421875, 3133.1048583984375, 2786.676223754883, 1816390672409.462, 6730865.6149074305, 81618339.26864676, -68783920.92215385, 4465.41796875, 762.1011962890625, 3288.5654296875, 5599.7529296875, 5374.518005371094, 2329.9605712890625, 3961.608642578125, -981794977957.1182, -23357185.61891063, 40277380.28428887, 5649.18310546875, 7865.861328125, 8003.5732421875, 6875.19775390625, 6172.5621337890625, 4058.380859375, 4322.645751953125, 4716069003141.933, 35336551.460882224, 4473.407562255859, 10366.34765625, 10695.458984375, 8538.249572753906, 9735.257446289062, 5226.003112792969, 6391.3744831085205, 2057749687219.2695, 898.1004638671875, -7550.320129394531, -6562.70654296875, -3390.6205291748047, -5434.2572021484375, -1935.827880859375, -2774.6439208984375, -4313800104315.0576, 26919129.343107656, 12347486.249244709, 67338830.11270194, 24518547.30590785, 32880700.595946413, 28127122.96821553, 5874225453151.971, 7284970.071894509, 7789626.310465557, 50382103.430537, 14603870.902623817, -19855224.77477302, 273183456462.40332, -10629360.989218371, -2194771.0765019, 45937218.38102715, -24115286.325743917, -3052202176341.9023, 11809062.555870151, 15926093.658248683, -3531346.2190250605, 300020514271.3511, 6446159.013457612, 38473177.177752584, 1619225755140.3179, -35667901.49570592, -1167377436016.4316, 466633.8442687988, -551387.8759155273, -272629.74645996094, -198953.16821289062, -570815.265625, -713516.0555562973, -19687.07958984375, -113049.31762695312, -189451.615234375, -269708.3830566406, -139123.46264648438, 27942.990112304688, -215324.49291992188, -99932.39453125, -227367.19873046875, -254186.79956054688, -191980.3525390625, -66935.51049804688, -112021.26440429688, -1664255.0952148438, 237739.86303710938, -428506.27404785156, 319232.1611328125, 898079.2797622681, 180419.4326171875, 327529.50146484375, 433866.51171875, 518998.2041015625, 614478.1975097656, 176326.77612304688, 361884.9069824219, 40557.532958984375, 298846.3154296875, 371212.638671875, 177636.55029296875, 194021.802734375, -150769.9161376953, 2262903227599.18, 8196135.670772966, -26166789.95563654, -5292176.097271266, -2490.320556640625, -793.2027587890625, 195.616943359375, -2306.851318359375, 2717.8098754882812, -92.859375, -5140147257577.46, 4618.198638916016, 1915.627685546875, 4083.656005859375, 5873.822662353516, 2920.9655151367188, 4006.2511596679688, -1077858411741.843, -2052965.6244619251, 9324437.570232486, -3899.909423828125, 598.8043212890625, 3514.32763671875, -2676.9706420898438, 3547.5909423828125, 762.5169677734375, -18579392300306.496, 9462.176025390625, 7532.1820068359375, 14258.654052734375, 16874.49151611328, 13808.795532226562, 12037.182495117188, 6069320776812.214, -6757927.88630988, -2115.2314453125, 606.808837890625, 312.474365234375, -4844.2830810546875, 3746.268798828125, -1246.9298706054688, -8869765128354.7, -3041.2484130859375, -4990.8818359375, -1409.4254150390625, -335.51220703125, 2197.861572265625, 2186.4363403320312, 278760340503.5114, -3814.0205078125, 415.0224609375, 700.072265625, -1494.390380859375, 2336.2619018554688, 210.45806884765625, -9361161484531.766, -655.2012786865234, -2419.914794921875, 843.5391845703125, 991.1580810546875, 1552.894287109375, 2262.633575439453, 7092344936327.36, -2307779.605145924, -2675890.475386709, -10660016.701802313, -5945584.118046135, 986130.4918091297, 442.519775390625, 1573.27783203125, 2167.2431640625, 1027.8178100585938, 2088.4853515625, 137.50244140625, 743.1124572753906, 3387158170923.245, 0.0, 0.0, 0.0, 0.0, 578.3148803710938, 747.69189453125, 2512.95849609375, 2228.0404663085938, 3387.612548828125, 660.3330688476562, 1793.5487060546875, -5294227197302.824, 0.0, 0.0, 0.0, -610.290771484375, 2267.9267578125, 3173.44677734375, 4070.03759765625, 2601.6028442382812, -474.851806640625, 1624.857177734375, -3068930009046.083, 0.0, 0.0, -547.75390625, -1494.9375, -1265.408203125, 780.23046875, 192.7220458984375, -1798.2666015625, -68.416259765625, -5394769506966.174, 0.0, -2345.113540649414, -6623.4998779296875, -4543.7939453125, -4429.1041259765625, -4331.5755615234375, -3088.840576171875, -841.8575325012207, -1315113800038.5083, 327.0181884765625, -1011.529296875, -487.5361328125, 442.5297088623047, 353.04547119140625, -1141.7652587890625, -1145.8017578125, 8515431881956.244, 0.0, 0.0, 0.0, 0.0, 0.0, 0.0, -1987179471319.6682, 0.0, 0.0, 0.0, 0.0, 0.0, -10764696979845.324, 0.0, 0.0, 0.0, 0.0, 1662227038956.9148, 0.0, 0.0, 0.0, 2054214880635.2332, 0.0, 0.0, 353744591689.76855, 0.0, 5099670234114.223, -21702.456176757812, -45084.17126464844, -9374.810974121094, -39966.059326171875, -97536.2138671875, -27656.73193359375, -77000.08276367188, -19983.1357421875, 29517.5537109375, -36145.657470703125, 51385.33337402344, -105103.8916015625, 38491.53955078125, 70958.84228515625, -20833.308715820312, -11068.895263671875, -123591.58203125, -10116.219970703125, 3889983371266.9727, 0.0, 0.0, 0.0, 3217.631591796875, -1161.4285278320312, -327.42724609375, 1143.902587890625, -1475.101806640625, -2427.8203125, -5823112382338.244, -7889.999786376953, -7049.874267578125, -10072.33154296875, -7462.2125244140625, -8738.861206054688, -6272.313415527344, 1508708155228.2617, 0.0, 0.0, 9944.62939453125, -1145.8814697265625, -2780.712890625, 4591.579162597656, 1333.3262329101562, -4875.794677734375, -21068515434890.39, 12122.244140625, 5401.156005859375, -2197.4208984375, 3899.3531494140625, -18433.092651367188, -1133.1181640625, -4857241806761.574, 0.0, 5243.36767578125, -1870.314208984375, -1097.6805419921875, 6882.481689453125, -1510.3299560546875, -3000.7276611328125, -10026693477168.758, 3170.2274169921875, 855.494873046875, -2477.2039794921875, 2190.28759765625, -11753.169677734375, -4123.6915283203125, 2641984784820.515, 5862.8154296875, -4277.7333984375, -3294.68603515625, -1605.752197265625, -1708.6165161132812, -3588.248046875, -10533316549696.611, -295.63929748535156, -685.619384765625, -6319.5740966796875, -1588.18408203125, -10029.411743164062, -5110.1612548828125, 100178515223.59131, 0.0, 0.0, 0.0, 0.0, 0.0, -2377.493408203125, -5377.146484375, -7757.447998046875, -6028.507568359375, -7853.3642578125, -3732.824462890625, -4580.03369140625, 2052520499358.6582, 0.0, 0.0, 0.0, 0.0, -131.48849487304688, 782.501220703125, -3803.706527709961, -2770.065185546875, -4680.227783203125, -2341.7709350585938, -3104.736785888672, -79139445808.66064, 0.0, 0.0, 0.0, 945.3580322265625, -1651.6971435546875, -5513.36962890625, -6985.49755859375, -5354.794921875, 384.42913818359375, -3269.2587890625, 8781550091590.887, 0.0, 0.0, -1767.38623046875, -5704.648193359375, -5730.29296875, -5368.951477050781, -3652.23974609375, -475.19677734375, -2605.556884765625, 581210482135.2523, 0.0, -407.5156555175781, -5000.82275390625, -6325.12646484375, -3817.097412109375, -5403.4322509765625, -1484.1337280273438, -5296.785367965698, -328112638651.9943, -1919.5452880859375, 1186.7161865234375, 1151.465576171875, -2552.3150329589844, -1469.6025390625, 1146.754638671875, 763.7549438476562, 12264931417684.158, 0.0, 0.0, 0.0, 0.0, 0.0, 0.0, -1538104788834.3765, 0.0, 0.0, 0.0, 0.0, 0.0, 826742769766.0801, 0.0, 0.0, 0.0, 0.0, -4121524782806.2217, 0.0, 0.0, 0.0, 265283242060.75513, 0.0, 0.0, -3455018810877.385, 0.0, -1806070846989.714, 25601128049672.457, 0.0, 0.0, 0.0, 630892897160.1653, -95932283994.0032, 989768104454.8416, 3130370317565.7373, 1225815357128.3167, 101143400144.60657, -881446032524.9729, -1839906028864.0464, 1599814417755.9954, -1471230133237.0083, -335994118394.4415, 388457790938.95886, 42245085865.99017, 0.0, 0.0, 0.0, 0.0, 0.0, 0.0, 0.0, 0.0, 0.0, 0.0, 0.0, 0.0, 0.0, 0.0, 0.0, 0.0, 0.0, 0.0, 0.0, 0.0, 0.0, 0.0, 0.0, 0.0, 0.0, 0.0, 0.0, 0.0, 0.0, 0.0, 0.0, 0.0, 0.0, 0.0, 0.0, 0.0, 0.0, 0.0, 0.0, 0.0, 0.0, 0.0, 0.0, 0.0, 0.0, 627872955785.0525, 0.0, 0.0, 0.0, 0.0, 0.0, 6102346453335.497, -144.943115234375, -102.515380859375, -88.70352172851562, -93.5667724609375, 16.8212890625, -71.66827392578125, -96342103888.26053, 0.0, 0.0, 0.0, 0.0, 128463680833.13947, -111.79779052734375, -64.98486328125, -72.88055419921875, -77.97515869140625, 31.73229217529297, -80.03938293457031, 989768104454.8416, 0.0, 0.0, 0.0, 222551457253.64517, -86.1453857421875, -77.856201171875, -68.7972412109375, -77.07757568359375, 23.59735107421875, -45.04736328125, 3130370800176.3096, 0.0, 0.0, 1025033672392.7914, -78.166259765625, -49.3603515625, -44.20329284667969, -53.791748046875, 0.6156005859375, -18.15960693359375, 1225815357128.3167, 0.0, 585477445976.0154, -74.5198974609375, -46.9979248046875, -34.0264892578125, -63.09839916229248, 35.76273012161255, -20.189285278320312, -902695137794.0322, -3808553972640.4053, -102.78070068359375, -79.555908203125, -92.25262451171875, -90.33950805664062, 0.0, -29.406234741210938, -883679970777.8918, 0.0, 0.0, 0.0, 0.0, 0.0, 0.0, -1066632717681.4559, 0.0, 0.0, 0.0, 0.0, 0.0, 1325180626271.5037, 0.0, 0.0, 0.0, 0.0, -1473072001963.5815, 0.0, 0.0, 0.0, -335994118394.4415, 0.0, 0.0, 417500108562.6527, 0.0, 42245085865.99017, -21405102955993.414, 0.0, 0.0, 629300160268.114, -69841872943.94403, -1826612390684.7349, -6435791553385.613, -1343205533537.438, -1531870783429.7554, -5484771681512.042, -2466694150434.1963, 1576776858998.4946, 87653851314.67236, -2563075202449.114, -1818024381876.769, 132946860395.97229, 0.0, 0.0, 0.0, 0.0, 0.0, 0.0, 0.0, 0.0, 0.0, 0.0, 0.0, 0.0, 0.0, 0.0, 0.0, 0.0, 0.0, 0.0, 0.0, 0.0, 0.0, 0.0, 0.0, 0.0, 0.0, 0.0, 0.0, 0.0, 0.0, 629281271359.782, 0.0, 0.0, 0.0, 0.0, 0.0, 20589698495399.137, -305.95947265625, -210.032470703125, -303.6779022216797, -350.382568359375, -24.8045654296875, -314.06911849975586, -70006768437.46552, 0.0, 0.0, 0.0, 0.0, 644522244207.9106, -279.98046875, -196.95379638671875, -247.0194091796875, -301.6640625, 40.05218505859375, -353.1905517578125, -1826612390684.7349, 0.0, 0.0, 0.0, 978415310235.9274, -288.1983337402344, -224.6910400390625, -341.08740234375, -331.63134765625, -54.1302490234375, -304.301513671875, -6444312861177.078, 0.0, 0.0, 8918267824228.219, -265.279296875, -171.80419921875, -216.8795166015625, -224.103271484375, -94.039306640625, -139.0161590576172, -1342806928080.9429, 0.0, 2265441230484.634, -174.2783203125, -114.89303588867188, -118.265625, -163.283203125, 48.48779296875, -80.57283020019531, -1531870783429.7554, -6218518828997.068, -222.4224853515625, -137.11819458007812, -247.10635375976562, -217.80075073242188, 30217763625583.316, -104.02438354492188, -5491680872482.735, 0.0, 0.0, 0.0, 0.0, 0.0, 0.0, -2466682384433.42, 0.0, 0.0, 0.0, 0.0, 0.0, 1558714281018.1274, 0.0, 0.0, 0.0, 0.0, 91967349006.95508, 0.0, 0.0, 0.0, -2421941861350.2817, 0.0, 0.0, -1818024381876.769, 0.0, 132946860395.97229, 7462519796889.612, 0.0, 957427985732.1216, -425979064287.355, -978036642981.146, 1064026041240.877, -1088211393759.4585, -616701489363.8717, -903533418523.5771, 85649268855.24219, -1247864703539.5752, -5037345839.723145, 2354324111069.056, -192585967506.4939, -642792554303.4133, 0.0, 0.0, 0.0, 0.0, 0.0, 0.0, 0.0, 0.0, 0.0, 0.0, 0.0, 0.0, 0.0, 0.0, 957427985732.1216, 0.0, 0.0, 0.0, 0.0, 0.0, 11576394675403.19, -255.5191650390625, -233.5704345703125, -221.85826110839844, -264.8828125, -16.40863037109375, -141.05703735351562, -426486470525.73584, 0.0, 0.0, 0.0, 0.0, 232810844700.8188, -256.46337890625, -209.26559448242188, -163.718505859375, -236.625244140625, 20.50750732421875, -167.56707763671875, -978036642981.146, 0.0, 0.0, 0.0, 422649415243.5394, -267.5718994140625, -232.172119140625, -255.789794921875, -300.89208984375, -27.851165771484375, -172.92193603515625, 1064026041240.877, 0.0, 0.0, 3901816058955.259, -226.51405334472656, -166.1318359375, -180.47833251953125, -206.2705078125, -43.01025390625, -81.4600830078125, -1088211393759.4585, 0.0, 1079395481549.6217, -197.99737548828125, -160.50213623046875, -135.2420654296875, -190.05615234375, 15.9798583984375, -81.40122985839844, -615312949768.8073, -4664321606898.971, -140.56643676757812, -106.80682373046875, -172.3457794189453, -144.061279296875, 28667847280512.58, -55.442413330078125, -904373992290.9272, 0.0, 0.0, 0.0, 0.0, 0.0, 0.0, 79889285996.53809, 0.0, 0.0, 0.0, 0.0, 0.0, -1247864705015.4424, 0.0, 0.0, 0.0, 0.0, -5037345839.723145, 0.0, 0.0, 0.0, 2354324111069.056, 0.0, 0.0, -192596154824.8142, 0.0, -642754181556.4768, -13750798873396.385, -3049246330724.6875, 597430088031.23, -668578563006.352, 84639741793.04736, -908273896644.7322, 1338183541535.6484, -2298916831855.03, -1763812236788.042, 89708996057.69043, 1438197202222.483, -3086086850967.3325, 2084115722383.6243, 423368758170.1922, -3049246334899.881, 0.0, 0.0, 0.0, 0.0, 0.0, 14436387891952.986, -218.35205078125, -163.908203125, -171.62075805664062, -175.748046875, 16.5986328125, -186.22866821289062, 597429482888.439, 0.0, 0.0, 0.0, 0.0, 310761787346.42615, -243.5687255859375, -157.5830078125, -145.41876220703125, -192.1566162109375, 43.454833984375, -216.13493728637695, -668578563006.352, 0.0, 0.0, 0.0, 378094313176.2807, -198.4837646484375, -148.464599609375, -170.7763671875, -175.40771484375, 15.1326904296875, -141.50634765625, 84639741793.04736, 0.0, 0.0, 3074449374625.284, -138.38348388671875, -76.914794921875, -88.06552124023438, -109.01416015625, -0.78515625, -45.328369140625, -908277003143.1594, 0.0, 979574368909.6774, -132.54315185546875, -88.265869140625, -63.5103759765625, -111.92913818359375, 45.902252197265625, -40.42247009277344, 1338183541535.6484, -4113653971732.7446, -60.5660400390625, -52.5594482421875, -77.39617919921875, -57.665130615234375, 26171084508605.543, -9.524948120117188, -2298920220609.1147, 0.0, 0.0, 0.0, 0.0, 0.0, 0.0, -1763812236788.042, 0.0, 0.0, 0.0, 0.0, 0.0, 89708996057.69043, 0.0, 0.0, 0.0, 0.0, 1438197646826.0776, 0.0, 0.0, 0.0, -3085751454657.61, 0.0, 0.0, 2084114827960.4817, 0.0, 423368758170.1922, -14435013579825.65, 0.0, 0.0, 0.0, 0.0, 0.0, -9424789619265.646, 166154674917.16553, 971396580216.1704, -989619402973.1183, 1210465114185.3955, -1202611896330.4019, 507284663128.5949, 0.0, 0.0, 0.0, 0.0, 0.0, 0.0, 0.0, 0.0, 0.0, 0.0, 0.0, 0.0, 0.0, 0.0, 0.0, 0.0, 0.0, 0.0, 0.0, 0.0, 0.0, 0.0, 0.0, 0.0, 0.0, 0.0, 0.0, 0.0, 0.0, 0.0, 0.0, 0.0, 0.0, 0.0, 0.0, 0.0, 0.0, 0.0, 0.0, 0.0, 0.0, 0.0, 0.0, 0.0, 0.0, 0.0, 0.0, 0.0, 0.0, 0.0, -9424789619265.646, 0.0, 0.0, 0.0, 0.0, 0.0, 0.0, 186507705462.2251, 0.0, 0.0, 0.0, 0.0, 0.0, 971396562434.894, 0.0, 0.0, 0.0, 0.0, -989619402973.1183, 0.0, 0.0, 0.0, 1206626156849.9512, 0.0, 0.0, -1202611896330.4019, 0.0, 507284663128.5949, -607160815053.8674, 0.0, 0.0, 0.0, 0.0, -1121126078786.9106, 669451586792.2803, 324135143538.596, -8581379869.500061, -810143779462.1104, -2208558026207.354, -912086738922.4901, 0.0, 0.0, 0.0, 0.0, 0.0, 0.0, 0.0, 0.0, 0.0, 0.0, 0.0, 0.0, 0.0, 0.0, 0.0, 0.0, 0.0, 0.0, 0.0, 0.0, 0.0, 0.0, 0.0, 0.0, 0.0, 0.0, 0.0, 0.0, 0.0, 0.0, 0.0, 0.0, 0.0, 0.0, 0.0, 0.0, 0.0, 0.0, -1121126078786.9106, 0.0, 0.0, 0.0, 0.0, 0.0, 0.0, 669451586792.2803, 0.0, 0.0, 0.0, 0.0, 0.0, 324135143538.596, 0.0, 0.0, 0.0, 0.0, -8960825287.513733, 0.0, 0.0, 0.0, -810143779462.1104, 0.0, 0.0, -2208558026207.354, 0.0, -912086738922.4901, 17753553991252.59, 0.0, 0.0, 0.0, -1424759378447.3508, 5723859478.822144, 135248994298.99829, -1695068133680.6255, -2384961323594.7554, 2501007179088.9214, 732165389389.1047, 0.0, 0.0, 0.0, 0.0, 0.0, 0.0, 0.0, 0.0, 0.0, 0.0, 0.0, 0.0, 0.0, 0.0, 0.0, 0.0, 0.0, 0.0, 0.0, 0.0, 0.0, 0.0, 0.0, 0.0, 0.0, 0.0, 0.0, -1424759378447.3508, 0.0, 0.0, 0.0, 0.0, 0.0, 0.0, 5723859478.822144, 0.0, 0.0, 0.0, 0.0, 0.0, 135248994298.99829, 0.0, 0.0, 0.0, 0.0, -1695068133680.6255, 0.0, 0.0, 0.0, -2384961157270.196, 0.0, 0.0, 2501007179088.9214, 0.0, 732165389389.1047, -3133159378372.6367, 0.0, 0.0, -2097589630112.788, -372055702375.3716, 465440261283.5332, -1617119154852.0771, -4378555210054.7637, -3391628615528.9463, 1034121338051.3704, 0.0, 0.0, 0.0, 0.0, 0.0, 0.0, 0.0, 0.0, 0.0, 0.0, 0.0, 0.0, 0.0, 0.0, 0.0, 0.0, 0.0, -2097589854268.2314, 0.0, 0.0, 0.0, 0.0, 0.0, 0.0, -372056522013.45166, 0.0, 0.0, 0.0, 0.0, 0.0, 465440261283.5332, 0.0, 0.0, 0.0, 0.0, -1617119154852.0771, 0.0, 0.0, 0.0, -4378555210054.7637, 0.0, 0.0, -3391628615528.9463, 0.0, 1034123765905.3723, -3192790587540.798, 0.0, -1823446383233.7358, 315819499925.09076, 2370080258429.0273, 122954692625.94781, -701118344691.2032, 1432390651627.8472, 905317851070.0393, 0.0, 0.0, 0.0, 0.0, 0.0, 0.0, 0.0, 0.0, -1823446383233.7358, 0.0, 0.0, 0.0, 0.0, 0.0, 0.0, 315819499925.09076, 0.0, 0.0, 0.0, 0.0, 0.0, 2370080258429.0273, 0.0, 0.0, 0.0, 0.0, 122954692625.94781, 0.0, 0.0, 0.0, -701118344691.2032, 0.0, 0.0, 1432390651627.8472, 0.0, 905317851070.0403, -3037657210472.497, 1003129380024.8419, -118446294612.45999, -920901551950.3584, 674386488597.5442, 412890076892.7576, -15111844025748.074, -606691295652.7032, 1003129380024.8419, 0.0, 0.0, 0.0, 0.0, 0.0, 0.0, -118446294612.45999, 0.0, 0.0, 0.0, 0.0, 0.0, -920901551950.3584, 0.0, 0.0, 0.0, 0.0, 674386488597.5442, 0.0, 0.0, 0.0, 412890076892.7576, 0.0, 0.0, -15111844025748.07, 0.0, -606691295652.7057, -19045291512601.02, 0.0, 0.0, 0.0, 0.0, 0.0, 0.0, 0.0, 0.0, 0.0, 0.0, 0.0, 0.0, 0.0, 0.0, 0.0, 0.0, 0.0, 0.0, 0.0, 0.0, 0.0, 0.0, 0.0, 0.0, 0.0, 0.0, 0.0, -1530921092151.6497, 0.0, 0.0, 0.0, 0.0, 0.0, 0.0, 0.0, 0.0, 0.0, 0.0, 0.0, 0.0, 0.0, 0.0, 0.0, 0.0, 0.0, 0.0, 0.0, 0.0, -10125002619365.863, 0.0, 0.0, 0.0, 0.0, 0.0, 0.0, 0.0, 0.0, 0.0, 0.0, 0.0, 0.0, 0.0, 0.0, 4098663369073.334, 0.0, 0.0, 0.0, 0.0, 0.0, 0.0, 0.0, 0.0, 0.0, -2672794308975.898, 0.0, 0.0, 0.0, 0.0, 0.0, 4917193140050.105, 0.0, 0.0, -2033978009734.4604]\n"
     ]
    }
   ],
   "source": [
    "print(list(lr.coef_))"
   ]
  },
  {
   "cell_type": "code",
   "execution_count": 113,
   "metadata": {},
   "outputs": [
    {
     "name": "stdout",
     "output_type": "stream",
     "text": [
      "Train r2: 0.960726835073682\n",
      "Test r2: 0.9588452744418552\n",
      "[ 0.00000000e+00  0.00000000e+00  0.00000000e+00  0.00000000e+00\n",
      " -6.94345723e+02 -1.05286996e+00 -0.00000000e+00  0.00000000e+00\n",
      " -0.00000000e+00  0.00000000e+00 -0.00000000e+00 -5.19844269e+01\n",
      " -0.00000000e+00 -0.00000000e+00 -0.00000000e+00  0.00000000e+00\n",
      "  0.00000000e+00 -0.00000000e+00  0.00000000e+00  1.16307226e+02\n",
      " -0.00000000e+00 -0.00000000e+00 -0.00000000e+00 -1.67439524e+01\n",
      "  0.00000000e+00  0.00000000e+00  0.00000000e+00  4.13414631e+03\n",
      "  1.53715052e+02  0.00000000e+00  3.70736066e+01  2.86842988e+02\n",
      "  1.16764989e+02  1.84853808e+02  1.46525513e+01  1.79679436e+01\n",
      " -1.36731074e+02 -5.58719948e+02 -7.54294122e+02 -9.26275036e+02\n",
      "  6.66832447e+02  1.13967149e+03  6.28396587e+02  1.27543545e+03\n",
      "  1.43160028e+03  8.45405547e+02  1.06961659e+03  0.00000000e+00\n",
      "  0.00000000e+00 -3.94901793e+02 -0.00000000e+00 -0.00000000e+00\n",
      "  1.92853474e+01 -0.00000000e+00  7.26936091e+01 -0.00000000e+00\n",
      " -1.36938568e-02 -9.89470333e+01 -0.00000000e+00 -0.00000000e+00\n",
      "  0.00000000e+00  5.45075020e+01 -0.00000000e+00  1.70769427e+01\n",
      "  2.13361047e+01 -0.00000000e+00 -0.00000000e+00 -9.63587238e+00\n",
      " -0.00000000e+00 -0.00000000e+00 -1.56902895e+02 -3.38845001e+01\n",
      " -0.00000000e+00  0.00000000e+00 -0.00000000e+00  0.00000000e+00\n",
      " -0.00000000e+00 -0.00000000e+00 -2.43367780e+00 -0.00000000e+00\n",
      " -0.00000000e+00  0.00000000e+00  0.00000000e+00 -0.00000000e+00\n",
      "  0.00000000e+00  0.00000000e+00 -0.00000000e+00 -0.00000000e+00\n",
      " -0.00000000e+00 -0.00000000e+00 -0.00000000e+00 -0.00000000e+00\n",
      "  0.00000000e+00  0.00000000e+00 -0.00000000e+00  0.00000000e+00\n",
      "  0.00000000e+00 -0.00000000e+00 -0.00000000e+00 -9.57347228e+01\n",
      " -0.00000000e+00 -0.00000000e+00  0.00000000e+00  0.00000000e+00\n",
      "  0.00000000e+00  0.00000000e+00 -0.00000000e+00 -0.00000000e+00\n",
      " -0.00000000e+00 -0.00000000e+00 -0.00000000e+00 -0.00000000e+00\n",
      "  0.00000000e+00 -0.00000000e+00  0.00000000e+00  0.00000000e+00\n",
      " -0.00000000e+00 -0.00000000e+00 -0.00000000e+00 -0.00000000e+00\n",
      " -0.00000000e+00  0.00000000e+00  0.00000000e+00  0.00000000e+00\n",
      "  0.00000000e+00 -0.00000000e+00 -0.00000000e+00 -0.00000000e+00\n",
      " -0.00000000e+00  0.00000000e+00  0.00000000e+00 -0.00000000e+00\n",
      "  0.00000000e+00  0.00000000e+00 -0.00000000e+00 -0.00000000e+00\n",
      " -0.00000000e+00 -0.00000000e+00 -0.00000000e+00  0.00000000e+00\n",
      "  0.00000000e+00  0.00000000e+00  0.00000000e+00 -0.00000000e+00\n",
      " -0.00000000e+00 -0.00000000e+00 -0.00000000e+00  0.00000000e+00\n",
      "  0.00000000e+00  0.00000000e+00  0.00000000e+00  0.00000000e+00\n",
      " -0.00000000e+00  0.00000000e+00  8.35094405e+00  0.00000000e+00\n",
      "  1.69089881e+00  2.35072839e+00  5.50822500e+00  7.79805367e+00\n",
      "  0.00000000e+00  0.00000000e+00 -0.00000000e+00 -0.00000000e+00\n",
      " -0.00000000e+00  0.00000000e+00  0.00000000e+00 -5.02723091e+00\n",
      " -0.00000000e+00 -0.00000000e+00 -0.00000000e+00 -0.00000000e+00\n",
      " -0.00000000e+00 -0.00000000e+00  0.00000000e+00 -0.00000000e+00\n",
      " -0.00000000e+00 -0.00000000e+00 -0.00000000e+00 -0.00000000e+00\n",
      "  0.00000000e+00  0.00000000e+00  0.00000000e+00  0.00000000e+00\n",
      "  0.00000000e+00 -0.00000000e+00 -0.00000000e+00 -0.00000000e+00\n",
      " -0.00000000e+00 -0.00000000e+00  0.00000000e+00  0.00000000e+00\n",
      "  0.00000000e+00  0.00000000e+00  0.00000000e+00 -0.00000000e+00\n",
      " -0.00000000e+00 -0.00000000e+00 -0.00000000e+00  0.00000000e+00\n",
      "  0.00000000e+00  5.58309598e-01  6.53473381e+00  0.00000000e+00\n",
      "  0.00000000e+00 -0.00000000e+00 -0.00000000e+00 -0.00000000e+00\n",
      " -0.00000000e+00 -0.00000000e+00  0.00000000e+00  0.00000000e+00\n",
      "  0.00000000e+00  0.00000000e+00  0.00000000e+00  0.00000000e+00\n",
      " -0.00000000e+00 -0.00000000e+00 -0.00000000e+00 -1.08699335e+00\n",
      " -0.00000000e+00 -0.00000000e+00 -0.00000000e+00  0.00000000e+00\n",
      "  0.00000000e+00  0.00000000e+00  0.00000000e+00 -0.00000000e+00\n",
      " -7.90310104e+00 -4.21555456e+00  0.00000000e+00  0.00000000e+00\n",
      "  0.00000000e+00 -0.00000000e+00 -0.00000000e+00  0.00000000e+00\n",
      "  0.00000000e+00  0.00000000e+00 -4.40066345e+01  0.00000000e+00\n",
      "  0.00000000e+00  0.00000000e+00 -0.00000000e+00 -2.68051873e+01\n",
      " -2.29945756e+01 -0.00000000e+00  0.00000000e+00  0.00000000e+00\n",
      " -3.19233164e+01  9.04983966e+01  1.20372622e+02 -0.00000000e+00\n",
      " -0.00000000e+00 -2.66264724e+01 -2.29808332e+01  0.00000000e+00\n",
      "  0.00000000e+00 -2.26538313e+01  9.97313754e+01  1.45890700e+02\n",
      " -0.00000000e+00  0.00000000e+00 -2.53262945e+01 -2.60476670e+01\n",
      "  0.00000000e+00 -1.59114029e+01  9.28073669e+01  1.69885270e+02\n",
      "  0.00000000e+00  0.00000000e+00 -1.19838418e+01 -2.91547441e+01\n",
      " -0.00000000e+00  0.00000000e+00  0.00000000e+00  0.00000000e+00\n",
      "  0.00000000e+00  0.00000000e+00  0.00000000e+00  0.00000000e+00\n",
      "  0.00000000e+00  0.00000000e+00  0.00000000e+00  0.00000000e+00\n",
      "  0.00000000e+00  0.00000000e+00  0.00000000e+00  0.00000000e+00\n",
      "  0.00000000e+00  0.00000000e+00 -0.00000000e+00  0.00000000e+00\n",
      "  0.00000000e+00  0.00000000e+00 -0.00000000e+00  0.00000000e+00\n",
      "  0.00000000e+00 -0.00000000e+00  0.00000000e+00 -0.00000000e+00]\n"
     ]
    }
   ],
   "source": [
    "poly = preprocessing.PolynomialFeatures(degree = 2)\n",
    "X_train_poly = poly.fit_transform(X_train)\n",
    "X_test_poly = poly.transform(X_test)\n",
    "\n",
    "X_train_std = scaler.fit_transform(X_train_poly)\n",
    "X_test_std = scaler.transform(X_test_poly)\n",
    "\n",
    "\n",
    "lr = linear_model.Lasso(alpha = 10.0, max_iter = 5000)\n",
    "lr.fit(X_train_std, y_train)\n",
    "\n",
    "y_train_pred = lr.predict(X_train_std)\n",
    "y_test_pred = lr.predict(X_test_std)\n",
    "\n",
    "print(\"Train r2:\", metrics.r2_score(y_train, y_train_pred))\n",
    "print(\"Test r2:\", metrics.r2_score(y_test, y_test_pred))\n",
    "\n",
    "print(lr.coef_)"
   ]
  },
  {
   "cell_type": "code",
   "execution_count": null,
   "metadata": {},
   "outputs": [],
   "source": []
  }
 ],
 "metadata": {
  "kernelspec": {
   "display_name": "Python 3",
   "language": "python",
   "name": "python3"
  },
  "language_info": {
   "codemirror_mode": {
    "name": "ipython",
    "version": 3
   },
   "file_extension": ".py",
   "mimetype": "text/x-python",
   "name": "python",
   "nbconvert_exporter": "python",
   "pygments_lexer": "ipython3",
   "version": "3.7.6"
  }
 },
 "nbformat": 4,
 "nbformat_minor": 4
}
