{
 "cells": [
  {
   "cell_type": "code",
   "execution_count": 1,
   "metadata": {},
   "outputs": [],
   "source": [
    "import pandas as pd"
   ]
  },
  {
   "cell_type": "code",
   "execution_count": 2,
   "metadata": {},
   "outputs": [
    {
     "data": {
      "text/html": [
       "<div>\n",
       "<style scoped>\n",
       "    .dataframe tbody tr th:only-of-type {\n",
       "        vertical-align: middle;\n",
       "    }\n",
       "\n",
       "    .dataframe tbody tr th {\n",
       "        vertical-align: top;\n",
       "    }\n",
       "\n",
       "    .dataframe thead th {\n",
       "        text-align: right;\n",
       "    }\n",
       "</style>\n",
       "<table border=\"1\" class=\"dataframe\">\n",
       "  <thead>\n",
       "    <tr style=\"text-align: right;\">\n",
       "      <th></th>\n",
       "      <th>checking_balance</th>\n",
       "      <th>months_loan_duration</th>\n",
       "      <th>credit_history</th>\n",
       "      <th>purpose</th>\n",
       "      <th>amount</th>\n",
       "      <th>savings_balance</th>\n",
       "      <th>employment_length</th>\n",
       "      <th>installment_rate</th>\n",
       "      <th>personal_status</th>\n",
       "      <th>other_debtors</th>\n",
       "      <th>...</th>\n",
       "      <th>property</th>\n",
       "      <th>age</th>\n",
       "      <th>installment_plan</th>\n",
       "      <th>housing</th>\n",
       "      <th>existing_credits</th>\n",
       "      <th>default</th>\n",
       "      <th>dependents</th>\n",
       "      <th>telephone</th>\n",
       "      <th>foreign_worker</th>\n",
       "      <th>job</th>\n",
       "    </tr>\n",
       "  </thead>\n",
       "  <tbody>\n",
       "    <tr>\n",
       "      <td>0</td>\n",
       "      <td>&lt; 0 DM</td>\n",
       "      <td>6</td>\n",
       "      <td>critical</td>\n",
       "      <td>radio/tv</td>\n",
       "      <td>1169</td>\n",
       "      <td>unknown</td>\n",
       "      <td>&gt; 7 yrs</td>\n",
       "      <td>4</td>\n",
       "      <td>single male</td>\n",
       "      <td>none</td>\n",
       "      <td>...</td>\n",
       "      <td>real estate</td>\n",
       "      <td>67</td>\n",
       "      <td>none</td>\n",
       "      <td>own</td>\n",
       "      <td>2</td>\n",
       "      <td>1</td>\n",
       "      <td>1</td>\n",
       "      <td>yes</td>\n",
       "      <td>yes</td>\n",
       "      <td>skilled employee</td>\n",
       "    </tr>\n",
       "    <tr>\n",
       "      <td>1</td>\n",
       "      <td>1 - 200 DM</td>\n",
       "      <td>48</td>\n",
       "      <td>repaid</td>\n",
       "      <td>radio/tv</td>\n",
       "      <td>5951</td>\n",
       "      <td>&lt; 100 DM</td>\n",
       "      <td>1 - 4 yrs</td>\n",
       "      <td>2</td>\n",
       "      <td>female</td>\n",
       "      <td>none</td>\n",
       "      <td>...</td>\n",
       "      <td>real estate</td>\n",
       "      <td>22</td>\n",
       "      <td>none</td>\n",
       "      <td>own</td>\n",
       "      <td>1</td>\n",
       "      <td>2</td>\n",
       "      <td>1</td>\n",
       "      <td>none</td>\n",
       "      <td>yes</td>\n",
       "      <td>skilled employee</td>\n",
       "    </tr>\n",
       "    <tr>\n",
       "      <td>2</td>\n",
       "      <td>unknown</td>\n",
       "      <td>12</td>\n",
       "      <td>critical</td>\n",
       "      <td>education</td>\n",
       "      <td>2096</td>\n",
       "      <td>&lt; 100 DM</td>\n",
       "      <td>4 - 7 yrs</td>\n",
       "      <td>2</td>\n",
       "      <td>single male</td>\n",
       "      <td>none</td>\n",
       "      <td>...</td>\n",
       "      <td>real estate</td>\n",
       "      <td>49</td>\n",
       "      <td>none</td>\n",
       "      <td>own</td>\n",
       "      <td>1</td>\n",
       "      <td>1</td>\n",
       "      <td>2</td>\n",
       "      <td>none</td>\n",
       "      <td>yes</td>\n",
       "      <td>unskilled resident</td>\n",
       "    </tr>\n",
       "    <tr>\n",
       "      <td>3</td>\n",
       "      <td>&lt; 0 DM</td>\n",
       "      <td>42</td>\n",
       "      <td>repaid</td>\n",
       "      <td>furniture</td>\n",
       "      <td>7882</td>\n",
       "      <td>&lt; 100 DM</td>\n",
       "      <td>4 - 7 yrs</td>\n",
       "      <td>2</td>\n",
       "      <td>single male</td>\n",
       "      <td>guarantor</td>\n",
       "      <td>...</td>\n",
       "      <td>building society savings</td>\n",
       "      <td>45</td>\n",
       "      <td>none</td>\n",
       "      <td>for free</td>\n",
       "      <td>1</td>\n",
       "      <td>1</td>\n",
       "      <td>2</td>\n",
       "      <td>none</td>\n",
       "      <td>yes</td>\n",
       "      <td>skilled employee</td>\n",
       "    </tr>\n",
       "    <tr>\n",
       "      <td>4</td>\n",
       "      <td>&lt; 0 DM</td>\n",
       "      <td>24</td>\n",
       "      <td>delayed</td>\n",
       "      <td>car (new)</td>\n",
       "      <td>4870</td>\n",
       "      <td>&lt; 100 DM</td>\n",
       "      <td>1 - 4 yrs</td>\n",
       "      <td>3</td>\n",
       "      <td>single male</td>\n",
       "      <td>none</td>\n",
       "      <td>...</td>\n",
       "      <td>unknown/none</td>\n",
       "      <td>53</td>\n",
       "      <td>none</td>\n",
       "      <td>for free</td>\n",
       "      <td>2</td>\n",
       "      <td>2</td>\n",
       "      <td>2</td>\n",
       "      <td>none</td>\n",
       "      <td>yes</td>\n",
       "      <td>skilled employee</td>\n",
       "    </tr>\n",
       "  </tbody>\n",
       "</table>\n",
       "<p>5 rows × 21 columns</p>\n",
       "</div>"
      ],
      "text/plain": [
       "  checking_balance  months_loan_duration credit_history    purpose  amount  \\\n",
       "0           < 0 DM                     6       critical   radio/tv    1169   \n",
       "1       1 - 200 DM                    48         repaid   radio/tv    5951   \n",
       "2          unknown                    12       critical  education    2096   \n",
       "3           < 0 DM                    42         repaid  furniture    7882   \n",
       "4           < 0 DM                    24        delayed  car (new)    4870   \n",
       "\n",
       "  savings_balance employment_length  installment_rate personal_status  \\\n",
       "0         unknown           > 7 yrs                 4     single male   \n",
       "1        < 100 DM         1 - 4 yrs                 2          female   \n",
       "2        < 100 DM         4 - 7 yrs                 2     single male   \n",
       "3        < 100 DM         4 - 7 yrs                 2     single male   \n",
       "4        < 100 DM         1 - 4 yrs                 3     single male   \n",
       "\n",
       "  other_debtors  ...                  property age  installment_plan  \\\n",
       "0          none  ...               real estate  67              none   \n",
       "1          none  ...               real estate  22              none   \n",
       "2          none  ...               real estate  49              none   \n",
       "3     guarantor  ...  building society savings  45              none   \n",
       "4          none  ...              unknown/none  53              none   \n",
       "\n",
       "    housing existing_credits  default  dependents  telephone foreign_worker  \\\n",
       "0       own                2        1           1        yes            yes   \n",
       "1       own                1        2           1       none            yes   \n",
       "2       own                1        1           2       none            yes   \n",
       "3  for free                1        1           2       none            yes   \n",
       "4  for free                2        2           2       none            yes   \n",
       "\n",
       "                  job  \n",
       "0    skilled employee  \n",
       "1    skilled employee  \n",
       "2  unskilled resident  \n",
       "3    skilled employee  \n",
       "4    skilled employee  \n",
       "\n",
       "[5 rows x 21 columns]"
      ]
     },
     "execution_count": 2,
     "metadata": {},
     "output_type": "execute_result"
    }
   ],
   "source": [
    "df = pd.read_csv(\"/data/credit-default.csv\")\n",
    "df.head()"
   ]
  },
  {
   "cell_type": "code",
   "execution_count": 3,
   "metadata": {},
   "outputs": [
    {
     "name": "stdout",
     "output_type": "stream",
     "text": [
      "<class 'pandas.core.frame.DataFrame'>\n",
      "RangeIndex: 1000 entries, 0 to 999\n",
      "Data columns (total 21 columns):\n",
      "checking_balance        1000 non-null object\n",
      "months_loan_duration    1000 non-null int64\n",
      "credit_history          1000 non-null object\n",
      "purpose                 1000 non-null object\n",
      "amount                  1000 non-null int64\n",
      "savings_balance         1000 non-null object\n",
      "employment_length       1000 non-null object\n",
      "installment_rate        1000 non-null int64\n",
      "personal_status         1000 non-null object\n",
      "other_debtors           1000 non-null object\n",
      "residence_history       1000 non-null int64\n",
      "property                1000 non-null object\n",
      "age                     1000 non-null int64\n",
      "installment_plan        1000 non-null object\n",
      "housing                 1000 non-null object\n",
      "existing_credits        1000 non-null int64\n",
      "default                 1000 non-null int64\n",
      "dependents              1000 non-null int64\n",
      "telephone               1000 non-null object\n",
      "foreign_worker          1000 non-null object\n",
      "job                     1000 non-null object\n",
      "dtypes: int64(8), object(13)\n",
      "memory usage: 164.2+ KB\n"
     ]
    }
   ],
   "source": [
    "df.info()"
   ]
  },
  {
   "cell_type": "code",
   "execution_count": 4,
   "metadata": {},
   "outputs": [
    {
     "data": {
      "text/plain": [
       "1    700\n",
       "2    300\n",
       "Name: default, dtype: int64"
      ]
     },
     "execution_count": 4,
     "metadata": {},
     "output_type": "execute_result"
    }
   ],
   "source": [
    "df.default.value_counts()"
   ]
  },
  {
   "cell_type": "code",
   "execution_count": 9,
   "metadata": {},
   "outputs": [],
   "source": [
    "from sklearn import *\n",
    "\n",
    "target = \"default\"\n",
    "X = df.drop(columns=target)\n",
    "y = preprocessing.LabelEncoder().fit_transform(df[target])\n",
    "\n",
    "cat_columns = [c  for c in X.dtypes.index if str(X.dtypes[c]) == \"object\"]\n",
    "num_columns = [c  for c in X.dtypes.index if str(X.dtypes[c]) != \"object\"]\n",
    "\n",
    "# Build pipelines for categorical data and numeric data\n",
    "cat_pipe = pipeline.Pipeline([\n",
    "    ('imputer', impute.SimpleImputer(strategy='constant', fill_value='missing')),\n",
    "    ('onehot', preprocessing.OneHotEncoder(handle_unknown='ignore'))\n",
    "]) \n",
    "\n",
    "num_pipe = pipeline.Pipeline([\n",
    "    ('imputer', impute.SimpleImputer(strategy='median')),\n",
    "    ('poly', preprocessing.PolynomialFeatures(degree=1, include_bias=False)),\n",
    "    ('scaler', preprocessing.StandardScaler()),\n",
    "])\n",
    "\n",
    "preprocessing_pipe = compose.ColumnTransformer([\n",
    "    (\"cat\", cat_pipe, cat_columns),\n",
    "    (\"num\", num_pipe, num_columns)\n",
    "])\n",
    "\n",
    "\n",
    "# Build estimator pipeline\n",
    "estimator_pipe = pipeline.Pipeline([\n",
    "    (\"preprocessing\", preprocessing_pipe),\n",
    "    (\"est\", linear_model.LogisticRegression(solver = \"liblinear\"))\n",
    "])\n",
    "\n",
    "X_train, X_test, y_train, y_test = model_selection.train_test_split(X, y\n",
    "                                        , test_size = 0.3, random_state = 1)\n",
    "\n",
    "estimator_pipe.fit(X_train, y_train)\n",
    "\n",
    "y_train_ped = estimator_pipe.predict(X_train)\n",
    "y_test_ped = estimator_pipe.predict(X_test)\n",
    "\n",
    "\n"
   ]
  },
  {
   "cell_type": "code",
   "execution_count": 10,
   "metadata": {},
   "outputs": [
    {
     "data": {
      "text/plain": [
       "array([0, 1, 0, 1, 1, 1, 0, 0, 0, 0, 1, 0, 0, 0, 0, 0, 0, 0, 0, 1, 0, 1,\n",
       "       0, 0, 0, 0, 0, 0, 0, 1, 0, 0, 0, 0, 0, 1, 0, 1, 0, 0, 0, 1, 0, 0,\n",
       "       0, 0, 0, 0, 0, 0, 0, 0, 1, 1, 0, 0, 1, 1, 0, 1, 0, 0, 0, 0, 1, 0,\n",
       "       0, 0, 1, 1, 0, 0, 0, 1, 0, 0, 1, 0, 0, 0, 0, 0, 0, 0, 0, 0, 0, 0,\n",
       "       1, 0, 0, 1, 0, 0, 1, 0, 0, 1, 0, 0, 0, 0, 0, 0, 0, 0, 0, 1, 0, 0,\n",
       "       0, 0, 0, 1, 0, 0, 1, 0, 0, 0, 1, 0, 0, 0, 0, 0, 0, 1, 0, 0, 0, 0,\n",
       "       0, 0, 0, 0, 0, 0, 0, 0, 0, 0, 1, 0, 1, 0, 0, 0, 0, 0, 0, 0, 0, 0,\n",
       "       0, 0, 0, 0, 0, 0, 0, 0, 0, 0, 1, 0, 0, 1, 0, 0, 0, 0, 0, 0, 1, 1,\n",
       "       0, 0, 0, 0, 1, 0, 1, 1, 1, 0, 0, 0, 0, 1, 0, 1, 0, 0, 0, 0, 1, 0,\n",
       "       0, 0, 0, 0, 0, 0, 0, 0, 0, 0, 0, 0, 0, 0, 1, 0, 0, 0, 1, 0, 1, 0,\n",
       "       1, 0, 1, 0, 0, 1, 0, 1, 0, 0, 0, 0, 0, 0, 1, 0, 0, 0, 1, 0, 0, 0,\n",
       "       1, 1, 0, 0, 1, 0, 0, 0, 0, 0, 0, 1, 1, 1, 0, 1, 0, 0, 0, 0, 0, 0,\n",
       "       0, 0, 0, 0, 0, 1, 0, 0, 1, 0, 0, 0, 0, 0, 0, 1, 0, 0, 0, 1, 0, 0,\n",
       "       0, 0, 0, 0, 0, 0, 1, 0, 0, 0, 0, 0, 0, 0])"
      ]
     },
     "execution_count": 10,
     "metadata": {},
     "output_type": "execute_result"
    }
   ],
   "source": [
    "y_test_ped"
   ]
  },
  {
   "cell_type": "code",
   "execution_count": 11,
   "metadata": {},
   "outputs": [
    {
     "data": {
      "text/plain": [
       "array([1, 0, 0, 1, 1, 0, 0, 0, 0, 0, 1, 0, 0, 0, 0, 0, 0, 0, 0, 1, 0, 1,\n",
       "       1, 0, 0, 0, 0, 1, 1, 1, 0, 0, 0, 0, 0, 1, 0, 1, 0, 1, 0, 0, 0, 0,\n",
       "       0, 0, 0, 0, 0, 0, 0, 0, 1, 1, 0, 0, 1, 1, 0, 0, 1, 0, 0, 0, 1, 1,\n",
       "       0, 0, 1, 0, 0, 0, 0, 0, 1, 0, 1, 0, 1, 0, 0, 0, 0, 1, 1, 0, 0, 0,\n",
       "       0, 0, 0, 0, 1, 0, 1, 0, 1, 1, 0, 0, 1, 1, 1, 0, 0, 0, 0, 1, 1, 0,\n",
       "       0, 0, 0, 1, 0, 1, 1, 1, 1, 0, 1, 0, 0, 1, 0, 0, 0, 0, 0, 0, 0, 0,\n",
       "       0, 0, 0, 0, 0, 0, 0, 0, 0, 0, 1, 1, 0, 0, 0, 0, 1, 1, 0, 0, 0, 0,\n",
       "       1, 0, 0, 1, 0, 1, 0, 0, 0, 0, 1, 0, 0, 1, 0, 1, 0, 0, 0, 1, 1, 0,\n",
       "       1, 0, 0, 0, 0, 0, 1, 0, 1, 0, 0, 0, 0, 1, 0, 1, 0, 0, 0, 0, 0, 0,\n",
       "       0, 0, 0, 0, 0, 0, 1, 0, 0, 0, 0, 1, 0, 0, 1, 1, 0, 1, 1, 0, 0, 0,\n",
       "       0, 0, 1, 0, 1, 1, 0, 1, 0, 0, 0, 0, 0, 1, 0, 0, 0, 0, 1, 0, 0, 0,\n",
       "       1, 1, 0, 0, 0, 1, 0, 0, 0, 0, 1, 0, 0, 0, 0, 1, 0, 0, 0, 0, 0, 0,\n",
       "       0, 0, 0, 0, 0, 1, 0, 0, 1, 0, 1, 0, 0, 0, 0, 0, 1, 0, 1, 0, 0, 1,\n",
       "       0, 0, 1, 1, 0, 0, 0, 0, 1, 0, 0, 0, 0, 1])"
      ]
     },
     "execution_count": 11,
     "metadata": {},
     "output_type": "execute_result"
    }
   ],
   "source": [
    "y_test"
   ]
  },
  {
   "cell_type": "code",
   "execution_count": 12,
   "metadata": {},
   "outputs": [
    {
     "data": {
      "text/plain": [
       "array([[190,  24],\n",
       "       [ 46,  40]])"
      ]
     },
     "execution_count": 12,
     "metadata": {},
     "output_type": "execute_result"
    }
   ],
   "source": [
    "metrics.confusion_matrix(y_test, y_test_ped)"
   ]
  },
  {
   "cell_type": "code",
   "execution_count": 13,
   "metadata": {},
   "outputs": [],
   "source": [
    "d = pd.DataFrame({\"t\": y_test, \"p\": y_test_ped})"
   ]
  },
  {
   "cell_type": "code",
   "execution_count": 17,
   "metadata": {},
   "outputs": [
    {
     "data": {
      "text/plain": [
       "(190, 2)"
      ]
     },
     "execution_count": 17,
     "metadata": {},
     "output_type": "execute_result"
    }
   ],
   "source": [
    "d.query(\"t == 0 and p == 0\").shape"
   ]
  },
  {
   "cell_type": "code",
   "execution_count": 18,
   "metadata": {},
   "outputs": [
    {
     "data": {
      "text/plain": [
       "(24, 2)"
      ]
     },
     "execution_count": 18,
     "metadata": {},
     "output_type": "execute_result"
    }
   ],
   "source": [
    "d.query(\"t == 0 and p == 1\").shape"
   ]
  },
  {
   "cell_type": "code",
   "execution_count": 19,
   "metadata": {},
   "outputs": [
    {
     "data": {
      "text/plain": [
       "0.7666666666666667"
      ]
     },
     "execution_count": 19,
     "metadata": {},
     "output_type": "execute_result"
    }
   ],
   "source": [
    "(190 + 40)/len(y_test)"
   ]
  },
  {
   "cell_type": "code",
   "execution_count": 22,
   "metadata": {},
   "outputs": [
    {
     "data": {
      "text/plain": [
       "0    0.694286\n",
       "1    0.305714\n",
       "dtype: float64"
      ]
     },
     "execution_count": 22,
     "metadata": {},
     "output_type": "execute_result"
    }
   ],
   "source": [
    "pd.Series(y_train).value_counts()/len(y_train)"
   ]
  },
  {
   "cell_type": "code",
   "execution_count": 23,
   "metadata": {},
   "outputs": [
    {
     "data": {
      "text/plain": [
       "0    0.713333\n",
       "1    0.286667\n",
       "dtype: float64"
      ]
     },
     "execution_count": 23,
     "metadata": {},
     "output_type": "execute_result"
    }
   ],
   "source": [
    "pd.Series(y_test).value_counts()/len(y_test)"
   ]
  },
  {
   "cell_type": "code",
   "execution_count": 24,
   "metadata": {},
   "outputs": [],
   "source": [
    "y_test_prob = estimator_pipe.predict_proba(X_test)"
   ]
  },
  {
   "cell_type": "code",
   "execution_count": 26,
   "metadata": {},
   "outputs": [
    {
     "data": {
      "text/plain": [
       "(300, 2)"
      ]
     },
     "execution_count": 26,
     "metadata": {},
     "output_type": "execute_result"
    }
   ],
   "source": [
    "y_test_prob.shape"
   ]
  },
  {
   "cell_type": "code",
   "execution_count": 27,
   "metadata": {},
   "outputs": [
    {
     "data": {
      "text/plain": [
       "array([[0.65351713, 0.34648287],\n",
       "       [0.06097811, 0.93902189],\n",
       "       [0.81642663, 0.18357337],\n",
       "       [0.39353958, 0.60646042],\n",
       "       [0.17158264, 0.82841736],\n",
       "       [0.36796326, 0.63203674],\n",
       "       [0.5610635 , 0.4389365 ],\n",
       "       [0.74139498, 0.25860502],\n",
       "       [0.92799144, 0.07200856],\n",
       "       [0.79843801, 0.20156199],\n",
       "       [0.18476382, 0.81523618],\n",
       "       [0.52281215, 0.47718785],\n",
       "       [0.89361913, 0.10638087],\n",
       "       [0.94889492, 0.05110508],\n",
       "       [0.64750958, 0.35249042],\n",
       "       [0.59754388, 0.40245612],\n",
       "       [0.97150279, 0.02849721],\n",
       "       [0.91557997, 0.08442003],\n",
       "       [0.95570882, 0.04429118],\n",
       "       [0.15637245, 0.84362755],\n",
       "       [0.82060285, 0.17939715],\n",
       "       [0.33302262, 0.66697738],\n",
       "       [0.91623098, 0.08376902],\n",
       "       [0.91116786, 0.08883214],\n",
       "       [0.82722262, 0.17277738],\n",
       "       [0.86098428, 0.13901572],\n",
       "       [0.85439517, 0.14560483],\n",
       "       [0.79148213, 0.20851787],\n",
       "       [0.90674297, 0.09325703],\n",
       "       [0.09243402, 0.90756598],\n",
       "       [0.61982515, 0.38017485],\n",
       "       [0.96545254, 0.03454746],\n",
       "       [0.53479219, 0.46520781],\n",
       "       [0.74380527, 0.25619473],\n",
       "       [0.69222647, 0.30777353],\n",
       "       [0.12036253, 0.87963747],\n",
       "       [0.77073427, 0.22926573],\n",
       "       [0.46942579, 0.53057421],\n",
       "       [0.86904822, 0.13095178],\n",
       "       [0.90829946, 0.09170054],\n",
       "       [0.89662712, 0.10337288],\n",
       "       [0.48903313, 0.51096687],\n",
       "       [0.98885136, 0.01114864],\n",
       "       [0.50390588, 0.49609412],\n",
       "       [0.93263625, 0.06736375],\n",
       "       [0.96395272, 0.03604728],\n",
       "       [0.88794095, 0.11205905],\n",
       "       [0.74517105, 0.25482895],\n",
       "       [0.93445911, 0.06554089],\n",
       "       [0.89433692, 0.10566308],\n",
       "       [0.7777367 , 0.2222633 ],\n",
       "       [0.54872045, 0.45127955],\n",
       "       [0.40805948, 0.59194052],\n",
       "       [0.49633237, 0.50366763],\n",
       "       [0.74524459, 0.25475541],\n",
       "       [0.84227556, 0.15772444],\n",
       "       [0.42445274, 0.57554726],\n",
       "       [0.36314755, 0.63685245],\n",
       "       [0.96886872, 0.03113128],\n",
       "       [0.41515464, 0.58484536],\n",
       "       [0.5980151 , 0.4019849 ],\n",
       "       [0.92286364, 0.07713636],\n",
       "       [0.50522018, 0.49477982],\n",
       "       [0.98100233, 0.01899767],\n",
       "       [0.45770305, 0.54229695],\n",
       "       [0.71288042, 0.28711958],\n",
       "       [0.80608275, 0.19391725],\n",
       "       [0.95121732, 0.04878268],\n",
       "       [0.14506742, 0.85493258],\n",
       "       [0.08691679, 0.91308321],\n",
       "       [0.83973079, 0.16026921],\n",
       "       [0.77298603, 0.22701397],\n",
       "       [0.96656456, 0.03343544],\n",
       "       [0.49532605, 0.50467395],\n",
       "       [0.83176177, 0.16823823],\n",
       "       [0.52445053, 0.47554947],\n",
       "       [0.18288155, 0.81711845],\n",
       "       [0.93674938, 0.06325062],\n",
       "       [0.90289473, 0.09710527],\n",
       "       [0.74777158, 0.25222842],\n",
       "       [0.80932252, 0.19067748],\n",
       "       [0.9604287 , 0.0395713 ],\n",
       "       [0.98814524, 0.01185476],\n",
       "       [0.97252371, 0.02747629],\n",
       "       [0.72221197, 0.27778803],\n",
       "       [0.6746387 , 0.3253613 ],\n",
       "       [0.83629616, 0.16370384],\n",
       "       [0.85588953, 0.14411047],\n",
       "       [0.2034283 , 0.7965717 ],\n",
       "       [0.99150974, 0.00849026],\n",
       "       [0.98560275, 0.01439725],\n",
       "       [0.41779772, 0.58220228],\n",
       "       [0.74577285, 0.25422715],\n",
       "       [0.86389833, 0.13610167],\n",
       "       [0.39195073, 0.60804927],\n",
       "       [0.87215208, 0.12784792],\n",
       "       [0.90219156, 0.09780844],\n",
       "       [0.19188102, 0.80811898],\n",
       "       [0.96489805, 0.03510195],\n",
       "       [0.59131239, 0.40868761],\n",
       "       [0.90492193, 0.09507807],\n",
       "       [0.64988828, 0.35011172],\n",
       "       [0.58718766, 0.41281234],\n",
       "       [0.96821999, 0.03178001],\n",
       "       [0.95177817, 0.04822183],\n",
       "       [0.89188995, 0.10811005],\n",
       "       [0.7552364 , 0.2447636 ],\n",
       "       [0.04362598, 0.95637402],\n",
       "       [0.6944251 , 0.3055749 ],\n",
       "       [0.57315366, 0.42684634],\n",
       "       [0.8317596 , 0.1682404 ],\n",
       "       [0.85072002, 0.14927998],\n",
       "       [0.70977357, 0.29022643],\n",
       "       [0.09637635, 0.90362365],\n",
       "       [0.7277097 , 0.2722903 ],\n",
       "       [0.90018119, 0.09981881],\n",
       "       [0.36529719, 0.63470281],\n",
       "       [0.80928664, 0.19071336],\n",
       "       [0.54854485, 0.45145515],\n",
       "       [0.78786438, 0.21213562],\n",
       "       [0.44940258, 0.55059742],\n",
       "       [0.67316552, 0.32683448],\n",
       "       [0.65008188, 0.34991812],\n",
       "       [0.5059922 , 0.4940078 ],\n",
       "       [0.96766564, 0.03233436],\n",
       "       [0.88668111, 0.11331889],\n",
       "       [0.82657727, 0.17342273],\n",
       "       [0.29604596, 0.70395404],\n",
       "       [0.95663739, 0.04336261],\n",
       "       [0.83127799, 0.16872201],\n",
       "       [0.90886967, 0.09113033],\n",
       "       [0.83850765, 0.16149235],\n",
       "       [0.94328174, 0.05671826],\n",
       "       [0.98753307, 0.01246693],\n",
       "       [0.91223708, 0.08776292],\n",
       "       [0.98561037, 0.01438963],\n",
       "       [0.88344683, 0.11655317],\n",
       "       [0.95389663, 0.04610337],\n",
       "       [0.8807373 , 0.1192627 ],\n",
       "       [0.99379579, 0.00620421],\n",
       "       [0.60721615, 0.39278385],\n",
       "       [0.89508456, 0.10491544],\n",
       "       [0.14328885, 0.85671115],\n",
       "       [0.78764107, 0.21235893],\n",
       "       [0.42359433, 0.57640567],\n",
       "       [0.89728169, 0.10271831],\n",
       "       [0.80889008, 0.19110992],\n",
       "       [0.97264268, 0.02735732],\n",
       "       [0.75488945, 0.24511055],\n",
       "       [0.81330776, 0.18669224],\n",
       "       [0.91555086, 0.08444914],\n",
       "       [0.76226178, 0.23773822],\n",
       "       [0.98717311, 0.01282689],\n",
       "       [0.77038804, 0.22961196],\n",
       "       [0.92485266, 0.07514734],\n",
       "       [0.87283832, 0.12716168],\n",
       "       [0.75290356, 0.24709644],\n",
       "       [0.6234462 , 0.3765538 ],\n",
       "       [0.80818896, 0.19181104],\n",
       "       [0.92765073, 0.07234927],\n",
       "       [0.99349653, 0.00650347],\n",
       "       [0.52261528, 0.47738472],\n",
       "       [0.55661266, 0.44338734],\n",
       "       [0.93655724, 0.06344276],\n",
       "       [0.15932427, 0.84067573],\n",
       "       [0.95585516, 0.04414484],\n",
       "       [0.76887948, 0.23112052],\n",
       "       [0.42803165, 0.57196835],\n",
       "       [0.86722077, 0.13277923],\n",
       "       [0.90004011, 0.09995989],\n",
       "       [0.7525218 , 0.2474782 ],\n",
       "       [0.92816146, 0.07183854],\n",
       "       [0.97006904, 0.02993096],\n",
       "       [0.66910823, 0.33089177],\n",
       "       [0.20868266, 0.79131734],\n",
       "       [0.27314016, 0.72685984],\n",
       "       [0.82947286, 0.17052714],\n",
       "       [0.91881637, 0.08118363],\n",
       "       [0.73077458, 0.26922542],\n",
       "       [0.7682454 , 0.2317546 ],\n",
       "       [0.4711494 , 0.5288506 ],\n",
       "       [0.62867803, 0.37132197],\n",
       "       [0.19852839, 0.80147161],\n",
       "       [0.47039162, 0.52960838],\n",
       "       [0.3885793 , 0.6114207 ],\n",
       "       [0.95193188, 0.04806812],\n",
       "       [0.9801036 , 0.0198964 ],\n",
       "       [0.86787378, 0.13212622],\n",
       "       [0.66450423, 0.33549577],\n",
       "       [0.47317955, 0.52682045],\n",
       "       [0.66415729, 0.33584271],\n",
       "       [0.45974257, 0.54025743],\n",
       "       [0.76243199, 0.23756801],\n",
       "       [0.86476469, 0.13523531],\n",
       "       [0.94098439, 0.05901561],\n",
       "       [0.98328674, 0.01671326],\n",
       "       [0.40748977, 0.59251023],\n",
       "       [0.95249759, 0.04750241],\n",
       "       [0.89742368, 0.10257632],\n",
       "       [0.89191371, 0.10808629],\n",
       "       [0.71285926, 0.28714074],\n",
       "       [0.94207905, 0.05792095],\n",
       "       [0.6453982 , 0.3546018 ],\n",
       "       [0.91577549, 0.08422451],\n",
       "       [0.62988212, 0.37011788],\n",
       "       [0.88393654, 0.11606346],\n",
       "       [0.91732138, 0.08267862],\n",
       "       [0.98448416, 0.01551584],\n",
       "       [0.59184392, 0.40815608],\n",
       "       [0.5254031 , 0.4745969 ],\n",
       "       [0.9028627 , 0.0971373 ],\n",
       "       [0.87316843, 0.12683157],\n",
       "       [0.13065112, 0.86934888],\n",
       "       [0.61213176, 0.38786824],\n",
       "       [0.74157197, 0.25842803],\n",
       "       [0.66138988, 0.33861012],\n",
       "       [0.24911669, 0.75088331],\n",
       "       [0.91859495, 0.08140505],\n",
       "       [0.10007996, 0.89992004],\n",
       "       [0.72602376, 0.27397624],\n",
       "       [0.26711945, 0.73288055],\n",
       "       [0.54099594, 0.45900406],\n",
       "       [0.43041506, 0.56958494],\n",
       "       [0.83418195, 0.16581805],\n",
       "       [0.80742235, 0.19257765],\n",
       "       [0.47019146, 0.52980854],\n",
       "       [0.67295729, 0.32704271],\n",
       "       [0.40776515, 0.59223485],\n",
       "       [0.5170933 , 0.4829067 ],\n",
       "       [0.86230731, 0.13769269],\n",
       "       [0.76619615, 0.23380385],\n",
       "       [0.95608634, 0.04391366],\n",
       "       [0.87875442, 0.12124558],\n",
       "       [0.87131056, 0.12868944],\n",
       "       [0.4505284 , 0.5494716 ],\n",
       "       [0.88702512, 0.11297488],\n",
       "       [0.59851272, 0.40148728],\n",
       "       [0.93141942, 0.06858058],\n",
       "       [0.29815497, 0.70184503],\n",
       "       [0.88206748, 0.11793252],\n",
       "       [0.79717349, 0.20282651],\n",
       "       [0.95741496, 0.04258504],\n",
       "       [0.33804704, 0.66195296],\n",
       "       [0.29806291, 0.70193709],\n",
       "       [0.94763308, 0.05236692],\n",
       "       [0.95158335, 0.04841665],\n",
       "       [0.2797281 , 0.7202719 ],\n",
       "       [0.68072209, 0.31927791],\n",
       "       [0.98819031, 0.01180969],\n",
       "       [0.99624102, 0.00375898],\n",
       "       [0.94083081, 0.05916919],\n",
       "       [0.98619514, 0.01380486],\n",
       "       [0.52962953, 0.47037047],\n",
       "       [0.21720961, 0.78279039],\n",
       "       [0.42411548, 0.57588452],\n",
       "       [0.37141839, 0.62858161],\n",
       "       [0.80005811, 0.19994189],\n",
       "       [0.39849191, 0.60150809],\n",
       "       [0.87486225, 0.12513775],\n",
       "       [0.80038189, 0.19961811],\n",
       "       [0.94075586, 0.05924414],\n",
       "       [0.86516194, 0.13483806],\n",
       "       [0.94124832, 0.05875168],\n",
       "       [0.97928012, 0.02071988],\n",
       "       [0.93759131, 0.06240869],\n",
       "       [0.90313164, 0.09686836],\n",
       "       [0.53657084, 0.46342916],\n",
       "       [0.92677469, 0.07322531],\n",
       "       [0.66389792, 0.33610208],\n",
       "       [0.44491657, 0.55508343],\n",
       "       [0.83014803, 0.16985197],\n",
       "       [0.97481679, 0.02518321],\n",
       "       [0.18175406, 0.81824594],\n",
       "       [0.78111554, 0.21888446],\n",
       "       [0.87129201, 0.12870799],\n",
       "       [0.94803396, 0.05196604],\n",
       "       [0.8951709 , 0.1048291 ],\n",
       "       [0.90324263, 0.09675737],\n",
       "       [0.98409215, 0.01590785],\n",
       "       [0.40077496, 0.59922504],\n",
       "       [0.72422679, 0.27577321],\n",
       "       [0.87419129, 0.12580871],\n",
       "       [0.6019596 , 0.3980404 ],\n",
       "       [0.29995913, 0.70004087],\n",
       "       [0.58950741, 0.41049259],\n",
       "       [0.71184399, 0.28815601],\n",
       "       [0.9749132 , 0.0250868 ],\n",
       "       [0.58179118, 0.41820882],\n",
       "       [0.95165592, 0.04834408],\n",
       "       [0.92255215, 0.07744785],\n",
       "       [0.81787467, 0.18212533],\n",
       "       [0.94541975, 0.05458025],\n",
       "       [0.43939439, 0.56060561],\n",
       "       [0.75285202, 0.24714798],\n",
       "       [0.54823702, 0.45176298],\n",
       "       [0.90656174, 0.09343826],\n",
       "       [0.97280618, 0.02719382],\n",
       "       [0.9897107 , 0.0102893 ],\n",
       "       [0.60485868, 0.39514132],\n",
       "       [0.91616256, 0.08383744]])"
      ]
     },
     "execution_count": 27,
     "metadata": {},
     "output_type": "execute_result"
    }
   ],
   "source": [
    "y_test_prob"
   ]
  },
  {
   "cell_type": "code",
   "execution_count": 28,
   "metadata": {},
   "outputs": [
    {
     "data": {
      "text/plain": [
       "array([0.34648287, 0.93902189, 0.18357337, 0.60646042, 0.82841736,\n",
       "       0.63203674, 0.4389365 , 0.25860502, 0.07200856, 0.20156199,\n",
       "       0.81523618, 0.47718785, 0.10638087, 0.05110508, 0.35249042,\n",
       "       0.40245612, 0.02849721, 0.08442003, 0.04429118, 0.84362755,\n",
       "       0.17939715, 0.66697738, 0.08376902, 0.08883214, 0.17277738,\n",
       "       0.13901572, 0.14560483, 0.20851787, 0.09325703, 0.90756598,\n",
       "       0.38017485, 0.03454746, 0.46520781, 0.25619473, 0.30777353,\n",
       "       0.87963747, 0.22926573, 0.53057421, 0.13095178, 0.09170054,\n",
       "       0.10337288, 0.51096687, 0.01114864, 0.49609412, 0.06736375,\n",
       "       0.03604728, 0.11205905, 0.25482895, 0.06554089, 0.10566308,\n",
       "       0.2222633 , 0.45127955, 0.59194052, 0.50366763, 0.25475541,\n",
       "       0.15772444, 0.57554726, 0.63685245, 0.03113128, 0.58484536,\n",
       "       0.4019849 , 0.07713636, 0.49477982, 0.01899767, 0.54229695,\n",
       "       0.28711958, 0.19391725, 0.04878268, 0.85493258, 0.91308321,\n",
       "       0.16026921, 0.22701397, 0.03343544, 0.50467395, 0.16823823,\n",
       "       0.47554947, 0.81711845, 0.06325062, 0.09710527, 0.25222842,\n",
       "       0.19067748, 0.0395713 , 0.01185476, 0.02747629, 0.27778803,\n",
       "       0.3253613 , 0.16370384, 0.14411047, 0.7965717 , 0.00849026,\n",
       "       0.01439725, 0.58220228, 0.25422715, 0.13610167, 0.60804927,\n",
       "       0.12784792, 0.09780844, 0.80811898, 0.03510195, 0.40868761,\n",
       "       0.09507807, 0.35011172, 0.41281234, 0.03178001, 0.04822183,\n",
       "       0.10811005, 0.2447636 , 0.95637402, 0.3055749 , 0.42684634,\n",
       "       0.1682404 , 0.14927998, 0.29022643, 0.90362365, 0.2722903 ,\n",
       "       0.09981881, 0.63470281, 0.19071336, 0.45145515, 0.21213562,\n",
       "       0.55059742, 0.32683448, 0.34991812, 0.4940078 , 0.03233436,\n",
       "       0.11331889, 0.17342273, 0.70395404, 0.04336261, 0.16872201,\n",
       "       0.09113033, 0.16149235, 0.05671826, 0.01246693, 0.08776292,\n",
       "       0.01438963, 0.11655317, 0.04610337, 0.1192627 , 0.00620421,\n",
       "       0.39278385, 0.10491544, 0.85671115, 0.21235893, 0.57640567,\n",
       "       0.10271831, 0.19110992, 0.02735732, 0.24511055, 0.18669224,\n",
       "       0.08444914, 0.23773822, 0.01282689, 0.22961196, 0.07514734,\n",
       "       0.12716168, 0.24709644, 0.3765538 , 0.19181104, 0.07234927,\n",
       "       0.00650347, 0.47738472, 0.44338734, 0.06344276, 0.84067573,\n",
       "       0.04414484, 0.23112052, 0.57196835, 0.13277923, 0.09995989,\n",
       "       0.2474782 , 0.07183854, 0.02993096, 0.33089177, 0.79131734,\n",
       "       0.72685984, 0.17052714, 0.08118363, 0.26922542, 0.2317546 ,\n",
       "       0.5288506 , 0.37132197, 0.80147161, 0.52960838, 0.6114207 ,\n",
       "       0.04806812, 0.0198964 , 0.13212622, 0.33549577, 0.52682045,\n",
       "       0.33584271, 0.54025743, 0.23756801, 0.13523531, 0.05901561,\n",
       "       0.01671326, 0.59251023, 0.04750241, 0.10257632, 0.10808629,\n",
       "       0.28714074, 0.05792095, 0.3546018 , 0.08422451, 0.37011788,\n",
       "       0.11606346, 0.08267862, 0.01551584, 0.40815608, 0.4745969 ,\n",
       "       0.0971373 , 0.12683157, 0.86934888, 0.38786824, 0.25842803,\n",
       "       0.33861012, 0.75088331, 0.08140505, 0.89992004, 0.27397624,\n",
       "       0.73288055, 0.45900406, 0.56958494, 0.16581805, 0.19257765,\n",
       "       0.52980854, 0.32704271, 0.59223485, 0.4829067 , 0.13769269,\n",
       "       0.23380385, 0.04391366, 0.12124558, 0.12868944, 0.5494716 ,\n",
       "       0.11297488, 0.40148728, 0.06858058, 0.70184503, 0.11793252,\n",
       "       0.20282651, 0.04258504, 0.66195296, 0.70193709, 0.05236692,\n",
       "       0.04841665, 0.7202719 , 0.31927791, 0.01180969, 0.00375898,\n",
       "       0.05916919, 0.01380486, 0.47037047, 0.78279039, 0.57588452,\n",
       "       0.62858161, 0.19994189, 0.60150809, 0.12513775, 0.19961811,\n",
       "       0.05924414, 0.13483806, 0.05875168, 0.02071988, 0.06240869,\n",
       "       0.09686836, 0.46342916, 0.07322531, 0.33610208, 0.55508343,\n",
       "       0.16985197, 0.02518321, 0.81824594, 0.21888446, 0.12870799,\n",
       "       0.05196604, 0.1048291 , 0.09675737, 0.01590785, 0.59922504,\n",
       "       0.27577321, 0.12580871, 0.3980404 , 0.70004087, 0.41049259,\n",
       "       0.28815601, 0.0250868 , 0.41820882, 0.04834408, 0.07744785,\n",
       "       0.18212533, 0.05458025, 0.56060561, 0.24714798, 0.45176298,\n",
       "       0.09343826, 0.02719382, 0.0102893 , 0.39514132, 0.08383744])"
      ]
     },
     "execution_count": 28,
     "metadata": {},
     "output_type": "execute_result"
    }
   ],
   "source": [
    "y_test_prob = estimator_pipe.predict_proba(X_test)[:,1]\n",
    "y_test_prob"
   ]
  },
  {
   "cell_type": "code",
   "execution_count": 30,
   "metadata": {},
   "outputs": [],
   "source": [
    "import numpy as np"
   ]
  },
  {
   "cell_type": "code",
   "execution_count": 35,
   "metadata": {},
   "outputs": [
    {
     "data": {
      "text/plain": [
       "array([[190,  24],\n",
       "       [ 46,  40]])"
      ]
     },
     "execution_count": 35,
     "metadata": {},
     "output_type": "execute_result"
    }
   ],
   "source": [
    "y_test_pred = np.where(y_test_prob>0.5, 1, 0)\n",
    "metrics.confusion_matrix(y_test, y_test_pred)"
   ]
  },
  {
   "cell_type": "code",
   "execution_count": 36,
   "metadata": {},
   "outputs": [
    {
     "data": {
      "text/plain": [
       "array([[211,   3],\n",
       "       [ 71,  15]])"
      ]
     },
     "execution_count": 36,
     "metadata": {},
     "output_type": "execute_result"
    }
   ],
   "source": [
    "y_test_pred = np.where(y_test_prob>0.8, 1, 0)\n",
    "metrics.confusion_matrix(y_test, y_test_pred)"
   ]
  },
  {
   "cell_type": "code",
   "execution_count": 37,
   "metadata": {},
   "outputs": [
    {
     "data": {
      "text/plain": [
       "array([[129,  85],\n",
       "       [ 21,  65]])"
      ]
     },
     "execution_count": 37,
     "metadata": {},
     "output_type": "execute_result"
    }
   ],
   "source": [
    "y_test_pred = np.where(y_test_prob>0.2, 1, 0)\n",
    "metrics.confusion_matrix(y_test, y_test_pred)"
   ]
  },
  {
   "cell_type": "code",
   "execution_count": 45,
   "metadata": {},
   "outputs": [],
   "source": [
    "fpr, tpr, thresholds = metrics.roc_curve(y_test, y_test_prob)"
   ]
  },
  {
   "cell_type": "code",
   "execution_count": 46,
   "metadata": {},
   "outputs": [],
   "source": [
    "import matplotlib.pyplot as plt"
   ]
  },
  {
   "cell_type": "code",
   "execution_count": 50,
   "metadata": {},
   "outputs": [
    {
     "data": {
      "text/plain": [
       "Text(0, 0.5, 'TPR')"
      ]
     },
     "execution_count": 50,
     "metadata": {},
     "output_type": "execute_result"
    },
    {
     "data": {
      "image/png": "[encoded data removed]",
      "text/plain": [
       "<Figure size 432x288 with 1 Axes>"
      ]
     },
     "metadata": {
      "needs_background": "light"
     },
     "output_type": "display_data"
    }
   ],
   "source": [
    "plt.plot(fpr, tpr)\n",
    "auc = metrics.auc(fpr, tpr)\n",
    "plt.title(\"ROC, auc score: %.3f\" % auc )\n",
    "plt.xlabel(\"FPR\")\n",
    "plt.ylabel(\"TPR\")"
   ]
  },
  {
   "cell_type": "code",
   "execution_count": 51,
   "metadata": {},
   "outputs": [
    {
     "data": {
      "text/plain": [
       "Text(0, 0.5, 'TPR')"
      ]
     },
     "execution_count": 51,
     "metadata": {},
     "output_type": "execute_result"
    },
    {
     "data": {
      "image/png": "[encoded data removed]",
      "text/plain": [
       "<Figure size 432x288 with 1 Axes>"
      ]
     },
     "metadata": {
      "needs_background": "light"
     },
     "output_type": "display_data"
    }
   ],
   "source": [
    "fpr, tpr, thresholds = metrics.roc_curve(y_test, np.ones_like(y_test) * 0.5)\n",
    "plt.plot(fpr, tpr)\n",
    "auc = metrics.auc(fpr, tpr)\n",
    "plt.title(\"ROC, auc score: %.3f\" % auc )\n",
    "plt.xlabel(\"FPR\")\n",
    "plt.ylabel(\"TPR\")"
   ]
  },
  {
   "cell_type": "code",
   "execution_count": 52,
   "metadata": {},
   "outputs": [
    {
     "data": {
      "text/plain": [
       "Text(0, 0.5, 'TPR')"
      ]
     },
     "execution_count": 52,
     "metadata": {},
     "output_type": "execute_result"
    },
    {
     "data": {
      "image/png": "[encoded data removed]",
      "text/plain": [
       "<Figure size 432x288 with 1 Axes>"
      ]
     },
     "metadata": {
      "needs_background": "light"
     },
     "output_type": "display_data"
    }
   ],
   "source": [
    "fpr, tpr, thresholds = metrics.roc_curve(y_test, np.ones_like(y_test) * 0.0)\n",
    "plt.plot(fpr, tpr)\n",
    "auc = metrics.auc(fpr, tpr)\n",
    "plt.title(\"ROC, auc score: %.3f\" % auc )\n",
    "plt.xlabel(\"FPR\")\n",
    "plt.ylabel(\"TPR\")"
   ]
  },
  {
   "cell_type": "code",
   "execution_count": 53,
   "metadata": {},
   "outputs": [
    {
     "data": {
      "text/plain": [
       "Text(0, 0.5, 'TPR')"
      ]
     },
     "execution_count": 53,
     "metadata": {},
     "output_type": "execute_result"
    },
    {
     "data": {
      "image/png": "[encoded data removed]",
      "text/plain": [
       "<Figure size 432x288 with 1 Axes>"
      ]
     },
     "metadata": {
      "needs_background": "light"
     },
     "output_type": "display_data"
    }
   ],
   "source": [
    "fpr, tpr, thresholds = metrics.roc_curve(y_test, np.ones_like(y_test) * 1.0)\n",
    "plt.plot(fpr, tpr)\n",
    "auc = metrics.auc(fpr, tpr)\n",
    "plt.title(\"ROC, auc score: %.3f\" % auc )\n",
    "plt.xlabel(\"FPR\")\n",
    "plt.ylabel(\"TPR\")"
   ]
  },
  {
   "cell_type": "code",
   "execution_count": 54,
   "metadata": {},
   "outputs": [
    {
     "data": {
      "text/plain": [
       "Text(0, 0.5, 'TPR')"
      ]
     },
     "execution_count": 54,
     "metadata": {},
     "output_type": "execute_result"
    },
    {
     "data": {
      "image/png": "[encoded data removed]",
      "text/plain": [
       "<Figure size 432x288 with 1 Axes>"
      ]
     },
     "metadata": {
      "needs_background": "light"
     },
     "output_type": "display_data"
    }
   ],
   "source": [
    "fpr, tpr, thresholds = metrics.roc_curve(y_test, np.random.random(len(y_test)))\n",
    "plt.plot(fpr, tpr)\n",
    "auc = metrics.auc(fpr, tpr)\n",
    "plt.title(\"ROC, auc score: %.3f\" % auc )\n",
    "plt.xlabel(\"FPR\")\n",
    "plt.ylabel(\"TPR\")"
   ]
  },
  {
   "cell_type": "code",
   "execution_count": null,
   "metadata": {},
   "outputs": [],
   "source": []
  }
 ],
 "metadata": {
  "kernelspec": {
   "display_name": "Python 3",
   "language": "python",
   "name": "python3"
  },
  "language_info": {
   "codemirror_mode": {
    "name": "ipython",
    "version": 3
   },
   "file_extension": ".py",
   "mimetype": "text/x-python",
   "name": "python",
   "nbconvert_exporter": "python",
   "pygments_lexer": "ipython3",
   "version": "3.7.4"
  }
 },
 "nbformat": 4,
 "nbformat_minor": 2
}
