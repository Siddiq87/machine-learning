{
 "cells": [
  {
   "cell_type": "code",
   "execution_count": 2,
   "metadata": {},
   "outputs": [
    {
     "name": "stdout",
     "output_type": "stream",
     "text": [
      "hello world!!!\n"
     ]
    }
   ],
   "source": [
    "print(\"hello world!!!\")"
   ]
  },
  {
   "cell_type": "code",
   "execution_count": 4,
   "metadata": {},
   "outputs": [],
   "source": [
    "x = 1"
   ]
  },
  {
   "cell_type": "code",
   "execution_count": 5,
   "metadata": {},
   "outputs": [
    {
     "data": {
      "text/plain": [
       "int"
      ]
     },
     "execution_count": 5,
     "metadata": {},
     "output_type": "execute_result"
    }
   ],
   "source": [
    "type(x)"
   ]
  },
  {
   "cell_type": "code",
   "execution_count": 6,
   "metadata": {},
   "outputs": [
    {
     "data": {
      "text/plain": [
       "float"
      ]
     },
     "execution_count": 6,
     "metadata": {},
     "output_type": "execute_result"
    }
   ],
   "source": [
    "x = 1.2\n",
    "type(x)"
   ]
  },
  {
   "cell_type": "code",
   "execution_count": 7,
   "metadata": {},
   "outputs": [],
   "source": [
    "x = \"hello\""
   ]
  },
  {
   "cell_type": "code",
   "execution_count": 8,
   "metadata": {},
   "outputs": [
    {
     "data": {
      "text/plain": [
       "str"
      ]
     },
     "execution_count": 8,
     "metadata": {},
     "output_type": "execute_result"
    }
   ],
   "source": [
    "type(x)"
   ]
  },
  {
   "cell_type": "code",
   "execution_count": 9,
   "metadata": {},
   "outputs": [
    {
     "data": {
      "text/plain": [
       "False"
      ]
     },
     "execution_count": 9,
     "metadata": {},
     "output_type": "execute_result"
    }
   ],
   "source": [
    "type(x) is int\n"
   ]
  },
  {
   "cell_type": "code",
   "execution_count": 10,
   "metadata": {},
   "outputs": [
    {
     "data": {
      "text/plain": [
       "True"
      ]
     },
     "execution_count": 10,
     "metadata": {},
     "output_type": "execute_result"
    }
   ],
   "source": [
    "type(x) is str"
   ]
  },
  {
   "cell_type": "code",
   "execution_count": 11,
   "metadata": {},
   "outputs": [],
   "source": [
    "x = 10"
   ]
  },
  {
   "cell_type": "code",
   "execution_count": 12,
   "metadata": {},
   "outputs": [
    {
     "data": {
      "text/plain": [
       "30"
      ]
     },
     "execution_count": 12,
     "metadata": {},
     "output_type": "execute_result"
    }
   ],
   "source": [
    "x = x + 20\n",
    "x"
   ]
  },
  {
   "cell_type": "code",
   "execution_count": 18,
   "metadata": {},
   "outputs": [
    {
     "data": {
      "text/plain": [
       "int"
      ]
     },
     "execution_count": 18,
     "metadata": {},
     "output_type": "execute_result"
    }
   ],
   "source": [
    "x = \"30\"\n",
    "y = int(x)\n",
    "type(y)"
   ]
  },
  {
   "cell_type": "code",
   "execution_count": 19,
   "metadata": {},
   "outputs": [
    {
     "data": {
      "text/plain": [
       "list"
      ]
     },
     "execution_count": 19,
     "metadata": {},
     "output_type": "execute_result"
    }
   ],
   "source": [
    "x = [1, 5, 6, 0, -1, 4]\n",
    "type(x)"
   ]
  },
  {
   "cell_type": "code",
   "execution_count": 20,
   "metadata": {},
   "outputs": [
    {
     "data": {
      "text/plain": [
       "6"
      ]
     },
     "execution_count": 20,
     "metadata": {},
     "output_type": "execute_result"
    }
   ],
   "source": [
    "x = [1, 5, 6, 0, -1, 4]\n",
    "len(x)"
   ]
  },
  {
   "cell_type": "code",
   "execution_count": 22,
   "metadata": {},
   "outputs": [
    {
     "data": {
      "text/plain": [
       "(1, -1)"
      ]
     },
     "execution_count": 22,
     "metadata": {},
     "output_type": "execute_result"
    }
   ],
   "source": [
    "x = [1, 5, 6, 0, -1, 4]\n",
    "x[0], x[4]"
   ]
  },
  {
   "cell_type": "code",
   "execution_count": 23,
   "metadata": {},
   "outputs": [
    {
     "data": {
      "text/plain": [
       "4"
      ]
     },
     "execution_count": 23,
     "metadata": {},
     "output_type": "execute_result"
    }
   ],
   "source": [
    "x = [1, 5, 6, 0, -1, 4]\n",
    "x[-1]"
   ]
  },
  {
   "cell_type": "code",
   "execution_count": 24,
   "metadata": {},
   "outputs": [
    {
     "data": {
      "text/plain": [
       "-1"
      ]
     },
     "execution_count": 24,
     "metadata": {},
     "output_type": "execute_result"
    }
   ],
   "source": [
    "x = [1, 5, 6, 0, -1, 4]\n",
    "x[-2]"
   ]
  },
  {
   "cell_type": "code",
   "execution_count": 26,
   "metadata": {},
   "outputs": [
    {
     "data": {
      "text/plain": [
       "[6, 0]"
      ]
     },
     "execution_count": 26,
     "metadata": {},
     "output_type": "execute_result"
    }
   ],
   "source": [
    "x = [1, 5, 6, 0, -1, 4]\n",
    "x[2:4]"
   ]
  },
  {
   "cell_type": "code",
   "execution_count": 28,
   "metadata": {},
   "outputs": [
    {
     "data": {
      "text/plain": [
       "[7, 0]"
      ]
     },
     "execution_count": 28,
     "metadata": {},
     "output_type": "execute_result"
    }
   ],
   "source": [
    "x = [1, 5, 6, 0, -1, 4, 7, 0, 3, 13]\n",
    "x[-4:-2]"
   ]
  },
  {
   "cell_type": "code",
   "execution_count": 29,
   "metadata": {},
   "outputs": [
    {
     "data": {
      "text/plain": [
       "[6, 0, -1, 4]"
      ]
     },
     "execution_count": 29,
     "metadata": {},
     "output_type": "execute_result"
    }
   ],
   "source": [
    "x = [1, 5, 6, 0, -1, 4]\n",
    "x[2:100]"
   ]
  },
  {
   "cell_type": "code",
   "execution_count": 31,
   "metadata": {},
   "outputs": [
    {
     "data": {
      "text/plain": [
       "[]"
      ]
     },
     "execution_count": 31,
     "metadata": {},
     "output_type": "execute_result"
    }
   ],
   "source": [
    "x = [1, 5, 6, 0, -1, 4]\n",
    "x[4:2]"
   ]
  },
  {
   "cell_type": "code",
   "execution_count": 32,
   "metadata": {},
   "outputs": [
    {
     "data": {
      "text/plain": [
       "[1, 5, 6]"
      ]
     },
     "execution_count": 32,
     "metadata": {},
     "output_type": "execute_result"
    }
   ],
   "source": [
    "x = [1, 5, 6, 0, -1, 4]\n",
    "x[0:3]"
   ]
  },
  {
   "cell_type": "code",
   "execution_count": 33,
   "metadata": {},
   "outputs": [
    {
     "data": {
      "text/plain": [
       "[1, 5, 6]"
      ]
     },
     "execution_count": 33,
     "metadata": {},
     "output_type": "execute_result"
    }
   ],
   "source": [
    "x = [1, 5, 6, 0, -1, 4]\n",
    "x[:3]"
   ]
  },
  {
   "cell_type": "code",
   "execution_count": 34,
   "metadata": {},
   "outputs": [
    {
     "data": {
      "text/plain": [
       "[1, 6, -1]"
      ]
     },
     "execution_count": 34,
     "metadata": {},
     "output_type": "execute_result"
    }
   ],
   "source": [
    "x = [1, 5, 6, 0, -1, 4]\n",
    "x[0:10:2]"
   ]
  },
  {
   "cell_type": "code",
   "execution_count": 35,
   "metadata": {},
   "outputs": [
    {
     "data": {
      "text/plain": [
       "[1, 6, -1]"
      ]
     },
     "execution_count": 35,
     "metadata": {},
     "output_type": "execute_result"
    }
   ],
   "source": [
    "x = [1, 5, 6, 0, -1, 4]\n",
    "x[::2]"
   ]
  },
  {
   "cell_type": "code",
   "execution_count": 36,
   "metadata": {},
   "outputs": [
    {
     "data": {
      "text/plain": [
       "[4, -1, 0, 6, 5, 1]"
      ]
     },
     "execution_count": 36,
     "metadata": {},
     "output_type": "execute_result"
    }
   ],
   "source": [
    "x = [1, 5, 6, 0, -1, 4]\n",
    "x[::-1]"
   ]
  },
  {
   "cell_type": "code",
   "execution_count": 37,
   "metadata": {},
   "outputs": [
    {
     "data": {
      "text/plain": [
       "[1, 5, 6, 0, -1, 4, 100]"
      ]
     },
     "execution_count": 37,
     "metadata": {},
     "output_type": "execute_result"
    }
   ],
   "source": [
    "x = [1, 5, 6, 0, -1, 4]\n",
    "x.append(100)\n",
    "x"
   ]
  },
  {
   "cell_type": "code",
   "execution_count": 39,
   "metadata": {},
   "outputs": [
    {
     "data": {
      "text/plain": [
       "[1, 100, 5, 6, 0, -1, 4]"
      ]
     },
     "execution_count": 39,
     "metadata": {},
     "output_type": "execute_result"
    }
   ],
   "source": [
    "x = [1, 5, 6, 0, -1, 4]\n",
    "x.insert(1, 100)\n",
    "x"
   ]
  },
  {
   "cell_type": "code",
   "execution_count": 42,
   "metadata": {},
   "outputs": [
    {
     "data": {
      "text/plain": [
       "[5, 6, 1, 0, -1, 4]"
      ]
     },
     "execution_count": 42,
     "metadata": {},
     "output_type": "execute_result"
    }
   ],
   "source": [
    "x = [1, 5, 6, 1, 0, -1, 4]\n",
    "x.remove(1)\n",
    "x"
   ]
  },
  {
   "cell_type": "code",
   "execution_count": 43,
   "metadata": {},
   "outputs": [
    {
     "data": {
      "text/plain": [
       "True"
      ]
     },
     "execution_count": 43,
     "metadata": {},
     "output_type": "execute_result"
    }
   ],
   "source": [
    "x = [1, 5, 6, 1, 0, -1, 4]\n",
    "1 in x"
   ]
  },
  {
   "cell_type": "code",
   "execution_count": 45,
   "metadata": {},
   "outputs": [
    {
     "ename": "ValueError",
     "evalue": "100 is not in list",
     "output_type": "error",
     "traceback": [
      "\u001b[0;31m---------------------------------------------------------------------------\u001b[0m",
      "\u001b[0;31mValueError\u001b[0m                                Traceback (most recent call last)",
      "\u001b[0;32m<ipython-input-45-b3c7530ba741>\u001b[0m in \u001b[0;36m<module>\u001b[0;34m()\u001b[0m\n\u001b[1;32m      1\u001b[0m \u001b[0mx\u001b[0m \u001b[0;34m=\u001b[0m \u001b[0;34m[\u001b[0m\u001b[0;36m1\u001b[0m\u001b[0;34m,\u001b[0m \u001b[0;36m5\u001b[0m\u001b[0;34m,\u001b[0m \u001b[0;36m6\u001b[0m\u001b[0;34m,\u001b[0m \u001b[0;36m1\u001b[0m\u001b[0;34m,\u001b[0m \u001b[0;36m0\u001b[0m\u001b[0;34m,\u001b[0m \u001b[0;34m-\u001b[0m\u001b[0;36m1\u001b[0m\u001b[0;34m,\u001b[0m \u001b[0;36m4\u001b[0m\u001b[0;34m]\u001b[0m\u001b[0;34m\u001b[0m\u001b[0;34m\u001b[0m\u001b[0m\n\u001b[0;32m----> 2\u001b[0;31m \u001b[0mx\u001b[0m\u001b[0;34m.\u001b[0m\u001b[0mindex\u001b[0m\u001b[0;34m(\u001b[0m\u001b[0;36m5\u001b[0m\u001b[0;34m)\u001b[0m\u001b[0;34m,\u001b[0m \u001b[0mx\u001b[0m\u001b[0;34m.\u001b[0m\u001b[0mindex\u001b[0m\u001b[0;34m(\u001b[0m\u001b[0;36m100\u001b[0m\u001b[0;34m)\u001b[0m\u001b[0;34m\u001b[0m\u001b[0;34m\u001b[0m\u001b[0m\n\u001b[0m",
      "\u001b[0;31mValueError\u001b[0m: 100 is not in list"
     ]
    }
   ],
   "source": [
    "x = [1, 5, 6, 1, 0, -1, 4]\n",
    "x.index(5), x.index(100)"
   ]
  },
  {
   "cell_type": "code",
   "execution_count": 46,
   "metadata": {},
   "outputs": [
    {
     "data": {
      "text/plain": [
       "[1, 5, 6, 0, -1, 4]"
      ]
     },
     "execution_count": 46,
     "metadata": {},
     "output_type": "execute_result"
    }
   ],
   "source": [
    "x = [1, 5, 6, 1, 0, -1, 4]\n",
    "del x[3]\n",
    "x"
   ]
  },
  {
   "cell_type": "code",
   "execution_count": 47,
   "metadata": {},
   "outputs": [
    {
     "data": {
      "text/plain": [
       "[1, 5, 6, 1, 100, -1, 4]"
      ]
     },
     "execution_count": 47,
     "metadata": {},
     "output_type": "execute_result"
    }
   ],
   "source": [
    "x = [1, 5, 6, 1, 0, -1, 4]\n",
    "x[4] = 100\n",
    "x"
   ]
  },
  {
   "cell_type": "code",
   "execution_count": 48,
   "metadata": {},
   "outputs": [
    {
     "data": {
      "text/plain": [
       "[1, 'four', 3.4]"
      ]
     },
     "execution_count": 48,
     "metadata": {},
     "output_type": "execute_result"
    }
   ],
   "source": [
    "x = [1, \"four\", 3.4]\n",
    "x"
   ]
  },
  {
   "cell_type": "code",
   "execution_count": 49,
   "metadata": {},
   "outputs": [],
   "source": [
    "x = list()"
   ]
  },
  {
   "cell_type": "code",
   "execution_count": 50,
   "metadata": {},
   "outputs": [],
   "source": [
    "x = []"
   ]
  },
  {
   "cell_type": "code",
   "execution_count": 54,
   "metadata": {},
   "outputs": [
    {
     "data": {
      "text/plain": [
       "[6, 5, 4, 1, 1, 0, -1]"
      ]
     },
     "execution_count": 54,
     "metadata": {},
     "output_type": "execute_result"
    }
   ],
   "source": [
    "x = [1, 5, 6, 1, 0, -1, 4]\n",
    "x.sort(reverse=True)\n",
    "x"
   ]
  },
  {
   "cell_type": "code",
   "execution_count": 56,
   "metadata": {},
   "outputs": [
    {
     "data": {
      "text/plain": [
       "([1, 5, 6, 1, 0, -1, 4], [-1, 0, 1, 1, 4, 5, 6])"
      ]
     },
     "execution_count": 56,
     "metadata": {},
     "output_type": "execute_result"
    }
   ],
   "source": [
    "x = [1, 5, 6, 1, 0, -1, 4]\n",
    "y = sorted(x, key = lambda v: v)\n",
    "x, y"
   ]
  },
  {
   "cell_type": "code",
   "execution_count": 57,
   "metadata": {},
   "outputs": [
    {
     "data": {
      "text/plain": [
       "{'a': 'apple', 'b': 'banana', 'c': 'cake'}"
      ]
     },
     "execution_count": 57,
     "metadata": {},
     "output_type": "execute_result"
    }
   ],
   "source": [
    "x = dict(a = \"apple\", b = \"banana\", c = \"cake\")\n",
    "x"
   ]
  },
  {
   "cell_type": "code",
   "execution_count": 59,
   "metadata": {},
   "outputs": [
    {
     "data": {
      "text/plain": [
       "{'a': 'apple', 'b': 'banana', 'c': 'cake', 'd e': 'duck'}"
      ]
     },
     "execution_count": 59,
     "metadata": {},
     "output_type": "execute_result"
    }
   ],
   "source": [
    "x = {\"a\": \"apple\", \"b\": \"banana\", \"c\": \"cake\", \"d e\": \"duck\"}\n",
    "x"
   ]
  },
  {
   "cell_type": "code",
   "execution_count": 60,
   "metadata": {},
   "outputs": [
    {
     "data": {
      "text/plain": [
       "3"
      ]
     },
     "execution_count": 60,
     "metadata": {},
     "output_type": "execute_result"
    }
   ],
   "source": [
    "x = dict(a = \"apple\", b = \"banana\", c = \"cake\")\n",
    "len(x)"
   ]
  },
  {
   "cell_type": "code",
   "execution_count": 61,
   "metadata": {},
   "outputs": [
    {
     "data": {
      "text/plain": [
       "4"
      ]
     },
     "execution_count": 61,
     "metadata": {},
     "output_type": "execute_result"
    }
   ],
   "source": [
    "x = dict(a = \"apple\", b = \"banana\", c = \"cake\", d = None)\n",
    "len(x)"
   ]
  },
  {
   "cell_type": "code",
   "execution_count": 63,
   "metadata": {},
   "outputs": [
    {
     "data": {
      "text/plain": [
       "{'a': 'apple', 'b': 'banana', 'c': 'cake', None: 'duck'}"
      ]
     },
     "execution_count": 63,
     "metadata": {},
     "output_type": "execute_result"
    }
   ],
   "source": [
    "x = {\"a\": \"apple\", \"b\": \"banana\", \"c\": \"cake\", None: \"duck\"}\n",
    "x"
   ]
  },
  {
   "cell_type": "code",
   "execution_count": 64,
   "metadata": {},
   "outputs": [
    {
     "data": {
      "text/plain": [
       "'apple'"
      ]
     },
     "execution_count": 64,
     "metadata": {},
     "output_type": "execute_result"
    }
   ],
   "source": [
    "x = {\"a\": \"apple\", \"b\": \"banana\", \"c\": \"cake\"}\n",
    "x[\"a\"]"
   ]
  },
  {
   "cell_type": "code",
   "execution_count": 65,
   "metadata": {},
   "outputs": [
    {
     "ename": "KeyError",
     "evalue": "'e'",
     "output_type": "error",
     "traceback": [
      "\u001b[0;31m---------------------------------------------------------------------------\u001b[0m",
      "\u001b[0;31mKeyError\u001b[0m                                  Traceback (most recent call last)",
      "\u001b[0;32m<ipython-input-65-8576d3fd5ba2>\u001b[0m in \u001b[0;36m<module>\u001b[0;34m()\u001b[0m\n\u001b[1;32m      1\u001b[0m \u001b[0mx\u001b[0m \u001b[0;34m=\u001b[0m \u001b[0;34m{\u001b[0m\u001b[0;34m\"a\"\u001b[0m\u001b[0;34m:\u001b[0m \u001b[0;34m\"apple\"\u001b[0m\u001b[0;34m,\u001b[0m \u001b[0;34m\"b\"\u001b[0m\u001b[0;34m:\u001b[0m \u001b[0;34m\"banana\"\u001b[0m\u001b[0;34m,\u001b[0m \u001b[0;34m\"c\"\u001b[0m\u001b[0;34m:\u001b[0m \u001b[0;34m\"cake\"\u001b[0m\u001b[0;34m}\u001b[0m\u001b[0;34m\u001b[0m\u001b[0;34m\u001b[0m\u001b[0m\n\u001b[0;32m----> 2\u001b[0;31m \u001b[0mx\u001b[0m\u001b[0;34m[\u001b[0m\u001b[0;34m\"e\"\u001b[0m\u001b[0;34m]\u001b[0m\u001b[0;34m\u001b[0m\u001b[0;34m\u001b[0m\u001b[0m\n\u001b[0m",
      "\u001b[0;31mKeyError\u001b[0m: 'e'"
     ]
    }
   ],
   "source": [
    "x = {\"a\": \"apple\", \"b\": \"banana\", \"c\": \"cake\"}\n",
    "x[\"e\"]"
   ]
  },
  {
   "cell_type": "code",
   "execution_count": 67,
   "metadata": {},
   "outputs": [
    {
     "data": {
      "text/plain": [
       "(False, True)"
      ]
     },
     "execution_count": 67,
     "metadata": {},
     "output_type": "execute_result"
    }
   ],
   "source": [
    "x = {\"a\": \"apple\", \"b\": \"banana\", \"c\": \"cake\"}\n",
    "\"e\" in x, \"a\" in x"
   ]
  },
  {
   "cell_type": "code",
   "execution_count": 69,
   "metadata": {},
   "outputs": [
    {
     "data": {
      "text/plain": [
       "('apple', None, 'unknown')"
      ]
     },
     "execution_count": 69,
     "metadata": {},
     "output_type": "execute_result"
    }
   ],
   "source": [
    "x = {\"a\": \"apple\", \"b\": \"banana\", \"c\": \"cake\"}\n",
    "x.get(\"a\"), x.get(\"e\"), x.get(\"e\", \"unknown\")"
   ]
  },
  {
   "cell_type": "code",
   "execution_count": 70,
   "metadata": {},
   "outputs": [
    {
     "data": {
      "text/plain": [
       "dict_keys(['a', 'b', 'c'])"
      ]
     },
     "execution_count": 70,
     "metadata": {},
     "output_type": "execute_result"
    }
   ],
   "source": [
    "x = {\"a\": \"apple\", \"b\": \"banana\", \"c\": \"cake\"}\n",
    "x.keys()"
   ]
  },
  {
   "cell_type": "code",
   "execution_count": 71,
   "metadata": {},
   "outputs": [
    {
     "data": {
      "text/plain": [
       "dict_values(['apple', 'banana', 'cake'])"
      ]
     },
     "execution_count": 71,
     "metadata": {},
     "output_type": "execute_result"
    }
   ],
   "source": [
    "x = {\"a\": \"apple\", \"b\": \"banana\", \"c\": \"cake\"}\n",
    "x.values()"
   ]
  },
  {
   "cell_type": "code",
   "execution_count": 72,
   "metadata": {},
   "outputs": [
    {
     "data": {
      "text/plain": [
       "dict_items([('a', 'apple'), ('b', 'banana'), ('c', 'cake')])"
      ]
     },
     "execution_count": 72,
     "metadata": {},
     "output_type": "execute_result"
    }
   ],
   "source": [
    "x = {\"a\": \"apple\", \"b\": \"banana\", \"c\": \"cake\"}\n",
    "x.items()"
   ]
  },
  {
   "cell_type": "code",
   "execution_count": 73,
   "metadata": {},
   "outputs": [
    {
     "data": {
      "text/plain": [
       "{'a': 'apple', 'b': 'banana', 'c': 'cake', 'd': 'duck'}"
      ]
     },
     "execution_count": 73,
     "metadata": {},
     "output_type": "execute_result"
    }
   ],
   "source": [
    "x = {\"a\": \"apple\", \"b\": \"banana\", \"c\": \"cake\"}\n",
    "x[\"d\"] = \"duck\"\n",
    "x"
   ]
  },
  {
   "cell_type": "code",
   "execution_count": 74,
   "metadata": {},
   "outputs": [
    {
     "data": {
      "text/plain": [
       "{'b': 'banana', 'c': 'cake', 'd': 'duck'}"
      ]
     },
     "execution_count": 74,
     "metadata": {},
     "output_type": "execute_result"
    }
   ],
   "source": [
    "x = {\"a\": \"apple\", \"b\": \"banana\", \"c\": \"cake\"}\n",
    "x[\"d\"] = \"duck\"\n",
    "del x[\"a\"]\n",
    "x"
   ]
  },
  {
   "cell_type": "code",
   "execution_count": 75,
   "metadata": {},
   "outputs": [
    {
     "data": {
      "text/plain": [
       "{'a': 'apollo', 'b': 'banana', 'c': 'cake'}"
      ]
     },
     "execution_count": 75,
     "metadata": {},
     "output_type": "execute_result"
    }
   ],
   "source": [
    "x = {\"a\": \"apple\", \"b\": \"banana\", \"c\": \"cake\"}\n",
    "x[\"a\"] = \"apollo\"\n",
    "x"
   ]
  },
  {
   "cell_type": "code",
   "execution_count": 76,
   "metadata": {},
   "outputs": [
    {
     "data": {
      "text/plain": [
       "{1, 6, 9}"
      ]
     },
     "execution_count": 76,
     "metadata": {},
     "output_type": "execute_result"
    }
   ],
   "source": [
    "x = set([1, 6, 6, 6, 9])\n",
    "x"
   ]
  },
  {
   "cell_type": "code",
   "execution_count": 77,
   "metadata": {},
   "outputs": [
    {
     "data": {
      "text/plain": [
       "{1, 6, 9}"
      ]
     },
     "execution_count": 77,
     "metadata": {},
     "output_type": "execute_result"
    }
   ],
   "source": [
    "x = {1, 6, 6, 6, 9}\n",
    "x"
   ]
  },
  {
   "cell_type": "code",
   "execution_count": 78,
   "metadata": {},
   "outputs": [
    {
     "data": {
      "text/plain": [
       "dict"
      ]
     },
     "execution_count": 78,
     "metadata": {},
     "output_type": "execute_result"
    }
   ],
   "source": [
    "x = {}\n",
    "type(x)"
   ]
  },
  {
   "cell_type": "code",
   "execution_count": 81,
   "metadata": {},
   "outputs": [
    {
     "data": {
      "text/plain": [
       "(set, {3})"
      ]
     },
     "execution_count": 81,
     "metadata": {},
     "output_type": "execute_result"
    }
   ],
   "source": [
    "x = set()\n",
    "x.add(3)\n",
    "type(x), x"
   ]
  },
  {
   "cell_type": "code",
   "execution_count": 83,
   "metadata": {},
   "outputs": [
    {
     "data": {
      "text/plain": [
       "[8, 1, 6, 7]"
      ]
     },
     "execution_count": 83,
     "metadata": {},
     "output_type": "execute_result"
    }
   ],
   "source": [
    "x = set()\n",
    "x.add(6)\n",
    "x.add(1)\n",
    "x.add(6)\n",
    "x.add(7)\n",
    "x.add(8)\n",
    "list(x)"
   ]
  },
  {
   "cell_type": "code",
   "execution_count": 85,
   "metadata": {},
   "outputs": [
    {
     "data": {
      "text/plain": [
       "(1, 5, -1, 8)"
      ]
     },
     "execution_count": 85,
     "metadata": {},
     "output_type": "execute_result"
    }
   ],
   "source": [
    "x = tuple([1, 5, -1, 8])\n",
    "x"
   ]
  },
  {
   "cell_type": "code",
   "execution_count": 86,
   "metadata": {},
   "outputs": [
    {
     "ename": "AttributeError",
     "evalue": "'tuple' object has no attribute 'add'",
     "output_type": "error",
     "traceback": [
      "\u001b[0;31m---------------------------------------------------------------------------\u001b[0m",
      "\u001b[0;31mAttributeError\u001b[0m                            Traceback (most recent call last)",
      "\u001b[0;32m<ipython-input-86-b9e46c011596>\u001b[0m in \u001b[0;36m<module>\u001b[0;34m()\u001b[0m\n\u001b[1;32m      1\u001b[0m \u001b[0mx\u001b[0m \u001b[0;34m=\u001b[0m \u001b[0mtuple\u001b[0m\u001b[0;34m(\u001b[0m\u001b[0;34m[\u001b[0m\u001b[0;36m1\u001b[0m\u001b[0;34m,\u001b[0m \u001b[0;36m5\u001b[0m\u001b[0;34m,\u001b[0m \u001b[0;34m-\u001b[0m\u001b[0;36m1\u001b[0m\u001b[0;34m,\u001b[0m \u001b[0;36m8\u001b[0m\u001b[0;34m]\u001b[0m\u001b[0;34m)\u001b[0m\u001b[0;34m\u001b[0m\u001b[0;34m\u001b[0m\u001b[0m\n\u001b[0;32m----> 2\u001b[0;31m \u001b[0mx\u001b[0m\u001b[0;34m.\u001b[0m\u001b[0madd\u001b[0m\u001b[0;34m(\u001b[0m\u001b[0;36m4\u001b[0m\u001b[0;34m)\u001b[0m\u001b[0;34m\u001b[0m\u001b[0;34m\u001b[0m\u001b[0m\n\u001b[0m",
      "\u001b[0;31mAttributeError\u001b[0m: 'tuple' object has no attribute 'add'"
     ]
    }
   ],
   "source": [
    "x = tuple([1, 5, -1, 8])\n",
    "x.add(4)"
   ]
  },
  {
   "cell_type": "code",
   "execution_count": 89,
   "metadata": {},
   "outputs": [
    {
     "data": {
      "text/plain": [
       "(tuple, 1, -1)"
      ]
     },
     "execution_count": 89,
     "metadata": {},
     "output_type": "execute_result"
    }
   ],
   "source": [
    "x = (1, 5, -1, 8)\n",
    "type(x), x[0], x[-2]"
   ]
  },
  {
   "cell_type": "code",
   "execution_count": 90,
   "metadata": {},
   "outputs": [
    {
     "data": {
      "text/plain": [
       "[1, 5, -1, 8]"
      ]
     },
     "execution_count": 90,
     "metadata": {},
     "output_type": "execute_result"
    }
   ],
   "source": [
    "list(x)"
   ]
  },
  {
   "cell_type": "code",
   "execution_count": 95,
   "metadata": {},
   "outputs": [],
   "source": [
    "with open(r\"/data/stocks.small.csv\") as f:\n",
    "    content = f.read()\n",
    "    \n",
    "lines = content.split(\"\\n\")"
   ]
  },
  {
   "cell_type": "code",
   "execution_count": 116,
   "metadata": {
    "scrolled": false
   },
   "outputs": [],
   "source": []
  },
  {
   "cell_type": "code",
   "execution_count": 117,
   "metadata": {},
   "outputs": [],
   "source": [
    "x = \"hello world, welcome to the class\""
   ]
  },
  {
   "cell_type": "code",
   "execution_count": 101,
   "metadata": {},
   "outputs": [
    {
     "data": {
      "text/plain": [
       "33"
      ]
     },
     "execution_count": 101,
     "metadata": {},
     "output_type": "execute_result"
    }
   ],
   "source": [
    "len(x)"
   ]
  },
  {
   "cell_type": "code",
   "execution_count": 102,
   "metadata": {},
   "outputs": [
    {
     "data": {
      "text/plain": [
       "['hello', 'world,', 'welcome', 'to', 'the', 'class']"
      ]
     },
     "execution_count": 102,
     "metadata": {},
     "output_type": "execute_result"
    }
   ],
   "source": [
    "x.split(\" \")"
   ]
  },
  {
   "cell_type": "code",
   "execution_count": 104,
   "metadata": {},
   "outputs": [
    {
     "data": {
      "text/plain": [
       "'hello world, welcome to the class'"
      ]
     },
     "execution_count": 104,
     "metadata": {},
     "output_type": "execute_result"
    }
   ],
   "source": [
    "x.upper().lower()"
   ]
  },
  {
   "cell_type": "code",
   "execution_count": 115,
   "metadata": {},
   "outputs": [
    {
     "name": "stdout",
     "output_type": "stream",
     "text": [
      "3\n",
      "4\n"
     ]
    },
    {
     "data": {
      "text/plain": [
       "7"
      ]
     },
     "execution_count": 115,
     "metadata": {},
     "output_type": "execute_result"
    }
   ],
   "source": [
    "def add(x, y):\n",
    "    print(x)\n",
    "    print(y)\n",
    "    return x + y\n",
    "add(3, 4)"
   ]
  },
  {
   "cell_type": "code",
   "execution_count": 118,
   "metadata": {},
   "outputs": [],
   "source": [
    "with open(r\"/data/stocks.small.csv\") as f:\n",
    "    content = f.read()\n",
    "    \n",
    "lines = content.split(\"\\n\")"
   ]
  },
  {
   "cell_type": "code",
   "execution_count": 119,
   "metadata": {},
   "outputs": [
    {
     "data": {
      "text/plain": [
       "1848"
      ]
     },
     "execution_count": 119,
     "metadata": {},
     "output_type": "execute_result"
    }
   ],
   "source": [
    "len(lines)"
   ]
  },
  {
   "cell_type": "code",
   "execution_count": 120,
   "metadata": {},
   "outputs": [
    {
     "data": {
      "text/plain": [
       "['date,open,high,low,close,volume,adjclose,symbol',\n",
       " '2000-07-18,144.8125,144.828125,141.4375,143.0,5.06836E7,50.155473,INTC',\n",
       " '2000-07-20,32.93751,34.25001,32.8125,33.75,3288300.0,8.789734,BEN']"
      ]
     },
     "execution_count": 120,
     "metadata": {},
     "output_type": "execute_result"
    }
   ],
   "source": [
    "lines[:3]"
   ]
  },
  {
   "cell_type": "code",
   "execution_count": 123,
   "metadata": {},
   "outputs": [],
   "source": [
    "count = 0\n",
    "for line in lines[1:]:\n",
    "    if len(line)>0:\n",
    "        count = count + 1"
   ]
  },
  {
   "cell_type": "code",
   "execution_count": 124,
   "metadata": {},
   "outputs": [
    {
     "data": {
      "text/plain": [
       "1846"
      ]
     },
     "execution_count": 124,
     "metadata": {},
     "output_type": "execute_result"
    }
   ],
   "source": [
    "count"
   ]
  },
  {
   "cell_type": "code",
   "execution_count": 126,
   "metadata": {},
   "outputs": [
    {
     "data": {
      "text/plain": [
       "1846"
      ]
     },
     "execution_count": 126,
     "metadata": {},
     "output_type": "execute_result"
    }
   ],
   "source": [
    "data = [line for line in lines[1:] if len(line)> 0]\n",
    "len(data)"
   ]
  },
  {
   "cell_type": "code",
   "execution_count": 135,
   "metadata": {},
   "outputs": [
    {
     "data": {
      "text/plain": [
       "1846"
      ]
     },
     "execution_count": 135,
     "metadata": {},
     "output_type": "execute_result"
    }
   ],
   "source": [
    "sum([1 for line in lines[1:] if len(line)> 0])"
   ]
  },
  {
   "cell_type": "code",
   "execution_count": 137,
   "metadata": {},
   "outputs": [
    {
     "data": {
      "text/plain": [
       "1846"
      ]
     },
     "execution_count": 137,
     "metadata": {},
     "output_type": "execute_result"
    }
   ],
   "source": [
    "sum([1 if len(line)>0 else 0 for line in lines[1:]])"
   ]
  },
  {
   "cell_type": "code",
   "execution_count": 128,
   "metadata": {},
   "outputs": [
    {
     "data": {
      "text/plain": [
       "['2000-07-18,144.8125,144.828125,141.4375,143.0,5.06836E7,50.155473,INTC',\n",
       " '2000-07-20,32.93751,34.25001,32.8125,33.75,3288300.0,8.789734,BEN',\n",
       " '2000-07-24,64.25,67.312477,64.187523,64.75,948800.0,7.689567,APH']"
      ]
     },
     "execution_count": 128,
     "metadata": {},
     "output_type": "execute_result"
    }
   ],
   "source": [
    "data[:3]"
   ]
  },
  {
   "cell_type": "code",
   "execution_count": 129,
   "metadata": {},
   "outputs": [
    {
     "data": {
      "text/plain": [
       "'date,open,high,low,close,volume,adjclose,symbol'"
      ]
     },
     "execution_count": 129,
     "metadata": {},
     "output_type": "execute_result"
    }
   ],
   "source": [
    "lines[0]"
   ]
  },
  {
   "cell_type": "code",
   "execution_count": 130,
   "metadata": {},
   "outputs": [],
   "source": [
    "symbols = set()\n",
    "for line in data:\n",
    "    tokens = line.split(\",\")\n",
    "    symbol = tokens[-1]\n",
    "    symbols.add(symbol)"
   ]
  },
  {
   "cell_type": "code",
   "execution_count": 132,
   "metadata": {},
   "outputs": [
    {
     "data": {
      "text/plain": [
       "471"
      ]
     },
     "execution_count": 132,
     "metadata": {},
     "output_type": "execute_result"
    }
   ],
   "source": [
    "len(symbols)"
   ]
  },
  {
   "cell_type": "code",
   "execution_count": 133,
   "metadata": {},
   "outputs": [],
   "source": [
    "symbols = set([line.split(\",\")[-1] for line in data])"
   ]
  },
  {
   "cell_type": "code",
   "execution_count": 134,
   "metadata": {},
   "outputs": [
    {
     "data": {
      "text/plain": [
       "471"
      ]
     },
     "execution_count": 134,
     "metadata": {},
     "output_type": "execute_result"
    }
   ],
   "source": [
    "len(symbols)"
   ]
  },
  {
   "cell_type": "code",
   "execution_count": 138,
   "metadata": {},
   "outputs": [],
   "source": [
    "count_by_symbol = dict()\n",
    "for line in data:\n",
    "    tokens = line.split(\",\")\n",
    "    symbol = tokens[-1]\n",
    "    count = count_by_symbol.get(symbol, 0)\n",
    "    count += 1\n",
    "    count_by_symbol[symbol] = count"
   ]
  },
  {
   "cell_type": "code",
   "execution_count": 145,
   "metadata": {},
   "outputs": [
    {
     "data": {
      "text/plain": [
       "dict_items([('INTC', 4), ('BEN', 6), ('APH', 3), ('SHW', 5), ('STJ', 3), ('GGP', 5), ('SBUX', 6), ('EQT', 7), ('BCR', 6), ('NKE', 8), ('IPG', 5), ('EXC', 4), ('BXP', 5), ('BIIB', 7), ('DD', 1), ('NUE', 8), ('ALK', 7), ('COG', 6), ('ETN', 8), ('DO', 5), ('BSX', 4), ('UPS', 11), ('ENDP', 5), ('WBA', 4), ('PXD', 4), ('STI', 5), ('FDX', 6), ('LLTC', 3), ('RHT', 6), ('O', 5), ('RAI', 5), ('BWA', 4), ('FLIR', 9), ('MET', 5), ('XLNX', 6), ('FCX', 4), ('FOX', 4), ('EMC', 3), ('RHI', 3), ('FISV', 3), ('CINF', 7), ('AGN', 5), ('IP', 7), ('KSS', 5), ('EBAY', 3), ('CMS', 7), ('TROW', 5), ('KR', 9), ('R', 6), ('PNC', 5), ('ED', 7), ('KEY', 1), ('USB', 2), ('MCO', 5), ('HES', 3), ('RCL', 1), ('HON', 3), ('REGN', 5), ('FLR', 3), ('MSI', 3), ('ISRG', 5), ('MYL', 5), ('LEG', 6), ('MOS', 6), ('WMT', 8), ('HD', 3), ('COF', 9), ('MLM', 6), ('ADBE', 2), ('OKE', 5), ('SRE', 3), ('CTAS', 4), ('MMC', 6), ('FMC', 8), ('LLL', 4), ('VMC', 4), ('SLB', 3), ('LRCX', 5), ('SCG', 5), ('SYK', 4), ('BLL', 3), ('CERN', 3), ('ECL', 3), ('HST', 4), ('GILD', 4), ('XL', 3), ('CTXS', 4), ('AIV', 3), ('GLW', 5), ('GE', 7), ('SJM', 5), ('LLY', 7), ('DE', 6), ('HUM', 7), ('EMN', 4), ('F', 3), ('COH', 4), ('MRK', 7), ('PGR', 5), ('AMZN', 7), ('OXY', 4), ('DTE', 4), ('ATVI', 3), ('YUM', 6), ('YHOO', 5), ('NTRS', 5), ('SLG', 6), ('MTB', 7), ('COL', 2), ('GS', 2), ('CNP', 3), ('IFF', 8), ('ETFC', 4), ('MU', 7), ('MKC', 6), ('EA', 3), ('CCL', 6), ('LMT', 4), ('AIG', 5), ('SWK', 5), ('HCP', 5), ('DGX', 5), ('M', 6), ('NEM', 7), ('HOLX', 5), ('LNC', 7), ('CA', 6), ('CCI', 3), ('NFX', 7), ('PHM', 9), ('BBBY', 7), ('EXPD', 6), ('PEG', 6), ('KMB', 8), ('CTSH', 2), ('CAT', 5), ('XRAY', 5), ('PBI', 4), ('BMY', 7), ('WAT', 7), ('CNC', 3), ('UNH', 4), ('SWN', 5), ('DVN', 4), ('VZ', 7), ('DOV', 4), ('SRCL', 1), ('HRS', 4), ('EQR', 5), ('CELG', 3), ('STT', 4), ('JNJ', 8), ('AEE', 4), ('D', 9), ('HSIC', 2), ('CL', 3), ('SCHW', 7), ('AZO', 3), ('MDT', 6), ('ALB', 5), ('PCAR', 3), ('ESS', 4), ('PPL', 4), ('PPG', 8), ('RRC', 4), ('PDCO', 4), ('ROST', 1), ('LH', 2), ('PVH', 6), ('PFG', 6), ('HBAN', 2), ('AMGN', 4), ('APC', 7), ('TSN', 4), ('XRX', 1), ('TYC', 2), ('VRSN', 6), ('HPQ', 6), ('ADM', 6), ('GPN', 5), ('K', 10), ('ADI', 6), ('CHRW', 3), ('WHR', 5), ('JPM', 6), ('TXT', 4), ('PNW', 4), ('MAR', 4), ('SIG', 8), ('AME', 6), ('WY', 3), ('HP', 4), ('WMB', 5), ('ABT', 6), ('AYI', 5), ('AXP', 3), ('AON', 5), ('DOW', 4), ('ORCL', 1), ('CVX', 5), ('PRU', 2), ('WM', 6), ('PCLN', 2), ('HRB', 2), ('GRMN', 5), ('AES', 7), ('ACN', 2), ('MCD', 2), ('AEP', 3), ('LNT', 3), ('CHK', 5), ('MHK', 3), ('STX', 2), ('CLX', 3), ('NBL', 5), ('ROP', 5), ('KSU', 5), ('DRI', 4), ('EOG', 6), ('CSX', 4), ('DHI', 5), ('CTL', 3), ('RSG', 3), ('EL', 4), ('URI', 2), ('MNST', 4), ('MON', 4), ('TIF', 3), ('BBY', 4), ('BK', 5), ('HAR', 7), ('VLO', 2), ('FTR', 6), ('WDC', 7), ('ROK', 6), ('QCOM', 4), ('BAX', 4), ('MCK', 3), ('FFIV', 4), ('EFX', 3), ('HIG', 3), ('AMAT', 3), ('MSFT', 5), ('AMT', 4), ('ILMN', 5), ('BLK', 5), ('AKAM', 4), ('TSO', 3), ('XOM', 3), ('EW', 2), ('MDLZ', 3), ('LUV', 3), ('IVZ', 4), ('GT', 4), ('LKQ', 4), ('SWKS', 5), ('FE', 2), ('UNP', 5), ('WEC', 2), ('VTR', 6), ('MMM', 2), ('ES', 4), ('CI', 4), ('JWN', 3), ('TSS', 2), ('ESRX', 2), ('ZBH', 11), ('MAS', 5), ('LUK', 5), ('WYNN', 6), ('AA', 5), ('SYY', 7), ('JBHT', 3), ('BBT', 3), ('AET', 5), ('MO', 2), ('PLD', 4), ('EMR', 2), ('CHD', 6), ('AIZ', 4), ('ALL', 3), ('C', 4), ('TRV', 3), ('DLTR', 3), ('GWW', 4), ('APA', 4), ('DLR', 6), ('TAP', 3), ('PG', 5), ('EQIX', 4), ('IR', 3), ('PCG', 4), ('PSA', 6), ('SYMC', 3), ('NTAP', 1), ('WFM', 3), ('ADSK', 4), ('MRO', 3), ('CRM', 3), ('RL', 7), ('DVA', 7), ('KLAC', 4), ('NRG', 2), ('ETR', 5), ('LOW', 5), ('URBN', 6), ('SO', 5), ('CB', 3), ('DUK', 3), ('EXR', 8), ('TMO', 5), ('DNB', 3), ('VRTX', 2), ('NFLX', 2), ('AVB', 4), ('AFL', 3), ('OI', 1), ('CMCSA', 1), ('CAH', 5), ('UHS', 3), ('GOOGL', 1), ('VIAB', 4), ('APD', 4), ('HOT', 3), ('HOG', 4), ('CMI', 8), ('HAL', 3), ('BA', 4), ('GD', 5), ('PX', 7), ('CBS', 3), ('FLS', 4), ('ANTM', 2), ('GPS', 3), ('UTX', 4), ('PFE', 3), ('FOXA', 7), ('NSC', 4), ('KMX', 3), ('XEL', 2), ('ITW', 4), ('AAP', 5), ('EIX', 6), ('AAL', 1), ('TXN', 1), ('INTU', 1), ('MS', 5), ('JNPR', 2), ('AAPL', 3), ('VFC', 2), ('HBI', 1), ('WYN', 5), ('MAT', 2), ('A', 2), ('DHR', 1), ('RF', 2), ('TGNA', 6), ('IBM', 3), ('WFC', 7), ('JCI', 2), ('STZ', 4), ('SPLS', 4), ('MAC', 4), ('TDG', 3), ('UDR', 3), ('WU', 2), ('NI', 4), ('COP', 4), ('SNA', 4), ('TGT', 5), ('XEC', 3), ('GPC', 3), ('DIS', 3), ('HRL', 3), ('VNO', 3), ('IRM', 3), ('PBCT', 5), ('PRGO', 5), ('NOV', 4), ('FAST', 1), ('FL', 4), ('FTI', 2), ('VAR', 3), ('NVDA', 1), ('PEP', 3), ('NWL', 4), ('OMC', 1), ('FRT', 4), ('SE', 3), ('FSLR', 5), ('DFS', 3), ('LM', 2), ('BDX', 2), ('CVS', 2), ('COST', 1), ('HCN', 2), ('AWK', 4), ('GOOG', 3), ('HAS', 3), ('NOC', 3), ('CF', 2), ('TDC', 1), ('MJN', 2), ('AVGO', 3), ('ICE', 2), ('LB', 5), ('FIS', 2), ('TJX', 3), ('RTN', 4), ('CAG', 2), ('ULTA', 1), ('DAL', 2), ('ALXN', 1), ('LYB', 3), ('ABC', 2), ('BAC', 2), ('TEL', 2), ('EXPE', 2), ('ZION', 2), ('UNM', 2), ('ORLY', 2), ('DG', 3), ('CMG', 1), ('MA', 2), ('UAL', 2), ('GIS', 3), ('DISCK', 1), ('CPB', 3), ('L', 1), ('V', 2), ('HSY', 2), ('CXO', 3), ('XYL', 2), ('CSCO', 2), ('AMP', 2), ('UA', 1), ('PNR', 1), ('TWX', 1), ('ADS', 3), ('MUR', 1), ('T', 1), ('PSX', 2), ('KORS', 1), ('SNI', 3), ('GM', 2), ('FBHS', 3), ('KIM', 3), ('PM', 1), ('PKI', 3), ('HCA', 2), ('TSCO', 1), ('SEE', 1), ('FB', 1), ('CME', 1), ('ADP', 1), ('LEN', 2), ('TRIP', 1), ('MPC', 1), ('VRSK', 1), ('LVLT', 1), ('NWS', 2), ('JEC', 3), ('CBG', 1), ('RIG', 1), ('SPGI', 1), ('CMA', 1), ('AMG', 2), ('PWR', 1), ('WRK', 1), ('ALLE', 1), ('MNK', 1)])"
      ]
     },
     "execution_count": 145,
     "metadata": {},
     "output_type": "execute_result"
    }
   ],
   "source": [
    "count_by_symbol.items()"
   ]
  },
  {
   "cell_type": "code",
   "execution_count": 143,
   "metadata": {},
   "outputs": [
    {
     "data": {
      "text/plain": [
       "[('UPS', 11), ('ZBH', 11), ('K', 10)]"
      ]
     },
     "execution_count": 143,
     "metadata": {},
     "output_type": "execute_result"
    }
   ],
   "source": [
    "sorted(count_by_symbol.items(), key = lambda t: t[1], reverse=True)[:3]"
   ]
  },
  {
   "cell_type": "code",
   "execution_count": 146,
   "metadata": {},
   "outputs": [
    {
     "data": {
      "text/plain": [
       "'date,open,high,low,close,volume,adjclose,symbol'"
      ]
     },
     "execution_count": 146,
     "metadata": {},
     "output_type": "execute_result"
    }
   ],
   "source": [
    "lines[0]"
   ]
  },
  {
   "cell_type": "code",
   "execution_count": 148,
   "metadata": {},
   "outputs": [],
   "source": [
    "volumes_by_symbol = dict()\n",
    "\n",
    "for line in data:\n",
    "    tokens = line.split(\",\")\n",
    "    symbol = tokens[-1]\n",
    "    volume = float(tokens[5])\n",
    "    if symbol not in volumes_by_symbol:\n",
    "        volumes_by_symbol[symbol] = list()\n",
    "    \n",
    "    values = volumes_by_symbol[symbol]\n",
    "    values.append(volume)"
   ]
  },
  {
   "cell_type": "code",
   "execution_count": 150,
   "metadata": {},
   "outputs": [],
   "source": [
    "avg_volume_by_symbol = dict()\n",
    "for symbol in volumes_by_symbol:\n",
    "    values = volumes_by_symbol[symbol]\n",
    "    avg_volume_by_symbol[symbol] = sum(values)/len(values)\n",
    "    "
   ]
  },
  {
   "cell_type": "code",
   "execution_count": 154,
   "metadata": {
    "scrolled": false
   },
   "outputs": [
    {
     "data": {
      "text/plain": [
       "(185000000.0, 166366233.33333334)"
      ]
     },
     "execution_count": 154,
     "metadata": {},
     "output_type": "execute_result"
    }
   ],
   "source": [
    "avg_volume_by_symbol[\"BAC\"], avg_volume_by_symbol[\"AAPL\"]"
   ]
  },
  {
   "cell_type": "code",
   "execution_count": 155,
   "metadata": {},
   "outputs": [
    {
     "data": {
      "text/plain": [
       "['2000-07-18,144.8125,144.828125,141.4375,143.0,5.06836E7,50.155473,INTC',\n",
       " '2000-07-20,32.93751,34.25001,32.8125,33.75,3288300.0,8.789734,BEN',\n",
       " '2000-07-24,64.25,67.312477,64.187523,64.75,948800.0,7.689567,APH']"
      ]
     },
     "execution_count": 155,
     "metadata": {},
     "output_type": "execute_result"
    }
   ],
   "source": [
    "data[:3]"
   ]
  },
  {
   "cell_type": "code",
   "execution_count": 156,
   "metadata": {},
   "outputs": [],
   "source": [
    "from datetime import datetime"
   ]
  },
  {
   "cell_type": "code",
   "execution_count": 158,
   "metadata": {},
   "outputs": [],
   "source": [
    "d = datetime.strptime(\"2019-07-22\", \"%Y-%m-%d\")"
   ]
  },
  {
   "cell_type": "code",
   "execution_count": 159,
   "metadata": {},
   "outputs": [
    {
     "data": {
      "text/plain": [
       "datetime.datetime(2019, 7, 22, 0, 0)"
      ]
     },
     "execution_count": 159,
     "metadata": {},
     "output_type": "execute_result"
    }
   ],
   "source": [
    "d"
   ]
  },
  {
   "cell_type": "code",
   "execution_count": 162,
   "metadata": {},
   "outputs": [
    {
     "data": {
      "text/plain": [
       "1"
      ]
     },
     "execution_count": 162,
     "metadata": {},
     "output_type": "execute_result"
    }
   ],
   "source": [
    "d.isoweekday()"
   ]
  },
  {
   "cell_type": "code",
   "execution_count": 167,
   "metadata": {},
   "outputs": [
    {
     "data": {
      "text/plain": [
       "[2, 4, 1]"
      ]
     },
     "execution_count": 167,
     "metadata": {},
     "output_type": "execute_result"
    }
   ],
   "source": [
    "day_of_trading = [line.split(\",\")[0] for line in data]\n",
    "day_of_trading = [datetime.strptime(value, \"%Y-%m-%d\") for value in day_of_trading]\n",
    "day_of_trading = [value.isoweekday() for value in day_of_trading]\n",
    "day_of_trading[:3]"
   ]
  },
  {
   "cell_type": "code",
   "execution_count": 168,
   "metadata": {},
   "outputs": [],
   "source": [
    "from collections import Counter"
   ]
  },
  {
   "cell_type": "code",
   "execution_count": 175,
   "metadata": {},
   "outputs": [
    {
     "data": {
      "text/plain": [
       "Counter({2: 348, 4: 374, 1: 361, 3: 393, 5: 370})"
      ]
     },
     "execution_count": 175,
     "metadata": {},
     "output_type": "execute_result"
    }
   ],
   "source": [
    "count_by_day = Counter(day_of_trading)\n",
    "count_by_day"
   ]
  },
  {
   "cell_type": "code",
   "execution_count": 170,
   "metadata": {},
   "outputs": [
    {
     "data": {
      "text/plain": [
       "range(0, 10)"
      ]
     },
     "execution_count": 170,
     "metadata": {},
     "output_type": "execute_result"
    }
   ],
   "source": [
    "x = range(10)\n",
    "x"
   ]
  },
  {
   "cell_type": "code",
   "execution_count": 171,
   "metadata": {},
   "outputs": [
    {
     "data": {
      "text/plain": [
       "[0, 1, 2, 3, 4, 5, 6, 7, 8, 9]"
      ]
     },
     "execution_count": 171,
     "metadata": {},
     "output_type": "execute_result"
    }
   ],
   "source": [
    "list(x)"
   ]
  },
  {
   "cell_type": "code",
   "execution_count": 174,
   "metadata": {},
   "outputs": [],
   "source": [
    "def is_prime(v):\n",
    "    pass"
   ]
  },
  {
   "cell_type": "code",
   "execution_count": 173,
   "metadata": {},
   "outputs": [
    {
     "name": "stdout",
     "output_type": "stream",
     "text": [
      "0\n",
      "1\n",
      "2\n",
      "3\n",
      "4\n",
      "5\n",
      "6\n",
      "7\n",
      "8\n",
      "9\n"
     ]
    }
   ],
   "source": [
    "count = 0\n",
    "x = 2\n",
    "while count < 10:\n",
    "    if is_prime(x):\n",
    "        count += 1\n",
    "    x += 1\n",
    "    "
   ]
  },
  {
   "cell_type": "code",
   "execution_count": 177,
   "metadata": {},
   "outputs": [],
   "source": [
    "with open(\"/tmp/count.txt\", \"w\") as f:\n",
    "    for t in count_by_day.items():\n",
    "        f.write(\"{0},{1}\\n\".format(t[0], t[1]))"
   ]
  },
  {
   "cell_type": "code",
   "execution_count": 178,
   "metadata": {},
   "outputs": [],
   "source": [
    "import json"
   ]
  },
  {
   "cell_type": "code",
   "execution_count": 180,
   "metadata": {},
   "outputs": [
    {
     "data": {
      "text/plain": [
       "'{\\n \"2\": 348,\\n \"4\": 374,\\n \"1\": 361,\\n \"3\": 393,\\n \"5\": 370\\n}'"
      ]
     },
     "execution_count": 180,
     "metadata": {},
     "output_type": "execute_result"
    }
   ],
   "source": [
    "json.dumps(count_by_day,indent=True)"
   ]
  },
  {
   "cell_type": "code",
   "execution_count": 182,
   "metadata": {},
   "outputs": [],
   "source": [
    "with open(\"/tmp/count.json\", \"w\") as f:\n",
    "    json.dump(count_by_day, f)"
   ]
  },
  {
   "cell_type": "code",
   "execution_count": 184,
   "metadata": {},
   "outputs": [],
   "source": [
    "import requests"
   ]
  },
  {
   "cell_type": "code",
   "execution_count": 185,
   "metadata": {},
   "outputs": [],
   "source": [
    "path = \"https://edition.cnn.com/2019/07/22/politics/robert-mueller-donald-trump-democrats-russia-investigation/index.html\"\n",
    "response = requests.get(path)"
   ]
  },
  {
   "cell_type": "code",
   "execution_count": 186,
   "metadata": {},
   "outputs": [
    {
     "data": {
      "text/plain": [
       "<Response [200]>"
      ]
     },
     "execution_count": 186,
     "metadata": {},
     "output_type": "execute_result"
    }
   ],
   "source": [
    "response"
   ]
  },
  {
   "cell_type": "code",
   "execution_count": 189,
   "metadata": {
    "scrolled": false
   },
   "outputs": [
    {
     "data": {
      "text/plain": [
       "'<!DOCTYPE html><html class=\"no-js\"><head><meta content=\"IE=edge,chrome=1\" http-equiv=\"X-UA-Compatibl'"
      ]
     },
     "execution_count": 189,
     "metadata": {},
     "output_type": "execute_result"
    }
   ],
   "source": [
    "response.text[: 100]"
   ]
  },
  {
   "cell_type": "code",
   "execution_count": 197,
   "metadata": {},
   "outputs": [
    {
     "name": "stdout",
     "output_type": "stream",
     "text": [
      "Traceback (most recent call last):\n",
      "  File \"<ipython-input-197-078a6d0ca590>\", line 10, in <module>\n",
      "    y = inverse(0)\n",
      "  File \"<ipython-input-197-078a6d0ca590>\", line 6, in inverse\n",
      "    raise Exception(\"My check: invalid input 0\")\n",
      "Exception: My check: invalid input 0\n"
     ]
    }
   ],
   "source": [
    "import sys, traceback\n",
    "\n",
    "\n",
    "def inverse(x):\n",
    "    if x == 0:\n",
    "        raise Exception(\"My check: invalid input 0\")\n",
    "    return 1/x\n",
    "\n",
    "try: \n",
    "    y = inverse(0)\n",
    "except Exception as e:\n",
    "    #print(\"Error happend during inversion: \", e)\n",
    "    traceback.print_exc(file=sys.stdout)\n",
    "finally: \n",
    "    pass"
   ]
  },
  {
   "cell_type": "code",
   "execution_count": 237,
   "metadata": {},
   "outputs": [],
   "source": [
    "import json \n",
    "\n",
    "class Account:\n",
    "    \n",
    "    account_types = (\"Corporate\", \"Person\")\n",
    "    account_numbers = []\n",
    "    \n",
    "    def __init__(self, name, employees, account_type):\n",
    "        self.name = name\n",
    "        self.employees = employees\n",
    "        self.amount = 0\n",
    "        self.type = account_type\n",
    "        self.account_number = Account.generate_account_number()\n",
    "        self.account_numbers.append(self.account_number)\n",
    "\n",
    "    def deposit(self, amount):\n",
    "        if amount < 0:\n",
    "            raise InvalidAmountException(\"Amount must be greater than 0\")\n",
    "        self.amount = self.amount + amount\n",
    "    \n",
    "    def withdraw(self, amount):\n",
    "        if amount < 0 or amount > self.amount:\n",
    "            raise InvalidAmountException(\"Amount must be greater than 0 and less than balance amount\")\n",
    "        self.amount = self.amount - amount\n",
    "        \n",
    "    @staticmethod\n",
    "    def generate_account_number():\n",
    "        return len(Account.account_numbers) + 1\n",
    "    \n",
    "    def __repr__(self):\n",
    "        return json.dumps(self.__dict__)"
   ]
  },
  {
   "cell_type": "code",
   "execution_count": 239,
   "metadata": {},
   "outputs": [
    {
     "data": {
      "text/plain": [
       "({\"name\": \"Siemens - updated\", \"employees\": 100, \"amount\": 0, \"type\": \"Corporate\", \"account_number\": 2},\n",
       " 'Siemens - updated')"
      ]
     },
     "execution_count": 239,
     "metadata": {},
     "output_type": "execute_result"
    }
   ],
   "source": [
    "account1 = Account(\"Siemens\", 100, \"Corporate\")\n",
    "account1.name = \"Siemens - updated\"\n",
    "account1, account1.name"
   ]
  },
  {
   "cell_type": "code",
   "execution_count": 201,
   "metadata": {},
   "outputs": [
    {
     "data": {
      "text/plain": [
       "'__main__'"
      ]
     },
     "execution_count": 201,
     "metadata": {},
     "output_type": "execute_result"
    }
   ],
   "source": [
    "__name__"
   ]
  },
  {
   "cell_type": "code",
   "execution_count": 218,
   "metadata": {},
   "outputs": [
    {
     "data": {
      "text/plain": [
       "{\"name\": \"Siemens - updated\", \"employees\": 100, \"amount\": 0}"
      ]
     },
     "execution_count": 218,
     "metadata": {},
     "output_type": "execute_result"
    }
   ],
   "source": [
    "account1"
   ]
  },
  {
   "cell_type": "code",
   "execution_count": 240,
   "metadata": {},
   "outputs": [
    {
     "data": {
      "text/plain": [
       "20"
      ]
     },
     "execution_count": 240,
     "metadata": {},
     "output_type": "execute_result"
    }
   ],
   "source": [
    "account1.deposit(100)\n",
    "account1.withdraw(80)\n",
    "account1.amount"
   ]
  },
  {
   "cell_type": "code",
   "execution_count": 241,
   "metadata": {},
   "outputs": [
    {
     "name": "stdout",
     "output_type": "stream",
     "text": [
      "Amount must be greater than 0 and less than balance amount Retry a different amount\n"
     ]
    }
   ],
   "source": [
    "try: \n",
    "    account1.withdraw(100)\n",
    "except InvalidAmountException as ex:\n",
    "    print(ex, \"Retry a different amount\")\n",
    "except Exception as e:\n",
    "    pass"
   ]
  },
  {
   "cell_type": "code",
   "execution_count": 215,
   "metadata": {},
   "outputs": [
    {
     "data": {
      "text/plain": [
       "{'name': 'Siemens - updated', 'employees': 100, 'amount': 20}"
      ]
     },
     "execution_count": 215,
     "metadata": {},
     "output_type": "execute_result"
    }
   ],
   "source": [
    "account1.__dict__"
   ]
  },
  {
   "cell_type": "code",
   "execution_count": 221,
   "metadata": {},
   "outputs": [
    {
     "data": {
      "text/plain": [
       "('Corporate', 'Person')"
      ]
     },
     "execution_count": 221,
     "metadata": {},
     "output_type": "execute_result"
    }
   ],
   "source": [
    "Account.account_types"
   ]
  },
  {
   "cell_type": "code",
   "execution_count": 228,
   "metadata": {},
   "outputs": [
    {
     "data": {
      "text/plain": [
       "({\"name\": \"Siemens\", \"employees\": 100, \"amount\": 0, \"type\": \"Corporate\", \"account_number\": 1},\n",
       " {\"name\": \"Wipro\", \"employees\": 200, \"amount\": 0, \"type\": \"Corporate\", \"account_number\": 2})"
      ]
     },
     "execution_count": 228,
     "metadata": {},
     "output_type": "execute_result"
    }
   ],
   "source": [
    "account1 = Account(\"Siemens\", 100, \"Corporate\")\n",
    "account2 = Account(\"Wipro\", 200, \"Corporate\")\n",
    "account1, account2"
   ]
  },
  {
   "cell_type": "code",
   "execution_count": 226,
   "metadata": {},
   "outputs": [
    {
     "data": {
      "text/plain": [
       "[1, 2, 3]"
      ]
     },
     "execution_count": 226,
     "metadata": {},
     "output_type": "execute_result"
    }
   ],
   "source": [
    "Account.account_numbers"
   ]
  },
  {
   "cell_type": "code",
   "execution_count": 235,
   "metadata": {},
   "outputs": [],
   "source": [
    "class InvalidAmountException(Exception):\n",
    "    def __init__(self, message):\n",
    "        super().__init__(message)"
   ]
  },
  {
   "cell_type": "code",
   "execution_count": 236,
   "metadata": {},
   "outputs": [
    {
     "data": {
      "text/plain": [
       "__main__.InvalidAmountException('Amount must be greater than 0 and less than current balance')"
      ]
     },
     "execution_count": 236,
     "metadata": {},
     "output_type": "execute_result"
    }
   ],
   "source": [
    "InvalidAmountException(\"Amount must be greater than 0 and less than current balance\")"
   ]
  },
  {
   "cell_type": "code",
   "execution_count": null,
   "metadata": {},
   "outputs": [],
   "source": []
  }
 ],
 "metadata": {
  "kernelspec": {
   "display_name": "Python 3",
   "language": "python",
   "name": "python3"
  },
  "language_info": {
   "codemirror_mode": {
    "name": "ipython",
    "version": 3
   },
   "file_extension": ".py",
   "mimetype": "text/x-python",
   "name": "python",
   "nbconvert_exporter": "python",
   "pygments_lexer": "ipython3",
   "version": "3.7.3"
  }
 },
 "nbformat": 4,
 "nbformat_minor": 2
}
