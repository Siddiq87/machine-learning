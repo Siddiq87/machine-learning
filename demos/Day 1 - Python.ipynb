{
 "cells": [
  {
   "cell_type": "code",
   "execution_count": 2,
   "metadata": {},
   "outputs": [
    {
     "name": "stdout",
     "output_type": "stream",
     "text": [
      "Hello World\n"
     ]
    }
   ],
   "source": [
    "print(\"Hello World\")"
   ]
  },
  {
   "cell_type": "code",
   "execution_count": 3,
   "metadata": {},
   "outputs": [],
   "source": [
    "import sys"
   ]
  },
  {
   "cell_type": "code",
   "execution_count": 5,
   "metadata": {},
   "outputs": [
    {
     "data": {
      "text/plain": [
       "'3.7.4 (default, Aug 13 2019, 15:17:50) \\n[Clang 4.0.1 (tags/RELEASE_401/final)]'"
      ]
     },
     "execution_count": 5,
     "metadata": {},
     "output_type": "execute_result"
    }
   ],
   "source": [
    "sys.version"
   ]
  },
  {
   "cell_type": "code",
   "execution_count": 6,
   "metadata": {},
   "outputs": [],
   "source": [
    "x = 12"
   ]
  },
  {
   "cell_type": "code",
   "execution_count": 7,
   "metadata": {},
   "outputs": [
    {
     "data": {
      "text/plain": [
       "int"
      ]
     },
     "execution_count": 7,
     "metadata": {},
     "output_type": "execute_result"
    }
   ],
   "source": [
    "type(x)"
   ]
  },
  {
   "cell_type": "code",
   "execution_count": 8,
   "metadata": {},
   "outputs": [],
   "source": [
    "x = 12.3"
   ]
  },
  {
   "cell_type": "code",
   "execution_count": 9,
   "metadata": {},
   "outputs": [
    {
     "data": {
      "text/plain": [
       "float"
      ]
     },
     "execution_count": 9,
     "metadata": {},
     "output_type": "execute_result"
    }
   ],
   "source": [
    "type(x)"
   ]
  },
  {
   "cell_type": "code",
   "execution_count": 11,
   "metadata": {},
   "outputs": [
    {
     "data": {
      "text/plain": [
       "False"
      ]
     },
     "execution_count": 11,
     "metadata": {},
     "output_type": "execute_result"
    }
   ],
   "source": [
    "type(x) is int"
   ]
  },
  {
   "cell_type": "code",
   "execution_count": 12,
   "metadata": {},
   "outputs": [
    {
     "data": {
      "text/plain": [
       "True"
      ]
     },
     "execution_count": 12,
     "metadata": {},
     "output_type": "execute_result"
    }
   ],
   "source": [
    "type(x) is float"
   ]
  },
  {
   "cell_type": "code",
   "execution_count": 13,
   "metadata": {},
   "outputs": [],
   "source": [
    "def substract(x, y):\n",
    "    z = x - y\n",
    "    return z"
   ]
  },
  {
   "cell_type": "code",
   "execution_count": 14,
   "metadata": {},
   "outputs": [],
   "source": [
    "def is_even(x):\n",
    "    if x % 2 == 0:\n",
    "        z = \"Even\"\n",
    "    else:\n",
    "        z = \"Odd\"\n",
    "    return z"
   ]
  },
  {
   "cell_type": "code",
   "execution_count": 15,
   "metadata": {},
   "outputs": [
    {
     "data": {
      "text/plain": [
       "-2"
      ]
     },
     "execution_count": 15,
     "metadata": {},
     "output_type": "execute_result"
    }
   ],
   "source": [
    "substract(4, 6)"
   ]
  },
  {
   "cell_type": "code",
   "execution_count": 16,
   "metadata": {},
   "outputs": [
    {
     "data": {
      "text/plain": [
       "2"
      ]
     },
     "execution_count": 16,
     "metadata": {},
     "output_type": "execute_result"
    }
   ],
   "source": [
    "substract( y = 4, x = 6)"
   ]
  },
  {
   "cell_type": "code",
   "execution_count": 17,
   "metadata": {},
   "outputs": [],
   "source": [
    "def substract(x, y = 10):\n",
    "    z = x - y\n",
    "    return z"
   ]
  },
  {
   "cell_type": "code",
   "execution_count": 18,
   "metadata": {},
   "outputs": [
    {
     "data": {
      "text/plain": [
       "7"
      ]
     },
     "execution_count": 18,
     "metadata": {},
     "output_type": "execute_result"
    }
   ],
   "source": [
    "substract(17)"
   ]
  },
  {
   "cell_type": "code",
   "execution_count": 19,
   "metadata": {},
   "outputs": [
    {
     "data": {
      "text/plain": [
       "12"
      ]
     },
     "execution_count": 19,
     "metadata": {},
     "output_type": "execute_result"
    }
   ],
   "source": [
    "substract(17, 5)"
   ]
  },
  {
   "cell_type": "code",
   "execution_count": 23,
   "metadata": {},
   "outputs": [],
   "source": [
    "def substract(x = 0, y = 10):\n",
    "    z = x - y\n",
    "    return z"
   ]
  },
  {
   "cell_type": "code",
   "execution_count": 24,
   "metadata": {},
   "outputs": [
    {
     "data": {
      "text/plain": [
       "-90"
      ]
     },
     "execution_count": 24,
     "metadata": {},
     "output_type": "execute_result"
    }
   ],
   "source": [
    "substract(y=90)"
   ]
  },
  {
   "cell_type": "code",
   "execution_count": 25,
   "metadata": {},
   "outputs": [
    {
     "data": {
      "text/plain": [
       "80"
      ]
     },
     "execution_count": 25,
     "metadata": {},
     "output_type": "execute_result"
    }
   ],
   "source": [
    "substract(90)"
   ]
  },
  {
   "cell_type": "code",
   "execution_count": 20,
   "metadata": {},
   "outputs": [],
   "source": [
    "def myfunc(*x):\n",
    "    print(x, type(x))\n"
   ]
  },
  {
   "cell_type": "code",
   "execution_count": 21,
   "metadata": {},
   "outputs": [
    {
     "name": "stdout",
     "output_type": "stream",
     "text": [
      "(1,) <class 'tuple'>\n"
     ]
    }
   ],
   "source": [
    "myfunc(1)"
   ]
  },
  {
   "cell_type": "code",
   "execution_count": 22,
   "metadata": {},
   "outputs": [
    {
     "name": "stdout",
     "output_type": "stream",
     "text": [
      "(1, 2, 3) <class 'tuple'>\n"
     ]
    }
   ],
   "source": [
    "myfunc(1, 2, 3)"
   ]
  },
  {
   "cell_type": "code",
   "execution_count": 26,
   "metadata": {},
   "outputs": [],
   "source": [
    "def myfunc(**x):\n",
    "    print(x, type(x))"
   ]
  },
  {
   "cell_type": "code",
   "execution_count": 29,
   "metadata": {},
   "outputs": [
    {
     "name": "stdout",
     "output_type": "stream",
     "text": [
      "{'a': 2, 'b': 'boy'} <class 'dict'>\n"
     ]
    }
   ],
   "source": [
    "myfunc(a = 2, b = \"boy\")"
   ]
  },
  {
   "cell_type": "code",
   "execution_count": 30,
   "metadata": {},
   "outputs": [],
   "source": [
    "def add(x, y):\n",
    "    return x + y "
   ]
  },
  {
   "cell_type": "code",
   "execution_count": 31,
   "metadata": {},
   "outputs": [
    {
     "data": {
      "text/plain": [
       "5"
      ]
     },
     "execution_count": 31,
     "metadata": {},
     "output_type": "execute_result"
    }
   ],
   "source": [
    "add(2, 3)"
   ]
  },
  {
   "cell_type": "code",
   "execution_count": 32,
   "metadata": {},
   "outputs": [
    {
     "data": {
      "text/plain": [
       "5.5"
      ]
     },
     "execution_count": 32,
     "metadata": {},
     "output_type": "execute_result"
    }
   ],
   "source": [
    "add(2, 3.5)"
   ]
  },
  {
   "cell_type": "code",
   "execution_count": 33,
   "metadata": {},
   "outputs": [
    {
     "data": {
      "text/plain": [
       "'hello world'"
      ]
     },
     "execution_count": 33,
     "metadata": {},
     "output_type": "execute_result"
    }
   ],
   "source": [
    "add(\"hello \", \"world\")"
   ]
  },
  {
   "cell_type": "code",
   "execution_count": 34,
   "metadata": {},
   "outputs": [
    {
     "ename": "TypeError",
     "evalue": "unsupported operand type(s) for +: 'int' and 'str'",
     "output_type": "error",
     "traceback": [
      "\u001b[0;31m---------------------------------------------------------------------------\u001b[0m",
      "\u001b[0;31mTypeError\u001b[0m                                 Traceback (most recent call last)",
      "\u001b[0;32m<ipython-input-34-5a130fe54810>\u001b[0m in \u001b[0;36m<module>\u001b[0;34m()\u001b[0m\n\u001b[0;32m----> 1\u001b[0;31m \u001b[0madd\u001b[0m\u001b[0;34m(\u001b[0m\u001b[0;36m10\u001b[0m\u001b[0;34m,\u001b[0m \u001b[0;34m\"world\"\u001b[0m\u001b[0;34m)\u001b[0m\u001b[0;34m\u001b[0m\u001b[0;34m\u001b[0m\u001b[0m\n\u001b[0m",
      "\u001b[0;32m<ipython-input-30-bad5803ab9e6>\u001b[0m in \u001b[0;36madd\u001b[0;34m(x, y)\u001b[0m\n\u001b[1;32m      1\u001b[0m \u001b[0;32mdef\u001b[0m \u001b[0madd\u001b[0m\u001b[0;34m(\u001b[0m\u001b[0mx\u001b[0m\u001b[0;34m,\u001b[0m \u001b[0my\u001b[0m\u001b[0;34m)\u001b[0m\u001b[0;34m:\u001b[0m\u001b[0;34m\u001b[0m\u001b[0;34m\u001b[0m\u001b[0m\n\u001b[0;32m----> 2\u001b[0;31m     \u001b[0;32mreturn\u001b[0m \u001b[0mx\u001b[0m \u001b[0;34m+\u001b[0m \u001b[0my\u001b[0m\u001b[0;34m\u001b[0m\u001b[0;34m\u001b[0m\u001b[0m\n\u001b[0m",
      "\u001b[0;31mTypeError\u001b[0m: unsupported operand type(s) for +: 'int' and 'str'"
     ]
    }
   ],
   "source": [
    "add(10, \"world\")"
   ]
  },
  {
   "cell_type": "code",
   "execution_count": 37,
   "metadata": {},
   "outputs": [
    {
     "ename": "TypeError",
     "evalue": "unsupported operand type(s) for +: 'int' and 'str'",
     "output_type": "error",
     "traceback": [
      "\u001b[0;31m---------------------------------------------------------------------------\u001b[0m",
      "\u001b[0;31mTypeError\u001b[0m                                 Traceback (most recent call last)",
      "\u001b[0;32m<ipython-input-37-6ad7f614e349>\u001b[0m in \u001b[0;36m<module>\u001b[0;34m()\u001b[0m\n\u001b[0;32m----> 1\u001b[0;31m \u001b[0;36m10\u001b[0m \u001b[0;34m+\u001b[0m \u001b[0;34m\"world\"\u001b[0m\u001b[0;34m\u001b[0m\u001b[0;34m\u001b[0m\u001b[0m\n\u001b[0m",
      "\u001b[0;31mTypeError\u001b[0m: unsupported operand type(s) for +: 'int' and 'str'"
     ]
    }
   ],
   "source": [
    "10 + \"world\""
   ]
  },
  {
   "cell_type": "code",
   "execution_count": 38,
   "metadata": {},
   "outputs": [],
   "source": [
    "def multiplier(by):\n",
    "    def plier(x):\n",
    "        return by * x\n",
    "    return plier"
   ]
  },
  {
   "cell_type": "code",
   "execution_count": 39,
   "metadata": {},
   "outputs": [],
   "source": [
    "f = multiplier(10)"
   ]
  },
  {
   "cell_type": "code",
   "execution_count": 40,
   "metadata": {},
   "outputs": [
    {
     "data": {
      "text/plain": [
       "function"
      ]
     },
     "execution_count": 40,
     "metadata": {},
     "output_type": "execute_result"
    }
   ],
   "source": [
    "type(f)"
   ]
  },
  {
   "cell_type": "code",
   "execution_count": 41,
   "metadata": {},
   "outputs": [
    {
     "data": {
      "text/plain": [
       "20"
      ]
     },
     "execution_count": 41,
     "metadata": {},
     "output_type": "execute_result"
    }
   ],
   "source": [
    "f(2)"
   ]
  },
  {
   "cell_type": "code",
   "execution_count": 42,
   "metadata": {},
   "outputs": [],
   "source": [
    "def multiplier(by):\n",
    "    def plier1(x):\n",
    "        return x * by\n",
    "    def plier2(x):\n",
    "        return x / by\n",
    "    return plier1, plier2"
   ]
  },
  {
   "cell_type": "code",
   "execution_count": 43,
   "metadata": {},
   "outputs": [],
   "source": [
    "plier1_, plier2_ = multiplier(10)"
   ]
  },
  {
   "cell_type": "code",
   "execution_count": 44,
   "metadata": {},
   "outputs": [
    {
     "data": {
      "text/plain": [
       "20"
      ]
     },
     "execution_count": 44,
     "metadata": {},
     "output_type": "execute_result"
    }
   ],
   "source": [
    "plier1_(2)"
   ]
  },
  {
   "cell_type": "code",
   "execution_count": 45,
   "metadata": {},
   "outputs": [
    {
     "data": {
      "text/plain": [
       "0.2"
      ]
     },
     "execution_count": 45,
     "metadata": {},
     "output_type": "execute_result"
    }
   ],
   "source": [
    "plier2_(2)"
   ]
  },
  {
   "cell_type": "code",
   "execution_count": 54,
   "metadata": {},
   "outputs": [
    {
     "data": {
      "text/plain": [
       "list"
      ]
     },
     "execution_count": 54,
     "metadata": {},
     "output_type": "execute_result"
    }
   ],
   "source": [
    "x = [1, 5, 9, 10, 3, 45, None]\n",
    "type(x)"
   ]
  },
  {
   "cell_type": "code",
   "execution_count": 55,
   "metadata": {},
   "outputs": [
    {
     "data": {
      "text/plain": [
       "7"
      ]
     },
     "execution_count": 55,
     "metadata": {},
     "output_type": "execute_result"
    }
   ],
   "source": [
    "len(x)"
   ]
  },
  {
   "cell_type": "code",
   "execution_count": 56,
   "metadata": {},
   "outputs": [
    {
     "data": {
      "text/plain": [
       "True"
      ]
     },
     "execution_count": 56,
     "metadata": {},
     "output_type": "execute_result"
    }
   ],
   "source": [
    "x[-1] is None"
   ]
  },
  {
   "cell_type": "code",
   "execution_count": 57,
   "metadata": {},
   "outputs": [
    {
     "data": {
      "text/plain": [
       "1"
      ]
     },
     "execution_count": 57,
     "metadata": {},
     "output_type": "execute_result"
    }
   ],
   "source": [
    "x = [1, 5, 9, 10, 3, 45]\n",
    "x[0]"
   ]
  },
  {
   "cell_type": "code",
   "execution_count": 51,
   "metadata": {},
   "outputs": [
    {
     "data": {
      "text/plain": [
       "45"
      ]
     },
     "execution_count": 51,
     "metadata": {},
     "output_type": "execute_result"
    }
   ],
   "source": [
    "x[-1]"
   ]
  },
  {
   "cell_type": "code",
   "execution_count": 52,
   "metadata": {},
   "outputs": [
    {
     "data": {
      "text/plain": [
       "3"
      ]
     },
     "execution_count": 52,
     "metadata": {},
     "output_type": "execute_result"
    }
   ],
   "source": [
    "x[-2]"
   ]
  },
  {
   "cell_type": "code",
   "execution_count": 53,
   "metadata": {},
   "outputs": [
    {
     "data": {
      "text/plain": [
       "[1, 5, 9]"
      ]
     },
     "execution_count": 53,
     "metadata": {},
     "output_type": "execute_result"
    }
   ],
   "source": [
    "x[0:3]"
   ]
  },
  {
   "cell_type": "code",
   "execution_count": 58,
   "metadata": {},
   "outputs": [
    {
     "data": {
      "text/plain": [
       "[1, 5, 9]"
      ]
     },
     "execution_count": 58,
     "metadata": {},
     "output_type": "execute_result"
    }
   ],
   "source": [
    "x[:3]"
   ]
  },
  {
   "cell_type": "code",
   "execution_count": 61,
   "metadata": {},
   "outputs": [
    {
     "data": {
      "text/plain": [
       "[10, 3]"
      ]
     },
     "execution_count": 61,
     "metadata": {},
     "output_type": "execute_result"
    }
   ],
   "source": [
    "x = [1, 5, 9, 10, 3, 45]\n",
    "x[-3:-1]"
   ]
  },
  {
   "cell_type": "code",
   "execution_count": 60,
   "metadata": {},
   "outputs": [
    {
     "data": {
      "text/plain": [
       "[10, 3, 45]"
      ]
     },
     "execution_count": 60,
     "metadata": {},
     "output_type": "execute_result"
    }
   ],
   "source": [
    "x[-3:]"
   ]
  },
  {
   "cell_type": "code",
   "execution_count": 62,
   "metadata": {},
   "outputs": [
    {
     "data": {
      "text/plain": [
       "[1, 5, 9, 10, 3, 45, 100]"
      ]
     },
     "execution_count": 62,
     "metadata": {},
     "output_type": "execute_result"
    }
   ],
   "source": [
    "x = [1, 5, 9, 10, 3, 45]\n",
    "x.append(100)\n",
    "x"
   ]
  },
  {
   "cell_type": "code",
   "execution_count": 63,
   "metadata": {},
   "outputs": [
    {
     "data": {
      "text/plain": [
       "[1, 5, 100, 9, 10, 3, 45]"
      ]
     },
     "execution_count": 63,
     "metadata": {},
     "output_type": "execute_result"
    }
   ],
   "source": [
    "x = [1, 5, 9, 10, 3, 45]\n",
    "x.insert(2, 100)\n",
    "x"
   ]
  },
  {
   "cell_type": "code",
   "execution_count": 64,
   "metadata": {},
   "outputs": [
    {
     "data": {
      "text/plain": [
       "[1, 5, 9, 10, 3]"
      ]
     },
     "execution_count": 64,
     "metadata": {},
     "output_type": "execute_result"
    }
   ],
   "source": [
    "x = [1, 5, 9, 10, 3, 45]\n",
    "x.remove(45)\n",
    "x"
   ]
  },
  {
   "cell_type": "code",
   "execution_count": 65,
   "metadata": {},
   "outputs": [
    {
     "ename": "ValueError",
     "evalue": "list.remove(x): x not in list",
     "output_type": "error",
     "traceback": [
      "\u001b[0;31m---------------------------------------------------------------------------\u001b[0m",
      "\u001b[0;31mValueError\u001b[0m                                Traceback (most recent call last)",
      "\u001b[0;32m<ipython-input-65-6912b49fb403>\u001b[0m in \u001b[0;36m<module>\u001b[0;34m()\u001b[0m\n\u001b[1;32m      1\u001b[0m \u001b[0mx\u001b[0m \u001b[0;34m=\u001b[0m \u001b[0;34m[\u001b[0m\u001b[0;36m1\u001b[0m\u001b[0;34m,\u001b[0m \u001b[0;36m5\u001b[0m\u001b[0;34m,\u001b[0m \u001b[0;36m9\u001b[0m\u001b[0;34m,\u001b[0m \u001b[0;36m10\u001b[0m\u001b[0;34m,\u001b[0m \u001b[0;36m3\u001b[0m\u001b[0;34m,\u001b[0m \u001b[0;36m45\u001b[0m\u001b[0;34m]\u001b[0m\u001b[0;34m\u001b[0m\u001b[0;34m\u001b[0m\u001b[0m\n\u001b[0;32m----> 2\u001b[0;31m \u001b[0mx\u001b[0m\u001b[0;34m.\u001b[0m\u001b[0mremove\u001b[0m\u001b[0;34m(\u001b[0m\u001b[0;36m100\u001b[0m\u001b[0;34m)\u001b[0m\u001b[0;34m\u001b[0m\u001b[0;34m\u001b[0m\u001b[0m\n\u001b[0m\u001b[1;32m      3\u001b[0m \u001b[0mx\u001b[0m\u001b[0;34m\u001b[0m\u001b[0;34m\u001b[0m\u001b[0m\n",
      "\u001b[0;31mValueError\u001b[0m: list.remove(x): x not in list"
     ]
    }
   ],
   "source": [
    "x = [1, 5, 9, 10, 3, 45]\n",
    "x.remove(100)\n",
    "x"
   ]
  },
  {
   "cell_type": "code",
   "execution_count": 67,
   "metadata": {},
   "outputs": [
    {
     "data": {
      "text/plain": [
       "[1, 5, 9, 10, 3, 45, 45]"
      ]
     },
     "execution_count": 67,
     "metadata": {},
     "output_type": "execute_result"
    }
   ],
   "source": [
    "x = [1, 5, 45, 9, 10, 3, 45, 45]\n",
    "x.remove(45)\n",
    "x"
   ]
  },
  {
   "cell_type": "code",
   "execution_count": 68,
   "metadata": {},
   "outputs": [
    {
     "data": {
      "text/plain": [
       "[1, 5, 10, 3, 45]"
      ]
     },
     "execution_count": 68,
     "metadata": {},
     "output_type": "execute_result"
    }
   ],
   "source": [
    "x = [1, 5, 9, 10, 3, 45]\n",
    "del x[2]\n",
    "x"
   ]
  },
  {
   "cell_type": "code",
   "execution_count": 70,
   "metadata": {},
   "outputs": [
    {
     "data": {
      "text/plain": [
       "(True, False)"
      ]
     },
     "execution_count": 70,
     "metadata": {},
     "output_type": "execute_result"
    }
   ],
   "source": [
    "x = [1, 5, 9, 10, 3, 45]\n",
    "45 in x, 100 in x"
   ]
  },
  {
   "cell_type": "code",
   "execution_count": 72,
   "metadata": {},
   "outputs": [
    {
     "data": {
      "text/plain": [
       "3"
      ]
     },
     "execution_count": 72,
     "metadata": {},
     "output_type": "execute_result"
    }
   ],
   "source": [
    "x = [1, 5, 9, 45, 10, 3, 45]\n",
    "x.index(45)"
   ]
  },
  {
   "cell_type": "code",
   "execution_count": 74,
   "metadata": {},
   "outputs": [
    {
     "data": {
      "text/plain": [
       "[1, 3, 5, 9, 10, 45]"
      ]
     },
     "execution_count": 74,
     "metadata": {},
     "output_type": "execute_result"
    }
   ],
   "source": [
    "x = [ 10, 3, 1, 5, 9, 45]\n",
    "x.sort()\n",
    "x"
   ]
  },
  {
   "cell_type": "code",
   "execution_count": 77,
   "metadata": {},
   "outputs": [
    {
     "data": {
      "text/plain": [
       "[45, 10, 9, 5, 3, 1]"
      ]
     },
     "execution_count": 77,
     "metadata": {},
     "output_type": "execute_result"
    }
   ],
   "source": [
    "x = [ 10, 3, 1, 5, 9, 45]\n",
    "x.sort(reverse=True)\n",
    "x"
   ]
  },
  {
   "cell_type": "code",
   "execution_count": 76,
   "metadata": {},
   "outputs": [
    {
     "data": {
      "text/plain": [
       "([1, 3, 5, 9, 10, 45], [10, 3, 1, 5, 9, 45])"
      ]
     },
     "execution_count": 76,
     "metadata": {},
     "output_type": "execute_result"
    }
   ],
   "source": [
    "x = [ 10, 3, 1, 5, 9, 45]\n",
    "sorted(x), x"
   ]
  },
  {
   "cell_type": "code",
   "execution_count": 78,
   "metadata": {},
   "outputs": [
    {
     "data": {
      "text/plain": [
       "([45, 10, 9, 5, 3, 1], [10, 3, 1, 5, 9, 45])"
      ]
     },
     "execution_count": 78,
     "metadata": {},
     "output_type": "execute_result"
    }
   ],
   "source": [
    "x = [ 10, 3, 1, 5, 9, 45]\n",
    "sorted(x, reverse=True), x"
   ]
  },
  {
   "cell_type": "code",
   "execution_count": 80,
   "metadata": {},
   "outputs": [
    {
     "data": {
      "text/plain": [
       "[-9, -5, 1, 3, 10, 45]"
      ]
     },
     "execution_count": 80,
     "metadata": {},
     "output_type": "execute_result"
    }
   ],
   "source": [
    "x = [ 10, 3, 1, -5, -9, 45]\n",
    "sorted(x)"
   ]
  },
  {
   "cell_type": "code",
   "execution_count": 81,
   "metadata": {},
   "outputs": [],
   "source": [
    "def myabs(x):\n",
    "    return x if x>0 else -x"
   ]
  },
  {
   "cell_type": "code",
   "execution_count": 82,
   "metadata": {},
   "outputs": [
    {
     "data": {
      "text/plain": [
       "[1, 3, -5, -9, 10, 45]"
      ]
     },
     "execution_count": 82,
     "metadata": {},
     "output_type": "execute_result"
    }
   ],
   "source": [
    "x = [ 10, 3, 1, -5, -9, 45]\n",
    "sorted(x, key=myabs)"
   ]
  },
  {
   "cell_type": "code",
   "execution_count": 83,
   "metadata": {},
   "outputs": [],
   "source": [
    "import math"
   ]
  },
  {
   "cell_type": "code",
   "execution_count": 84,
   "metadata": {},
   "outputs": [
    {
     "data": {
      "text/plain": [
       "[1, 3, -5, -9, 10, 45]"
      ]
     },
     "execution_count": 84,
     "metadata": {},
     "output_type": "execute_result"
    }
   ],
   "source": [
    "x = [ 10, 3, 1, -5, -9, 45]\n",
    "sorted(x, key=lambda x: x if x>0 else -x)"
   ]
  },
  {
   "cell_type": "code",
   "execution_count": 85,
   "metadata": {},
   "outputs": [],
   "source": [
    "x = \"hello world\""
   ]
  },
  {
   "cell_type": "code",
   "execution_count": 86,
   "metadata": {},
   "outputs": [
    {
     "data": {
      "text/plain": [
       "11"
      ]
     },
     "execution_count": 86,
     "metadata": {},
     "output_type": "execute_result"
    }
   ],
   "source": [
    "len(x)"
   ]
  },
  {
   "cell_type": "code",
   "execution_count": 89,
   "metadata": {},
   "outputs": [
    {
     "data": {
      "text/plain": [
       "'hello'"
      ]
     },
     "execution_count": 89,
     "metadata": {},
     "output_type": "execute_result"
    }
   ],
   "source": [
    "x[:5]"
   ]
  },
  {
   "cell_type": "code",
   "execution_count": 90,
   "metadata": {},
   "outputs": [
    {
     "data": {
      "text/plain": [
       "True"
      ]
     },
     "execution_count": 90,
     "metadata": {},
     "output_type": "execute_result"
    }
   ],
   "source": [
    "\"hello\" in x"
   ]
  },
  {
   "cell_type": "code",
   "execution_count": 91,
   "metadata": {},
   "outputs": [],
   "source": [
    "x = \"hello\""
   ]
  },
  {
   "cell_type": "code",
   "execution_count": 92,
   "metadata": {},
   "outputs": [],
   "source": [
    "y = \"hello\""
   ]
  },
  {
   "cell_type": "code",
   "execution_count": 93,
   "metadata": {},
   "outputs": [
    {
     "data": {
      "text/plain": [
       "4445518192"
      ]
     },
     "execution_count": 93,
     "metadata": {},
     "output_type": "execute_result"
    }
   ],
   "source": [
    "id(x)"
   ]
  },
  {
   "cell_type": "code",
   "execution_count": 94,
   "metadata": {},
   "outputs": [
    {
     "data": {
      "text/plain": [
       "4445518192"
      ]
     },
     "execution_count": 94,
     "metadata": {},
     "output_type": "execute_result"
    }
   ],
   "source": [
    "id(y)"
   ]
  },
  {
   "cell_type": "code",
   "execution_count": 95,
   "metadata": {},
   "outputs": [
    {
     "data": {
      "text/plain": [
       "True"
      ]
     },
     "execution_count": 95,
     "metadata": {},
     "output_type": "execute_result"
    }
   ],
   "source": [
    "x is y"
   ]
  },
  {
   "cell_type": "code",
   "execution_count": 96,
   "metadata": {},
   "outputs": [
    {
     "data": {
      "text/plain": [
       "True"
      ]
     },
     "execution_count": 96,
     "metadata": {},
     "output_type": "execute_result"
    }
   ],
   "source": [
    "x == y"
   ]
  },
  {
   "cell_type": "code",
   "execution_count": 97,
   "metadata": {},
   "outputs": [],
   "source": [
    "x = []"
   ]
  },
  {
   "cell_type": "code",
   "execution_count": 98,
   "metadata": {},
   "outputs": [
    {
     "data": {
      "text/plain": [
       "list"
      ]
     },
     "execution_count": 98,
     "metadata": {},
     "output_type": "execute_result"
    }
   ],
   "source": [
    "type(x)"
   ]
  },
  {
   "cell_type": "code",
   "execution_count": 99,
   "metadata": {},
   "outputs": [],
   "source": [
    "x = list()"
   ]
  },
  {
   "cell_type": "code",
   "execution_count": 100,
   "metadata": {},
   "outputs": [
    {
     "data": {
      "text/plain": [
       "list"
      ]
     },
     "execution_count": 100,
     "metadata": {},
     "output_type": "execute_result"
    }
   ],
   "source": [
    "type(x)"
   ]
  },
  {
   "cell_type": "code",
   "execution_count": 102,
   "metadata": {},
   "outputs": [
    {
     "data": {
      "text/plain": [
       "[1, 2.4, 'hello']"
      ]
     },
     "execution_count": 102,
     "metadata": {},
     "output_type": "execute_result"
    }
   ],
   "source": [
    "x = [1, 2.4, 'hello']\n",
    "x"
   ]
  },
  {
   "cell_type": "code",
   "execution_count": 105,
   "metadata": {},
   "outputs": [
    {
     "data": {
      "text/plain": [
       "'hello\\nworld\\n\\n'"
      ]
     },
     "execution_count": 105,
     "metadata": {},
     "output_type": "execute_result"
    }
   ],
   "source": [
    "s = \"\"\"hello\n",
    "world\n",
    "\n",
    "\"\"\"\n",
    "\n",
    "s"
   ]
  },
  {
   "cell_type": "code",
   "execution_count": 106,
   "metadata": {},
   "outputs": [
    {
     "data": {
      "text/plain": [
       "{'a': 'apple', 'b': 'banana', 'c': 'cake'}"
      ]
     },
     "execution_count": 106,
     "metadata": {},
     "output_type": "execute_result"
    }
   ],
   "source": [
    "x = {\"a\": \"apple\", \"b\": \"banana\", \"c\": \"cake\"}\n",
    "x"
   ]
  },
  {
   "cell_type": "code",
   "execution_count": 107,
   "metadata": {},
   "outputs": [
    {
     "data": {
      "text/plain": [
       "dict"
      ]
     },
     "execution_count": 107,
     "metadata": {},
     "output_type": "execute_result"
    }
   ],
   "source": [
    "type(x)"
   ]
  },
  {
   "cell_type": "code",
   "execution_count": 108,
   "metadata": {},
   "outputs": [
    {
     "data": {
      "text/plain": [
       "{'a': 'apple', 'b': 'banana', 'c': 'cake'}"
      ]
     },
     "execution_count": 108,
     "metadata": {},
     "output_type": "execute_result"
    }
   ],
   "source": [
    "x = dict(a = \"apple\", b = \"banana\", c = \"cake\")\n",
    "x"
   ]
  },
  {
   "cell_type": "code",
   "execution_count": 109,
   "metadata": {},
   "outputs": [
    {
     "data": {
      "text/plain": [
       "dict"
      ]
     },
     "execution_count": 109,
     "metadata": {},
     "output_type": "execute_result"
    }
   ],
   "source": [
    "type(x)"
   ]
  },
  {
   "cell_type": "code",
   "execution_count": 111,
   "metadata": {},
   "outputs": [
    {
     "data": {
      "text/plain": [
       "{1: 'Sun', 2: 'Mon', None: 'unknown'}"
      ]
     },
     "execution_count": 111,
     "metadata": {},
     "output_type": "execute_result"
    }
   ],
   "source": [
    "x = {1:\"Sun\", 2: \"Mon\", None: \"unknown\"}\n",
    "x"
   ]
  },
  {
   "cell_type": "code",
   "execution_count": 112,
   "metadata": {},
   "outputs": [
    {
     "data": {
      "text/plain": [
       "{1: 'Sun', 2: 'Mon', None: None}"
      ]
     },
     "execution_count": 112,
     "metadata": {},
     "output_type": "execute_result"
    }
   ],
   "source": [
    "x = {1:\"Sun\", 2: \"Mon\", None: None}\n",
    "x"
   ]
  },
  {
   "cell_type": "code",
   "execution_count": 113,
   "metadata": {},
   "outputs": [
    {
     "data": {
      "text/plain": [
       "3"
      ]
     },
     "execution_count": 113,
     "metadata": {},
     "output_type": "execute_result"
    }
   ],
   "source": [
    "len(x)"
   ]
  },
  {
   "cell_type": "code",
   "execution_count": 116,
   "metadata": {},
   "outputs": [
    {
     "data": {
      "text/plain": [
       "{1: 'Sun', 2: 'Tue', None: None}"
      ]
     },
     "execution_count": 116,
     "metadata": {},
     "output_type": "execute_result"
    }
   ],
   "source": [
    "x = {1:\"Sun\", 2: \"Mon\", None: None, 2: \"Tue\"}\n",
    "x"
   ]
  },
  {
   "cell_type": "code",
   "execution_count": 117,
   "metadata": {},
   "outputs": [
    {
     "data": {
      "text/plain": [
       "{1: 'Sun', 2: 'Mon', 3: 'Tue'}"
      ]
     },
     "execution_count": 117,
     "metadata": {},
     "output_type": "execute_result"
    }
   ],
   "source": [
    "x = {1:\"Sun\", 2: \"Mon\"}\n",
    "x[3] = \"Tue\"\n",
    "x"
   ]
  },
  {
   "cell_type": "code",
   "execution_count": 118,
   "metadata": {},
   "outputs": [
    {
     "data": {
      "text/plain": [
       "{1: 'Sun', 2: 'Tue'}"
      ]
     },
     "execution_count": 118,
     "metadata": {},
     "output_type": "execute_result"
    }
   ],
   "source": [
    "x = {1:\"Sun\", 2: \"Mon\"}\n",
    "x[2] = \"Tue\"\n",
    "x"
   ]
  },
  {
   "cell_type": "code",
   "execution_count": 122,
   "metadata": {},
   "outputs": [
    {
     "data": {
      "text/plain": [
       "{'b': 'Mon'}"
      ]
     },
     "execution_count": 122,
     "metadata": {},
     "output_type": "execute_result"
    }
   ],
   "source": [
    "x = {\"a\":\"Sun\", \"b\": \"Mon\"}\n",
    "del x[\"a\"]\n",
    "x"
   ]
  },
  {
   "cell_type": "code",
   "execution_count": 123,
   "metadata": {},
   "outputs": [
    {
     "data": {
      "text/plain": [
       "'apple'"
      ]
     },
     "execution_count": 123,
     "metadata": {},
     "output_type": "execute_result"
    }
   ],
   "source": [
    "x = dict(a = \"apple\", b = \"banana\", c = \"cake\")\n",
    "x[\"a\"]"
   ]
  },
  {
   "cell_type": "code",
   "execution_count": 124,
   "metadata": {},
   "outputs": [
    {
     "ename": "KeyError",
     "evalue": "'d'",
     "output_type": "error",
     "traceback": [
      "\u001b[0;31m---------------------------------------------------------------------------\u001b[0m",
      "\u001b[0;31mKeyError\u001b[0m                                  Traceback (most recent call last)",
      "\u001b[0;32m<ipython-input-124-aa826f23e2d6>\u001b[0m in \u001b[0;36m<module>\u001b[0;34m()\u001b[0m\n\u001b[1;32m      1\u001b[0m \u001b[0mx\u001b[0m \u001b[0;34m=\u001b[0m \u001b[0mdict\u001b[0m\u001b[0;34m(\u001b[0m\u001b[0ma\u001b[0m \u001b[0;34m=\u001b[0m \u001b[0;34m\"apple\"\u001b[0m\u001b[0;34m,\u001b[0m \u001b[0mb\u001b[0m \u001b[0;34m=\u001b[0m \u001b[0;34m\"banana\"\u001b[0m\u001b[0;34m,\u001b[0m \u001b[0mc\u001b[0m \u001b[0;34m=\u001b[0m \u001b[0;34m\"cake\"\u001b[0m\u001b[0;34m)\u001b[0m\u001b[0;34m\u001b[0m\u001b[0;34m\u001b[0m\u001b[0m\n\u001b[0;32m----> 2\u001b[0;31m \u001b[0mx\u001b[0m\u001b[0;34m[\u001b[0m\u001b[0;34m\"d\"\u001b[0m\u001b[0;34m]\u001b[0m\u001b[0;34m\u001b[0m\u001b[0;34m\u001b[0m\u001b[0m\n\u001b[0m",
      "\u001b[0;31mKeyError\u001b[0m: 'd'"
     ]
    }
   ],
   "source": [
    "x = dict(a = \"apple\", b = \"banana\", c = \"cake\")\n",
    "x[\"d\"]"
   ]
  },
  {
   "cell_type": "code",
   "execution_count": 125,
   "metadata": {},
   "outputs": [
    {
     "data": {
      "text/plain": [
       "False"
      ]
     },
     "execution_count": 125,
     "metadata": {},
     "output_type": "execute_result"
    }
   ],
   "source": [
    "x = dict(a = \"apple\", b = \"banana\", c = \"cake\")\n",
    "\"d\" in x"
   ]
  },
  {
   "cell_type": "code",
   "execution_count": 127,
   "metadata": {},
   "outputs": [
    {
     "data": {
      "text/plain": [
       "('<Unknown>', 'banana')"
      ]
     },
     "execution_count": 127,
     "metadata": {},
     "output_type": "execute_result"
    }
   ],
   "source": [
    "x = dict(a = \"apple\", b = \"banana\", c = \"cake\")\n",
    "x.get(\"d\", \"<Unknown>\"), x.get(\"b\", \"<Unknown>\")"
   ]
  },
  {
   "cell_type": "code",
   "execution_count": 128,
   "metadata": {},
   "outputs": [
    {
     "data": {
      "text/plain": [
       "dict_keys(['a', 'b', 'c'])"
      ]
     },
     "execution_count": 128,
     "metadata": {},
     "output_type": "execute_result"
    }
   ],
   "source": [
    "x.keys()"
   ]
  },
  {
   "cell_type": "code",
   "execution_count": 130,
   "metadata": {},
   "outputs": [
    {
     "ename": "TypeError",
     "evalue": "unhashable type: 'list'",
     "output_type": "error",
     "traceback": [
      "\u001b[0;31m---------------------------------------------------------------------------\u001b[0m",
      "\u001b[0;31mTypeError\u001b[0m                                 Traceback (most recent call last)",
      "\u001b[0;32m<ipython-input-130-9bb98731b48d>\u001b[0m in \u001b[0;36m<module>\u001b[0;34m()\u001b[0m\n\u001b[1;32m      1\u001b[0m \u001b[0mx\u001b[0m \u001b[0;34m=\u001b[0m \u001b[0mdict\u001b[0m\u001b[0;34m(\u001b[0m\u001b[0ma\u001b[0m \u001b[0;34m=\u001b[0m \u001b[0;34m\"apple\"\u001b[0m\u001b[0;34m,\u001b[0m \u001b[0mb\u001b[0m \u001b[0;34m=\u001b[0m \u001b[0;34m\"banana\"\u001b[0m\u001b[0;34m,\u001b[0m \u001b[0mc\u001b[0m \u001b[0;34m=\u001b[0m \u001b[0;34m\"cake\"\u001b[0m\u001b[0;34m)\u001b[0m\u001b[0;34m\u001b[0m\u001b[0;34m\u001b[0m\u001b[0m\n\u001b[0;32m----> 2\u001b[0;31m \u001b[0mx\u001b[0m\u001b[0;34m[\u001b[0m\u001b[0;34m[\u001b[0m\u001b[0;36m2\u001b[0m\u001b[0;34m,\u001b[0m \u001b[0;36m3\u001b[0m\u001b[0;34m]\u001b[0m\u001b[0;34m]\u001b[0m \u001b[0;34m=\u001b[0m \u001b[0;34m\"XYZ\"\u001b[0m\u001b[0;34m\u001b[0m\u001b[0;34m\u001b[0m\u001b[0m\n\u001b[0m\u001b[1;32m      3\u001b[0m \u001b[0mx\u001b[0m\u001b[0;34m\u001b[0m\u001b[0;34m\u001b[0m\u001b[0m\n",
      "\u001b[0;31mTypeError\u001b[0m: unhashable type: 'list'"
     ]
    }
   ],
   "source": [
    "x = dict(a = \"apple\", b = \"banana\", c = \"cake\")\n",
    "x[[2, 3]] = \"XYZ\"\n",
    "x"
   ]
  },
  {
   "cell_type": "code",
   "execution_count": 131,
   "metadata": {},
   "outputs": [
    {
     "data": {
      "text/plain": [
       "{'a': 'apple', 'b': 'banana', 'c': 'cake', (2, 3): 'XYZ'}"
      ]
     },
     "execution_count": 131,
     "metadata": {},
     "output_type": "execute_result"
    }
   ],
   "source": [
    "x = dict(a = \"apple\", b = \"banana\", c = \"cake\")\n",
    "x[(2, 3)] = \"XYZ\"\n",
    "x"
   ]
  },
  {
   "cell_type": "code",
   "execution_count": 132,
   "metadata": {},
   "outputs": [
    {
     "name": "stdout",
     "output_type": "stream",
     "text": [
      "4\n",
      "6\n",
      "0\n",
      "-3\n",
      "8\n"
     ]
    }
   ],
   "source": [
    "x = [4, 6, 0, -3, 8]\n",
    "for v in x:\n",
    "    print(v)"
   ]
  },
  {
   "cell_type": "code",
   "execution_count": 133,
   "metadata": {},
   "outputs": [
    {
     "name": "stdout",
     "output_type": "stream",
     "text": [
      "0 4\n",
      "1 6\n",
      "2 0\n",
      "3 -3\n",
      "4 8\n"
     ]
    }
   ],
   "source": [
    "x = [4, 6, 0, -3, 8]\n",
    "for i in range(len(x)):\n",
    "    print(i, x[i])"
   ]
  },
  {
   "cell_type": "code",
   "execution_count": 137,
   "metadata": {},
   "outputs": [
    {
     "name": "stdout",
     "output_type": "stream",
     "text": [
      "0 4\n",
      "1 6\n",
      "2 0\n",
      "3 -3\n",
      "4 8\n"
     ]
    }
   ],
   "source": [
    "x = [4, 6, 0, -3, 8]\n",
    "for i,v in enumerate(x):\n",
    "    print(i, v)"
   ]
  },
  {
   "cell_type": "code",
   "execution_count": 135,
   "metadata": {},
   "outputs": [
    {
     "data": {
      "text/plain": [
       "[0, 1, 2, 3, 4]"
      ]
     },
     "execution_count": 135,
     "metadata": {},
     "output_type": "execute_result"
    }
   ],
   "source": [
    "list(range(5))"
   ]
  },
  {
   "cell_type": "code",
   "execution_count": 136,
   "metadata": {},
   "outputs": [
    {
     "data": {
      "text/plain": [
       "[5, 8, 11, 14, 17]"
      ]
     },
     "execution_count": 136,
     "metadata": {},
     "output_type": "execute_result"
    }
   ],
   "source": [
    "list(range(5, 20, 3))"
   ]
  },
  {
   "cell_type": "code",
   "execution_count": 138,
   "metadata": {},
   "outputs": [
    {
     "data": {
      "text/plain": [
       "[16, 36, 0, 9, 64]"
      ]
     },
     "execution_count": 138,
     "metadata": {},
     "output_type": "execute_result"
    }
   ],
   "source": [
    "x = [4, 6, 0, -3, 8]\n",
    "squares = []\n",
    "for v in x:\n",
    "    squares.append(v ** 2)\n",
    "squares"
   ]
  },
  {
   "cell_type": "code",
   "execution_count": 139,
   "metadata": {},
   "outputs": [
    {
     "data": {
      "text/plain": [
       "[16, 36, 0, 9, 64]"
      ]
     },
     "execution_count": 139,
     "metadata": {},
     "output_type": "execute_result"
    }
   ],
   "source": [
    "x = [4, 6, 0, -3, 8]\n",
    "squares = [v ** 2 for v in x]\n",
    "squares"
   ]
  },
  {
   "cell_type": "code",
   "execution_count": 140,
   "metadata": {},
   "outputs": [
    {
     "data": {
      "text/plain": [
       "[4, 6, 0, 8]"
      ]
     },
     "execution_count": 140,
     "metadata": {},
     "output_type": "execute_result"
    }
   ],
   "source": [
    "x = [4, 6, 0, -3, -6, -2, 8]\n",
    "positives = [v for v in x if v>=0]\n",
    "positives"
   ]
  },
  {
   "cell_type": "code",
   "execution_count": 141,
   "metadata": {},
   "outputs": [
    {
     "data": {
      "text/plain": [
       "set"
      ]
     },
     "execution_count": 141,
     "metadata": {},
     "output_type": "execute_result"
    }
   ],
   "source": [
    "x = set()\n",
    "type(x)"
   ]
  },
  {
   "cell_type": "code",
   "execution_count": 142,
   "metadata": {},
   "outputs": [
    {
     "data": {
      "text/plain": [
       "dict"
      ]
     },
     "execution_count": 142,
     "metadata": {},
     "output_type": "execute_result"
    }
   ],
   "source": [
    "x = {}\n",
    "type(x)"
   ]
  },
  {
   "cell_type": "code",
   "execution_count": 143,
   "metadata": {},
   "outputs": [
    {
     "data": {
      "text/plain": [
       "set"
      ]
     },
     "execution_count": 143,
     "metadata": {},
     "output_type": "execute_result"
    }
   ],
   "source": [
    "x = set([1, 2, 3])\n",
    "type(x)"
   ]
  },
  {
   "cell_type": "code",
   "execution_count": 144,
   "metadata": {},
   "outputs": [
    {
     "data": {
      "text/plain": [
       "set"
      ]
     },
     "execution_count": 144,
     "metadata": {},
     "output_type": "execute_result"
    }
   ],
   "source": [
    "x = {1, 2, 3}\n",
    "type(x)"
   ]
  },
  {
   "cell_type": "code",
   "execution_count": 146,
   "metadata": {},
   "outputs": [
    {
     "data": {
      "text/plain": [
       "{1, 2, 3}"
      ]
     },
     "execution_count": 146,
     "metadata": {},
     "output_type": "execute_result"
    }
   ],
   "source": [
    "x = {1, 2, 3, 3}\n",
    "x"
   ]
  },
  {
   "cell_type": "code",
   "execution_count": 147,
   "metadata": {},
   "outputs": [
    {
     "data": {
      "text/plain": [
       "{1, 2, 3, 20}"
      ]
     },
     "execution_count": 147,
     "metadata": {},
     "output_type": "execute_result"
    }
   ],
   "source": [
    "x = [1, 2, 3, 3, 1, 2, 20]\n",
    "set(x)"
   ]
  },
  {
   "cell_type": "code",
   "execution_count": 148,
   "metadata": {},
   "outputs": [
    {
     "data": {
      "text/plain": [
       "True"
      ]
     },
     "execution_count": 148,
     "metadata": {},
     "output_type": "execute_result"
    }
   ],
   "source": [
    "x = {1, 2, 3, 3}\n",
    "3 in x"
   ]
  },
  {
   "cell_type": "code",
   "execution_count": 149,
   "metadata": {},
   "outputs": [
    {
     "data": {
      "text/plain": [
       "{1, 2}"
      ]
     },
     "execution_count": 149,
     "metadata": {},
     "output_type": "execute_result"
    }
   ],
   "source": [
    "x = {1, 2, 3, 3}\n",
    "x.remove(3)\n",
    "x"
   ]
  },
  {
   "cell_type": "code",
   "execution_count": 150,
   "metadata": {},
   "outputs": [
    {
     "data": {
      "text/plain": [
       "{1, 2, 3, 4}"
      ]
     },
     "execution_count": 150,
     "metadata": {},
     "output_type": "execute_result"
    }
   ],
   "source": [
    "x = {1, 2, 3, 3}\n",
    "x.add(4)\n",
    "x"
   ]
  },
  {
   "cell_type": "code",
   "execution_count": 151,
   "metadata": {},
   "outputs": [
    {
     "data": {
      "text/plain": [
       "3"
      ]
     },
     "execution_count": 151,
     "metadata": {},
     "output_type": "execute_result"
    }
   ],
   "source": [
    "x = {1, 2, 3, 3}\n",
    "len(x)"
   ]
  },
  {
   "cell_type": "code",
   "execution_count": 153,
   "metadata": {},
   "outputs": [
    {
     "data": {
      "text/plain": [
       "(4, tuple)"
      ]
     },
     "execution_count": 153,
     "metadata": {},
     "output_type": "execute_result"
    }
   ],
   "source": [
    "x = tuple([1, 2, 3, 3])\n",
    "len(x), type(x)"
   ]
  },
  {
   "cell_type": "code",
   "execution_count": 156,
   "metadata": {},
   "outputs": [
    {
     "ename": "AttributeError",
     "evalue": "'tuple' object has no attribute 'add'",
     "output_type": "error",
     "traceback": [
      "\u001b[0;31m---------------------------------------------------------------------------\u001b[0m",
      "\u001b[0;31mAttributeError\u001b[0m                            Traceback (most recent call last)",
      "\u001b[0;32m<ipython-input-156-8eb326783216>\u001b[0m in \u001b[0;36m<module>\u001b[0;34m()\u001b[0m\n\u001b[1;32m      1\u001b[0m \u001b[0mx\u001b[0m \u001b[0;34m=\u001b[0m \u001b[0mtuple\u001b[0m\u001b[0;34m(\u001b[0m\u001b[0;34m[\u001b[0m\u001b[0;36m1\u001b[0m\u001b[0;34m,\u001b[0m \u001b[0;36m2\u001b[0m\u001b[0;34m,\u001b[0m \u001b[0;36m3\u001b[0m\u001b[0;34m,\u001b[0m \u001b[0;36m3\u001b[0m\u001b[0;34m]\u001b[0m\u001b[0;34m)\u001b[0m\u001b[0;34m\u001b[0m\u001b[0;34m\u001b[0m\u001b[0m\n\u001b[0;32m----> 2\u001b[0;31m \u001b[0mx\u001b[0m\u001b[0;34m.\u001b[0m\u001b[0madd\u001b[0m\u001b[0;34m(\u001b[0m\u001b[0;36m9\u001b[0m\u001b[0;34m)\u001b[0m\u001b[0;34m\u001b[0m\u001b[0;34m\u001b[0m\u001b[0m\n\u001b[0m",
      "\u001b[0;31mAttributeError\u001b[0m: 'tuple' object has no attribute 'add'"
     ]
    }
   ],
   "source": [
    "x = tuple([1, 2, 3, 3])\n",
    "x.add(9)"
   ]
  },
  {
   "cell_type": "code",
   "execution_count": 158,
   "metadata": {},
   "outputs": [
    {
     "data": {
      "text/plain": [
       "[3, 3, 2, 1]"
      ]
     },
     "execution_count": 158,
     "metadata": {},
     "output_type": "execute_result"
    }
   ],
   "source": [
    "x = tuple([1, 2, 3, 3])\n",
    "sorted(x, reverse=True)"
   ]
  },
  {
   "cell_type": "code",
   "execution_count": 159,
   "metadata": {},
   "outputs": [],
   "source": [
    "f = open(\"/data/stocks.small.csv\", mode=\"r\", encoding=\"utf-8\")"
   ]
  },
  {
   "cell_type": "code",
   "execution_count": 160,
   "metadata": {},
   "outputs": [],
   "source": [
    "content = f.read()"
   ]
  },
  {
   "cell_type": "code",
   "execution_count": 162,
   "metadata": {},
   "outputs": [
    {
     "data": {
      "text/plain": [
       "['date,open,high,low,close,volume,adjclose,symbol',\n",
       " '2000-07-18,144.8125,144.828125,141.4375,143.0,5.06836E7,50.155473,INTC',\n",
       " '2000-07-20,32.93751,34.25001,32.8125,33.75,3288300.0,8.789734,BEN',\n",
       " '2000-07-24,64.25,67.312477,64.187523,64.75,948800.0,7.689567,APH',\n",
       " '2000-07-26,21.875,22.125,20.9375,20.9375,1464300.0,15.61832,SHW',\n",
       " '2000-07-26,42.0,42.312481,41.625,41.875,1397600.0,9.402721,STJ',\n",
       " '2000-07-31,33.937519,33.999986,33.75,33.875011,273400.0,5.063753,GGP',\n",
       " '2000-08-07,41.375038,43.0,40.812481,42.812481,2.43376E7,4.869542,SBUX',\n",
       " '2000-08-09,55.562481,55.625,54.5,55.0,387600.0,10.495977,EQT',\n",
       " '2000-08-10,49.0,52.625,48.75,52.125,1511600.0,22.539051,BCR',\n",
       " '2000-08-15,35.68749,35.68749,34.875,34.875,1246500.0,9.082726,BEN',\n",
       " '2000-08-23,41.125,41.375,40.187519,40.25,1.96864E7,4.203095,NKE',\n",
       " '2000-09-12,38.0,38.0,36.9375,37.6875,1431700.0,32.285666,IPG',\n",
       " '2000-09-13,56.4375,57.6875,56.4375,57.125,4194400.0,15.66107,EXC',\n",
       " '2000-09-22,42.75,43.0,42.5625,42.875,155100.0,20.370235,BXP',\n",
       " '2000-10-02,176.25,176.312485,155.187515,156.999985,4101900.0,52.333328,BIIB',\n",
       " '2000-10-04,44.375001,46.500001,44.375001,45.374998,6005600.0,24.935551,DD',\n",
       " '2000-10-05,31.25,31.562481,30.562481,30.75,1419200.0,4.943182,NUE',\n",
       " '2000-10-23,20.812481,22.0,20.687519,21.812481,2096400.0,5.26093,ALK',\n",
       " '2000-10-25,20.81256,20.81256,19.812479,20.00004,559200.0,1.571407,COG',\n",
       " '2000-10-31,67.625011,68.625037,67.312507,68.062534,1148400.0,8.058698,ETN',\n",
       " '2000-11-01,35.6875,36.6875,35.1875,36.125,1394800.0,19.415772,DO',\n",
       " '2000-11-02,15.6875,16.4375,15.5625,16.125,4287800.0,8.0625,BSX',\n",
       " '2000-11-02,59.5,61.5,58.0,61.375,1145800.0,42.092816,UPS',\n",
       " '2000-11-03,6.51562,7.0625,6.5,7.0625,16800.0,7.0625,ENDP',\n",
       " '2000-11-10,43.0,43.4375,42.5625,42.875,1813800.0,34.890409,WBA',\n",
       " '2000-11-16,13.75,14.4375,13.75,14.375,829700.0,13.8499,PXD',\n",
       " '2000-11-17,48.5,49.0,47.125,47.5,1038100.0,32.515943,STI',\n",
       " '2000-11-20,46.98,47.0,46.0,46.5,622600.0,43.282129,FDX',\n",
       " '2000-11-27,55.625,55.875,50.5,50.6875,3893900.0,36.411879,LLTC',\n",
       " '2000-11-28,8.0,8.0,7.0,7.03125,2390600.0,7.03125,RHT',\n",
       " '2000-11-29,24.25,24.3125,24.0,24.1875,37000.0,4.840168,O',\n",
       " '2000-12-01,39.0,39.0,38.25,39.0,4000800.0,1.958053,RAI',\n",
       " '2000-12-07,35.375038,35.624962,34.624962,35.187519,1828800.0,3.873478,BWA',\n",
       " '2000-12-11,3.43752,3.93752,3.43752,3.75,93600.0,0.437528,FLIR',\n",
       " '2000-12-12,34.5625,35.1875,34.25,34.8125,5533800.0,26.42913,MET',\n",
       " '2000-12-13,47.6875,47.6875,42.75,43.3125,1.00766E7,33.291433,XLNX',\n",
       " '2000-12-20,8.125,8.4375,8.125,8.3125,1217000.0,2.692444,FCX',\n",
       " '2000-12-22,44.8125,48.8125,44.3125,48.375,9779200.0,37.182639,XLNX',\n",
       " '2000-12-22,31.749997,31.749997,30.875005,31.249992,2018100.0,12.446755,FOX',\n",
       " '2000-12-28,68.0,69.9375,67.5625,68.5625,9635900.0,63.535675,EMC',\n",
       " '2001-01-02,26.5,26.5,23.8125,23.9375,1117600.0,19.598044,RHI',\n",
       " '2001-01-17,46.65624,48.24999,46.5,48.0,3893400.0,16.0,FISV',\n",
       " '2001-01-17,38.0,38.0,37.437504,37.562493,256800.0,19.065703,CINF',\n",
       " '2001-01-18,48.9375,50.375,47.0,47.5625,1489400.0,47.5625,AGN',\n",
       " '2001-01-18,36.250007,36.749998,35.562502,35.812505,2616200.0,21.791488,IP',\n",
       " '2001-01-19,66.375,66.375,64.375,65.9375,1960400.0,56.329221,KSS',\n",
       " '2001-01-29,50.812481,52.812477,50.0,52.312482,4.28127E7,5.504259,EBAY',\n",
       " '2001-01-31,29.66,29.84,28.889999,29.5,426000.0,18.562488,CMS',\n",
       " '2001-02-09,37.593761,38.0,36.9375,37.75,1572200.0,13.510969,TROW',\n",
       " '2001-02-13,24.65,24.700001,23.75,23.99,6395400.0,10.232904,KR',\n",
       " '2001-02-15,19.6,19.77,19.389999,19.59,148100.0,14.141609,R',\n",
       " '2001-02-15,73.199997,73.300003,71.980003,72.099998,882400.0,46.072101,PNC',\n",
       " '2001-02-16,36.200001,36.490002,35.799999,36.099998,585700.0,17.109717,ED',\n",
       " '2001-02-21,26.299999,26.85,26.219999,26.23,678700.0,16.059582,KEY',\n",
       " '2001-02-21,28.800002,29.300005,28.299998,28.299998,2697800.0,13.693665,USB',\n",
       " '2001-03-02,27.27,27.299999,26.9,26.98,1489200.0,11.536347,MCO',\n",
       " '2001-03-05,74.639997,75.699989,74.019991,75.48999,2513100.0,20.719566,HES',\n",
       " '2001-03-07,27.9,27.9,27.280001,27.290001,288900.0,21.741031,RCL',\n",
       " '2001-03-12,43.799999,43.799999,38.599998,40.400002,8869700.0,28.008902,HON',\n",
       " '2001-03-19,27.5,27.75,25.375,27.0625,7.66563E7,19.00846,INTC',\n",
       " '2001-03-23,23.75,24.875,23.75,23.875,191100.0,23.875,REGN',\n",
       " '2001-03-23,40.900002,41.75,40.700001,41.41,881000.0,17.16819,FLR',\n",
       " '2001-03-28,15.369837,15.599832,14.739842,14.97984,2334000.0,44.17123,MSI',\n",
       " '2001-04-02,68.599998,68.650002,66.699997,67.68,1556000.0,11.141685,ETN',\n",
       " '2001-04-03,4.25,4.3125,3.0,4.25,59700.0,8.5,ISRG',\n",
       " '2001-04-04,24.000007,24.579991,23.49999,24.47001,1166400.0,10.364861,MYL',\n",
       " '2001-04-11,18.25,18.42,17.98,18.07,422000.0,10.351968,LEG',\n",
       " '2001-04-12,13.03,13.1,12.92,13.0,95300.0,11.137251,MOS',\n",
       " '2001-04-16,49.700001,50.220001,48.709999,49.049999,6754500.0,36.980843,WMT',\n",
       " '2001-04-16,40.799999,41.900002,40.5,41.5,5037600.0,30.474796,HD',\n",
       " '2001-04-17,59.049999,60.900002,58.389999,58.389999,1649000.0,49.869582,COF',\n",
       " '2001-05-07,48.25,49.68,47.759998,47.810001,456000.0,37.856775,MLM',\n",
       " '2001-05-10,42.799999,42.900002,40.060001,40.279999,4206200.0,20.022287,ADBE',\n",
       " '2001-05-21,6.3,6.32,6.12,6.27,52000.0,12.54,ISRG',\n",
       " '2001-05-23,87.380013,87.48,85.620003,85.809992,1710300.0,23.646131,HES',\n",
       " '2001-05-25,42.550013,42.560017,41.890001,42.019983,299200.0,5.070758,OKE',\n",
       " '2001-05-29,26.75,26.799999,26.0,26.52,684700.0,15.692907,SRE',\n",
       " '2001-05-31,47.029999,48.060001,46.509998,46.639999,1110400.0,38.239437,CTAS',\n",
       " '2001-06-01,105.050003,105.389999,104.0,105.0,1763800.0,35.065746,MMC',\n",
       " '2001-06-04,76.480003,79.080002,76.480003,78.849998,2504400.0,9.351837,FMC',\n",
       " '2001-06-07,87.75,88.449997,86.0,88.199997,536000.0,35.36824,LLL',\n",
       " '2001-06-07,53.299999,54.599998,53.099998,53.75,147800.0,41.460259,VMC',\n",
       " '2001-06-08,61.950001,61.98,60.119999,60.299999,6429600.0,24.285409,SLB',\n",
       " '2001-06-13,30.450001,31.1,29.469999,29.5,2112800.0,28.657226,LRCX',\n",
       " '2001-06-21,28.360001,28.440001,27.0,27.68,374200.0,14.305699,SCG',\n",
       " '2001-07-02,55.299999,55.299999,54.0,54.560001,621200.0,23.9973,SYK',\n",
       " '2001-07-12,47.529999,48.799999,47.529999,48.77,864000.0,5.341873,BLL',\n",
       " '2001-07-13,41.740002,43.200001,41.73,41.990002,4202400.0,5.24875,CERN',\n",
       " '2001-07-18,40.52,40.540001,39.75,40.150002,867000.0,16.700938,ECL',\n",
       " '2001-07-23,29.75,29.75,28.440001,28.6,104900.0,28.6,REGN',\n",
       " '2001-07-27,12.749995,12.870001,12.710003,12.86,297200.0,8.789635,HST',\n",
       " '2001-07-27,59.75,60.080002,57.740002,57.900002,4211800.0,16.152031,EXC',\n",
       " '2001-07-31,43.369999,45.599998,42.330002,43.580002,4786000.0,31.348003,LLTC',\n",
       " '2001-08-01,51.200001,51.439999,50.310081,50.900002,1.6008E7,3.111173,GILD',\n",
       " '2001-08-07,78.5,79.879997,78.349998,78.650002,914600.0,52.179692,XL',\n",
       " '2001-08-10,33.099998,33.700001,31.93,33.080002,4625900.0,33.080002,CTXS',\n",
       " '2001-08-15,47.099998,47.099998,46.700001,47.0,226900.0,16.261151,AIV',\n",
       " '2001-08-22,14.48,14.64,14.06,14.26,4312000.0,12.080375,GLW',\n",
       " '2001-08-29,61.200001,62.450081,59.880001,61.549919,3.19056E7,3.762131,GILD',\n",
       " '2001-09-04,40.900002,42.169998,40.349998,40.830002,1.84862E7,25.057444,GE',\n",
       " '2001-09-06,41.299999,41.52,40.41,40.5,1.84201E7,24.854921,GE',\n",
       " '2001-09-17,49.889999,49.900002,46.349998,46.849998,4339200.0,5.85625,CERN',\n",
       " '2001-09-17,27.0,27.0,25.75,25.75,17700.0,16.41283,SJM',\n",
       " '2001-09-25,76.0,77.599998,76.0,77.199997,3656100.0,45.782497,LLY',\n",
       " '2001-09-25,38.700001,38.700001,36.549999,37.759998,2379800.0,13.746498,DE',\n",
       " '2001-09-27,11.0,11.9,10.6,11.9,1862800.0,11.280993,HUM',\n",
       " '2001-09-27,34.599998,35.139999,33.349998,35.02,2207000.0,11.039499,EMN',\n",
       " '2001-10-05,17.469999,17.73,17.26,17.67,4912400.0,12.441208,F',\n",
       " '2001-10-08,24.200001,25.299999,23.85,24.549999,1836000.0,2.597148,COH',\n",
       " '2001-10-08,55.830002,55.84,54.380001,55.360001,1531700.0,35.906707,PNC',\n",
       " '2001-10-08,19.9,20.049999,19.75,20.030001,1192600.0,17.339122,IPG',\n",
       " '2001-10-11,68.449997,68.599998,67.540001,68.18,5280700.0,36.819717,MRK',\n",
       " '2001-10-11,137.349964,140.289963,137.33004,138.440037,4471200.0,7.861184,PGR',\n",
       " '2001-10-12,7.76,8.15,7.47,8.07,3629600.0,8.07,AMZN',\n",
       " '2001-10-12,37.91,38.240002,37.549999,38.130001,1231000.0,12.019878,EMN',\n",
       " '2001-10-15,3.72,3.99,3.71,3.95,429700.0,3.95,RHT',\n",
       " '2001-10-15,68.0,68.849998,66.25,68.599998,1168800.0,11.430582,ETN',\n",
       " '2001-10-24,25.100011,25.280005,24.750002,25.179994,1615300.0,8.361673,OXY',\n",
       " '2001-10-30,10.15,10.25,10.05,10.22,1775400.0,3.31029,FCX',\n",
       " '2001-10-31,36.670015,36.690009,36.199993,36.619994,713300.0,5.917002,GGP',\n",
       " '2001-11-07,35.169998,35.549999,35.169998,35.48,1141400.0,15.21257,MCO',\n",
       " '2001-11-12,41.75,41.84,41.200001,41.540001,284200.0,21.290166,DTE',\n",
       " '2001-11-13,39.459961,40.29996,38.360041,39.39,1.82828E7,3.018538,ATVI',\n",
       " '2001-11-14,51.349998,51.48,50.700001,51.080002,2202000.0,10.202352,YUM',\n",
       " '2001-11-16,15.27,16.0,15.05,15.47,3.19708E7,7.735,YHOO',\n",
       " '2001-11-20,58.099998,58.66,57.66,57.740002,712700.0,43.248983,NTRS',\n",
       " '2001-11-20,29.950001,30.110001,29.780001,29.799999,70000.0,19.383942,SLG',\n",
       " '2001-11-20,70.849998,70.849998,70.5,70.699997,147000.0,48.011279,MTB',\n",
       " '2001-11-21,16.280001,16.77,16.1,16.77,1131400.0,13.336253,COL',\n",
       " '2001-12-03,88.0,88.0,85.550003,86.010002,2880100.0,73.465587,GS',\n",
       " '2001-12-03,25.1,25.440001,24.780001,25.219999,1543700.0,12.003786,CNP',\n",
       " '2001-12-04,30.200001,30.360001,30.01,30.360001,165700.0,22.518716,IFF',\n",
       " '2001-12-05,8.5,9.35,8.49,9.35,480400.0,93.500001,ETFC',\n",
       " '2001-12-07,32.349998,32.98,31.1,31.75,7729300.0,31.75,MU',\n",
       " '2001-12-10,41.0,41.310001,40.560001,40.830002,288800.0,14.890801,MKC',\n",
       " '2001-12-12,63.009998,64.620003,61.599998,62.82,5627600.0,31.41,EA',\n",
       " '2001-12-12,26.6,26.799999,26.27,26.549999,1726200.0,19.015135,CCL',\n",
       " '2001-12-13,46.150002,46.48,45.900002,45.950001,976200.0,31.483395,LMT',\n",
       " '2001-12-20,30.98,31.0,30.799999,30.799999,313800.0,20.03441,SLG',\n",
       " '2001-12-20,81.400001,81.400001,80.200001,80.650001,215400.0,1211.032845,AIG',\n",
       " '2001-12-24,45.299999,45.75,45.299999,45.5,59000.0,31.215809,SWK',\n",
       " '2001-12-27,35.52,36.0,35.400002,35.849998,1486400.0,7.333731,HCP',\n",
       " '2001-12-28,47.77,48.0,47.450001,47.939999,119700.0,37.332585,VMC',\n",
       " '2001-12-31,72.0,72.269997,70.5,71.709999,1613600.0,30.844184,DGX',\n",
       " '2001-12-31,40.360001,42.009998,39.849998,40.900002,4755400.0,16.117877,M',\n",
       " '2002-01-02,19.0,19.25,18.83,19.09,1885300.0,16.139899,NEM',\n",
       " '2002-01-03,9.87,10.03,9.53,10.0,610800.0,2.5,HOLX',\n",
       " '2002-01-04,38.049999,39.130001,38.0,38.91,3583200.0,4.116295,COH',\n",
       " '2002-01-08,30.299999,30.549999,30.1,30.26,1153900.0,23.142482,MET',\n",
       " '2002-01-10,49.900002,51.150002,49.900002,51.139999,1249900.0,37.82112,LNC',\n",
       " '2002-01-16,48.25,48.900002,47.75,48.389999,2620200.0,33.1552,LMT',\n",
       " '2002-01-23,35.5,38.099998,34.75,37.98,5387400.0,30.426408,CA',\n",
       " '2002-01-24,7.43,8.0,7.42,7.79,2940900.0,7.153721,CCI',\n",
       " '2002-01-24,32.150002,33.650002,31.85,31.85,5866400.0,31.85,MU',\n",
       " '2002-01-28,33.16,33.84,31.9,32.0,575000.0,16.0,NFX',\n",
       " '2002-02-01,47.25,47.740002,46.099998,46.77,1051600.0,10.720844,PHM',\n",
       " '2002-02-01,34.259998,34.470001,33.369999,33.709999,3562800.0,33.611571,BBBY',\n",
       " '2002-02-04,49.25,50.299999,48.5,50.0,4998000.0,22.196282,BCR',\n",
       " '2002-02-06,59.009998,59.470001,58.25,58.459999,1255200.0,12.760836,EXPD',\n",
       " '2002-02-07,42.310001,42.540001,41.849998,41.900002,1328400.0,11.342948,PEG',\n",
       " '2002-02-07,59.990001,59.990001,58.85,58.890002,1016100.0,34.538434,KMB',\n",
       " '2002-02-12,37.990002,39.040001,37.5,38.150002,7721800.0,29.323364,XLNX',\n",
       " '2002-02-19,38.040001,38.130001,36.869999,36.970001,1981200.0,13.476064,TROW',\n",
       " '2002-02-20,34.560001,35.359921,34.050001,34.999921,1759200.0,1.45833,CTSH',\n",
       " '2002-02-21,51.25,52.580002,51.07,51.880001,4004800.0,17.829644,CAT',\n",
       " '2002-02-25,33.959999,34.279999,33.900002,34.02,395400.0,15.75304,XRAY',\n",
       " '2002-02-27,31.85,31.85,31.48,31.639999,148600.0,6.998786,O',\n",
       " '2002-03-04,24.32,24.879999,24.01,24.5,4408200.0,20.739261,NEM',\n",
       " '2002-03-08,43.150002,44.0,43.060001,43.830002,693300.0,22.590364,PBI',\n",
       " '2002-03-12,48.400002,49.369999,48.080002,49.349998,5486400.0,27.027082,BMY',\n",
       " '2002-03-22,28.049999,29.35,27.9,29.1,5569900.0,29.1,WAT',\n",
       " '2002-03-25,23.05002,23.05002,22.690021,22.95,30400.0,3.825,CNC',\n",
       " '2002-04-01,76.0,76.150002,75.129997,75.889999,2827600.0,17.14505,UNH',\n",
       " '2002-04-03,12.7,12.7,12.54,12.6,212000.0,1.575,SWN',\n",
       " '2002-04-03,50.099998,50.099998,48.619999,48.849998,2626000.0,21.099853,DVN',\n",
       " '2002-04-05,58.110001,58.810001,57.68,58.099998,3145600.0,29.049999,EA',\n",
       " '2002-04-05,45.400087,45.500094,45.140088,45.200092,3520300.0,20.454075,VZ',\n",
       " '2002-04-05,39.899998,40.660004,39.870004,40.260003,556400.0,25.077133,DOV',\n",
       " '2002-04-10,59.700001,64.230003,59.610001,63.509998,2415200.0,15.8775,SRCL',\n",
       " '2002-04-10,35.42999,35.999994,35.42999,35.969999,419700.0,13.103426,HRS',\n",
       " '2002-04-15,40.349998,40.650002,40.169998,40.23,659200.0,17.292094,MCO',\n",
       " '2002-04-17,29.75,29.75,29.200001,29.6,1137800.0,14.300432,EQR',\n",
       " '2002-04-24,48.900002,50.09,48.900002,49.509998,1973600.0,36.846376,LNC',\n",
       " '2002-04-26,44.920016,44.960003,44.649999,44.879991,449500.0,7.475314,GGP',\n",
       " '2002-04-30,18.889999,20.07,18.85,19.780001,9160000.0,2.4725,CELG',\n",
       " '2002-05-03,22.600004,23.13999,22.339993,22.520002,577000.0,5.619803,OKE',\n",
       " '2002-05-09,48.400002,48.400002,47.75,47.759998,990100.0,39.151384,STT',\n",
       " '2002-05-10,61.099998,62.66,61.099998,61.849998,5920600.0,42.093224,JNJ',\n",
       " '2002-05-14,43.02,43.57,42.950001,43.549999,567300.0,20.797009,AEE',\n",
       " '2002-05-17,61.75,62.5,60.700001,62.450001,8523000.0,17.767818,D',\n",
       " '2002-05-21,36.889999,37.299999,36.689999,36.849998,256200.0,18.424999,NFX',\n",
       " '2002-05-24,49.790001,50.59,49.700001,50.060001,487000.0,25.030001,HSIC',\n",
       " '2002-05-30,34.209999,34.650002,33.200001,34.580002,4104100.0,34.479033,BBBY',\n",
       " '2002-05-30,51.799999,52.349998,51.400002,51.900002,6183800.0,18.994151,CL',\n",
       " '2002-06-04,11.5,11.89,11.34,11.65,3225700.0,9.556463,SCHW',\n",
       " '2002-06-06,13.3,13.4,12.8,12.9,548800.0,1.6125,SWN',\n",
       " '2002-06-13,53.299999,53.52,52.549999,52.669998,790800.0,35.023949,PNC',\n",
       " '2002-06-17,81.0,82.0,80.75,81.599998,713800.0,81.599998,AZO',\n",
       " '2002-06-17,43.02,44.689999,43.02,44.490002,4153800.0,35.73594,MDT',\n",
       " '2002-06-26,29.9,30.09,29.59,29.889999,489800.0,11.921115,ALB',\n",
       " '2002-06-26,42.729997,43.390014,41.500012,42.809984,3407500.0,8.26693,PCAR',\n",
       " '2002-07-02,54.549999,54.630001,53.950001,54.029999,47000.0,31.793822,ESS',\n",
       " '2002-07-05,28.16,29.0,28.15,28.610001,1350200.0,11.428712,YUM',\n",
       " '2002-07-08,32.709999,32.849998,31.98,32.200001,1271400.0,8.919939,PPL',\n",
       " '2002-07-08,61.700001,62.700001,61.700001,62.439999,1677200.0,21.364666,PPG',\n",
       " '2002-07-11,5.350005,5.350005,5.059995,5.22,365200.0,3.347036,RRC',\n",
       " '2002-07-11,44.889999,44.889999,41.599998,44.189999,1359000.0,19.797885,PDCO',\n",
       " '2002-07-12,39.419998,39.689999,37.119999,37.119999,1.16952E7,4.066427,ROST',\n",
       " '2002-07-18,50.900002,50.900002,43.75,48.540001,1.79623E7,29.147431,LLY',\n",
       " '2002-07-18,56.200001,57.299999,55.599998,56.110001,2004600.0,19.198774,PPG',\n",
       " '2002-07-25,27.0,30.4,26.0,28.200001,1.1739E7,28.200001,LH',\n",
       " '2002-08-01,11.8,12.18,11.8,12.18,158900.0,11.452268,PVH',\n",
       " '2002-08-07,25.15,26.700001,25.15,26.34,1849400.0,19.629516,PFG',\n",
       " '2002-08-19,19.900002,20.180001,19.700002,19.99999,496600.0,5.036035,OKE',\n",
       " '2002-08-27,19.91,20.08,19.76,19.940001,728500.0,12.891045,HBAN',\n",
       " '2002-08-27,20.299999,20.5,20.049999,20.25,4723000.0,8.637612,KR',\n",
       " '2002-09-05,14.58,14.72,14.24,14.25,5320200.0,14.25,AMZN',\n",
       " '2002-09-05,43.599998,44.23,43.189999,43.200001,1.23835E7,38.850576,AMGN',\n",
       " '2002-09-05,43.080002,43.720001,42.700001,43.720001,2696200.0,19.573073,APC',\n",
       " '2002-09-09,37.84,38.43,37.299999,38.400002,129700.0,31.032728,MLM',\n",
       " '2002-09-10,47.349998,47.700001,46.549999,47.080002,2079000.0,17.497906,DE',\n",
       " '2002-09-13,53.119999,54.970001,52.650002,54.400002,8355200.0,41.290091,WMT',\n",
       " '2002-09-17,12.4,12.54,12.22,12.42,1489200.0,10.75193,TSN',\n",
       " '2002-09-23,6.83,6.84,6.5,6.67,3019200.0,5.532853,XRX',\n",
       " '2002-09-27,15.000091,15.060089,14.410085,14.430087,5025300.0,19.283705,TYC',\n",
       " '2002-10-02,5.15,5.25,4.8,4.84,3882600.0,4.109891,VRSN',\n",
       " '2002-10-04,12.03,12.229999,11.28,11.449999,2.20171E7,4.171563,HPQ',\n",
       " '2002-10-07,31.5,32.34,30.49,30.74,1691400.0,23.335944,NTRS',\n",
       " '2002-10-08,53.200001,53.400002,49.09,50.709999,6290800.0,21.811582,DGX',\n",
       " '2002-10-08,12.34,12.7,12.22,12.27,1865600.0,9.334903,ADM',\n",
       " '2002-10-09,24.889999,24.969999,24.389999,24.58,491600.0,5.96918,GPN',\n",
       " '2002-10-11,34.889999,35.02,34.09,34.450001,1081400.0,23.375416,K',\n",
       " '2002-10-16,14.98,15.25,14.82,14.91,1.19038E7,6.359841,KR',\n",
       " '2002-10-18,7.38,7.58,7.02,7.39,928500.0,5.192189,CMS',\n",
       " '2002-10-23,7.27,7.4,7.21,7.38,1028000.0,5.185163,CMS',\n",
       " '2002-10-28,27.5,27.66,26.299999,26.5,2922200.0,19.4905,ADI',\n",
       " '2002-10-31,29.709999,30.25,29.41,29.57,384800.0,11.604018,CHRW',\n",
       " '2002-11-05,34.560001,35.369999,34.349998,35.330002,3278400.0,35.226843,BBBY',\n",
       " '2002-11-05,47.91,48.66,47.529999,48.57,386200.0,34.85833,WHR',\n",
       " '2002-11-20,22.299999,23.799999,22.15,23.719999,1.97182E7,15.999487,JPM',\n",
       " '2002-11-26,42.400002,42.610001,41.59,41.93,1576600.0,17.687571,TXT',\n",
       " '2002-12-04,30.9,30.950001,29.860001,29.889999,1421100.0,15.561928,PNW',\n",
       " '2002-12-04,34.470047,34.900055,34.300041,34.470047,2733100.0,14.048482,MAR',\n",
       " '2002-12-06,35.500005,35.500005,34.750005,35.470004,2100.0,18.859362,SIG',\n",
       " '2002-12-09,79.959999,79.959999,78.290001,78.43,732100.0,78.43,AZO',\n",
       " '2002-12-12,37.700031,38.289981,37.450013,38.04003,518400.0,5.172512,AME',\n",
       " '2002-12-23,33.700001,34.02,33.5,33.650002,856800.0,17.519535,PNW',\n",
       " '2002-12-24,49.110001,49.349998,48.849998,49.07,445900.0,12.132849,WY',\n",
       " '2002-12-27,33.319994,33.329999,32.01,32.01,1600.0,17.019682,SIG',\n",
       " '2003-01-09,26.08,26.530001,26.02,26.379999,550800.0,10.843645,HP',\n",
       " '2003-01-10,46.75,48.43,46.549999,47.529999,1.67392E7,5.074632,NKE',\n",
       " '2003-01-10,3.149993,3.449992,3.149993,3.369987,1.19463E7,1.846767,WMB',\n",
       " '2003-01-13,10.4,10.6,10.0,10.09,6193900.0,10.09,MU',\n",
       " '2003-01-14,38.499935,39.089953,37.889934,39.059943,1.83716E7,11.447715,ABT',\n",
       " '2003-01-15,13.74,13.96,13.6,13.96,97300.0,9.757709,AYI',\n",
       " '2003-01-15,38.310151,38.390159,37.420155,37.670149,3324400.0,27.126213,AXP',\n",
       " '2003-01-21,34.759998,34.970001,33.689999,33.689999,762400.0,25.841161,LNC',\n",
       " '2003-01-23,19.4,20.299999,19.389999,20.25,905500.0,16.296923,AON',\n",
       " '2003-02-10,28.200001,28.5,27.77,28.43,2329100.0,17.609312,DOW',\n",
       " '2003-02-10,11.41,11.8,11.38,11.75,3.37635E7,10.831666,ORCL',\n",
       " '2003-02-19,64.099998,64.349998,63.549999,64.349998,1057800.0,28.403442,SYK',\n",
       " '2003-02-20,26.799999,27.129999,26.610001,27.0,2108400.0,27.0,LH',\n",
       " '2003-02-24,34.5,34.860001,34.290001,34.599998,2906000.0,9.939314,PEG',\n",
       " '2003-02-27,64.739998,64.739998,63.779999,64.160004,7460200.0,20.322352,CVX',\n",
       " '2003-03-04,30.01,30.110001,29.299999,29.34,1736000.0,21.928233,PRU',\n",
       " '2003-03-07,19.709999,20.23,19.65,20.0,2420500.0,13.256806,WM',\n",
       " '2003-03-12,44.920003,45.949984,44.680004,45.820011,3402600.0,9.113381,PCAR',\n",
       " '2003-03-14,1.390028,1.430029,1.370027,1.410028,166100.0,8.460169,PCLN',\n",
       " '2003-03-17,39.75,42.080002,39.459999,42.080002,4388800.0,14.178843,HRB',\n",
       " '2003-03-19,34.790001,34.889999,33.98,34.279999,1529000.0,11.643745,GRMN',\n",
       " '2003-03-19,3.39,3.49,3.22,3.39,2108000.0,3.085846,AES',\n",
       " '2003-03-19,15.64,15.95,15.35,15.4,2960200.0,12.485839,ACN',\n",
       " '2003-03-20,14.57,14.57,13.97,14.38,4927000.0,9.877785,MCD',\n",
       " '2003-03-24,22.75,22.76,22.450001,22.639999,1758900.0,12.66277,AEP',\n",
       " '2003-03-26,16.0,16.0,15.65,15.71,348000.0,4.561128,LNT',\n",
       " '2003-03-28,7.739999,7.879999,7.700002,7.879999,1592200.0,6.433466,CHK',\n",
       " '2003-03-28,13.64,13.76,13.45,13.59,4363600.0,5.796797,KR',\n",
       " '2003-04-09,51.549999,51.849998,50.700001,50.709999,328400.0,50.709999,MHK',\n",
       " '2003-04-09,10.62,10.8,10.5,10.72,1889300.0,7.540151,STX',\n",
       " '2003-04-14,46.5,46.82,46.220001,46.450001,1386000.0,32.022003,CLX',\n",
       " '2003-04-17,30.05001,30.599999,30.020001,30.519994,1731000.0,10.688478,OXY',\n",
       " '2003-04-17,33.080002,33.48,32.91,33.43,3326800.0,7.411118,NBL',\n",
       " '2003-04-21,36.349998,37.349998,36.060001,36.950001,4496000.0,16.554241,PDCO',\n",
       " '2003-04-21,76.099998,76.82,75.900002,76.349998,3176100.0,65.847597,GS',\n",
       " '2003-04-22,30.950001,32.139999,30.92,32.099998,1049400.0,22.130843,K',\n",
       " '2003-04-23,31.15,31.299999,30.1,30.870001,405600.0,14.242954,ROP',\n",
       " '2003-04-29,40.379944,40.819928,39.709931,40.619931,6702700.0,11.978081,ABT',\n",
       " '2003-05-07,82.639999,82.949997,81.510002,81.919998,726900.0,56.624716,XL',\n",
       " '2003-05-08,30.450001,30.530001,29.82,29.959999,1.08901E7,20.790595,JPM',\n",
       " '2003-05-27,24.35,25.110001,24.200001,25.1,1581800.0,20.507546,AON',\n",
       " '2003-06-03,12.5,12.5,12.15,12.37,281000.0,11.756084,KSU',\n",
       " '2003-06-05,19.1,19.450001,18.99,19.4,1767200.0,13.870733,DRI',\n",
       " '2003-06-13,26.780001,26.84,26.41,26.42,300500.0,20.320262,R',\n",
       " '2003-06-17,41.049999,41.32,40.799999,41.0,589400.0,16.589379,EQT',\n",
       " '2003-06-18,41.75,42.150002,41.049999,41.32,5626400.0,9.585436,EOG',\n",
       " '2003-06-18,30.51,30.730019,30.190021,30.599999,6393600.0,4.020122,CSX',\n",
       " '2003-06-24,29.1,29.799999,28.799999,29.629999,3311700.0,12.240245,DHI',\n",
       " '2003-06-26,6.649995,6.790005,6.499995,6.550005,227800.0,4.199828,RRC',\n",
       " '2003-06-26,20.699999,21.999999,20.299997,21.299998,2.16274E7,7.863747,HPQ',\n",
       " '2003-06-26,34.790001,34.990002,34.619999,34.959999,636200.0,18.424243,CTL',\n",
       " '2003-07-01,22.600006,22.909995,22.450005,22.879995,915100.0,11.214608,RSG',\n",
       " '2003-07-03,6.95,7.17,6.89,7.14,3803100.0,6.499392,AES',\n",
       " '2003-07-03,33.799999,34.139999,33.75,33.950001,1320800.0,14.668075,EL',\n",
       " '2003-07-08,39.230048,39.790046,39.13005,39.700069,1224300.0,16.280732,MAR',\n",
       " '2003-07-10,14.92,14.95,14.25,14.49,194400.0,14.49,URI',\n",
       " '2003-07-10,4.61008,4.7,4.6,4.65008,353600.0,0.29063,MNST',\n",
       " '2003-07-16,22.290001,22.35,21.85,22.0,1045200.0,9.096101,MON',\n",
       " '2003-07-16,35.049999,35.25,34.57,35.25,1073500.0,28.779907,TIF',\n",
       " '2003-07-21,40.200001,41.169998,40.150002,40.66,1157300.0,40.66,AGN',\n",
       " '2003-07-21,44.419996,44.419996,42.850004,43.120005,4048200.0,22.120289,BBY',\n",
       " '2003-07-22,44.099998,44.150002,43.330002,43.5,291200.0,10.070576,HCP',\n",
       " '2003-07-23,22.5,22.639999,22.08,22.24,3874900.0,17.942023,CA',\n",
       " '2003-07-25,44.98,46.009998,44.869999,46.0,1600600.0,38.348953,STT',\n",
       " '2003-07-28,27.299999,27.309999,27.040001,27.200001,1093100.0,14.276939,EQR',\n",
       " '2003-07-30,65.150002,66.599998,65.029999,66.550003,3535500.0,40.819787,LLY',\n",
       " '2003-07-31,30.3,30.850002,29.979997,30.119999,2747300.0,24.120077,BK',\n",
       " '2003-08-04,83.099998,83.349998,82.0,82.5,300200.0,38.37813,HAR',\n",
       " '2003-08-06,35.700021,36.240018,35.670002,36.22002,3689800.0,6.591931,VLO',\n",
       " '2003-08-08,62.300001,62.400001,61.650001,62.200001,162300.0,938.295677,AIG',\n",
       " '2003-08-11,36.0,36.990002,35.919998,36.77,3405200.0,27.043988,ADI',\n",
       " '2003-08-12,7.15,7.26,7.07,7.26,1488500.0,6.309801,MOS',\n",
       " '2003-08-13,11.7,11.74,11.46,11.53,666900.0,3.382056,FTR',\n",
       " '2003-08-15,28.700001,28.98,28.610001,28.780001,1.42575E7,18.546594,GE',\n",
       " '2003-08-15,9.48,9.5,9.25,9.25,1288400.0,8.419137,WDC',\n",
       " '2003-08-19,77.599998,77.769997,76.849998,77.0,478700.0,53.530168,XL',\n",
       " '2003-08-22,39.75,39.75,38.790001,38.869999,1244200.0,11.229422,PPL',\n",
       " '2003-08-22,27.299999,27.469999,26.690001,26.74,653600.0,20.06247,ROK',\n",
       " '2003-08-26,38.560001,39.66,38.060001,39.599998,2.39266E7,16.000658,QCOM',\n",
       " '2003-08-28,27.030001,27.839999,27.02,27.739999,3675400.0,11.457396,BAX',\n",
       " '2003-08-29,32.650002,32.810001,32.5,32.740002,647800.0,29.845397,MCK',\n",
       " '2003-08-29,19.360001,19.65,19.25,19.610001,691800.0,9.805,FFIV',\n",
       " '2003-09-11,39.599997,40.109999,39.420003,39.89,1659200.0,26.057879,IP',\n",
       " '2003-09-16,36.09,36.389999,36.009998,36.240002,256200.0,19.602398,PNW',\n",
       " '2003-09-17,36.310001,36.509998,36.099998,36.400002,527600.0,28.487654,LNC',\n",
       " '2003-09-18,48.41,48.720001,47.880001,48.080002,910900.0,38.560207,LLL',\n",
       " '2003-09-19,40.700001,41.02,40.41,41.02,262400.0,33.345547,VMC',\n",
       " '2003-09-23,23.02,23.700001,22.99,23.58,1266300.0,20.946756,EFX',\n",
       " '2003-09-23,54.799999,54.990002,54.400002,54.790001,1710200.0,41.669609,HIG',\n",
       " '2003-09-29,18.66,19.09,18.49,18.92,2.41972E7,15.246507,AMAT',\n",
       " '2003-10-01,57.040001,58.650002,57.02,58.610001,2046200.0,50.384043,COF',\n",
       " '2003-10-03,29.16,29.459999,28.93,29.08,5.7303E7,20.066992,MSFT',\n",
       " '2003-10-06,10.5,10.94,10.48,10.94,1159100.0,10.120585,AMT',\n",
       " '2003-10-06,106.199997,106.199997,105.129997,105.949997,361600.0,49.30224,HAR',\n",
       " '2003-10-06,39.75,40.66,39.599998,40.389999,7381600.0,5.04875,CTSH',\n",
       " '2003-10-07,62.599998,63.560001,62.599998,63.560001,1.04808E7,6.813116,NKE',\n",
       " '2003-10-08,43.860001,44.139999,42.82,43.25,1.63776E7,17.506413,QCOM',\n",
       " '2003-10-08,5.2,5.3,5.16,5.24,19200.0,2.62,ILMN',\n",
       " '2003-10-15,51.779999,52.060001,51.700001,52.0,67300.0,39.562239,BLK',\n",
       " '2003-10-17,110.599998,111.239998,108.650002,109.190002,235400.0,50.809928,HAR',\n",
       " '2003-10-20,27.57,27.83,27.57,27.700001,794000.0,6.261222,FMC',\n",
       " '2003-10-22,6.2,6.3,5.81,5.88,2332400.0,5.88,AKAM',\n",
       " '2003-10-23,45.249975,45.249975,44.549999,44.800021,789000.0,6.122573,AME',\n",
       " '2003-10-24,46.25,46.25,42.82,45.060001,6476800.0,31.899352,MMC',\n",
       " '2003-11-03,11.6,11.7,11.4,11.69,974600.0,5.091957,TSO',\n",
       " '2003-11-14,44.349998,45.470001,43.490002,43.540001,696800.0,20.335317,XRAY',\n",
       " '2003-11-20,53.530001,53.530001,52.929997,53.029999,1312500.0,32.409715,KMB',\n",
       " '2003-11-24,55.150002,56.16,55.099998,56.080002,1.01448E7,42.898319,WMT',\n",
       " '2003-12-02,31.949996,32.019996,31.410005,31.500004,3419800.0,25.382377,BK',\n",
       " '2003-12-12,37.939999,38.119999,37.77,38.060001,7449200.0,27.865163,XOM',\n",
       " '2003-12-23,71.629997,72.190002,69.989998,70.519997,4794600.0,43.711722,LLY',\n",
       " '2003-12-30,11.34,11.8,11.31,11.55,4990800.0,10.512544,WDC',\n",
       " '2004-01-02,17.84,18.02,17.610001,17.73,85300.0,17.007482,PVH',\n",
       " '2004-01-02,30.09,30.09,29.799999,29.940001,1456000.0,7.485,EW',\n",
       " '2004-01-05,32.279999,32.389999,31.83,32.16,1192300.0,15.007785,MDLZ',\n",
       " '2004-01-09,34.310001,34.349998,33.73,33.860001,3327200.0,27.914415,WBA',\n",
       " '2004-01-09,34.349998,34.369999,34.110001,34.150002,1471000.0,13.641752,YUM',\n",
       " '2004-01-14,82.470001,84.07,82.470001,83.699997,4498000.0,30.188587,CAT',\n",
       " '2004-01-15,24.999999,25.799997,24.969999,25.299998,5.01629E7,9.411616,HPQ',\n",
       " '2004-01-22,40.040001,40.529999,39.75,39.939999,1.56836E7,28.530376,JPM',\n",
       " '2004-01-29,15.22,15.4,14.86,15.04,4902800.0,14.390212,LUV',\n",
       " '2004-02-04,30.140005,30.199997,29.430005,29.430005,1167900.0,16.079286,GGP',\n",
       " '2004-02-05,15.2,15.55,15.05,15.17,104100.0,11.158651,IVZ',\n",
       " '2004-02-12,34.75,34.779999,34.529999,34.619999,235700.0,19.951671,SCG',\n",
       " '2004-02-23,64.080002,64.230003,63.490002,63.889999,1322800.0,14.297438,BLL',\n",
       " '2004-03-01,70.400002,70.459999,69.599998,69.849998,2760300.0,50.209041,UPS',\n",
       " '2004-03-10,64.690002,64.769997,62.939999,62.990002,1145600.0,16.153942,WY',\n",
       " '2004-03-11,7.8,7.95,7.65,7.68,3898500.0,7.473006,GT',\n",
       " '2004-03-11,18.34,18.35,17.959999,18.299999,146400.0,2.2875,LKQ',\n",
       " '2004-03-16,43.070001,43.32,42.849996,43.000001,327500.0,23.400553,CINF',\n",
       " '2004-03-16,11.15,11.34,10.95,11.02,5415400.0,9.115708,SCHW',\n",
       " '2004-03-18,11.38,11.57,10.95,11.27,3680800.0,10.950634,SWKS',\n",
       " '2004-03-19,64.669998,65.279999,64.339996,64.360001,1.62992E7,26.121513,QCOM',\n",
       " '2004-03-24,55.220001,55.75,55.040001,55.18,1173000.0,19.986322,PPG',\n",
       " '2004-03-24,38.630001,38.959999,38.549999,38.880001,917900.0,22.299608,FE',\n",
       " '2004-03-25,36.049999,37.259998,35.91,37.150002,7944900.0,27.814552,HD',\n",
       " '2004-03-30,61.099998,61.099998,60.009998,60.419998,7797200.0,12.007164,UNP',\n",
       " '2004-04-01,52.0,52.09,50.75,50.849998,3016800.0,23.133822,APC',\n",
       " '2004-04-05,32.200001,32.459999,32.200001,32.400002,666200.0,11.299921,WEC',\n",
       " '2004-04-06,25.950001,25.950001,23.200001,24.58,1809700.0,13.748192,VTR',\n",
       " '2004-04-12,82.629997,83.620003,82.599998,83.620003,1512900.0,61.533726,MMM',\n",
       " '2004-04-12,28.82,29.16,28.780001,29.02,3120300.0,20.244427,MCD',\n",
       " '2004-04-12,28.450001,28.65,28.450001,28.620001,643400.0,24.726728,ECL',\n",
       " '2004-04-14,17.870001,17.950001,17.700001,17.700001,236400.0,11.750297,ES',\n",
       " '2004-04-16,66.009991,66.009991,64.910007,65.219999,4140600.0,21.473365,CI',\n",
       " '2004-04-21,37.34,37.919998,37.150002,37.790001,1054200.0,13.85822,JWN',\n",
       " '2004-04-21,22.200001,22.540001,22.17,22.540001,132300.0,17.172247,TSS',\n",
       " '2004-04-27,79.580002,81.199997,79.389999,79.809998,9459200.0,9.97625,ESRX',\n",
       " '2004-04-30,80.949997,81.760002,79.760002,79.849998,896900.0,76.550504,ZBH',\n",
       " '2004-04-30,8.31,8.4,8.08,8.08,2396300.0,7.35423,WDC',\n",
       " '2004-05-03,52.450001,52.82,52.080002,52.75,115400.0,35.478425,SJM',\n",
       " '2004-05-05,28.510001,28.77,28.500001,28.530001,2352900.0,18.271427,MAS',\n",
       " '2004-05-05,49.639997,49.790007,49.149993,49.639997,875200.0,14.655903,LUK',\n",
       " '2004-05-06,48.549999,49.029999,48.400002,48.880001,3414900.0,34.318007,LMT',\n",
       " '2004-05-06,65.0,65.0,63.400002,63.77,793200.0,47.432638,WHR',\n",
       " '2004-05-12,35.79996,36.129959,35.099999,36.03996,3158400.0,2.896541,COG',\n",
       " '2004-05-14,38.400002,38.450001,37.450001,37.869999,283400.0,22.689805,WYNN',\n",
       " '2004-05-18,58.849998,59.32,57.75,58.110001,1.65896E7,3.753965,RAI',\n",
       " '2004-05-20,16.08,16.1,15.65,15.77,1367400.0,14.949686,HUM',\n",
       " '2004-05-20,45.009998,45.200001,44.529999,44.740002,1810600.0,15.84253,EMN',\n",
       " '2004-05-24,38.799999,39.439999,38.759998,39.419998,1066000.0,17.247079,FLR',\n",
       " '2004-05-25,30.299999,31.440001,30.27,31.370001,6369900.0,25.516047,AA',\n",
       " '2004-05-28,24.51,25.25,24.48,24.950001,505800.0,10.438846,HP',\n",
       " '2004-05-28,31.379999,31.689998,31.239998,31.439999,2975600.0,13.24785,BAX',\n",
       " '2004-06-07,37.209999,37.459999,37.040001,37.389999,890300.0,25.979219,SYY',\n",
       " '2004-06-08,35.799999,36.099998,35.450001,35.990002,1109200.0,15.596098,JBHT',\n",
       " '2004-06-24,19.379999,19.5,19.299999,19.33,374800.0,12.934392,ES',\n",
       " '2004-06-28,6.35,6.43,6.16,6.19,441800.0,3.095,ILMN',\n",
       " '2004-06-29,57.849998,58.799999,57.59,57.889999,5106400.0,7.23625,CELG',\n",
       " '2004-07-12,21.83,21.969999,21.32,21.370001,310400.0,5.3425,HOLX',\n",
       " '2004-07-13,37.970001,38.150002,37.02,37.259998,2805000.0,23.917617,BBT',\n",
       " '2004-07-13,85.0,86.5,84.849998,86.43,8136400.0,19.99703,AET',\n",
       " '2004-07-20,43.0,43.82,42.66,43.82,124100.0,36.587304,MLM',\n",
       " '2004-07-21,48.950001,48.990002,47.900002,47.98,5941800.0,5.964593,MO',\n",
       " '2004-07-27,30.399999,30.780002,30.04,30.48,2972900.0,19.622464,MAS',\n",
       " '2004-07-28,23.120001,23.49,22.5,23.040001,509300.0,23.040001,PCLN',\n",
       " '2004-07-28,40.5,43.889999,40.5,43.650002,3187200.0,9.866511,FMC',\n",
       " '2004-07-30,15.6,15.8,14.95,15.43,5900200.0,12.125569,ADM',\n",
       " '2004-08-05,35.599998,35.630001,34.720001,34.720001,399800.0,22.136047,PLD',\n",
       " '2004-08-11,60.619999,60.75,59.93,60.560001,2004600.0,21.470329,EMR',\n",
       " '2004-08-12,46.04001,46.47999,45.660001,45.909991,1115400.0,13.24097,CHD',\n",
       " '2004-08-23,12.62,12.62,12.4,12.5,1087400.0,4.351784,FTR',\n",
       " '2004-08-24,25.799999,26.0,25.799999,25.99,192500.0,21.482773,AIZ',\n",
       " '2004-09-03,46.77,47.450001,46.709999,47.02,3195400.0,34.599375,ALL',\n",
       " '2004-09-10,40.09,40.09,39.380001,39.709999,967000.0,13.610394,GRMN',\n",
       " '2004-09-14,50.899996,50.899996,50.129997,50.290003,8455900.0,26.084679,BBY',\n",
       " '2004-09-15,55.25001,55.430008,55.059992,55.070011,2503500.0,14.730094,BEN',\n",
       " '2004-09-24,43.979999,44.210001,43.620002,44.150001,1860900.0,361.006515,C',\n",
       " '2004-09-27,37.709999,37.75,37.240002,37.599998,627800.0,28.771932,ROK',\n",
       " '2004-10-01,56.849996,57.799991,56.650011,57.619999,579800.0,17.01195,LUK',\n",
       " '2004-10-08,33.650002,34.040001,33.639999,33.849998,1755500.0,25.435326,TRV',\n",
       " '2004-10-26,27.0,27.48999,26.790001,26.939999,2736600.0,8.98,DLTR',\n",
       " '2004-10-26,46.700001,48.169998,46.599998,47.5,5597400.0,19.043864,M',\n",
       " '2004-10-27,56.889999,57.290001,56.259998,56.93,750600.0,46.193243,GWW',\n",
       " '2004-11-08,46.459999,46.639999,46.110001,46.209999,688400.0,10.445165,FMC',\n",
       " '2004-11-08,76.769997,77.400002,76.519997,77.050003,1240500.0,66.348182,COF',\n",
       " '2004-11-09,36.450001,36.849998,35.77,36.18,2782900.0,36.18,BSX',\n",
       " '2004-11-10,38.75,39.150002,38.709999,38.939999,883900.0,30.125967,PFG',\n",
       " '2004-11-10,29.25,29.37,28.98,29.199989,2839400.0,9.73333,DLTR',\n",
       " '2004-11-12,55.66,56.549999,55.419998,56.529999,474400.0,23.905786,EQT',\n",
       " '2004-11-15,62.52,63.610001,62.139999,63.310001,214600.0,29.544486,ROP',\n",
       " '2004-11-17,48.84,49.48,48.549999,49.43,2600100.0,44.357502,APA',\n",
       " '2004-11-22,12.61,12.73,12.51,12.63,105200.0,7.558702,DLR',\n",
       " '2004-11-23,46.419998,46.93,46.02,46.400002,566900.0,46.400002,WAT',\n",
       " '2004-11-24,7.69,8.01,7.66,8.0,569400.0,4.0,ILMN',\n",
       " '2004-12-01,19.349796,19.799788,19.299792,19.749789,4651000.0,60.773269,MSI',\n",
       " '2004-12-01,80.529999,81.199997,80.019997,80.809998,353700.0,53.509667,ESS',\n",
       " '2004-12-03,74.510002,75.889999,74.400002,75.25,1431000.0,29.225563,TAP',\n",
       " '2004-12-13,53.73,56.150002,53.700001,55.860001,7311400.0,23.63775,COH',\n",
       " '2004-12-15,12.32,12.62,12.24,12.61,1919900.0,11.478618,AES',\n",
       " '2004-12-15,20.529999,20.729998,20.499998,20.709997,2.43224E7,7.82451,HPQ',\n",
       " '2004-12-17,78.5,79.970001,78.5,79.459999,2473800.0,76.17662,ZBH',\n",
       " '2004-12-28,26.65,27.139999,26.5,27.049999,99600.0,26.147126,PVH',\n",
       " '2005-01-04,55.119999,55.48,54.490002,54.5,5547400.0,39.180081,PG',\n",
       " '2005-01-06,12.32,12.41,12.17,12.33,157300.0,9.283919,IVZ',\n",
       " '2005-01-11,42.0,42.52,41.68,41.77,42700.0,37.268041,EQIX',\n",
       " '2005-01-12,74.540001,74.660004,72.910004,73.580002,406900.0,49.189271,ESS',\n",
       " '2005-01-13,30.18,30.65,29.780001,29.85,1104800.0,7.19949,ALK',\n",
       " '2005-01-14,75.869998,77.099985,75.869998,76.949995,1967800.0,25.412278,IR',\n",
       " '2005-01-14,16.079969,16.099963,15.71996,15.849965,3655200.0,8.791723,WMB',\n",
       " '2005-01-18,33.299999,33.700001,33.080002,33.580002,1351500.0,21.717247,PCG',\n",
       " '2005-01-21,75.25,76.099998,74.75,74.989998,5409300.0,54.51649,UPS',\n",
       " '2005-01-24,35.330002,35.549999,35.02,35.169998,4264600.0,26.706133,HON',\n",
       " '2005-01-25,50.400002,51.490002,49.759998,50.43,925400.0,17.434088,GRMN',\n",
       " '2005-01-26,53.16,53.560001,53.040001,53.450001,425200.0,37.836662,PSA',\n",
       " '2005-01-28,37.310001,37.5,36.990002,37.189999,325000.0,24.241196,PLD',\n",
       " '2005-01-31,23.0,23.35,22.860001,23.35,1.30056E7,17.279827,SYMC',\n",
       " '2005-02-01,52.75,53.669998,52.59,53.599998,2465800.0,17.096965,PEG',\n",
       " '2005-02-07,68.699997,69.360001,68.489998,69.050003,2093600.0,24.801586,ETN',\n",
       " '2005-02-11,30.889999,32.700001,30.82,32.540001,5664400.0,30.470193,NTAP',\n",
       " '2005-02-16,99.5,102.139999,99.360001,102.080002,5426000.0,21.808027,WFM',\n",
       " '2005-02-17,17.780001,17.879999,17.42,17.459999,290200.0,17.459999,URI',\n",
       " '2005-02-22,29.08,29.959999,28.549999,29.91,6224100.0,29.894582,ADSK',\n",
       " '2005-02-23,62.459999,63.299999,62.43,62.709999,3660400.0,12.650661,UNP',\n",
       " '2005-02-28,7.34,7.59,7.24,7.26,2611300.0,7.054268,SWKS',\n",
       " '2005-02-28,11.27,11.45,11.26,11.26,1863800.0,10.248593,WDC',\n",
       " '2005-03-04,35.82,36.23,35.720001,36.119999,2.03284E7,24.297227,GE',\n",
       " '2005-03-10,46.689966,46.699959,45.089965,45.699958,9865500.0,10.368536,MRO',\n",
       " '2005-03-10,45.950001,45.990002,44.849998,45.610001,970300.0,37.643273,SHW',\n",
       " '2005-03-10,51.5,52.310001,51.5,51.880001,957600.0,12.002137,BWA',\n",
       " '2005-03-11,43.16,43.330002,42.540001,42.77,1024200.0,33.940081,NTRS',\n",
       " '2005-03-14,15.3,15.7,15.3,15.54,1256800.0,3.885,CRM',\n",
       " '2005-03-16,49.810001,50.290001,48.41,48.650002,803900.0,43.592087,PDCO',\n",
       " '2005-03-21,40.849998,40.849998,40.439999,40.580002,191500.0,37.26206,RL',\n",
       " '2005-03-23,15.81,16.4,15.81,16.209999,3.68227E7,13.062678,AMAT',\n",
       " '2005-03-24,51.02,51.029999,50.52,50.66,1.25037E7,39.302544,WMT',\n",
       " '2005-03-30,41.200001,42.0,41.130001,41.849998,1059800.0,20.924999,DVA',\n",
       " '2005-03-31,44.700001,45.650002,44.540001,45.27,549400.0,34.085475,SWK',\n",
       " '2005-04-08,45.299999,45.810001,44.93,44.93,3578000.0,27.586231,KLAC',\n",
       " '2005-04-11,34.619999,35.169998,34.619999,34.990002,1017200.0,15.963818,NRG',\n",
       " '2005-04-12,98.73,99.039986,96.629997,97.01001,5740800.0,29.179212,HES',\n",
       " '2005-04-13,73.099998,74.519997,72.449997,72.5,856300.0,45.677834,ETR',\n",
       " '2005-04-13,46.25,46.630001,45.400002,45.459999,3686500.0,39.861996,DVN',\n",
       " '2005-04-19,12.41,12.68,12.41,12.52,2067100.0,4.523654,FTR',\n",
       " '2005-04-21,45.0,45.869999,42.25,45.779999,1.12028E7,22.889999,FFIV',\n",
       " '2005-04-21,70.5,71.220001,69.599998,71.089996,929200.0,55.140169,STI',\n",
       " '2005-04-25,9.94,10.21,9.91,10.14,3339000.0,8.457549,SCHW',\n",
       " '2005-04-26,17.18,17.52,17.139999,17.25,2644100.0,15.957961,AMT',\n",
       " '2005-04-28,27.399998,27.739998,27.199997,27.249997,1709300.0,22.875266,BK',\n",
       " '2005-05-03,22.620001,22.950001,22.610001,22.799999,1822400.0,22.799999,CTXS',\n",
       " '2005-05-06,53.5,54.32,53.459999,53.540001,6051400.0,22.596685,LOW',\n",
       " '2005-05-12,27.370001,27.459999,27.059999,27.17,872400.0,17.02769,LEG',\n",
       " '2005-05-18,52.580002,52.919998,51.439999,51.869999,2586600.0,25.934999,URBN',\n",
       " '2005-05-19,47.189999,47.330002,46.57,46.880001,681700.0,37.201567,NTRS',\n",
       " '2005-05-25,70.099998,70.370003,69.739998,70.209999,2314400.0,22.868197,D',\n",
       " '2005-06-02,12.36,12.64,12.3,12.57,3446700.0,12.57,RHT',\n",
       " '2005-06-09,71.0,71.5,70.5,71.199997,6074900.0,52.212017,UPS',\n",
       " '2005-06-14,34.580002,34.580002,34.23,34.459999,2370700.0,20.397475,SO',\n",
       " '2005-06-15,50.009998,50.299999,49.389999,49.849998,1.57829E7,38.797959,WMT',\n",
       " '2005-06-17,16.75,16.77,16.450001,16.620001,1.21914E7,14.079652,GLW',\n",
       " '2005-06-20,72.449997,72.830002,71.900002,72.559998,1577400.0,55.857534,WHR',\n",
       " '2005-06-24,44.529999,44.540001,43.84,43.84,1376800.0,35.145365,CB',\n",
       " '2005-06-24,32.52,32.639999,32.220001,32.349998,814600.0,26.772342,TIF',\n",
       " '2005-06-30,47.0,47.73,45.900002,46.98,5698400.0,11.745,SWN',\n",
       " '2005-07-01,29.799755,30.019756,29.769755,29.989756,1473200.0,30.835859,DUK',\n",
       " '2005-07-06,67.400002,68.169998,67.220001,67.599998,4130000.0,26.495496,DE',\n",
       " '2005-07-12,31.4,31.59,31.26,31.5,1238000.0,15.238371,MDLZ',\n",
       " '2005-07-15,29.790001,30.18,29.790001,30.01,3023300.0,22.232913,MMC',\n",
       " '2005-07-18,21.440001,21.459999,21.17,21.24,1531700.0,19.649107,AMT',\n",
       " '2005-07-18,82.940002,83.029999,82.080002,82.110001,1165300.0,77.286378,FDX',\n",
       " '2005-07-20,16.02,16.709999,16.0,16.559999,61600.0,10.332975,EXR',\n",
       " '2005-07-28,48.740002,48.959999,48.040001,48.549999,1280200.0,21.172902,TSO',\n",
       " '2005-07-29,28.18,28.5,28.110001,28.459999,447200.0,28.459999,ENDP',\n",
       " '2005-08-01,52.34,52.990002,52.029999,52.619999,5474800.0,47.605403,UNH',\n",
       " '2005-08-09,95.879997,96.519997,95.099998,95.190002,4382400.0,16.301912,PGR',\n",
       " '2005-08-10,73.309998,74.099998,72.800003,73.059998,1840500.0,53.575983,UPS',\n",
       " '2005-08-12,36.200001,36.919998,36.009998,36.700001,679200.0,29.163619,R',\n",
       " '2005-08-15,47.099998,47.139999,46.599998,46.93,199600.0,35.557089,SWK',\n",
       " '2005-08-18,44.700001,45.110001,44.59,45.0,749000.0,27.425458,DTE',\n",
       " '2005-08-18,73.300003,74.620003,73.050003,74.5,2935200.0,24.265499,D',\n",
       " '2005-08-18,28.719999,28.77,28.379999,28.42,476900.0,27.639262,TMO',\n",
       " '2005-08-19,29.93,29.98,29.549999,29.799999,175000.0,17.770292,VTR',\n",
       " '2005-08-19,55.450001,56.220001,54.900002,55.900002,1101700.0,32.296504,DO',\n",
       " '2005-08-24,31.82,32.299999,31.809999,31.92,671800.0,27.941438,ECL',\n",
       " '2005-09-02,22.389989,22.550011,22.25001,22.32,5226200.0,7.44,DLTR',\n",
       " '2005-09-02,51.650002,51.950001,51.0,51.200001,3021700.0,43.73924,KSS',\n",
       " '2005-09-02,63.77,64.410004,63.610001,63.650002,246900.0,54.278814,DNB',\n",
       " '2005-09-07,58.950001,59.130001,58.48,59.07,4964400.0,44.040542,CAT',\n",
       " '2005-09-08,18.200001,18.549999,17.84,18.040001,489100.0,18.040001,VRTX',\n",
       " '2005-09-09,49.5,50.139999,49.27,50.029999,891500.0,47.427569,HUM',\n",
       " '2005-09-12,66.260002,66.730003,65.919998,66.43,1305200.0,21.803257,PEG',\n",
       " '2005-09-13,25.31,25.400001,24.3,24.37,9099300.0,3.481429,NFLX',\n",
       " '2005-09-16,33.649989,33.819993,33.51,33.789999,1003500.0,9.488255,OKE',\n",
       " '2005-09-19,52.18,52.18,51.5,51.669998,518100.0,42.751918,LNC',\n",
       " '2005-09-21,84.360001,84.360001,83.059998,83.290001,351300.0,55.392186,AVB',\n",
       " '2005-09-26,40.299997,40.389999,39.71,39.96,4774600.0,17.147854,BAX',\n",
       " '2005-09-30,67.150002,68.199997,67.150002,68.18,279700.0,53.547936,SLG',\n",
       " '2005-10-05,45.119999,45.5,44.48,45.150002,1813800.0,35.243588,AFL',\n",
       " '2005-10-07,18.75,19.120001,18.690001,19.059999,3161100.0,19.059999,OI',\n",
       " '2005-10-13,24.530001,24.799999,24.25,24.440001,657300.0,13.112657,HCP',\n",
       " '2005-10-14,59.119999,59.740002,57.799999,59.48,1.32463E7,41.038661,CVX',\n",
       " '2005-10-26,46.470001,46.700001,46.040001,46.130001,1324300.0,33.8873,K',\n",
       " '2005-10-26,33.380001,33.990002,32.52,33.189999,610500.0,26.529562,IFF',\n",
       " '2005-10-31,37.509994,37.989999,37.509994,37.790004,2969100.0,25.217843,IR',\n",
       " '2005-11-03,49.93,52.279999,48.650002,48.82,5934300.0,41.706048,KSS',\n",
       " '2005-11-08,43.700001,43.700001,43.0,43.540001,383100.0,27.403766,CINF',\n",
       " '2005-11-08,45.68,45.68,45.299999,45.560001,130100.0,31.646957,SJM',\n",
       " '2005-11-09,15.59,15.65,15.26,15.56,5256100.0,15.140621,GT',\n",
       " '2005-11-09,68.0,69.75,67.849998,68.82,1476800.0,30.6743,FLR',\n",
       " '2005-11-10,51.66,51.860001,50.93,51.82,568600.0,30.070156,AEE',\n",
       " '2005-11-11,27.400005,27.730004,26.88,26.929994,1.44535E7,15.412469,CMCSA',\n",
       " '2005-11-14,60.84,61.080002,60.700001,61.0,1726800.0,36.549117,CAH',\n",
       " '2005-11-16,30.549999,30.6,30.450001,30.52,289200.0,23.913951,MKC',\n",
       " '2005-11-25,69.419998,70.25,68.610001,69.959999,360000.0,17.49,HOLX',\n",
       " '2005-11-25,33.0,33.209999,32.5,33.040001,653400.0,23.540504,SYY',\n",
       " '2005-11-30,66.800003,67.540001,65.790001,67.080002,4101400.0,23.171638,NUE',\n",
       " '2005-12-08,76.559998,78.699997,76.32,78.650002,6130000.0,36.845343,EOG',\n",
       " '2005-12-09,82.809998,84.900002,82.809998,84.470001,1605700.0,72.865114,COF',\n",
       " '2005-12-12,15.16,15.29,15.03,15.29,408900.0,9.68067,EXR',\n",
       " '2005-12-13,30.620057,30.870058,30.470056,30.720065,1.40019E7,16.277012,VZ',\n",
       " '2005-12-13,85.989998,87.279999,85.989998,86.800003,1220700.0,68.570959,HIG',\n",
       " '2005-12-14,72.169998,73.449997,71.599998,73.339996,2907600.0,66.187688,APA',\n",
       " '2005-12-14,53.610001,54.23,52.970001,54.189999,1003300.0,52.777408,PXD',\n",
       " '2006-01-03,39.950001,39.950001,38.84,39.549999,343400.0,37.145361,ROP',\n",
       " '2006-01-04,58.0,58.860001,57.889999,58.810001,2510600.0,22.405253,PPG',\n",
       " '2006-01-05,47.049999,47.23,46.700001,47.139999,1180600.0,22.42542,UHS',\n",
       " '2006-01-11,58.349998,58.349998,57.610001,58.18,1910500.0,37.894116,LLY',\n",
       " '2006-01-12,111.169998,111.199997,109.489998,109.769997,464000.0,79.459166,MTB',\n",
       " '2006-01-18,15.75,15.82,15.33,15.77,619800.0,15.77,REGN',\n",
       " '2006-01-20,19.870001,20.09,19.65,19.84,976600.0,9.92,ILMN',\n",
       " '2006-01-20,82.029999,82.900002,80.220001,81.0,2268700.0,46.903147,DO',\n",
       " '2006-01-24,436.03,444.949996,434.480008,443.030012,3.08982E7,221.736743,GOOGL',\n",
       " '2006-01-25,75.669998,76.269997,74.970001,75.470001,8300100.0,67.871597,AMGN',\n",
       " '2006-01-31,27.85,27.99,27.6,27.75,401400.0,15.135033,HCP',\n",
       " '2006-02-03,41.52,42.080002,41.52,41.990002,2974500.0,36.669749,VIAB',\n",
       " '2006-02-06,32.259999,32.389998,32.079999,32.229996,2256300.0,27.615327,BK',\n",
       " '2006-02-14,32.139999,32.830002,32.049999,32.720001,2.61986E7,32.720001,YHOO',\n",
       " '2006-02-16,36.41,36.52,35.860001,36.0,4334900.0,35.894885,BBBY',\n",
       " '2006-02-16,69.639999,72.25,69.620003,72.059998,8349600.0,33.775345,EOG',\n",
       " '2006-02-17,16.1,16.190001,15.99,16.120001,6674600.0,13.541482,SCHW',\n",
       " '2006-02-24,19.800001,19.880004,19.450004,19.630003,1585200.0,14.320613,HST',\n",
       " '2006-02-24,70.300003,71.059998,70.040001,70.790001,1701200.0,25.946699,ETN',\n",
       " '2006-02-27,143.389999,144.490005,142.240005,143.5,168400.0,112.808656,BLK',\n",
       " '2006-03-01,94.260002,100.75,94.019997,100.290001,2526900.0,100.290001,AZO',\n",
       " '2006-03-07,59.019999,59.479996,58.399998,58.839998,1663200.0,38.800955,KMB',\n",
       " '2006-03-08,29.74,30.01,29.57,29.98,4334900.0,21.477739,SYY',\n",
       " '2006-03-10,37.07,37.389999,37.0,37.110001,2012200.0,16.499613,EL',\n",
       " '2006-03-13,64.019997,64.290001,63.650002,63.91,1208100.0,49.349256,APD',\n",
       " '2006-03-20,13.83,13.89,13.58,13.62,1228900.0,9.781494,CMS',\n",
       " '2006-03-22,78.040001,78.910004,77.849998,78.849998,2283200.0,58.620184,UPS',\n",
       " '2006-03-24,67.080002,67.110001,66.370003,66.620003,779800.0,42.879833,HOT',\n",
       " '2006-03-29,101.099998,104.029999,101.050003,103.050003,357500.0,88.13908,MLM',\n",
       " '2006-04-03,43.18,43.77,42.82,43.560001,1014500.0,25.335235,PBI',\n",
       " '2006-04-05,52.75,52.860001,52.330002,52.450001,768200.0,48.61854,MCK',\n",
       " '2006-04-06,91.050003,91.550003,90.25,90.919998,1446100.0,71.107584,WHR',\n",
       " '2006-04-10,27.23,27.440001,27.200001,27.290001,3.9432E7,21.499888,MSFT',\n",
       " '2006-04-20,89.349998,89.370003,88.25,89.120003,413400.0,57.035462,BXP',\n",
       " '2006-04-27,48.299999,48.299999,47.25,47.32,887400.0,23.270137,GPN',\n",
       " '2006-05-01,41.41,42.25,41.41,41.84,280700.0,31.680468,AYI',\n",
       " '2006-05-04,96.559998,96.910004,94.580002,96.110001,2340000.0,33.516346,GRMN',\n",
       " '2006-05-08,53.330002,54.27,53.189999,53.580002,1730600.0,26.790001,DVA',\n",
       " '2006-05-08,68.199997,69.25,68.199997,68.389999,1225500.0,53.078688,APD',\n",
       " '2006-05-16,13.06,13.09,12.91,13.07,1610000.0,5.093412,FTR',\n",
       " '2006-05-22,49.41,50.200001,49.349998,50.02,1757100.0,40.585355,HOG',\n",
       " '2006-05-23,36.130001,36.389999,35.689999,35.830002,1908900.0,31.3802,AON',\n",
       " '2006-05-25,49.360001,49.439999,49.009998,49.32,527000.0,29.335236,AEE',\n",
       " '2006-05-31,18.1,18.5,18.059999,18.4,5020400.0,16.749134,AES',\n",
       " '2006-05-31,108.150002,110.389999,107.800003,110.209999,7399600.0,23.061275,CMI',\n",
       " '2006-06-05,41.0,41.16,39.25,39.279999,258700.0,29.742082,AYI',\n",
       " '2006-06-05,77.550003,77.639999,74.059998,74.25,1.60776E7,32.795553,HAL',\n",
       " '2006-06-05,20.76,20.780001,20.32,20.379999,5627600.0,20.379999,BSX',\n",
       " '2006-06-05,31.52,31.91,30.120001,30.26,3290500.0,30.26,AKAM',\n",
       " '2006-06-09,81.949997,81.989998,80.0,80.5,3927800.0,62.729008,BA',\n",
       " '2006-06-12,28.27,28.299999,27.299999,27.379999,2679700.0,25.46173,PHM',\n",
       " '2006-06-19,36.049999,36.259998,35.52,35.66,976800.0,25.968673,DRI',\n",
       " '2006-06-19,66.480003,66.779999,65.209999,65.5,1300600.0,51.871362,GD',\n",
       " '2006-06-19,30.459999,30.469999,29.85,29.950001,1436100.0,21.571786,SYY',\n",
       " '2006-06-20,20.190001,20.67,19.459999,20.469999,1.58974E7,8.759625,KR',\n",
       " '2006-06-22,51.41,51.77,51.0,51.599998,1303400.0,41.860522,PX',\n",
       " '2006-06-22,41.470001,41.48,40.900002,41.27,620800.0,24.185432,PBI',\n",
       " '2006-06-23,25.85,26.610001,25.82,26.5,5966600.0,20.905257,CBS',\n",
       " '2006-06-26,48.610001,48.849998,47.959999,48.029999,627600.0,23.629761,GPN',\n",
       " '2006-06-30,54.75,56.900007,53.690008,56.900007,8904300.0,16.973752,FLS',\n",
       " '2006-07-03,72.599998,73.610001,72.419998,73.580002,1246500.0,66.852147,ANTM',\n",
       " '2006-07-03,47.09,47.459999,46.779999,47.259998,661700.0,45.909845,LRCX',\n",
       " '2006-07-07,16.959999,16.99,16.52,16.620001,6068900.0,13.447731,GPS',\n",
       " '2006-07-12,74.32,74.769997,71.989998,72.669998,693800.0,62.468296,VMC',\n",
       " '2006-07-13,22.1,22.540001,22.02,22.040001,2741800.0,18.71529,VRSN',\n",
       " '2006-07-17,31.98,32.400002,31.690001,31.84,1.63696E7,31.84,YHOO',\n",
       " '2006-07-17,58.009998,59.75,57.23,58.919998,4163600.0,26.177138,WFM',\n",
       " '2006-07-21,34.919998,34.919998,34.650002,34.82,488400.0,27.737078,MKC',\n",
       " '2006-07-28,61.799999,62.470001,61.799999,62.150002,3626900.0,49.462233,UTX',\n",
       " '2006-08-02,45.07,45.07,44.200001,44.869999,1631200.0,22.434999,FFIV',\n",
       " '2006-08-03,116.209999,120.010002,115.800003,119.279999,4250400.0,24.959159,CMI',\n",
       " '2006-08-07,25.959999,26.110001,25.940001,26.049999,2.75406E7,16.983174,PFE',\n",
       " '2006-08-08,19.349999,19.470003,19.119999,19.340005,1.0006E7,15.587009,FOXA',\n",
       " '2006-08-09,77.75,78.25,75.879997,76.32,627300.0,71.15781,HAR',\n",
       " '2006-08-09,50.669998,51.810001,49.939999,50.23,532100.0,44.816223,EQIX',\n",
       " '2006-08-15,43.0,43.23,41.93,43.23,2697500.0,33.517859,NSC',\n",
       " '2006-08-16,33.369999,33.84,33.32,33.709999,2.3881E7,23.478438,GE',\n",
       " '2006-08-17,59.700001,60.099998,59.200001,59.200001,1007100.0,56.120571,HUM',\n",
       " '2006-08-18,44.580002,45.75,44.5,45.529999,8561800.0,37.609943,MDT',\n",
       " '2006-08-18,37.549999,37.709999,37.279999,37.419998,621600.0,16.413093,CHD',\n",
       " '2006-08-22,63.860001,64.0,63.150002,63.34,1028200.0,24.681893,PPG',\n",
       " '2006-08-24,59.189999,59.310001,58.419998,58.490002,736800.0,51.146734,MCO',\n",
       " '2006-08-28,60.299999,60.639999,60.220001,60.41,833600.0,13.734745,FMC',\n",
       " '2006-08-28,35.950001,36.299999,35.849998,36.259998,1332100.0,32.567658,STJ',\n",
       " '2006-08-28,122.459999,123.43,122.230003,123.190002,193400.0,89.993268,MTB',\n",
       " '2006-08-29,35.77,36.0,35.5,35.709999,1255600.0,17.855,KMX',\n",
       " '2006-08-30,20.66,20.66,20.42,20.440001,697900.0,13.489514,XEL',\n",
       " '2006-08-30,50.25,50.600012,50.049992,50.450008,602700.0,15.049663,FLS',\n",
       " '2006-09-08,59.799999,60.509998,57.849998,57.950001,1.10543E7,49.952817,SLB',\n",
       " '2006-09-19,44.0,44.630001,43.860001,44.540001,3185100.0,34.880863,ITW',\n",
       " '2006-09-20,38.299999,39.029999,38.27,38.470001,2051600.0,18.936233,GPN',\n",
       " '2006-09-25,36.5,36.849998,35.93,36.529999,1485100.0,33.793872,AMT',\n",
       " '2006-09-25,68.400002,68.949997,67.169998,68.75,878400.0,57.494401,GWW',\n",
       " '2006-09-28,33.48,33.970001,33.119999,33.650002,630400.0,32.363403,AAP',\n",
       " '2006-10-03,39.84,40.209999,39.57,39.91,1811600.0,17.744531,EL',\n",
       " '2006-10-06,48.599998,48.639999,48.349998,48.610001,313700.0,31.479856,CINF',\n",
       " '2006-10-06,65.010002,65.160004,64.860001,65.059998,7134500.0,48.205879,JNJ',\n",
       " '2006-10-12,42.18,42.610001,41.939999,42.549999,1950000.0,31.784549,EIX',\n",
       " '2006-10-16,61.82,62.23,61.5,62.049999,5242700.0,46.22995,PG',\n",
       " '2006-10-17,57.299999,57.990002,55.860001,57.990002,1.00698E7,22.030566,FCX',\n",
       " '2006-10-24,18.610001,18.9,18.15,18.74,3339700.0,18.74,URBN',\n",
       " '2006-10-25,50.299999,50.650002,47.91,48.509998,2598900.0,47.445163,AAL',\n",
       " '2006-10-25,45.48,45.970001,45.43,45.779999,798200.0,29.622457,DTE',\n",
       " '2006-10-26,30.83,30.92,30.360001,30.700001,1.93492E7,24.86961,TXN',\n",
       " '2006-10-27,41.080002,41.099998,40.91,40.98,1534800.0,26.707311,AEP',\n",
       " '2006-10-30,111.170013,114.159988,110.960014,113.459999,5225400.0,31.629432,BEN',\n",
       " '2006-10-31,57.540001,58.34,56.540001,57.130001,6543800.0,45.39491,MET',\n",
       " '2006-10-31,10.95,10.95,10.83,10.91,2988800.0,9.64265,IPG',\n",
       " '2006-11-01,35.41,35.439999,34.330002,34.540001,1918800.0,32.691882,INTU',\n",
       " '2006-11-02,73.300003,75.480003,73.300003,74.160004,6119000.0,53.131199,MS',\n",
       " '2006-11-03,47.150002,47.25,46.5,46.889999,7984100.0,36.856954,JPM',\n",
       " '2006-11-08,102.099998,104.260002,102.0,104.0,355700.0,96.977967,HAR',\n",
       " '2006-11-09,49.830002,50.389999,49.57,49.82,2922800.0,22.47659,NBL',\n",
       " '2006-11-10,19.6,19.65,19.02,19.48,8477100.0,18.864069,JNPR',\n",
       " '2006-11-13,6.55,6.74,6.55,6.71,3929000.0,6.519854,SWKS',\n",
       " '2006-11-15,35.049999,35.77,35.049999,35.709999,2201200.0,25.997668,SYY',\n",
       " '2006-11-21,28.67,28.85,28.620001,28.76,1999900.0,19.504863,MAS',\n",
       " '2006-11-28,38.599998,39.779999,38.450001,39.400002,5709000.0,19.700001,SWN',\n",
       " '2006-12-07,90.029998,90.500002,86.9,87.040003,2.512069E8,11.383904,AAPL',\n",
       " '2006-12-07,79.239998,79.599998,78.889999,79.239998,2096800.0,15.549907,VFC',\n",
       " '2006-12-12,33.670005,33.89,33.510005,33.64,2334800.0,24.076512,IP',\n",
       " '2006-12-13,53.470001,53.59,52.380001,52.540001,1229500.0,46.163399,DGX',\n",
       " '2006-12-21,47.98,47.990002,47.549999,47.799999,885800.0,30.704741,ED',\n",
       " '2006-12-22,22.93,23.58,22.870001,23.35,889200.0,5.555869,HBI',\n",
       " '2006-12-26,51.400002,52.799999,51.25,51.779999,1.224E7,34.736577,LLY',\n",
       " '2007-01-11,32.43,32.889999,32.419998,32.720001,849600.0,27.555934,WYN',\n",
       " '2007-01-17,46.810001,46.830002,46.57,46.700001,635000.0,17.397624,WEC',\n",
       " '2007-01-17,45.290001,45.580002,44.959999,45.07,436800.0,29.400676,CINF',\n",
       " '2007-01-17,99.800003,99.900002,99.050003,99.82,1.07624E7,10.926006,NKE',\n",
       " '2007-01-23,29.29,30.11,29.159998,29.870007,1.30411E7,25.275676,CHK',\n",
       " '2007-01-29,20.799999,21.139999,20.700001,20.889999,9.96814E7,15.41244,INTC',\n",
       " '2007-01-29,78.699997,80.339996,78.510002,80.129997,2455500.0,76.818933,ZBH',\n",
       " '2007-01-30,45.16,45.66,45.0,45.610001,1477200.0,11.4025,CERN',\n",
       " '2007-01-30,22.139999,22.799999,22.139999,22.719999,2432900.0,22.719999,RHT',\n",
       " '2007-01-30,26.02,26.16,26.0,26.1,2.64006E7,17.325697,PFE',\n",
       " '2007-02-07,25.4,25.879999,25.4,25.82,4516300.0,17.329414,MAT',\n",
       " '2007-02-12,14.72,14.72,14.52,14.57,1752800.0,6.003314,FTR',\n",
       " '2007-02-13,32.660006,33.080008,32.529991,32.979994,3407800.0,22.535109,A',\n",
       " '2007-02-16,39.330002,39.389999,37.970001,38.290001,1423200.0,34.309168,PDCO',\n",
       " '2007-02-21,90.300003,92.0,90.050003,90.959999,4971700.0,71.681244,BA',\n",
       " '2007-02-27,97.980003,98.510002,95.650002,95.900002,2840700.0,61.370318,WYNN',\n",
       " '2007-03-05,72.25,73.540001,72.25,72.760002,2573200.0,17.196721,BWA',\n",
       " '2007-03-05,69.349999,71.5,69.110002,70.530001,7628600.0,26.027527,DHR',\n",
       " '2007-03-06,85.459999,86.199997,84.75,85.709999,636200.0,85.709999,MHK',\n",
       " '2007-03-13,46.549999,46.650002,45.389999,45.639999,2341700.0,36.278264,AFL',\n",
       " '2007-03-16,33.599998,33.66,33.25,33.52,3918600.0,24.216083,WM',\n",
       " '2007-03-19,43.599998,44.68,43.59,44.400002,3110200.0,44.400002,BIIB',\n",
       " '2007-03-21,27.349937,28.119931,27.129944,28.009934,4946500.0,16.014404,WMB',\n",
       " '2007-03-22,100.050003,100.470001,99.190002,99.900002,1602200.0,63.930081,WYNN',\n",
       " '2007-04-11,40.189999,40.279999,39.330002,39.41,2094300.0,39.41,ADSK',\n",
       " '2007-04-18,34.490002,35.139999,34.490002,35.02,3975300.0,28.045881,RF',\n",
       " '2007-04-19,44.610001,45.150002,44.41,44.639999,4809700.0,44.639999,AMZN',\n",
       " '2007-04-30,34.919998,34.959999,34.200001,34.34,1892900.0,31.535144,CCI',\n",
       " '2007-05-04,27.889999,28.32,27.85,28.16,3593800.0,23.112112,CA',\n",
       " '2007-05-10,28.9,29.18,28.34,28.43,1931600.0,25.50227,JBHT',\n",
       " '2007-05-10,147.389999,147.960007,142.509995,142.839996,906700.0,123.499495,MLM',\n",
       " '2007-05-14,66.529999,66.949997,66.099998,66.110001,1695200.0,27.268653,YUM',\n",
       " '2007-05-15,46.200001,46.77,45.93,46.470001,7376600.0,43.348461,APC',\n",
       " '2007-05-22,148.320007,149.080002,147.100006,147.380005,247200.0,117.787066,BLK',\n",
       " '2007-05-23,42.439999,42.619999,42.299999,42.470001,4054200.0,37.823445,AON',\n",
       " '2007-05-24,28.9,29.15,28.08,28.309999,3.58878E7,12.880049,SBUX',\n",
       " '2007-05-31,48.59,49.130001,48.439999,49.02,2311900.0,43.241372,DGX',\n",
       " '2007-06-05,36.419995,36.750002,36.200001,36.340004,535800.0,32.836487,LUK',\n",
       " '2007-06-07,83.400002,84.470001,81.760002,81.959999,2.92286E7,64.471801,XOM',\n",
       " '2007-06-11,29.32,29.379999,28.99,29.18,1.12262E7,20.173735,BMY',\n",
       " '2007-06-13,23.26,23.58,23.02,23.4,1281800.0,15.607217,LEG',\n",
       " '2007-06-19,56.450001,56.450001,55.950001,56.209999,1969300.0,40.333976,TGNA',\n",
       " '2007-06-19,53.549999,53.75,53.119999,53.400002,2074700.0,51.933027,TMO',\n",
       " '2007-06-22,24.190001,24.23,23.690001,23.700001,7.04529E7,17.67025,INTC',\n",
       " '2007-06-25,37.119999,38.02,37.02,37.259998,4027300.0,28.649187,ADI',\n",
       " '2007-06-29,20.49,20.549999,19.91,20.200001,1.44833E7,14.948716,SYMC',\n",
       " '2007-06-29,48.869999,49.080002,48.139999,48.459999,438800.0,21.353842,CHD',\n",
       " '2007-07-06,18.110001,18.200001,18.040001,18.049999,1469800.0,18.049999,MYL',\n",
       " '2007-07-06,41.539844,41.729853,41.34985,41.549851,1.02291E7,24.7321,VZ',\n",
       " '2007-07-09,62.650002,62.849998,61.959999,61.98,335200.0,49.184296,SWK',\n",
       " '2007-07-10,46.669998,47.189999,46.400002,46.82,4090400.0,36.797255,CCL',\n",
       " '2007-07-16,108.57,110.040001,108.419998,109.660004,8864200.0,89.753286,IBM',\n",
       " '2007-07-17,57.139999,62.0,57.139999,61.779999,1.76762E7,38.798599,KLAC',\n",
       " '2007-07-19,53.5,53.98,53.0,53.66,1375800.0,52.185883,TMO',\n",
       " '2007-08-01,19.83,20.360001,19.0,19.51,2.60521E7,17.432856,SCHW',\n",
       " '2007-08-01,33.759998,34.560001,33.529999,34.48,2.92182E7,27.114351,WFC',\n",
       " '2007-08-02,18.98,20.280001,18.98,19.99,7658400.0,18.718946,PHM',\n",
       " '2007-08-03,114.089996,114.650013,112.029991,112.029991,4552200.0,30.501413,JCI',\n",
       " '2007-08-13,53.5,53.5,51.75,51.959999,3316500.0,51.959999,EA',\n",
       " '2007-08-14,49.330002,49.360001,47.369999,47.369999,1096600.0,39.282898,CHRW',\n",
       " '2007-08-23,19.860001,19.860001,19.08,19.24,2300200.0,19.24,RHT',\n",
       " '2007-08-24,73.360001,74.459999,73.010002,74.330002,2980100.0,60.388935,UTX',\n",
       " '2007-08-24,56.279999,57.040001,56.27,56.98,1719100.0,45.393612,ITW',\n",
       " '2007-08-27,22.77,23.18,22.49,22.73,1944300.0,22.73,URBN',\n",
       " '2007-08-28,43.889999,44.380001,43.189999,43.220001,1294300.0,38.818926,STJ',\n",
       " '2007-08-29,35.419998,36.119999,35.189999,35.990002,1159500.0,35.02464,RRC',\n",
       " '2007-09-07,33.759998,33.759998,32.93,33.169998,1420400.0,8.088538,COG',\n",
       " '2007-09-07,70.07,70.269997,69.050003,69.900002,5285800.0,32.960587,EOG',\n",
       " '2007-09-13,24.07,24.1,23.74,23.91,1059000.0,23.56373,STZ',\n",
       " '2007-09-14,22.070003,22.23,21.929997,22.070003,2928200.0,18.014043,FOX',\n",
       " '2007-09-18,22.120001,23.209999,22.08,23.209999,9065100.0,18.278842,SPLS',\n",
       " '2007-09-19,21.579995,22.0,21.239999,21.870002,8862500.0,17.780145,FOXA',\n",
       " '2007-09-28,87.059998,87.669998,85.949997,87.580002,719900.0,55.65158,MAC',\n",
       " '2007-10-02,58.009998,58.400002,56.139999,58.240002,1691800.0,27.180419,FLIR',\n",
       " '2007-10-02,46.34,46.790001,45.799999,46.27,140200.0,26.893109,TDG',\n",
       " '2007-10-03,25.33,25.719999,25.299999,25.379999,691800.0,15.812037,UDR',\n",
       " '2007-10-04,51.610001,53.110001,51.610001,52.860001,9652900.0,37.271322,MRK',\n",
       " '2007-10-08,20.82,20.879999,20.540001,20.719999,2884000.0,17.398777,WU',\n",
       " '2007-10-12,123.730003,124.18,119.639999,120.230003,673200.0,99.048934,SLG',\n",
       " '2007-10-18,32.200001,32.299999,31.959999,32.080002,609400.0,27.050767,WYN',\n",
       " '2007-10-22,46.549999,47.119999,46.43,47.119999,626800.0,20.79805,CHD',\n",
       " '2007-10-24,19.49,19.620002,19.24,19.620002,4950300.0,5.195782,NI',\n",
       " '2007-10-25,28.879999,29.040001,28.299999,28.77,6180800.0,12.482922,KR',\n",
       " '2007-10-29,39.849998,41.790001,39.59,39.75,3903600.0,9.9375,LKQ',\n",
       " '2007-10-29,85.00993,85.11994,84.479928,84.62993,8811900.0,46.052713,COP',\n",
       " '2007-11-06,46.939999,47.209999,46.669998,47.080002,1238500.0,31.33978,ED',\n",
       " '2007-11-06,35.630001,35.91,35.040001,35.75,2168700.0,26.153864,WM',\n",
       " '2007-11-13,47.41,48.32,47.220001,48.290001,376000.0,39.754308,SNA',\n",
       " '2007-11-13,46.440004,46.940007,45.980007,46.700008,2476100.0,31.811369,DOV',\n",
       " '2007-11-14,45.0,45.349998,43.43,43.560001,1041700.0,42.58293,PVH',\n",
       " '2007-11-14,37.599998,38.540001,37.470001,37.75,7286800.0,31.014235,ADM',\n",
       " '2007-11-16,19.049999,19.08,18.040001,18.209999,5889700.0,13.728044,PGR',\n",
       " '2007-11-19,24.1,24.23,22.99,23.120001,2.29187E7,19.828069,LOW',\n",
       " '2007-11-27,63.93,64.830002,63.619999,64.589996,1885900.0,61.921063,ZBH',\n",
       " '2007-12-03,89.110001,89.860001,88.82,89.010002,1493800.0,71.945242,GD',\n",
       " '2007-12-13,23.370001,23.610001,22.549999,22.889999,1.09331E7,18.026829,SPLS',\n",
       " '2007-12-14,88.669998,89.379997,88.110001,88.730003,3203100.0,79.276744,DVN',\n",
       " '2007-12-20,47.389999,47.700001,47.169998,47.700001,528700.0,39.820856,IFF',\n",
       " '2007-12-24,60.630001,61.240002,60.0,60.630001,1358100.0,45.215608,NUE',\n",
       " '2007-12-24,93.209999,94.0,91.769997,92.129997,2206100.0,87.470834,FDX',\n",
       " '2007-12-28,114.860012,115.820011,113.240009,114.140007,2376600.0,32.030168,BEN',\n",
       " '2007-12-28,67.75,67.93,67.029999,67.379997,5279200.0,51.489937,JNJ',\n",
       " '2008-01-02,7.23,7.28,6.96,7.04,1.32309E7,7.04,MU',\n",
       " '2008-01-04,49.049999,49.25,47.650002,48.080002,1.55032E7,39.451545,TGT',\n",
       " '2008-01-09,7.58,7.73,7.36,7.69,4685800.0,7.472083,SWKS',\n",
       " '2008-01-15,41.119999,41.5,40.810001,40.860001,921200.0,27.71636,SCG',\n",
       " '2008-01-17,41.549999,42.27,40.5,40.59,1178900.0,38.606511,XEC',\n",
       " '2008-01-22,38.509998,40.720001,38.459999,40.27,1843200.0,30.280949,GPC',\n",
       " '2008-01-23,19.6,19.98,18.84,19.709999,1.82448E7,14.917051,STX',\n",
       " '2008-01-31,52.610001,55.560001,51.810001,54.189999,2389800.0,47.819951,LNC',\n",
       " '2008-02-05,53.680246,54.560255,53.440243,54.030244,1276400.0,41.486242,HRS',\n",
       " '2008-02-07,31.26,31.92,31.110001,31.719999,1.66128E7,28.31821,DIS',\n",
       " '2008-02-11,41.939999,42.82,41.759998,42.169998,3568200.0,26.6329,KLAC',\n",
       " '2008-02-25,83.260002,84.739998,83.120003,84.660004,5450600.0,67.766541,BA',\n",
       " '2008-02-25,64.220001,66.059998,63.200001,65.669998,1697100.0,60.91029,RL',\n",
       " '2008-02-29,41.720001,41.830002,40.790001,40.860001,2066000.0,8.704008,HRL',\n",
       " '2008-03-10,23.120001,23.18,22.780001,22.85,1453400.0,14.514811,O',\n",
       " '2008-03-11,41.969992,42.479998,41.219999,42.399991,1396300.0,17.872656,AME',\n",
       " '2008-03-12,70.400002,71.080002,69.269997,69.309998,1503300.0,45.607767,FE',\n",
       " '2008-03-12,33.59,34.290001,33.09,33.540001,958900.0,32.516335,AAP',\n",
       " '2008-03-12,34.639999,35.490002,34.43,34.59,868600.0,31.353899,EFX',\n",
       " '2008-03-18,42.34,43.200001,41.759998,43.189999,1.46597E7,30.921049,MRK',\n",
       " '2008-03-20,60.450001,60.91,59.709999,60.619999,7517200.0,9.55908,RAI',\n",
       " '2008-03-20,18.799999,19.52,18.620001,18.98,4722800.0,4.577766,ALK',\n",
       " '2008-03-28,22.98,23.09,22.610001,22.67,8109200.0,19.517318,LOW',\n",
       " '2008-03-31,11.51,11.68,11.34,11.6,5402000.0,11.6,MYL',\n",
       " '2008-03-31,72.190002,73.389999,72.0,73.019997,4543200.0,56.71717,UPS',\n",
       " '2008-04-10,87.550006,89.070002,86.669995,88.380002,1182200.0,58.250492,VNO',\n",
       " '2008-04-16,26.139996,26.559996,26.129997,26.499998,780000.0,16.549081,IRM',\n",
       " '2008-04-22,77.279999,77.309998,76.0,76.540001,4355800.0,31.439086,CL',\n",
       " '2008-04-23,37.310001,38.099998,37.310001,38.0,1096400.0,13.365288,LNT',\n",
       " '2008-04-23,86.099998,86.519997,85.540001,86.190002,2776900.0,59.460781,EXC',\n",
       " '2008-04-24,68.0,68.620003,67.0,68.129997,1333200.0,61.818846,EQT',\n",
       " '2008-04-28,17.9,17.950001,17.49,17.610001,2521600.0,12.086299,PBCT',\n",
       " '2008-04-29,51.440235,53.110247,51.280234,52.700242,971700.0,40.577884,HRS',\n",
       " '2008-05-01,66.419998,67.860001,63.470001,66.629997,2379100.0,56.657537,AIZ',\n",
       " '2008-05-01,45.299999,45.400002,41.830002,42.139999,2567000.0,35.373576,IFF',\n",
       " '2008-05-02,59.279999,59.290001,58.110001,58.450001,1002200.0,42.873901,PLD',\n",
       " '2008-05-07,55.310001,55.509998,53.490002,53.560001,1661400.0,47.622497,LNC',\n",
       " '2008-05-14,32.0,32.799999,31.91,32.25,1531400.0,31.128721,PRGO',\n",
       " '2008-05-14,53.959999,53.990002,52.400002,52.560001,1.11824E7,25.701104,GILD',\n",
       " '2008-05-19,33.139999,34.009998,32.950001,33.080002,1432500.0,31.929865,PRGO',\n",
       " '2008-05-19,51.82,51.959999,51.419998,51.869999,210000.0,38.483909,SJM',\n",
       " '2008-05-20,35.490002,35.709999,35.490002,35.52,693100.0,24.206832,CINF',\n",
       " '2008-05-20,79.799998,80.999996,78.610001,80.869993,7719900.0,63.35169,NOV',\n",
       " '2008-05-22,18.929995,19.129996,18.669996,19.049998,5309300.0,15.53867,FOXA',\n",
       " '2008-05-22,59.049999,59.720001,58.939999,59.630001,1754100.0,50.517188,CB',\n",
       " '2008-05-30,65.099998,65.870003,64.480003,65.0,892600.0,31.379567,UHS',\n",
       " '2008-06-05,18.589998,18.799996,18.23,18.749995,2086800.0,15.353462,FOX',\n",
       " '2008-06-06,44.75,45.080002,44.209999,44.240002,7834900.0,39.785868,AMGN',\n",
       " '2008-06-09,48.349998,49.369999,47.950001,49.02,5442900.0,43.428897,NEM',\n",
       " '2008-06-11,48.32,48.349998,46.68,46.77,2375800.0,19.252073,FAST',\n",
       " '2008-06-11,129.800003,130.460007,126.559998,128.389999,5755400.0,60.724233,EOG',\n",
       " '2008-06-16,94.739927,95.85993,94.399919,94.579926,1.39486E7,52.028742,COP',\n",
       " '2008-06-16,52.0,52.16,50.950001,51.490002,3229800.0,40.355709,K',\n",
       " '2008-06-16,18.01,18.559999,17.889999,18.35,1.659E7,8.348602,SBUX',\n",
       " '2008-06-19,43.540001,45.040001,43.200001,45.040001,970700.0,30.804959,VTR',\n",
       " '2008-06-23,48.439993,48.850003,47.999997,48.449995,1044800.0,44.00292,LUK',\n",
       " '2008-06-23,64.199997,64.459999,63.950001,64.290001,8689900.0,49.80306,JNJ',\n",
       " '2008-06-26,67.400002,68.5,67.18,67.18,1092500.0,57.247527,AIZ',\n",
       " '2008-06-27,47.919998,48.669998,47.599998,48.080002,5889800.0,43.683763,ANTM',\n",
       " '2008-07-08,49.700001,53.02,49.700001,52.619999,2925200.0,23.331022,CHD',\n",
       " '2008-07-10,92.040001,92.5,90.260002,91.730003,1227600.0,76.475889,LLL',\n",
       " '2008-07-14,12.02,12.33,11.72,11.72,2579200.0,9.117905,FL',\n",
       " '2008-07-16,30.049999,33.240002,30.01,33.209999,1.05488E7,27.081553,CCL',\n",
       " '2008-07-16,53.57,54.580002,53.169998,54.099998,1.38834E7,45.586554,MDT',\n",
       " '2008-07-18,38.02,38.779999,37.939999,38.48,2545400.0,26.66048,ED',\n",
       " '2008-07-18,43.549999,43.700001,41.369999,41.599998,6603100.0,39.629607,TXT',\n",
       " '2008-07-21,28.709999,29.959999,28.709999,29.299999,1028800.0,29.299999,AGN',\n",
       " '2008-07-21,67.010002,68.57,66.459999,66.849998,5540800.0,66.849998,BIIB',\n",
       " '2008-07-23,41.849998,43.0,41.23,42.16,1028400.0,29.425072,DLR',\n",
       " '2008-07-24,35.330002,35.57,34.939999,35.52,5120200.0,24.016189,SO',\n",
       " '2008-07-29,55.34,55.860001,54.560001,55.48,1476600.0,45.75165,TAP',\n",
       " '2008-08-05,54.66,55.169998,52.299999,54.209999,5922600.0,27.105,FTI',\n",
       " '2008-08-12,23.610001,23.709999,23.290001,23.32,1306600.0,23.32,ENDP',\n",
       " '2008-08-14,15.81,15.95,15.67,15.94,2218300.0,10.924491,CNP',\n",
       " '2008-08-18,35.0,35.290001,34.810001,34.98,2246700.0,26.164232,WM',\n",
       " '2008-08-20,63.84,64.790001,63.419998,63.900002,1995900.0,63.900002,VAR',\n",
       " '2008-08-20,38.41,38.580002,36.200001,37.400002,2.66135E7,33.374987,MS',\n",
       " '2008-08-25,47.59,47.68,46.799999,47.32,393600.0,38.479312,SWK',\n",
       " '2008-08-29,24.200001,24.66,24.110001,24.200001,5876700.0,19.330656,SPLS',\n",
       " '2008-09-23,11.08,11.49,10.81,10.85,2.05367E7,10.132048,NVDA',\n",
       " '2008-09-25,20.73,21.18,20.57,20.67,1.49812E7,15.163739,BMY',\n",
       " '2008-09-25,36.099998,36.849998,35.669998,36.060001,1589400.0,32.518036,EXPD',\n",
       " '2008-10-08,20.18,22.780001,20.01,21.57,1.0805E7,16.734299,JWN',\n",
       " '2008-10-09,15.01,15.01,13.3,13.37,5463700.0,10.295758,TGNA',\n",
       " '2008-10-13,41.049999,44.560001,40.25,44.119999,1.21282E7,37.317089,MDT',\n",
       " '2008-10-13,19.799999,22.1,19.23,22.1,5260800.0,5.330276,ALK',\n",
       " '2008-10-14,56.279999,58.700001,53.259998,54.400002,3.49637E7,43.167708,PEP',\n",
       " '2008-10-15,35.669998,35.669998,33.470001,33.889999,1055400.0,28.364239,MKC',\n",
       " '2008-10-20,77.650002,79.360001,75.080002,79.110001,1507400.0,61.69566,PSA',\n",
       " '2008-10-21,39.459999,42.599998,38.75,39.599998,5633200.0,35.413851,STT',\n",
       " '2008-10-30,2.27,2.28,2.11,2.28,6.52881E7,1.920919,F',\n",
       " '2008-10-31,25.74,27.93,25.6,27.5,1.59994E7,24.053445,AXP',\n",
       " '2008-11-04,13.98,14.63,13.82,14.55,3388400.0,12.236748,NWL',\n",
       " '2008-11-06,30.6,31.59,28.73,28.76,1288600.0,24.425447,IFF',\n",
       " '2008-11-07,43.050001,43.319999,41.289991,42.77001,2.00187E7,11.942437,CSX',\n",
       " '2008-11-11,19.480003,19.490003,18.320003,19.110003,1.07361E7,14.616743,VLO',\n",
       " '2008-11-14,25.49,26.629999,24.459999,25.4,3241900.0,21.146668,OMC',\n",
       " '2008-11-18,25.34,25.549999,24.33,25.35,4426400.0,6.11414,ALK',\n",
       " '2008-11-19,12.13,12.34,11.82,11.88,4886000.0,11.707952,STZ',\n",
       " '2008-11-20,23.110001,24.450001,21.65,22.120001,3.81866E7,18.795963,USB',\n",
       " '2008-12-09,54.999995,55.250002,51.620001,51.860002,4339900.0,37.787122,KMB',\n",
       " '2008-12-10,8.06,8.41,7.51,8.34,7991600.0,7.65526,DHI',\n",
       " '2008-12-19,15.1,15.3,14.78,14.97,3592600.0,11.036591,MAT',\n",
       " '2009-01-02,12.76,12.93,12.51,12.85,2395400.0,8.942795,CNP',\n",
       " '2009-01-02,29.950001,30.18,29.09,29.92,3419200.0,27.143457,STI',\n",
       " '2009-01-06,57.27,60.919998,56.580002,60.310001,1377300.0,47.651812,FRT',\n",
       " '2009-01-07,39.09,41.150002,38.049999,38.439999,1.32454E7,33.554889,MOS',\n",
       " '2009-01-08,27.440001,28.82,27.120001,28.59,3412600.0,14.295,FTI',\n",
       " '2009-01-09,17.0,17.209999,16.16,16.26,3502300.0,11.580816,SE',\n",
       " '2009-01-16,23.9,24.209999,23.549999,23.74,4899300.0,18.395197,SYY',\n",
       " '2009-01-22,13.26,13.37,12.0,12.4,8477100.0,10.837306,HOG',\n",
       " '2009-01-27,27.42,28.25,27.09,27.709999,1930900.0,26.533149,XRAY',\n",
       " '2009-01-27,49.299999,50.419998,47.720001,48.439999,8738200.0,48.439999,AMZN',\n",
       " '2009-01-27,143.460007,145.0,139.380005,141.080002,2882100.0,141.080002,FSLR',\n",
       " '2009-01-29,35.41,36.650002,35.259998,36.209999,3206100.0,26.594541,D',\n",
       " '2009-01-29,38.57,39.0,37.610001,37.75,7366700.0,35.6342,APC',\n",
       " '2009-02-05,35.449998,35.469999,34.759996,35.089999,6.05458E7,13.752165,HPQ',\n",
       " '2009-02-05,25.16,27.139999,24.93,26.48,3792300.0,22.84301,CMI',\n",
       " '2009-02-06,35.009998,35.970001,34.59,35.0,2794800.0,35.0,VRTX',\n",
       " '2009-02-12,27.629999,28.610001,27.209999,28.52,1.04912E7,6.989469,COG',\n",
       " '2009-02-13,7.08,7.36,6.95,7.01,6397500.0,6.345075,DFS',\n",
       " '2009-02-17,16.66,17.17,16.59,16.620001,2498000.0,14.396445,RHI',\n",
       " '2009-02-17,55.029999,55.959999,53.560001,54.0,4841100.0,42.763671,PSA',\n",
       " '2009-02-19,28.99,29.120001,28.190001,28.42,3747900.0,22.493288,EIX',\n",
       " '2009-02-20,7.55,8.0,7.35,7.86,1.63291E7,6.795106,M',\n",
       " '2009-02-23,29.93,29.93,27.09,27.91,7046000.0,25.939951,AET',\n",
       " '2009-02-23,14.14,14.41,12.85,12.86,3456500.0,11.479807,LM',\n",
       " '2009-02-24,39.049999,39.880001,39.0,39.669998,3345700.0,31.534393,K',\n",
       " '2009-02-26,67.669998,68.370003,65.059998,65.099998,1287900.0,56.018633,BDX',\n",
       " '2009-03-04,20.65,22.4,20.51,21.950001,6316500.0,21.950001,CTXS',\n",
       " '2009-03-06,3.19,3.23,2.71,2.91,2.64709E7,2.91,MU',\n",
       " '2009-03-19,18.140002,18.879997,17.760001,17.970005,2.29924E7,15.467152,CHK',\n",
       " '2009-03-20,16.799999,17.1,16.65,16.780001,1.85305E7,11.391202,MO',\n",
       " '2009-03-20,46.970001,47.860001,44.310001,45.02,2.49512E7,10.191732,NKE',\n",
       " '2009-03-23,12.94,13.16,12.71,12.98,4.10429E7,11.229335,GLW',\n",
       " '2009-03-26,13.7,14.0,13.65,13.93,1508000.0,12.50616,TSS',\n",
       " '2009-03-27,31.59,31.809999,31.110001,31.49,1791200.0,6.854082,HRL',\n",
       " '2009-04-07,3.04,3.04,2.6,2.69,6259300.0,2.210413,TGNA',\n",
       " '2009-04-16,151.479996,151.990005,145.559998,146.929993,2263300.0,146.929993,FSLR',\n",
       " '2009-04-17,43.669998,45.080002,43.200001,44.75,4144800.0,17.715564,ETN',\n",
       " '2009-04-23,72.980003,75.699997,71.690002,74.040001,3905100.0,50.366698,DO',\n",
       " '2009-04-28,52.91,55.869999,52.68,54.02,1750700.0,43.334005,FRT',\n",
       " '2009-05-05,16.209999,16.290001,15.96,16.18,5625400.0,11.608841,PBCT',\n",
       " '2009-05-06,32.689999,33.279999,32.16,33.09,2964000.0,16.368389,GPN',\n",
       " '2009-05-07,14.210004,14.430002,12.949998,13.190001,9551500.0,10.509932,IP',\n",
       " '2009-05-13,3.57,3.64,3.41,3.41,3.93015E7,33.673231,C',\n",
       " '2009-05-14,15.27,15.63,15.15,15.23,1603600.0,7.615,LKQ',\n",
       " '2009-05-15,11.93,12.1,11.85,11.94,1.8765E7,11.305428,EMC',\n",
       " '2009-05-15,29.0,29.75,28.49,28.879999,6559000.0,23.928946,PCAR',\n",
       " '2009-05-20,51.869999,52.5,51.540001,52.060001,8536000.0,42.004151,PEP',\n",
       " '2009-05-20,36.610001,36.759998,34.259998,34.549999,7.70739E7,29.40678,JPM',\n",
       " '2009-05-20,23.780001,24.34,22.9,22.969999,5822400.0,16.094911,EQR',\n",
       " '2009-05-27,29.940001,30.0,28.959999,28.99,1.3756E7,26.216193,CVS',\n",
       " '2009-05-29,45.040001,45.139999,44.41,45.110001,1993800.0,22.555,DVA',\n",
       " '2009-06-03,35.419998,35.630001,35.040001,35.279999,1132700.0,28.287308,GPC',\n",
       " '2009-06-08,47.400002,47.84,46.959999,47.529999,3293000.0,39.486897,COST',\n",
       " '2009-06-11,33.900002,34.23,32.790001,32.970001,2673600.0,25.452293,DRI',\n",
       " '2009-06-11,21.84,22.16,20.9,21.110001,4303600.0,21.110001,URBN',\n",
       " '2009-06-12,13.01,13.14,12.91,13.05,2052900.0,12.159013,TSN',\n",
       " '2009-06-12,34.540001,35.98,34.509998,35.900002,1692300.0,24.568342,HCN',\n",
       " '2009-06-17,21.65,22.049999,21.52,21.66,1386800.0,16.973033,ES',\n",
       " '2009-06-18,16.790001,17.040001,16.299999,16.57,1679000.0,15.74764,KSU',\n",
       " '2009-06-23,18.700001,18.98,18.530001,18.629999,1293100.0,15.100015,AWK',\n",
       " '2009-06-30,69.900002,70.110001,68.529999,69.379997,1202600.0,58.788686,LLL',\n",
       " '2009-07-01,20.139999,20.299999,19.93,20.24,1.30286E7,15.738253,BMY',\n",
       " '2009-07-02,8.91,8.91,8.52,8.52,3383700.0,8.130925,PHM',\n",
       " '2009-07-06,46.610001,47.91,46.580002,47.810001,2317400.0,38.64574,K',\n",
       " '2009-07-06,32.379991,32.70999,31.949999,32.54001,1.92783E7,9.285198,CSX',\n",
       " '2009-07-06,41.560001,41.919998,40.279999,41.790001,7963500.0,39.629017,APC',\n",
       " '2009-07-08,5.55,5.61,5.24,5.35,6.73798E7,4.50742,F',\n",
       " '2009-07-09,38.959999,39.299999,38.310001,38.389999,1.50453E7,32.22533,TGT',\n",
       " '2009-07-13,25.370001,25.49,24.43,25.469999,787000.0,21.754066,R',\n",
       " '2009-07-13,17.209999,17.809999,17.049999,17.77,2002700.0,17.77,ENDP',\n",
       " '2009-07-13,28.619884,29.079882,28.419893,29.04989,1.3777E7,19.265842,VZ',\n",
       " '2009-07-14,29.300011,29.300011,28.829997,29.059989,1233100.0,9.403237,OKE',\n",
       " '2009-07-24,22.309999,23.139999,22.15,22.92,4506500.0,19.793781,HOT',\n",
       " '2009-07-30,39.549999,40.93,39.41,39.759998,1562500.0,28.821324,DLR',\n",
       " '2009-08-04,40.880001,41.189999,40.41,40.900002,1224600.0,40.900002,NFX',\n",
       " '2009-08-06,27.799999,28.43,27.610001,27.85,2682700.0,25.412537,NRG',\n",
       " '2009-08-11,38.099998,38.240002,36.650002,37.52,2502200.0,27.383044,VTR',\n",
       " '2009-08-17,451.500783,451.990773,443.120751,444.890761,5260000.0,222.223157,GOOG',\n",
       " '2009-08-19,57.200001,57.450001,56.360001,56.900002,798200.0,46.2131,FRT',\n",
       " '2009-08-19,25.93,26.209999,25.719999,26.110001,1534500.0,21.214158,HAS',\n",
       " '2009-08-21,21.780001,22.950001,21.219999,22.639999,1.34641E7,20.885568,STI',\n",
       " '2009-08-24,12.19,12.32,11.99,12.05,4540400.0,11.708531,SWKS',\n",
       " '2009-08-25,55.490002,56.459999,55.25,55.779999,2172800.0,22.555449,ETN',\n",
       " '2009-08-26,24.209999,24.59,23.98,24.190001,2608200.0,24.190001,ADSK',\n",
       " '2009-08-27,28.74,29.030001,28.120001,28.459999,1582600.0,28.459999,URBN',\n",
       " '2009-08-31,34.169998,34.34,33.450001,34.279999,2747900.0,31.200866,WDC',\n",
       " '2009-09-08,60.77,60.77,59.990002,60.57,8792600.0,48.830849,JNJ',\n",
       " ...]"
      ]
     },
     "execution_count": 162,
     "metadata": {},
     "output_type": "execute_result"
    }
   ],
   "source": [
    "content.split(\"\\n\")"
   ]
  },
  {
   "cell_type": "code",
   "execution_count": 163,
   "metadata": {},
   "outputs": [],
   "source": [
    "f.close()"
   ]
  },
  {
   "cell_type": "code",
   "execution_count": null,
   "metadata": {},
   "outputs": [],
   "source": [
    "\n",
    "\n",
    "\n",
    "\n",
    "\n",
    "\n",
    "\n",
    "\n",
    "\n",
    "\n",
    "\n",
    "\n",
    "\n",
    "\n",
    "\n"
   ]
  },
  {
   "cell_type": "code",
   "execution_count": 182,
   "metadata": {},
   "outputs": [],
   "source": [
    "class NegativeAmoountException(Exception):\n",
    "    pass\n",
    "\n",
    "class InsufficientAmountException(Exception):\n",
    "    pass"
   ]
  },
  {
   "cell_type": "code",
   "execution_count": 164,
   "metadata": {},
   "outputs": [],
   "source": [
    "with open(r\"/data/stocks.small.csv\", mode=\"r\", encoding=\"utf-8\") as f:\n",
    "    content = f.read()\n",
    "    \n",
    "lines = content.split(\"\\n\") "
   ]
  },
  {
   "cell_type": "code",
   "execution_count": 195,
   "metadata": {},
   "outputs": [
    {
     "name": "stdout",
     "output_type": "stream",
     "text": [
      "Insufficient Amount in the account \n"
     ]
    },
    {
     "data": {
      "text/plain": [
       "(Id: 1 Name: user 01, amount: 20,\n",
       " Id: 2 Name: user 02, amount: 0,\n",
       " Id: 3 Name: user 02, amount: 0)"
      ]
     },
     "execution_count": 195,
     "metadata": {},
     "output_type": "execute_result"
    }
   ],
   "source": [
    "class BankAccount():\n",
    "    \n",
    "    account_ids = [] # static member\n",
    "    \n",
    "    @staticmethod\n",
    "    def generate_id():\n",
    "        if len(BankAccount.account_ids) == 0:\n",
    "            max_id = 0\n",
    "        else:\n",
    "            max_id = max(BankAccount.account_ids)\n",
    "        max_id += 1\n",
    "        BankAccount.account_ids.append(max_id)\n",
    "        return max_id\n",
    "        \n",
    "    \n",
    "    def __init__(self, name, amount = 0):\n",
    "        self.account_id = BankAccount.generate_id()\n",
    "        self.name = name\n",
    "        self.amount = amount\n",
    "        \n",
    "    def __repr__(self):\n",
    "        return f\"Id: {self.account_id} Name: {self.name}, amount: {self.amount}\"\n",
    "    \n",
    "    def withdraw(self, amount):\n",
    "        if amount <=0: \n",
    "            raise NegativeAmoountException(\"Withdrawal amount must be positive\")\n",
    "        if amount > self.amount:\n",
    "            raise InsufficientAmountException()\n",
    "        self.amount -= amount\n",
    "        \n",
    "    def deposit(self, amount):\n",
    "        if amount <=0: \n",
    "            raise NegativeAmoountException(\"Deposit amount must be positive\")\n",
    "        self.amount += amount\n",
    "        \n",
    "account1 = BankAccount(\"user 01\")\n",
    "account2 = BankAccount(\"user 02\")\n",
    "account3 = BankAccount(\"user 02\")\n",
    "\n",
    "account1.deposit(100)\n",
    "account1.withdraw(80)\n",
    "try:\n",
    "    account1.withdraw(80)\n",
    "except InsufficientAmountException as e:\n",
    "    print(\"Insufficient Amount in the account \")\n",
    "finally:\n",
    "    pass\n",
    "account1, account2, account3"
   ]
  },
  {
   "cell_type": "code",
   "execution_count": 175,
   "metadata": {},
   "outputs": [
    {
     "data": {
      "text/plain": [
       "dict"
      ]
     },
     "execution_count": 175,
     "metadata": {},
     "output_type": "execute_result"
    }
   ],
   "source": [
    "type(account1.__dict__)"
   ]
  },
  {
   "cell_type": "code",
   "execution_count": 176,
   "metadata": {},
   "outputs": [
    {
     "data": {
      "text/plain": [
       "{'name': 'user 01', 'amount': 20}"
      ]
     },
     "execution_count": 176,
     "metadata": {},
     "output_type": "execute_result"
    }
   ],
   "source": [
    "account1.__dict__"
   ]
  },
  {
   "cell_type": "code",
   "execution_count": 196,
   "metadata": {},
   "outputs": [],
   "source": [
    "account1.age= 30"
   ]
  },
  {
   "cell_type": "code",
   "execution_count": 197,
   "metadata": {},
   "outputs": [
    {
     "data": {
      "text/plain": [
       "{'account_id': 1, 'name': 'user 01', 'amount': 20, 'age': 30}"
      ]
     },
     "execution_count": 197,
     "metadata": {},
     "output_type": "execute_result"
    }
   ],
   "source": [
    "account1.__dict__"
   ]
  },
  {
   "cell_type": "code",
   "execution_count": null,
   "metadata": {},
   "outputs": [],
   "source": []
  }
 ],
 "metadata": {
  "kernelspec": {
   "display_name": "Python 3",
   "language": "python",
   "name": "python3"
  },
  "language_info": {
   "codemirror_mode": {
    "name": "ipython",
    "version": 3
   },
   "file_extension": ".py",
   "mimetype": "text/x-python",
   "name": "python",
   "nbconvert_exporter": "python",
   "pygments_lexer": "ipython3",
   "version": "3.7.4"
  }
 },
 "nbformat": 4,
 "nbformat_minor": 2
}
