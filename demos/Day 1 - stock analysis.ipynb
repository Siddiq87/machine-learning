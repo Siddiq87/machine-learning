{
 "cells": [
  {
   "cell_type": "code",
   "execution_count": 1,
   "metadata": {},
   "outputs": [],
   "source": [
    "with open(r\"/data/stocks.small.csv\") as f:\n",
    "    content = f.read()\n",
    "    lines = content.split(\"\\n\")"
   ]
  },
  {
   "cell_type": "code",
   "execution_count": 2,
   "metadata": {},
   "outputs": [
    {
     "data": {
      "text/plain": [
       "['date,open,high,low,close,volume,adjclose,symbol',\n",
       " '2000-07-18,144.8125,144.828125,141.4375,143.0,5.06836E7,50.155473,INTC',\n",
       " '2000-07-20,32.93751,34.25001,32.8125,33.75,3288300.0,8.789734,BEN',\n",
       " '2000-07-24,64.25,67.312477,64.187523,64.75,948800.0,7.689567,APH',\n",
       " '2000-07-26,21.875,22.125,20.9375,20.9375,1464300.0,15.61832,SHW',\n",
       " '2000-07-26,42.0,42.312481,41.625,41.875,1397600.0,9.402721,STJ',\n",
       " '2000-07-31,33.937519,33.999986,33.75,33.875011,273400.0,5.063753,GGP',\n",
       " '2000-08-07,41.375038,43.0,40.812481,42.812481,2.43376E7,4.869542,SBUX',\n",
       " '2000-08-09,55.562481,55.625,54.5,55.0,387600.0,10.495977,EQT',\n",
       " '2000-08-10,49.0,52.625,48.75,52.125,1511600.0,22.539051,BCR']"
      ]
     },
     "execution_count": 2,
     "metadata": {},
     "output_type": "execute_result"
    }
   ],
   "source": [
    "lines[:10]"
   ]
  },
  {
   "cell_type": "code",
   "execution_count": 3,
   "metadata": {},
   "outputs": [
    {
     "data": {
      "text/plain": [
       "1848"
      ]
     },
     "execution_count": 3,
     "metadata": {},
     "output_type": "execute_result"
    }
   ],
   "source": [
    "len(lines)"
   ]
  },
  {
   "cell_type": "code",
   "execution_count": 5,
   "metadata": {},
   "outputs": [
    {
     "data": {
      "text/plain": [
       "1847"
      ]
     },
     "execution_count": 5,
     "metadata": {},
     "output_type": "execute_result"
    }
   ],
   "source": [
    "data = lines[1:]\n",
    "len(data)"
   ]
  },
  {
   "cell_type": "code",
   "execution_count": 6,
   "metadata": {},
   "outputs": [
    {
     "data": {
      "text/plain": [
       "1"
      ]
     },
     "execution_count": 6,
     "metadata": {},
     "output_type": "execute_result"
    }
   ],
   "source": [
    "len([line for line in data if len(line) == 0])"
   ]
  },
  {
   "cell_type": "code",
   "execution_count": 7,
   "metadata": {},
   "outputs": [
    {
     "data": {
      "text/plain": [
       "1846"
      ]
     },
     "execution_count": 7,
     "metadata": {},
     "output_type": "execute_result"
    }
   ],
   "source": [
    "data = lines[1:]\n",
    "data = [line for line in data if len(line) > 0]\n",
    "len(data)"
   ]
  },
  {
   "cell_type": "code",
   "execution_count": 9,
   "metadata": {},
   "outputs": [],
   "source": [
    "unique_symbols = set()\n",
    "for line in data:\n",
    "    symbol = line.split(\",\")[-1]\n",
    "    unique_symbols.add(symbol)"
   ]
  },
  {
   "cell_type": "code",
   "execution_count": 11,
   "metadata": {},
   "outputs": [
    {
     "data": {
      "text/plain": [
       "471"
      ]
     },
     "execution_count": 11,
     "metadata": {},
     "output_type": "execute_result"
    }
   ],
   "source": [
    "len(unique_symbols)"
   ]
  },
  {
   "cell_type": "code",
   "execution_count": 18,
   "metadata": {},
   "outputs": [],
   "source": [
    "count_by_symbol = {}\n",
    "\n",
    "for line in data:\n",
    "    symbol = line.split(\",\")[-1]\n",
    "    if symbol in count_by_symbol:\n",
    "        count_by_symbol[symbol] += 1\n",
    "    else:\n",
    "        count_by_symbol[symbol] = 1\n",
    "\n"
   ]
  },
  {
   "cell_type": "code",
   "execution_count": 21,
   "metadata": {
    "scrolled": false
   },
   "outputs": [
    {
     "data": {
      "text/plain": [
       "[('UPS', 11),\n",
       " ('ZBH', 11),\n",
       " ('K', 10),\n",
       " ('FLIR', 9),\n",
       " ('KR', 9),\n",
       " ('COF', 9),\n",
       " ('PHM', 9),\n",
       " ('D', 9),\n",
       " ('NKE', 8),\n",
       " ('NUE', 8)]"
      ]
     },
     "execution_count": 21,
     "metadata": {},
     "output_type": "execute_result"
    }
   ],
   "source": [
    "counts = list(count_by_symbol.items())\n",
    "counts.sort(key = lambda p: p[1], reverse = True)\n",
    "counts[:10]"
   ]
  },
  {
   "cell_type": "code",
   "execution_count": 22,
   "metadata": {},
   "outputs": [
    {
     "data": {
      "text/plain": [
       "'date,open,high,low,close,volume,adjclose,symbol'"
      ]
     },
     "execution_count": 22,
     "metadata": {},
     "output_type": "execute_result"
    }
   ],
   "source": [
    "lines[0]"
   ]
  },
  {
   "cell_type": "code",
   "execution_count": 28,
   "metadata": {
    "scrolled": false
   },
   "outputs": [
    {
     "data": {
      "text/plain": [
       "\"{'INTC': [50683600.0, 76656300.0, 99681400.0, 70452900.0], 'BEN': [3288300.0, 1246500.0, 2503500.0, 5225400.0, 2376600.0, 5262000.0], 'APH': [948800.0, 1146800.0, 2624500.0], 'SHW': [1464300.0, 970300.0, 1488500.0, 571700.0, 649000.0], 'STJ': [1397600.0, 1332100.0, 1294300.0], 'GGP': [273400.0, 7133\""
      ]
     },
     "execution_count": 28,
     "metadata": {},
     "output_type": "execute_result"
    }
   ],
   "source": [
    "volumes_by_symbol = {} # key: sybol, value: list of volume\n",
    "for line in data:\n",
    "    parts = line.split(\",\")\n",
    "    symbol = parts[-1]\n",
    "    volume = float(parts[5])\n",
    "    \n",
    "    if symbol in volumes_by_symbol:\n",
    "        volumes_by_symbol[symbol].append(volume)\n",
    "    else:\n",
    "        volumes_by_symbol[symbol] = [volume]\n",
    "\n",
    "str(volumes_by_symbol)[:300]"
   ]
  },
  {
   "cell_type": "code",
   "execution_count": 29,
   "metadata": {},
   "outputs": [],
   "source": [
    "def avg(values):\n",
    "    return sum(values)/len(values)"
   ]
  },
  {
   "cell_type": "code",
   "execution_count": 34,
   "metadata": {
    "scrolled": false
   },
   "outputs": [
    {
     "data": {
      "text/plain": [
       "\"{'INTC': 74368550.0, 'BEN': 3317050.0, 'APH': 1573366.6666666667, 'SHW': 1028760.0, 'STJ': 1341333.3333333333, 'GGP': 961020.0, 'SBUX': 21040233.333333332, 'EQT': 988628.5714285715, 'BCR': 1557300.0, 'NKE': 13730375.0, 'IPG': 3774960.0, 'EXC': 4272625.0, 'BXP': 561860.0, 'BIIB': 2678871.4285714286, \""
      ]
     },
     "execution_count": 34,
     "metadata": {},
     "output_type": "execute_result"
    }
   ],
   "source": [
    "avg_volume_by_symbol = {}\n",
    "for symbol in volumes_by_symbol:\n",
    "    avg_volume_by_symbol[symbol] = avg(volumes_by_symbol[symbol]) \n",
    "\n",
    "str(avg_volume_by_symbol)[:300]"
   ]
  },
  {
   "cell_type": "code",
   "execution_count": 32,
   "metadata": {},
   "outputs": [
    {
     "data": {
      "text/plain": [
       "74368550.0"
      ]
     },
     "execution_count": 32,
     "metadata": {},
     "output_type": "execute_result"
    }
   ],
   "source": [
    "sum([50683600.0, 76656300.0, 99681400.0, 70452900.0])/4"
   ]
  },
  {
   "cell_type": "code",
   "execution_count": 35,
   "metadata": {},
   "outputs": [
    {
     "data": {
      "text/plain": [
       "'date,open,high,low,close,volume,adjclose,symbol'"
      ]
     },
     "execution_count": 35,
     "metadata": {},
     "output_type": "execute_result"
    }
   ],
   "source": [
    "lines[0]"
   ]
  },
  {
   "cell_type": "code",
   "execution_count": 36,
   "metadata": {},
   "outputs": [
    {
     "data": {
      "text/plain": [
       "['2000-07-18,144.8125,144.828125,141.4375,143.0,5.06836E7,50.155473,INTC',\n",
       " '2000-07-20,32.93751,34.25001,32.8125,33.75,3288300.0,8.789734,BEN',\n",
       " '2000-07-24,64.25,67.312477,64.187523,64.75,948800.0,7.689567,APH',\n",
       " '2000-07-26,21.875,22.125,20.9375,20.9375,1464300.0,15.61832,SHW',\n",
       " '2000-07-26,42.0,42.312481,41.625,41.875,1397600.0,9.402721,STJ',\n",
       " '2000-07-31,33.937519,33.999986,33.75,33.875011,273400.0,5.063753,GGP',\n",
       " '2000-08-07,41.375038,43.0,40.812481,42.812481,2.43376E7,4.869542,SBUX',\n",
       " '2000-08-09,55.562481,55.625,54.5,55.0,387600.0,10.495977,EQT',\n",
       " '2000-08-10,49.0,52.625,48.75,52.125,1511600.0,22.539051,BCR',\n",
       " '2000-08-15,35.68749,35.68749,34.875,34.875,1246500.0,9.082726,BEN']"
      ]
     },
     "execution_count": 36,
     "metadata": {},
     "output_type": "execute_result"
    }
   ],
   "source": [
    "data[:10]"
   ]
  },
  {
   "cell_type": "code",
   "execution_count": 37,
   "metadata": {},
   "outputs": [],
   "source": [
    "from datetime import datetime"
   ]
  },
  {
   "cell_type": "code",
   "execution_count": 39,
   "metadata": {},
   "outputs": [
    {
     "data": {
      "text/plain": [
       "datetime.datetime(2019, 5, 27, 0, 0)"
      ]
     },
     "execution_count": 39,
     "metadata": {},
     "output_type": "execute_result"
    }
   ],
   "source": [
    "date = datetime.strptime(\"2019-05-27\", \"%Y-%m-%d\")\n",
    "\n",
    "date"
   ]
  },
  {
   "cell_type": "code",
   "execution_count": 40,
   "metadata": {},
   "outputs": [
    {
     "data": {
      "text/plain": [
       "1"
      ]
     },
     "execution_count": 40,
     "metadata": {},
     "output_type": "execute_result"
    }
   ],
   "source": [
    "date.isoweekday()"
   ]
  },
  {
   "cell_type": "code",
   "execution_count": 42,
   "metadata": {},
   "outputs": [
    {
     "data": {
      "text/plain": [
       "'Monday'"
      ]
     },
     "execution_count": 42,
     "metadata": {},
     "output_type": "execute_result"
    }
   ],
   "source": [
    "datetime.strftime(date, \"%A\")"
   ]
  },
  {
   "cell_type": "code",
   "execution_count": 43,
   "metadata": {},
   "outputs": [],
   "source": [
    "weekdays  = []\n",
    "for line in data:\n",
    "    parts = line.split(\",\")\n",
    "    date_part = parts[0]\n",
    "    date = datetime.strptime(date_part, \"%Y-%m-%d\")\n",
    "    weekday = datetime.strftime(date, \"%A\")\n",
    "    weekdays.append(weekday)"
   ]
  },
  {
   "cell_type": "code",
   "execution_count": 45,
   "metadata": {},
   "outputs": [],
   "source": [
    "from collections import Counter"
   ]
  },
  {
   "cell_type": "code",
   "execution_count": 46,
   "metadata": {
    "scrolled": false
   },
   "outputs": [
    {
     "data": {
      "text/plain": [
       "Counter({'Tuesday': 348,\n",
       "         'Thursday': 374,\n",
       "         'Monday': 361,\n",
       "         'Wednesday': 393,\n",
       "         'Friday': 370})"
      ]
     },
     "execution_count": 46,
     "metadata": {},
     "output_type": "execute_result"
    }
   ],
   "source": [
    "Counter(weekdays)"
   ]
  },
  {
   "cell_type": "code",
   "execution_count": 47,
   "metadata": {},
   "outputs": [
    {
     "data": {
      "text/plain": [
       "'date,open,high,low,close,volume,adjclose,symbol'"
      ]
     },
     "execution_count": 47,
     "metadata": {},
     "output_type": "execute_result"
    }
   ],
   "source": [
    "lines[0]"
   ]
  },
  {
   "cell_type": "code",
   "execution_count": 54,
   "metadata": {
    "scrolled": false
   },
   "outputs": [
    {
     "data": {
      "text/plain": [
       "\"[('ISRG', 1.1797124031999042), ('HP', -4.85114905628), ('AMG', -4.464489147566356), ('K', 1.2226344169823338), ('MSFT', -1.5189329559289726), ('RSG', 0.38751311573997677), ('ETFC', -1.9463710230808242), ('ROK', 1.1406413429462963), ('MMM', 0.3419348387096798), ('MKC', 0.45129775346830575), ('NWS', -\""
      ]
     },
     "execution_count": 54,
     "metadata": {},
     "output_type": "execute_result"
    }
   ],
   "source": [
    "pct_change = []\n",
    "for line in data:\n",
    "    if line.startswith(\"2016\"): \n",
    "        parts = line.split(\",\")\n",
    "        symbol = parts[-1]\n",
    "        open_price = float(parts[1])\n",
    "        close_price = float(parts[4])\n",
    "        pct = (close_price - open_price) * 100 / open_price\n",
    "        pct_change.append((symbol, pct))\n",
    "str(pct_change)[:300]"
   ]
  },
  {
   "cell_type": "code",
   "execution_count": 55,
   "metadata": {},
   "outputs": [],
   "source": [
    "pct_change.sort(key = lambda p: p[1], reverse=True)"
   ]
  },
  {
   "cell_type": "code",
   "execution_count": 56,
   "metadata": {
    "scrolled": false
   },
   "outputs": [
    {
     "data": {
      "text/plain": [
       "\"[('WYNN', 5.2083301219662195), ('ALK', 3.867928727813826), ('CAT', 3.235981077745779), ('COP', 3.1759743852349542), ('LYB', 2.960526315789474), ('MNK', 2.294520469365731), ('GT', 2.2581732389619082), ('JEC', 2.0283529828129523), ('AYI', 1.685869374913212), ('MDT', 1.5815489175045656), ('EIX', 1.5812\""
      ]
     },
     "execution_count": 56,
     "metadata": {},
     "output_type": "execute_result"
    }
   ],
   "source": [
    "str(pct_change)[:300]"
   ]
  },
  {
   "cell_type": "code",
   "execution_count": null,
   "metadata": {},
   "outputs": [],
   "source": []
  }
 ],
 "metadata": {
  "kernelspec": {
   "display_name": "Python 3",
   "language": "python",
   "name": "python3"
  },
  "language_info": {
   "codemirror_mode": {
    "name": "ipython",
    "version": 3
   },
   "file_extension": ".py",
   "mimetype": "text/x-python",
   "name": "python",
   "nbconvert_exporter": "python",
   "pygments_lexer": "ipython3",
   "version": "3.7.3"
  }
 },
 "nbformat": 4,
 "nbformat_minor": 2
}
