{
 "cells": [
  {
   "cell_type": "markdown",
   "metadata": {},
   "source": [
    "# Dataset: Social media data \n",
    "\n",
    "https://github.com/abulbasar/data/blob/master/snsdata.csv?raw=true\n",
    "         \n",
    "- Use 36 features - \"basketball\", \"football\" … \"drunk\", \"drugs\" (these columns indicate how many times a user has used these words in her profile) and apply K-Means clustering to group the profiles into 5 clusters\n",
    "- Find the number of users in each cluster and mean distance with each cluster.\n",
    "- Which cluster is the most dense in terms of average distance.\n",
    "- How many anomalies are there?\n",
    "- For each cluster, find the top 3 dominant features."
   ]
  },
  {
   "cell_type": "code",
   "execution_count": 1,
   "metadata": {},
   "outputs": [],
   "source": [
    "import pandas as pd\n",
    "import numpy as np\n",
    "import matplotlib.pyplot as plt\n",
    "from sklearn import *\n",
    "\n",
    "%matplotlib inline"
   ]
  },
  {
   "cell_type": "code",
   "execution_count": 2,
   "metadata": {},
   "outputs": [
    {
     "data": {
      "text/html": [
       "<div>\n",
       "<style scoped>\n",
       "    .dataframe tbody tr th:only-of-type {\n",
       "        vertical-align: middle;\n",
       "    }\n",
       "\n",
       "    .dataframe tbody tr th {\n",
       "        vertical-align: top;\n",
       "    }\n",
       "\n",
       "    .dataframe thead th {\n",
       "        text-align: right;\n",
       "    }\n",
       "</style>\n",
       "<table border=\"1\" class=\"dataframe\">\n",
       "  <thead>\n",
       "    <tr style=\"text-align: right;\">\n",
       "      <th></th>\n",
       "      <th>gradyear</th>\n",
       "      <th>gender</th>\n",
       "      <th>age</th>\n",
       "      <th>friends</th>\n",
       "      <th>basketball</th>\n",
       "      <th>football</th>\n",
       "      <th>soccer</th>\n",
       "      <th>softball</th>\n",
       "      <th>volleyball</th>\n",
       "      <th>swimming</th>\n",
       "      <th>...</th>\n",
       "      <th>blonde</th>\n",
       "      <th>mall</th>\n",
       "      <th>shopping</th>\n",
       "      <th>clothes</th>\n",
       "      <th>hollister</th>\n",
       "      <th>abercrombie</th>\n",
       "      <th>die</th>\n",
       "      <th>death</th>\n",
       "      <th>drunk</th>\n",
       "      <th>drugs</th>\n",
       "    </tr>\n",
       "  </thead>\n",
       "  <tbody>\n",
       "    <tr>\n",
       "      <th>0</th>\n",
       "      <td>2006</td>\n",
       "      <td>M</td>\n",
       "      <td>18.982</td>\n",
       "      <td>7</td>\n",
       "      <td>0</td>\n",
       "      <td>0</td>\n",
       "      <td>0</td>\n",
       "      <td>0</td>\n",
       "      <td>0</td>\n",
       "      <td>0</td>\n",
       "      <td>...</td>\n",
       "      <td>0</td>\n",
       "      <td>0</td>\n",
       "      <td>0</td>\n",
       "      <td>0</td>\n",
       "      <td>0</td>\n",
       "      <td>0</td>\n",
       "      <td>0</td>\n",
       "      <td>0</td>\n",
       "      <td>0</td>\n",
       "      <td>0</td>\n",
       "    </tr>\n",
       "    <tr>\n",
       "      <th>1</th>\n",
       "      <td>2006</td>\n",
       "      <td>F</td>\n",
       "      <td>18.801</td>\n",
       "      <td>0</td>\n",
       "      <td>0</td>\n",
       "      <td>1</td>\n",
       "      <td>0</td>\n",
       "      <td>0</td>\n",
       "      <td>0</td>\n",
       "      <td>0</td>\n",
       "      <td>...</td>\n",
       "      <td>0</td>\n",
       "      <td>1</td>\n",
       "      <td>0</td>\n",
       "      <td>0</td>\n",
       "      <td>0</td>\n",
       "      <td>0</td>\n",
       "      <td>0</td>\n",
       "      <td>0</td>\n",
       "      <td>0</td>\n",
       "      <td>0</td>\n",
       "    </tr>\n",
       "    <tr>\n",
       "      <th>2</th>\n",
       "      <td>2006</td>\n",
       "      <td>M</td>\n",
       "      <td>18.335</td>\n",
       "      <td>69</td>\n",
       "      <td>0</td>\n",
       "      <td>1</td>\n",
       "      <td>0</td>\n",
       "      <td>0</td>\n",
       "      <td>0</td>\n",
       "      <td>0</td>\n",
       "      <td>...</td>\n",
       "      <td>0</td>\n",
       "      <td>0</td>\n",
       "      <td>0</td>\n",
       "      <td>0</td>\n",
       "      <td>0</td>\n",
       "      <td>0</td>\n",
       "      <td>0</td>\n",
       "      <td>1</td>\n",
       "      <td>0</td>\n",
       "      <td>0</td>\n",
       "    </tr>\n",
       "    <tr>\n",
       "      <th>3</th>\n",
       "      <td>2006</td>\n",
       "      <td>F</td>\n",
       "      <td>18.875</td>\n",
       "      <td>0</td>\n",
       "      <td>0</td>\n",
       "      <td>0</td>\n",
       "      <td>0</td>\n",
       "      <td>0</td>\n",
       "      <td>0</td>\n",
       "      <td>0</td>\n",
       "      <td>...</td>\n",
       "      <td>0</td>\n",
       "      <td>0</td>\n",
       "      <td>0</td>\n",
       "      <td>0</td>\n",
       "      <td>0</td>\n",
       "      <td>0</td>\n",
       "      <td>0</td>\n",
       "      <td>0</td>\n",
       "      <td>0</td>\n",
       "      <td>0</td>\n",
       "    </tr>\n",
       "    <tr>\n",
       "      <th>4</th>\n",
       "      <td>2006</td>\n",
       "      <td>NaN</td>\n",
       "      <td>18.995</td>\n",
       "      <td>10</td>\n",
       "      <td>0</td>\n",
       "      <td>0</td>\n",
       "      <td>0</td>\n",
       "      <td>0</td>\n",
       "      <td>0</td>\n",
       "      <td>0</td>\n",
       "      <td>...</td>\n",
       "      <td>0</td>\n",
       "      <td>0</td>\n",
       "      <td>2</td>\n",
       "      <td>0</td>\n",
       "      <td>0</td>\n",
       "      <td>0</td>\n",
       "      <td>0</td>\n",
       "      <td>0</td>\n",
       "      <td>1</td>\n",
       "      <td>1</td>\n",
       "    </tr>\n",
       "  </tbody>\n",
       "</table>\n",
       "<p>5 rows × 40 columns</p>\n",
       "</div>"
      ],
      "text/plain": [
       "   gradyear gender     age  friends  basketball  football  soccer  softball  \\\n",
       "0      2006      M  18.982        7           0         0       0         0   \n",
       "1      2006      F  18.801        0           0         1       0         0   \n",
       "2      2006      M  18.335       69           0         1       0         0   \n",
       "3      2006      F  18.875        0           0         0       0         0   \n",
       "4      2006    NaN  18.995       10           0         0       0         0   \n",
       "\n",
       "   volleyball  swimming  ...    blonde  mall  shopping  clothes  hollister  \\\n",
       "0           0         0  ...         0     0         0        0          0   \n",
       "1           0         0  ...         0     1         0        0          0   \n",
       "2           0         0  ...         0     0         0        0          0   \n",
       "3           0         0  ...         0     0         0        0          0   \n",
       "4           0         0  ...         0     0         2        0          0   \n",
       "\n",
       "   abercrombie  die  death  drunk  drugs  \n",
       "0            0    0      0      0      0  \n",
       "1            0    0      0      0      0  \n",
       "2            0    0      1      0      0  \n",
       "3            0    0      0      0      0  \n",
       "4            0    0      0      1      1  \n",
       "\n",
       "[5 rows x 40 columns]"
      ]
     },
     "execution_count": 2,
     "metadata": {},
     "output_type": "execute_result"
    }
   ],
   "source": [
    "df = pd.read_csv(\"https://github.com/abulbasar/data/blob/master/snsdata.csv?raw=true\")\n",
    "df.head()"
   ]
  },
  {
   "cell_type": "markdown",
   "metadata": {},
   "source": [
    "Proportion of male/female profiles in the dataset"
   ]
  },
  {
   "cell_type": "code",
   "execution_count": 3,
   "metadata": {},
   "outputs": [
    {
     "data": {
      "text/plain": [
       "F    0.735133\n",
       "M    0.174067\n",
       "Name: gender, dtype: float64"
      ]
     },
     "execution_count": 3,
     "metadata": {},
     "output_type": "execute_result"
    }
   ],
   "source": [
    "df.gender.value_counts()/len(df)"
   ]
  },
  {
   "cell_type": "code",
   "execution_count": 4,
   "metadata": {},
   "outputs": [],
   "source": [
    "features = df.columns[4:]"
   ]
  },
  {
   "cell_type": "code",
   "execution_count": 5,
   "metadata": {},
   "outputs": [
    {
     "data": {
      "image/png": "[encoded data removed]",
      "text/plain": [
       "<Figure size 576x432 with 2 Axes>"
      ]
     },
     "metadata": {
      "needs_background": "light"
     },
     "output_type": "display_data"
    }
   ],
   "source": [
    "X = df[features] * 1.0\n",
    "a = X.values.flatten()\n",
    "\n",
    "fig, _ = plt.subplots(2, 1, figsize = (8, 6))\n",
    "axes = fig.axes \n",
    "\n",
    "axes[0].hist(X.values.flatten(), bins = 50, log = True);\n",
    "axes[0].set_title(\"Histogram of frequencies\")\n",
    "axes[1].boxplot(a, vert = False);\n",
    "axes[1].set_title(\"Boxplot of frequencies\")\n",
    "plt.tight_layout()\n"
   ]
  },
  {
   "cell_type": "code",
   "execution_count": 6,
   "metadata": {},
   "outputs": [
    {
     "data": {
      "text/plain": [
       "(1080000,)"
      ]
     },
     "execution_count": 6,
     "metadata": {},
     "output_type": "execute_result"
    }
   ],
   "source": [
    "a.shape"
   ]
  },
  {
   "cell_type": "markdown",
   "metadata": {},
   "source": [
    "How many records are there for which count is greater than 20."
   ]
  },
  {
   "cell_type": "code",
   "execution_count": 7,
   "metadata": {},
   "outputs": [
    {
     "data": {
      "text/plain": [
       "(52,)"
      ]
     },
     "execution_count": 7,
     "metadata": {},
     "output_type": "execute_result"
    }
   ],
   "source": [
    "a[a>20].shape"
   ]
  },
  {
   "cell_type": "markdown",
   "metadata": {},
   "source": [
    "Clip the count values beyond 50."
   ]
  },
  {
   "cell_type": "code",
   "execution_count": 8,
   "metadata": {},
   "outputs": [
    {
     "data": {
      "image/png": "[encoded data removed]",
      "text/plain": [
       "<Figure size 432x288 with 1 Axes>"
      ]
     },
     "metadata": {
      "needs_background": "light"
     },
     "output_type": "display_data"
    }
   ],
   "source": [
    "X_clipped = np.clip(X.values, a_min=0, a_max=50)\n",
    "plt.hist(X_clipped.flatten(), log=True, bins = 50);"
   ]
  },
  {
   "cell_type": "markdown",
   "metadata": {},
   "source": [
    "Before applying KMeans, standarized the values."
   ]
  },
  {
   "cell_type": "code",
   "execution_count": 9,
   "metadata": {},
   "outputs": [],
   "source": [
    "scaler = preprocessing.MinMaxScaler()\n",
    "X_std = scaler.fit_transform(X_clipped)\n"
   ]
  },
  {
   "cell_type": "markdown",
   "metadata": {},
   "source": [
    "Set the number of clusters to k=5."
   ]
  },
  {
   "cell_type": "code",
   "execution_count": 10,
   "metadata": {},
   "outputs": [],
   "source": [
    "k = 5"
   ]
  },
  {
   "cell_type": "code",
   "execution_count": 11,
   "metadata": {},
   "outputs": [
    {
     "data": {
      "text/plain": [
       "KMeans(algorithm='auto', copy_x=True, init='k-means++', max_iter=300,\n",
       "    n_clusters=5, n_init=10, n_jobs=None, precompute_distances='auto',\n",
       "    random_state=1, tol=0.0001, verbose=0)"
      ]
     },
     "execution_count": 11,
     "metadata": {},
     "output_type": "execute_result"
    }
   ],
   "source": [
    "kmeans = cluster.KMeans(n_clusters=k, random_state=1)\n",
    "kmeans.fit(X_std)"
   ]
  },
  {
   "cell_type": "markdown",
   "metadata": {},
   "source": [
    "Predict cluster for each point based on the KMeans model."
   ]
  },
  {
   "cell_type": "code",
   "execution_count": 12,
   "metadata": {},
   "outputs": [],
   "source": [
    "y_pred = kmeans.predict(X_std)"
   ]
  },
  {
   "cell_type": "markdown",
   "metadata": {},
   "source": [
    "Centroids of the clusters in the normal scale (using scaler.inverse_transform)."
   ]
  },
  {
   "cell_type": "code",
   "execution_count": 13,
   "metadata": {},
   "outputs": [
    {
     "data": {
      "text/html": [
       "<div>\n",
       "<style scoped>\n",
       "    .dataframe tbody tr th:only-of-type {\n",
       "        vertical-align: middle;\n",
       "    }\n",
       "\n",
       "    .dataframe tbody tr th {\n",
       "        vertical-align: top;\n",
       "    }\n",
       "\n",
       "    .dataframe thead th {\n",
       "        text-align: right;\n",
       "    }\n",
       "</style>\n",
       "<table border=\"1\" class=\"dataframe\">\n",
       "  <thead>\n",
       "    <tr style=\"text-align: right;\">\n",
       "      <th></th>\n",
       "      <th>0</th>\n",
       "      <th>1</th>\n",
       "      <th>2</th>\n",
       "      <th>3</th>\n",
       "      <th>4</th>\n",
       "    </tr>\n",
       "  </thead>\n",
       "  <tbody>\n",
       "    <tr>\n",
       "      <th>basketball</th>\n",
       "      <td>2.185926e-01</td>\n",
       "      <td>0.449442</td>\n",
       "      <td>0.436441</td>\n",
       "      <td>0.412173</td>\n",
       "      <td>0.282163</td>\n",
       "    </tr>\n",
       "    <tr>\n",
       "      <th>football</th>\n",
       "      <td>2.111973e-01</td>\n",
       "      <td>0.377216</td>\n",
       "      <td>0.549435</td>\n",
       "      <td>0.360555</td>\n",
       "      <td>0.273462</td>\n",
       "    </tr>\n",
       "    <tr>\n",
       "      <th>soccer</th>\n",
       "      <td>1.931401e-01</td>\n",
       "      <td>0.367695</td>\n",
       "      <td>0.264124</td>\n",
       "      <td>0.276194</td>\n",
       "      <td>0.249845</td>\n",
       "    </tr>\n",
       "    <tr>\n",
       "      <th>softball</th>\n",
       "      <td>1.303934e-01</td>\n",
       "      <td>0.288903</td>\n",
       "      <td>0.238701</td>\n",
       "      <td>0.251541</td>\n",
       "      <td>0.161591</td>\n",
       "    </tr>\n",
       "    <tr>\n",
       "      <th>volleyball</th>\n",
       "      <td>1.103398e-01</td>\n",
       "      <td>0.342416</td>\n",
       "      <td>0.211864</td>\n",
       "      <td>0.181818</td>\n",
       "      <td>0.122436</td>\n",
       "    </tr>\n",
       "    <tr>\n",
       "      <th>swimming</th>\n",
       "      <td>1.041695e-01</td>\n",
       "      <td>0.267892</td>\n",
       "      <td>0.189266</td>\n",
       "      <td>0.202234</td>\n",
       "      <td>0.162213</td>\n",
       "    </tr>\n",
       "    <tr>\n",
       "      <th>cheerleading</th>\n",
       "      <td>3.017104e-02</td>\n",
       "      <td>0.085686</td>\n",
       "      <td>2.888418</td>\n",
       "      <td>0.058937</td>\n",
       "      <td>0.046613</td>\n",
       "    </tr>\n",
       "    <tr>\n",
       "      <th>baseball</th>\n",
       "      <td>9.568531e-02</td>\n",
       "      <td>0.119829</td>\n",
       "      <td>0.185028</td>\n",
       "      <td>0.143297</td>\n",
       "      <td>0.106277</td>\n",
       "    </tr>\n",
       "    <tr>\n",
       "      <th>tennis</th>\n",
       "      <td>7.817250e-02</td>\n",
       "      <td>0.136901</td>\n",
       "      <td>0.076271</td>\n",
       "      <td>0.108629</td>\n",
       "      <td>0.089497</td>\n",
       "    </tr>\n",
       "    <tr>\n",
       "      <th>sports</th>\n",
       "      <td>1.191870e-01</td>\n",
       "      <td>0.175312</td>\n",
       "      <td>0.168079</td>\n",
       "      <td>0.223421</td>\n",
       "      <td>0.210690</td>\n",
       "    </tr>\n",
       "    <tr>\n",
       "      <th>cute</th>\n",
       "      <td>2.137834e-01</td>\n",
       "      <td>0.800394</td>\n",
       "      <td>0.576271</td>\n",
       "      <td>0.556626</td>\n",
       "      <td>0.424487</td>\n",
       "    </tr>\n",
       "    <tr>\n",
       "      <th>sex</th>\n",
       "      <td>1.215916e-01</td>\n",
       "      <td>0.266907</td>\n",
       "      <td>0.300847</td>\n",
       "      <td>0.447612</td>\n",
       "      <td>0.839030</td>\n",
       "    </tr>\n",
       "    <tr>\n",
       "      <th>sexy</th>\n",
       "      <td>1.156935e-01</td>\n",
       "      <td>0.186146</td>\n",
       "      <td>0.203390</td>\n",
       "      <td>0.208783</td>\n",
       "      <td>0.269111</td>\n",
       "    </tr>\n",
       "    <tr>\n",
       "      <th>hot</th>\n",
       "      <td>8.343542e-02</td>\n",
       "      <td>0.314183</td>\n",
       "      <td>0.251412</td>\n",
       "      <td>0.211479</td>\n",
       "      <td>0.170914</td>\n",
       "    </tr>\n",
       "    <tr>\n",
       "      <th>kissed</th>\n",
       "      <td>4.645887e-02</td>\n",
       "      <td>0.136573</td>\n",
       "      <td>0.189266</td>\n",
       "      <td>0.325886</td>\n",
       "      <td>0.420137</td>\n",
       "    </tr>\n",
       "    <tr>\n",
       "      <th>dance</th>\n",
       "      <td>3.249399e-01</td>\n",
       "      <td>0.832239</td>\n",
       "      <td>0.668079</td>\n",
       "      <td>0.661017</td>\n",
       "      <td>0.540087</td>\n",
       "    </tr>\n",
       "    <tr>\n",
       "      <th>band</th>\n",
       "      <td>2.689079e-01</td>\n",
       "      <td>0.338805</td>\n",
       "      <td>0.261299</td>\n",
       "      <td>0.433359</td>\n",
       "      <td>0.436917</td>\n",
       "    </tr>\n",
       "    <tr>\n",
       "      <th>marching</th>\n",
       "      <td>3.978948e-02</td>\n",
       "      <td>0.040053</td>\n",
       "      <td>0.024011</td>\n",
       "      <td>0.053929</td>\n",
       "      <td>0.038533</td>\n",
       "    </tr>\n",
       "    <tr>\n",
       "      <th>music</th>\n",
       "      <td>6.345901e-01</td>\n",
       "      <td>0.984570</td>\n",
       "      <td>0.748588</td>\n",
       "      <td>1.137519</td>\n",
       "      <td>1.026725</td>\n",
       "    </tr>\n",
       "    <tr>\n",
       "      <th>rock</th>\n",
       "      <td>1.959076e-01</td>\n",
       "      <td>0.345043</td>\n",
       "      <td>0.360169</td>\n",
       "      <td>0.389445</td>\n",
       "      <td>0.413300</td>\n",
       "    </tr>\n",
       "    <tr>\n",
       "      <th>god</th>\n",
       "      <td>4.086475e-01</td>\n",
       "      <td>0.561064</td>\n",
       "      <td>0.608757</td>\n",
       "      <td>0.610555</td>\n",
       "      <td>0.743319</td>\n",
       "    </tr>\n",
       "    <tr>\n",
       "      <th>church</th>\n",
       "      <td>1.971780e-01</td>\n",
       "      <td>0.468155</td>\n",
       "      <td>0.365819</td>\n",
       "      <td>0.379815</td>\n",
       "      <td>0.266004</td>\n",
       "    </tr>\n",
       "    <tr>\n",
       "      <th>jesus</th>\n",
       "      <td>1.033075e-01</td>\n",
       "      <td>0.149048</td>\n",
       "      <td>0.115819</td>\n",
       "      <td>0.135978</td>\n",
       "      <td>0.121815</td>\n",
       "    </tr>\n",
       "    <tr>\n",
       "      <th>bible</th>\n",
       "      <td>1.851096e-02</td>\n",
       "      <td>0.021668</td>\n",
       "      <td>0.026836</td>\n",
       "      <td>0.036210</td>\n",
       "      <td>0.032940</td>\n",
       "    </tr>\n",
       "    <tr>\n",
       "      <th>hair</th>\n",
       "      <td>2.422758e-01</td>\n",
       "      <td>0.754760</td>\n",
       "      <td>0.661017</td>\n",
       "      <td>1.065485</td>\n",
       "      <td>1.121193</td>\n",
       "    </tr>\n",
       "    <tr>\n",
       "      <th>dress</th>\n",
       "      <td>5.784674e-02</td>\n",
       "      <td>0.387722</td>\n",
       "      <td>0.146893</td>\n",
       "      <td>0.194530</td>\n",
       "      <td>0.164077</td>\n",
       "    </tr>\n",
       "    <tr>\n",
       "      <th>blonde</th>\n",
       "      <td>5.389955e-02</td>\n",
       "      <td>0.166776</td>\n",
       "      <td>0.289548</td>\n",
       "      <td>0.173344</td>\n",
       "      <td>0.211311</td>\n",
       "    </tr>\n",
       "    <tr>\n",
       "      <th>mall</th>\n",
       "      <td>1.259471e-01</td>\n",
       "      <td>1.013132</td>\n",
       "      <td>0.418079</td>\n",
       "      <td>0.397535</td>\n",
       "      <td>0.330019</td>\n",
       "    </tr>\n",
       "    <tr>\n",
       "      <th>shopping</th>\n",
       "      <td>1.407831e-01</td>\n",
       "      <td>1.778070</td>\n",
       "      <td>0.707627</td>\n",
       "      <td>0.439137</td>\n",
       "      <td>0.267247</td>\n",
       "    </tr>\n",
       "    <tr>\n",
       "      <th>clothes</th>\n",
       "      <td>7.291390e-14</td>\n",
       "      <td>0.174327</td>\n",
       "      <td>0.217514</td>\n",
       "      <td>1.355162</td>\n",
       "      <td>0.156619</td>\n",
       "    </tr>\n",
       "    <tr>\n",
       "      <th>hollister</th>\n",
       "      <td>3.039789e-02</td>\n",
       "      <td>0.253775</td>\n",
       "      <td>0.211864</td>\n",
       "      <td>0.151772</td>\n",
       "      <td>0.067744</td>\n",
       "    </tr>\n",
       "    <tr>\n",
       "      <th>abercrombie</th>\n",
       "      <td>2.146001e-02</td>\n",
       "      <td>0.192055</td>\n",
       "      <td>0.158192</td>\n",
       "      <td>0.100924</td>\n",
       "      <td>0.064015</td>\n",
       "    </tr>\n",
       "    <tr>\n",
       "      <th>die</th>\n",
       "      <td>1.455923e-01</td>\n",
       "      <td>0.223572</td>\n",
       "      <td>0.190678</td>\n",
       "      <td>0.287365</td>\n",
       "      <td>0.467371</td>\n",
       "    </tr>\n",
       "    <tr>\n",
       "      <th>death</th>\n",
       "      <td>9.305385e-02</td>\n",
       "      <td>0.155942</td>\n",
       "      <td>0.127119</td>\n",
       "      <td>0.167180</td>\n",
       "      <td>0.234307</td>\n",
       "    </tr>\n",
       "    <tr>\n",
       "      <th>drunk</th>\n",
       "      <td>-3.529121e-14</td>\n",
       "      <td>0.048260</td>\n",
       "      <td>0.086158</td>\n",
       "      <td>0.050847</td>\n",
       "      <td>1.428838</td>\n",
       "    </tr>\n",
       "    <tr>\n",
       "      <th>drugs</th>\n",
       "      <td>3.026178e-02</td>\n",
       "      <td>0.073867</td>\n",
       "      <td>0.081921</td>\n",
       "      <td>0.124037</td>\n",
       "      <td>0.336234</td>\n",
       "    </tr>\n",
       "  </tbody>\n",
       "</table>\n",
       "</div>"
      ],
      "text/plain": [
       "                         0         1         2         3         4\n",
       "basketball    2.185926e-01  0.449442  0.436441  0.412173  0.282163\n",
       "football      2.111973e-01  0.377216  0.549435  0.360555  0.273462\n",
       "soccer        1.931401e-01  0.367695  0.264124  0.276194  0.249845\n",
       "softball      1.303934e-01  0.288903  0.238701  0.251541  0.161591\n",
       "volleyball    1.103398e-01  0.342416  0.211864  0.181818  0.122436\n",
       "swimming      1.041695e-01  0.267892  0.189266  0.202234  0.162213\n",
       "cheerleading  3.017104e-02  0.085686  2.888418  0.058937  0.046613\n",
       "baseball      9.568531e-02  0.119829  0.185028  0.143297  0.106277\n",
       "tennis        7.817250e-02  0.136901  0.076271  0.108629  0.089497\n",
       "sports        1.191870e-01  0.175312  0.168079  0.223421  0.210690\n",
       "cute          2.137834e-01  0.800394  0.576271  0.556626  0.424487\n",
       "sex           1.215916e-01  0.266907  0.300847  0.447612  0.839030\n",
       "sexy          1.156935e-01  0.186146  0.203390  0.208783  0.269111\n",
       "hot           8.343542e-02  0.314183  0.251412  0.211479  0.170914\n",
       "kissed        4.645887e-02  0.136573  0.189266  0.325886  0.420137\n",
       "dance         3.249399e-01  0.832239  0.668079  0.661017  0.540087\n",
       "band          2.689079e-01  0.338805  0.261299  0.433359  0.436917\n",
       "marching      3.978948e-02  0.040053  0.024011  0.053929  0.038533\n",
       "music         6.345901e-01  0.984570  0.748588  1.137519  1.026725\n",
       "rock          1.959076e-01  0.345043  0.360169  0.389445  0.413300\n",
       "god           4.086475e-01  0.561064  0.608757  0.610555  0.743319\n",
       "church        1.971780e-01  0.468155  0.365819  0.379815  0.266004\n",
       "jesus         1.033075e-01  0.149048  0.115819  0.135978  0.121815\n",
       "bible         1.851096e-02  0.021668  0.026836  0.036210  0.032940\n",
       "hair          2.422758e-01  0.754760  0.661017  1.065485  1.121193\n",
       "dress         5.784674e-02  0.387722  0.146893  0.194530  0.164077\n",
       "blonde        5.389955e-02  0.166776  0.289548  0.173344  0.211311\n",
       "mall          1.259471e-01  1.013132  0.418079  0.397535  0.330019\n",
       "shopping      1.407831e-01  1.778070  0.707627  0.439137  0.267247\n",
       "clothes       7.291390e-14  0.174327  0.217514  1.355162  0.156619\n",
       "hollister     3.039789e-02  0.253775  0.211864  0.151772  0.067744\n",
       "abercrombie   2.146001e-02  0.192055  0.158192  0.100924  0.064015\n",
       "die           1.455923e-01  0.223572  0.190678  0.287365  0.467371\n",
       "death         9.305385e-02  0.155942  0.127119  0.167180  0.234307\n",
       "drunk        -3.529121e-14  0.048260  0.086158  0.050847  1.428838\n",
       "drugs         3.026178e-02  0.073867  0.081921  0.124037  0.336234"
      ]
     },
     "execution_count": 13,
     "metadata": {},
     "output_type": "execute_result"
    }
   ],
   "source": [
    "centroids = pd.DataFrame(scaler.inverse_transform(kmeans.cluster_centers_), columns=features)\n",
    "centroids.T"
   ]
  },
  {
   "cell_type": "markdown",
   "metadata": {},
   "source": [
    "For first cluster, find top 10 the most dominant features based on the magnitude."
   ]
  },
  {
   "cell_type": "code",
   "execution_count": 14,
   "metadata": {},
   "outputs": [
    {
     "data": {
      "text/plain": [
       "music         0.634590\n",
       "god           0.408648\n",
       "dance         0.324940\n",
       "band          0.268908\n",
       "hair          0.242276\n",
       "basketball    0.218593\n",
       "cute          0.213783\n",
       "football      0.211197\n",
       "church        0.197178\n",
       "rock          0.195908\n",
       "Name: 0, dtype: float64"
      ]
     },
     "execution_count": 14,
     "metadata": {},
     "output_type": "execute_result"
    }
   ],
   "source": [
    "centroids.iloc[0, :].T.sort_values(ascending = False)[:10]"
   ]
  },
  {
   "cell_type": "markdown",
   "metadata": {},
   "source": [
    "For first cluster, music, god, dance, hair etc. are dominant features. Let's see the dominant features in the other clusters."
   ]
  },
  {
   "cell_type": "code",
   "execution_count": 15,
   "metadata": {},
   "outputs": [
    {
     "data": {
      "text/plain": [
       "shopping      1.778070\n",
       "mall          1.013132\n",
       "music         0.984570\n",
       "dance         0.832239\n",
       "cute          0.800394\n",
       "hair          0.754760\n",
       "god           0.561064\n",
       "church        0.468155\n",
       "basketball    0.449442\n",
       "dress         0.387722\n",
       "Name: 1, dtype: float64"
      ]
     },
     "execution_count": 15,
     "metadata": {},
     "output_type": "execute_result"
    }
   ],
   "source": [
    "centroids.iloc[1, :].T.sort_values(ascending = False)[:10]"
   ]
  },
  {
   "cell_type": "code",
   "execution_count": 16,
   "metadata": {},
   "outputs": [
    {
     "data": {
      "text/plain": [
       "cheerleading    2.888418\n",
       "music           0.748588\n",
       "shopping        0.707627\n",
       "dance           0.668079\n",
       "hair            0.661017\n",
       "god             0.608757\n",
       "cute            0.576271\n",
       "football        0.549435\n",
       "basketball      0.436441\n",
       "mall            0.418079\n",
       "Name: 2, dtype: float64"
      ]
     },
     "execution_count": 16,
     "metadata": {},
     "output_type": "execute_result"
    }
   ],
   "source": [
    "centroids.iloc[2, :].T.sort_values(ascending = False)[:10]"
   ]
  },
  {
   "cell_type": "code",
   "execution_count": 17,
   "metadata": {},
   "outputs": [
    {
     "data": {
      "text/plain": [
       "clothes       1.355162\n",
       "music         1.137519\n",
       "hair          1.065485\n",
       "dance         0.661017\n",
       "god           0.610555\n",
       "cute          0.556626\n",
       "sex           0.447612\n",
       "shopping      0.439137\n",
       "band          0.433359\n",
       "basketball    0.412173\n",
       "Name: 3, dtype: float64"
      ]
     },
     "execution_count": 17,
     "metadata": {},
     "output_type": "execute_result"
    }
   ],
   "source": [
    "centroids.iloc[3, :].T.sort_values(ascending = False)[:10]"
   ]
  },
  {
   "cell_type": "code",
   "execution_count": 18,
   "metadata": {},
   "outputs": [
    {
     "data": {
      "text/plain": [
       "drunk     1.428838\n",
       "hair      1.121193\n",
       "music     1.026725\n",
       "sex       0.839030\n",
       "god       0.743319\n",
       "dance     0.540087\n",
       "die       0.467371\n",
       "band      0.436917\n",
       "cute      0.424487\n",
       "kissed    0.420137\n",
       "Name: 4, dtype: float64"
      ]
     },
     "execution_count": 18,
     "metadata": {},
     "output_type": "execute_result"
    }
   ],
   "source": [
    "centroids.iloc[4, :].T.sort_values(ascending = False)[:10]"
   ]
  },
  {
   "cell_type": "markdown",
   "metadata": {},
   "source": [
    "As music and god are common in top 10 for each cluster, we can drop these features and retry the clustering. "
   ]
  },
  {
   "cell_type": "markdown",
   "metadata": {},
   "source": [
    "Find the density of each cluster. Calculate the avg distance of a point and its closes centroid."
   ]
  },
  {
   "cell_type": "code",
   "execution_count": 19,
   "metadata": {},
   "outputs": [
    {
     "data": {
      "text/html": [
       "<div>\n",
       "<style scoped>\n",
       "    .dataframe tbody tr th:only-of-type {\n",
       "        vertical-align: middle;\n",
       "    }\n",
       "\n",
       "    .dataframe tbody tr th {\n",
       "        vertical-align: top;\n",
       "    }\n",
       "\n",
       "    .dataframe thead th {\n",
       "        text-align: right;\n",
       "    }\n",
       "</style>\n",
       "<table border=\"1\" class=\"dataframe\">\n",
       "  <thead>\n",
       "    <tr style=\"text-align: right;\">\n",
       "      <th></th>\n",
       "      <th>gradyear</th>\n",
       "      <th>gender</th>\n",
       "      <th>age</th>\n",
       "      <th>friends</th>\n",
       "      <th>basketball</th>\n",
       "      <th>football</th>\n",
       "      <th>soccer</th>\n",
       "      <th>softball</th>\n",
       "      <th>volleyball</th>\n",
       "      <th>swimming</th>\n",
       "      <th>...</th>\n",
       "      <th>shopping</th>\n",
       "      <th>clothes</th>\n",
       "      <th>hollister</th>\n",
       "      <th>abercrombie</th>\n",
       "      <th>die</th>\n",
       "      <th>death</th>\n",
       "      <th>drunk</th>\n",
       "      <th>drugs</th>\n",
       "      <th>cluster</th>\n",
       "      <th>distance</th>\n",
       "    </tr>\n",
       "  </thead>\n",
       "  <tbody>\n",
       "    <tr>\n",
       "      <th>16893</th>\n",
       "      <td>2008</td>\n",
       "      <td>F</td>\n",
       "      <td>16.364</td>\n",
       "      <td>0</td>\n",
       "      <td>0</td>\n",
       "      <td>0</td>\n",
       "      <td>0</td>\n",
       "      <td>0</td>\n",
       "      <td>0</td>\n",
       "      <td>0</td>\n",
       "      <td>...</td>\n",
       "      <td>0</td>\n",
       "      <td>0</td>\n",
       "      <td>0</td>\n",
       "      <td>0</td>\n",
       "      <td>0</td>\n",
       "      <td>0</td>\n",
       "      <td>0</td>\n",
       "      <td>0</td>\n",
       "      <td>0</td>\n",
       "      <td>0.046323</td>\n",
       "    </tr>\n",
       "    <tr>\n",
       "      <th>18432</th>\n",
       "      <td>2008</td>\n",
       "      <td>F</td>\n",
       "      <td>16.690</td>\n",
       "      <td>23</td>\n",
       "      <td>0</td>\n",
       "      <td>0</td>\n",
       "      <td>0</td>\n",
       "      <td>1</td>\n",
       "      <td>0</td>\n",
       "      <td>0</td>\n",
       "      <td>...</td>\n",
       "      <td>1</td>\n",
       "      <td>0</td>\n",
       "      <td>0</td>\n",
       "      <td>0</td>\n",
       "      <td>0</td>\n",
       "      <td>0</td>\n",
       "      <td>1</td>\n",
       "      <td>0</td>\n",
       "      <td>4</td>\n",
       "      <td>0.305214</td>\n",
       "    </tr>\n",
       "    <tr>\n",
       "      <th>2962</th>\n",
       "      <td>2006</td>\n",
       "      <td>M</td>\n",
       "      <td>17.960</td>\n",
       "      <td>51</td>\n",
       "      <td>0</td>\n",
       "      <td>0</td>\n",
       "      <td>0</td>\n",
       "      <td>0</td>\n",
       "      <td>0</td>\n",
       "      <td>0</td>\n",
       "      <td>...</td>\n",
       "      <td>0</td>\n",
       "      <td>0</td>\n",
       "      <td>0</td>\n",
       "      <td>0</td>\n",
       "      <td>0</td>\n",
       "      <td>0</td>\n",
       "      <td>0</td>\n",
       "      <td>0</td>\n",
       "      <td>0</td>\n",
       "      <td>0.043324</td>\n",
       "    </tr>\n",
       "    <tr>\n",
       "      <th>6076</th>\n",
       "      <td>2006</td>\n",
       "      <td>F</td>\n",
       "      <td>18.319</td>\n",
       "      <td>54</td>\n",
       "      <td>0</td>\n",
       "      <td>0</td>\n",
       "      <td>0</td>\n",
       "      <td>0</td>\n",
       "      <td>0</td>\n",
       "      <td>1</td>\n",
       "      <td>...</td>\n",
       "      <td>0</td>\n",
       "      <td>0</td>\n",
       "      <td>0</td>\n",
       "      <td>0</td>\n",
       "      <td>0</td>\n",
       "      <td>0</td>\n",
       "      <td>0</td>\n",
       "      <td>0</td>\n",
       "      <td>0</td>\n",
       "      <td>0.109869</td>\n",
       "    </tr>\n",
       "    <tr>\n",
       "      <th>14262</th>\n",
       "      <td>2007</td>\n",
       "      <td>M</td>\n",
       "      <td>18.215</td>\n",
       "      <td>14</td>\n",
       "      <td>0</td>\n",
       "      <td>0</td>\n",
       "      <td>0</td>\n",
       "      <td>0</td>\n",
       "      <td>0</td>\n",
       "      <td>0</td>\n",
       "      <td>...</td>\n",
       "      <td>0</td>\n",
       "      <td>0</td>\n",
       "      <td>0</td>\n",
       "      <td>0</td>\n",
       "      <td>0</td>\n",
       "      <td>0</td>\n",
       "      <td>1</td>\n",
       "      <td>0</td>\n",
       "      <td>4</td>\n",
       "      <td>0.107005</td>\n",
       "    </tr>\n",
       "    <tr>\n",
       "      <th>16646</th>\n",
       "      <td>2008</td>\n",
       "      <td>M</td>\n",
       "      <td>16.304</td>\n",
       "      <td>0</td>\n",
       "      <td>0</td>\n",
       "      <td>0</td>\n",
       "      <td>0</td>\n",
       "      <td>0</td>\n",
       "      <td>0</td>\n",
       "      <td>0</td>\n",
       "      <td>...</td>\n",
       "      <td>1</td>\n",
       "      <td>0</td>\n",
       "      <td>0</td>\n",
       "      <td>0</td>\n",
       "      <td>0</td>\n",
       "      <td>1</td>\n",
       "      <td>0</td>\n",
       "      <td>0</td>\n",
       "      <td>0</td>\n",
       "      <td>0.123572</td>\n",
       "    </tr>\n",
       "    <tr>\n",
       "      <th>26571</th>\n",
       "      <td>2009</td>\n",
       "      <td>F</td>\n",
       "      <td>16.085</td>\n",
       "      <td>30</td>\n",
       "      <td>0</td>\n",
       "      <td>0</td>\n",
       "      <td>0</td>\n",
       "      <td>0</td>\n",
       "      <td>0</td>\n",
       "      <td>0</td>\n",
       "      <td>...</td>\n",
       "      <td>0</td>\n",
       "      <td>0</td>\n",
       "      <td>0</td>\n",
       "      <td>0</td>\n",
       "      <td>0</td>\n",
       "      <td>0</td>\n",
       "      <td>0</td>\n",
       "      <td>0</td>\n",
       "      <td>0</td>\n",
       "      <td>0.082439</td>\n",
       "    </tr>\n",
       "    <tr>\n",
       "      <th>20107</th>\n",
       "      <td>2008</td>\n",
       "      <td>F</td>\n",
       "      <td>16.528</td>\n",
       "      <td>119</td>\n",
       "      <td>1</td>\n",
       "      <td>0</td>\n",
       "      <td>0</td>\n",
       "      <td>1</td>\n",
       "      <td>0</td>\n",
       "      <td>0</td>\n",
       "      <td>...</td>\n",
       "      <td>0</td>\n",
       "      <td>0</td>\n",
       "      <td>0</td>\n",
       "      <td>0</td>\n",
       "      <td>1</td>\n",
       "      <td>0</td>\n",
       "      <td>2</td>\n",
       "      <td>1</td>\n",
       "      <td>4</td>\n",
       "      <td>0.294885</td>\n",
       "    </tr>\n",
       "    <tr>\n",
       "      <th>13933</th>\n",
       "      <td>2007</td>\n",
       "      <td>NaN</td>\n",
       "      <td>NaN</td>\n",
       "      <td>8</td>\n",
       "      <td>0</td>\n",
       "      <td>0</td>\n",
       "      <td>0</td>\n",
       "      <td>0</td>\n",
       "      <td>0</td>\n",
       "      <td>1</td>\n",
       "      <td>...</td>\n",
       "      <td>1</td>\n",
       "      <td>0</td>\n",
       "      <td>0</td>\n",
       "      <td>0</td>\n",
       "      <td>0</td>\n",
       "      <td>0</td>\n",
       "      <td>0</td>\n",
       "      <td>0</td>\n",
       "      <td>1</td>\n",
       "      <td>0.233036</td>\n",
       "    </tr>\n",
       "    <tr>\n",
       "      <th>12905</th>\n",
       "      <td>2007</td>\n",
       "      <td>M</td>\n",
       "      <td>17.695</td>\n",
       "      <td>16</td>\n",
       "      <td>0</td>\n",
       "      <td>0</td>\n",
       "      <td>1</td>\n",
       "      <td>0</td>\n",
       "      <td>0</td>\n",
       "      <td>0</td>\n",
       "      <td>...</td>\n",
       "      <td>0</td>\n",
       "      <td>0</td>\n",
       "      <td>0</td>\n",
       "      <td>0</td>\n",
       "      <td>0</td>\n",
       "      <td>0</td>\n",
       "      <td>0</td>\n",
       "      <td>0</td>\n",
       "      <td>0</td>\n",
       "      <td>0.087391</td>\n",
       "    </tr>\n",
       "  </tbody>\n",
       "</table>\n",
       "<p>10 rows × 42 columns</p>\n",
       "</div>"
      ],
      "text/plain": [
       "       gradyear gender     age  friends  basketball  football  soccer  \\\n",
       "16893      2008      F  16.364        0           0         0       0   \n",
       "18432      2008      F  16.690       23           0         0       0   \n",
       "2962       2006      M  17.960       51           0         0       0   \n",
       "6076       2006      F  18.319       54           0         0       0   \n",
       "14262      2007      M  18.215       14           0         0       0   \n",
       "16646      2008      M  16.304        0           0         0       0   \n",
       "26571      2009      F  16.085       30           0         0       0   \n",
       "20107      2008      F  16.528      119           1         0       0   \n",
       "13933      2007    NaN     NaN        8           0         0       0   \n",
       "12905      2007      M  17.695       16           0         0       1   \n",
       "\n",
       "       softball  volleyball  swimming    ...     shopping  clothes  hollister  \\\n",
       "16893         0           0         0    ...            0        0          0   \n",
       "18432         1           0         0    ...            1        0          0   \n",
       "2962          0           0         0    ...            0        0          0   \n",
       "6076          0           0         1    ...            0        0          0   \n",
       "14262         0           0         0    ...            0        0          0   \n",
       "16646         0           0         0    ...            1        0          0   \n",
       "26571         0           0         0    ...            0        0          0   \n",
       "20107         1           0         0    ...            0        0          0   \n",
       "13933         0           0         1    ...            1        0          0   \n",
       "12905         0           0         0    ...            0        0          0   \n",
       "\n",
       "       abercrombie  die  death  drunk  drugs  cluster  distance  \n",
       "16893            0    0      0      0      0        0  0.046323  \n",
       "18432            0    0      0      1      0        4  0.305214  \n",
       "2962             0    0      0      0      0        0  0.043324  \n",
       "6076             0    0      0      0      0        0  0.109869  \n",
       "14262            0    0      0      1      0        4  0.107005  \n",
       "16646            0    0      1      0      0        0  0.123572  \n",
       "26571            0    0      0      0      0        0  0.082439  \n",
       "20107            0    1      0      2      1        4  0.294885  \n",
       "13933            0    0      0      0      0        1  0.233036  \n",
       "12905            0    0      0      0      0        0  0.087391  \n",
       "\n",
       "[10 rows x 42 columns]"
      ]
     },
     "execution_count": 19,
     "metadata": {},
     "output_type": "execute_result"
    }
   ],
   "source": [
    "df[\"cluster\"] = y_pred\n",
    "\n",
    "distances = np.zeros(len(y_pred))\n",
    "for i in range(k):\n",
    "    center = kmeans.cluster_centers_[i]\n",
    "    distances[y_pred == i] = metrics.euclidean_distances(X_std[y_pred == i]\n",
    "                                                        , center.reshape(1, -1)).squeeze()\n",
    "df[\"distance\"] = distances\n",
    "df.sample(10)"
   ]
  },
  {
   "cell_type": "code",
   "execution_count": 20,
   "metadata": {},
   "outputs": [
    {
     "data": {
      "text/html": [
       "<div>\n",
       "<style scoped>\n",
       "    .dataframe tbody tr th:only-of-type {\n",
       "        vertical-align: middle;\n",
       "    }\n",
       "\n",
       "    .dataframe tbody tr th {\n",
       "        vertical-align: top;\n",
       "    }\n",
       "\n",
       "    .dataframe thead th {\n",
       "        text-align: right;\n",
       "    }\n",
       "</style>\n",
       "<table border=\"1\" class=\"dataframe\">\n",
       "  <thead>\n",
       "    <tr style=\"text-align: right;\">\n",
       "      <th>gender</th>\n",
       "      <th>F</th>\n",
       "      <th>M</th>\n",
       "    </tr>\n",
       "    <tr>\n",
       "      <th>cluster</th>\n",
       "      <th></th>\n",
       "      <th></th>\n",
       "    </tr>\n",
       "  </thead>\n",
       "  <tbody>\n",
       "    <tr>\n",
       "      <th>0</th>\n",
       "      <td>0.131036</td>\n",
       "      <td>0.126245</td>\n",
       "    </tr>\n",
       "    <tr>\n",
       "      <th>1</th>\n",
       "      <td>0.281103</td>\n",
       "      <td>0.333438</td>\n",
       "    </tr>\n",
       "    <tr>\n",
       "      <th>2</th>\n",
       "      <td>0.260543</td>\n",
       "      <td>0.266780</td>\n",
       "    </tr>\n",
       "    <tr>\n",
       "      <th>3</th>\n",
       "      <td>0.231254</td>\n",
       "      <td>0.225874</td>\n",
       "    </tr>\n",
       "    <tr>\n",
       "      <th>4</th>\n",
       "      <td>0.232222</td>\n",
       "      <td>0.205003</td>\n",
       "    </tr>\n",
       "  </tbody>\n",
       "</table>\n",
       "</div>"
      ],
      "text/plain": [
       "gender          F         M\n",
       "cluster                    \n",
       "0        0.131036  0.126245\n",
       "1        0.281103  0.333438\n",
       "2        0.260543  0.266780\n",
       "3        0.231254  0.225874\n",
       "4        0.232222  0.205003"
      ]
     },
     "execution_count": 20,
     "metadata": {},
     "output_type": "execute_result"
    }
   ],
   "source": [
    "df.pivot_table(\"distance\", \"cluster\", \"gender\", aggfunc=\"mean\")"
   ]
  },
  {
   "cell_type": "markdown",
   "metadata": {},
   "source": [
    "Let's find the anomalies in the features depending the distance of the profile from its centroid. Using Box Whisker method, identify the outliers."
   ]
  },
  {
   "cell_type": "code",
   "execution_count": 21,
   "metadata": {},
   "outputs": [],
   "source": [
    "def find_outliers(a):\n",
    "    q1, q2, q3 = np.percentile(a, [25, 50, 75])\n",
    "    iqr = q3 - q1\n",
    "    lower_whisker = max(q1 - 1.5 * iqr, np.min(a))\n",
    "    upper_whisker = min(q3 + 1.5 * iqr, np.max(a))\n",
    "    q1, q2, q3, iqr, lower_whisker, upper_whisker\n",
    "    is_outlier = (a < lower_whisker) | (a > upper_whisker)\n",
    "    return is_outlier"
   ]
  },
  {
   "cell_type": "code",
   "execution_count": 22,
   "metadata": {},
   "outputs": [
    {
     "data": {
      "text/plain": [
       "((1543, 42), (30000, 42))"
      ]
     },
     "execution_count": 22,
     "metadata": {},
     "output_type": "execute_result"
    }
   ],
   "source": [
    "anamolies = df[find_outliers(df.distance)]\n",
    "anamolies.shape, df.shape"
   ]
  },
  {
   "cell_type": "code",
   "execution_count": 23,
   "metadata": {},
   "outputs": [
    {
     "data": {
      "text/plain": [
       "<matplotlib.axes._subplots.AxesSubplot at 0x1a27bde860>"
      ]
     },
     "execution_count": 23,
     "metadata": {},
     "output_type": "execute_result"
    },
    {
     "data": {
      "image/png": "[encoded data removed]",
      "text/plain": [
       "<Figure size 432x288 with 1 Axes>"
      ]
     },
     "metadata": {
      "needs_background": "light"
     },
     "output_type": "display_data"
    }
   ],
   "source": [
    "df.distance.plot.hist(bins = 50, log = True)"
   ]
  },
  {
   "cell_type": "markdown",
   "metadata": {},
   "source": [
    "Apply dendo-gram (hierarchical clustering) "
   ]
  },
  {
   "cell_type": "code",
   "execution_count": 24,
   "metadata": {},
   "outputs": [],
   "source": [
    "from scipy.cluster.hierarchy import linkage, dendrogram"
   ]
  },
  {
   "cell_type": "code",
   "execution_count": 25,
   "metadata": {
    "scrolled": false
   },
   "outputs": [
    {
     "data": {
      "image/png": "[encoded data removed]",
      "text/plain": [
       "<Figure size 1080x720 with 1 Axes>"
      ]
     },
     "metadata": {
      "needs_background": "light"
     },
     "output_type": "display_data"
    }
   ],
   "source": [
    "plt.figure(figsize = (15, 10))\n",
    "row_clusters = linkage(X_std, method=\"complete\", metric=\"euclidean\")\n",
    "f = dendrogram(row_clusters, p = 5, truncate_mode=\"level\")"
   ]
  },
  {
   "cell_type": "code",
   "execution_count": null,
   "metadata": {},
   "outputs": [],
   "source": []
  }
 ],
 "metadata": {
  "kernelspec": {
   "display_name": "Python 3",
   "language": "python",
   "name": "python3"
  },
  "language_info": {
   "codemirror_mode": {
    "name": "ipython",
    "version": 3
   },
   "file_extension": ".py",
   "mimetype": "text/x-python",
   "name": "python",
   "nbconvert_exporter": "python",
   "pygments_lexer": "ipython3",
   "version": "3.7.4"
  }
 },
 "nbformat": 4,
 "nbformat_minor": 2
}
